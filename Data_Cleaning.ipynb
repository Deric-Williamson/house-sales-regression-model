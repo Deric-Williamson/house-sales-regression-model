{
 "cells": [
  {
   "cell_type": "markdown",
   "metadata": {
    "heading_collapsed": true
   },
   "source": [
    "## Introduction"
   ]
  },
  {
   "cell_type": "markdown",
   "metadata": {},
   "source": [
    "## Importing, Cleaning Data, Removing Outliers, EDAs"
   ]
  },
  {
   "cell_type": "code",
   "execution_count": 1,
   "metadata": {},
   "outputs": [],
   "source": [
    "import pandas as pd\n",
    "import numpy as np"
   ]
  },
  {
   "cell_type": "code",
   "execution_count": 2,
   "metadata": {},
   "outputs": [],
   "source": [
    "#importing libraries for graphing\n",
    "import seaborn as sns\n",
    "import matplotlib.pyplot as plt\n",
    "%matplotlib inline\n",
    "\n",
    "sns.set_theme(style='darkgrid')"
   ]
  },
  {
   "cell_type": "code",
   "execution_count": 3,
   "metadata": {},
   "outputs": [],
   "source": [
    "#importing csv to dataframe\n",
    "df = pd.read_csv('data\\kc_house_data.csv')"
   ]
  },
  {
   "cell_type": "code",
   "execution_count": 4,
   "metadata": {},
   "outputs": [],
   "source": [
    "#filling the nan's with 0, all is categorical columns with the mode being 0.0\n",
    "df['waterfront'] = df['waterfront'].fillna(0.0)\n",
    "df['view'] = df['view'].fillna(0.0)\n",
    "df['yr_renovated'] = df['yr_renovated'].fillna(0.0)\n",
    "\n",
    "df.loc[df['sqft_basement'] == '?'] = 0\n",
    "df['sqft_basement'] = df['sqft_basement'].astype(float).astype(int)"
   ]
  },
  {
   "cell_type": "code",
   "execution_count": 5,
   "metadata": {},
   "outputs": [],
   "source": [
    "# changing columns from float to int\n",
    "col_floats = ['price', 'waterfront', 'view', 'yr_renovated']\n",
    "for col in col_floats:\n",
    "    df[col] = df[col].astype(int)"
   ]
  },
  {
   "cell_type": "code",
   "execution_count": 6,
   "metadata": {},
   "outputs": [],
   "source": [
    "#expanding the date column to a column for each month and year\n",
    "df['date'] = pd.to_datetime(df['date'])\n",
    "df['month_sold'] = df['date'].dt.month\n",
    "df['year_sold'] = df['date'].dt.year"
   ]
  },
  {
   "cell_type": "code",
   "execution_count": 7,
   "metadata": {},
   "outputs": [],
   "source": [
    "#creating seasonal columns\n",
    "df['sold_spring_time'] = df['month_sold'] < 4\n",
    "df['sold_summer_time'] = (df['month_sold'] > 3) & (df['month_sold'] < 7)\n",
    "df['sold_fall_time'] = (df['month_sold'] > 6) & (df['month_sold'] < 10)\n",
    "df['sold_winter_time'] = (df['month_sold'] > 9) & (df['month_sold'] < 13)\n",
    "\n",
    "df['sold_spring_time'] = df['sold_spring_time'].astype(bool).astype(int)\n",
    "df['sold_summer_time'] = df['sold_summer_time'].astype(bool).astype(int)\n",
    "df['sold_fall_time'] = df['sold_fall_time'].astype(bool).astype(int)\n",
    "df['sold_winter_time'] = df['sold_winter_time'].astype(bool).astype(int)"
   ]
  },
  {
   "cell_type": "code",
   "execution_count": 8,
   "metadata": {},
   "outputs": [],
   "source": [
    "#deleting columns not neccesary in dataframe\n",
    "df.drop('date', axis=1, inplace=True)\n",
    "df.drop('id', axis=1, inplace=True)"
   ]
  },
  {
   "cell_type": "code",
   "execution_count": 9,
   "metadata": {},
   "outputs": [],
   "source": [
    "#converting 'yr_renovated' into a boolean\n",
    "df['has_renovated'] = df['yr_renovated'].astype(bool).astype(int)"
   ]
  },
  {
   "cell_type": "code",
   "execution_count": 10,
   "metadata": {
    "scrolled": false
   },
   "outputs": [],
   "source": [
    "df.to_csv('data\\Cleaned_kc_house_data.csv')"
   ]
  },
  {
   "cell_type": "code",
   "execution_count": 11,
   "metadata": {},
   "outputs": [
    {
     "data": {
      "text/html": [
       "<div>\n",
       "<style scoped>\n",
       "    .dataframe tbody tr th:only-of-type {\n",
       "        vertical-align: middle;\n",
       "    }\n",
       "\n",
       "    .dataframe tbody tr th {\n",
       "        vertical-align: top;\n",
       "    }\n",
       "\n",
       "    .dataframe thead th {\n",
       "        text-align: right;\n",
       "    }\n",
       "</style>\n",
       "<table border=\"1\" class=\"dataframe\">\n",
       "  <thead>\n",
       "    <tr style=\"text-align: right;\">\n",
       "      <th></th>\n",
       "      <th>price</th>\n",
       "      <th>bedrooms</th>\n",
       "      <th>bathrooms</th>\n",
       "      <th>sqft_living</th>\n",
       "      <th>sqft_lot</th>\n",
       "      <th>floors</th>\n",
       "      <th>waterfront</th>\n",
       "      <th>view</th>\n",
       "      <th>condition</th>\n",
       "      <th>grade</th>\n",
       "      <th>...</th>\n",
       "      <th>long</th>\n",
       "      <th>sqft_living15</th>\n",
       "      <th>sqft_lot15</th>\n",
       "      <th>month_sold</th>\n",
       "      <th>year_sold</th>\n",
       "      <th>sold_spring_time</th>\n",
       "      <th>sold_summer_time</th>\n",
       "      <th>sold_fall_time</th>\n",
       "      <th>sold_winter_time</th>\n",
       "      <th>has_renovated</th>\n",
       "    </tr>\n",
       "  </thead>\n",
       "  <tbody>\n",
       "    <tr>\n",
       "      <th>0</th>\n",
       "      <td>221900</td>\n",
       "      <td>3</td>\n",
       "      <td>1.00</td>\n",
       "      <td>1180</td>\n",
       "      <td>5650</td>\n",
       "      <td>1.0</td>\n",
       "      <td>0</td>\n",
       "      <td>0</td>\n",
       "      <td>3</td>\n",
       "      <td>7</td>\n",
       "      <td>...</td>\n",
       "      <td>-122.257</td>\n",
       "      <td>1340</td>\n",
       "      <td>5650</td>\n",
       "      <td>10</td>\n",
       "      <td>2014</td>\n",
       "      <td>0</td>\n",
       "      <td>0</td>\n",
       "      <td>0</td>\n",
       "      <td>1</td>\n",
       "      <td>0</td>\n",
       "    </tr>\n",
       "    <tr>\n",
       "      <th>1</th>\n",
       "      <td>538000</td>\n",
       "      <td>3</td>\n",
       "      <td>2.25</td>\n",
       "      <td>2570</td>\n",
       "      <td>7242</td>\n",
       "      <td>2.0</td>\n",
       "      <td>0</td>\n",
       "      <td>0</td>\n",
       "      <td>3</td>\n",
       "      <td>7</td>\n",
       "      <td>...</td>\n",
       "      <td>-122.319</td>\n",
       "      <td>1690</td>\n",
       "      <td>7639</td>\n",
       "      <td>12</td>\n",
       "      <td>2014</td>\n",
       "      <td>0</td>\n",
       "      <td>0</td>\n",
       "      <td>0</td>\n",
       "      <td>1</td>\n",
       "      <td>1</td>\n",
       "    </tr>\n",
       "    <tr>\n",
       "      <th>2</th>\n",
       "      <td>180000</td>\n",
       "      <td>2</td>\n",
       "      <td>1.00</td>\n",
       "      <td>770</td>\n",
       "      <td>10000</td>\n",
       "      <td>1.0</td>\n",
       "      <td>0</td>\n",
       "      <td>0</td>\n",
       "      <td>3</td>\n",
       "      <td>6</td>\n",
       "      <td>...</td>\n",
       "      <td>-122.233</td>\n",
       "      <td>2720</td>\n",
       "      <td>8062</td>\n",
       "      <td>2</td>\n",
       "      <td>2015</td>\n",
       "      <td>1</td>\n",
       "      <td>0</td>\n",
       "      <td>0</td>\n",
       "      <td>0</td>\n",
       "      <td>0</td>\n",
       "    </tr>\n",
       "    <tr>\n",
       "      <th>3</th>\n",
       "      <td>604000</td>\n",
       "      <td>4</td>\n",
       "      <td>3.00</td>\n",
       "      <td>1960</td>\n",
       "      <td>5000</td>\n",
       "      <td>1.0</td>\n",
       "      <td>0</td>\n",
       "      <td>0</td>\n",
       "      <td>5</td>\n",
       "      <td>7</td>\n",
       "      <td>...</td>\n",
       "      <td>-122.393</td>\n",
       "      <td>1360</td>\n",
       "      <td>5000</td>\n",
       "      <td>12</td>\n",
       "      <td>2014</td>\n",
       "      <td>0</td>\n",
       "      <td>0</td>\n",
       "      <td>0</td>\n",
       "      <td>1</td>\n",
       "      <td>0</td>\n",
       "    </tr>\n",
       "    <tr>\n",
       "      <th>4</th>\n",
       "      <td>510000</td>\n",
       "      <td>3</td>\n",
       "      <td>2.00</td>\n",
       "      <td>1680</td>\n",
       "      <td>8080</td>\n",
       "      <td>1.0</td>\n",
       "      <td>0</td>\n",
       "      <td>0</td>\n",
       "      <td>3</td>\n",
       "      <td>8</td>\n",
       "      <td>...</td>\n",
       "      <td>-122.045</td>\n",
       "      <td>1800</td>\n",
       "      <td>7503</td>\n",
       "      <td>2</td>\n",
       "      <td>2015</td>\n",
       "      <td>1</td>\n",
       "      <td>0</td>\n",
       "      <td>0</td>\n",
       "      <td>0</td>\n",
       "      <td>0</td>\n",
       "    </tr>\n",
       "  </tbody>\n",
       "</table>\n",
       "<p>5 rows × 26 columns</p>\n",
       "</div>"
      ],
      "text/plain": [
       "    price  bedrooms  bathrooms  sqft_living  sqft_lot  floors  waterfront  \\\n",
       "0  221900         3       1.00         1180      5650     1.0           0   \n",
       "1  538000         3       2.25         2570      7242     2.0           0   \n",
       "2  180000         2       1.00          770     10000     1.0           0   \n",
       "3  604000         4       3.00         1960      5000     1.0           0   \n",
       "4  510000         3       2.00         1680      8080     1.0           0   \n",
       "\n",
       "   view  condition  grade  ...     long  sqft_living15  sqft_lot15  \\\n",
       "0     0          3      7  ... -122.257           1340        5650   \n",
       "1     0          3      7  ... -122.319           1690        7639   \n",
       "2     0          3      6  ... -122.233           2720        8062   \n",
       "3     0          5      7  ... -122.393           1360        5000   \n",
       "4     0          3      8  ... -122.045           1800        7503   \n",
       "\n",
       "   month_sold  year_sold  sold_spring_time  sold_summer_time  sold_fall_time  \\\n",
       "0          10       2014                 0                 0               0   \n",
       "1          12       2014                 0                 0               0   \n",
       "2           2       2015                 1                 0               0   \n",
       "3          12       2014                 0                 0               0   \n",
       "4           2       2015                 1                 0               0   \n",
       "\n",
       "   sold_winter_time  has_renovated  \n",
       "0                 1              0  \n",
       "1                 1              1  \n",
       "2                 0              0  \n",
       "3                 1              0  \n",
       "4                 0              0  \n",
       "\n",
       "[5 rows x 26 columns]"
      ]
     },
     "execution_count": 11,
     "metadata": {},
     "output_type": "execute_result"
    }
   ],
   "source": [
    "df.head()"
   ]
  },
  {
   "cell_type": "code",
   "execution_count": 12,
   "metadata": {
    "scrolled": true
   },
   "outputs": [
    {
     "name": "stdout",
     "output_type": "stream",
     "text": [
      "<class 'pandas.core.frame.DataFrame'>\n",
      "RangeIndex: 21597 entries, 0 to 21596\n",
      "Data columns (total 26 columns):\n",
      " #   Column            Non-Null Count  Dtype  \n",
      "---  ------            --------------  -----  \n",
      " 0   price             21597 non-null  int32  \n",
      " 1   bedrooms          21597 non-null  int64  \n",
      " 2   bathrooms         21597 non-null  float64\n",
      " 3   sqft_living       21597 non-null  int64  \n",
      " 4   sqft_lot          21597 non-null  int64  \n",
      " 5   floors            21597 non-null  float64\n",
      " 6   waterfront        21597 non-null  int32  \n",
      " 7   view              21597 non-null  int32  \n",
      " 8   condition         21597 non-null  int64  \n",
      " 9   grade             21597 non-null  int64  \n",
      " 10  sqft_above        21597 non-null  int64  \n",
      " 11  sqft_basement     21597 non-null  int32  \n",
      " 12  yr_built          21597 non-null  int64  \n",
      " 13  yr_renovated      21597 non-null  int32  \n",
      " 14  zipcode           21597 non-null  int64  \n",
      " 15  lat               21597 non-null  float64\n",
      " 16  long              21597 non-null  float64\n",
      " 17  sqft_living15     21597 non-null  int64  \n",
      " 18  sqft_lot15        21597 non-null  int64  \n",
      " 19  month_sold        21597 non-null  int64  \n",
      " 20  year_sold         21597 non-null  int64  \n",
      " 21  sold_spring_time  21597 non-null  int32  \n",
      " 22  sold_summer_time  21597 non-null  int32  \n",
      " 23  sold_fall_time    21597 non-null  int32  \n",
      " 24  sold_winter_time  21597 non-null  int32  \n",
      " 25  has_renovated     21597 non-null  int32  \n",
      "dtypes: float64(4), int32(10), int64(12)\n",
      "memory usage: 3.5 MB\n"
     ]
    }
   ],
   "source": [
    "df.info()"
   ]
  },
  {
   "cell_type": "markdown",
   "metadata": {},
   "source": [
    "Above chart are showing some highly correlated continuous columns. We'll be dropping 'long' and 'lat' column by using 'zipcode' instead. Also dropping 'sqft_above', 'sqft_living15', and 'sqft_lot15' due to high correlation that will lead to fallacy in our model."
   ]
  },
  {
   "cell_type": "markdown",
   "metadata": {
    "heading_collapsed": true
   },
   "source": [
    "### price"
   ]
  },
  {
   "cell_type": "code",
   "execution_count": 13,
   "metadata": {
    "hidden": true,
    "scrolled": false
   },
   "outputs": [
    {
     "data": {
      "text/html": [
       "<div>\n",
       "<style scoped>\n",
       "    .dataframe tbody tr th:only-of-type {\n",
       "        vertical-align: middle;\n",
       "    }\n",
       "\n",
       "    .dataframe tbody tr th {\n",
       "        vertical-align: top;\n",
       "    }\n",
       "\n",
       "    .dataframe thead th {\n",
       "        text-align: right;\n",
       "    }\n",
       "</style>\n",
       "<table border=\"1\" class=\"dataframe\">\n",
       "  <thead>\n",
       "    <tr style=\"text-align: right;\">\n",
       "      <th></th>\n",
       "      <th>price</th>\n",
       "      <th>bedrooms</th>\n",
       "      <th>bathrooms</th>\n",
       "      <th>sqft_living</th>\n",
       "      <th>sqft_lot</th>\n",
       "      <th>floors</th>\n",
       "      <th>waterfront</th>\n",
       "      <th>view</th>\n",
       "      <th>condition</th>\n",
       "      <th>grade</th>\n",
       "      <th>...</th>\n",
       "      <th>long</th>\n",
       "      <th>sqft_living15</th>\n",
       "      <th>sqft_lot15</th>\n",
       "      <th>month_sold</th>\n",
       "      <th>year_sold</th>\n",
       "      <th>sold_spring_time</th>\n",
       "      <th>sold_summer_time</th>\n",
       "      <th>sold_fall_time</th>\n",
       "      <th>sold_winter_time</th>\n",
       "      <th>has_renovated</th>\n",
       "    </tr>\n",
       "  </thead>\n",
       "  <tbody>\n",
       "    <tr>\n",
       "      <th>count</th>\n",
       "      <td>2.159700e+04</td>\n",
       "      <td>21597.000000</td>\n",
       "      <td>21597.000000</td>\n",
       "      <td>21597.000000</td>\n",
       "      <td>2.159700e+04</td>\n",
       "      <td>21597.000000</td>\n",
       "      <td>21597.000000</td>\n",
       "      <td>21597.000000</td>\n",
       "      <td>21597.000000</td>\n",
       "      <td>21597.000000</td>\n",
       "      <td>...</td>\n",
       "      <td>21597.000000</td>\n",
       "      <td>21597.000000</td>\n",
       "      <td>21597.000000</td>\n",
       "      <td>21597.000000</td>\n",
       "      <td>21597.000000</td>\n",
       "      <td>21597.000000</td>\n",
       "      <td>21597.000000</td>\n",
       "      <td>21597.000000</td>\n",
       "      <td>21597.000000</td>\n",
       "      <td>21597.000000</td>\n",
       "    </tr>\n",
       "    <tr>\n",
       "      <th>mean</th>\n",
       "      <td>5.291484e+05</td>\n",
       "      <td>3.301662</td>\n",
       "      <td>2.071596</td>\n",
       "      <td>2037.176784</td>\n",
       "      <td>1.476998e+04</td>\n",
       "      <td>1.462194</td>\n",
       "      <td>0.006575</td>\n",
       "      <td>0.227763</td>\n",
       "      <td>3.338241</td>\n",
       "      <td>7.497291</td>\n",
       "      <td>...</td>\n",
       "      <td>-119.644765</td>\n",
       "      <td>1945.496087</td>\n",
       "      <td>12471.151086</td>\n",
       "      <td>6.457471</td>\n",
       "      <td>2013.391675</td>\n",
       "      <td>0.206788</td>\n",
       "      <td>0.309441</td>\n",
       "      <td>0.267954</td>\n",
       "      <td>0.215817</td>\n",
       "      <td>0.033477</td>\n",
       "    </tr>\n",
       "    <tr>\n",
       "      <th>std</th>\n",
       "      <td>3.723490e+05</td>\n",
       "      <td>1.035168</td>\n",
       "      <td>0.818766</td>\n",
       "      <td>956.614171</td>\n",
       "      <td>4.083115e+04</td>\n",
       "      <td>0.574968</td>\n",
       "      <td>0.080821</td>\n",
       "      <td>0.756727</td>\n",
       "      <td>0.808427</td>\n",
       "      <td>1.599035</td>\n",
       "      <td>...</td>\n",
       "      <td>17.533235</td>\n",
       "      <td>735.892458</td>\n",
       "      <td>26944.222849</td>\n",
       "      <td>3.184560</td>\n",
       "      <td>6.375417</td>\n",
       "      <td>0.405011</td>\n",
       "      <td>0.462274</td>\n",
       "      <td>0.442904</td>\n",
       "      <td>0.411397</td>\n",
       "      <td>0.179882</td>\n",
       "    </tr>\n",
       "    <tr>\n",
       "      <th>min</th>\n",
       "      <td>0.000000e+00</td>\n",
       "      <td>0.000000</td>\n",
       "      <td>0.000000</td>\n",
       "      <td>0.000000</td>\n",
       "      <td>0.000000e+00</td>\n",
       "      <td>0.000000</td>\n",
       "      <td>0.000000</td>\n",
       "      <td>0.000000</td>\n",
       "      <td>0.000000</td>\n",
       "      <td>0.000000</td>\n",
       "      <td>...</td>\n",
       "      <td>-122.519000</td>\n",
       "      <td>0.000000</td>\n",
       "      <td>0.000000</td>\n",
       "      <td>1.000000</td>\n",
       "      <td>1970.000000</td>\n",
       "      <td>0.000000</td>\n",
       "      <td>0.000000</td>\n",
       "      <td>0.000000</td>\n",
       "      <td>0.000000</td>\n",
       "      <td>0.000000</td>\n",
       "    </tr>\n",
       "    <tr>\n",
       "      <th>25%</th>\n",
       "      <td>3.150000e+05</td>\n",
       "      <td>3.000000</td>\n",
       "      <td>1.500000</td>\n",
       "      <td>1396.000000</td>\n",
       "      <td>5.000000e+03</td>\n",
       "      <td>1.000000</td>\n",
       "      <td>0.000000</td>\n",
       "      <td>0.000000</td>\n",
       "      <td>3.000000</td>\n",
       "      <td>7.000000</td>\n",
       "      <td>...</td>\n",
       "      <td>-122.326000</td>\n",
       "      <td>1460.000000</td>\n",
       "      <td>5000.000000</td>\n",
       "      <td>4.000000</td>\n",
       "      <td>2014.000000</td>\n",
       "      <td>0.000000</td>\n",
       "      <td>0.000000</td>\n",
       "      <td>0.000000</td>\n",
       "      <td>0.000000</td>\n",
       "      <td>0.000000</td>\n",
       "    </tr>\n",
       "    <tr>\n",
       "      <th>50%</th>\n",
       "      <td>4.450000e+05</td>\n",
       "      <td>3.000000</td>\n",
       "      <td>2.250000</td>\n",
       "      <td>1890.000000</td>\n",
       "      <td>7.532000e+03</td>\n",
       "      <td>1.000000</td>\n",
       "      <td>0.000000</td>\n",
       "      <td>0.000000</td>\n",
       "      <td>3.000000</td>\n",
       "      <td>7.000000</td>\n",
       "      <td>...</td>\n",
       "      <td>-122.224000</td>\n",
       "      <td>1820.000000</td>\n",
       "      <td>7560.000000</td>\n",
       "      <td>6.000000</td>\n",
       "      <td>2014.000000</td>\n",
       "      <td>0.000000</td>\n",
       "      <td>0.000000</td>\n",
       "      <td>0.000000</td>\n",
       "      <td>0.000000</td>\n",
       "      <td>0.000000</td>\n",
       "    </tr>\n",
       "    <tr>\n",
       "      <th>75%</th>\n",
       "      <td>6.380000e+05</td>\n",
       "      <td>4.000000</td>\n",
       "      <td>2.500000</td>\n",
       "      <td>2530.000000</td>\n",
       "      <td>1.053000e+04</td>\n",
       "      <td>2.000000</td>\n",
       "      <td>0.000000</td>\n",
       "      <td>0.000000</td>\n",
       "      <td>4.000000</td>\n",
       "      <td>8.000000</td>\n",
       "      <td>...</td>\n",
       "      <td>-122.117000</td>\n",
       "      <td>2350.000000</td>\n",
       "      <td>10009.000000</td>\n",
       "      <td>9.000000</td>\n",
       "      <td>2015.000000</td>\n",
       "      <td>0.000000</td>\n",
       "      <td>1.000000</td>\n",
       "      <td>1.000000</td>\n",
       "      <td>0.000000</td>\n",
       "      <td>0.000000</td>\n",
       "    </tr>\n",
       "    <tr>\n",
       "      <th>max</th>\n",
       "      <td>7.700000e+06</td>\n",
       "      <td>33.000000</td>\n",
       "      <td>8.000000</td>\n",
       "      <td>13540.000000</td>\n",
       "      <td>1.651359e+06</td>\n",
       "      <td>3.500000</td>\n",
       "      <td>1.000000</td>\n",
       "      <td>4.000000</td>\n",
       "      <td>5.000000</td>\n",
       "      <td>13.000000</td>\n",
       "      <td>...</td>\n",
       "      <td>0.000000</td>\n",
       "      <td>6210.000000</td>\n",
       "      <td>871200.000000</td>\n",
       "      <td>12.000000</td>\n",
       "      <td>2015.000000</td>\n",
       "      <td>1.000000</td>\n",
       "      <td>1.000000</td>\n",
       "      <td>1.000000</td>\n",
       "      <td>1.000000</td>\n",
       "      <td>1.000000</td>\n",
       "    </tr>\n",
       "  </tbody>\n",
       "</table>\n",
       "<p>8 rows × 26 columns</p>\n",
       "</div>"
      ],
      "text/plain": [
       "              price      bedrooms     bathrooms   sqft_living      sqft_lot  \\\n",
       "count  2.159700e+04  21597.000000  21597.000000  21597.000000  2.159700e+04   \n",
       "mean   5.291484e+05      3.301662      2.071596   2037.176784  1.476998e+04   \n",
       "std    3.723490e+05      1.035168      0.818766    956.614171  4.083115e+04   \n",
       "min    0.000000e+00      0.000000      0.000000      0.000000  0.000000e+00   \n",
       "25%    3.150000e+05      3.000000      1.500000   1396.000000  5.000000e+03   \n",
       "50%    4.450000e+05      3.000000      2.250000   1890.000000  7.532000e+03   \n",
       "75%    6.380000e+05      4.000000      2.500000   2530.000000  1.053000e+04   \n",
       "max    7.700000e+06     33.000000      8.000000  13540.000000  1.651359e+06   \n",
       "\n",
       "             floors    waterfront          view     condition         grade  \\\n",
       "count  21597.000000  21597.000000  21597.000000  21597.000000  21597.000000   \n",
       "mean       1.462194      0.006575      0.227763      3.338241      7.497291   \n",
       "std        0.574968      0.080821      0.756727      0.808427      1.599035   \n",
       "min        0.000000      0.000000      0.000000      0.000000      0.000000   \n",
       "25%        1.000000      0.000000      0.000000      3.000000      7.000000   \n",
       "50%        1.000000      0.000000      0.000000      3.000000      7.000000   \n",
       "75%        2.000000      0.000000      0.000000      4.000000      8.000000   \n",
       "max        3.500000      1.000000      4.000000      5.000000     13.000000   \n",
       "\n",
       "       ...          long  sqft_living15     sqft_lot15    month_sold  \\\n",
       "count  ...  21597.000000   21597.000000   21597.000000  21597.000000   \n",
       "mean   ...   -119.644765    1945.496087   12471.151086      6.457471   \n",
       "std    ...     17.533235     735.892458   26944.222849      3.184560   \n",
       "min    ...   -122.519000       0.000000       0.000000      1.000000   \n",
       "25%    ...   -122.326000    1460.000000    5000.000000      4.000000   \n",
       "50%    ...   -122.224000    1820.000000    7560.000000      6.000000   \n",
       "75%    ...   -122.117000    2350.000000   10009.000000      9.000000   \n",
       "max    ...      0.000000    6210.000000  871200.000000     12.000000   \n",
       "\n",
       "          year_sold  sold_spring_time  sold_summer_time  sold_fall_time  \\\n",
       "count  21597.000000      21597.000000      21597.000000    21597.000000   \n",
       "mean    2013.391675          0.206788          0.309441        0.267954   \n",
       "std        6.375417          0.405011          0.462274        0.442904   \n",
       "min     1970.000000          0.000000          0.000000        0.000000   \n",
       "25%     2014.000000          0.000000          0.000000        0.000000   \n",
       "50%     2014.000000          0.000000          0.000000        0.000000   \n",
       "75%     2015.000000          0.000000          1.000000        1.000000   \n",
       "max     2015.000000          1.000000          1.000000        1.000000   \n",
       "\n",
       "       sold_winter_time  has_renovated  \n",
       "count      21597.000000   21597.000000  \n",
       "mean           0.215817       0.033477  \n",
       "std            0.411397       0.179882  \n",
       "min            0.000000       0.000000  \n",
       "25%            0.000000       0.000000  \n",
       "50%            0.000000       0.000000  \n",
       "75%            0.000000       0.000000  \n",
       "max            1.000000       1.000000  \n",
       "\n",
       "[8 rows x 26 columns]"
      ]
     },
     "execution_count": 13,
     "metadata": {},
     "output_type": "execute_result"
    }
   ],
   "source": [
    "df.describe()"
   ]
  },
  {
   "cell_type": "code",
   "execution_count": 14,
   "metadata": {
    "hidden": true
   },
   "outputs": [
    {
     "data": {
      "text/plain": [
       "count    2.159700e+04\n",
       "mean     5.291484e+05\n",
       "std      3.723490e+05\n",
       "min      0.000000e+00\n",
       "25%      3.150000e+05\n",
       "50%      4.450000e+05\n",
       "75%      6.380000e+05\n",
       "max      7.700000e+06\n",
       "Name: price, dtype: float64"
      ]
     },
     "execution_count": 14,
     "metadata": {},
     "output_type": "execute_result"
    }
   ],
   "source": [
    "#taking a look at price\n",
    "df['price'].describe()"
   ]
  },
  {
   "cell_type": "code",
   "execution_count": 15,
   "metadata": {
    "hidden": true,
    "scrolled": true
   },
   "outputs": [
    {
     "data": {
      "image/png": "[encoded data removed]",
      "text/plain": [
       "<Figure size 432x288 with 1 Axes>"
      ]
     },
     "metadata": {},
     "output_type": "display_data"
    }
   ],
   "source": [
    "#using graphs to look for potential outliers\n",
    "sns.histplot(data=df, x='price');"
   ]
  },
  {
   "cell_type": "code",
   "execution_count": 16,
   "metadata": {
    "hidden": true,
    "scrolled": true
   },
   "outputs": [
    {
     "data": {
      "image/png": "[encoded data removed]",
      "text/plain": [
       "<Figure size 432x288 with 1 Axes>"
      ]
     },
     "metadata": {},
     "output_type": "display_data"
    }
   ],
   "source": [
    "sns.boxplot(data=df, x='price');"
   ]
  },
  {
   "cell_type": "code",
   "execution_count": 17,
   "metadata": {
    "hidden": true
   },
   "outputs": [],
   "source": [
    "#Making the 'price' benchmark between $100000 to $900000\n",
    "df.drop(df[df['price'] > 900000].index, inplace = True)\n",
    "df.drop(df[df['price'] < 100000].index, inplace = True)"
   ]
  },
  {
   "cell_type": "code",
   "execution_count": 18,
   "metadata": {
    "hidden": true,
    "scrolled": true
   },
   "outputs": [
    {
     "data": {
      "image/png": "[encoded data removed]",
      "text/plain": [
       "<Figure size 432x288 with 1 Axes>"
      ]
     },
     "metadata": {},
     "output_type": "display_data"
    }
   ],
   "source": [
    "#checking the graphs again to see the changes we made\n",
    "sns.boxplot(data=df, x='price');"
   ]
  },
  {
   "cell_type": "code",
   "execution_count": 19,
   "metadata": {
    "hidden": true
   },
   "outputs": [
    {
     "data": {
      "image/png": "[encoded data removed]",
      "text/plain": [
       "<Figure size 432x288 with 1 Axes>"
      ]
     },
     "metadata": {},
     "output_type": "display_data"
    }
   ],
   "source": [
    "#The histogram looks to be more normally distributed after removing outliers\n",
    "sns.histplot(data=df, x='price');"
   ]
  },
  {
   "cell_type": "code",
   "execution_count": 20,
   "metadata": {
    "hidden": true
   },
   "outputs": [
    {
     "data": {
      "text/plain": [
       "(19124, 26)"
      ]
     },
     "execution_count": 20,
     "metadata": {},
     "output_type": "execute_result"
    }
   ],
   "source": [
    "#checking the rows left\n",
    "df.shape"
   ]
  },
  {
   "cell_type": "markdown",
   "metadata": {
    "heading_collapsed": true
   },
   "source": [
    "### bedrooms"
   ]
  },
  {
   "cell_type": "code",
   "execution_count": 21,
   "metadata": {
    "hidden": true
   },
   "outputs": [
    {
     "data": {
      "text/plain": [
       "3     9179\n",
       "4     5729\n",
       "2     2631\n",
       "5     1161\n",
       "6      198\n",
       "1      185\n",
       "7       25\n",
       "8        9\n",
       "9        3\n",
       "10       2\n",
       "11       1\n",
       "33       1\n",
       "Name: bedrooms, dtype: int64"
      ]
     },
     "execution_count": 21,
     "metadata": {},
     "output_type": "execute_result"
    }
   ],
   "source": [
    "df['bedrooms'].value_counts()"
   ]
  },
  {
   "cell_type": "code",
   "execution_count": 22,
   "metadata": {
    "hidden": true
   },
   "outputs": [],
   "source": [
    "df.drop(df[df['bedrooms'] > 6].index, inplace = True)"
   ]
  },
  {
   "cell_type": "code",
   "execution_count": 23,
   "metadata": {
    "hidden": true
   },
   "outputs": [
    {
     "data": {
      "text/plain": [
       "3    9179\n",
       "4    5729\n",
       "2    2631\n",
       "5    1161\n",
       "6     198\n",
       "1     185\n",
       "Name: bedrooms, dtype: int64"
      ]
     },
     "execution_count": 23,
     "metadata": {},
     "output_type": "execute_result"
    }
   ],
   "source": [
    "df['bedrooms'].value_counts()"
   ]
  },
  {
   "cell_type": "code",
   "execution_count": 24,
   "metadata": {
    "hidden": true,
    "scrolled": true
   },
   "outputs": [
    {
     "data": {
      "image/png": "[encoded data removed]",
      "text/plain": [
       "<Figure size 432x288 with 1 Axes>"
      ]
     },
     "metadata": {},
     "output_type": "display_data"
    }
   ],
   "source": [
    "sns.histplot(data = df, x='bedrooms');"
   ]
  },
  {
   "cell_type": "code",
   "execution_count": 25,
   "metadata": {
    "hidden": true
   },
   "outputs": [
    {
     "data": {
      "text/plain": [
       "(19083, 26)"
      ]
     },
     "execution_count": 25,
     "metadata": {},
     "output_type": "execute_result"
    }
   ],
   "source": [
    "df.shape"
   ]
  },
  {
   "cell_type": "markdown",
   "metadata": {
    "hidden": true
   },
   "source": []
  },
  {
   "cell_type": "markdown",
   "metadata": {
    "heading_collapsed": true
   },
   "source": [
    "### bathrooms"
   ]
  },
  {
   "cell_type": "code",
   "execution_count": 26,
   "metadata": {
    "hidden": true
   },
   "outputs": [
    {
     "data": {
      "text/plain": [
       "2.50    4849\n",
       "1.00    3715\n",
       "1.75    2912\n",
       "2.25    1844\n",
       "2.00    1839\n",
       "1.50    1385\n",
       "2.75     980\n",
       "3.00     578\n",
       "3.50     434\n",
       "3.25     324\n",
       "0.75      69\n",
       "3.75      50\n",
       "4.00      43\n",
       "4.50      23\n",
       "4.25      18\n",
       "1.25       7\n",
       "5.00       5\n",
       "0.50       3\n",
       "4.75       2\n",
       "5.25       2\n",
       "6.00       1\n",
       "Name: bathrooms, dtype: int64"
      ]
     },
     "execution_count": 26,
     "metadata": {},
     "output_type": "execute_result"
    }
   ],
   "source": [
    "df['bathrooms'].value_counts()"
   ]
  },
  {
   "cell_type": "code",
   "execution_count": 27,
   "metadata": {
    "hidden": true,
    "scrolled": true
   },
   "outputs": [
    {
     "data": {
      "image/png": "[encoded data removed]",
      "text/plain": [
       "<Figure size 432x288 with 1 Axes>"
      ]
     },
     "metadata": {},
     "output_type": "display_data"
    }
   ],
   "source": [
    "sns.histplot(data=df, x = 'bathrooms');"
   ]
  },
  {
   "cell_type": "code",
   "execution_count": 28,
   "metadata": {
    "hidden": true
   },
   "outputs": [],
   "source": [
    "df.drop(df[df['bathrooms'] > 4].index, inplace = True)\n",
    "df.drop(df[df['bathrooms'] < 0.75].index, inplace = True)"
   ]
  },
  {
   "cell_type": "code",
   "execution_count": 29,
   "metadata": {
    "hidden": true
   },
   "outputs": [
    {
     "data": {
      "image/png": "[encoded data removed]",
      "text/plain": [
       "<Figure size 432x288 with 1 Axes>"
      ]
     },
     "metadata": {},
     "output_type": "display_data"
    }
   ],
   "source": [
    "sns.histplot(data=df, x = 'bathrooms');"
   ]
  },
  {
   "cell_type": "code",
   "execution_count": 30,
   "metadata": {
    "hidden": true
   },
   "outputs": [
    {
     "data": {
      "text/plain": [
       "(19029, 26)"
      ]
     },
     "execution_count": 30,
     "metadata": {},
     "output_type": "execute_result"
    }
   ],
   "source": [
    "df.shape"
   ]
  },
  {
   "cell_type": "markdown",
   "metadata": {
    "heading_collapsed": true
   },
   "source": [
    "### sqft_living"
   ]
  },
  {
   "cell_type": "code",
   "execution_count": 31,
   "metadata": {
    "hidden": true
   },
   "outputs": [
    {
     "data": {
      "image/png": "[encoded data removed]",
      "text/plain": [
       "<Figure size 432x288 with 1 Axes>"
      ]
     },
     "metadata": {},
     "output_type": "display_data"
    }
   ],
   "source": [
    "sns.histplot(data=df, x = 'sqft_living');"
   ]
  },
  {
   "cell_type": "code",
   "execution_count": 32,
   "metadata": {
    "hidden": true,
    "scrolled": true
   },
   "outputs": [
    {
     "data": {
      "text/plain": [
       "count    19029.000000\n",
       "mean      1915.710600\n",
       "std        715.155835\n",
       "min        370.000000\n",
       "25%       1380.000000\n",
       "50%       1820.000000\n",
       "75%       2360.000000\n",
       "max       5461.000000\n",
       "Name: sqft_living, dtype: float64"
      ]
     },
     "execution_count": 32,
     "metadata": {},
     "output_type": "execute_result"
    }
   ],
   "source": [
    "df['sqft_living'].describe()"
   ]
  },
  {
   "cell_type": "code",
   "execution_count": 33,
   "metadata": {
    "hidden": true,
    "scrolled": true
   },
   "outputs": [
    {
     "data": {
      "image/png": "[encoded data removed]",
      "text/plain": [
       "<Figure size 432x288 with 1 Axes>"
      ]
     },
     "metadata": {},
     "output_type": "display_data"
    }
   ],
   "source": [
    "sns.boxplot(data = df, x='sqft_living');"
   ]
  },
  {
   "cell_type": "code",
   "execution_count": 34,
   "metadata": {
    "hidden": true
   },
   "outputs": [],
   "source": [
    "df.drop(df[df['sqft_living'] > 4500].index, inplace = True)"
   ]
  },
  {
   "cell_type": "code",
   "execution_count": 35,
   "metadata": {
    "hidden": true
   },
   "outputs": [
    {
     "data": {
      "image/png": "[encoded data removed]",
      "text/plain": [
       "<Figure size 432x288 with 1 Axes>"
      ]
     },
     "metadata": {},
     "output_type": "display_data"
    }
   ],
   "source": [
    "sns.histplot(data=df, x = 'sqft_living');"
   ]
  },
  {
   "cell_type": "code",
   "execution_count": 36,
   "metadata": {
    "hidden": true,
    "scrolled": false
   },
   "outputs": [
    {
     "data": {
      "image/png": "[encoded data removed]",
      "text/plain": [
       "<Figure size 432x288 with 1 Axes>"
      ]
     },
     "metadata": {},
     "output_type": "display_data"
    }
   ],
   "source": [
    "sns.boxplot(data = df, x='sqft_living');"
   ]
  },
  {
   "cell_type": "code",
   "execution_count": 37,
   "metadata": {
    "hidden": true
   },
   "outputs": [
    {
     "data": {
      "text/plain": [
       "(19000, 26)"
      ]
     },
     "execution_count": 37,
     "metadata": {},
     "output_type": "execute_result"
    }
   ],
   "source": [
    "df.shape"
   ]
  },
  {
   "cell_type": "markdown",
   "metadata": {
    "heading_collapsed": true
   },
   "source": [
    "### sqft_lot"
   ]
  },
  {
   "cell_type": "code",
   "execution_count": 38,
   "metadata": {
    "hidden": true
   },
   "outputs": [
    {
     "data": {
      "image/png": "[encoded data removed]",
      "text/plain": [
       "<Figure size 432x288 with 1 Axes>"
      ]
     },
     "metadata": {},
     "output_type": "display_data"
    }
   ],
   "source": [
    "sns.histplot(data=df, x='sqft_lot');"
   ]
  },
  {
   "cell_type": "code",
   "execution_count": 39,
   "metadata": {
    "hidden": true
   },
   "outputs": [
    {
     "data": {
      "text/plain": [
       "count    1.900000e+04\n",
       "mean     1.416697e+04\n",
       "std      3.854211e+04\n",
       "min      5.200000e+02\n",
       "25%      5.000000e+03\n",
       "50%      7.490500e+03\n",
       "75%      1.016000e+04\n",
       "max      1.651359e+06\n",
       "Name: sqft_lot, dtype: float64"
      ]
     },
     "execution_count": 39,
     "metadata": {},
     "output_type": "execute_result"
    }
   ],
   "source": [
    "df['sqft_lot'].describe()"
   ]
  },
  {
   "cell_type": "code",
   "execution_count": 40,
   "metadata": {
    "hidden": true
   },
   "outputs": [],
   "source": [
    "df.drop(df[df['sqft_lot'] > 25000].index, inplace = True)"
   ]
  },
  {
   "cell_type": "code",
   "execution_count": 41,
   "metadata": {
    "hidden": true,
    "scrolled": true
   },
   "outputs": [
    {
     "data": {
      "image/png": "[encoded data removed]",
      "text/plain": [
       "<Figure size 432x288 with 1 Axes>"
      ]
     },
     "metadata": {},
     "output_type": "display_data"
    }
   ],
   "source": [
    "sns.histplot(data=df, x='sqft_lot');"
   ]
  },
  {
   "cell_type": "code",
   "execution_count": 42,
   "metadata": {
    "hidden": true
   },
   "outputs": [
    {
     "data": {
      "text/plain": [
       "(17472, 26)"
      ]
     },
     "execution_count": 42,
     "metadata": {},
     "output_type": "execute_result"
    }
   ],
   "source": [
    "df.shape"
   ]
  },
  {
   "cell_type": "markdown",
   "metadata": {
    "heading_collapsed": true
   },
   "source": [
    "### sqft_basement"
   ]
  },
  {
   "cell_type": "code",
   "execution_count": 43,
   "metadata": {
    "hidden": true
   },
   "outputs": [
    {
     "data": {
      "image/png": "[encoded data removed]",
      "text/plain": [
       "<Figure size 432x288 with 1 Axes>"
      ]
     },
     "metadata": {},
     "output_type": "display_data"
    }
   ],
   "source": [
    "sns.histplot(data=df, x='sqft_basement');"
   ]
  },
  {
   "cell_type": "code",
   "execution_count": 44,
   "metadata": {
    "hidden": true,
    "scrolled": true
   },
   "outputs": [
    {
     "data": {
      "text/plain": [
       "0       10854\n",
       "500       188\n",
       "600       188\n",
       "700       181\n",
       "800       165\n",
       "        ...  \n",
       "666         1\n",
       "906         1\n",
       "1930        1\n",
       "2170        1\n",
       "1135        1\n",
       "Name: sqft_basement, Length: 233, dtype: int64"
      ]
     },
     "execution_count": 44,
     "metadata": {},
     "output_type": "execute_result"
    }
   ],
   "source": [
    "df['sqft_basement'].value_counts()"
   ]
  },
  {
   "cell_type": "code",
   "execution_count": 45,
   "metadata": {
    "hidden": true
   },
   "outputs": [
    {
     "data": {
      "text/plain": [
       "count    17472.000000\n",
       "mean       253.097184\n",
       "std        385.174323\n",
       "min          0.000000\n",
       "25%          0.000000\n",
       "50%          0.000000\n",
       "75%        500.000000\n",
       "max       2170.000000\n",
       "Name: sqft_basement, dtype: float64"
      ]
     },
     "execution_count": 45,
     "metadata": {},
     "output_type": "execute_result"
    }
   ],
   "source": [
    "df['sqft_basement'].describe()"
   ]
  },
  {
   "cell_type": "code",
   "execution_count": 46,
   "metadata": {
    "hidden": true
   },
   "outputs": [],
   "source": [
    "df.drop(df[df['sqft_basement'] > 1300].index, inplace=True)"
   ]
  },
  {
   "cell_type": "code",
   "execution_count": 47,
   "metadata": {
    "hidden": true
   },
   "outputs": [
    {
     "data": {
      "image/png": "[encoded data removed]",
      "text/plain": [
       "<Figure size 432x288 with 1 Axes>"
      ]
     },
     "metadata": {},
     "output_type": "display_data"
    }
   ],
   "source": [
    "sns.histplot(data = df, x='sqft_basement');"
   ]
  },
  {
   "cell_type": "code",
   "execution_count": 48,
   "metadata": {
    "hidden": true
   },
   "outputs": [
    {
     "data": {
      "text/plain": [
       "(17216, 26)"
      ]
     },
     "execution_count": 48,
     "metadata": {},
     "output_type": "execute_result"
    }
   ],
   "source": [
    "df.shape"
   ]
  },
  {
   "cell_type": "markdown",
   "metadata": {
    "heading_collapsed": true
   },
   "source": [
    "### floors"
   ]
  },
  {
   "cell_type": "code",
   "execution_count": 49,
   "metadata": {
    "hidden": true
   },
   "outputs": [
    {
     "data": {
      "text/plain": [
       "1.0    9010\n",
       "2.0    6066\n",
       "1.5    1524\n",
       "3.0     525\n",
       "2.5      85\n",
       "3.5       6\n",
       "Name: floors, dtype: int64"
      ]
     },
     "execution_count": 49,
     "metadata": {},
     "output_type": "execute_result"
    }
   ],
   "source": [
    "df['floors'].value_counts()"
   ]
  },
  {
   "cell_type": "code",
   "execution_count": 50,
   "metadata": {
    "hidden": true
   },
   "outputs": [],
   "source": [
    "df.drop(df[df['floors'] > 3].index, inplace=True)"
   ]
  },
  {
   "cell_type": "code",
   "execution_count": 51,
   "metadata": {
    "hidden": true,
    "scrolled": true
   },
   "outputs": [
    {
     "data": {
      "text/plain": [
       "1.0    9010\n",
       "2.0    6066\n",
       "1.5    1524\n",
       "3.0     525\n",
       "2.5      85\n",
       "Name: floors, dtype: int64"
      ]
     },
     "execution_count": 51,
     "metadata": {},
     "output_type": "execute_result"
    }
   ],
   "source": [
    "df['floors'].value_counts()"
   ]
  },
  {
   "cell_type": "markdown",
   "metadata": {
    "heading_collapsed": true
   },
   "source": [
    "### grade and condition"
   ]
  },
  {
   "cell_type": "code",
   "execution_count": 52,
   "metadata": {
    "hidden": true
   },
   "outputs": [
    {
     "data": {
      "text/plain": [
       "7     8207\n",
       "8     4968\n",
       "6     1865\n",
       "9     1570\n",
       "10     363\n",
       "5      190\n",
       "11      28\n",
       "4       18\n",
       "3        1\n",
       "Name: grade, dtype: int64"
      ]
     },
     "execution_count": 52,
     "metadata": {},
     "output_type": "execute_result"
    }
   ],
   "source": [
    "df['grade'].value_counts()"
   ]
  },
  {
   "cell_type": "code",
   "execution_count": 53,
   "metadata": {
    "hidden": true,
    "scrolled": false
   },
   "outputs": [
    {
     "data": {
      "text/plain": [
       "3    11256\n",
       "4     4500\n",
       "5     1303\n",
       "2      132\n",
       "1       19\n",
       "Name: condition, dtype: int64"
      ]
     },
     "execution_count": 53,
     "metadata": {},
     "output_type": "execute_result"
    }
   ],
   "source": [
    "df['condition'].value_counts()"
   ]
  },
  {
   "cell_type": "markdown",
   "metadata": {
    "heading_collapsed": true
   },
   "source": [
    "### sqft_lot15"
   ]
  },
  {
   "cell_type": "code",
   "execution_count": 54,
   "metadata": {
    "hidden": true
   },
   "outputs": [
    {
     "data": {
      "image/png": "[encoded data removed]",
      "text/plain": [
       "<Figure size 432x288 with 1 Axes>"
      ]
     },
     "metadata": {},
     "output_type": "display_data"
    }
   ],
   "source": [
    "sns.histplot(data = df, x = 'sqft_lot15');"
   ]
  },
  {
   "cell_type": "code",
   "execution_count": 55,
   "metadata": {
    "hidden": true
   },
   "outputs": [],
   "source": [
    "df.drop(df[df['sqft_lot15'] > 25000].index, inplace=True)"
   ]
  },
  {
   "cell_type": "code",
   "execution_count": 56,
   "metadata": {
    "hidden": true,
    "scrolled": true
   },
   "outputs": [
    {
     "data": {
      "text/plain": [
       "<AxesSubplot:xlabel='sqft_lot15', ylabel='Count'>"
      ]
     },
     "execution_count": 56,
     "metadata": {},
     "output_type": "execute_result"
    },
    {
     "data": {
      "image/png": "[encoded data removed]",
      "text/plain": [
       "<Figure size 432x288 with 1 Axes>"
      ]
     },
     "metadata": {},
     "output_type": "display_data"
    }
   ],
   "source": [
    "sns.histplot(data = df, x = 'sqft_lot15')"
   ]
  },
  {
   "cell_type": "code",
   "execution_count": 57,
   "metadata": {
    "hidden": true
   },
   "outputs": [
    {
     "data": {
      "text/plain": [
       "(17110, 26)"
      ]
     },
     "execution_count": 57,
     "metadata": {},
     "output_type": "execute_result"
    }
   ],
   "source": [
    "df.shape"
   ]
  },
  {
   "cell_type": "markdown",
   "metadata": {
    "heading_collapsed": true
   },
   "source": [
    "### sqft_living15"
   ]
  },
  {
   "cell_type": "code",
   "execution_count": 58,
   "metadata": {
    "hidden": true
   },
   "outputs": [
    {
     "data": {
      "image/png": "[encoded data removed]",
      "text/plain": [
       "<Figure size 432x288 with 1 Axes>"
      ]
     },
     "metadata": {},
     "output_type": "display_data"
    }
   ],
   "source": [
    "sns.histplot(data = df, x = 'sqft_living15');"
   ]
  },
  {
   "cell_type": "markdown",
   "metadata": {},
   "source": [
    "## Multi-collineary "
   ]
  },
  {
   "cell_type": "code",
   "execution_count": 59,
   "metadata": {},
   "outputs": [
    {
     "data": {
      "text/html": [
       "<div>\n",
       "<style scoped>\n",
       "    .dataframe tbody tr th:only-of-type {\n",
       "        vertical-align: middle;\n",
       "    }\n",
       "\n",
       "    .dataframe tbody tr th {\n",
       "        vertical-align: top;\n",
       "    }\n",
       "\n",
       "    .dataframe thead th {\n",
       "        text-align: right;\n",
       "    }\n",
       "</style>\n",
       "<table border=\"1\" class=\"dataframe\">\n",
       "  <thead>\n",
       "    <tr style=\"text-align: right;\">\n",
       "      <th></th>\n",
       "      <th>cc</th>\n",
       "    </tr>\n",
       "    <tr>\n",
       "      <th>pairs</th>\n",
       "      <th></th>\n",
       "    </tr>\n",
       "  </thead>\n",
       "  <tbody>\n",
       "    <tr>\n",
       "      <th>(sqft_lot, sqft_lot15)</th>\n",
       "      <td>0.857785</td>\n",
       "    </tr>\n",
       "    <tr>\n",
       "      <th>(sqft_above, sqft_living)</th>\n",
       "      <td>0.851931</td>\n",
       "    </tr>\n",
       "    <tr>\n",
       "      <th>(sqft_living, sqft_living15)</th>\n",
       "      <td>0.735705</td>\n",
       "    </tr>\n",
       "    <tr>\n",
       "      <th>(sqft_living15, sqft_above)</th>\n",
       "      <td>0.714953</td>\n",
       "    </tr>\n",
       "  </tbody>\n",
       "</table>\n",
       "</div>"
      ],
      "text/plain": [
       "                                    cc\n",
       "pairs                                 \n",
       "(sqft_lot, sqft_lot15)        0.857785\n",
       "(sqft_above, sqft_living)     0.851931\n",
       "(sqft_living, sqft_living15)  0.735705\n",
       "(sqft_living15, sqft_above)   0.714953"
      ]
     },
     "execution_count": 59,
     "metadata": {},
     "output_type": "execute_result"
    }
   ],
   "source": [
    "df_cont = df[['sqft_living', 'sqft_lot', 'sqft_above', 'sqft_basement', 'lat', 'long', 'sqft_living15', 'sqft_lot15']]\n",
    "df_cont.corr()\n",
    "data_cont = df_cont.corr().abs().stack().reset_index().sort_values(0, ascending=False)\n",
    "data_cont['pairs'] = list(zip(data_cont.level_0, data_cont.level_1))\n",
    "data_cont.set_index(['pairs'], inplace=True)\n",
    "data_cont.drop(columns=['level_1', 'level_0'], inplace = True)\n",
    "data_cont.columns = ['cc']\n",
    "data_cont.drop_duplicates(inplace=True)\n",
    "data_cont[(data_cont.cc>.70) & (data_cont.cc<1)]"
   ]
  },
  {
   "cell_type": "code",
   "execution_count": 60,
   "metadata": {},
   "outputs": [
    {
     "data": {
      "text/html": [
       "<div>\n",
       "<style scoped>\n",
       "    .dataframe tbody tr th:only-of-type {\n",
       "        vertical-align: middle;\n",
       "    }\n",
       "\n",
       "    .dataframe tbody tr th {\n",
       "        vertical-align: top;\n",
       "    }\n",
       "\n",
       "    .dataframe thead th {\n",
       "        text-align: right;\n",
       "    }\n",
       "</style>\n",
       "<table border=\"1\" class=\"dataframe\">\n",
       "  <thead>\n",
       "    <tr style=\"text-align: right;\">\n",
       "      <th></th>\n",
       "      <th>sqft_living</th>\n",
       "      <th>sqft_lot</th>\n",
       "      <th>sqft_above</th>\n",
       "      <th>sqft_basement</th>\n",
       "      <th>lat</th>\n",
       "      <th>long</th>\n",
       "      <th>sqft_living15</th>\n",
       "      <th>sqft_lot15</th>\n",
       "    </tr>\n",
       "  </thead>\n",
       "  <tbody>\n",
       "    <tr>\n",
       "      <th>sqft_living</th>\n",
       "      <td>1.000000</td>\n",
       "      <td>0.202818</td>\n",
       "      <td>0.851931</td>\n",
       "      <td>0.309181</td>\n",
       "      <td>-0.023523</td>\n",
       "      <td>0.288471</td>\n",
       "      <td>0.735705</td>\n",
       "      <td>0.183068</td>\n",
       "    </tr>\n",
       "    <tr>\n",
       "      <th>sqft_lot</th>\n",
       "      <td>0.202818</td>\n",
       "      <td>1.000000</td>\n",
       "      <td>0.170822</td>\n",
       "      <td>0.066276</td>\n",
       "      <td>-0.138709</td>\n",
       "      <td>0.241378</td>\n",
       "      <td>0.240405</td>\n",
       "      <td>0.857785</td>\n",
       "    </tr>\n",
       "    <tr>\n",
       "      <th>sqft_above</th>\n",
       "      <td>0.851931</td>\n",
       "      <td>0.170822</td>\n",
       "      <td>1.000000</td>\n",
       "      <td>-0.234596</td>\n",
       "      <td>-0.089690</td>\n",
       "      <td>0.399040</td>\n",
       "      <td>0.714953</td>\n",
       "      <td>0.154875</td>\n",
       "    </tr>\n",
       "    <tr>\n",
       "      <th>sqft_basement</th>\n",
       "      <td>0.309181</td>\n",
       "      <td>0.066276</td>\n",
       "      <td>-0.234596</td>\n",
       "      <td>1.000000</td>\n",
       "      <td>0.119219</td>\n",
       "      <td>-0.189185</td>\n",
       "      <td>0.067317</td>\n",
       "      <td>0.058573</td>\n",
       "    </tr>\n",
       "    <tr>\n",
       "      <th>lat</th>\n",
       "      <td>-0.023523</td>\n",
       "      <td>-0.138709</td>\n",
       "      <td>-0.089690</td>\n",
       "      <td>0.119219</td>\n",
       "      <td>1.000000</td>\n",
       "      <td>-0.152922</td>\n",
       "      <td>-0.017143</td>\n",
       "      <td>-0.139801</td>\n",
       "    </tr>\n",
       "    <tr>\n",
       "      <th>long</th>\n",
       "      <td>0.288471</td>\n",
       "      <td>0.241378</td>\n",
       "      <td>0.399040</td>\n",
       "      <td>-0.189185</td>\n",
       "      <td>-0.152922</td>\n",
       "      <td>1.000000</td>\n",
       "      <td>0.367966</td>\n",
       "      <td>0.251962</td>\n",
       "    </tr>\n",
       "    <tr>\n",
       "      <th>sqft_living15</th>\n",
       "      <td>0.735705</td>\n",
       "      <td>0.240405</td>\n",
       "      <td>0.714953</td>\n",
       "      <td>0.067317</td>\n",
       "      <td>-0.017143</td>\n",
       "      <td>0.367966</td>\n",
       "      <td>1.000000</td>\n",
       "      <td>0.256299</td>\n",
       "    </tr>\n",
       "    <tr>\n",
       "      <th>sqft_lot15</th>\n",
       "      <td>0.183068</td>\n",
       "      <td>0.857785</td>\n",
       "      <td>0.154875</td>\n",
       "      <td>0.058573</td>\n",
       "      <td>-0.139801</td>\n",
       "      <td>0.251962</td>\n",
       "      <td>0.256299</td>\n",
       "      <td>1.000000</td>\n",
       "    </tr>\n",
       "  </tbody>\n",
       "</table>\n",
       "</div>"
      ],
      "text/plain": [
       "               sqft_living  sqft_lot  sqft_above  sqft_basement       lat  \\\n",
       "sqft_living       1.000000  0.202818    0.851931       0.309181 -0.023523   \n",
       "sqft_lot          0.202818  1.000000    0.170822       0.066276 -0.138709   \n",
       "sqft_above        0.851931  0.170822    1.000000      -0.234596 -0.089690   \n",
       "sqft_basement     0.309181  0.066276   -0.234596       1.000000  0.119219   \n",
       "lat              -0.023523 -0.138709   -0.089690       0.119219  1.000000   \n",
       "long              0.288471  0.241378    0.399040      -0.189185 -0.152922   \n",
       "sqft_living15     0.735705  0.240405    0.714953       0.067317 -0.017143   \n",
       "sqft_lot15        0.183068  0.857785    0.154875       0.058573 -0.139801   \n",
       "\n",
       "                   long  sqft_living15  sqft_lot15  \n",
       "sqft_living    0.288471       0.735705    0.183068  \n",
       "sqft_lot       0.241378       0.240405    0.857785  \n",
       "sqft_above     0.399040       0.714953    0.154875  \n",
       "sqft_basement -0.189185       0.067317    0.058573  \n",
       "lat           -0.152922      -0.017143   -0.139801  \n",
       "long           1.000000       0.367966    0.251962  \n",
       "sqft_living15  0.367966       1.000000    0.256299  \n",
       "sqft_lot15     0.251962       0.256299    1.000000  "
      ]
     },
     "execution_count": 60,
     "metadata": {},
     "output_type": "execute_result"
    }
   ],
   "source": [
    "df_cont.corr()"
   ]
  },
  {
   "cell_type": "markdown",
   "metadata": {},
   "source": [
    ">Above chart are showing some highly correlated continuous columns. We'll be dropping 'sqft_above', 'sqft_living15', and 'sqft_lot15' due to high correlation that will lead to fallacy in our model."
   ]
  },
  {
   "cell_type": "code",
   "execution_count": 61,
   "metadata": {
    "scrolled": false
   },
   "outputs": [
    {
     "name": "stderr",
     "output_type": "stream",
     "text": [
      "C:\\Users\\epcus\\anaconda3\\envs\\learn-env\\lib\\site-packages\\pandas\\core\\frame.py:4163: SettingWithCopyWarning: \n",
      "A value is trying to be set on a copy of a slice from a DataFrame\n",
      "\n",
      "See the caveats in the documentation: https://pandas.pydata.org/pandas-docs/stable/user_guide/indexing.html#returning-a-view-versus-a-copy\n",
      "  return super().drop(\n"
     ]
    }
   ],
   "source": [
    "#Updating the df_cont\n",
    "df_cont.drop('sqft_above', axis = 1, inplace = True)\n",
    "df_cont.drop('sqft_living15', axis = 1, inplace = True)\n",
    "df_cont.drop('sqft_lot15', axis = 1, inplace = True)"
   ]
  },
  {
   "cell_type": "code",
   "execution_count": 62,
   "metadata": {},
   "outputs": [
    {
     "data": {
      "text/plain": [
       "Index(['sqft_living', 'sqft_lot', 'sqft_basement', 'lat', 'long'], dtype='object')"
      ]
     },
     "execution_count": 62,
     "metadata": {},
     "output_type": "execute_result"
    }
   ],
   "source": [
    "df_cont.columns"
   ]
  },
  {
   "cell_type": "markdown",
   "metadata": {},
   "source": [
    "> We are dropping 'lat' and 'long' columns because we'll be using zipcode instead. As well as dropping the 'view' columns because we believe it's not a big determining factor for house prices."
   ]
  },
  {
   "cell_type": "code",
   "execution_count": 63,
   "metadata": {},
   "outputs": [],
   "source": [
    "df_cont.drop('long', axis = 1, inplace = True)\n",
    "df_cont.drop('lat', axis = 1, inplace = True)"
   ]
  },
  {
   "cell_type": "markdown",
   "metadata": {},
   "source": [
    "## Categorical / One Hot Encoded"
   ]
  },
  {
   "cell_type": "code",
   "execution_count": 64,
   "metadata": {},
   "outputs": [
    {
     "data": {
      "image/png": "[encoded data removed]",
      "text/plain": [
       "<Figure size 1152x720 with 3 Axes>"
      ]
     },
     "metadata": {},
     "output_type": "display_data"
    }
   ],
   "source": [
    "#looking at graphs to see columns shaped like a categorical data\n",
    "fig, axes = plt.subplots(nrows=1, ncols=3, figsize=(16,10), sharey=True)\n",
    "\n",
    "feats = ['condition', 'grade', 'zipcode']\n",
    "\n",
    "for col, ax in zip(feats, axes.flatten()):\n",
    "    (df.groupby(col)               \n",
    "         .mean()['price']        \n",
    "         .sort_values()              \n",
    "         .plot\n",
    "         .bar(ax=ax))                \n",
    "    \n",
    "    ax.set_title(col)                \n",
    "fig.tight_layout()"
   ]
  },
  {
   "cell_type": "code",
   "execution_count": 65,
   "metadata": {
    "scrolled": true
   },
   "outputs": [],
   "source": [
    "features = df[feats].astype('category')"
   ]
  },
  {
   "cell_type": "code",
   "execution_count": 66,
   "metadata": {},
   "outputs": [],
   "source": [
    "feats_ohe = pd.get_dummies(features, drop_first = True)"
   ]
  },
  {
   "cell_type": "code",
   "execution_count": 67,
   "metadata": {},
   "outputs": [],
   "source": [
    "feats_ohe = feats_ohe.astype(int)"
   ]
  },
  {
   "cell_type": "code",
   "execution_count": 68,
   "metadata": {
    "scrolled": false
   },
   "outputs": [
    {
     "data": {
      "text/html": [
       "<div>\n",
       "<style scoped>\n",
       "    .dataframe tbody tr th:only-of-type {\n",
       "        vertical-align: middle;\n",
       "    }\n",
       "\n",
       "    .dataframe tbody tr th {\n",
       "        vertical-align: top;\n",
       "    }\n",
       "\n",
       "    .dataframe thead th {\n",
       "        text-align: right;\n",
       "    }\n",
       "</style>\n",
       "<table border=\"1\" class=\"dataframe\">\n",
       "  <thead>\n",
       "    <tr style=\"text-align: right;\">\n",
       "      <th></th>\n",
       "      <th>condition_2</th>\n",
       "      <th>condition_3</th>\n",
       "      <th>condition_4</th>\n",
       "      <th>condition_5</th>\n",
       "      <th>grade_4</th>\n",
       "      <th>grade_5</th>\n",
       "      <th>grade_6</th>\n",
       "      <th>grade_7</th>\n",
       "      <th>grade_8</th>\n",
       "      <th>grade_9</th>\n",
       "      <th>...</th>\n",
       "      <th>zipcode_98146</th>\n",
       "      <th>zipcode_98148</th>\n",
       "      <th>zipcode_98155</th>\n",
       "      <th>zipcode_98166</th>\n",
       "      <th>zipcode_98168</th>\n",
       "      <th>zipcode_98177</th>\n",
       "      <th>zipcode_98178</th>\n",
       "      <th>zipcode_98188</th>\n",
       "      <th>zipcode_98198</th>\n",
       "      <th>zipcode_98199</th>\n",
       "    </tr>\n",
       "  </thead>\n",
       "  <tbody>\n",
       "    <tr>\n",
       "      <th>0</th>\n",
       "      <td>0</td>\n",
       "      <td>1</td>\n",
       "      <td>0</td>\n",
       "      <td>0</td>\n",
       "      <td>0</td>\n",
       "      <td>0</td>\n",
       "      <td>0</td>\n",
       "      <td>1</td>\n",
       "      <td>0</td>\n",
       "      <td>0</td>\n",
       "      <td>...</td>\n",
       "      <td>0</td>\n",
       "      <td>0</td>\n",
       "      <td>0</td>\n",
       "      <td>0</td>\n",
       "      <td>0</td>\n",
       "      <td>0</td>\n",
       "      <td>1</td>\n",
       "      <td>0</td>\n",
       "      <td>0</td>\n",
       "      <td>0</td>\n",
       "    </tr>\n",
       "    <tr>\n",
       "      <th>1</th>\n",
       "      <td>0</td>\n",
       "      <td>1</td>\n",
       "      <td>0</td>\n",
       "      <td>0</td>\n",
       "      <td>0</td>\n",
       "      <td>0</td>\n",
       "      <td>0</td>\n",
       "      <td>1</td>\n",
       "      <td>0</td>\n",
       "      <td>0</td>\n",
       "      <td>...</td>\n",
       "      <td>0</td>\n",
       "      <td>0</td>\n",
       "      <td>0</td>\n",
       "      <td>0</td>\n",
       "      <td>0</td>\n",
       "      <td>0</td>\n",
       "      <td>0</td>\n",
       "      <td>0</td>\n",
       "      <td>0</td>\n",
       "      <td>0</td>\n",
       "    </tr>\n",
       "    <tr>\n",
       "      <th>2</th>\n",
       "      <td>0</td>\n",
       "      <td>1</td>\n",
       "      <td>0</td>\n",
       "      <td>0</td>\n",
       "      <td>0</td>\n",
       "      <td>0</td>\n",
       "      <td>1</td>\n",
       "      <td>0</td>\n",
       "      <td>0</td>\n",
       "      <td>0</td>\n",
       "      <td>...</td>\n",
       "      <td>0</td>\n",
       "      <td>0</td>\n",
       "      <td>0</td>\n",
       "      <td>0</td>\n",
       "      <td>0</td>\n",
       "      <td>0</td>\n",
       "      <td>0</td>\n",
       "      <td>0</td>\n",
       "      <td>0</td>\n",
       "      <td>0</td>\n",
       "    </tr>\n",
       "    <tr>\n",
       "      <th>3</th>\n",
       "      <td>0</td>\n",
       "      <td>0</td>\n",
       "      <td>0</td>\n",
       "      <td>1</td>\n",
       "      <td>0</td>\n",
       "      <td>0</td>\n",
       "      <td>0</td>\n",
       "      <td>1</td>\n",
       "      <td>0</td>\n",
       "      <td>0</td>\n",
       "      <td>...</td>\n",
       "      <td>0</td>\n",
       "      <td>0</td>\n",
       "      <td>0</td>\n",
       "      <td>0</td>\n",
       "      <td>0</td>\n",
       "      <td>0</td>\n",
       "      <td>0</td>\n",
       "      <td>0</td>\n",
       "      <td>0</td>\n",
       "      <td>0</td>\n",
       "    </tr>\n",
       "    <tr>\n",
       "      <th>4</th>\n",
       "      <td>0</td>\n",
       "      <td>1</td>\n",
       "      <td>0</td>\n",
       "      <td>0</td>\n",
       "      <td>0</td>\n",
       "      <td>0</td>\n",
       "      <td>0</td>\n",
       "      <td>0</td>\n",
       "      <td>1</td>\n",
       "      <td>0</td>\n",
       "      <td>...</td>\n",
       "      <td>0</td>\n",
       "      <td>0</td>\n",
       "      <td>0</td>\n",
       "      <td>0</td>\n",
       "      <td>0</td>\n",
       "      <td>0</td>\n",
       "      <td>0</td>\n",
       "      <td>0</td>\n",
       "      <td>0</td>\n",
       "      <td>0</td>\n",
       "    </tr>\n",
       "  </tbody>\n",
       "</table>\n",
       "<p>5 rows × 81 columns</p>\n",
       "</div>"
      ],
      "text/plain": [
       "   condition_2  condition_3  condition_4  condition_5  grade_4  grade_5  \\\n",
       "0            0            1            0            0        0        0   \n",
       "1            0            1            0            0        0        0   \n",
       "2            0            1            0            0        0        0   \n",
       "3            0            0            0            1        0        0   \n",
       "4            0            1            0            0        0        0   \n",
       "\n",
       "   grade_6  grade_7  grade_8  grade_9  ...  zipcode_98146  zipcode_98148  \\\n",
       "0        0        1        0        0  ...              0              0   \n",
       "1        0        1        0        0  ...              0              0   \n",
       "2        1        0        0        0  ...              0              0   \n",
       "3        0        1        0        0  ...              0              0   \n",
       "4        0        0        1        0  ...              0              0   \n",
       "\n",
       "   zipcode_98155  zipcode_98166  zipcode_98168  zipcode_98177  zipcode_98178  \\\n",
       "0              0              0              0              0              1   \n",
       "1              0              0              0              0              0   \n",
       "2              0              0              0              0              0   \n",
       "3              0              0              0              0              0   \n",
       "4              0              0              0              0              0   \n",
       "\n",
       "   zipcode_98188  zipcode_98198  zipcode_98199  \n",
       "0              0              0              0  \n",
       "1              0              0              0  \n",
       "2              0              0              0  \n",
       "3              0              0              0  \n",
       "4              0              0              0  \n",
       "\n",
       "[5 rows x 81 columns]"
      ]
     },
     "execution_count": 68,
     "metadata": {},
     "output_type": "execute_result"
    }
   ],
   "source": [
    "feats_ohe.head()"
   ]
  },
  {
   "cell_type": "markdown",
   "metadata": {},
   "source": [
    "## Baseline DataFrame"
   ]
  },
  {
   "cell_type": "code",
   "execution_count": 69,
   "metadata": {},
   "outputs": [],
   "source": [
    "#creating seperate dataframe from the original to make changes\n",
    "df_b = df"
   ]
  },
  {
   "cell_type": "markdown",
   "metadata": {},
   "source": [
    ">Dropping 'lat', 'long', 'sqft_above', 'sqft_living15', 'sqft_lot15', 'view', and 'yr_renovated'"
   ]
  },
  {
   "cell_type": "code",
   "execution_count": 70,
   "metadata": {},
   "outputs": [],
   "source": [
    "#dropping the multicollinearies and unwanted columns first\n",
    "df_b.drop('lat', axis = 1, inplace = True)\n",
    "df_b.drop('long', axis = 1, inplace = True)\n",
    "df_b.drop('sqft_above', axis = 1, inplace = True)\n",
    "df_b.drop('sqft_living15', axis = 1, inplace = True)\n",
    "df_b.drop('sqft_lot15', axis = 1, inplace = True)\n",
    "df_b.drop('view', axis = 1, inplace = True)\n",
    "df_b.drop('yr_renovated', axis = 1, inplace = True)"
   ]
  },
  {
   "cell_type": "markdown",
   "metadata": {},
   "source": [
    ">Dropping 'condition', 'grade', and 'zipcode' since they're replaced with one hot encoded features"
   ]
  },
  {
   "cell_type": "code",
   "execution_count": 71,
   "metadata": {},
   "outputs": [],
   "source": [
    "df_b.drop('condition', axis = 1, inplace = True)\n",
    "df_b.drop('grade', axis = 1, inplace = True)\n",
    "df_b.drop('zipcode', axis = 1, inplace = True)"
   ]
  },
  {
   "cell_type": "code",
   "execution_count": 72,
   "metadata": {
    "scrolled": true
   },
   "outputs": [
    {
     "data": {
      "text/plain": [
       "Index(['price', 'bedrooms', 'bathrooms', 'sqft_living', 'sqft_lot', 'floors',\n",
       "       'waterfront', 'sqft_basement', 'yr_built', 'month_sold', 'year_sold',\n",
       "       'sold_spring_time', 'sold_summer_time', 'sold_fall_time',\n",
       "       'sold_winter_time', 'has_renovated'],\n",
       "      dtype='object')"
      ]
     },
     "execution_count": 72,
     "metadata": {},
     "output_type": "execute_result"
    }
   ],
   "source": [
    "#looking at the columns function to make sure they have been removed\n",
    "df_b.columns"
   ]
  },
  {
   "cell_type": "markdown",
   "metadata": {},
   "source": [
    "> Adding the new features to the baseline data"
   ]
  },
  {
   "cell_type": "code",
   "execution_count": 73,
   "metadata": {},
   "outputs": [],
   "source": [
    "df_b = pd.concat([df_b, feats_ohe], axis = 1)"
   ]
  },
  {
   "cell_type": "code",
   "execution_count": 74,
   "metadata": {
    "scrolled": true
   },
   "outputs": [
    {
     "name": "stdout",
     "output_type": "stream",
     "text": [
      "<class 'pandas.core.frame.DataFrame'>\n",
      "Int64Index: 17110 entries, 0 to 21596\n",
      "Data columns (total 97 columns):\n",
      " #   Column            Non-Null Count  Dtype  \n",
      "---  ------            --------------  -----  \n",
      " 0   price             17110 non-null  int32  \n",
      " 1   bedrooms          17110 non-null  int64  \n",
      " 2   bathrooms         17110 non-null  float64\n",
      " 3   sqft_living       17110 non-null  int64  \n",
      " 4   sqft_lot          17110 non-null  int64  \n",
      " 5   floors            17110 non-null  float64\n",
      " 6   waterfront        17110 non-null  int32  \n",
      " 7   sqft_basement     17110 non-null  int32  \n",
      " 8   yr_built          17110 non-null  int64  \n",
      " 9   month_sold        17110 non-null  int64  \n",
      " 10  year_sold         17110 non-null  int64  \n",
      " 11  sold_spring_time  17110 non-null  int32  \n",
      " 12  sold_summer_time  17110 non-null  int32  \n",
      " 13  sold_fall_time    17110 non-null  int32  \n",
      " 14  sold_winter_time  17110 non-null  int32  \n",
      " 15  has_renovated     17110 non-null  int32  \n",
      " 16  condition_2       17110 non-null  int32  \n",
      " 17  condition_3       17110 non-null  int32  \n",
      " 18  condition_4       17110 non-null  int32  \n",
      " 19  condition_5       17110 non-null  int32  \n",
      " 20  grade_4           17110 non-null  int32  \n",
      " 21  grade_5           17110 non-null  int32  \n",
      " 22  grade_6           17110 non-null  int32  \n",
      " 23  grade_7           17110 non-null  int32  \n",
      " 24  grade_8           17110 non-null  int32  \n",
      " 25  grade_9           17110 non-null  int32  \n",
      " 26  grade_10          17110 non-null  int32  \n",
      " 27  grade_11          17110 non-null  int32  \n",
      " 28  zipcode_98002     17110 non-null  int32  \n",
      " 29  zipcode_98003     17110 non-null  int32  \n",
      " 30  zipcode_98004     17110 non-null  int32  \n",
      " 31  zipcode_98005     17110 non-null  int32  \n",
      " 32  zipcode_98006     17110 non-null  int32  \n",
      " 33  zipcode_98007     17110 non-null  int32  \n",
      " 34  zipcode_98008     17110 non-null  int32  \n",
      " 35  zipcode_98010     17110 non-null  int32  \n",
      " 36  zipcode_98011     17110 non-null  int32  \n",
      " 37  zipcode_98014     17110 non-null  int32  \n",
      " 38  zipcode_98019     17110 non-null  int32  \n",
      " 39  zipcode_98022     17110 non-null  int32  \n",
      " 40  zipcode_98023     17110 non-null  int32  \n",
      " 41  zipcode_98024     17110 non-null  int32  \n",
      " 42  zipcode_98027     17110 non-null  int32  \n",
      " 43  zipcode_98028     17110 non-null  int32  \n",
      " 44  zipcode_98029     17110 non-null  int32  \n",
      " 45  zipcode_98030     17110 non-null  int32  \n",
      " 46  zipcode_98031     17110 non-null  int32  \n",
      " 47  zipcode_98032     17110 non-null  int32  \n",
      " 48  zipcode_98033     17110 non-null  int32  \n",
      " 49  zipcode_98034     17110 non-null  int32  \n",
      " 50  zipcode_98038     17110 non-null  int32  \n",
      " 51  zipcode_98039     17110 non-null  int32  \n",
      " 52  zipcode_98040     17110 non-null  int32  \n",
      " 53  zipcode_98042     17110 non-null  int32  \n",
      " 54  zipcode_98045     17110 non-null  int32  \n",
      " 55  zipcode_98052     17110 non-null  int32  \n",
      " 56  zipcode_98053     17110 non-null  int32  \n",
      " 57  zipcode_98055     17110 non-null  int32  \n",
      " 58  zipcode_98056     17110 non-null  int32  \n",
      " 59  zipcode_98058     17110 non-null  int32  \n",
      " 60  zipcode_98059     17110 non-null  int32  \n",
      " 61  zipcode_98065     17110 non-null  int32  \n",
      " 62  zipcode_98070     17110 non-null  int32  \n",
      " 63  zipcode_98072     17110 non-null  int32  \n",
      " 64  zipcode_98074     17110 non-null  int32  \n",
      " 65  zipcode_98075     17110 non-null  int32  \n",
      " 66  zipcode_98077     17110 non-null  int32  \n",
      " 67  zipcode_98092     17110 non-null  int32  \n",
      " 68  zipcode_98102     17110 non-null  int32  \n",
      " 69  zipcode_98103     17110 non-null  int32  \n",
      " 70  zipcode_98105     17110 non-null  int32  \n",
      " 71  zipcode_98106     17110 non-null  int32  \n",
      " 72  zipcode_98107     17110 non-null  int32  \n",
      " 73  zipcode_98108     17110 non-null  int32  \n",
      " 74  zipcode_98109     17110 non-null  int32  \n",
      " 75  zipcode_98112     17110 non-null  int32  \n",
      " 76  zipcode_98115     17110 non-null  int32  \n",
      " 77  zipcode_98116     17110 non-null  int32  \n",
      " 78  zipcode_98117     17110 non-null  int32  \n",
      " 79  zipcode_98118     17110 non-null  int32  \n",
      " 80  zipcode_98119     17110 non-null  int32  \n",
      " 81  zipcode_98122     17110 non-null  int32  \n",
      " 82  zipcode_98125     17110 non-null  int32  \n",
      " 83  zipcode_98126     17110 non-null  int32  \n",
      " 84  zipcode_98133     17110 non-null  int32  \n",
      " 85  zipcode_98136     17110 non-null  int32  \n",
      " 86  zipcode_98144     17110 non-null  int32  \n",
      " 87  zipcode_98146     17110 non-null  int32  \n",
      " 88  zipcode_98148     17110 non-null  int32  \n",
      " 89  zipcode_98155     17110 non-null  int32  \n",
      " 90  zipcode_98166     17110 non-null  int32  \n",
      " 91  zipcode_98168     17110 non-null  int32  \n",
      " 92  zipcode_98177     17110 non-null  int32  \n",
      " 93  zipcode_98178     17110 non-null  int32  \n",
      " 94  zipcode_98188     17110 non-null  int32  \n",
      " 95  zipcode_98198     17110 non-null  int32  \n",
      " 96  zipcode_98199     17110 non-null  int32  \n",
      "dtypes: float64(2), int32(89), int64(6)\n",
      "memory usage: 7.0 MB\n"
     ]
    }
   ],
   "source": [
    "#checking to see the new dataset and ensuring that there is no missing values\n",
    "df_b.info()"
   ]
  },
  {
   "cell_type": "markdown",
   "metadata": {},
   "source": [
    "## Train-Test Split"
   ]
  },
  {
   "cell_type": "code",
   "execution_count": 75,
   "metadata": {},
   "outputs": [],
   "source": [
    "#importing the necessary libraries for train-test split\n",
    "import scipy.stats as stats\n",
    "from sklearn.model_selection import train_test_split\n",
    "from sklearn.linear_model import LinearRegression\n",
    "from sklearn.metrics import mean_squared_error"
   ]
  },
  {
   "cell_type": "code",
   "execution_count": 76,
   "metadata": {},
   "outputs": [],
   "source": [
    "y = df_b[['price']]\n",
    "X = df_b.drop(['price'], axis=1)"
   ]
  },
  {
   "cell_type": "code",
   "execution_count": 77,
   "metadata": {},
   "outputs": [],
   "source": [
    "X_train, X_test, y_train, y_test = train_test_split(X, y, test_size = 0.2, \n",
    "                                                    random_state = (123))"
   ]
  },
  {
   "cell_type": "code",
   "execution_count": 78,
   "metadata": {},
   "outputs": [
    {
     "name": "stdout",
     "output_type": "stream",
     "text": [
      "13688 3422 13688 3422\n"
     ]
    }
   ],
   "source": [
    "print(len(X_train), len(X_test), len(y_train), len(y_test))"
   ]
  },
  {
   "cell_type": "code",
   "execution_count": 79,
   "metadata": {},
   "outputs": [],
   "source": [
    "linreg = LinearRegression()\n",
    "linreg.fit(X_train, y_train)\n",
    "\n",
    "y_hat_train = linreg.predict(X_train)\n",
    "y_hat_test = linreg.predict(X_test)"
   ]
  },
  {
   "cell_type": "markdown",
   "metadata": {},
   "source": [
    "Looking at the residuals and finding the MSE for training and test sets"
   ]
  },
  {
   "cell_type": "code",
   "execution_count": 80,
   "metadata": {},
   "outputs": [],
   "source": [
    "train_residuals = y_hat_train - y_train\n",
    "test_residuals = y_hat_test - y_test"
   ]
  },
  {
   "cell_type": "code",
   "execution_count": 81,
   "metadata": {},
   "outputs": [
    {
     "name": "stdout",
     "output_type": "stream",
     "text": [
      "Train Mean Squarred Error: price    5.479582e+09\n",
      "dtype: float64\n",
      "Test Mean Squarred Error: price    5.455148e+09\n",
      "dtype: float64\n"
     ]
    }
   ],
   "source": [
    "mse_train = np.sum((y_train-y_hat_train)**2)/len(y_train)\n",
    "mse_test = np.sum((y_test-y_hat_test)**2)/len(y_test)\n",
    "print('Train Mean Squarred Error:', mse_train)\n",
    "print('Test Mean Squarred Error:', mse_test)"
   ]
  },
  {
   "cell_type": "code",
   "execution_count": 82,
   "metadata": {},
   "outputs": [
    {
     "name": "stdout",
     "output_type": "stream",
     "text": [
      "Train Mean Squarred Error: 5479581788.236872\n",
      "Test Mean Squarred Error: 5455147860.203289\n"
     ]
    }
   ],
   "source": [
    "train_mse = mean_squared_error(y_train, y_hat_train)\n",
    "test_mse = mean_squared_error(y_test, y_hat_test)\n",
    "print('Train Mean Squarred Error:', train_mse)\n",
    "print('Test Mean Squarred Error:', test_mse)"
   ]
  },
  {
   "cell_type": "markdown",
   "metadata": {},
   "source": [
    "## Fitting Baseline Model"
   ]
  },
  {
   "cell_type": "code",
   "execution_count": 83,
   "metadata": {},
   "outputs": [],
   "source": [
    "from statsmodels.formula.api import ols"
   ]
  },
  {
   "cell_type": "code",
   "execution_count": 84,
   "metadata": {},
   "outputs": [],
   "source": [
    "outcome = 'price'\n",
    "dftrain = pd.concat([X_train, y_train], axis = 1)"
   ]
  },
  {
   "cell_type": "code",
   "execution_count": 85,
   "metadata": {
    "scrolled": true
   },
   "outputs": [
    {
     "data": {
      "text/html": [
       "<table class=\"simpletable\">\n",
       "<caption>OLS Regression Results</caption>\n",
       "<tr>\n",
       "  <th>Dep. Variable:</th>          <td>price</td>      <th>  R-squared:         </th>  <td>   0.825</td>  \n",
       "</tr>\n",
       "<tr>\n",
       "  <th>Model:</th>                   <td>OLS</td>       <th>  Adj. R-squared:    </th>  <td>   0.824</td>  \n",
       "</tr>\n",
       "<tr>\n",
       "  <th>Method:</th>             <td>Least Squares</td>  <th>  F-statistic:       </th>  <td>   676.8</td>  \n",
       "</tr>\n",
       "<tr>\n",
       "  <th>Date:</th>             <td>Wed, 18 Nov 2020</td> <th>  Prob (F-statistic):</th>   <td>  0.00</td>   \n",
       "</tr>\n",
       "<tr>\n",
       "  <th>Time:</th>                 <td>13:33:41</td>     <th>  Log-Likelihood:    </th> <td>-1.7289e+05</td>\n",
       "</tr>\n",
       "<tr>\n",
       "  <th>No. Observations:</th>      <td> 13688</td>      <th>  AIC:               </th>  <td>3.460e+05</td> \n",
       "</tr>\n",
       "<tr>\n",
       "  <th>Df Residuals:</th>          <td> 13592</td>      <th>  BIC:               </th>  <td>3.467e+05</td> \n",
       "</tr>\n",
       "<tr>\n",
       "  <th>Df Model:</th>              <td>    95</td>      <th>                     </th>      <td> </td>     \n",
       "</tr>\n",
       "<tr>\n",
       "  <th>Covariance Type:</th>      <td>nonrobust</td>    <th>                     </th>      <td> </td>     \n",
       "</tr>\n",
       "</table>\n",
       "<table class=\"simpletable\">\n",
       "<tr>\n",
       "          <td></td>            <th>coef</th>     <th>std err</th>      <th>t</th>      <th>P>|t|</th>  <th>[0.025</th>    <th>0.975]</th>  \n",
       "</tr>\n",
       "<tr>\n",
       "  <th>Intercept</th>        <td>-5.304e+07</td> <td> 4.19e+06</td> <td>  -12.667</td> <td> 0.000</td> <td>-6.12e+07</td> <td>-4.48e+07</td>\n",
       "</tr>\n",
       "<tr>\n",
       "  <th>bedrooms</th>         <td>-3123.9499</td> <td> 1018.856</td> <td>   -3.066</td> <td> 0.002</td> <td>-5121.049</td> <td>-1126.850</td>\n",
       "</tr>\n",
       "<tr>\n",
       "  <th>bathrooms</th>        <td> 1.474e+04</td> <td> 1664.506</td> <td>    8.857</td> <td> 0.000</td> <td> 1.15e+04</td> <td>  1.8e+04</td>\n",
       "</tr>\n",
       "<tr>\n",
       "  <th>sqft_living</th>      <td>  119.1967</td> <td>    2.011</td> <td>   59.283</td> <td> 0.000</td> <td>  115.256</td> <td>  123.138</td>\n",
       "</tr>\n",
       "<tr>\n",
       "  <th>sqft_lot</th>         <td>    1.4897</td> <td>    0.224</td> <td>    6.645</td> <td> 0.000</td> <td>    1.050</td> <td>    1.929</td>\n",
       "</tr>\n",
       "<tr>\n",
       "  <th>floors</th>           <td>-1.637e+04</td> <td> 1964.834</td> <td>   -8.330</td> <td> 0.000</td> <td>-2.02e+04</td> <td>-1.25e+04</td>\n",
       "</tr>\n",
       "<tr>\n",
       "  <th>waterfront</th>       <td> 3.123e+05</td> <td>  1.7e+04</td> <td>   18.339</td> <td> 0.000</td> <td> 2.79e+05</td> <td> 3.46e+05</td>\n",
       "</tr>\n",
       "<tr>\n",
       "  <th>sqft_basement</th>    <td>  -35.7040</td> <td>    2.520</td> <td>  -14.167</td> <td> 0.000</td> <td>  -40.644</td> <td>  -30.764</td>\n",
       "</tr>\n",
       "<tr>\n",
       "  <th>yr_built</th>         <td> -491.0524</td> <td>   39.361</td> <td>  -12.476</td> <td> 0.000</td> <td> -568.205</td> <td> -413.899</td>\n",
       "</tr>\n",
       "<tr>\n",
       "  <th>month_sold</th>       <td> 2757.0572</td> <td>  873.654</td> <td>    3.156</td> <td> 0.002</td> <td> 1044.575</td> <td> 4469.540</td>\n",
       "</tr>\n",
       "<tr>\n",
       "  <th>year_sold</th>        <td>  3.34e+04</td> <td> 2596.096</td> <td>   12.865</td> <td> 0.000</td> <td> 2.83e+04</td> <td> 3.85e+04</td>\n",
       "</tr>\n",
       "<tr>\n",
       "  <th>sold_spring_time</th> <td>-1.326e+07</td> <td> 1.05e+06</td> <td>  -12.669</td> <td> 0.000</td> <td>-1.53e+07</td> <td>-1.12e+07</td>\n",
       "</tr>\n",
       "<tr>\n",
       "  <th>sold_summer_time</th> <td>-1.325e+07</td> <td> 1.05e+06</td> <td>  -12.663</td> <td> 0.000</td> <td>-1.53e+07</td> <td>-1.12e+07</td>\n",
       "</tr>\n",
       "<tr>\n",
       "  <th>sold_fall_time</th>   <td>-1.326e+07</td> <td> 1.05e+06</td> <td>  -12.670</td> <td> 0.000</td> <td>-1.53e+07</td> <td>-1.12e+07</td>\n",
       "</tr>\n",
       "<tr>\n",
       "  <th>sold_winter_time</th> <td>-1.327e+07</td> <td> 1.05e+06</td> <td>  -12.665</td> <td> 0.000</td> <td>-1.53e+07</td> <td>-1.12e+07</td>\n",
       "</tr>\n",
       "<tr>\n",
       "  <th>has_renovated</th>    <td> 2.854e+04</td> <td> 4139.915</td> <td>    6.893</td> <td> 0.000</td> <td> 2.04e+04</td> <td> 3.67e+04</td>\n",
       "</tr>\n",
       "<tr>\n",
       "  <th>condition_2</th>      <td> 3.095e+04</td> <td> 1.96e+04</td> <td>    1.582</td> <td> 0.114</td> <td>-7402.263</td> <td> 6.93e+04</td>\n",
       "</tr>\n",
       "<tr>\n",
       "  <th>condition_3</th>      <td> 7.132e+04</td> <td> 1.83e+04</td> <td>    3.903</td> <td> 0.000</td> <td> 3.55e+04</td> <td> 1.07e+05</td>\n",
       "</tr>\n",
       "<tr>\n",
       "  <th>condition_4</th>      <td> 8.929e+04</td> <td> 1.83e+04</td> <td>    4.883</td> <td> 0.000</td> <td> 5.34e+04</td> <td> 1.25e+05</td>\n",
       "</tr>\n",
       "<tr>\n",
       "  <th>condition_5</th>      <td>  1.18e+05</td> <td> 1.84e+04</td> <td>    6.417</td> <td> 0.000</td> <td>  8.2e+04</td> <td> 1.54e+05</td>\n",
       "</tr>\n",
       "<tr>\n",
       "  <th>grade_4</th>          <td>-1.031e+05</td> <td> 7.75e+04</td> <td>   -1.330</td> <td> 0.183</td> <td>-2.55e+05</td> <td> 4.88e+04</td>\n",
       "</tr>\n",
       "<tr>\n",
       "  <th>grade_5</th>          <td>-1.229e+05</td> <td> 7.49e+04</td> <td>   -1.641</td> <td> 0.101</td> <td> -2.7e+05</td> <td> 2.39e+04</td>\n",
       "</tr>\n",
       "<tr>\n",
       "  <th>grade_6</th>          <td>-1.111e+05</td> <td> 7.47e+04</td> <td>   -1.488</td> <td> 0.137</td> <td>-2.57e+05</td> <td> 3.53e+04</td>\n",
       "</tr>\n",
       "<tr>\n",
       "  <th>grade_7</th>          <td>-7.835e+04</td> <td> 7.47e+04</td> <td>   -1.049</td> <td> 0.294</td> <td>-2.25e+05</td> <td>  6.8e+04</td>\n",
       "</tr>\n",
       "<tr>\n",
       "  <th>grade_8</th>          <td>-3.141e+04</td> <td> 7.47e+04</td> <td>   -0.420</td> <td> 0.674</td> <td>-1.78e+05</td> <td> 1.15e+05</td>\n",
       "</tr>\n",
       "<tr>\n",
       "  <th>grade_9</th>          <td> 3.445e+04</td> <td> 7.48e+04</td> <td>    0.461</td> <td> 0.645</td> <td>-1.12e+05</td> <td> 1.81e+05</td>\n",
       "</tr>\n",
       "<tr>\n",
       "  <th>grade_10</th>         <td> 5.742e+04</td> <td> 7.49e+04</td> <td>    0.766</td> <td> 0.443</td> <td>-8.94e+04</td> <td> 2.04e+05</td>\n",
       "</tr>\n",
       "<tr>\n",
       "  <th>grade_11</th>         <td> 1.017e+05</td> <td> 7.67e+04</td> <td>    1.325</td> <td> 0.185</td> <td>-4.87e+04</td> <td> 2.52e+05</td>\n",
       "</tr>\n",
       "<tr>\n",
       "  <th>zipcode_98002</th>    <td> 5132.4481</td> <td> 7732.027</td> <td>    0.664</td> <td> 0.507</td> <td>   -1e+04</td> <td> 2.03e+04</td>\n",
       "</tr>\n",
       "<tr>\n",
       "  <th>zipcode_98003</th>    <td> 6774.7572</td> <td> 7072.119</td> <td>    0.958</td> <td> 0.338</td> <td>-7087.576</td> <td> 2.06e+04</td>\n",
       "</tr>\n",
       "<tr>\n",
       "  <th>zipcode_98004</th>    <td> 4.689e+05</td> <td> 9601.882</td> <td>   48.832</td> <td> 0.000</td> <td>  4.5e+05</td> <td> 4.88e+05</td>\n",
       "</tr>\n",
       "<tr>\n",
       "  <th>zipcode_98005</th>    <td> 3.224e+05</td> <td> 9764.323</td> <td>   33.013</td> <td> 0.000</td> <td> 3.03e+05</td> <td> 3.41e+05</td>\n",
       "</tr>\n",
       "<tr>\n",
       "  <th>zipcode_98006</th>    <td> 2.671e+05</td> <td> 6883.047</td> <td>   38.807</td> <td> 0.000</td> <td> 2.54e+05</td> <td> 2.81e+05</td>\n",
       "</tr>\n",
       "<tr>\n",
       "  <th>zipcode_98007</th>    <td> 2.456e+05</td> <td> 9144.257</td> <td>   26.860</td> <td> 0.000</td> <td> 2.28e+05</td> <td> 2.64e+05</td>\n",
       "</tr>\n",
       "<tr>\n",
       "  <th>zipcode_98008</th>    <td> 2.422e+05</td> <td> 7048.059</td> <td>   34.359</td> <td> 0.000</td> <td> 2.28e+05</td> <td> 2.56e+05</td>\n",
       "</tr>\n",
       "<tr>\n",
       "  <th>zipcode_98010</th>    <td>  7.62e+04</td> <td> 1.29e+04</td> <td>    5.889</td> <td> 0.000</td> <td> 5.08e+04</td> <td> 1.02e+05</td>\n",
       "</tr>\n",
       "<tr>\n",
       "  <th>zipcode_98011</th>    <td> 1.565e+05</td> <td> 7663.558</td> <td>   20.419</td> <td> 0.000</td> <td> 1.41e+05</td> <td> 1.72e+05</td>\n",
       "</tr>\n",
       "<tr>\n",
       "  <th>zipcode_98014</th>    <td> 9.712e+04</td> <td> 1.15e+04</td> <td>    8.479</td> <td> 0.000</td> <td> 7.47e+04</td> <td>  1.2e+05</td>\n",
       "</tr>\n",
       "<tr>\n",
       "  <th>zipcode_98019</th>    <td> 1.062e+05</td> <td> 8176.930</td> <td>   12.993</td> <td> 0.000</td> <td> 9.02e+04</td> <td> 1.22e+05</td>\n",
       "</tr>\n",
       "<tr>\n",
       "  <th>zipcode_98022</th>    <td> 6503.6202</td> <td> 8205.934</td> <td>    0.793</td> <td> 0.428</td> <td>-9581.147</td> <td> 2.26e+04</td>\n",
       "</tr>\n",
       "<tr>\n",
       "  <th>zipcode_98023</th>    <td>-1.435e+04</td> <td> 6039.493</td> <td>   -2.377</td> <td> 0.017</td> <td>-2.62e+04</td> <td>-2515.342</td>\n",
       "</tr>\n",
       "<tr>\n",
       "  <th>zipcode_98024</th>    <td> 1.254e+05</td> <td> 1.77e+04</td> <td>    7.090</td> <td> 0.000</td> <td> 9.07e+04</td> <td>  1.6e+05</td>\n",
       "</tr>\n",
       "<tr>\n",
       "  <th>zipcode_98027</th>    <td>  2.33e+05</td> <td> 7157.976</td> <td>   32.555</td> <td> 0.000</td> <td> 2.19e+05</td> <td> 2.47e+05</td>\n",
       "</tr>\n",
       "<tr>\n",
       "  <th>zipcode_98028</th>    <td> 1.393e+05</td> <td> 7097.900</td> <td>   19.623</td> <td> 0.000</td> <td> 1.25e+05</td> <td> 1.53e+05</td>\n",
       "</tr>\n",
       "<tr>\n",
       "  <th>zipcode_98029</th>    <td> 2.375e+05</td> <td> 6934.213</td> <td>   34.247</td> <td> 0.000</td> <td> 2.24e+05</td> <td> 2.51e+05</td>\n",
       "</tr>\n",
       "<tr>\n",
       "  <th>zipcode_98030</th>    <td> 9177.9234</td> <td> 7169.913</td> <td>    1.280</td> <td> 0.201</td> <td>-4876.100</td> <td> 2.32e+04</td>\n",
       "</tr>\n",
       "<tr>\n",
       "  <th>zipcode_98031</th>    <td> 1.704e+04</td> <td> 7074.692</td> <td>    2.409</td> <td> 0.016</td> <td> 3172.080</td> <td> 3.09e+04</td>\n",
       "</tr>\n",
       "<tr>\n",
       "  <th>zipcode_98032</th>    <td>-1415.6811</td> <td> 8910.567</td> <td>   -0.159</td> <td> 0.874</td> <td>-1.89e+04</td> <td> 1.61e+04</td>\n",
       "</tr>\n",
       "<tr>\n",
       "  <th>zipcode_98033</th>    <td> 3.075e+05</td> <td> 6647.319</td> <td>   46.256</td> <td> 0.000</td> <td> 2.94e+05</td> <td> 3.21e+05</td>\n",
       "</tr>\n",
       "<tr>\n",
       "  <th>zipcode_98034</th>    <td>   1.9e+05</td> <td> 5978.398</td> <td>   31.783</td> <td> 0.000</td> <td> 1.78e+05</td> <td> 2.02e+05</td>\n",
       "</tr>\n",
       "<tr>\n",
       "  <th>zipcode_98038</th>    <td> 4.718e+04</td> <td> 5973.435</td> <td>    7.899</td> <td> 0.000</td> <td> 3.55e+04</td> <td> 5.89e+04</td>\n",
       "</tr>\n",
       "<tr>\n",
       "  <th>zipcode_98039</th>    <td> 6.323e+05</td> <td> 5.28e+04</td> <td>   11.982</td> <td> 0.000</td> <td> 5.29e+05</td> <td> 7.36e+05</td>\n",
       "</tr>\n",
       "<tr>\n",
       "  <th>zipcode_98040</th>    <td> 4.107e+05</td> <td> 9628.665</td> <td>   42.659</td> <td> 0.000</td> <td> 3.92e+05</td> <td>  4.3e+05</td>\n",
       "</tr>\n",
       "<tr>\n",
       "  <th>zipcode_98042</th>    <td> 1.401e+04</td> <td> 6105.629</td> <td>    2.295</td> <td> 0.022</td> <td> 2042.888</td> <td>  2.6e+04</td>\n",
       "</tr>\n",
       "<tr>\n",
       "  <th>zipcode_98045</th>    <td> 1.098e+05</td> <td> 8519.201</td> <td>   12.883</td> <td> 0.000</td> <td> 9.31e+04</td> <td> 1.26e+05</td>\n",
       "</tr>\n",
       "<tr>\n",
       "  <th>zipcode_98052</th>    <td> 2.573e+05</td> <td> 6002.118</td> <td>   42.870</td> <td> 0.000</td> <td> 2.46e+05</td> <td> 2.69e+05</td>\n",
       "</tr>\n",
       "<tr>\n",
       "  <th>zipcode_98053</th>    <td> 2.611e+05</td> <td> 7303.351</td> <td>   35.757</td> <td> 0.000</td> <td> 2.47e+05</td> <td> 2.75e+05</td>\n",
       "</tr>\n",
       "<tr>\n",
       "  <th>zipcode_98055</th>    <td> 4.417e+04</td> <td> 7107.316</td> <td>    6.214</td> <td> 0.000</td> <td> 3.02e+04</td> <td> 5.81e+04</td>\n",
       "</tr>\n",
       "<tr>\n",
       "  <th>zipcode_98056</th>    <td> 1.033e+05</td> <td> 6374.828</td> <td>   16.206</td> <td> 0.000</td> <td> 9.08e+04</td> <td> 1.16e+05</td>\n",
       "</tr>\n",
       "<tr>\n",
       "  <th>zipcode_98058</th>    <td> 3.735e+04</td> <td> 6271.847</td> <td>    5.955</td> <td> 0.000</td> <td> 2.51e+04</td> <td> 4.96e+04</td>\n",
       "</tr>\n",
       "<tr>\n",
       "  <th>zipcode_98059</th>    <td> 1.041e+05</td> <td> 6378.013</td> <td>   16.318</td> <td> 0.000</td> <td> 9.16e+04</td> <td> 1.17e+05</td>\n",
       "</tr>\n",
       "<tr>\n",
       "  <th>zipcode_98065</th>    <td> 1.533e+05</td> <td> 6998.732</td> <td>   21.910</td> <td> 0.000</td> <td>  1.4e+05</td> <td> 1.67e+05</td>\n",
       "</tr>\n",
       "<tr>\n",
       "  <th>zipcode_98070</th>    <td> 9.179e+04</td> <td> 1.67e+04</td> <td>    5.499</td> <td> 0.000</td> <td> 5.91e+04</td> <td> 1.25e+05</td>\n",
       "</tr>\n",
       "<tr>\n",
       "  <th>zipcode_98072</th>    <td> 1.516e+05</td> <td> 8284.338</td> <td>   18.304</td> <td> 0.000</td> <td> 1.35e+05</td> <td> 1.68e+05</td>\n",
       "</tr>\n",
       "<tr>\n",
       "  <th>zipcode_98074</th>    <td> 2.262e+05</td> <td> 6540.958</td> <td>   34.577</td> <td> 0.000</td> <td> 2.13e+05</td> <td> 2.39e+05</td>\n",
       "</tr>\n",
       "<tr>\n",
       "  <th>zipcode_98075</th>    <td> 2.463e+05</td> <td> 7556.943</td> <td>   32.596</td> <td> 0.000</td> <td> 2.32e+05</td> <td> 2.61e+05</td>\n",
       "</tr>\n",
       "<tr>\n",
       "  <th>zipcode_98077</th>    <td>  1.95e+05</td> <td> 1.47e+04</td> <td>   13.285</td> <td> 0.000</td> <td> 1.66e+05</td> <td> 2.24e+05</td>\n",
       "</tr>\n",
       "<tr>\n",
       "  <th>zipcode_98092</th>    <td>-1.434e+04</td> <td> 7082.835</td> <td>   -2.025</td> <td> 0.043</td> <td>-2.82e+04</td> <td> -457.722</td>\n",
       "</tr>\n",
       "<tr>\n",
       "  <th>zipcode_98102</th>    <td>  3.71e+05</td> <td> 1.21e+04</td> <td>   30.697</td> <td> 0.000</td> <td> 3.47e+05</td> <td> 3.95e+05</td>\n",
       "</tr>\n",
       "<tr>\n",
       "  <th>zipcode_98103</th>    <td> 3.144e+05</td> <td> 6272.180</td> <td>   50.132</td> <td> 0.000</td> <td> 3.02e+05</td> <td> 3.27e+05</td>\n",
       "</tr>\n",
       "<tr>\n",
       "  <th>zipcode_98105</th>    <td> 3.573e+05</td> <td> 8752.907</td> <td>   40.826</td> <td> 0.000</td> <td>  3.4e+05</td> <td> 3.75e+05</td>\n",
       "</tr>\n",
       "<tr>\n",
       "  <th>zipcode_98106</th>    <td> 1.149e+05</td> <td> 6619.257</td> <td>   17.365</td> <td> 0.000</td> <td> 1.02e+05</td> <td> 1.28e+05</td>\n",
       "</tr>\n",
       "<tr>\n",
       "  <th>zipcode_98107</th>    <td> 3.173e+05</td> <td> 7336.242</td> <td>   43.250</td> <td> 0.000</td> <td> 3.03e+05</td> <td> 3.32e+05</td>\n",
       "</tr>\n",
       "<tr>\n",
       "  <th>zipcode_98108</th>    <td> 1.181e+05</td> <td> 7903.852</td> <td>   14.942</td> <td> 0.000</td> <td> 1.03e+05</td> <td> 1.34e+05</td>\n",
       "</tr>\n",
       "<tr>\n",
       "  <th>zipcode_98109</th>    <td> 3.838e+05</td> <td> 1.18e+04</td> <td>   32.428</td> <td> 0.000</td> <td> 3.61e+05</td> <td> 4.07e+05</td>\n",
       "</tr>\n",
       "<tr>\n",
       "  <th>zipcode_98112</th>    <td> 3.906e+05</td> <td> 8915.017</td> <td>   43.814</td> <td> 0.000</td> <td> 3.73e+05</td> <td> 4.08e+05</td>\n",
       "</tr>\n",
       "<tr>\n",
       "  <th>zipcode_98115</th>    <td>  3.11e+05</td> <td> 6230.639</td> <td>   49.919</td> <td> 0.000</td> <td> 2.99e+05</td> <td> 3.23e+05</td>\n",
       "</tr>\n",
       "<tr>\n",
       "  <th>zipcode_98116</th>    <td> 2.928e+05</td> <td> 7074.527</td> <td>   41.384</td> <td> 0.000</td> <td> 2.79e+05</td> <td> 3.07e+05</td>\n",
       "</tr>\n",
       "<tr>\n",
       "  <th>zipcode_98117</th>    <td> 3.063e+05</td> <td> 6268.230</td> <td>   48.861</td> <td> 0.000</td> <td> 2.94e+05</td> <td> 3.19e+05</td>\n",
       "</tr>\n",
       "<tr>\n",
       "  <th>zipcode_98118</th>    <td> 1.621e+05</td> <td> 6232.129</td> <td>   26.005</td> <td> 0.000</td> <td>  1.5e+05</td> <td> 1.74e+05</td>\n",
       "</tr>\n",
       "<tr>\n",
       "  <th>zipcode_98119</th>    <td> 3.952e+05</td> <td> 9002.727</td> <td>   43.894</td> <td> 0.000</td> <td> 3.78e+05</td> <td> 4.13e+05</td>\n",
       "</tr>\n",
       "<tr>\n",
       "  <th>zipcode_98122</th>    <td>  3.01e+05</td> <td> 7444.263</td> <td>   40.437</td> <td> 0.000</td> <td> 2.86e+05</td> <td> 3.16e+05</td>\n",
       "</tr>\n",
       "<tr>\n",
       "  <th>zipcode_98125</th>    <td> 1.948e+05</td> <td> 6400.561</td> <td>   30.438</td> <td> 0.000</td> <td> 1.82e+05</td> <td> 2.07e+05</td>\n",
       "</tr>\n",
       "<tr>\n",
       "  <th>zipcode_98126</th>    <td> 1.963e+05</td> <td> 6651.434</td> <td>   29.516</td> <td> 0.000</td> <td> 1.83e+05</td> <td> 2.09e+05</td>\n",
       "</tr>\n",
       "<tr>\n",
       "  <th>zipcode_98133</th>    <td> 1.502e+05</td> <td> 6043.672</td> <td>   24.858</td> <td> 0.000</td> <td> 1.38e+05</td> <td> 1.62e+05</td>\n",
       "</tr>\n",
       "<tr>\n",
       "  <th>zipcode_98136</th>    <td> 2.554e+05</td> <td> 7264.226</td> <td>   35.164</td> <td> 0.000</td> <td> 2.41e+05</td> <td>  2.7e+05</td>\n",
       "</tr>\n",
       "<tr>\n",
       "  <th>zipcode_98144</th>    <td> 2.344e+05</td> <td> 6977.501</td> <td>   33.600</td> <td> 0.000</td> <td> 2.21e+05</td> <td> 2.48e+05</td>\n",
       "</tr>\n",
       "<tr>\n",
       "  <th>zipcode_98146</th>    <td> 1.006e+05</td> <td> 6980.128</td> <td>   14.405</td> <td> 0.000</td> <td> 8.69e+04</td> <td> 1.14e+05</td>\n",
       "</tr>\n",
       "<tr>\n",
       "  <th>zipcode_98148</th>    <td> 5.808e+04</td> <td> 1.22e+04</td> <td>    4.775</td> <td> 0.000</td> <td> 3.42e+04</td> <td> 8.19e+04</td>\n",
       "</tr>\n",
       "<tr>\n",
       "  <th>zipcode_98155</th>    <td> 1.413e+05</td> <td> 6280.497</td> <td>   22.497</td> <td> 0.000</td> <td> 1.29e+05</td> <td> 1.54e+05</td>\n",
       "</tr>\n",
       "<tr>\n",
       "  <th>zipcode_98166</th>    <td> 1.022e+05</td> <td> 7445.810</td> <td>   13.727</td> <td> 0.000</td> <td> 8.76e+04</td> <td> 1.17e+05</td>\n",
       "</tr>\n",
       "<tr>\n",
       "  <th>zipcode_98168</th>    <td> 4.189e+04</td> <td> 7189.873</td> <td>    5.826</td> <td> 0.000</td> <td> 2.78e+04</td> <td>  5.6e+04</td>\n",
       "</tr>\n",
       "<tr>\n",
       "  <th>zipcode_98177</th>    <td> 2.082e+05</td> <td> 7642.827</td> <td>   27.238</td> <td> 0.000</td> <td> 1.93e+05</td> <td> 2.23e+05</td>\n",
       "</tr>\n",
       "<tr>\n",
       "  <th>zipcode_98178</th>    <td> 6.167e+04</td> <td> 7080.375</td> <td>    8.710</td> <td> 0.000</td> <td> 4.78e+04</td> <td> 7.55e+04</td>\n",
       "</tr>\n",
       "<tr>\n",
       "  <th>zipcode_98188</th>    <td> 3.337e+04</td> <td> 8798.730</td> <td>    3.793</td> <td> 0.000</td> <td> 1.61e+04</td> <td> 5.06e+04</td>\n",
       "</tr>\n",
       "<tr>\n",
       "  <th>zipcode_98198</th>    <td> 4.448e+04</td> <td> 7060.514</td> <td>    6.299</td> <td> 0.000</td> <td> 3.06e+04</td> <td> 5.83e+04</td>\n",
       "</tr>\n",
       "<tr>\n",
       "  <th>zipcode_98199</th>    <td> 3.465e+05</td> <td> 7572.258</td> <td>   45.756</td> <td> 0.000</td> <td> 3.32e+05</td> <td> 3.61e+05</td>\n",
       "</tr>\n",
       "</table>\n",
       "<table class=\"simpletable\">\n",
       "<tr>\n",
       "  <th>Omnibus:</th>       <td>824.894</td> <th>  Durbin-Watson:     </th> <td>   2.003</td>\n",
       "</tr>\n",
       "<tr>\n",
       "  <th>Prob(Omnibus):</th> <td> 0.000</td>  <th>  Jarque-Bera (JB):  </th> <td>2653.022</td>\n",
       "</tr>\n",
       "<tr>\n",
       "  <th>Skew:</th>          <td> 0.267</td>  <th>  Prob(JB):          </th> <td>    0.00</td>\n",
       "</tr>\n",
       "<tr>\n",
       "  <th>Kurtosis:</th>      <td> 5.090</td>  <th>  Cond. No.          </th> <td>5.16e+15</td>\n",
       "</tr>\n",
       "</table><br/><br/>Notes:<br/>[1] Standard Errors assume that the covariance matrix of the errors is correctly specified.<br/>[2] The smallest eigenvalue is 4.07e-20. This might indicate that there are<br/>strong multicollinearity problems or that the design matrix is singular."
      ],
      "text/plain": [
       "<class 'statsmodels.iolib.summary.Summary'>\n",
       "\"\"\"\n",
       "                            OLS Regression Results                            \n",
       "==============================================================================\n",
       "Dep. Variable:                  price   R-squared:                       0.825\n",
       "Model:                            OLS   Adj. R-squared:                  0.824\n",
       "Method:                 Least Squares   F-statistic:                     676.8\n",
       "Date:                Wed, 18 Nov 2020   Prob (F-statistic):               0.00\n",
       "Time:                        13:33:41   Log-Likelihood:            -1.7289e+05\n",
       "No. Observations:               13688   AIC:                         3.460e+05\n",
       "Df Residuals:                   13592   BIC:                         3.467e+05\n",
       "Df Model:                          95                                         \n",
       "Covariance Type:            nonrobust                                         \n",
       "====================================================================================\n",
       "                       coef    std err          t      P>|t|      [0.025      0.975]\n",
       "------------------------------------------------------------------------------------\n",
       "Intercept        -5.304e+07   4.19e+06    -12.667      0.000   -6.12e+07   -4.48e+07\n",
       "bedrooms         -3123.9499   1018.856     -3.066      0.002   -5121.049   -1126.850\n",
       "bathrooms         1.474e+04   1664.506      8.857      0.000    1.15e+04     1.8e+04\n",
       "sqft_living        119.1967      2.011     59.283      0.000     115.256     123.138\n",
       "sqft_lot             1.4897      0.224      6.645      0.000       1.050       1.929\n",
       "floors           -1.637e+04   1964.834     -8.330      0.000   -2.02e+04   -1.25e+04\n",
       "waterfront        3.123e+05    1.7e+04     18.339      0.000    2.79e+05    3.46e+05\n",
       "sqft_basement      -35.7040      2.520    -14.167      0.000     -40.644     -30.764\n",
       "yr_built          -491.0524     39.361    -12.476      0.000    -568.205    -413.899\n",
       "month_sold        2757.0572    873.654      3.156      0.002    1044.575    4469.540\n",
       "year_sold          3.34e+04   2596.096     12.865      0.000    2.83e+04    3.85e+04\n",
       "sold_spring_time -1.326e+07   1.05e+06    -12.669      0.000   -1.53e+07   -1.12e+07\n",
       "sold_summer_time -1.325e+07   1.05e+06    -12.663      0.000   -1.53e+07   -1.12e+07\n",
       "sold_fall_time   -1.326e+07   1.05e+06    -12.670      0.000   -1.53e+07   -1.12e+07\n",
       "sold_winter_time -1.327e+07   1.05e+06    -12.665      0.000   -1.53e+07   -1.12e+07\n",
       "has_renovated     2.854e+04   4139.915      6.893      0.000    2.04e+04    3.67e+04\n",
       "condition_2       3.095e+04   1.96e+04      1.582      0.114   -7402.263    6.93e+04\n",
       "condition_3       7.132e+04   1.83e+04      3.903      0.000    3.55e+04    1.07e+05\n",
       "condition_4       8.929e+04   1.83e+04      4.883      0.000    5.34e+04    1.25e+05\n",
       "condition_5        1.18e+05   1.84e+04      6.417      0.000     8.2e+04    1.54e+05\n",
       "grade_4          -1.031e+05   7.75e+04     -1.330      0.183   -2.55e+05    4.88e+04\n",
       "grade_5          -1.229e+05   7.49e+04     -1.641      0.101    -2.7e+05    2.39e+04\n",
       "grade_6          -1.111e+05   7.47e+04     -1.488      0.137   -2.57e+05    3.53e+04\n",
       "grade_7          -7.835e+04   7.47e+04     -1.049      0.294   -2.25e+05     6.8e+04\n",
       "grade_8          -3.141e+04   7.47e+04     -0.420      0.674   -1.78e+05    1.15e+05\n",
       "grade_9           3.445e+04   7.48e+04      0.461      0.645   -1.12e+05    1.81e+05\n",
       "grade_10          5.742e+04   7.49e+04      0.766      0.443   -8.94e+04    2.04e+05\n",
       "grade_11          1.017e+05   7.67e+04      1.325      0.185   -4.87e+04    2.52e+05\n",
       "zipcode_98002     5132.4481   7732.027      0.664      0.507      -1e+04    2.03e+04\n",
       "zipcode_98003     6774.7572   7072.119      0.958      0.338   -7087.576    2.06e+04\n",
       "zipcode_98004     4.689e+05   9601.882     48.832      0.000     4.5e+05    4.88e+05\n",
       "zipcode_98005     3.224e+05   9764.323     33.013      0.000    3.03e+05    3.41e+05\n",
       "zipcode_98006     2.671e+05   6883.047     38.807      0.000    2.54e+05    2.81e+05\n",
       "zipcode_98007     2.456e+05   9144.257     26.860      0.000    2.28e+05    2.64e+05\n",
       "zipcode_98008     2.422e+05   7048.059     34.359      0.000    2.28e+05    2.56e+05\n",
       "zipcode_98010      7.62e+04   1.29e+04      5.889      0.000    5.08e+04    1.02e+05\n",
       "zipcode_98011     1.565e+05   7663.558     20.419      0.000    1.41e+05    1.72e+05\n",
       "zipcode_98014     9.712e+04   1.15e+04      8.479      0.000    7.47e+04     1.2e+05\n",
       "zipcode_98019     1.062e+05   8176.930     12.993      0.000    9.02e+04    1.22e+05\n",
       "zipcode_98022     6503.6202   8205.934      0.793      0.428   -9581.147    2.26e+04\n",
       "zipcode_98023    -1.435e+04   6039.493     -2.377      0.017   -2.62e+04   -2515.342\n",
       "zipcode_98024     1.254e+05   1.77e+04      7.090      0.000    9.07e+04     1.6e+05\n",
       "zipcode_98027      2.33e+05   7157.976     32.555      0.000    2.19e+05    2.47e+05\n",
       "zipcode_98028     1.393e+05   7097.900     19.623      0.000    1.25e+05    1.53e+05\n",
       "zipcode_98029     2.375e+05   6934.213     34.247      0.000    2.24e+05    2.51e+05\n",
       "zipcode_98030     9177.9234   7169.913      1.280      0.201   -4876.100    2.32e+04\n",
       "zipcode_98031     1.704e+04   7074.692      2.409      0.016    3172.080    3.09e+04\n",
       "zipcode_98032    -1415.6811   8910.567     -0.159      0.874   -1.89e+04    1.61e+04\n",
       "zipcode_98033     3.075e+05   6647.319     46.256      0.000    2.94e+05    3.21e+05\n",
       "zipcode_98034       1.9e+05   5978.398     31.783      0.000    1.78e+05    2.02e+05\n",
       "zipcode_98038     4.718e+04   5973.435      7.899      0.000    3.55e+04    5.89e+04\n",
       "zipcode_98039     6.323e+05   5.28e+04     11.982      0.000    5.29e+05    7.36e+05\n",
       "zipcode_98040     4.107e+05   9628.665     42.659      0.000    3.92e+05     4.3e+05\n",
       "zipcode_98042     1.401e+04   6105.629      2.295      0.022    2042.888     2.6e+04\n",
       "zipcode_98045     1.098e+05   8519.201     12.883      0.000    9.31e+04    1.26e+05\n",
       "zipcode_98052     2.573e+05   6002.118     42.870      0.000    2.46e+05    2.69e+05\n",
       "zipcode_98053     2.611e+05   7303.351     35.757      0.000    2.47e+05    2.75e+05\n",
       "zipcode_98055     4.417e+04   7107.316      6.214      0.000    3.02e+04    5.81e+04\n",
       "zipcode_98056     1.033e+05   6374.828     16.206      0.000    9.08e+04    1.16e+05\n",
       "zipcode_98058     3.735e+04   6271.847      5.955      0.000    2.51e+04    4.96e+04\n",
       "zipcode_98059     1.041e+05   6378.013     16.318      0.000    9.16e+04    1.17e+05\n",
       "zipcode_98065     1.533e+05   6998.732     21.910      0.000     1.4e+05    1.67e+05\n",
       "zipcode_98070     9.179e+04   1.67e+04      5.499      0.000    5.91e+04    1.25e+05\n",
       "zipcode_98072     1.516e+05   8284.338     18.304      0.000    1.35e+05    1.68e+05\n",
       "zipcode_98074     2.262e+05   6540.958     34.577      0.000    2.13e+05    2.39e+05\n",
       "zipcode_98075     2.463e+05   7556.943     32.596      0.000    2.32e+05    2.61e+05\n",
       "zipcode_98077      1.95e+05   1.47e+04     13.285      0.000    1.66e+05    2.24e+05\n",
       "zipcode_98092    -1.434e+04   7082.835     -2.025      0.043   -2.82e+04    -457.722\n",
       "zipcode_98102      3.71e+05   1.21e+04     30.697      0.000    3.47e+05    3.95e+05\n",
       "zipcode_98103     3.144e+05   6272.180     50.132      0.000    3.02e+05    3.27e+05\n",
       "zipcode_98105     3.573e+05   8752.907     40.826      0.000     3.4e+05    3.75e+05\n",
       "zipcode_98106     1.149e+05   6619.257     17.365      0.000    1.02e+05    1.28e+05\n",
       "zipcode_98107     3.173e+05   7336.242     43.250      0.000    3.03e+05    3.32e+05\n",
       "zipcode_98108     1.181e+05   7903.852     14.942      0.000    1.03e+05    1.34e+05\n",
       "zipcode_98109     3.838e+05   1.18e+04     32.428      0.000    3.61e+05    4.07e+05\n",
       "zipcode_98112     3.906e+05   8915.017     43.814      0.000    3.73e+05    4.08e+05\n",
       "zipcode_98115      3.11e+05   6230.639     49.919      0.000    2.99e+05    3.23e+05\n",
       "zipcode_98116     2.928e+05   7074.527     41.384      0.000    2.79e+05    3.07e+05\n",
       "zipcode_98117     3.063e+05   6268.230     48.861      0.000    2.94e+05    3.19e+05\n",
       "zipcode_98118     1.621e+05   6232.129     26.005      0.000     1.5e+05    1.74e+05\n",
       "zipcode_98119     3.952e+05   9002.727     43.894      0.000    3.78e+05    4.13e+05\n",
       "zipcode_98122      3.01e+05   7444.263     40.437      0.000    2.86e+05    3.16e+05\n",
       "zipcode_98125     1.948e+05   6400.561     30.438      0.000    1.82e+05    2.07e+05\n",
       "zipcode_98126     1.963e+05   6651.434     29.516      0.000    1.83e+05    2.09e+05\n",
       "zipcode_98133     1.502e+05   6043.672     24.858      0.000    1.38e+05    1.62e+05\n",
       "zipcode_98136     2.554e+05   7264.226     35.164      0.000    2.41e+05     2.7e+05\n",
       "zipcode_98144     2.344e+05   6977.501     33.600      0.000    2.21e+05    2.48e+05\n",
       "zipcode_98146     1.006e+05   6980.128     14.405      0.000    8.69e+04    1.14e+05\n",
       "zipcode_98148     5.808e+04   1.22e+04      4.775      0.000    3.42e+04    8.19e+04\n",
       "zipcode_98155     1.413e+05   6280.497     22.497      0.000    1.29e+05    1.54e+05\n",
       "zipcode_98166     1.022e+05   7445.810     13.727      0.000    8.76e+04    1.17e+05\n",
       "zipcode_98168     4.189e+04   7189.873      5.826      0.000    2.78e+04     5.6e+04\n",
       "zipcode_98177     2.082e+05   7642.827     27.238      0.000    1.93e+05    2.23e+05\n",
       "zipcode_98178     6.167e+04   7080.375      8.710      0.000    4.78e+04    7.55e+04\n",
       "zipcode_98188     3.337e+04   8798.730      3.793      0.000    1.61e+04    5.06e+04\n",
       "zipcode_98198     4.448e+04   7060.514      6.299      0.000    3.06e+04    5.83e+04\n",
       "zipcode_98199     3.465e+05   7572.258     45.756      0.000    3.32e+05    3.61e+05\n",
       "==============================================================================\n",
       "Omnibus:                      824.894   Durbin-Watson:                   2.003\n",
       "Prob(Omnibus):                  0.000   Jarque-Bera (JB):             2653.022\n",
       "Skew:                           0.267   Prob(JB):                         0.00\n",
       "Kurtosis:                       5.090   Cond. No.                     5.16e+15\n",
       "==============================================================================\n",
       "\n",
       "Notes:\n",
       "[1] Standard Errors assume that the covariance matrix of the errors is correctly specified.\n",
       "[2] The smallest eigenvalue is 4.07e-20. This might indicate that there are\n",
       "strong multicollinearity problems or that the design matrix is singular.\n",
       "\"\"\""
      ]
     },
     "execution_count": 85,
     "metadata": {},
     "output_type": "execute_result"
    }
   ],
   "source": [
    "# Fitting the actual model\n",
    "predictors = '+'.join(X.columns)\n",
    "formula = outcome + '~' + predictors\n",
    "model = ols(formula=formula, data = dftrain).fit()\n",
    "model.summary()"
   ]
  },
  {
   "cell_type": "markdown",
   "metadata": {},
   "source": [
    "R-squared: 0.826\n",
    "\n",
    "Adj R-squared: 0.825\n",
    "\n",
    "Number of significant p_values: 13"
   ]
  },
  {
   "cell_type": "markdown",
   "metadata": {},
   "source": [
    "### Checking QQ Plot"
   ]
  },
  {
   "cell_type": "code",
   "execution_count": 86,
   "metadata": {},
   "outputs": [],
   "source": [
    "import statsmodels.api as sm"
   ]
  },
  {
   "cell_type": "code",
   "execution_count": 87,
   "metadata": {},
   "outputs": [
    {
     "data": {
      "image/png": "[encoded data removed]",
      "text/plain": [
       "<Figure size 432x288 with 1 Axes>"
      ]
     },
     "metadata": {},
     "output_type": "display_data"
    }
   ],
   "source": [
    "fig = sm.graphics.qqplot(model.resid, dist=stats.norm, line='45', fit=True)"
   ]
  },
  {
   "cell_type": "markdown",
   "metadata": {},
   "source": [
    "### Checking for Homoscedasticity"
   ]
  },
  {
   "cell_type": "code",
   "execution_count": 88,
   "metadata": {},
   "outputs": [
    {
     "data": {
      "text/plain": [
       "[<matplotlib.lines.Line2D at 0x18df311be80>]"
      ]
     },
     "execution_count": 88,
     "metadata": {},
     "output_type": "execute_result"
    },
    {
     "data": {
      "image/png": "[encoded data removed]",
      "text/plain": [
       "<Figure size 432x288 with 1 Axes>"
      ]
     },
     "metadata": {},
     "output_type": "display_data"
    }
   ],
   "source": [
    "plt.scatter(model.predict(dftrain[X.columns]), model.resid)\n",
    "plt.plot(model.predict(dftrain[X.columns]), [0 for i in range(len(dftrain))])"
   ]
  },
  {
   "cell_type": "markdown",
   "metadata": {},
   "source": [
    "## Second Model - Multicollinearies"
   ]
  },
  {
   "cell_type": "code",
   "execution_count": 89,
   "metadata": {
    "code_folding": []
   },
   "outputs": [],
   "source": [
    "#Importing variance inflation factor to check for multicollinearies \n",
    "from statsmodels.stats.outliers_influence import variance_inflation_factor"
   ]
  },
  {
   "cell_type": "code",
   "execution_count": 90,
   "metadata": {
    "scrolled": true
   },
   "outputs": [
    {
     "data": {
      "text/plain": [
       "[('bedrooms', 1.8269710431048878),\n",
       " ('bathrooms', 3.0954045275084896),\n",
       " ('sqft_living', 4.364474866383063),\n",
       " ('sqft_lot', 1.8895944628835357),\n",
       " ('floors', 2.8087862514735558),\n",
       " ('waterfront', 1.0428789846551867),\n",
       " ('sqft_basement', 2.0120282061685577),\n",
       " ('yr_built', 3.3964791973157866),\n",
       " ('month_sold', 18.636002233625078),\n",
       " ('year_sold', 3.654247222156054),\n",
       " ('sold_spring_time', 13031012.018292781),\n",
       " ('sold_summer_time', 21036333.883923292),\n",
       " ('sold_fall_time', 18604921.50891311),\n",
       " ('sold_winter_time', 14993527.33196976),\n",
       " ('has_renovated', 1.1089738857587865),\n",
       " ('condition_2', 7.829225699190105),\n",
       " ('condition_3', 208.37955767353003),\n",
       " ('condition_4', 177.89793352055437),\n",
       " ('condition_5', 65.2531774465086),\n",
       " ('grade_4', 19.13610091844117),\n",
       " ('grade_5', 187.44808388648826),\n",
       " ('grade_6', 1666.7620797130292),\n",
       " ('grade_7', 4306.5394487201265),\n",
       " ('grade_8', 3550.108732413433),\n",
       " ('grade_9', 1428.3790959971113),\n",
       " ('grade_10', 356.38093749097374),\n",
       " ('grade_11', 29.31474361706567),\n",
       " ('zipcode_98002', 1.6107498989278777),\n",
       " ('zipcode_98003', 1.7924021256213942),\n",
       " ('zipcode_98004', 1.3178417577040915),\n",
       " ('zipcode_98005', 1.3265128513867404),\n",
       " ('zipcode_98006', 1.9211781870364457),\n",
       " ('zipcode_98007', 1.3747887115478181),\n",
       " ('zipcode_98008', 1.7747011308056242),\n",
       " ('zipcode_98010', 1.1725226155188417),\n",
       " ('zipcode_98011', 1.5561558429728128),\n",
       " ('zipcode_98014', 1.1912405322333235),\n",
       " ('zipcode_98019', 1.4665907857487779),\n",
       " ('zipcode_98022', 1.4697248193213013),\n",
       " ('zipcode_98023', 2.413111783814768),\n",
       " ('zipcode_98024', 1.0872518238669444),\n",
       " ('zipcode_98027', 1.7514408223754085),\n",
       " ('zipcode_98028', 1.7683301895781758),\n",
       " ('zipcode_98029', 1.9258695523196077),\n",
       " ('zipcode_98030', 1.7254461014839688),\n",
       " ('zipcode_98031', 1.7663958747083355),\n",
       " ('zipcode_98032', 1.3599113045691413),\n",
       " ('zipcode_98033', 1.9450274851029625),\n",
       " ('zipcode_98034', 2.504907597856791),\n",
       " ('zipcode_98038', 2.5012796336491756),\n",
       " ('zipcode_98039', 1.0103878552931853),\n",
       " ('zipcode_98040', 1.3269506426355937),\n",
       " ('zipcode_98042', 2.3671982243272907),\n",
       " ('zipcode_98045', 1.4515047569460662),\n",
       " ('zipcode_98052', 2.4719331406953553),\n",
       " ('zipcode_98053', 1.7545946283109124),\n",
       " ('zipcode_98055', 1.7772734900127016),\n",
       " ('zipcode_98056', 2.1699576582948756),\n",
       " ('zipcode_98058', 2.1910352062521588),\n",
       " ('zipcode_98059', 2.1650322650220963),\n",
       " ('zipcode_98065', 1.8710778554729246),\n",
       " ('zipcode_98070', 1.0970716894465868),\n",
       " ('zipcode_98072', 1.4546822793034788),\n",
       " ('zipcode_98074', 2.1134097919371846),\n",
       " ('zipcode_98075', 1.7985980724771011),\n",
       " ('zipcode_98077', 1.1929536791941886),\n",
       " ('zipcode_98092', 1.775926586508419),\n",
       " ('zipcode_98102', 1.2755043200133511),\n",
       " ('zipcode_98103', 3.04467407240107),\n",
       " ('zipcode_98105', 1.5739722387392003),\n",
       " ('zipcode_98106', 2.0763396250034036),\n",
       " ('zipcode_98107', 1.9508026302879913),\n",
       " ('zipcode_98108', 1.6047974873774176),\n",
       " ('zipcode_98109', 1.2917763148460661),\n",
       " ('zipcode_98112', 1.5021670096382456),\n",
       " ('zipcode_98115', 2.7862575207949964),\n",
       " ('zipcode_98116', 2.018754006757987),\n",
       " ('zipcode_98117', 2.803706438603747),\n",
       " ('zipcode_98118', 2.6251878273619074),\n",
       " ('zipcode_98119', 1.5056452071846798),\n",
       " ('zipcode_98122', 1.9644696427303456),\n",
       " ('zipcode_98125', 2.2209501648270926),\n",
       " ('zipcode_98126', 2.157953151630995),\n",
       " ('zipcode_98133', 2.5192577361532047),\n",
       " ('zipcode_98136', 1.8187277462836202),\n",
       " ('zipcode_98144', 2.058052850025637),\n",
       " ('zipcode_98146', 1.8415469079150977),\n",
       " ('zipcode_98148', 1.1766897049348581),\n",
       " ('zipcode_98155', 2.2467194636732595),\n",
       " ('zipcode_98166', 1.6712185609145092),\n",
       " ('zipcode_98168', 1.7748853689829196),\n",
       " ('zipcode_98177', 1.629049452288672),\n",
       " ('zipcode_98178', 1.8017372574120558),\n",
       " ('zipcode_98188', 1.3905823993380946),\n",
       " ('zipcode_98198', 1.7711260456317823),\n",
       " ('zipcode_98199', 1.8096313145339593)]"
      ]
     },
     "execution_count": 90,
     "metadata": {},
     "output_type": "execute_result"
    }
   ],
   "source": [
    "col = df_b[X.columns]\n",
    "vif = [variance_inflation_factor(col.values, i) for i in range(col.shape[1])]\n",
    "list(zip(X.columns, vif))"
   ]
  },
  {
   "cell_type": "code",
   "execution_count": 91,
   "metadata": {},
   "outputs": [
    {
     "name": "stdout",
     "output_type": "stream",
     "text": [
      "96 16\n"
     ]
    }
   ],
   "source": [
    "vif_scores = list(zip(X.columns, vif))\n",
    "v_test = [x for x, vif in vif_scores if vif > 10]\n",
    "print(len(vif_scores), len(v_test))"
   ]
  },
  {
   "cell_type": "code",
   "execution_count": 92,
   "metadata": {},
   "outputs": [
    {
     "data": {
      "text/plain": [
       "['month_sold',\n",
       " 'sold_spring_time',\n",
       " 'sold_summer_time',\n",
       " 'sold_fall_time',\n",
       " 'sold_winter_time',\n",
       " 'condition_3',\n",
       " 'condition_4',\n",
       " 'condition_5',\n",
       " 'grade_4',\n",
       " 'grade_5',\n",
       " 'grade_6',\n",
       " 'grade_7',\n",
       " 'grade_8',\n",
       " 'grade_9',\n",
       " 'grade_10',\n",
       " 'grade_11']"
      ]
     },
     "execution_count": 92,
     "metadata": {},
     "output_type": "execute_result"
    }
   ],
   "source": [
    "v_test"
   ]
  },
  {
   "cell_type": "code",
   "execution_count": 93,
   "metadata": {},
   "outputs": [],
   "source": [
    "for v in v_test:\n",
    "    dftrain.drop(v, axis=1, inplace=True)"
   ]
  },
  {
   "cell_type": "code",
   "execution_count": 94,
   "metadata": {
    "scrolled": true
   },
   "outputs": [
    {
     "name": "stdout",
     "output_type": "stream",
     "text": [
      "<class 'pandas.core.frame.DataFrame'>\n",
      "Int64Index: 13688 entries, 231 to 19930\n",
      "Data columns (total 81 columns):\n",
      " #   Column         Non-Null Count  Dtype  \n",
      "---  ------         --------------  -----  \n",
      " 0   bedrooms       13688 non-null  int64  \n",
      " 1   bathrooms      13688 non-null  float64\n",
      " 2   sqft_living    13688 non-null  int64  \n",
      " 3   sqft_lot       13688 non-null  int64  \n",
      " 4   floors         13688 non-null  float64\n",
      " 5   waterfront     13688 non-null  int32  \n",
      " 6   sqft_basement  13688 non-null  int32  \n",
      " 7   yr_built       13688 non-null  int64  \n",
      " 8   year_sold      13688 non-null  int64  \n",
      " 9   has_renovated  13688 non-null  int32  \n",
      " 10  condition_2    13688 non-null  int32  \n",
      " 11  zipcode_98002  13688 non-null  int32  \n",
      " 12  zipcode_98003  13688 non-null  int32  \n",
      " 13  zipcode_98004  13688 non-null  int32  \n",
      " 14  zipcode_98005  13688 non-null  int32  \n",
      " 15  zipcode_98006  13688 non-null  int32  \n",
      " 16  zipcode_98007  13688 non-null  int32  \n",
      " 17  zipcode_98008  13688 non-null  int32  \n",
      " 18  zipcode_98010  13688 non-null  int32  \n",
      " 19  zipcode_98011  13688 non-null  int32  \n",
      " 20  zipcode_98014  13688 non-null  int32  \n",
      " 21  zipcode_98019  13688 non-null  int32  \n",
      " 22  zipcode_98022  13688 non-null  int32  \n",
      " 23  zipcode_98023  13688 non-null  int32  \n",
      " 24  zipcode_98024  13688 non-null  int32  \n",
      " 25  zipcode_98027  13688 non-null  int32  \n",
      " 26  zipcode_98028  13688 non-null  int32  \n",
      " 27  zipcode_98029  13688 non-null  int32  \n",
      " 28  zipcode_98030  13688 non-null  int32  \n",
      " 29  zipcode_98031  13688 non-null  int32  \n",
      " 30  zipcode_98032  13688 non-null  int32  \n",
      " 31  zipcode_98033  13688 non-null  int32  \n",
      " 32  zipcode_98034  13688 non-null  int32  \n",
      " 33  zipcode_98038  13688 non-null  int32  \n",
      " 34  zipcode_98039  13688 non-null  int32  \n",
      " 35  zipcode_98040  13688 non-null  int32  \n",
      " 36  zipcode_98042  13688 non-null  int32  \n",
      " 37  zipcode_98045  13688 non-null  int32  \n",
      " 38  zipcode_98052  13688 non-null  int32  \n",
      " 39  zipcode_98053  13688 non-null  int32  \n",
      " 40  zipcode_98055  13688 non-null  int32  \n",
      " 41  zipcode_98056  13688 non-null  int32  \n",
      " 42  zipcode_98058  13688 non-null  int32  \n",
      " 43  zipcode_98059  13688 non-null  int32  \n",
      " 44  zipcode_98065  13688 non-null  int32  \n",
      " 45  zipcode_98070  13688 non-null  int32  \n",
      " 46  zipcode_98072  13688 non-null  int32  \n",
      " 47  zipcode_98074  13688 non-null  int32  \n",
      " 48  zipcode_98075  13688 non-null  int32  \n",
      " 49  zipcode_98077  13688 non-null  int32  \n",
      " 50  zipcode_98092  13688 non-null  int32  \n",
      " 51  zipcode_98102  13688 non-null  int32  \n",
      " 52  zipcode_98103  13688 non-null  int32  \n",
      " 53  zipcode_98105  13688 non-null  int32  \n",
      " 54  zipcode_98106  13688 non-null  int32  \n",
      " 55  zipcode_98107  13688 non-null  int32  \n",
      " 56  zipcode_98108  13688 non-null  int32  \n",
      " 57  zipcode_98109  13688 non-null  int32  \n",
      " 58  zipcode_98112  13688 non-null  int32  \n",
      " 59  zipcode_98115  13688 non-null  int32  \n",
      " 60  zipcode_98116  13688 non-null  int32  \n",
      " 61  zipcode_98117  13688 non-null  int32  \n",
      " 62  zipcode_98118  13688 non-null  int32  \n",
      " 63  zipcode_98119  13688 non-null  int32  \n",
      " 64  zipcode_98122  13688 non-null  int32  \n",
      " 65  zipcode_98125  13688 non-null  int32  \n",
      " 66  zipcode_98126  13688 non-null  int32  \n",
      " 67  zipcode_98133  13688 non-null  int32  \n",
      " 68  zipcode_98136  13688 non-null  int32  \n",
      " 69  zipcode_98144  13688 non-null  int32  \n",
      " 70  zipcode_98146  13688 non-null  int32  \n",
      " 71  zipcode_98148  13688 non-null  int32  \n",
      " 72  zipcode_98155  13688 non-null  int32  \n",
      " 73  zipcode_98166  13688 non-null  int32  \n",
      " 74  zipcode_98168  13688 non-null  int32  \n",
      " 75  zipcode_98177  13688 non-null  int32  \n",
      " 76  zipcode_98178  13688 non-null  int32  \n",
      " 77  zipcode_98188  13688 non-null  int32  \n",
      " 78  zipcode_98198  13688 non-null  int32  \n",
      " 79  zipcode_98199  13688 non-null  int32  \n",
      " 80  price          13688 non-null  int32  \n",
      "dtypes: float64(2), int32(74), int64(5)\n",
      "memory usage: 4.7 MB\n"
     ]
    }
   ],
   "source": [
    "dftrain.info()"
   ]
  },
  {
   "cell_type": "code",
   "execution_count": 102,
   "metadata": {
    "scrolled": true
   },
   "outputs": [
    {
     "data": {
      "text/html": [
       "<table class=\"simpletable\">\n",
       "<caption>OLS Regression Results</caption>\n",
       "<tr>\n",
       "  <th>Dep. Variable:</th>          <td>price</td>      <th>  R-squared:         </th>  <td>   0.798</td>  \n",
       "</tr>\n",
       "<tr>\n",
       "  <th>Model:</th>                   <td>OLS</td>       <th>  Adj. R-squared:    </th>  <td>   0.797</td>  \n",
       "</tr>\n",
       "<tr>\n",
       "  <th>Method:</th>             <td>Least Squares</td>  <th>  F-statistic:       </th>  <td>   673.2</td>  \n",
       "</tr>\n",
       "<tr>\n",
       "  <th>Date:</th>             <td>Wed, 18 Nov 2020</td> <th>  Prob (F-statistic):</th>   <td>  0.00</td>   \n",
       "</tr>\n",
       "<tr>\n",
       "  <th>Time:</th>                 <td>13:38:12</td>     <th>  Log-Likelihood:    </th> <td>-1.7389e+05</td>\n",
       "</tr>\n",
       "<tr>\n",
       "  <th>No. Observations:</th>      <td> 13688</td>      <th>  AIC:               </th>  <td>3.479e+05</td> \n",
       "</tr>\n",
       "<tr>\n",
       "  <th>Df Residuals:</th>          <td> 13607</td>      <th>  BIC:               </th>  <td>3.485e+05</td> \n",
       "</tr>\n",
       "<tr>\n",
       "  <th>Df Model:</th>              <td>    80</td>      <th>                     </th>      <td> </td>     \n",
       "</tr>\n",
       "<tr>\n",
       "  <th>Covariance Type:</th>      <td>nonrobust</td>    <th>                     </th>      <td> </td>     \n",
       "</tr>\n",
       "</table>\n",
       "<table class=\"simpletable\">\n",
       "<tr>\n",
       "        <td></td>           <th>coef</th>     <th>std err</th>      <th>t</th>      <th>P>|t|</th>  <th>[0.025</th>    <th>0.975]</th>  \n",
       "</tr>\n",
       "<tr>\n",
       "  <th>Intercept</th>     <td>-3.938e+07</td> <td> 2.94e+06</td> <td>  -13.374</td> <td> 0.000</td> <td>-4.51e+07</td> <td>-3.36e+07</td>\n",
       "</tr>\n",
       "<tr>\n",
       "  <th>bedrooms</th>      <td>-8985.3182</td> <td> 1072.493</td> <td>   -8.378</td> <td> 0.000</td> <td>-1.11e+04</td> <td>-6883.084</td>\n",
       "</tr>\n",
       "<tr>\n",
       "  <th>bathrooms</th>     <td> 2.064e+04</td> <td> 1765.049</td> <td>   11.694</td> <td> 0.000</td> <td> 1.72e+04</td> <td> 2.41e+04</td>\n",
       "</tr>\n",
       "<tr>\n",
       "  <th>sqft_living</th>   <td>  157.8472</td> <td>    1.865</td> <td>   84.638</td> <td> 0.000</td> <td>  154.192</td> <td>  161.503</td>\n",
       "</tr>\n",
       "<tr>\n",
       "  <th>sqft_lot</th>      <td>    2.2170</td> <td>    0.239</td> <td>    9.286</td> <td> 0.000</td> <td>    1.749</td> <td>    2.685</td>\n",
       "</tr>\n",
       "<tr>\n",
       "  <th>floors</th>        <td>-1.462e+04</td> <td> 2099.968</td> <td>   -6.963</td> <td> 0.000</td> <td>-1.87e+04</td> <td>-1.05e+04</td>\n",
       "</tr>\n",
       "<tr>\n",
       "  <th>waterfront</th>    <td> 3.165e+05</td> <td> 1.83e+04</td> <td>   17.334</td> <td> 0.000</td> <td> 2.81e+05</td> <td> 3.52e+05</td>\n",
       "</tr>\n",
       "<tr>\n",
       "  <th>sqft_basement</th> <td>  -51.8369</td> <td>    2.628</td> <td>  -19.728</td> <td> 0.000</td> <td>  -56.987</td> <td>  -46.686</td>\n",
       "</tr>\n",
       "<tr>\n",
       "  <th>yr_built</th>      <td> -263.2073</td> <td>   37.797</td> <td>   -6.964</td> <td> 0.000</td> <td> -337.294</td> <td> -189.120</td>\n",
       "</tr>\n",
       "<tr>\n",
       "  <th>year_sold</th>     <td> 1.979e+04</td> <td> 1461.427</td> <td>   13.544</td> <td> 0.000</td> <td> 1.69e+04</td> <td> 2.27e+04</td>\n",
       "</tr>\n",
       "<tr>\n",
       "  <th>has_renovated</th> <td> 2.175e+04</td> <td> 4390.724</td> <td>    4.954</td> <td> 0.000</td> <td> 1.31e+04</td> <td> 3.04e+04</td>\n",
       "</tr>\n",
       "<tr>\n",
       "  <th>condition_2</th>   <td>-5.833e+04</td> <td> 7848.088</td> <td>   -7.432</td> <td> 0.000</td> <td>-7.37e+04</td> <td>-4.29e+04</td>\n",
       "</tr>\n",
       "<tr>\n",
       "  <th>zipcode_98002</th> <td> 4692.5654</td> <td> 8284.515</td> <td>    0.566</td> <td> 0.571</td> <td>-1.15e+04</td> <td> 2.09e+04</td>\n",
       "</tr>\n",
       "<tr>\n",
       "  <th>zipcode_98003</th> <td> 1.814e+04</td> <td> 7580.341</td> <td>    2.393</td> <td> 0.017</td> <td> 3282.943</td> <td>  3.3e+04</td>\n",
       "</tr>\n",
       "<tr>\n",
       "  <th>zipcode_98004</th> <td> 4.957e+05</td> <td> 1.03e+04</td> <td>   48.226</td> <td> 0.000</td> <td> 4.76e+05</td> <td> 5.16e+05</td>\n",
       "</tr>\n",
       "<tr>\n",
       "  <th>zipcode_98005</th> <td> 3.584e+05</td> <td> 1.04e+04</td> <td>   34.329</td> <td> 0.000</td> <td> 3.38e+05</td> <td> 3.79e+05</td>\n",
       "</tr>\n",
       "<tr>\n",
       "  <th>zipcode_98006</th> <td> 3.095e+05</td> <td> 7311.544</td> <td>   42.324</td> <td> 0.000</td> <td> 2.95e+05</td> <td> 3.24e+05</td>\n",
       "</tr>\n",
       "<tr>\n",
       "  <th>zipcode_98007</th> <td>  2.76e+05</td> <td> 9784.153</td> <td>   28.210</td> <td> 0.000</td> <td> 2.57e+05</td> <td> 2.95e+05</td>\n",
       "</tr>\n",
       "<tr>\n",
       "  <th>zipcode_98008</th> <td> 2.654e+05</td> <td> 7538.349</td> <td>   35.209</td> <td> 0.000</td> <td> 2.51e+05</td> <td>  2.8e+05</td>\n",
       "</tr>\n",
       "<tr>\n",
       "  <th>zipcode_98010</th> <td> 7.017e+04</td> <td> 1.39e+04</td> <td>    5.056</td> <td> 0.000</td> <td>  4.3e+04</td> <td> 9.74e+04</td>\n",
       "</tr>\n",
       "<tr>\n",
       "  <th>zipcode_98011</th> <td> 1.637e+05</td> <td> 8223.369</td> <td>   19.905</td> <td> 0.000</td> <td> 1.48e+05</td> <td>  1.8e+05</td>\n",
       "</tr>\n",
       "<tr>\n",
       "  <th>zipcode_98014</th> <td> 8.639e+04</td> <td> 1.23e+04</td> <td>    7.041</td> <td> 0.000</td> <td> 6.23e+04</td> <td>  1.1e+05</td>\n",
       "</tr>\n",
       "<tr>\n",
       "  <th>zipcode_98019</th> <td> 9.627e+04</td> <td> 8775.512</td> <td>   10.971</td> <td> 0.000</td> <td> 7.91e+04</td> <td> 1.13e+05</td>\n",
       "</tr>\n",
       "<tr>\n",
       "  <th>zipcode_98022</th> <td> 1.385e+04</td> <td> 8777.204</td> <td>    1.578</td> <td> 0.115</td> <td>-3354.769</td> <td> 3.11e+04</td>\n",
       "</tr>\n",
       "<tr>\n",
       "  <th>zipcode_98023</th> <td> -366.0233</td> <td> 6466.122</td> <td>   -0.057</td> <td> 0.955</td> <td> -1.3e+04</td> <td> 1.23e+04</td>\n",
       "</tr>\n",
       "<tr>\n",
       "  <th>zipcode_98024</th> <td> 1.241e+05</td> <td>  1.9e+04</td> <td>    6.535</td> <td> 0.000</td> <td> 8.69e+04</td> <td> 1.61e+05</td>\n",
       "</tr>\n",
       "<tr>\n",
       "  <th>zipcode_98027</th> <td> 2.545e+05</td> <td> 7653.185</td> <td>   33.253</td> <td> 0.000</td> <td> 2.39e+05</td> <td> 2.69e+05</td>\n",
       "</tr>\n",
       "<tr>\n",
       "  <th>zipcode_98028</th> <td> 1.475e+05</td> <td> 7615.221</td> <td>   19.366</td> <td> 0.000</td> <td> 1.33e+05</td> <td> 1.62e+05</td>\n",
       "</tr>\n",
       "<tr>\n",
       "  <th>zipcode_98029</th> <td> 2.655e+05</td> <td> 7405.085</td> <td>   35.854</td> <td> 0.000</td> <td> 2.51e+05</td> <td>  2.8e+05</td>\n",
       "</tr>\n",
       "<tr>\n",
       "  <th>zipcode_98030</th> <td> 1.216e+04</td> <td> 7700.150</td> <td>    1.579</td> <td> 0.114</td> <td>-2931.945</td> <td> 2.73e+04</td>\n",
       "</tr>\n",
       "<tr>\n",
       "  <th>zipcode_98031</th> <td> 2.267e+04</td> <td> 7593.461</td> <td>    2.986</td> <td> 0.003</td> <td> 7790.570</td> <td> 3.76e+04</td>\n",
       "</tr>\n",
       "<tr>\n",
       "  <th>zipcode_98032</th> <td> 1.512e+04</td> <td> 9554.400</td> <td>    1.583</td> <td> 0.114</td> <td>-3606.113</td> <td> 3.38e+04</td>\n",
       "</tr>\n",
       "<tr>\n",
       "  <th>zipcode_98033</th> <td> 3.272e+05</td> <td> 7120.746</td> <td>   45.953</td> <td> 0.000</td> <td> 3.13e+05</td> <td> 3.41e+05</td>\n",
       "</tr>\n",
       "<tr>\n",
       "  <th>zipcode_98034</th> <td> 1.978e+05</td> <td> 6412.978</td> <td>   30.845</td> <td> 0.000</td> <td> 1.85e+05</td> <td>  2.1e+05</td>\n",
       "</tr>\n",
       "<tr>\n",
       "  <th>zipcode_98038</th> <td>  4.06e+04</td> <td> 6414.326</td> <td>    6.329</td> <td> 0.000</td> <td>  2.8e+04</td> <td> 5.32e+04</td>\n",
       "</tr>\n",
       "<tr>\n",
       "  <th>zipcode_98039</th> <td> 6.756e+05</td> <td> 5.67e+04</td> <td>   11.922</td> <td> 0.000</td> <td> 5.65e+05</td> <td> 7.87e+05</td>\n",
       "</tr>\n",
       "<tr>\n",
       "  <th>zipcode_98040</th> <td> 4.501e+05</td> <td> 1.03e+04</td> <td>   43.751</td> <td> 0.000</td> <td>  4.3e+05</td> <td>  4.7e+05</td>\n",
       "</tr>\n",
       "<tr>\n",
       "  <th>zipcode_98042</th> <td> 1.841e+04</td> <td> 6549.806</td> <td>    2.810</td> <td> 0.005</td> <td> 5567.730</td> <td> 3.12e+04</td>\n",
       "</tr>\n",
       "<tr>\n",
       "  <th>zipcode_98045</th> <td> 1.117e+05</td> <td> 9148.892</td> <td>   12.208</td> <td> 0.000</td> <td> 9.38e+04</td> <td>  1.3e+05</td>\n",
       "</tr>\n",
       "<tr>\n",
       "  <th>zipcode_98052</th> <td> 2.811e+05</td> <td> 6411.554</td> <td>   43.838</td> <td> 0.000</td> <td> 2.69e+05</td> <td> 2.94e+05</td>\n",
       "</tr>\n",
       "<tr>\n",
       "  <th>zipcode_98053</th> <td>  2.57e+05</td> <td> 7838.547</td> <td>   32.781</td> <td> 0.000</td> <td> 2.42e+05</td> <td> 2.72e+05</td>\n",
       "</tr>\n",
       "<tr>\n",
       "  <th>zipcode_98055</th> <td> 4.926e+04</td> <td> 7628.445</td> <td>    6.457</td> <td> 0.000</td> <td> 3.43e+04</td> <td> 6.42e+04</td>\n",
       "</tr>\n",
       "<tr>\n",
       "  <th>zipcode_98056</th> <td> 1.194e+05</td> <td> 6814.625</td> <td>   17.519</td> <td> 0.000</td> <td> 1.06e+05</td> <td> 1.33e+05</td>\n",
       "</tr>\n",
       "<tr>\n",
       "  <th>zipcode_98058</th> <td> 5.062e+04</td> <td> 6725.400</td> <td>    7.527</td> <td> 0.000</td> <td> 3.74e+04</td> <td> 6.38e+04</td>\n",
       "</tr>\n",
       "<tr>\n",
       "  <th>zipcode_98059</th> <td> 1.097e+05</td> <td> 6845.190</td> <td>   16.019</td> <td> 0.000</td> <td> 9.62e+04</td> <td> 1.23e+05</td>\n",
       "</tr>\n",
       "<tr>\n",
       "  <th>zipcode_98065</th> <td> 1.452e+05</td> <td> 7512.815</td> <td>   19.328</td> <td> 0.000</td> <td>  1.3e+05</td> <td>  1.6e+05</td>\n",
       "</tr>\n",
       "<tr>\n",
       "  <th>zipcode_98070</th> <td> 9.455e+04</td> <td> 1.79e+04</td> <td>    5.277</td> <td> 0.000</td> <td> 5.94e+04</td> <td>  1.3e+05</td>\n",
       "</tr>\n",
       "<tr>\n",
       "  <th>zipcode_98072</th> <td> 1.609e+05</td> <td> 8894.263</td> <td>   18.093</td> <td> 0.000</td> <td> 1.43e+05</td> <td> 1.78e+05</td>\n",
       "</tr>\n",
       "<tr>\n",
       "  <th>zipcode_98074</th> <td> 2.581e+05</td> <td> 6963.942</td> <td>   37.067</td> <td> 0.000</td> <td> 2.44e+05</td> <td> 2.72e+05</td>\n",
       "</tr>\n",
       "<tr>\n",
       "  <th>zipcode_98075</th> <td> 2.778e+05</td> <td> 7925.690</td> <td>   35.050</td> <td> 0.000</td> <td> 2.62e+05</td> <td> 2.93e+05</td>\n",
       "</tr>\n",
       "<tr>\n",
       "  <th>zipcode_98077</th> <td> 2.293e+05</td> <td> 1.57e+04</td> <td>   14.628</td> <td> 0.000</td> <td> 1.99e+05</td> <td>  2.6e+05</td>\n",
       "</tr>\n",
       "<tr>\n",
       "  <th>zipcode_98092</th> <td> -988.0313</td> <td> 7594.945</td> <td>   -0.130</td> <td> 0.896</td> <td>-1.59e+04</td> <td> 1.39e+04</td>\n",
       "</tr>\n",
       "<tr>\n",
       "  <th>zipcode_98102</th> <td> 4.191e+05</td> <td> 1.29e+04</td> <td>   32.506</td> <td> 0.000</td> <td> 3.94e+05</td> <td> 4.44e+05</td>\n",
       "</tr>\n",
       "<tr>\n",
       "  <th>zipcode_98103</th> <td> 3.423e+05</td> <td> 6669.901</td> <td>   51.325</td> <td> 0.000</td> <td> 3.29e+05</td> <td> 3.55e+05</td>\n",
       "</tr>\n",
       "<tr>\n",
       "  <th>zipcode_98105</th> <td> 3.865e+05</td> <td> 9347.564</td> <td>   41.343</td> <td> 0.000</td> <td> 3.68e+05</td> <td> 4.05e+05</td>\n",
       "</tr>\n",
       "<tr>\n",
       "  <th>zipcode_98106</th> <td> 1.223e+05</td> <td> 7079.826</td> <td>   17.273</td> <td> 0.000</td> <td> 1.08e+05</td> <td> 1.36e+05</td>\n",
       "</tr>\n",
       "<tr>\n",
       "  <th>zipcode_98107</th> <td> 3.456e+05</td> <td> 7823.438</td> <td>   44.177</td> <td> 0.000</td> <td>  3.3e+05</td> <td> 3.61e+05</td>\n",
       "</tr>\n",
       "<tr>\n",
       "  <th>zipcode_98108</th> <td> 1.286e+05</td> <td> 8478.318</td> <td>   15.165</td> <td> 0.000</td> <td> 1.12e+05</td> <td> 1.45e+05</td>\n",
       "</tr>\n",
       "<tr>\n",
       "  <th>zipcode_98109</th> <td> 4.218e+05</td> <td> 1.26e+04</td> <td>   33.349</td> <td> 0.000</td> <td> 3.97e+05</td> <td> 4.47e+05</td>\n",
       "</tr>\n",
       "<tr>\n",
       "  <th>zipcode_98112</th> <td> 4.229e+05</td> <td> 9494.772</td> <td>   44.537</td> <td> 0.000</td> <td> 4.04e+05</td> <td> 4.41e+05</td>\n",
       "</tr>\n",
       "<tr>\n",
       "  <th>zipcode_98115</th> <td> 3.339e+05</td> <td> 6641.455</td> <td>   50.269</td> <td> 0.000</td> <td> 3.21e+05</td> <td> 3.47e+05</td>\n",
       "</tr>\n",
       "<tr>\n",
       "  <th>zipcode_98116</th> <td> 3.222e+05</td> <td> 7544.680</td> <td>   42.703</td> <td> 0.000</td> <td> 3.07e+05</td> <td> 3.37e+05</td>\n",
       "</tr>\n",
       "<tr>\n",
       "  <th>zipcode_98117</th> <td> 3.309e+05</td> <td> 6685.220</td> <td>   49.493</td> <td> 0.000</td> <td> 3.18e+05</td> <td> 3.44e+05</td>\n",
       "</tr>\n",
       "<tr>\n",
       "  <th>zipcode_98118</th> <td> 1.723e+05</td> <td> 6660.987</td> <td>   25.869</td> <td> 0.000</td> <td> 1.59e+05</td> <td> 1.85e+05</td>\n",
       "</tr>\n",
       "<tr>\n",
       "  <th>zipcode_98119</th> <td> 4.363e+05</td> <td> 9563.172</td> <td>   45.621</td> <td> 0.000</td> <td> 4.18e+05</td> <td> 4.55e+05</td>\n",
       "</tr>\n",
       "<tr>\n",
       "  <th>zipcode_98122</th> <td> 3.351e+05</td> <td> 7897.267</td> <td>   42.434</td> <td> 0.000</td> <td>  3.2e+05</td> <td> 3.51e+05</td>\n",
       "</tr>\n",
       "<tr>\n",
       "  <th>zipcode_98125</th> <td> 2.054e+05</td> <td> 6852.966</td> <td>   29.976</td> <td> 0.000</td> <td> 1.92e+05</td> <td> 2.19e+05</td>\n",
       "</tr>\n",
       "<tr>\n",
       "  <th>zipcode_98126</th> <td> 2.161e+05</td> <td> 7108.683</td> <td>   30.396</td> <td> 0.000</td> <td> 2.02e+05</td> <td>  2.3e+05</td>\n",
       "</tr>\n",
       "<tr>\n",
       "  <th>zipcode_98133</th> <td>  1.64e+05</td> <td> 6478.520</td> <td>   25.317</td> <td> 0.000</td> <td> 1.51e+05</td> <td> 1.77e+05</td>\n",
       "</tr>\n",
       "<tr>\n",
       "  <th>zipcode_98136</th> <td> 2.783e+05</td> <td> 7765.424</td> <td>   35.839</td> <td> 0.000</td> <td> 2.63e+05</td> <td> 2.94e+05</td>\n",
       "</tr>\n",
       "<tr>\n",
       "  <th>zipcode_98144</th> <td> 2.553e+05</td> <td> 7463.415</td> <td>   34.202</td> <td> 0.000</td> <td> 2.41e+05</td> <td>  2.7e+05</td>\n",
       "</tr>\n",
       "<tr>\n",
       "  <th>zipcode_98146</th> <td> 1.016e+05</td> <td> 7476.180</td> <td>   13.595</td> <td> 0.000</td> <td>  8.7e+04</td> <td> 1.16e+05</td>\n",
       "</tr>\n",
       "<tr>\n",
       "  <th>zipcode_98148</th> <td> 5.005e+04</td> <td>  1.3e+04</td> <td>    3.842</td> <td> 0.000</td> <td> 2.45e+04</td> <td> 7.56e+04</td>\n",
       "</tr>\n",
       "<tr>\n",
       "  <th>zipcode_98155</th> <td> 1.516e+05</td> <td> 6734.251</td> <td>   22.508</td> <td> 0.000</td> <td> 1.38e+05</td> <td> 1.65e+05</td>\n",
       "</tr>\n",
       "<tr>\n",
       "  <th>zipcode_98166</th> <td> 1.145e+05</td> <td> 7987.969</td> <td>   14.339</td> <td> 0.000</td> <td> 9.89e+04</td> <td>  1.3e+05</td>\n",
       "</tr>\n",
       "<tr>\n",
       "  <th>zipcode_98168</th> <td> 3.745e+04</td> <td> 7692.035</td> <td>    4.869</td> <td> 0.000</td> <td> 2.24e+04</td> <td> 5.25e+04</td>\n",
       "</tr>\n",
       "<tr>\n",
       "  <th>zipcode_98177</th> <td> 2.312e+05</td> <td> 8168.958</td> <td>   28.301</td> <td> 0.000</td> <td> 2.15e+05</td> <td> 2.47e+05</td>\n",
       "</tr>\n",
       "<tr>\n",
       "  <th>zipcode_98178</th> <td>  6.11e+04</td> <td> 7583.427</td> <td>    8.057</td> <td> 0.000</td> <td> 4.62e+04</td> <td>  7.6e+04</td>\n",
       "</tr>\n",
       "<tr>\n",
       "  <th>zipcode_98188</th> <td> 3.421e+04</td> <td> 9445.552</td> <td>    3.622</td> <td> 0.000</td> <td> 1.57e+04</td> <td> 5.27e+04</td>\n",
       "</tr>\n",
       "<tr>\n",
       "  <th>zipcode_98198</th> <td> 4.903e+04</td> <td> 7581.022</td> <td>    6.467</td> <td> 0.000</td> <td> 3.42e+04</td> <td> 6.39e+04</td>\n",
       "</tr>\n",
       "<tr>\n",
       "  <th>zipcode_98199</th> <td> 3.781e+05</td> <td> 8074.593</td> <td>   46.827</td> <td> 0.000</td> <td> 3.62e+05</td> <td> 3.94e+05</td>\n",
       "</tr>\n",
       "</table>\n",
       "<table class=\"simpletable\">\n",
       "<tr>\n",
       "  <th>Omnibus:</th>       <td>733.668</td> <th>  Durbin-Watson:     </th> <td>   2.012</td>\n",
       "</tr>\n",
       "<tr>\n",
       "  <th>Prob(Omnibus):</th> <td> 0.000</td>  <th>  Jarque-Bera (JB):  </th> <td>2229.501</td>\n",
       "</tr>\n",
       "<tr>\n",
       "  <th>Skew:</th>          <td> 0.239</td>  <th>  Prob(JB):          </th> <td>    0.00</td>\n",
       "</tr>\n",
       "<tr>\n",
       "  <th>Kurtosis:</th>      <td> 4.918</td>  <th>  Cond. No.          </th> <td>3.84e+07</td>\n",
       "</tr>\n",
       "</table><br/><br/>Notes:<br/>[1] Standard Errors assume that the covariance matrix of the errors is correctly specified.<br/>[2] The condition number is large, 3.84e+07. This might indicate that there are<br/>strong multicollinearity or other numerical problems."
      ],
      "text/plain": [
       "<class 'statsmodels.iolib.summary.Summary'>\n",
       "\"\"\"\n",
       "                            OLS Regression Results                            \n",
       "==============================================================================\n",
       "Dep. Variable:                  price   R-squared:                       0.798\n",
       "Model:                            OLS   Adj. R-squared:                  0.797\n",
       "Method:                 Least Squares   F-statistic:                     673.2\n",
       "Date:                Wed, 18 Nov 2020   Prob (F-statistic):               0.00\n",
       "Time:                        13:38:12   Log-Likelihood:            -1.7389e+05\n",
       "No. Observations:               13688   AIC:                         3.479e+05\n",
       "Df Residuals:                   13607   BIC:                         3.485e+05\n",
       "Df Model:                          80                                         \n",
       "Covariance Type:            nonrobust                                         \n",
       "=================================================================================\n",
       "                    coef    std err          t      P>|t|      [0.025      0.975]\n",
       "---------------------------------------------------------------------------------\n",
       "Intercept     -3.938e+07   2.94e+06    -13.374      0.000   -4.51e+07   -3.36e+07\n",
       "bedrooms      -8985.3182   1072.493     -8.378      0.000   -1.11e+04   -6883.084\n",
       "bathrooms      2.064e+04   1765.049     11.694      0.000    1.72e+04    2.41e+04\n",
       "sqft_living     157.8472      1.865     84.638      0.000     154.192     161.503\n",
       "sqft_lot          2.2170      0.239      9.286      0.000       1.749       2.685\n",
       "floors        -1.462e+04   2099.968     -6.963      0.000   -1.87e+04   -1.05e+04\n",
       "waterfront     3.165e+05   1.83e+04     17.334      0.000    2.81e+05    3.52e+05\n",
       "sqft_basement   -51.8369      2.628    -19.728      0.000     -56.987     -46.686\n",
       "yr_built       -263.2073     37.797     -6.964      0.000    -337.294    -189.120\n",
       "year_sold      1.979e+04   1461.427     13.544      0.000    1.69e+04    2.27e+04\n",
       "has_renovated  2.175e+04   4390.724      4.954      0.000    1.31e+04    3.04e+04\n",
       "condition_2   -5.833e+04   7848.088     -7.432      0.000   -7.37e+04   -4.29e+04\n",
       "zipcode_98002  4692.5654   8284.515      0.566      0.571   -1.15e+04    2.09e+04\n",
       "zipcode_98003  1.814e+04   7580.341      2.393      0.017    3282.943     3.3e+04\n",
       "zipcode_98004  4.957e+05   1.03e+04     48.226      0.000    4.76e+05    5.16e+05\n",
       "zipcode_98005  3.584e+05   1.04e+04     34.329      0.000    3.38e+05    3.79e+05\n",
       "zipcode_98006  3.095e+05   7311.544     42.324      0.000    2.95e+05    3.24e+05\n",
       "zipcode_98007   2.76e+05   9784.153     28.210      0.000    2.57e+05    2.95e+05\n",
       "zipcode_98008  2.654e+05   7538.349     35.209      0.000    2.51e+05     2.8e+05\n",
       "zipcode_98010  7.017e+04   1.39e+04      5.056      0.000     4.3e+04    9.74e+04\n",
       "zipcode_98011  1.637e+05   8223.369     19.905      0.000    1.48e+05     1.8e+05\n",
       "zipcode_98014  8.639e+04   1.23e+04      7.041      0.000    6.23e+04     1.1e+05\n",
       "zipcode_98019  9.627e+04   8775.512     10.971      0.000    7.91e+04    1.13e+05\n",
       "zipcode_98022  1.385e+04   8777.204      1.578      0.115   -3354.769    3.11e+04\n",
       "zipcode_98023  -366.0233   6466.122     -0.057      0.955    -1.3e+04    1.23e+04\n",
       "zipcode_98024  1.241e+05    1.9e+04      6.535      0.000    8.69e+04    1.61e+05\n",
       "zipcode_98027  2.545e+05   7653.185     33.253      0.000    2.39e+05    2.69e+05\n",
       "zipcode_98028  1.475e+05   7615.221     19.366      0.000    1.33e+05    1.62e+05\n",
       "zipcode_98029  2.655e+05   7405.085     35.854      0.000    2.51e+05     2.8e+05\n",
       "zipcode_98030  1.216e+04   7700.150      1.579      0.114   -2931.945    2.73e+04\n",
       "zipcode_98031  2.267e+04   7593.461      2.986      0.003    7790.570    3.76e+04\n",
       "zipcode_98032  1.512e+04   9554.400      1.583      0.114   -3606.113    3.38e+04\n",
       "zipcode_98033  3.272e+05   7120.746     45.953      0.000    3.13e+05    3.41e+05\n",
       "zipcode_98034  1.978e+05   6412.978     30.845      0.000    1.85e+05     2.1e+05\n",
       "zipcode_98038   4.06e+04   6414.326      6.329      0.000     2.8e+04    5.32e+04\n",
       "zipcode_98039  6.756e+05   5.67e+04     11.922      0.000    5.65e+05    7.87e+05\n",
       "zipcode_98040  4.501e+05   1.03e+04     43.751      0.000     4.3e+05     4.7e+05\n",
       "zipcode_98042  1.841e+04   6549.806      2.810      0.005    5567.730    3.12e+04\n",
       "zipcode_98045  1.117e+05   9148.892     12.208      0.000    9.38e+04     1.3e+05\n",
       "zipcode_98052  2.811e+05   6411.554     43.838      0.000    2.69e+05    2.94e+05\n",
       "zipcode_98053   2.57e+05   7838.547     32.781      0.000    2.42e+05    2.72e+05\n",
       "zipcode_98055  4.926e+04   7628.445      6.457      0.000    3.43e+04    6.42e+04\n",
       "zipcode_98056  1.194e+05   6814.625     17.519      0.000    1.06e+05    1.33e+05\n",
       "zipcode_98058  5.062e+04   6725.400      7.527      0.000    3.74e+04    6.38e+04\n",
       "zipcode_98059  1.097e+05   6845.190     16.019      0.000    9.62e+04    1.23e+05\n",
       "zipcode_98065  1.452e+05   7512.815     19.328      0.000     1.3e+05     1.6e+05\n",
       "zipcode_98070  9.455e+04   1.79e+04      5.277      0.000    5.94e+04     1.3e+05\n",
       "zipcode_98072  1.609e+05   8894.263     18.093      0.000    1.43e+05    1.78e+05\n",
       "zipcode_98074  2.581e+05   6963.942     37.067      0.000    2.44e+05    2.72e+05\n",
       "zipcode_98075  2.778e+05   7925.690     35.050      0.000    2.62e+05    2.93e+05\n",
       "zipcode_98077  2.293e+05   1.57e+04     14.628      0.000    1.99e+05     2.6e+05\n",
       "zipcode_98092  -988.0313   7594.945     -0.130      0.896   -1.59e+04    1.39e+04\n",
       "zipcode_98102  4.191e+05   1.29e+04     32.506      0.000    3.94e+05    4.44e+05\n",
       "zipcode_98103  3.423e+05   6669.901     51.325      0.000    3.29e+05    3.55e+05\n",
       "zipcode_98105  3.865e+05   9347.564     41.343      0.000    3.68e+05    4.05e+05\n",
       "zipcode_98106  1.223e+05   7079.826     17.273      0.000    1.08e+05    1.36e+05\n",
       "zipcode_98107  3.456e+05   7823.438     44.177      0.000     3.3e+05    3.61e+05\n",
       "zipcode_98108  1.286e+05   8478.318     15.165      0.000    1.12e+05    1.45e+05\n",
       "zipcode_98109  4.218e+05   1.26e+04     33.349      0.000    3.97e+05    4.47e+05\n",
       "zipcode_98112  4.229e+05   9494.772     44.537      0.000    4.04e+05    4.41e+05\n",
       "zipcode_98115  3.339e+05   6641.455     50.269      0.000    3.21e+05    3.47e+05\n",
       "zipcode_98116  3.222e+05   7544.680     42.703      0.000    3.07e+05    3.37e+05\n",
       "zipcode_98117  3.309e+05   6685.220     49.493      0.000    3.18e+05    3.44e+05\n",
       "zipcode_98118  1.723e+05   6660.987     25.869      0.000    1.59e+05    1.85e+05\n",
       "zipcode_98119  4.363e+05   9563.172     45.621      0.000    4.18e+05    4.55e+05\n",
       "zipcode_98122  3.351e+05   7897.267     42.434      0.000     3.2e+05    3.51e+05\n",
       "zipcode_98125  2.054e+05   6852.966     29.976      0.000    1.92e+05    2.19e+05\n",
       "zipcode_98126  2.161e+05   7108.683     30.396      0.000    2.02e+05     2.3e+05\n",
       "zipcode_98133   1.64e+05   6478.520     25.317      0.000    1.51e+05    1.77e+05\n",
       "zipcode_98136  2.783e+05   7765.424     35.839      0.000    2.63e+05    2.94e+05\n",
       "zipcode_98144  2.553e+05   7463.415     34.202      0.000    2.41e+05     2.7e+05\n",
       "zipcode_98146  1.016e+05   7476.180     13.595      0.000     8.7e+04    1.16e+05\n",
       "zipcode_98148  5.005e+04    1.3e+04      3.842      0.000    2.45e+04    7.56e+04\n",
       "zipcode_98155  1.516e+05   6734.251     22.508      0.000    1.38e+05    1.65e+05\n",
       "zipcode_98166  1.145e+05   7987.969     14.339      0.000    9.89e+04     1.3e+05\n",
       "zipcode_98168  3.745e+04   7692.035      4.869      0.000    2.24e+04    5.25e+04\n",
       "zipcode_98177  2.312e+05   8168.958     28.301      0.000    2.15e+05    2.47e+05\n",
       "zipcode_98178   6.11e+04   7583.427      8.057      0.000    4.62e+04     7.6e+04\n",
       "zipcode_98188  3.421e+04   9445.552      3.622      0.000    1.57e+04    5.27e+04\n",
       "zipcode_98198  4.903e+04   7581.022      6.467      0.000    3.42e+04    6.39e+04\n",
       "zipcode_98199  3.781e+05   8074.593     46.827      0.000    3.62e+05    3.94e+05\n",
       "==============================================================================\n",
       "Omnibus:                      733.668   Durbin-Watson:                   2.012\n",
       "Prob(Omnibus):                  0.000   Jarque-Bera (JB):             2229.501\n",
       "Skew:                           0.239   Prob(JB):                         0.00\n",
       "Kurtosis:                       4.918   Cond. No.                     3.84e+07\n",
       "==============================================================================\n",
       "\n",
       "Notes:\n",
       "[1] Standard Errors assume that the covariance matrix of the errors is correctly specified.\n",
       "[2] The condition number is large, 3.84e+07. This might indicate that there are\n",
       "strong multicollinearity or other numerical problems.\n",
       "\"\"\""
      ]
     },
     "execution_count": 102,
     "metadata": {},
     "output_type": "execute_result"
    }
   ],
   "source": [
    "updf_b = dftrain.drop(['price'], axis=1)\n",
    "predictors = '+'.join(updf_b.columns)\n",
    "formula = outcome + '~' + predictors\n",
    "model = ols(formula=formula, data = dftrain).fit()\n",
    "model.summary()"
   ]
  },
  {
   "cell_type": "markdown",
   "metadata": {},
   "source": [
    "### QQ Plot"
   ]
  },
  {
   "cell_type": "code",
   "execution_count": 103,
   "metadata": {
    "scrolled": true
   },
   "outputs": [
    {
     "data": {
      "image/png": "[encoded data removed]",
      "text/plain": [
       "<Figure size 432x288 with 1 Axes>"
      ]
     },
     "metadata": {},
     "output_type": "display_data"
    }
   ],
   "source": [
    "fig = sm.graphics.qqplot(model.resid, dist=stats.norm, line='45', fit=True)"
   ]
  },
  {
   "cell_type": "markdown",
   "metadata": {},
   "source": [
    "### Homoscedasticity"
   ]
  },
  {
   "cell_type": "code",
   "execution_count": 105,
   "metadata": {
    "scrolled": true
   },
   "outputs": [
    {
     "data": {
      "text/plain": [
       "[<matplotlib.lines.Line2D at 0x18df2f4edc0>]"
      ]
     },
     "execution_count": 105,
     "metadata": {},
     "output_type": "execute_result"
    },
    {
     "data": {
      "image/png": "[encoded data removed]",
      "text/plain": [
       "<Figure size 432x288 with 1 Axes>"
      ]
     },
     "metadata": {},
     "output_type": "display_data"
    }
   ],
   "source": [
    "plt.scatter(model.predict(dftrain[updf_b.columns]), model.resid)\n",
    "plt.plot(model.predict(dftrain[updf_b.columns]), [0 for i in range(len(dftrain))])"
   ]
  },
  {
   "cell_type": "markdown",
   "metadata": {},
   "source": [
    "## Third Model - P_Values"
   ]
  },
  {
   "cell_type": "code",
   "execution_count": 106,
   "metadata": {},
   "outputs": [
    {
     "name": "stdout",
     "output_type": "stream",
     "text": [
      "81 74\n",
      "['bedrooms', 'bathrooms', 'sqft_living', 'sqft_lot', 'floors']\n"
     ]
    },
    {
     "data": {
      "text/html": [
       "<div>\n",
       "<style scoped>\n",
       "    .dataframe tbody tr th:only-of-type {\n",
       "        vertical-align: middle;\n",
       "    }\n",
       "\n",
       "    .dataframe tbody tr th {\n",
       "        vertical-align: top;\n",
       "    }\n",
       "\n",
       "    .dataframe thead th {\n",
       "        text-align: right;\n",
       "    }\n",
       "</style>\n",
       "<table border=\"1\" class=\"dataframe\">\n",
       "  <thead>\n",
       "    <tr style=\"text-align: right;\">\n",
       "      <th></th>\n",
       "      <th>coef</th>\n",
       "      <th>std err</th>\n",
       "      <th>t</th>\n",
       "      <th>P&gt;|t|</th>\n",
       "      <th>[0.025</th>\n",
       "      <th>0.975]</th>\n",
       "    </tr>\n",
       "    <tr>\n",
       "      <th></th>\n",
       "      <th></th>\n",
       "      <th></th>\n",
       "      <th></th>\n",
       "      <th></th>\n",
       "      <th></th>\n",
       "      <th></th>\n",
       "    </tr>\n",
       "  </thead>\n",
       "  <tbody>\n",
       "    <tr>\n",
       "      <th>Intercept</th>\n",
       "      <td>-3.938e+07</td>\n",
       "      <td>2.94e+06</td>\n",
       "      <td>-13.374</td>\n",
       "      <td>0.0</td>\n",
       "      <td>-4.51e+07</td>\n",
       "      <td>-3.36e+07</td>\n",
       "    </tr>\n",
       "    <tr>\n",
       "      <th>bedrooms</th>\n",
       "      <td>-8985.3182</td>\n",
       "      <td>1072.493</td>\n",
       "      <td>-8.378</td>\n",
       "      <td>0.0</td>\n",
       "      <td>-1.11e+04</td>\n",
       "      <td>-6883.084</td>\n",
       "    </tr>\n",
       "    <tr>\n",
       "      <th>bathrooms</th>\n",
       "      <td>2.064e+04</td>\n",
       "      <td>1765.049</td>\n",
       "      <td>11.694</td>\n",
       "      <td>0.0</td>\n",
       "      <td>1.72e+04</td>\n",
       "      <td>2.41e+04</td>\n",
       "    </tr>\n",
       "    <tr>\n",
       "      <th>sqft_living</th>\n",
       "      <td>157.8472</td>\n",
       "      <td>1.865</td>\n",
       "      <td>84.638</td>\n",
       "      <td>0.0</td>\n",
       "      <td>154.192</td>\n",
       "      <td>161.503</td>\n",
       "    </tr>\n",
       "    <tr>\n",
       "      <th>sqft_lot</th>\n",
       "      <td>2.2170</td>\n",
       "      <td>0.239</td>\n",
       "      <td>9.286</td>\n",
       "      <td>0.0</td>\n",
       "      <td>1.749</td>\n",
       "      <td>2.685</td>\n",
       "    </tr>\n",
       "  </tbody>\n",
       "</table>\n",
       "</div>"
      ],
      "text/plain": [
       "0                  coef    std err          t  P>|t|     [0.025     0.975]\n",
       "                                                                          \n",
       "Intercept    -3.938e+07   2.94e+06    -13.374    0.0  -4.51e+07  -3.36e+07\n",
       "bedrooms     -8985.3182   1072.493     -8.378    0.0  -1.11e+04  -6883.084\n",
       "bathrooms     2.064e+04   1765.049     11.694    0.0   1.72e+04   2.41e+04\n",
       "sqft_living    157.8472      1.865     84.638    0.0    154.192    161.503\n",
       "sqft_lot         2.2170      0.239      9.286    0.0      1.749      2.685"
      ]
     },
     "execution_count": 106,
     "metadata": {},
     "output_type": "execute_result"
    }
   ],
   "source": [
    "summary = model.summary()\n",
    "p_table = summary.tables[1]\n",
    "p_table = pd.DataFrame(p_table.data)\n",
    "p_table.columns = p_table.iloc[0]\n",
    "p_table = p_table.drop(0)\n",
    "p_table = p_table.set_index(p_table.columns[0])\n",
    "p_table['P>|t|'] = p_table['P>|t|'].astype(float)\n",
    "x_cols = list(p_table[p_table['P>|t|'] < 0.05].index)\n",
    "x_cols.remove('Intercept')\n",
    "print(len(p_table), len(x_cols))\n",
    "print(x_cols[:5])\n",
    "p_table.head()"
   ]
  },
  {
   "cell_type": "code",
   "execution_count": null,
   "metadata": {},
   "outputs": [],
   "source": []
  }
 ],
 "metadata": {
  "kernelspec": {
   "display_name": "Python 3",
   "language": "python",
   "name": "python3"
  },
  "language_info": {
   "codemirror_mode": {
    "name": "ipython",
    "version": 3
   },
   "file_extension": ".py",
   "mimetype": "text/x-python",
   "name": "python",
   "nbconvert_exporter": "python",
   "pygments_lexer": "ipython3",
   "version": "3.8.5"
  },
  "toc": {
   "base_numbering": 1,
   "nav_menu": {},
   "number_sections": true,
   "sideBar": true,
   "skip_h1_title": false,
   "title_cell": "Table of Contents",
   "title_sidebar": "Contents",
   "toc_cell": false,
   "toc_position": {
    "height": "calc(100% - 180px)",
    "left": "10px",
    "top": "150px",
    "width": "384px"
   },
   "toc_section_display": true,
   "toc_window_display": true
  }
 },
 "nbformat": 4,
 "nbformat_minor": 4
}
