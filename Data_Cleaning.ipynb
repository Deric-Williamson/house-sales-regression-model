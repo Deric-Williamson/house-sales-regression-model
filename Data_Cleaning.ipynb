{
 "cells": [
  {
   "cell_type": "markdown",
   "metadata": {},
   "source": [
    "## Introduction"
   ]
  },
  {
   "cell_type": "markdown",
   "metadata": {},
   "source": [
    "Paragraph"
   ]
  },
  {
   "cell_type": "markdown",
   "metadata": {},
   "source": [
    "## Importing and Cleaning Data"
   ]
  },
  {
   "cell_type": "markdown",
   "metadata": {},
   "source": [
    "In this step, we will import the raw data from the kc_house_data.csv.   \n",
    "In our initial look, we will dive into the column types, missing data,  \n",
    "and duplicate entries.\n",
    "\n",
    "Once we fix any error the raw data might cause, we will export the 'cleaned'  \n",
    "data onto a different .csv file for future work."
   ]
  },
  {
   "cell_type": "code",
   "execution_count": 1,
   "metadata": {},
   "outputs": [],
   "source": [
    "import pandas as pd\n",
    "import numpy as np\n",
    "\n",
    "import seaborn as sns\n",
    "import matplotlib.pyplot as plt\n",
    "%matplotlib inline\n",
    "\n",
    "sns.set_theme(style='darkgrid')"
   ]
  },
  {
   "cell_type": "code",
   "execution_count": 2,
   "metadata": {},
   "outputs": [],
   "source": [
    "#importing csv to dataframe\n",
    "df = pd.read_csv('data\\kc_house_data.csv')"
   ]
  },
  {
   "cell_type": "markdown",
   "metadata": {},
   "source": [
    ">importing the raw data from 'data\\kc_house_data.csv' file"
   ]
  },
  {
   "cell_type": "code",
   "execution_count": 3,
   "metadata": {
    "scrolled": true
   },
   "outputs": [
    {
     "name": "stdout",
     "output_type": "stream",
     "text": [
      "<class 'pandas.core.frame.DataFrame'>\n",
      "RangeIndex: 21597 entries, 0 to 21596\n",
      "Data columns (total 21 columns):\n",
      "id               21597 non-null int64\n",
      "date             21597 non-null object\n",
      "price            21597 non-null float64\n",
      "bedrooms         21597 non-null int64\n",
      "bathrooms        21597 non-null float64\n",
      "sqft_living      21597 non-null int64\n",
      "sqft_lot         21597 non-null int64\n",
      "floors           21597 non-null float64\n",
      "waterfront       19221 non-null float64\n",
      "view             21534 non-null float64\n",
      "condition        21597 non-null int64\n",
      "grade            21597 non-null int64\n",
      "sqft_above       21597 non-null int64\n",
      "sqft_basement    21597 non-null object\n",
      "yr_built         21597 non-null int64\n",
      "yr_renovated     17755 non-null float64\n",
      "zipcode          21597 non-null int64\n",
      "lat              21597 non-null float64\n",
      "long             21597 non-null float64\n",
      "sqft_living15    21597 non-null int64\n",
      "sqft_lot15       21597 non-null int64\n",
      "dtypes: float64(8), int64(11), object(2)\n",
      "memory usage: 3.5+ MB\n"
     ]
    }
   ],
   "source": [
    "df.info()"
   ]
  },
  {
   "cell_type": "markdown",
   "metadata": {},
   "source": [
    "> After importing the raw data, our first observation reveals that we are missing values in 'waterfront', 'view', and 'yr_renovated'. \n",
    "\n",
    ">The columns 'price', 'waterfront', 'view', 'yr_renovated' are all floats and 'sqft_basement' is a string all opposed to being integers that we can work with."
   ]
  },
  {
   "cell_type": "code",
   "execution_count": 4,
   "metadata": {},
   "outputs": [],
   "source": [
    "#filling the nan's with 0, all is categorical columns with the mode being 0.0\n",
    "df['waterfront'] = df['waterfront'].fillna(0.0)\n",
    "df['view'] = df['view'].fillna(0.0)\n",
    "df['yr_renovated'] = df['yr_renovated'].fillna(0.0)\n",
    "\n",
    "df.loc[df['sqft_basement'] == '?'] = 0\n",
    "df['sqft_basement'] = df['sqft_basement'].astype(float).astype(int)"
   ]
  },
  {
   "cell_type": "code",
   "execution_count": 5,
   "metadata": {
    "code_folding": []
   },
   "outputs": [],
   "source": [
    "#changing columns from float to int\n",
    "col_floats = ['price', 'waterfront', 'view', 'yr_renovated']\n",
    "for col in col_floats:\n",
    "    df[col] = df[col].astype(int)"
   ]
  },
  {
   "cell_type": "code",
   "execution_count": 6,
   "metadata": {},
   "outputs": [],
   "source": [
    "#expanding the date column to a column for each month and year\n",
    "df['date'] = pd.to_datetime(df['date'])\n",
    "df['month_sold'] = df['date'].dt.month\n",
    "df['year_sold'] = df['date'].dt.year"
   ]
  },
  {
   "cell_type": "code",
   "execution_count": 7,
   "metadata": {},
   "outputs": [],
   "source": [
    "#creating seasonal columns\n",
    "df['sold_spring_time'] = df['month_sold'] < 4\n",
    "df['sold_summer_time'] = (df['month_sold'] > 3) & (df['month_sold'] < 7)\n",
    "df['sold_fall_time'] = (df['month_sold'] > 6) & (df['month_sold'] < 10)\n",
    "df['sold_winter_time'] = (df['month_sold'] > 9) & (df['month_sold'] < 13)\n",
    "\n",
    "df['sold_spring_time'] = df['sold_spring_time'].astype(bool).astype(int)\n",
    "df['sold_summer_time'] = df['sold_summer_time'].astype(bool).astype(int)\n",
    "df['sold_fall_time'] = df['sold_fall_time'].astype(bool).astype(int)\n",
    "df['sold_winter_time'] = df['sold_winter_time'].astype(bool).astype(int)"
   ]
  },
  {
   "cell_type": "code",
   "execution_count": 8,
   "metadata": {},
   "outputs": [],
   "source": [
    "#converting 'yr_renovated' and 'sqft_basement' into a boolean\n",
    "df['has_renovated'] = df['yr_renovated'].astype(bool).astype(int)\n",
    "df['has_basement'] = df['sqft_basement'].astype(bool).astype(int)"
   ]
  },
  {
   "cell_type": "code",
   "execution_count": 9,
   "metadata": {},
   "outputs": [],
   "source": [
    "#deleting columns not neccesary in dataframe\n",
    "df.drop('date', axis=1, inplace=True)\n",
    "df.drop('id', axis=1, inplace=True)"
   ]
  },
  {
   "cell_type": "code",
   "execution_count": 10,
   "metadata": {
    "scrolled": false
   },
   "outputs": [
    {
     "name": "stdout",
     "output_type": "stream",
     "text": [
      "<class 'pandas.core.frame.DataFrame'>\n",
      "RangeIndex: 21597 entries, 0 to 21596\n",
      "Data columns (total 27 columns):\n",
      "price               21597 non-null int32\n",
      "bedrooms            21597 non-null int64\n",
      "bathrooms           21597 non-null float64\n",
      "sqft_living         21597 non-null int64\n",
      "sqft_lot            21597 non-null int64\n",
      "floors              21597 non-null float64\n",
      "waterfront          21597 non-null int32\n",
      "view                21597 non-null int32\n",
      "condition           21597 non-null int64\n",
      "grade               21597 non-null int64\n",
      "sqft_above          21597 non-null int64\n",
      "sqft_basement       21597 non-null int32\n",
      "yr_built            21597 non-null int64\n",
      "yr_renovated        21597 non-null int32\n",
      "zipcode             21597 non-null int64\n",
      "lat                 21597 non-null float64\n",
      "long                21597 non-null float64\n",
      "sqft_living15       21597 non-null int64\n",
      "sqft_lot15          21597 non-null int64\n",
      "month_sold          21597 non-null int64\n",
      "year_sold           21597 non-null int64\n",
      "sold_spring_time    21597 non-null int32\n",
      "sold_summer_time    21597 non-null int32\n",
      "sold_fall_time      21597 non-null int32\n",
      "sold_winter_time    21597 non-null int32\n",
      "has_renovated       21597 non-null int32\n",
      "has_basement        21597 non-null int32\n",
      "dtypes: float64(4), int32(11), int64(12)\n",
      "memory usage: 3.5 MB\n"
     ]
    }
   ],
   "source": [
    "df.info()"
   ]
  },
  {
   "cell_type": "markdown",
   "metadata": {},
   "source": [
    "> the above table verifies that the data set is voided of any missing data.\n",
    "\n",
    "> there are changes the data types on some of the columns to prep for work.\n",
    "\n",
    "\n",
    "> Side note: we did also check for duplicated rows that leads to redundancies.\n"
   ]
  },
  {
   "cell_type": "code",
   "execution_count": 11,
   "metadata": {
    "scrolled": true
   },
   "outputs": [
    {
     "data": {
      "text/html": [
       "<div>\n",
       "<style scoped>\n",
       "    .dataframe tbody tr th:only-of-type {\n",
       "        vertical-align: middle;\n",
       "    }\n",
       "\n",
       "    .dataframe tbody tr th {\n",
       "        vertical-align: top;\n",
       "    }\n",
       "\n",
       "    .dataframe thead th {\n",
       "        text-align: right;\n",
       "    }\n",
       "</style>\n",
       "<table border=\"1\" class=\"dataframe\">\n",
       "  <thead>\n",
       "    <tr style=\"text-align: right;\">\n",
       "      <th></th>\n",
       "      <th>price</th>\n",
       "      <th>bedrooms</th>\n",
       "      <th>bathrooms</th>\n",
       "      <th>sqft_living</th>\n",
       "      <th>sqft_lot</th>\n",
       "      <th>floors</th>\n",
       "      <th>waterfront</th>\n",
       "      <th>view</th>\n",
       "      <th>condition</th>\n",
       "      <th>grade</th>\n",
       "      <th>...</th>\n",
       "      <th>sqft_living15</th>\n",
       "      <th>sqft_lot15</th>\n",
       "      <th>month_sold</th>\n",
       "      <th>year_sold</th>\n",
       "      <th>sold_spring_time</th>\n",
       "      <th>sold_summer_time</th>\n",
       "      <th>sold_fall_time</th>\n",
       "      <th>sold_winter_time</th>\n",
       "      <th>has_renovated</th>\n",
       "      <th>has_basement</th>\n",
       "    </tr>\n",
       "  </thead>\n",
       "  <tbody>\n",
       "    <tr>\n",
       "      <th>0</th>\n",
       "      <td>221900</td>\n",
       "      <td>3</td>\n",
       "      <td>1.00</td>\n",
       "      <td>1180</td>\n",
       "      <td>5650</td>\n",
       "      <td>1.0</td>\n",
       "      <td>0</td>\n",
       "      <td>0</td>\n",
       "      <td>3</td>\n",
       "      <td>7</td>\n",
       "      <td>...</td>\n",
       "      <td>1340</td>\n",
       "      <td>5650</td>\n",
       "      <td>10</td>\n",
       "      <td>2014</td>\n",
       "      <td>0</td>\n",
       "      <td>0</td>\n",
       "      <td>0</td>\n",
       "      <td>1</td>\n",
       "      <td>0</td>\n",
       "      <td>0</td>\n",
       "    </tr>\n",
       "    <tr>\n",
       "      <th>1</th>\n",
       "      <td>538000</td>\n",
       "      <td>3</td>\n",
       "      <td>2.25</td>\n",
       "      <td>2570</td>\n",
       "      <td>7242</td>\n",
       "      <td>2.0</td>\n",
       "      <td>0</td>\n",
       "      <td>0</td>\n",
       "      <td>3</td>\n",
       "      <td>7</td>\n",
       "      <td>...</td>\n",
       "      <td>1690</td>\n",
       "      <td>7639</td>\n",
       "      <td>12</td>\n",
       "      <td>2014</td>\n",
       "      <td>0</td>\n",
       "      <td>0</td>\n",
       "      <td>0</td>\n",
       "      <td>1</td>\n",
       "      <td>1</td>\n",
       "      <td>1</td>\n",
       "    </tr>\n",
       "    <tr>\n",
       "      <th>2</th>\n",
       "      <td>180000</td>\n",
       "      <td>2</td>\n",
       "      <td>1.00</td>\n",
       "      <td>770</td>\n",
       "      <td>10000</td>\n",
       "      <td>1.0</td>\n",
       "      <td>0</td>\n",
       "      <td>0</td>\n",
       "      <td>3</td>\n",
       "      <td>6</td>\n",
       "      <td>...</td>\n",
       "      <td>2720</td>\n",
       "      <td>8062</td>\n",
       "      <td>2</td>\n",
       "      <td>2015</td>\n",
       "      <td>1</td>\n",
       "      <td>0</td>\n",
       "      <td>0</td>\n",
       "      <td>0</td>\n",
       "      <td>0</td>\n",
       "      <td>0</td>\n",
       "    </tr>\n",
       "    <tr>\n",
       "      <th>3</th>\n",
       "      <td>604000</td>\n",
       "      <td>4</td>\n",
       "      <td>3.00</td>\n",
       "      <td>1960</td>\n",
       "      <td>5000</td>\n",
       "      <td>1.0</td>\n",
       "      <td>0</td>\n",
       "      <td>0</td>\n",
       "      <td>5</td>\n",
       "      <td>7</td>\n",
       "      <td>...</td>\n",
       "      <td>1360</td>\n",
       "      <td>5000</td>\n",
       "      <td>12</td>\n",
       "      <td>2014</td>\n",
       "      <td>0</td>\n",
       "      <td>0</td>\n",
       "      <td>0</td>\n",
       "      <td>1</td>\n",
       "      <td>0</td>\n",
       "      <td>1</td>\n",
       "    </tr>\n",
       "    <tr>\n",
       "      <th>4</th>\n",
       "      <td>510000</td>\n",
       "      <td>3</td>\n",
       "      <td>2.00</td>\n",
       "      <td>1680</td>\n",
       "      <td>8080</td>\n",
       "      <td>1.0</td>\n",
       "      <td>0</td>\n",
       "      <td>0</td>\n",
       "      <td>3</td>\n",
       "      <td>8</td>\n",
       "      <td>...</td>\n",
       "      <td>1800</td>\n",
       "      <td>7503</td>\n",
       "      <td>2</td>\n",
       "      <td>2015</td>\n",
       "      <td>1</td>\n",
       "      <td>0</td>\n",
       "      <td>0</td>\n",
       "      <td>0</td>\n",
       "      <td>0</td>\n",
       "      <td>0</td>\n",
       "    </tr>\n",
       "  </tbody>\n",
       "</table>\n",
       "<p>5 rows × 27 columns</p>\n",
       "</div>"
      ],
      "text/plain": [
       "    price  bedrooms  bathrooms  sqft_living  sqft_lot  floors  waterfront  \\\n",
       "0  221900         3       1.00         1180      5650     1.0           0   \n",
       "1  538000         3       2.25         2570      7242     2.0           0   \n",
       "2  180000         2       1.00          770     10000     1.0           0   \n",
       "3  604000         4       3.00         1960      5000     1.0           0   \n",
       "4  510000         3       2.00         1680      8080     1.0           0   \n",
       "\n",
       "   view  condition  grade  ...  sqft_living15  sqft_lot15  month_sold  \\\n",
       "0     0          3      7  ...           1340        5650          10   \n",
       "1     0          3      7  ...           1690        7639          12   \n",
       "2     0          3      6  ...           2720        8062           2   \n",
       "3     0          5      7  ...           1360        5000          12   \n",
       "4     0          3      8  ...           1800        7503           2   \n",
       "\n",
       "   year_sold  sold_spring_time  sold_summer_time  sold_fall_time  \\\n",
       "0       2014                 0                 0               0   \n",
       "1       2014                 0                 0               0   \n",
       "2       2015                 1                 0               0   \n",
       "3       2014                 0                 0               0   \n",
       "4       2015                 1                 0               0   \n",
       "\n",
       "   sold_winter_time  has_renovated  has_basement  \n",
       "0                 1              0             0  \n",
       "1                 1              1             1  \n",
       "2                 0              0             0  \n",
       "3                 1              0             1  \n",
       "4                 0              0             0  \n",
       "\n",
       "[5 rows x 27 columns]"
      ]
     },
     "execution_count": 11,
     "metadata": {},
     "output_type": "execute_result"
    }
   ],
   "source": [
    "df.head()"
   ]
  },
  {
   "cell_type": "markdown",
   "metadata": {},
   "source": [
    "> After cleaning the raw data, a new .csv file was created to act as a save point.\n",
    "\n",
    "> This new .csv file is the same as the original except with the missing data being filled and data types being changed  appropriately."
   ]
  },
  {
   "cell_type": "code",
   "execution_count": 12,
   "metadata": {
    "scrolled": false
   },
   "outputs": [],
   "source": [
    "# exports a clean version of raw data.\n",
    "df.to_csv('data\\Cleaned_raw_kc_house_data.csv')"
   ]
  },
  {
   "cell_type": "markdown",
   "metadata": {},
   "source": [
    "## EDA and Scrubbing"
   ]
  },
  {
   "cell_type": "markdown",
   "metadata": {},
   "source": [
    "In this step of the process, we will look into every column  \n",
    "for any outliers and/or any other odd extremities.\n",
    "\n",
    "This step is a huge factor when it comes down to the \"fit\"  \n",
    "or accuracy of our model\n",
    "\n",
    "This is also where we start making decisions on what kind of data  \n",
    "should belong into our model."
   ]
  },
  {
   "cell_type": "markdown",
   "metadata": {},
   "source": [
    "### price"
   ]
  },
  {
   "cell_type": "code",
   "execution_count": 13,
   "metadata": {
    "scrolled": true
   },
   "outputs": [
    {
     "data": {
      "image/png": "[encoded data removed]",
      "text/plain": [
       "<Figure size 1152x360 with 2 Axes>"
      ]
     },
     "metadata": {},
     "output_type": "display_data"
    }
   ],
   "source": [
    "fig, ax = plt.subplots(nrows=1, ncols=2, figsize=(16,5))\n",
    "\n",
    "#looking for potential outliars\n",
    "sns.histplot(data=df, x='price', ax = ax[0])\n",
    "sns.boxplot(data=df, x='price', ax=ax[1]);"
   ]
  },
  {
   "cell_type": "code",
   "execution_count": 14,
   "metadata": {},
   "outputs": [],
   "source": [
    "#Making the 'price' benchmark between $150,000 to $710,000\n",
    "df.drop(df[df['price'] > 710000].index, inplace = True)\n",
    "df.drop(df[df['price'] < 150000].index, inplace = True)"
   ]
  },
  {
   "cell_type": "code",
   "execution_count": 15,
   "metadata": {
    "scrolled": true
   },
   "outputs": [
    {
     "data": {
      "image/png": "[encoded data removed]",
      "text/plain": [
       "<Figure size 1152x360 with 2 Axes>"
      ]
     },
     "metadata": {},
     "output_type": "display_data"
    }
   ],
   "source": [
    "fig, ax = plt.subplots(nrows=1, ncols=2, figsize=(16,5))\n",
    "\n",
    "sns.histplot(data=df, x='price', ax = ax[0])\n",
    "sns.boxplot(data=df, x='price', ax=ax[1]);"
   ]
  },
  {
   "cell_type": "markdown",
   "metadata": {},
   "source": [
    ">The histogram and boxplot looks to be more normally distributed after removing outliers"
   ]
  },
  {
   "cell_type": "markdown",
   "metadata": {},
   "source": [
    "### bedrooms"
   ]
  },
  {
   "cell_type": "code",
   "execution_count": 16,
   "metadata": {},
   "outputs": [
    {
     "data": {
      "text/plain": [
       "3     8435\n",
       "4     4686\n",
       "2     2477\n",
       "5      908\n",
       "1      170\n",
       "6      151\n",
       "7       17\n",
       "8        7\n",
       "9        3\n",
       "10       2\n",
       "11       1\n",
       "33       1\n",
       "Name: bedrooms, dtype: int64"
      ]
     },
     "execution_count": 16,
     "metadata": {},
     "output_type": "execute_result"
    }
   ],
   "source": [
    "df['bedrooms'].value_counts()"
   ]
  },
  {
   "cell_type": "markdown",
   "metadata": {},
   "source": [
    ">the table above points out the outliers in our data set on how many bedrooms each house have"
   ]
  },
  {
   "cell_type": "code",
   "execution_count": 17,
   "metadata": {},
   "outputs": [],
   "source": [
    "df.drop(df[df['bedrooms'] > 6].index, inplace = True)"
   ]
  },
  {
   "cell_type": "code",
   "execution_count": 18,
   "metadata": {},
   "outputs": [
    {
     "data": {
      "text/plain": [
       "3    8435\n",
       "4    4686\n",
       "2    2477\n",
       "5     908\n",
       "1     170\n",
       "6     151\n",
       "Name: bedrooms, dtype: int64"
      ]
     },
     "execution_count": 18,
     "metadata": {},
     "output_type": "execute_result"
    }
   ],
   "source": [
    "df['bedrooms'].value_counts()"
   ]
  },
  {
   "cell_type": "code",
   "execution_count": 19,
   "metadata": {
    "scrolled": true
   },
   "outputs": [
    {
     "data": {
      "image/png": "[encoded data removed]",
      "text/plain": [
       "<Figure size 432x288 with 1 Axes>"
      ]
     },
     "metadata": {},
     "output_type": "display_data"
    }
   ],
   "source": [
    "sns.histplot(data = df, x='bedrooms');"
   ]
  },
  {
   "cell_type": "markdown",
   "metadata": {},
   "source": [
    "### bathrooms"
   ]
  },
  {
   "cell_type": "code",
   "execution_count": 20,
   "metadata": {},
   "outputs": [
    {
     "data": {
      "text/plain": [
       "2.50    4134\n",
       "1.00    3512\n",
       "1.75    2713\n",
       "2.00    1696\n",
       "2.25    1660\n",
       "1.50    1300\n",
       "2.75     738\n",
       "3.00     453\n",
       "3.50     257\n",
       "3.25     218\n",
       "0.75      62\n",
       "3.75      25\n",
       "4.00      20\n",
       "4.50      17\n",
       "1.25       7\n",
       "4.25       6\n",
       "5.00       3\n",
       "4.75       2\n",
       "0.50       2\n",
       "5.25       2\n",
       "Name: bathrooms, dtype: int64"
      ]
     },
     "execution_count": 20,
     "metadata": {},
     "output_type": "execute_result"
    }
   ],
   "source": [
    "df['bathrooms'].value_counts()"
   ]
  },
  {
   "cell_type": "code",
   "execution_count": 21,
   "metadata": {
    "scrolled": true
   },
   "outputs": [
    {
     "data": {
      "image/png": "[encoded data removed]",
      "text/plain": [
       "<Figure size 432x288 with 1 Axes>"
      ]
     },
     "metadata": {},
     "output_type": "display_data"
    }
   ],
   "source": [
    "sns.histplot(data=df, x = 'bathrooms');"
   ]
  },
  {
   "cell_type": "markdown",
   "metadata": {},
   "source": [
    "> the above table points out the outliers in our data-set on how many bathrooms each house in set have"
   ]
  },
  {
   "cell_type": "code",
   "execution_count": 22,
   "metadata": {},
   "outputs": [],
   "source": [
    "df.drop(df[df['bathrooms'] > 4].index, inplace = True)\n",
    "df.drop(df[df['bathrooms'] < 0.75].index, inplace = True)"
   ]
  },
  {
   "cell_type": "code",
   "execution_count": 23,
   "metadata": {},
   "outputs": [
    {
     "data": {
      "image/png": "[encoded data removed]",
      "text/plain": [
       "<Figure size 432x288 with 1 Axes>"
      ]
     },
     "metadata": {},
     "output_type": "display_data"
    }
   ],
   "source": [
    "sns.histplot(data=df, x = 'bathrooms');"
   ]
  },
  {
   "cell_type": "markdown",
   "metadata": {},
   "source": [
    "### sqft_living"
   ]
  },
  {
   "cell_type": "code",
   "execution_count": 24,
   "metadata": {},
   "outputs": [
    {
     "data": {
      "image/png": "[encoded data removed]",
      "text/plain": [
       "<Figure size 1152x360 with 2 Axes>"
      ]
     },
     "metadata": {},
     "output_type": "display_data"
    }
   ],
   "source": [
    "fig, ax = plt.subplots(nrows=1, ncols=2, figsize=(16,5))\n",
    "\n",
    "sns.histplot(data=df, x='sqft_living', ax = ax[0])\n",
    "sns.boxplot(data=df, x='sqft_living', ax=ax[1]);"
   ]
  },
  {
   "cell_type": "code",
   "execution_count": 25,
   "metadata": {},
   "outputs": [],
   "source": [
    "df.drop(df[df['sqft_living'] > 4500].index, inplace = True)"
   ]
  },
  {
   "cell_type": "code",
   "execution_count": 26,
   "metadata": {},
   "outputs": [
    {
     "data": {
      "image/png": "[encoded data removed]",
      "text/plain": [
       "<Figure size 1152x360 with 2 Axes>"
      ]
     },
     "metadata": {},
     "output_type": "display_data"
    }
   ],
   "source": [
    "fig, ax = plt.subplots(nrows=1, ncols=2, figsize=(16,5))\n",
    "\n",
    "sns.histplot(data=df, x='sqft_living', ax = ax[0])\n",
    "sns.boxplot(data=df, x='sqft_living', ax=ax[1]);"
   ]
  },
  {
   "cell_type": "markdown",
   "metadata": {},
   "source": [
    "### sqft_lot"
   ]
  },
  {
   "cell_type": "code",
   "execution_count": 27,
   "metadata": {},
   "outputs": [
    {
     "data": {
      "image/png": "[encoded data removed]",
      "text/plain": [
       "<Figure size 1152x360 with 2 Axes>"
      ]
     },
     "metadata": {},
     "output_type": "display_data"
    }
   ],
   "source": [
    "fig, ax = plt.subplots(nrows=1, ncols=2, figsize=(16,5))\n",
    "\n",
    "sns.histplot(data=df, x='sqft_lot', ax = ax[0])\n",
    "sns.boxplot(data=df, x='sqft_lot', ax=ax[1]);"
   ]
  },
  {
   "cell_type": "code",
   "execution_count": 28,
   "metadata": {},
   "outputs": [],
   "source": [
    "#df.drop(df[df['sqft_lot'] > 17500].index, inplace = True)\n",
    "df.drop(df[df['sqft_lot'] > 14000].index, inplace = True)"
   ]
  },
  {
   "cell_type": "code",
   "execution_count": 29,
   "metadata": {
    "scrolled": true
   },
   "outputs": [
    {
     "data": {
      "image/png": "[encoded data removed]",
      "text/plain": [
       "<Figure size 1152x360 with 2 Axes>"
      ]
     },
     "metadata": {},
     "output_type": "display_data"
    }
   ],
   "source": [
    "fig, ax = plt.subplots(nrows=1, ncols=2, figsize=(16,5))\n",
    "\n",
    "sns.histplot(data=df, x='sqft_lot', ax = ax[0])\n",
    "sns.boxplot(data=df, x='sqft_lot', ax=ax[1]);"
   ]
  },
  {
   "cell_type": "code",
   "execution_count": 30,
   "metadata": {},
   "outputs": [
    {
     "data": {
      "text/plain": [
       "count    14520.000000\n",
       "mean      6731.364945\n",
       "std       2948.908855\n",
       "min        520.000000\n",
       "25%       4686.500000\n",
       "50%       6983.000000\n",
       "75%       8720.000000\n",
       "max      14000.000000\n",
       "Name: sqft_lot, dtype: float64"
      ]
     },
     "execution_count": 30,
     "metadata": {},
     "output_type": "execute_result"
    }
   ],
   "source": [
    "df['sqft_lot'].describe()"
   ]
  },
  {
   "cell_type": "markdown",
   "metadata": {},
   "source": [
    "### sqft_basement"
   ]
  },
  {
   "cell_type": "code",
   "execution_count": 31,
   "metadata": {
    "scrolled": false
   },
   "outputs": [
    {
     "data": {
      "image/png": "[encoded data removed]",
      "text/plain": [
       "<Figure size 432x288 with 1 Axes>"
      ]
     },
     "metadata": {},
     "output_type": "display_data"
    }
   ],
   "source": [
    "sns.histplot(data=df, x='sqft_basement');"
   ]
  },
  {
   "cell_type": "code",
   "execution_count": 32,
   "metadata": {},
   "outputs": [],
   "source": [
    "df.drop(df[df['sqft_basement'] > 1300].index, inplace=True)"
   ]
  },
  {
   "cell_type": "code",
   "execution_count": 33,
   "metadata": {
    "scrolled": false
   },
   "outputs": [
    {
     "data": {
      "image/png": "[encoded data removed]",
      "text/plain": [
       "<Figure size 432x288 with 1 Axes>"
      ]
     },
     "metadata": {},
     "output_type": "display_data"
    }
   ],
   "source": [
    "sns.histplot(data = df, x='sqft_basement');"
   ]
  },
  {
   "cell_type": "markdown",
   "metadata": {},
   "source": [
    "#### is_basement"
   ]
  },
  {
   "cell_type": "code",
   "execution_count": 34,
   "metadata": {
    "scrolled": true
   },
   "outputs": [
    {
     "data": {
      "text/plain": [
       "count    14385.000000\n",
       "mean         0.362808\n",
       "std          0.480827\n",
       "min          0.000000\n",
       "25%          0.000000\n",
       "50%          0.000000\n",
       "75%          1.000000\n",
       "max          1.000000\n",
       "Name: has_basement, dtype: float64"
      ]
     },
     "execution_count": 34,
     "metadata": {},
     "output_type": "execute_result"
    }
   ],
   "source": [
    "df['has_basement'].describe()"
   ]
  },
  {
   "cell_type": "code",
   "execution_count": 35,
   "metadata": {},
   "outputs": [
    {
     "data": {
      "image/png": "[encoded data removed]",
      "text/plain": [
       "<Figure size 432x288 with 1 Axes>"
      ]
     },
     "metadata": {},
     "output_type": "display_data"
    }
   ],
   "source": [
    "sns.histplot(data = df, x='has_basement');"
   ]
  },
  {
   "cell_type": "markdown",
   "metadata": {},
   "source": [
    "### floors"
   ]
  },
  {
   "cell_type": "code",
   "execution_count": 36,
   "metadata": {},
   "outputs": [
    {
     "data": {
      "text/plain": [
       "1.0    7794\n",
       "2.0    4823\n",
       "1.5    1223\n",
       "3.0     481\n",
       "2.5      58\n",
       "3.5       6\n",
       "Name: floors, dtype: int64"
      ]
     },
     "execution_count": 36,
     "metadata": {},
     "output_type": "execute_result"
    }
   ],
   "source": [
    "df['floors'].value_counts()"
   ]
  },
  {
   "cell_type": "code",
   "execution_count": 37,
   "metadata": {},
   "outputs": [],
   "source": [
    "df.drop(df[df['floors'] > 3].index, inplace=True)"
   ]
  },
  {
   "cell_type": "code",
   "execution_count": 38,
   "metadata": {
    "scrolled": true
   },
   "outputs": [
    {
     "data": {
      "text/plain": [
       "1.0    7794\n",
       "2.0    4823\n",
       "1.5    1223\n",
       "3.0     481\n",
       "2.5      58\n",
       "Name: floors, dtype: int64"
      ]
     },
     "execution_count": 38,
     "metadata": {},
     "output_type": "execute_result"
    }
   ],
   "source": [
    "df['floors'].value_counts()"
   ]
  },
  {
   "cell_type": "markdown",
   "metadata": {},
   "source": [
    "### grade and condition"
   ]
  },
  {
   "cell_type": "code",
   "execution_count": 39,
   "metadata": {},
   "outputs": [
    {
     "data": {
      "text/plain": [
       "7     7442\n",
       "8     4094\n",
       "6     1689\n",
       "9      889\n",
       "5      145\n",
       "10     107\n",
       "4       10\n",
       "11       2\n",
       "3        1\n",
       "Name: grade, dtype: int64"
      ]
     },
     "execution_count": 39,
     "metadata": {},
     "output_type": "execute_result"
    }
   ],
   "source": [
    "df['grade'].value_counts()"
   ]
  },
  {
   "cell_type": "code",
   "execution_count": 40,
   "metadata": {
    "scrolled": false
   },
   "outputs": [
    {
     "data": {
      "text/plain": [
       "3    9477\n",
       "4    3719\n",
       "5    1063\n",
       "2     107\n",
       "1      13\n",
       "Name: condition, dtype: int64"
      ]
     },
     "execution_count": 40,
     "metadata": {},
     "output_type": "execute_result"
    }
   ],
   "source": [
    "df['condition'].value_counts()"
   ]
  },
  {
   "cell_type": "markdown",
   "metadata": {},
   "source": [
    "### sqft_lot15"
   ]
  },
  {
   "cell_type": "code",
   "execution_count": 41,
   "metadata": {},
   "outputs": [
    {
     "data": {
      "image/png": "[encoded data removed]",
      "text/plain": [
       "<Figure size 1152x360 with 2 Axes>"
      ]
     },
     "metadata": {},
     "output_type": "display_data"
    }
   ],
   "source": [
    "fig, ax = plt.subplots(nrows=1, ncols=2, figsize=(16,5))\n",
    "\n",
    "sns.histplot(data=df, x='sqft_lot15', ax = ax[0])\n",
    "sns.boxplot(data=df, x='sqft_lot15', ax=ax[1]);"
   ]
  },
  {
   "cell_type": "code",
   "execution_count": 42,
   "metadata": {},
   "outputs": [],
   "source": [
    "df.drop(df[df['sqft_lot15'] > 25000].index, inplace=True)"
   ]
  },
  {
   "cell_type": "code",
   "execution_count": 43,
   "metadata": {
    "scrolled": true
   },
   "outputs": [
    {
     "data": {
      "image/png": "[encoded data removed]",
      "text/plain": [
       "<Figure size 1152x360 with 2 Axes>"
      ]
     },
     "metadata": {},
     "output_type": "display_data"
    }
   ],
   "source": [
    "fig, ax = plt.subplots(nrows=1, ncols=2, figsize=(16,5))\n",
    "\n",
    "sns.histplot(data=df, x='sqft_lot15', ax = ax[0])\n",
    "sns.boxplot(data=df, x='sqft_lot15', ax=ax[1]);"
   ]
  },
  {
   "cell_type": "markdown",
   "metadata": {},
   "source": [
    "### sqft_living15"
   ]
  },
  {
   "cell_type": "code",
   "execution_count": 44,
   "metadata": {
    "scrolled": false
   },
   "outputs": [
    {
     "data": {
      "image/png": "[encoded data removed]",
      "text/plain": [
       "<Figure size 1152x360 with 2 Axes>"
      ]
     },
     "metadata": {},
     "output_type": "display_data"
    }
   ],
   "source": [
    "fig, ax = plt.subplots(nrows=1, ncols=2, figsize=(16,5))\n",
    "\n",
    "sns.histplot(data=df, x='sqft_living15', ax = ax[0])\n",
    "sns.boxplot(data=df, x='sqft_living15', ax=ax[1]);"
   ]
  },
  {
   "cell_type": "markdown",
   "metadata": {},
   "source": [
    "### date"
   ]
  },
  {
   "cell_type": "code",
   "execution_count": 45,
   "metadata": {},
   "outputs": [
    {
     "data": {
      "text/plain": [
       "2014    9682\n",
       "2015    4679\n",
       "Name: year_sold, dtype: int64"
      ]
     },
     "execution_count": 45,
     "metadata": {},
     "output_type": "execute_result"
    }
   ],
   "source": [
    "df['year_sold'].value_counts()"
   ]
  },
  {
   "cell_type": "markdown",
   "metadata": {},
   "source": [
    "> deleting year_sold for not having much of a recording"
   ]
  },
  {
   "cell_type": "code",
   "execution_count": 46,
   "metadata": {},
   "outputs": [],
   "source": [
    "df.drop('year_sold', axis=1, inplace=True)"
   ]
  },
  {
   "cell_type": "markdown",
   "metadata": {},
   "source": [
    "### waterfront"
   ]
  },
  {
   "cell_type": "code",
   "execution_count": 47,
   "metadata": {
    "scrolled": true
   },
   "outputs": [
    {
     "data": {
      "text/plain": [
       "0    14354\n",
       "1        7\n",
       "Name: waterfront, dtype: int64"
      ]
     },
     "execution_count": 47,
     "metadata": {},
     "output_type": "execute_result"
    }
   ],
   "source": [
    "df['waterfront'].value_counts()"
   ]
  },
  {
   "cell_type": "code",
   "execution_count": 48,
   "metadata": {},
   "outputs": [],
   "source": [
    "df.drop('waterfront', axis=1, inplace=True)"
   ]
  },
  {
   "cell_type": "markdown",
   "metadata": {},
   "source": [
    "### zipcode"
   ]
  },
  {
   "cell_type": "code",
   "execution_count": 49,
   "metadata": {
    "scrolled": true
   },
   "outputs": [
    {
     "name": "stderr",
     "output_type": "stream",
     "text": [
      "C:\\Users\\Deric\\anaconda3\\envs\\learn-env\\lib\\site-packages\\seaborn\\_decorators.py:43: FutureWarning: Pass the following variables as keyword args: x, y. From version 0.12, the only valid positional argument will be `data`, and passing other arguments without an explicit keyword will result in an error or misinterpretation.\n",
      "  FutureWarning\n"
     ]
    },
    {
     "data": {
      "image/png": "[encoded data removed]",
      "text/plain": [
       "<Figure size 432x288 with 1 Axes>"
      ]
     },
     "metadata": {},
     "output_type": "display_data"
    }
   ],
   "source": [
    "sns.scatterplot(df.long, df.lat, hue=df.price);"
   ]
  },
  {
   "cell_type": "code",
   "execution_count": 50,
   "metadata": {},
   "outputs": [
    {
     "data": {
      "text/plain": [
       "zipcode\n",
       "98001    255\n",
       "98002    177\n",
       "98003    238\n",
       "98004     26\n",
       "98005     48\n",
       "        ... \n",
       "98177    171\n",
       "98178    221\n",
       "98188    110\n",
       "98198    215\n",
       "98199    167\n",
       "Name: price, Length: 69, dtype: int64"
      ]
     },
     "execution_count": 50,
     "metadata": {},
     "output_type": "execute_result"
    }
   ],
   "source": [
    "frequency = df.groupby('zipcode')['price'].count()\n",
    "frequency"
   ]
  },
  {
   "cell_type": "code",
   "execution_count": 51,
   "metadata": {},
   "outputs": [
    {
     "data": {
      "text/plain": [
       "zipcode\n",
       "98001    271486.043137\n",
       "98002    237994.197740\n",
       "98003    279574.924370\n",
       "98004    630238.461538\n",
       "98005    591872.312500\n",
       "             ...      \n",
       "98177    483843.245614\n",
       "98178    289987.294118\n",
       "98188    280101.045455\n",
       "98198    275968.079070\n",
       "98199    538573.155689\n",
       "Name: price, Length: 69, dtype: float64"
      ]
     },
     "execution_count": 51,
     "metadata": {},
     "output_type": "execute_result"
    }
   ],
   "source": [
    "mean = df.groupby('zipcode').mean()['price']\n",
    "mean"
   ]
  },
  {
   "cell_type": "code",
   "execution_count": 52,
   "metadata": {},
   "outputs": [
    {
     "data": {
      "text/html": [
       "<div>\n",
       "<style scoped>\n",
       "    .dataframe tbody tr th:only-of-type {\n",
       "        vertical-align: middle;\n",
       "    }\n",
       "\n",
       "    .dataframe tbody tr th {\n",
       "        vertical-align: top;\n",
       "    }\n",
       "\n",
       "    .dataframe thead th {\n",
       "        text-align: right;\n",
       "    }\n",
       "</style>\n",
       "<table border=\"1\" class=\"dataframe\">\n",
       "  <thead>\n",
       "    <tr style=\"text-align: right;\">\n",
       "      <th></th>\n",
       "      <th>price</th>\n",
       "      <th>price</th>\n",
       "    </tr>\n",
       "    <tr>\n",
       "      <th>zipcode</th>\n",
       "      <th></th>\n",
       "      <th></th>\n",
       "    </tr>\n",
       "  </thead>\n",
       "  <tbody>\n",
       "    <tr>\n",
       "      <th>98001</th>\n",
       "      <td>255</td>\n",
       "      <td>271486.043137</td>\n",
       "    </tr>\n",
       "    <tr>\n",
       "      <th>98002</th>\n",
       "      <td>177</td>\n",
       "      <td>237994.197740</td>\n",
       "    </tr>\n",
       "    <tr>\n",
       "      <th>98003</th>\n",
       "      <td>238</td>\n",
       "      <td>279574.924370</td>\n",
       "    </tr>\n",
       "    <tr>\n",
       "      <th>98004</th>\n",
       "      <td>26</td>\n",
       "      <td>630238.461538</td>\n",
       "    </tr>\n",
       "    <tr>\n",
       "      <th>98005</th>\n",
       "      <td>48</td>\n",
       "      <td>591872.312500</td>\n",
       "    </tr>\n",
       "    <tr>\n",
       "      <th>...</th>\n",
       "      <td>...</td>\n",
       "      <td>...</td>\n",
       "    </tr>\n",
       "    <tr>\n",
       "      <th>98177</th>\n",
       "      <td>171</td>\n",
       "      <td>483843.245614</td>\n",
       "    </tr>\n",
       "    <tr>\n",
       "      <th>98178</th>\n",
       "      <td>221</td>\n",
       "      <td>289987.294118</td>\n",
       "    </tr>\n",
       "    <tr>\n",
       "      <th>98188</th>\n",
       "      <td>110</td>\n",
       "      <td>280101.045455</td>\n",
       "    </tr>\n",
       "    <tr>\n",
       "      <th>98198</th>\n",
       "      <td>215</td>\n",
       "      <td>275968.079070</td>\n",
       "    </tr>\n",
       "    <tr>\n",
       "      <th>98199</th>\n",
       "      <td>167</td>\n",
       "      <td>538573.155689</td>\n",
       "    </tr>\n",
       "  </tbody>\n",
       "</table>\n",
       "<p>69 rows × 2 columns</p>\n",
       "</div>"
      ],
      "text/plain": [
       "         price          price\n",
       "zipcode                      \n",
       "98001      255  271486.043137\n",
       "98002      177  237994.197740\n",
       "98003      238  279574.924370\n",
       "98004       26  630238.461538\n",
       "98005       48  591872.312500\n",
       "...        ...            ...\n",
       "98177      171  483843.245614\n",
       "98178      221  289987.294118\n",
       "98188      110  280101.045455\n",
       "98198      215  275968.079070\n",
       "98199      167  538573.155689\n",
       "\n",
       "[69 rows x 2 columns]"
      ]
     },
     "execution_count": 52,
     "metadata": {},
     "output_type": "execute_result"
    }
   ],
   "source": [
    "cluster = pd.concat([frequency, mean], axis=1)\n",
    "cluster"
   ]
  },
  {
   "cell_type": "code",
   "execution_count": 53,
   "metadata": {},
   "outputs": [],
   "source": [
    "cluster['zipcode'] = cluster.index"
   ]
  },
  {
   "cell_type": "code",
   "execution_count": 54,
   "metadata": {},
   "outputs": [
    {
     "data": {
      "text/html": [
       "<div>\n",
       "<style scoped>\n",
       "    .dataframe tbody tr th:only-of-type {\n",
       "        vertical-align: middle;\n",
       "    }\n",
       "\n",
       "    .dataframe tbody tr th {\n",
       "        vertical-align: top;\n",
       "    }\n",
       "\n",
       "    .dataframe thead th {\n",
       "        text-align: right;\n",
       "    }\n",
       "</style>\n",
       "<table border=\"1\" class=\"dataframe\">\n",
       "  <thead>\n",
       "    <tr style=\"text-align: right;\">\n",
       "      <th></th>\n",
       "      <th>frequency</th>\n",
       "      <th>price</th>\n",
       "      <th>zipcode</th>\n",
       "    </tr>\n",
       "  </thead>\n",
       "  <tbody>\n",
       "    <tr>\n",
       "      <th>count</th>\n",
       "      <td>69.000000</td>\n",
       "      <td>69.000000</td>\n",
       "      <td>69.000000</td>\n",
       "    </tr>\n",
       "    <tr>\n",
       "      <th>mean</th>\n",
       "      <td>208.130435</td>\n",
       "      <td>419129.158868</td>\n",
       "      <td>98077.855072</td>\n",
       "    </tr>\n",
       "    <tr>\n",
       "      <th>std</th>\n",
       "      <td>126.780138</td>\n",
       "      <td>113929.160608</td>\n",
       "      <td>56.845062</td>\n",
       "    </tr>\n",
       "    <tr>\n",
       "      <th>min</th>\n",
       "      <td>16.000000</td>\n",
       "      <td>237994.197740</td>\n",
       "      <td>98001.000000</td>\n",
       "    </tr>\n",
       "    <tr>\n",
       "      <th>25%</th>\n",
       "      <td>114.000000</td>\n",
       "      <td>305616.090909</td>\n",
       "      <td>98029.000000</td>\n",
       "    </tr>\n",
       "    <tr>\n",
       "      <th>50%</th>\n",
       "      <td>210.000000</td>\n",
       "      <td>423468.496815</td>\n",
       "      <td>98070.000000</td>\n",
       "    </tr>\n",
       "    <tr>\n",
       "      <th>75%</th>\n",
       "      <td>263.000000</td>\n",
       "      <td>512619.479070</td>\n",
       "      <td>98118.000000</td>\n",
       "    </tr>\n",
       "    <tr>\n",
       "      <th>max</th>\n",
       "      <td>465.000000</td>\n",
       "      <td>630858.444444</td>\n",
       "      <td>98199.000000</td>\n",
       "    </tr>\n",
       "  </tbody>\n",
       "</table>\n",
       "</div>"
      ],
      "text/plain": [
       "        frequency          price       zipcode\n",
       "count   69.000000      69.000000     69.000000\n",
       "mean   208.130435  419129.158868  98077.855072\n",
       "std    126.780138  113929.160608     56.845062\n",
       "min     16.000000  237994.197740  98001.000000\n",
       "25%    114.000000  305616.090909  98029.000000\n",
       "50%    210.000000  423468.496815  98070.000000\n",
       "75%    263.000000  512619.479070  98118.000000\n",
       "max    465.000000  630858.444444  98199.000000"
      ]
     },
     "execution_count": 54,
     "metadata": {},
     "output_type": "execute_result"
    }
   ],
   "source": [
    "cluster.columns = ['frequency','price', 'zipcode']\n",
    "cluster.describe()"
   ]
  },
  {
   "cell_type": "code",
   "execution_count": 55,
   "metadata": {},
   "outputs": [],
   "source": [
    "# creating \"cheap\" group that sell below mean price(454585)\n",
    "cluster_cheap = cluster[cluster.price < 454585]\n",
    "\n",
    "# temporary cluster of the houses that sell above mean price\n",
    "cluster_temp = cluster[cluster.price >= 454585]\n",
    "\n",
    "# creating \"low volume, higher priced\" group that sell less frequently than the mean\n",
    "cluster_cheap_low_volume = cluster_cheap[cluster_cheap.frequency < 330]\n",
    "\n",
    "# creating \"high volume, higher priced\" group that sell more frequently than the mean\n",
    "cluster_cheap_high_volume = cluster_cheap[cluster_cheap.frequency >= 330]\n",
    "\n",
    "# creating \"low volume, higher priced\" group that sell less frequently than the mean\n",
    "cluster_expensive_low_volume = cluster_temp[cluster_temp.frequency < 278]\n",
    "\n",
    "# creating \"high volume, higher priced\" group that sell more frequently than the mean\n",
    "cluster_expensive_high_volume = cluster_temp[cluster_temp.frequency >= 280]"
   ]
  },
  {
   "cell_type": "code",
   "execution_count": 56,
   "metadata": {},
   "outputs": [],
   "source": [
    "def get_zipcode_category(zipcode):\n",
    "    if zipcode in cluster_cheap_low_volume.index:\n",
    "        return 'cheap_low_volume'\n",
    "    elif zipcode in cluster_cheap_high_volume.index:\n",
    "        return 'cheap_high_volume'\n",
    "    elif zipcode in cluster_expensive_low_volume.index:\n",
    "        return 'expensive_low_volume'\n",
    "    else:\n",
    "        return 'expensive_high_volume'"
   ]
  },
  {
   "cell_type": "code",
   "execution_count": 57,
   "metadata": {
    "scrolled": true
   },
   "outputs": [
    {
     "data": {
      "text/plain": [
       "cheap_low_volume         4926\n",
       "cheap_high_volume        4043\n",
       "expensive_low_volume     3768\n",
       "expensive_high_volume    1624\n",
       "Name: zipcode_type, dtype: int64"
      ]
     },
     "execution_count": 57,
     "metadata": {},
     "output_type": "execute_result"
    }
   ],
   "source": [
    "df['zipcode_type'] = df.zipcode.apply(get_zipcode_category)\n",
    "df.zipcode_type.value_counts() # viewing how our clusters look"
   ]
  },
  {
   "cell_type": "markdown",
   "metadata": {},
   "source": [
    "## Continuous and Categorical Features"
   ]
  },
  {
   "cell_type": "markdown",
   "metadata": {},
   "source": [
    "### Multi-collineary "
   ]
  },
  {
   "cell_type": "code",
   "execution_count": 58,
   "metadata": {},
   "outputs": [
    {
     "data": {
      "text/html": [
       "<div>\n",
       "<style scoped>\n",
       "    .dataframe tbody tr th:only-of-type {\n",
       "        vertical-align: middle;\n",
       "    }\n",
       "\n",
       "    .dataframe tbody tr th {\n",
       "        vertical-align: top;\n",
       "    }\n",
       "\n",
       "    .dataframe thead th {\n",
       "        text-align: right;\n",
       "    }\n",
       "</style>\n",
       "<table border=\"1\" class=\"dataframe\">\n",
       "  <thead>\n",
       "    <tr style=\"text-align: right;\">\n",
       "      <th></th>\n",
       "      <th>cc</th>\n",
       "    </tr>\n",
       "    <tr>\n",
       "      <th>pairs</th>\n",
       "      <th></th>\n",
       "    </tr>\n",
       "  </thead>\n",
       "  <tbody>\n",
       "    <tr>\n",
       "      <th>(sqft_lot, sqft_lot15)</th>\n",
       "      <td>0.866243</td>\n",
       "    </tr>\n",
       "    <tr>\n",
       "      <th>(sqft_living, sqft_above)</th>\n",
       "      <td>0.829318</td>\n",
       "    </tr>\n",
       "    <tr>\n",
       "      <th>(sqft_living15, sqft_living)</th>\n",
       "      <td>0.711847</td>\n",
       "    </tr>\n",
       "  </tbody>\n",
       "</table>\n",
       "</div>"
      ],
      "text/plain": [
       "                                    cc\n",
       "pairs                                 \n",
       "(sqft_lot, sqft_lot15)        0.866243\n",
       "(sqft_living, sqft_above)     0.829318\n",
       "(sqft_living15, sqft_living)  0.711847"
      ]
     },
     "execution_count": 58,
     "metadata": {},
     "output_type": "execute_result"
    }
   ],
   "source": [
    "df_cont = df[['sqft_living', 'sqft_lot', 'sqft_above', 'sqft_basement', \n",
    "              'lat', 'long', 'sqft_living15', 'sqft_lot15']]\n",
    "\n",
    "data_cont = df_cont.corr().abs().stack().reset_index().sort_values(0, ascending=False)\n",
    "data_cont['pairs'] = list(zip(data_cont.level_0, data_cont.level_1))\n",
    "data_cont.set_index(['pairs'], inplace=True)\n",
    "data_cont.drop(columns=['level_1', 'level_0'], inplace = True)\n",
    "data_cont.columns = ['cc']\n",
    "data_cont.drop_duplicates(inplace=True)\n",
    "data_cont[(data_cont.cc>.70) & (data_cont.cc<1)]"
   ]
  },
  {
   "cell_type": "markdown",
   "metadata": {},
   "source": [
    ">Above table are showing some highly correlated continuous columns. We'll be dropping 'sqft_above', 'sqft_living15', and 'sqft_lot15' due to high correlation that will lead to fallacy in our model."
   ]
  },
  {
   "cell_type": "code",
   "execution_count": 59,
   "metadata": {},
   "outputs": [],
   "source": [
    "#creating seperate dataframe from the original to make changes\n",
    "df_b = df"
   ]
  },
  {
   "cell_type": "code",
   "execution_count": 60,
   "metadata": {},
   "outputs": [],
   "source": [
    "#dropping the multicollinearies and unwanted columns\n",
    "df_b.drop('lat', axis = 1, inplace = True)\n",
    "df_b.drop('long', axis = 1, inplace = True)\n",
    "df_b.drop('sqft_above', axis = 1, inplace = True)\n",
    "df_b.drop('sqft_living15', axis = 1, inplace = True)\n",
    "df_b.drop('sqft_lot15', axis = 1, inplace = True)"
   ]
  },
  {
   "cell_type": "markdown",
   "metadata": {},
   "source": [
    "> We are dropping 'lat' and 'long' columns because we'll be using zipcode instead. As well as dropping the 'view' columns because we believe it's not a big determining factor for house prices."
   ]
  },
  {
   "cell_type": "markdown",
   "metadata": {},
   "source": [
    "### Categorical / One Hot Encoded"
   ]
  },
  {
   "cell_type": "code",
   "execution_count": 61,
   "metadata": {},
   "outputs": [
    {
     "data": {
      "image/png": "[encoded data removed]",
      "text/plain": [
       "<Figure size 1152x720 with 3 Axes>"
      ]
     },
     "metadata": {},
     "output_type": "display_data"
    }
   ],
   "source": [
    "#looking at graphs to see columns shaped like a categorical data\n",
    "fig, axes = plt.subplots(nrows=1, ncols=3, figsize=(16,10), sharey=True)\n",
    "\n",
    "feats = ['condition', 'grade', 'zipcode_type']\n",
    "\n",
    "for col, ax in zip(feats, axes.flatten()):\n",
    "    (df.groupby(col)               \n",
    "         .mean()['price']        \n",
    "         .sort_values()              \n",
    "         .plot\n",
    "         .bar(ax=ax))                \n",
    "    \n",
    "    ax.set_title(col)                \n",
    "fig.tight_layout()"
   ]
  },
  {
   "cell_type": "code",
   "execution_count": 62,
   "metadata": {
    "scrolled": true
   },
   "outputs": [],
   "source": [
    "features = df[feats].astype('category')"
   ]
  },
  {
   "cell_type": "code",
   "execution_count": 63,
   "metadata": {},
   "outputs": [],
   "source": [
    "feats_ohe = pd.get_dummies(features, drop_first = True)"
   ]
  },
  {
   "cell_type": "code",
   "execution_count": 64,
   "metadata": {},
   "outputs": [],
   "source": [
    "feats_ohe = feats_ohe.astype(int)"
   ]
  },
  {
   "cell_type": "code",
   "execution_count": 65,
   "metadata": {
    "scrolled": true
   },
   "outputs": [
    {
     "data": {
      "text/html": [
       "<div>\n",
       "<style scoped>\n",
       "    .dataframe tbody tr th:only-of-type {\n",
       "        vertical-align: middle;\n",
       "    }\n",
       "\n",
       "    .dataframe tbody tr th {\n",
       "        vertical-align: top;\n",
       "    }\n",
       "\n",
       "    .dataframe thead th {\n",
       "        text-align: right;\n",
       "    }\n",
       "</style>\n",
       "<table border=\"1\" class=\"dataframe\">\n",
       "  <thead>\n",
       "    <tr style=\"text-align: right;\">\n",
       "      <th></th>\n",
       "      <th>condition_2</th>\n",
       "      <th>condition_3</th>\n",
       "      <th>condition_4</th>\n",
       "      <th>condition_5</th>\n",
       "      <th>grade_4</th>\n",
       "      <th>grade_5</th>\n",
       "      <th>grade_6</th>\n",
       "      <th>grade_7</th>\n",
       "      <th>grade_8</th>\n",
       "      <th>grade_9</th>\n",
       "      <th>grade_10</th>\n",
       "      <th>grade_11</th>\n",
       "      <th>zipcode_type_cheap_low_volume</th>\n",
       "      <th>zipcode_type_expensive_high_volume</th>\n",
       "      <th>zipcode_type_expensive_low_volume</th>\n",
       "    </tr>\n",
       "  </thead>\n",
       "  <tbody>\n",
       "    <tr>\n",
       "      <th>0</th>\n",
       "      <td>0</td>\n",
       "      <td>1</td>\n",
       "      <td>0</td>\n",
       "      <td>0</td>\n",
       "      <td>0</td>\n",
       "      <td>0</td>\n",
       "      <td>0</td>\n",
       "      <td>1</td>\n",
       "      <td>0</td>\n",
       "      <td>0</td>\n",
       "      <td>0</td>\n",
       "      <td>0</td>\n",
       "      <td>1</td>\n",
       "      <td>0</td>\n",
       "      <td>0</td>\n",
       "    </tr>\n",
       "    <tr>\n",
       "      <th>1</th>\n",
       "      <td>0</td>\n",
       "      <td>1</td>\n",
       "      <td>0</td>\n",
       "      <td>0</td>\n",
       "      <td>0</td>\n",
       "      <td>0</td>\n",
       "      <td>0</td>\n",
       "      <td>1</td>\n",
       "      <td>0</td>\n",
       "      <td>0</td>\n",
       "      <td>0</td>\n",
       "      <td>0</td>\n",
       "      <td>0</td>\n",
       "      <td>0</td>\n",
       "      <td>0</td>\n",
       "    </tr>\n",
       "    <tr>\n",
       "      <th>2</th>\n",
       "      <td>0</td>\n",
       "      <td>1</td>\n",
       "      <td>0</td>\n",
       "      <td>0</td>\n",
       "      <td>0</td>\n",
       "      <td>0</td>\n",
       "      <td>1</td>\n",
       "      <td>0</td>\n",
       "      <td>0</td>\n",
       "      <td>0</td>\n",
       "      <td>0</td>\n",
       "      <td>0</td>\n",
       "      <td>1</td>\n",
       "      <td>0</td>\n",
       "      <td>0</td>\n",
       "    </tr>\n",
       "    <tr>\n",
       "      <th>3</th>\n",
       "      <td>0</td>\n",
       "      <td>0</td>\n",
       "      <td>0</td>\n",
       "      <td>1</td>\n",
       "      <td>0</td>\n",
       "      <td>0</td>\n",
       "      <td>0</td>\n",
       "      <td>1</td>\n",
       "      <td>0</td>\n",
       "      <td>0</td>\n",
       "      <td>0</td>\n",
       "      <td>0</td>\n",
       "      <td>0</td>\n",
       "      <td>0</td>\n",
       "      <td>1</td>\n",
       "    </tr>\n",
       "    <tr>\n",
       "      <th>4</th>\n",
       "      <td>0</td>\n",
       "      <td>1</td>\n",
       "      <td>0</td>\n",
       "      <td>0</td>\n",
       "      <td>0</td>\n",
       "      <td>0</td>\n",
       "      <td>0</td>\n",
       "      <td>0</td>\n",
       "      <td>1</td>\n",
       "      <td>0</td>\n",
       "      <td>0</td>\n",
       "      <td>0</td>\n",
       "      <td>0</td>\n",
       "      <td>0</td>\n",
       "      <td>1</td>\n",
       "    </tr>\n",
       "  </tbody>\n",
       "</table>\n",
       "</div>"
      ],
      "text/plain": [
       "   condition_2  condition_3  condition_4  condition_5  grade_4  grade_5  \\\n",
       "0            0            1            0            0        0        0   \n",
       "1            0            1            0            0        0        0   \n",
       "2            0            1            0            0        0        0   \n",
       "3            0            0            0            1        0        0   \n",
       "4            0            1            0            0        0        0   \n",
       "\n",
       "   grade_6  grade_7  grade_8  grade_9  grade_10  grade_11  \\\n",
       "0        0        1        0        0         0         0   \n",
       "1        0        1        0        0         0         0   \n",
       "2        1        0        0        0         0         0   \n",
       "3        0        1        0        0         0         0   \n",
       "4        0        0        1        0         0         0   \n",
       "\n",
       "   zipcode_type_cheap_low_volume  zipcode_type_expensive_high_volume  \\\n",
       "0                              1                                   0   \n",
       "1                              0                                   0   \n",
       "2                              1                                   0   \n",
       "3                              0                                   0   \n",
       "4                              0                                   0   \n",
       "\n",
       "   zipcode_type_expensive_low_volume  \n",
       "0                                  0  \n",
       "1                                  0  \n",
       "2                                  0  \n",
       "3                                  1  \n",
       "4                                  1  "
      ]
     },
     "execution_count": 65,
     "metadata": {},
     "output_type": "execute_result"
    }
   ],
   "source": [
    "feats_ohe.head()"
   ]
  },
  {
   "cell_type": "markdown",
   "metadata": {},
   "source": [
    "### Baseline DataFrame"
   ]
  },
  {
   "cell_type": "markdown",
   "metadata": {},
   "source": [
    "> Adding the new features to the baseline data"
   ]
  },
  {
   "cell_type": "code",
   "execution_count": 66,
   "metadata": {},
   "outputs": [],
   "source": [
    "df_model = pd.concat([df_b, feats_ohe], axis = 1)"
   ]
  },
  {
   "cell_type": "code",
   "execution_count": 67,
   "metadata": {},
   "outputs": [
    {
     "data": {
      "text/plain": [
       "Index(['price', 'bedrooms', 'bathrooms', 'sqft_living', 'sqft_lot', 'floors',\n",
       "       'view', 'condition', 'grade', 'sqft_basement', 'yr_built',\n",
       "       'yr_renovated', 'zipcode', 'month_sold', 'sold_spring_time',\n",
       "       'sold_summer_time', 'sold_fall_time', 'sold_winter_time',\n",
       "       'has_renovated', 'has_basement', 'zipcode_type', 'condition_2',\n",
       "       'condition_3', 'condition_4', 'condition_5', 'grade_4', 'grade_5',\n",
       "       'grade_6', 'grade_7', 'grade_8', 'grade_9', 'grade_10', 'grade_11',\n",
       "       'zipcode_type_cheap_low_volume', 'zipcode_type_expensive_high_volume',\n",
       "       'zipcode_type_expensive_low_volume'],\n",
       "      dtype='object')"
      ]
     },
     "execution_count": 67,
     "metadata": {},
     "output_type": "execute_result"
    }
   ],
   "source": [
    "df_model.columns"
   ]
  },
  {
   "cell_type": "markdown",
   "metadata": {},
   "source": [
    "> dropping more unwanted columns from our baseline DataFrame"
   ]
  },
  {
   "cell_type": "code",
   "execution_count": 68,
   "metadata": {},
   "outputs": [],
   "source": [
    "#dropping unwanted columns first\n",
    "df_model.drop('view', axis = 1, inplace = True)\n",
    "df_model.drop('yr_renovated', axis = 1, inplace = True)\n",
    "df_model.drop('sqft_basement', axis = 1, inplace = True)"
   ]
  },
  {
   "cell_type": "markdown",
   "metadata": {},
   "source": [
    ">Dropping 'condition', 'grade', and 'zipcode' since they're replaced with one hot encoded features"
   ]
  },
  {
   "cell_type": "code",
   "execution_count": 69,
   "metadata": {},
   "outputs": [],
   "source": [
    "df_model.drop('condition', axis = 1, inplace = True)\n",
    "df_model.drop('grade', axis = 1, inplace = True)\n",
    "df_model.drop('zipcode', axis = 1, inplace = True)"
   ]
  },
  {
   "cell_type": "code",
   "execution_count": 70,
   "metadata": {},
   "outputs": [],
   "source": [
    "df_model.drop('zipcode_type', axis = 1, inplace = True)"
   ]
  },
  {
   "cell_type": "code",
   "execution_count": 71,
   "metadata": {
    "scrolled": true
   },
   "outputs": [
    {
     "data": {
      "text/html": [
       "<div>\n",
       "<style scoped>\n",
       "    .dataframe tbody tr th:only-of-type {\n",
       "        vertical-align: middle;\n",
       "    }\n",
       "\n",
       "    .dataframe tbody tr th {\n",
       "        vertical-align: top;\n",
       "    }\n",
       "\n",
       "    .dataframe thead th {\n",
       "        text-align: right;\n",
       "    }\n",
       "</style>\n",
       "<table border=\"1\" class=\"dataframe\">\n",
       "  <thead>\n",
       "    <tr style=\"text-align: right;\">\n",
       "      <th></th>\n",
       "      <th>price</th>\n",
       "      <th>bedrooms</th>\n",
       "      <th>bathrooms</th>\n",
       "      <th>sqft_living</th>\n",
       "      <th>sqft_lot</th>\n",
       "      <th>floors</th>\n",
       "      <th>yr_built</th>\n",
       "      <th>month_sold</th>\n",
       "      <th>sold_spring_time</th>\n",
       "      <th>sold_summer_time</th>\n",
       "      <th>...</th>\n",
       "      <th>grade_5</th>\n",
       "      <th>grade_6</th>\n",
       "      <th>grade_7</th>\n",
       "      <th>grade_8</th>\n",
       "      <th>grade_9</th>\n",
       "      <th>grade_10</th>\n",
       "      <th>grade_11</th>\n",
       "      <th>zipcode_type_cheap_low_volume</th>\n",
       "      <th>zipcode_type_expensive_high_volume</th>\n",
       "      <th>zipcode_type_expensive_low_volume</th>\n",
       "    </tr>\n",
       "  </thead>\n",
       "  <tbody>\n",
       "    <tr>\n",
       "      <th>0</th>\n",
       "      <td>221900</td>\n",
       "      <td>3</td>\n",
       "      <td>1.00</td>\n",
       "      <td>1180</td>\n",
       "      <td>5650</td>\n",
       "      <td>1.0</td>\n",
       "      <td>1955</td>\n",
       "      <td>10</td>\n",
       "      <td>0</td>\n",
       "      <td>0</td>\n",
       "      <td>...</td>\n",
       "      <td>0</td>\n",
       "      <td>0</td>\n",
       "      <td>1</td>\n",
       "      <td>0</td>\n",
       "      <td>0</td>\n",
       "      <td>0</td>\n",
       "      <td>0</td>\n",
       "      <td>1</td>\n",
       "      <td>0</td>\n",
       "      <td>0</td>\n",
       "    </tr>\n",
       "    <tr>\n",
       "      <th>1</th>\n",
       "      <td>538000</td>\n",
       "      <td>3</td>\n",
       "      <td>2.25</td>\n",
       "      <td>2570</td>\n",
       "      <td>7242</td>\n",
       "      <td>2.0</td>\n",
       "      <td>1951</td>\n",
       "      <td>12</td>\n",
       "      <td>0</td>\n",
       "      <td>0</td>\n",
       "      <td>...</td>\n",
       "      <td>0</td>\n",
       "      <td>0</td>\n",
       "      <td>1</td>\n",
       "      <td>0</td>\n",
       "      <td>0</td>\n",
       "      <td>0</td>\n",
       "      <td>0</td>\n",
       "      <td>0</td>\n",
       "      <td>0</td>\n",
       "      <td>0</td>\n",
       "    </tr>\n",
       "    <tr>\n",
       "      <th>2</th>\n",
       "      <td>180000</td>\n",
       "      <td>2</td>\n",
       "      <td>1.00</td>\n",
       "      <td>770</td>\n",
       "      <td>10000</td>\n",
       "      <td>1.0</td>\n",
       "      <td>1933</td>\n",
       "      <td>2</td>\n",
       "      <td>1</td>\n",
       "      <td>0</td>\n",
       "      <td>...</td>\n",
       "      <td>0</td>\n",
       "      <td>1</td>\n",
       "      <td>0</td>\n",
       "      <td>0</td>\n",
       "      <td>0</td>\n",
       "      <td>0</td>\n",
       "      <td>0</td>\n",
       "      <td>1</td>\n",
       "      <td>0</td>\n",
       "      <td>0</td>\n",
       "    </tr>\n",
       "    <tr>\n",
       "      <th>3</th>\n",
       "      <td>604000</td>\n",
       "      <td>4</td>\n",
       "      <td>3.00</td>\n",
       "      <td>1960</td>\n",
       "      <td>5000</td>\n",
       "      <td>1.0</td>\n",
       "      <td>1965</td>\n",
       "      <td>12</td>\n",
       "      <td>0</td>\n",
       "      <td>0</td>\n",
       "      <td>...</td>\n",
       "      <td>0</td>\n",
       "      <td>0</td>\n",
       "      <td>1</td>\n",
       "      <td>0</td>\n",
       "      <td>0</td>\n",
       "      <td>0</td>\n",
       "      <td>0</td>\n",
       "      <td>0</td>\n",
       "      <td>0</td>\n",
       "      <td>1</td>\n",
       "    </tr>\n",
       "    <tr>\n",
       "      <th>4</th>\n",
       "      <td>510000</td>\n",
       "      <td>3</td>\n",
       "      <td>2.00</td>\n",
       "      <td>1680</td>\n",
       "      <td>8080</td>\n",
       "      <td>1.0</td>\n",
       "      <td>1987</td>\n",
       "      <td>2</td>\n",
       "      <td>1</td>\n",
       "      <td>0</td>\n",
       "      <td>...</td>\n",
       "      <td>0</td>\n",
       "      <td>0</td>\n",
       "      <td>0</td>\n",
       "      <td>1</td>\n",
       "      <td>0</td>\n",
       "      <td>0</td>\n",
       "      <td>0</td>\n",
       "      <td>0</td>\n",
       "      <td>0</td>\n",
       "      <td>1</td>\n",
       "    </tr>\n",
       "  </tbody>\n",
       "</table>\n",
       "<p>5 rows × 29 columns</p>\n",
       "</div>"
      ],
      "text/plain": [
       "    price  bedrooms  bathrooms  sqft_living  sqft_lot  floors  yr_built  \\\n",
       "0  221900         3       1.00         1180      5650     1.0      1955   \n",
       "1  538000         3       2.25         2570      7242     2.0      1951   \n",
       "2  180000         2       1.00          770     10000     1.0      1933   \n",
       "3  604000         4       3.00         1960      5000     1.0      1965   \n",
       "4  510000         3       2.00         1680      8080     1.0      1987   \n",
       "\n",
       "   month_sold  sold_spring_time  sold_summer_time  ...  grade_5  grade_6  \\\n",
       "0          10                 0                 0  ...        0        0   \n",
       "1          12                 0                 0  ...        0        0   \n",
       "2           2                 1                 0  ...        0        1   \n",
       "3          12                 0                 0  ...        0        0   \n",
       "4           2                 1                 0  ...        0        0   \n",
       "\n",
       "   grade_7  grade_8  grade_9  grade_10  grade_11  \\\n",
       "0        1        0        0         0         0   \n",
       "1        1        0        0         0         0   \n",
       "2        0        0        0         0         0   \n",
       "3        1        0        0         0         0   \n",
       "4        0        1        0         0         0   \n",
       "\n",
       "   zipcode_type_cheap_low_volume  zipcode_type_expensive_high_volume  \\\n",
       "0                              1                                   0   \n",
       "1                              0                                   0   \n",
       "2                              1                                   0   \n",
       "3                              0                                   0   \n",
       "4                              0                                   0   \n",
       "\n",
       "   zipcode_type_expensive_low_volume  \n",
       "0                                  0  \n",
       "1                                  0  \n",
       "2                                  0  \n",
       "3                                  1  \n",
       "4                                  1  \n",
       "\n",
       "[5 rows x 29 columns]"
      ]
     },
     "execution_count": 71,
     "metadata": {},
     "output_type": "execute_result"
    }
   ],
   "source": [
    "#checking to see the new dataset and ensuring that there is no missing values\n",
    "df_model.head()"
   ]
  },
  {
   "cell_type": "code",
   "execution_count": 72,
   "metadata": {},
   "outputs": [
    {
     "name": "stdout",
     "output_type": "stream",
     "text": [
      "<class 'pandas.core.frame.DataFrame'>\n",
      "Int64Index: 14361 entries, 0 to 21596\n",
      "Data columns (total 21 columns):\n",
      "price               14361 non-null int32\n",
      "bedrooms            14361 non-null int64\n",
      "bathrooms           14361 non-null float64\n",
      "sqft_living         14361 non-null int64\n",
      "sqft_lot            14361 non-null int64\n",
      "floors              14361 non-null float64\n",
      "view                14361 non-null int32\n",
      "condition           14361 non-null int64\n",
      "grade               14361 non-null int64\n",
      "sqft_basement       14361 non-null int32\n",
      "yr_built            14361 non-null int64\n",
      "yr_renovated        14361 non-null int32\n",
      "zipcode             14361 non-null int64\n",
      "month_sold          14361 non-null int64\n",
      "sold_spring_time    14361 non-null int32\n",
      "sold_summer_time    14361 non-null int32\n",
      "sold_fall_time      14361 non-null int32\n",
      "sold_winter_time    14361 non-null int32\n",
      "has_renovated       14361 non-null int32\n",
      "has_basement        14361 non-null int32\n",
      "zipcode_type        14361 non-null object\n",
      "dtypes: float64(2), int32(10), int64(8), object(1)\n",
      "memory usage: 1.9+ MB\n"
     ]
    }
   ],
   "source": [
    "df_b.info()"
   ]
  },
  {
   "cell_type": "markdown",
   "metadata": {},
   "source": [
    "## First Model - Baseline\n"
   ]
  },
  {
   "cell_type": "markdown",
   "metadata": {},
   "source": [
    "### Train-Test Split"
   ]
  },
  {
   "cell_type": "code",
   "execution_count": 73,
   "metadata": {},
   "outputs": [],
   "source": [
    "#importing the necessary libraries for train-test split\n",
    "import scipy.stats as stats\n",
    "from sklearn.model_selection import train_test_split\n",
    "from sklearn.linear_model import LinearRegression\n",
    "from sklearn.metrics import mean_squared_error\n",
    "\n",
    "linreg = LinearRegression()"
   ]
  },
  {
   "cell_type": "code",
   "execution_count": 74,
   "metadata": {},
   "outputs": [],
   "source": [
    "y = df_model[['price']]\n",
    "X = df_model.drop(['price'], axis=1)\n",
    "\n",
    "X_train, X_test, y_train, y_test = train_test_split(X, y, test_size = 0.2, random_state = (123))"
   ]
  },
  {
   "cell_type": "code",
   "execution_count": 75,
   "metadata": {},
   "outputs": [],
   "source": [
    "linreg.fit(X_train, y_train)\n",
    "\n",
    "y_hat_train = linreg.predict(X_train)\n",
    "y_hat_test = linreg.predict(X_test)"
   ]
  },
  {
   "cell_type": "code",
   "execution_count": 76,
   "metadata": {},
   "outputs": [],
   "source": [
    "rmse_train = np.sqrt(mean_squared_error(y_train, y_hat_train))\n",
    "rmse_test = np.sqrt(mean_squared_error(y_test, y_hat_test))"
   ]
  },
  {
   "cell_type": "code",
   "execution_count": 77,
   "metadata": {},
   "outputs": [
    {
     "name": "stdout",
     "output_type": "stream",
     "text": [
      "RMSE Train: 81382.75\n",
      "RMSE Test: 81428.8\n"
     ]
    }
   ],
   "source": [
    "print(\"RMSE Train:\", round(rmse_train, 2))\n",
    "print(\"RMSE Test:\", round(rmse_test, 2))"
   ]
  },
  {
   "cell_type": "markdown",
   "metadata": {},
   "source": [
    "###  model"
   ]
  },
  {
   "cell_type": "code",
   "execution_count": 78,
   "metadata": {},
   "outputs": [],
   "source": [
    "from statsmodels.formula.api import ols"
   ]
  },
  {
   "cell_type": "code",
   "execution_count": 86,
   "metadata": {
    "scrolled": false
   },
   "outputs": [
    {
     "data": {
      "text/html": [
       "<table class=\"simpletable\">\n",
       "<caption>OLS Regression Results</caption>\n",
       "<tr>\n",
       "  <th>Dep. Variable:</th>          <td>price</td>      <th>  R-squared:         </th>  <td>   0.653</td>  \n",
       "</tr>\n",
       "<tr>\n",
       "  <th>Model:</th>                   <td>OLS</td>       <th>  Adj. R-squared:    </th>  <td>   0.653</td>  \n",
       "</tr>\n",
       "<tr>\n",
       "  <th>Method:</th>             <td>Least Squares</td>  <th>  F-statistic:       </th>  <td>   1001.</td>  \n",
       "</tr>\n",
       "<tr>\n",
       "  <th>Date:</th>             <td>Sun, 22 Nov 2020</td> <th>  Prob (F-statistic):</th>   <td>  0.00</td>   \n",
       "</tr>\n",
       "<tr>\n",
       "  <th>Time:</th>                 <td>23:46:36</td>     <th>  Log-Likelihood:    </th> <td>-1.8275e+05</td>\n",
       "</tr>\n",
       "<tr>\n",
       "  <th>No. Observations:</th>      <td> 14361</td>      <th>  AIC:               </th>  <td>3.656e+05</td> \n",
       "</tr>\n",
       "<tr>\n",
       "  <th>Df Residuals:</th>          <td> 14333</td>      <th>  BIC:               </th>  <td>3.658e+05</td> \n",
       "</tr>\n",
       "<tr>\n",
       "  <th>Df Model:</th>              <td>    27</td>      <th>                     </th>      <td> </td>     \n",
       "</tr>\n",
       "<tr>\n",
       "  <th>Covariance Type:</th>      <td>nonrobust</td>    <th>                     </th>      <td> </td>     \n",
       "</tr>\n",
       "</table>\n",
       "<table class=\"simpletable\">\n",
       "<tr>\n",
       "                   <td></td>                     <th>coef</th>     <th>std err</th>      <th>t</th>      <th>P>|t|</th>  <th>[0.025</th>    <th>0.975]</th>  \n",
       "</tr>\n",
       "<tr>\n",
       "  <th>Intercept</th>                          <td> 2.048e+06</td> <td> 8.74e+04</td> <td>   23.426</td> <td> 0.000</td> <td> 1.88e+06</td> <td> 2.22e+06</td>\n",
       "</tr>\n",
       "<tr>\n",
       "  <th>bedrooms</th>                           <td>-5645.5894</td> <td> 1102.089</td> <td>   -5.123</td> <td> 0.000</td> <td>-7805.826</td> <td>-3485.353</td>\n",
       "</tr>\n",
       "<tr>\n",
       "  <th>bathrooms</th>                          <td> 1.157e+04</td> <td> 1807.644</td> <td>    6.403</td> <td> 0.000</td> <td> 8031.572</td> <td> 1.51e+04</td>\n",
       "</tr>\n",
       "<tr>\n",
       "  <th>sqft_living</th>                        <td>   80.6099</td> <td>    2.029</td> <td>   39.720</td> <td> 0.000</td> <td>   76.632</td> <td>   84.588</td>\n",
       "</tr>\n",
       "<tr>\n",
       "  <th>sqft_lot</th>                           <td>   -2.7723</td> <td>    0.304</td> <td>   -9.115</td> <td> 0.000</td> <td>   -3.368</td> <td>   -2.176</td>\n",
       "</tr>\n",
       "<tr>\n",
       "  <th>floors</th>                             <td> 6911.1880</td> <td> 2030.949</td> <td>    3.403</td> <td> 0.001</td> <td> 2930.264</td> <td> 1.09e+04</td>\n",
       "</tr>\n",
       "<tr>\n",
       "  <th>yr_built</th>                           <td>-1221.9620</td> <td>   36.416</td> <td>  -33.556</td> <td> 0.000</td> <td>-1293.342</td> <td>-1150.582</td>\n",
       "</tr>\n",
       "<tr>\n",
       "  <th>month_sold</th>                         <td>-1766.5292</td> <td>  837.328</td> <td>   -2.110</td> <td> 0.035</td> <td>-3407.800</td> <td> -125.258</td>\n",
       "</tr>\n",
       "<tr>\n",
       "  <th>sold_spring_time</th>                   <td> 5.083e+05</td> <td>  2.2e+04</td> <td>   23.072</td> <td> 0.000</td> <td> 4.65e+05</td> <td> 5.51e+05</td>\n",
       "</tr>\n",
       "<tr>\n",
       "  <th>sold_summer_time</th>                   <td> 5.177e+05</td> <td> 2.19e+04</td> <td>   23.679</td> <td> 0.000</td> <td> 4.75e+05</td> <td> 5.61e+05</td>\n",
       "</tr>\n",
       "<tr>\n",
       "  <th>sold_fall_time</th>                     <td> 5.098e+05</td> <td>  2.2e+04</td> <td>   23.189</td> <td> 0.000</td> <td> 4.67e+05</td> <td> 5.53e+05</td>\n",
       "</tr>\n",
       "<tr>\n",
       "  <th>sold_winter_time</th>                   <td> 5.124e+05</td> <td> 2.24e+04</td> <td>   22.920</td> <td> 0.000</td> <td> 4.69e+05</td> <td> 5.56e+05</td>\n",
       "</tr>\n",
       "<tr>\n",
       "  <th>has_renovated</th>                      <td> -453.3924</td> <td> 4728.912</td> <td>   -0.096</td> <td> 0.924</td> <td>-9722.673</td> <td> 8815.888</td>\n",
       "</tr>\n",
       "<tr>\n",
       "  <th>has_basement</th>                       <td> 1.141e+04</td> <td> 1689.700</td> <td>    6.753</td> <td> 0.000</td> <td> 8098.718</td> <td> 1.47e+04</td>\n",
       "</tr>\n",
       "<tr>\n",
       "  <th>condition_2</th>                        <td> 2597.3567</td> <td>  2.4e+04</td> <td>    0.108</td> <td> 0.914</td> <td>-4.44e+04</td> <td> 4.96e+04</td>\n",
       "</tr>\n",
       "<tr>\n",
       "  <th>condition_3</th>                        <td> 3.711e+04</td> <td> 2.27e+04</td> <td>    1.636</td> <td> 0.102</td> <td>-7357.245</td> <td> 8.16e+04</td>\n",
       "</tr>\n",
       "<tr>\n",
       "  <th>condition_4</th>                        <td> 4.055e+04</td> <td> 2.27e+04</td> <td>    1.787</td> <td> 0.074</td> <td>-3920.663</td> <td>  8.5e+04</td>\n",
       "</tr>\n",
       "<tr>\n",
       "  <th>condition_5</th>                        <td> 6.807e+04</td> <td> 2.28e+04</td> <td>    2.988</td> <td> 0.003</td> <td> 2.34e+04</td> <td> 1.13e+05</td>\n",
       "</tr>\n",
       "<tr>\n",
       "  <th>grade_4</th>                            <td>-1.587e+04</td> <td> 8.55e+04</td> <td>   -0.186</td> <td> 0.853</td> <td>-1.83e+05</td> <td> 1.52e+05</td>\n",
       "</tr>\n",
       "<tr>\n",
       "  <th>grade_5</th>                            <td>-5.766e+04</td> <td> 8.18e+04</td> <td>   -0.705</td> <td> 0.481</td> <td>-2.18e+05</td> <td> 1.03e+05</td>\n",
       "</tr>\n",
       "<tr>\n",
       "  <th>grade_6</th>                            <td> -1.58e+04</td> <td> 8.16e+04</td> <td>   -0.194</td> <td> 0.846</td> <td>-1.76e+05</td> <td> 1.44e+05</td>\n",
       "</tr>\n",
       "<tr>\n",
       "  <th>grade_7</th>                            <td> 2.827e+04</td> <td> 8.16e+04</td> <td>    0.347</td> <td> 0.729</td> <td>-1.32e+05</td> <td> 1.88e+05</td>\n",
       "</tr>\n",
       "<tr>\n",
       "  <th>grade_8</th>                            <td> 7.698e+04</td> <td> 8.16e+04</td> <td>    0.943</td> <td> 0.346</td> <td> -8.3e+04</td> <td> 2.37e+05</td>\n",
       "</tr>\n",
       "<tr>\n",
       "  <th>grade_9</th>                            <td> 1.358e+05</td> <td> 8.17e+04</td> <td>    1.663</td> <td> 0.096</td> <td>-2.43e+04</td> <td> 2.96e+05</td>\n",
       "</tr>\n",
       "<tr>\n",
       "  <th>grade_10</th>                           <td> 1.529e+05</td> <td>  8.2e+04</td> <td>    1.864</td> <td> 0.062</td> <td>-7847.274</td> <td> 3.14e+05</td>\n",
       "</tr>\n",
       "<tr>\n",
       "  <th>grade_11</th>                           <td> 1.028e+05</td> <td> 9.99e+04</td> <td>    1.029</td> <td> 0.303</td> <td> -9.3e+04</td> <td> 2.99e+05</td>\n",
       "</tr>\n",
       "<tr>\n",
       "  <th>zipcode_type_cheap_low_volume</th>      <td>-2.869e+04</td> <td> 1734.953</td> <td>  -16.536</td> <td> 0.000</td> <td>-3.21e+04</td> <td>-2.53e+04</td>\n",
       "</tr>\n",
       "<tr>\n",
       "  <th>zipcode_type_expensive_high_volume</th> <td> 1.362e+05</td> <td> 2573.590</td> <td>   52.921</td> <td> 0.000</td> <td> 1.31e+05</td> <td> 1.41e+05</td>\n",
       "</tr>\n",
       "<tr>\n",
       "  <th>zipcode_type_expensive_low_volume</th>  <td> 1.349e+05</td> <td> 1926.303</td> <td>   70.005</td> <td> 0.000</td> <td> 1.31e+05</td> <td> 1.39e+05</td>\n",
       "</tr>\n",
       "</table>\n",
       "<table class=\"simpletable\">\n",
       "<tr>\n",
       "  <th>Omnibus:</th>       <td>353.642</td> <th>  Durbin-Watson:     </th> <td>   2.001</td>\n",
       "</tr>\n",
       "<tr>\n",
       "  <th>Prob(Omnibus):</th> <td> 0.000</td>  <th>  Jarque-Bera (JB):  </th> <td> 402.621</td>\n",
       "</tr>\n",
       "<tr>\n",
       "  <th>Skew:</th>          <td> 0.351</td>  <th>  Prob(JB):          </th> <td>3.73e-88</td>\n",
       "</tr>\n",
       "<tr>\n",
       "  <th>Kurtosis:</th>      <td> 3.423</td>  <th>  Cond. No.          </th> <td>2.96e+15</td>\n",
       "</tr>\n",
       "</table><br/><br/>Warnings:<br/>[1] Standard Errors assume that the covariance matrix of the errors is correctly specified.<br/>[2] The smallest eigenvalue is 9.76e-20. This might indicate that there are<br/>strong multicollinearity problems or that the design matrix is singular."
      ],
      "text/plain": [
       "<class 'statsmodels.iolib.summary.Summary'>\n",
       "\"\"\"\n",
       "                            OLS Regression Results                            \n",
       "==============================================================================\n",
       "Dep. Variable:                  price   R-squared:                       0.653\n",
       "Model:                            OLS   Adj. R-squared:                  0.653\n",
       "Method:                 Least Squares   F-statistic:                     1001.\n",
       "Date:                Sun, 22 Nov 2020   Prob (F-statistic):               0.00\n",
       "Time:                        23:46:36   Log-Likelihood:            -1.8275e+05\n",
       "No. Observations:               14361   AIC:                         3.656e+05\n",
       "Df Residuals:                   14333   BIC:                         3.658e+05\n",
       "Df Model:                          27                                         \n",
       "Covariance Type:            nonrobust                                         \n",
       "======================================================================================================\n",
       "                                         coef    std err          t      P>|t|      [0.025      0.975]\n",
       "------------------------------------------------------------------------------------------------------\n",
       "Intercept                           2.048e+06   8.74e+04     23.426      0.000    1.88e+06    2.22e+06\n",
       "bedrooms                           -5645.5894   1102.089     -5.123      0.000   -7805.826   -3485.353\n",
       "bathrooms                           1.157e+04   1807.644      6.403      0.000    8031.572    1.51e+04\n",
       "sqft_living                           80.6099      2.029     39.720      0.000      76.632      84.588\n",
       "sqft_lot                              -2.7723      0.304     -9.115      0.000      -3.368      -2.176\n",
       "floors                              6911.1880   2030.949      3.403      0.001    2930.264    1.09e+04\n",
       "yr_built                           -1221.9620     36.416    -33.556      0.000   -1293.342   -1150.582\n",
       "month_sold                         -1766.5292    837.328     -2.110      0.035   -3407.800    -125.258\n",
       "sold_spring_time                    5.083e+05    2.2e+04     23.072      0.000    4.65e+05    5.51e+05\n",
       "sold_summer_time                    5.177e+05   2.19e+04     23.679      0.000    4.75e+05    5.61e+05\n",
       "sold_fall_time                      5.098e+05    2.2e+04     23.189      0.000    4.67e+05    5.53e+05\n",
       "sold_winter_time                    5.124e+05   2.24e+04     22.920      0.000    4.69e+05    5.56e+05\n",
       "has_renovated                       -453.3924   4728.912     -0.096      0.924   -9722.673    8815.888\n",
       "has_basement                        1.141e+04   1689.700      6.753      0.000    8098.718    1.47e+04\n",
       "condition_2                         2597.3567    2.4e+04      0.108      0.914   -4.44e+04    4.96e+04\n",
       "condition_3                         3.711e+04   2.27e+04      1.636      0.102   -7357.245    8.16e+04\n",
       "condition_4                         4.055e+04   2.27e+04      1.787      0.074   -3920.663     8.5e+04\n",
       "condition_5                         6.807e+04   2.28e+04      2.988      0.003    2.34e+04    1.13e+05\n",
       "grade_4                            -1.587e+04   8.55e+04     -0.186      0.853   -1.83e+05    1.52e+05\n",
       "grade_5                            -5.766e+04   8.18e+04     -0.705      0.481   -2.18e+05    1.03e+05\n",
       "grade_6                             -1.58e+04   8.16e+04     -0.194      0.846   -1.76e+05    1.44e+05\n",
       "grade_7                             2.827e+04   8.16e+04      0.347      0.729   -1.32e+05    1.88e+05\n",
       "grade_8                             7.698e+04   8.16e+04      0.943      0.346    -8.3e+04    2.37e+05\n",
       "grade_9                             1.358e+05   8.17e+04      1.663      0.096   -2.43e+04    2.96e+05\n",
       "grade_10                            1.529e+05    8.2e+04      1.864      0.062   -7847.274    3.14e+05\n",
       "grade_11                            1.028e+05   9.99e+04      1.029      0.303    -9.3e+04    2.99e+05\n",
       "zipcode_type_cheap_low_volume      -2.869e+04   1734.953    -16.536      0.000   -3.21e+04   -2.53e+04\n",
       "zipcode_type_expensive_high_volume  1.362e+05   2573.590     52.921      0.000    1.31e+05    1.41e+05\n",
       "zipcode_type_expensive_low_volume   1.349e+05   1926.303     70.005      0.000    1.31e+05    1.39e+05\n",
       "==============================================================================\n",
       "Omnibus:                      353.642   Durbin-Watson:                   2.001\n",
       "Prob(Omnibus):                  0.000   Jarque-Bera (JB):              402.621\n",
       "Skew:                           0.351   Prob(JB):                     3.73e-88\n",
       "Kurtosis:                       3.423   Cond. No.                     2.96e+15\n",
       "==============================================================================\n",
       "\n",
       "Warnings:\n",
       "[1] Standard Errors assume that the covariance matrix of the errors is correctly specified.\n",
       "[2] The smallest eigenvalue is 9.76e-20. This might indicate that there are\n",
       "strong multicollinearity problems or that the design matrix is singular.\n",
       "\"\"\""
      ]
     },
     "execution_count": 86,
     "metadata": {},
     "output_type": "execute_result"
    }
   ],
   "source": [
    "# Fitting the actual model\n",
    "outcome = 'price'\n",
    "x_cols = list(df_model.columns)\n",
    "x_cols.remove('price')\n",
    "\n",
    "predictors = '+'.join(x_cols)\n",
    "formula = outcome + '~' + predictors\n",
    "#model = ols(formula=formula, data = dftrain).fit()\n",
    "model = ols(formula=formula, data = df_model).fit()\n",
    "model.summary()"
   ]
  },
  {
   "cell_type": "markdown",
   "metadata": {},
   "source": [
    "R-squared: 0.826\n",
    "\n",
    "Adj R-squared: 0.825\n",
    "\n",
    "Number of significant p_values: 13"
   ]
  },
  {
   "cell_type": "markdown",
   "metadata": {},
   "source": [
    "### Checking QQ Plot"
   ]
  },
  {
   "cell_type": "code",
   "execution_count": 87,
   "metadata": {},
   "outputs": [],
   "source": [
    "import statsmodels.api as sm"
   ]
  },
  {
   "cell_type": "code",
   "execution_count": 88,
   "metadata": {},
   "outputs": [
    {
     "data": {
      "image/png": "[encoded data removed]",
      "text/plain": [
       "<Figure size 432x288 with 1 Axes>"
      ]
     },
     "metadata": {},
     "output_type": "display_data"
    }
   ],
   "source": [
    "fig = sm.graphics.qqplot(model.resid, dist=stats.norm, line='45', fit=True)"
   ]
  },
  {
   "cell_type": "markdown",
   "metadata": {},
   "source": [
    "### Checking for Homoscedasticity"
   ]
  },
  {
   "cell_type": "code",
   "execution_count": 91,
   "metadata": {},
   "outputs": [
    {
     "data": {
      "text/plain": [
       "[<matplotlib.lines.Line2D at 0x256f7342e80>]"
      ]
     },
     "execution_count": 91,
     "metadata": {},
     "output_type": "execute_result"
    },
    {
     "data": {
      "image/png": "[encoded data removed]",
      "text/plain": [
       "<Figure size 432x288 with 1 Axes>"
      ]
     },
     "metadata": {},
     "output_type": "display_data"
    }
   ],
   "source": [
    "plt.scatter(model.predict(df_model[x_cols]), model.resid)\n",
    "plt.plot(model.predict(df_model[x_cols]), [0 for i in range(len(df_model))])"
   ]
  },
  {
   "cell_type": "markdown",
   "metadata": {},
   "source": [
    "## Second Model - Multicollinearies"
   ]
  },
  {
   "cell_type": "markdown",
   "metadata": {},
   "source": [
    "### checking and fixing multicollinearies"
   ]
  },
  {
   "cell_type": "code",
   "execution_count": 92,
   "metadata": {
    "code_folding": []
   },
   "outputs": [],
   "source": [
    "#Importing variance inflation factor to check for multicollinearies \n",
    "from statsmodels.stats.outliers_influence import variance_inflation_factor"
   ]
  },
  {
   "cell_type": "code",
   "execution_count": 96,
   "metadata": {
    "scrolled": true
   },
   "outputs": [
    {
     "data": {
      "text/plain": [
       "[('bedrooms', 1.7823459418899419),\n",
       " ('bathrooms', 3.0290641083137673),\n",
       " ('sqft_living', 3.1783056653777786),\n",
       " ('sqft_lot', 1.7305991169740684),\n",
       " ('floors', 2.6461494839103885),\n",
       " ('yr_built', 2.5089595203209103),\n",
       " ('month_sold', 14.914925225850615),\n",
       " ('sold_spring_time', 4960.545000908538),\n",
       " ('sold_summer_time', 8008.552090800591),\n",
       " ('sold_fall_time', 7101.878149824635),\n",
       " ('sold_winter_time', 5803.060957901453),\n",
       " ('has_renovated', 1.073950086004822),\n",
       " ('has_basement', 1.4295788392844948),\n",
       " ('condition_2', 9.032448450585),\n",
       " ('condition_3', 250.2619976600087),\n",
       " ('condition_4', 213.6220359151401),\n",
       " ('condition_5', 76.9790430063947),\n",
       " ('grade_4', 11.013343656474001),\n",
       " ('grade_5', 143.86184343887695),\n",
       " ('grade_6', 1493.9701129982345),\n",
       " ('grade_7', 3596.968255769341),\n",
       " ('grade_8', 2937.648989199414),\n",
       " ('grade_9', 836.693934763113),\n",
       " ('grade_10', 107.6785725944452),\n",
       " ('grade_11', 3.010167250578652),\n",
       " ('zipcode_type_cheap_low_volume', 1.4683971785890966),\n",
       " ('zipcode_type_expensive_high_volume', 1.438015045197444),\n",
       " ('zipcode_type_expensive_low_volume', 1.5545719075269664)]"
      ]
     },
     "execution_count": 96,
     "metadata": {},
     "output_type": "execute_result"
    }
   ],
   "source": [
    "col = df_model[x_cols]\n",
    "vif = [variance_inflation_factor(col.values, i) for i in range(col.shape[1])]\n",
    "list(zip(x_cols, vif))"
   ]
  },
  {
   "cell_type": "code",
   "execution_count": 97,
   "metadata": {},
   "outputs": [
    {
     "name": "stdout",
     "output_type": "stream",
     "text": [
      "28 15\n"
     ]
    }
   ],
   "source": [
    "vif_scores = list(zip(x_cols, vif))\n",
    "v_test = [x for x, vif in vif_scores if vif > 10]\n",
    "print(len(vif_scores), len(v_test))"
   ]
  },
  {
   "cell_type": "code",
   "execution_count": 98,
   "metadata": {},
   "outputs": [
    {
     "data": {
      "text/plain": [
       "['month_sold',\n",
       " 'sold_spring_time',\n",
       " 'sold_summer_time',\n",
       " 'sold_fall_time',\n",
       " 'sold_winter_time',\n",
       " 'condition_3',\n",
       " 'condition_4',\n",
       " 'condition_5',\n",
       " 'grade_4',\n",
       " 'grade_5',\n",
       " 'grade_6',\n",
       " 'grade_7',\n",
       " 'grade_8',\n",
       " 'grade_9',\n",
       " 'grade_10']"
      ]
     },
     "execution_count": 98,
     "metadata": {},
     "output_type": "execute_result"
    }
   ],
   "source": [
    "v_test"
   ]
  },
  {
   "cell_type": "code",
   "execution_count": 100,
   "metadata": {},
   "outputs": [],
   "source": [
    "for v in v_test:\n",
    "    df_model.drop(v, axis=1, inplace=True)"
   ]
  },
  {
   "cell_type": "code",
   "execution_count": 101,
   "metadata": {},
   "outputs": [],
   "source": [
    "df_model.drop('condition_2', axis = 1, inplace = True)"
   ]
  },
  {
   "cell_type": "code",
   "execution_count": 108,
   "metadata": {},
   "outputs": [],
   "source": [
    "df_model.drop('grade_11', axis = 1, inplace = True)"
   ]
  },
  {
   "cell_type": "code",
   "execution_count": 109,
   "metadata": {
    "scrolled": true
   },
   "outputs": [
    {
     "name": "stdout",
     "output_type": "stream",
     "text": [
      "<class 'pandas.core.frame.DataFrame'>\n",
      "Int64Index: 14361 entries, 0 to 21596\n",
      "Data columns (total 12 columns):\n",
      "price                                 14361 non-null int32\n",
      "bedrooms                              14361 non-null int64\n",
      "bathrooms                             14361 non-null float64\n",
      "sqft_living                           14361 non-null int64\n",
      "sqft_lot                              14361 non-null int64\n",
      "floors                                14361 non-null float64\n",
      "yr_built                              14361 non-null int64\n",
      "has_renovated                         14361 non-null int32\n",
      "has_basement                          14361 non-null int32\n",
      "zipcode_type_cheap_low_volume         14361 non-null int32\n",
      "zipcode_type_expensive_high_volume    14361 non-null int32\n",
      "zipcode_type_expensive_low_volume     14361 non-null int32\n",
      "dtypes: float64(2), int32(6), int64(4)\n",
      "memory usage: 1.1 MB\n"
     ]
    }
   ],
   "source": [
    "df_model.info()"
   ]
  },
  {
   "cell_type": "markdown",
   "metadata": {},
   "source": [
    "### Train-Test Split"
   ]
  },
  {
   "cell_type": "code",
   "execution_count": 110,
   "metadata": {},
   "outputs": [],
   "source": [
    "y = df_model['price']\n",
    "X = df_model.drop(['price'], axis=1)\n",
    "\n",
    "X_train, X_test, y_train, y_test = train_test_split(X, y, test_size = 0.2, random_state = (123))"
   ]
  },
  {
   "cell_type": "code",
   "execution_count": 111,
   "metadata": {},
   "outputs": [],
   "source": [
    "linreg.fit(X_train, y_train)\n",
    "\n",
    "y_hat_train = linreg.predict(X_train)\n",
    "y_hat_test = linreg.predict(X_test)"
   ]
  },
  {
   "cell_type": "code",
   "execution_count": 112,
   "metadata": {},
   "outputs": [],
   "source": [
    "rmse_train = np.sqrt(mean_squared_error(y_train, y_hat_train))\n",
    "rmse_test = np.sqrt(mean_squared_error(y_test, y_hat_test))"
   ]
  },
  {
   "cell_type": "code",
   "execution_count": 113,
   "metadata": {},
   "outputs": [
    {
     "name": "stdout",
     "output_type": "stream",
     "text": [
      "RMSE Train: 86534.63\n",
      "RMSE Test: 86086.46\n"
     ]
    }
   ],
   "source": [
    "print(\"RMSE Train:\", round(rmse_train, 2))\n",
    "print(\"RMSE Test:\", round(rmse_test, 2))"
   ]
  },
  {
   "cell_type": "markdown",
   "metadata": {},
   "source": [
    "### model"
   ]
  },
  {
   "cell_type": "code",
   "execution_count": 114,
   "metadata": {
    "scrolled": false
   },
   "outputs": [
    {
     "data": {
      "text/html": [
       "<table class=\"simpletable\">\n",
       "<caption>OLS Regression Results</caption>\n",
       "<tr>\n",
       "  <th>Dep. Variable:</th>          <td>price</td>      <th>  R-squared:         </th>  <td>   0.609</td>  \n",
       "</tr>\n",
       "<tr>\n",
       "  <th>Model:</th>                   <td>OLS</td>       <th>  Adj. R-squared:    </th>  <td>   0.609</td>  \n",
       "</tr>\n",
       "<tr>\n",
       "  <th>Method:</th>             <td>Least Squares</td>  <th>  F-statistic:       </th>  <td>   2031.</td>  \n",
       "</tr>\n",
       "<tr>\n",
       "  <th>Date:</th>             <td>Sun, 22 Nov 2020</td> <th>  Prob (F-statistic):</th>   <td>  0.00</td>   \n",
       "</tr>\n",
       "<tr>\n",
       "  <th>Time:</th>                 <td>23:59:38</td>     <th>  Log-Likelihood:    </th> <td>-1.8362e+05</td>\n",
       "</tr>\n",
       "<tr>\n",
       "  <th>No. Observations:</th>      <td> 14361</td>      <th>  AIC:               </th>  <td>3.673e+05</td> \n",
       "</tr>\n",
       "<tr>\n",
       "  <th>Df Residuals:</th>          <td> 14349</td>      <th>  BIC:               </th>  <td>3.674e+05</td> \n",
       "</tr>\n",
       "<tr>\n",
       "  <th>Df Model:</th>              <td>    11</td>      <th>                     </th>      <td> </td>     \n",
       "</tr>\n",
       "<tr>\n",
       "  <th>Covariance Type:</th>      <td>nonrobust</td>    <th>                     </th>      <td> </td>     \n",
       "</tr>\n",
       "</table>\n",
       "<table class=\"simpletable\">\n",
       "<tr>\n",
       "                   <td></td>                     <th>coef</th>     <th>std err</th>      <th>t</th>      <th>P>|t|</th>  <th>[0.025</th>    <th>0.975]</th>  \n",
       "</tr>\n",
       "<tr>\n",
       "  <th>Intercept</th>                          <td> 1.927e+06</td> <td> 6.77e+04</td> <td>   28.454</td> <td> 0.000</td> <td> 1.79e+06</td> <td> 2.06e+06</td>\n",
       "</tr>\n",
       "<tr>\n",
       "  <th>bedrooms</th>                           <td>-1.038e+04</td> <td> 1150.320</td> <td>   -9.028</td> <td> 0.000</td> <td>-1.26e+04</td> <td>-8130.195</td>\n",
       "</tr>\n",
       "<tr>\n",
       "  <th>bathrooms</th>                          <td> 1.641e+04</td> <td> 1895.453</td> <td>    8.659</td> <td> 0.000</td> <td> 1.27e+04</td> <td> 2.01e+04</td>\n",
       "</tr>\n",
       "<tr>\n",
       "  <th>sqft_living</th>                        <td>  111.2985</td> <td>    1.970</td> <td>   56.488</td> <td> 0.000</td> <td>  107.436</td> <td>  115.161</td>\n",
       "</tr>\n",
       "<tr>\n",
       "  <th>sqft_lot</th>                           <td>   -2.3818</td> <td>    0.320</td> <td>   -7.448</td> <td> 0.000</td> <td>   -3.009</td> <td>   -1.755</td>\n",
       "</tr>\n",
       "<tr>\n",
       "  <th>floors</th>                             <td> 1.439e+04</td> <td> 2128.402</td> <td>    6.762</td> <td> 0.000</td> <td> 1.02e+04</td> <td> 1.86e+04</td>\n",
       "</tr>\n",
       "<tr>\n",
       "  <th>yr_built</th>                           <td> -896.3920</td> <td>   35.249</td> <td>  -25.430</td> <td> 0.000</td> <td> -965.485</td> <td> -827.299</td>\n",
       "</tr>\n",
       "<tr>\n",
       "  <th>has_renovated</th>                      <td>-1454.5922</td> <td> 4977.872</td> <td>   -0.292</td> <td> 0.770</td> <td>-1.12e+04</td> <td> 8302.680</td>\n",
       "</tr>\n",
       "<tr>\n",
       "  <th>has_basement</th>                       <td> 9412.8111</td> <td> 1775.281</td> <td>    5.302</td> <td> 0.000</td> <td> 5933.030</td> <td> 1.29e+04</td>\n",
       "</tr>\n",
       "<tr>\n",
       "  <th>zipcode_type_cheap_low_volume</th>      <td> -3.13e+04</td> <td> 1836.758</td> <td>  -17.038</td> <td> 0.000</td> <td>-3.49e+04</td> <td>-2.77e+04</td>\n",
       "</tr>\n",
       "<tr>\n",
       "  <th>zipcode_type_expensive_high_volume</th> <td> 1.488e+05</td> <td> 2693.532</td> <td>   55.249</td> <td> 0.000</td> <td> 1.44e+05</td> <td> 1.54e+05</td>\n",
       "</tr>\n",
       "<tr>\n",
       "  <th>zipcode_type_expensive_low_volume</th>  <td> 1.481e+05</td> <td> 2004.599</td> <td>   73.867</td> <td> 0.000</td> <td> 1.44e+05</td> <td> 1.52e+05</td>\n",
       "</tr>\n",
       "</table>\n",
       "<table class=\"simpletable\">\n",
       "<tr>\n",
       "  <th>Omnibus:</th>       <td>368.540</td> <th>  Durbin-Watson:     </th> <td>   2.003</td>\n",
       "</tr>\n",
       "<tr>\n",
       "  <th>Prob(Omnibus):</th> <td> 0.000</td>  <th>  Jarque-Bera (JB):  </th> <td> 406.357</td>\n",
       "</tr>\n",
       "<tr>\n",
       "  <th>Skew:</th>          <td> 0.378</td>  <th>  Prob(JB):          </th> <td>5.76e-89</td>\n",
       "</tr>\n",
       "<tr>\n",
       "  <th>Kurtosis:</th>      <td> 3.330</td>  <th>  Cond. No.          </th> <td>7.25e+05</td>\n",
       "</tr>\n",
       "</table><br/><br/>Warnings:<br/>[1] Standard Errors assume that the covariance matrix of the errors is correctly specified.<br/>[2] The condition number is large, 7.25e+05. This might indicate that there are<br/>strong multicollinearity or other numerical problems."
      ],
      "text/plain": [
       "<class 'statsmodels.iolib.summary.Summary'>\n",
       "\"\"\"\n",
       "                            OLS Regression Results                            \n",
       "==============================================================================\n",
       "Dep. Variable:                  price   R-squared:                       0.609\n",
       "Model:                            OLS   Adj. R-squared:                  0.609\n",
       "Method:                 Least Squares   F-statistic:                     2031.\n",
       "Date:                Sun, 22 Nov 2020   Prob (F-statistic):               0.00\n",
       "Time:                        23:59:38   Log-Likelihood:            -1.8362e+05\n",
       "No. Observations:               14361   AIC:                         3.673e+05\n",
       "Df Residuals:                   14349   BIC:                         3.674e+05\n",
       "Df Model:                          11                                         \n",
       "Covariance Type:            nonrobust                                         \n",
       "======================================================================================================\n",
       "                                         coef    std err          t      P>|t|      [0.025      0.975]\n",
       "------------------------------------------------------------------------------------------------------\n",
       "Intercept                           1.927e+06   6.77e+04     28.454      0.000    1.79e+06    2.06e+06\n",
       "bedrooms                           -1.038e+04   1150.320     -9.028      0.000   -1.26e+04   -8130.195\n",
       "bathrooms                           1.641e+04   1895.453      8.659      0.000    1.27e+04    2.01e+04\n",
       "sqft_living                          111.2985      1.970     56.488      0.000     107.436     115.161\n",
       "sqft_lot                              -2.3818      0.320     -7.448      0.000      -3.009      -1.755\n",
       "floors                              1.439e+04   2128.402      6.762      0.000    1.02e+04    1.86e+04\n",
       "yr_built                            -896.3920     35.249    -25.430      0.000    -965.485    -827.299\n",
       "has_renovated                      -1454.5922   4977.872     -0.292      0.770   -1.12e+04    8302.680\n",
       "has_basement                        9412.8111   1775.281      5.302      0.000    5933.030    1.29e+04\n",
       "zipcode_type_cheap_low_volume       -3.13e+04   1836.758    -17.038      0.000   -3.49e+04   -2.77e+04\n",
       "zipcode_type_expensive_high_volume  1.488e+05   2693.532     55.249      0.000    1.44e+05    1.54e+05\n",
       "zipcode_type_expensive_low_volume   1.481e+05   2004.599     73.867      0.000    1.44e+05    1.52e+05\n",
       "==============================================================================\n",
       "Omnibus:                      368.540   Durbin-Watson:                   2.003\n",
       "Prob(Omnibus):                  0.000   Jarque-Bera (JB):              406.357\n",
       "Skew:                           0.378   Prob(JB):                     5.76e-89\n",
       "Kurtosis:                       3.330   Cond. No.                     7.25e+05\n",
       "==============================================================================\n",
       "\n",
       "Warnings:\n",
       "[1] Standard Errors assume that the covariance matrix of the errors is correctly specified.\n",
       "[2] The condition number is large, 7.25e+05. This might indicate that there are\n",
       "strong multicollinearity or other numerical problems.\n",
       "\"\"\""
      ]
     },
     "execution_count": 114,
     "metadata": {},
     "output_type": "execute_result"
    }
   ],
   "source": [
    "x_cols = list(df_model.columns)\n",
    "x_cols.remove('price')\n",
    "\n",
    "predictors = '+'.join(x_cols)\n",
    "formula = outcome + '~' + predictors\n",
    "model = ols(formula=formula, data = df_model).fit()\n",
    "model.summary()"
   ]
  },
  {
   "cell_type": "markdown",
   "metadata": {},
   "source": [
    "### QQ Plot"
   ]
  },
  {
   "cell_type": "code",
   "execution_count": 115,
   "metadata": {
    "scrolled": true
   },
   "outputs": [
    {
     "data": {
      "image/png": "[encoded data removed]",
      "text/plain": [
       "<Figure size 432x288 with 1 Axes>"
      ]
     },
     "metadata": {},
     "output_type": "display_data"
    }
   ],
   "source": [
    "fig = sm.graphics.qqplot(model.resid, dist=stats.norm, line='45', fit=True)"
   ]
  },
  {
   "cell_type": "markdown",
   "metadata": {},
   "source": [
    "### Homoscedasticity"
   ]
  },
  {
   "cell_type": "code",
   "execution_count": 119,
   "metadata": {
    "scrolled": true
   },
   "outputs": [
    {
     "data": {
      "image/png": "[encoded data removed]",
      "text/plain": [
       "<Figure size 432x288 with 1 Axes>"
      ]
     },
     "metadata": {},
     "output_type": "display_data"
    }
   ],
   "source": [
    "plt.scatter(model.predict(df_model[x_cols]), model.resid)\n",
    "plt.plot(model.predict(df_model[x_cols]), [0 for i in range(len(df_model))]);"
   ]
  },
  {
   "cell_type": "markdown",
   "metadata": {},
   "source": [
    "## Third Model - P_Values"
   ]
  },
  {
   "cell_type": "markdown",
   "metadata": {},
   "source": [
    "### finding and fixing high p_values"
   ]
  },
  {
   "cell_type": "code",
   "execution_count": 120,
   "metadata": {},
   "outputs": [],
   "source": [
    "# finding the high p values\n",
    "summary = model.summary()\n",
    "p_table = summary.tables[1]\n",
    "p_table = pd.DataFrame(p_table.data)\n",
    "p_table.columns = p_table.iloc[0]\n",
    "p_table = p_table.drop(0)\n",
    "p_table = p_table.set_index(p_table.columns[0])\n",
    "p_table['P>|t|'] = p_table['P>|t|'].astype(float)"
   ]
  },
  {
   "cell_type": "code",
   "execution_count": 121,
   "metadata": {},
   "outputs": [
    {
     "name": "stdout",
     "output_type": "stream",
     "text": [
      "Our high p_values columns: ['has_renovated']\n"
     ]
    }
   ],
   "source": [
    "#showing the high p values\n",
    "high_p_values = list(p_table[p_table['P>|t|'] >= 0.05].index)\n",
    "print(\"Our high p_values columns:\", high_p_values)"
   ]
  },
  {
   "cell_type": "code",
   "execution_count": 122,
   "metadata": {},
   "outputs": [],
   "source": [
    "# leaving the high p values out.\n",
    "x_cols = list(p_table[p_table['P>|t|'] < 0.05].index)\n",
    "x_cols.remove('Intercept')"
   ]
  },
  {
   "cell_type": "markdown",
   "metadata": {},
   "source": [
    "### Train-Test Split"
   ]
  },
  {
   "cell_type": "code",
   "execution_count": 123,
   "metadata": {},
   "outputs": [],
   "source": [
    "y = df_model['price']\n",
    "X = df_model[x_cols]\n",
    "\n",
    "X_train, X_test, y_train, y_test = train_test_split(X, y, test_size = 0.2, random_state = (123))"
   ]
  },
  {
   "cell_type": "code",
   "execution_count": 124,
   "metadata": {},
   "outputs": [],
   "source": [
    "linreg.fit(X_train, y_train)\n",
    "\n",
    "y_hat_train = linreg.predict(X_train)\n",
    "y_hat_test = linreg.predict(X_test)"
   ]
  },
  {
   "cell_type": "code",
   "execution_count": 125,
   "metadata": {},
   "outputs": [],
   "source": [
    "rmse_train = np.sqrt(mean_squared_error(y_train, y_hat_train))\n",
    "rmse_test = np.sqrt(mean_squared_error(y_test, y_hat_test))"
   ]
  },
  {
   "cell_type": "code",
   "execution_count": 126,
   "metadata": {},
   "outputs": [
    {
     "name": "stdout",
     "output_type": "stream",
     "text": [
      "RMSE Train: 86538.95\n",
      "RMSE Test: 86058.38\n"
     ]
    }
   ],
   "source": [
    "print(\"RMSE Train:\", round(rmse_train, 2))\n",
    "print(\"RMSE Test:\", round(rmse_test, 2))"
   ]
  },
  {
   "cell_type": "markdown",
   "metadata": {},
   "source": [
    "### model"
   ]
  },
  {
   "cell_type": "code",
   "execution_count": 128,
   "metadata": {
    "scrolled": false
   },
   "outputs": [
    {
     "data": {
      "text/html": [
       "<table class=\"simpletable\">\n",
       "<caption>OLS Regression Results</caption>\n",
       "<tr>\n",
       "  <th>Dep. Variable:</th>          <td>price</td>      <th>  R-squared:         </th>  <td>   0.609</td>  \n",
       "</tr>\n",
       "<tr>\n",
       "  <th>Model:</th>                   <td>OLS</td>       <th>  Adj. R-squared:    </th>  <td>   0.609</td>  \n",
       "</tr>\n",
       "<tr>\n",
       "  <th>Method:</th>             <td>Least Squares</td>  <th>  F-statistic:       </th>  <td>   2235.</td>  \n",
       "</tr>\n",
       "<tr>\n",
       "  <th>Date:</th>             <td>Mon, 23 Nov 2020</td> <th>  Prob (F-statistic):</th>   <td>  0.00</td>   \n",
       "</tr>\n",
       "<tr>\n",
       "  <th>Time:</th>                 <td>00:02:39</td>     <th>  Log-Likelihood:    </th> <td>-1.8362e+05</td>\n",
       "</tr>\n",
       "<tr>\n",
       "  <th>No. Observations:</th>      <td> 14361</td>      <th>  AIC:               </th>  <td>3.673e+05</td> \n",
       "</tr>\n",
       "<tr>\n",
       "  <th>Df Residuals:</th>          <td> 14350</td>      <th>  BIC:               </th>  <td>3.673e+05</td> \n",
       "</tr>\n",
       "<tr>\n",
       "  <th>Df Model:</th>              <td>    10</td>      <th>                     </th>      <td> </td>     \n",
       "</tr>\n",
       "<tr>\n",
       "  <th>Covariance Type:</th>      <td>nonrobust</td>    <th>                     </th>      <td> </td>     \n",
       "</tr>\n",
       "</table>\n",
       "<table class=\"simpletable\">\n",
       "<tr>\n",
       "                   <td></td>                     <th>coef</th>     <th>std err</th>      <th>t</th>      <th>P>|t|</th>  <th>[0.025</th>    <th>0.975]</th>  \n",
       "</tr>\n",
       "<tr>\n",
       "  <th>Intercept</th>                          <td> 1.922e+06</td> <td> 6.59e+04</td> <td>   29.158</td> <td> 0.000</td> <td> 1.79e+06</td> <td> 2.05e+06</td>\n",
       "</tr>\n",
       "<tr>\n",
       "  <th>bedrooms</th>                           <td>-1.037e+04</td> <td> 1149.741</td> <td>   -9.023</td> <td> 0.000</td> <td>-1.26e+04</td> <td>-8121.008</td>\n",
       "</tr>\n",
       "<tr>\n",
       "  <th>bathrooms</th>                          <td> 1.636e+04</td> <td> 1888.499</td> <td>    8.665</td> <td> 0.000</td> <td> 1.27e+04</td> <td> 2.01e+04</td>\n",
       "</tr>\n",
       "<tr>\n",
       "  <th>sqft_living</th>                        <td>  111.2897</td> <td>    1.970</td> <td>   56.492</td> <td> 0.000</td> <td>  107.428</td> <td>  115.151</td>\n",
       "</tr>\n",
       "<tr>\n",
       "  <th>sqft_lot</th>                           <td>   -2.3810</td> <td>    0.320</td> <td>   -7.446</td> <td> 0.000</td> <td>   -3.008</td> <td>   -1.754</td>\n",
       "</tr>\n",
       "<tr>\n",
       "  <th>floors</th>                             <td> 1.437e+04</td> <td> 2126.331</td> <td>    6.756</td> <td> 0.000</td> <td> 1.02e+04</td> <td> 1.85e+04</td>\n",
       "</tr>\n",
       "<tr>\n",
       "  <th>yr_built</th>                           <td> -894.0640</td> <td>   34.336</td> <td>  -26.039</td> <td> 0.000</td> <td> -961.367</td> <td> -826.761</td>\n",
       "</tr>\n",
       "<tr>\n",
       "  <th>has_basement</th>                       <td> 9428.0642</td> <td> 1774.457</td> <td>    5.313</td> <td> 0.000</td> <td> 5949.899</td> <td> 1.29e+04</td>\n",
       "</tr>\n",
       "<tr>\n",
       "  <th>zipcode_type_cheap_low_volume</th>      <td> -3.13e+04</td> <td> 1836.460</td> <td>  -17.046</td> <td> 0.000</td> <td>-3.49e+04</td> <td>-2.77e+04</td>\n",
       "</tr>\n",
       "<tr>\n",
       "  <th>zipcode_type_expensive_high_volume</th> <td> 1.488e+05</td> <td> 2692.346</td> <td>   55.282</td> <td> 0.000</td> <td> 1.44e+05</td> <td> 1.54e+05</td>\n",
       "</tr>\n",
       "<tr>\n",
       "  <th>zipcode_type_expensive_low_volume</th>  <td> 1.481e+05</td> <td> 2004.533</td> <td>   73.869</td> <td> 0.000</td> <td> 1.44e+05</td> <td> 1.52e+05</td>\n",
       "</tr>\n",
       "</table>\n",
       "<table class=\"simpletable\">\n",
       "<tr>\n",
       "  <th>Omnibus:</th>       <td>368.375</td> <th>  Durbin-Watson:     </th> <td>   2.003</td>\n",
       "</tr>\n",
       "<tr>\n",
       "  <th>Prob(Omnibus):</th> <td> 0.000</td>  <th>  Jarque-Bera (JB):  </th> <td> 406.180</td>\n",
       "</tr>\n",
       "<tr>\n",
       "  <th>Skew:</th>          <td> 0.377</td>  <th>  Prob(JB):          </th> <td>6.30e-89</td>\n",
       "</tr>\n",
       "<tr>\n",
       "  <th>Kurtosis:</th>      <td> 3.330</td>  <th>  Cond. No.          </th> <td>7.06e+05</td>\n",
       "</tr>\n",
       "</table><br/><br/>Warnings:<br/>[1] Standard Errors assume that the covariance matrix of the errors is correctly specified.<br/>[2] The condition number is large, 7.06e+05. This might indicate that there are<br/>strong multicollinearity or other numerical problems."
      ],
      "text/plain": [
       "<class 'statsmodels.iolib.summary.Summary'>\n",
       "\"\"\"\n",
       "                            OLS Regression Results                            \n",
       "==============================================================================\n",
       "Dep. Variable:                  price   R-squared:                       0.609\n",
       "Model:                            OLS   Adj. R-squared:                  0.609\n",
       "Method:                 Least Squares   F-statistic:                     2235.\n",
       "Date:                Mon, 23 Nov 2020   Prob (F-statistic):               0.00\n",
       "Time:                        00:02:39   Log-Likelihood:            -1.8362e+05\n",
       "No. Observations:               14361   AIC:                         3.673e+05\n",
       "Df Residuals:                   14350   BIC:                         3.673e+05\n",
       "Df Model:                          10                                         \n",
       "Covariance Type:            nonrobust                                         \n",
       "======================================================================================================\n",
       "                                         coef    std err          t      P>|t|      [0.025      0.975]\n",
       "------------------------------------------------------------------------------------------------------\n",
       "Intercept                           1.922e+06   6.59e+04     29.158      0.000    1.79e+06    2.05e+06\n",
       "bedrooms                           -1.037e+04   1149.741     -9.023      0.000   -1.26e+04   -8121.008\n",
       "bathrooms                           1.636e+04   1888.499      8.665      0.000    1.27e+04    2.01e+04\n",
       "sqft_living                          111.2897      1.970     56.492      0.000     107.428     115.151\n",
       "sqft_lot                              -2.3810      0.320     -7.446      0.000      -3.008      -1.754\n",
       "floors                              1.437e+04   2126.331      6.756      0.000    1.02e+04    1.85e+04\n",
       "yr_built                            -894.0640     34.336    -26.039      0.000    -961.367    -826.761\n",
       "has_basement                        9428.0642   1774.457      5.313      0.000    5949.899    1.29e+04\n",
       "zipcode_type_cheap_low_volume       -3.13e+04   1836.460    -17.046      0.000   -3.49e+04   -2.77e+04\n",
       "zipcode_type_expensive_high_volume  1.488e+05   2692.346     55.282      0.000    1.44e+05    1.54e+05\n",
       "zipcode_type_expensive_low_volume   1.481e+05   2004.533     73.869      0.000    1.44e+05    1.52e+05\n",
       "==============================================================================\n",
       "Omnibus:                      368.375   Durbin-Watson:                   2.003\n",
       "Prob(Omnibus):                  0.000   Jarque-Bera (JB):              406.180\n",
       "Skew:                           0.377   Prob(JB):                     6.30e-89\n",
       "Kurtosis:                       3.330   Cond. No.                     7.06e+05\n",
       "==============================================================================\n",
       "\n",
       "Warnings:\n",
       "[1] Standard Errors assume that the covariance matrix of the errors is correctly specified.\n",
       "[2] The condition number is large, 7.06e+05. This might indicate that there are\n",
       "strong multicollinearity or other numerical problems.\n",
       "\"\"\""
      ]
     },
     "execution_count": 128,
     "metadata": {},
     "output_type": "execute_result"
    }
   ],
   "source": [
    "predictors = '+'.join(x_cols)\n",
    "formula = outcome + '~' + predictors\n",
    "model = ols(formula=formula, data = df_model).fit()\n",
    "model.summary()"
   ]
  },
  {
   "cell_type": "markdown",
   "metadata": {},
   "source": [
    "### QQ plot"
   ]
  },
  {
   "cell_type": "code",
   "execution_count": 129,
   "metadata": {
    "scrolled": false
   },
   "outputs": [
    {
     "data": {
      "image/png": "[encoded data removed]",
      "text/plain": [
       "<Figure size 432x288 with 1 Axes>"
      ]
     },
     "metadata": {},
     "output_type": "display_data"
    }
   ],
   "source": [
    "fig = sm.graphics.qqplot(model.resid, dist=stats.norm, line='45', fit=True)"
   ]
  },
  {
   "cell_type": "markdown",
   "metadata": {
    "code_folding": []
   },
   "source": [
    "### Homoscedasiticity"
   ]
  },
  {
   "cell_type": "code",
   "execution_count": 131,
   "metadata": {},
   "outputs": [
    {
     "data": {
      "image/png": "[encoded data removed]",
      "text/plain": [
       "<Figure size 432x288 with 1 Axes>"
      ]
     },
     "metadata": {},
     "output_type": "display_data"
    }
   ],
   "source": [
    "plt.scatter(model.predict(df_model[x_cols]), model.resid)\n",
    "plt.plot(model.predict(df_model[x_cols]), [0 for i in range(len(df_model))]);"
   ]
  },
  {
   "cell_type": "markdown",
   "metadata": {},
   "source": [
    "## Fourth Model  - Transformation"
   ]
  },
  {
   "cell_type": "markdown",
   "metadata": {},
   "source": [
    "### adding log values to 'continuous' columns"
   ]
  },
  {
   "cell_type": "code",
   "execution_count": 132,
   "metadata": {
    "scrolled": true
   },
   "outputs": [
    {
     "data": {
      "image/png": "[encoded data removed]",
      "text/plain": [
       "<Figure size 432x288 with 1 Axes>"
      ]
     },
     "metadata": {},
     "output_type": "display_data"
    }
   ],
   "source": [
    "cont = ['sqft_living','sqft_lot']\n",
    "\n",
    "sns.histplot(data = df_model, x = 'sqft_living');"
   ]
  },
  {
   "cell_type": "code",
   "execution_count": 133,
   "metadata": {},
   "outputs": [
    {
     "data": {
      "image/png": "[encoded data removed]",
      "text/plain": [
       "<Figure size 432x288 with 1 Axes>"
      ]
     },
     "metadata": {},
     "output_type": "display_data"
    }
   ],
   "source": [
    "sns.histplot(data = df_model, x = 'sqft_lot');"
   ]
  },
  {
   "cell_type": "code",
   "execution_count": 135,
   "metadata": {},
   "outputs": [],
   "source": [
    "dfcont = df_model[cont]\n",
    "log_names = [f'{column}_log' for column in dfcont.columns]\n",
    "\n",
    "df_log = np.log(dfcont)\n",
    "df_log.columns = log_names\n",
    "\n",
    "for col in df_log:\n",
    "    df_model[col] = df_log[col]"
   ]
  },
  {
   "cell_type": "code",
   "execution_count": 137,
   "metadata": {
    "scrolled": true
   },
   "outputs": [
    {
     "data": {
      "text/html": [
       "<div>\n",
       "<style scoped>\n",
       "    .dataframe tbody tr th:only-of-type {\n",
       "        vertical-align: middle;\n",
       "    }\n",
       "\n",
       "    .dataframe tbody tr th {\n",
       "        vertical-align: top;\n",
       "    }\n",
       "\n",
       "    .dataframe thead th {\n",
       "        text-align: right;\n",
       "    }\n",
       "</style>\n",
       "<table border=\"1\" class=\"dataframe\">\n",
       "  <thead>\n",
       "    <tr style=\"text-align: right;\">\n",
       "      <th></th>\n",
       "      <th>price</th>\n",
       "      <th>bedrooms</th>\n",
       "      <th>bathrooms</th>\n",
       "      <th>sqft_living</th>\n",
       "      <th>sqft_lot</th>\n",
       "      <th>floors</th>\n",
       "      <th>yr_built</th>\n",
       "      <th>has_renovated</th>\n",
       "      <th>has_basement</th>\n",
       "      <th>zipcode_type_cheap_low_volume</th>\n",
       "      <th>zipcode_type_expensive_high_volume</th>\n",
       "      <th>zipcode_type_expensive_low_volume</th>\n",
       "      <th>sqft_living_log</th>\n",
       "      <th>sqft_lot_log</th>\n",
       "    </tr>\n",
       "  </thead>\n",
       "  <tbody>\n",
       "    <tr>\n",
       "      <th>0</th>\n",
       "      <td>221900</td>\n",
       "      <td>3</td>\n",
       "      <td>1.00</td>\n",
       "      <td>1180</td>\n",
       "      <td>5650</td>\n",
       "      <td>1.0</td>\n",
       "      <td>1955</td>\n",
       "      <td>0</td>\n",
       "      <td>0</td>\n",
       "      <td>1</td>\n",
       "      <td>0</td>\n",
       "      <td>0</td>\n",
       "      <td>7.073270</td>\n",
       "      <td>8.639411</td>\n",
       "    </tr>\n",
       "    <tr>\n",
       "      <th>1</th>\n",
       "      <td>538000</td>\n",
       "      <td>3</td>\n",
       "      <td>2.25</td>\n",
       "      <td>2570</td>\n",
       "      <td>7242</td>\n",
       "      <td>2.0</td>\n",
       "      <td>1951</td>\n",
       "      <td>1</td>\n",
       "      <td>1</td>\n",
       "      <td>0</td>\n",
       "      <td>0</td>\n",
       "      <td>0</td>\n",
       "      <td>7.851661</td>\n",
       "      <td>8.887653</td>\n",
       "    </tr>\n",
       "    <tr>\n",
       "      <th>2</th>\n",
       "      <td>180000</td>\n",
       "      <td>2</td>\n",
       "      <td>1.00</td>\n",
       "      <td>770</td>\n",
       "      <td>10000</td>\n",
       "      <td>1.0</td>\n",
       "      <td>1933</td>\n",
       "      <td>0</td>\n",
       "      <td>0</td>\n",
       "      <td>1</td>\n",
       "      <td>0</td>\n",
       "      <td>0</td>\n",
       "      <td>6.646391</td>\n",
       "      <td>9.210340</td>\n",
       "    </tr>\n",
       "    <tr>\n",
       "      <th>3</th>\n",
       "      <td>604000</td>\n",
       "      <td>4</td>\n",
       "      <td>3.00</td>\n",
       "      <td>1960</td>\n",
       "      <td>5000</td>\n",
       "      <td>1.0</td>\n",
       "      <td>1965</td>\n",
       "      <td>0</td>\n",
       "      <td>1</td>\n",
       "      <td>0</td>\n",
       "      <td>0</td>\n",
       "      <td>1</td>\n",
       "      <td>7.580700</td>\n",
       "      <td>8.517193</td>\n",
       "    </tr>\n",
       "    <tr>\n",
       "      <th>4</th>\n",
       "      <td>510000</td>\n",
       "      <td>3</td>\n",
       "      <td>2.00</td>\n",
       "      <td>1680</td>\n",
       "      <td>8080</td>\n",
       "      <td>1.0</td>\n",
       "      <td>1987</td>\n",
       "      <td>0</td>\n",
       "      <td>0</td>\n",
       "      <td>0</td>\n",
       "      <td>0</td>\n",
       "      <td>1</td>\n",
       "      <td>7.426549</td>\n",
       "      <td>8.997147</td>\n",
       "    </tr>\n",
       "    <tr>\n",
       "      <th>...</th>\n",
       "      <td>...</td>\n",
       "      <td>...</td>\n",
       "      <td>...</td>\n",
       "      <td>...</td>\n",
       "      <td>...</td>\n",
       "      <td>...</td>\n",
       "      <td>...</td>\n",
       "      <td>...</td>\n",
       "      <td>...</td>\n",
       "      <td>...</td>\n",
       "      <td>...</td>\n",
       "      <td>...</td>\n",
       "      <td>...</td>\n",
       "      <td>...</td>\n",
       "    </tr>\n",
       "    <tr>\n",
       "      <th>21592</th>\n",
       "      <td>360000</td>\n",
       "      <td>3</td>\n",
       "      <td>2.50</td>\n",
       "      <td>1530</td>\n",
       "      <td>1131</td>\n",
       "      <td>3.0</td>\n",
       "      <td>2009</td>\n",
       "      <td>0</td>\n",
       "      <td>0</td>\n",
       "      <td>0</td>\n",
       "      <td>1</td>\n",
       "      <td>0</td>\n",
       "      <td>7.333023</td>\n",
       "      <td>7.030857</td>\n",
       "    </tr>\n",
       "    <tr>\n",
       "      <th>21593</th>\n",
       "      <td>400000</td>\n",
       "      <td>4</td>\n",
       "      <td>2.50</td>\n",
       "      <td>2310</td>\n",
       "      <td>5813</td>\n",
       "      <td>2.0</td>\n",
       "      <td>2014</td>\n",
       "      <td>0</td>\n",
       "      <td>0</td>\n",
       "      <td>1</td>\n",
       "      <td>0</td>\n",
       "      <td>0</td>\n",
       "      <td>7.745003</td>\n",
       "      <td>8.667852</td>\n",
       "    </tr>\n",
       "    <tr>\n",
       "      <th>21594</th>\n",
       "      <td>402101</td>\n",
       "      <td>2</td>\n",
       "      <td>0.75</td>\n",
       "      <td>1020</td>\n",
       "      <td>1350</td>\n",
       "      <td>2.0</td>\n",
       "      <td>2009</td>\n",
       "      <td>0</td>\n",
       "      <td>0</td>\n",
       "      <td>1</td>\n",
       "      <td>0</td>\n",
       "      <td>0</td>\n",
       "      <td>6.927558</td>\n",
       "      <td>7.207860</td>\n",
       "    </tr>\n",
       "    <tr>\n",
       "      <th>21595</th>\n",
       "      <td>400000</td>\n",
       "      <td>3</td>\n",
       "      <td>2.50</td>\n",
       "      <td>1600</td>\n",
       "      <td>2388</td>\n",
       "      <td>2.0</td>\n",
       "      <td>2004</td>\n",
       "      <td>0</td>\n",
       "      <td>0</td>\n",
       "      <td>0</td>\n",
       "      <td>0</td>\n",
       "      <td>1</td>\n",
       "      <td>7.377759</td>\n",
       "      <td>7.778211</td>\n",
       "    </tr>\n",
       "    <tr>\n",
       "      <th>21596</th>\n",
       "      <td>325000</td>\n",
       "      <td>2</td>\n",
       "      <td>0.75</td>\n",
       "      <td>1020</td>\n",
       "      <td>1076</td>\n",
       "      <td>2.0</td>\n",
       "      <td>2008</td>\n",
       "      <td>0</td>\n",
       "      <td>0</td>\n",
       "      <td>1</td>\n",
       "      <td>0</td>\n",
       "      <td>0</td>\n",
       "      <td>6.927558</td>\n",
       "      <td>6.981006</td>\n",
       "    </tr>\n",
       "  </tbody>\n",
       "</table>\n",
       "<p>14361 rows × 14 columns</p>\n",
       "</div>"
      ],
      "text/plain": [
       "        price  bedrooms  bathrooms  sqft_living  sqft_lot  floors  yr_built  \\\n",
       "0      221900         3       1.00         1180      5650     1.0      1955   \n",
       "1      538000         3       2.25         2570      7242     2.0      1951   \n",
       "2      180000         2       1.00          770     10000     1.0      1933   \n",
       "3      604000         4       3.00         1960      5000     1.0      1965   \n",
       "4      510000         3       2.00         1680      8080     1.0      1987   \n",
       "...       ...       ...        ...          ...       ...     ...       ...   \n",
       "21592  360000         3       2.50         1530      1131     3.0      2009   \n",
       "21593  400000         4       2.50         2310      5813     2.0      2014   \n",
       "21594  402101         2       0.75         1020      1350     2.0      2009   \n",
       "21595  400000         3       2.50         1600      2388     2.0      2004   \n",
       "21596  325000         2       0.75         1020      1076     2.0      2008   \n",
       "\n",
       "       has_renovated  has_basement  zipcode_type_cheap_low_volume  \\\n",
       "0                  0             0                              1   \n",
       "1                  1             1                              0   \n",
       "2                  0             0                              1   \n",
       "3                  0             1                              0   \n",
       "4                  0             0                              0   \n",
       "...              ...           ...                            ...   \n",
       "21592              0             0                              0   \n",
       "21593              0             0                              1   \n",
       "21594              0             0                              1   \n",
       "21595              0             0                              0   \n",
       "21596              0             0                              1   \n",
       "\n",
       "       zipcode_type_expensive_high_volume  zipcode_type_expensive_low_volume  \\\n",
       "0                                       0                                  0   \n",
       "1                                       0                                  0   \n",
       "2                                       0                                  0   \n",
       "3                                       0                                  1   \n",
       "4                                       0                                  1   \n",
       "...                                   ...                                ...   \n",
       "21592                                   1                                  0   \n",
       "21593                                   0                                  0   \n",
       "21594                                   0                                  0   \n",
       "21595                                   0                                  1   \n",
       "21596                                   0                                  0   \n",
       "\n",
       "       sqft_living_log  sqft_lot_log  \n",
       "0             7.073270      8.639411  \n",
       "1             7.851661      8.887653  \n",
       "2             6.646391      9.210340  \n",
       "3             7.580700      8.517193  \n",
       "4             7.426549      8.997147  \n",
       "...                ...           ...  \n",
       "21592         7.333023      7.030857  \n",
       "21593         7.745003      8.667852  \n",
       "21594         6.927558      7.207860  \n",
       "21595         7.377759      7.778211  \n",
       "21596         6.927558      6.981006  \n",
       "\n",
       "[14361 rows x 14 columns]"
      ]
     },
     "execution_count": 137,
     "metadata": {},
     "output_type": "execute_result"
    }
   ],
   "source": [
    "df_model"
   ]
  },
  {
   "cell_type": "code",
   "execution_count": 139,
   "metadata": {},
   "outputs": [
    {
     "data": {
      "image/png": "[encoded data removed]",
      "text/plain": [
       "<Figure size 432x288 with 1 Axes>"
      ]
     },
     "metadata": {},
     "output_type": "display_data"
    }
   ],
   "source": [
    "sns.histplot(data = df_model, x = 'sqft_living_log');"
   ]
  },
  {
   "cell_type": "code",
   "execution_count": 140,
   "metadata": {
    "scrolled": true
   },
   "outputs": [
    {
     "data": {
      "image/png": "[encoded data removed]",
      "text/plain": [
       "<Figure size 432x288 with 1 Axes>"
      ]
     },
     "metadata": {},
     "output_type": "display_data"
    }
   ],
   "source": [
    "sns.histplot(data = df_model, x = 'sqft_lot_log');"
   ]
  },
  {
   "cell_type": "code",
   "execution_count": 141,
   "metadata": {},
   "outputs": [],
   "source": [
    "x_cols.remove('sqft_living')\n",
    "#x_cols.remove('sqft_lot')\n",
    "\n",
    "x_cols.append('sqft_living_log')\n",
    "#x_cols.append('sqft_lot_log')"
   ]
  },
  {
   "cell_type": "markdown",
   "metadata": {},
   "source": [
    "### Train-Test Split"
   ]
  },
  {
   "cell_type": "code",
   "execution_count": 143,
   "metadata": {},
   "outputs": [],
   "source": [
    "y = df_model['price']\n",
    "X = df_model[x_cols]\n",
    "\n",
    "X_train, X_test, y_train, y_test = train_test_split(X, y, test_size = 0.2, random_state = (123))"
   ]
  },
  {
   "cell_type": "code",
   "execution_count": 144,
   "metadata": {},
   "outputs": [],
   "source": [
    "linreg.fit(X_train, y_train)\n",
    "\n",
    "y_hat_train = linreg.predict(X_train)\n",
    "y_hat_test = linreg.predict(X_test)"
   ]
  },
  {
   "cell_type": "code",
   "execution_count": 145,
   "metadata": {
    "scrolled": true
   },
   "outputs": [],
   "source": [
    "rmse_train = np.sqrt(mean_squared_error(y_train, y_hat_train))\n",
    "rmse_test = np.sqrt(mean_squared_error(y_test, y_hat_test))"
   ]
  },
  {
   "cell_type": "code",
   "execution_count": 146,
   "metadata": {},
   "outputs": [
    {
     "name": "stdout",
     "output_type": "stream",
     "text": [
      "RMSE Train: 87292.55\n",
      "RMSE Test: 87189.59\n"
     ]
    }
   ],
   "source": [
    "print(\"RMSE Train:\", round(rmse_train, 2))\n",
    "print(\"RMSE Test:\", round(rmse_test, 2))"
   ]
  },
  {
   "cell_type": "markdown",
   "metadata": {},
   "source": [
    "### model"
   ]
  },
  {
   "cell_type": "code",
   "execution_count": 148,
   "metadata": {
    "scrolled": false
   },
   "outputs": [
    {
     "data": {
      "text/html": [
       "<table class=\"simpletable\">\n",
       "<caption>OLS Regression Results</caption>\n",
       "<tr>\n",
       "  <th>Dep. Variable:</th>          <td>price</td>      <th>  R-squared:         </th>  <td>   0.601</td>  \n",
       "</tr>\n",
       "<tr>\n",
       "  <th>Model:</th>                   <td>OLS</td>       <th>  Adj. R-squared:    </th>  <td>   0.601</td>  \n",
       "</tr>\n",
       "<tr>\n",
       "  <th>Method:</th>             <td>Least Squares</td>  <th>  F-statistic:       </th>  <td>   2165.</td>  \n",
       "</tr>\n",
       "<tr>\n",
       "  <th>Date:</th>             <td>Mon, 23 Nov 2020</td> <th>  Prob (F-statistic):</th>   <td>  0.00</td>   \n",
       "</tr>\n",
       "<tr>\n",
       "  <th>Time:</th>                 <td>00:05:30</td>     <th>  Log-Likelihood:    </th> <td>-1.8376e+05</td>\n",
       "</tr>\n",
       "<tr>\n",
       "  <th>No. Observations:</th>      <td> 14361</td>      <th>  AIC:               </th>  <td>3.675e+05</td> \n",
       "</tr>\n",
       "<tr>\n",
       "  <th>Df Residuals:</th>          <td> 14350</td>      <th>  BIC:               </th>  <td>3.676e+05</td> \n",
       "</tr>\n",
       "<tr>\n",
       "  <th>Df Model:</th>              <td>    10</td>      <th>                     </th>      <td> </td>     \n",
       "</tr>\n",
       "<tr>\n",
       "  <th>Covariance Type:</th>      <td>nonrobust</td>    <th>                     </th>      <td> </td>     \n",
       "</tr>\n",
       "</table>\n",
       "<table class=\"simpletable\">\n",
       "<tr>\n",
       "                   <td></td>                     <th>coef</th>     <th>std err</th>      <th>t</th>      <th>P>|t|</th>  <th>[0.025</th>    <th>0.975]</th>  \n",
       "</tr>\n",
       "<tr>\n",
       "  <th>Intercept</th>                          <td> 7.609e+05</td> <td> 6.99e+04</td> <td>   10.887</td> <td> 0.000</td> <td> 6.24e+05</td> <td> 8.98e+05</td>\n",
       "</tr>\n",
       "<tr>\n",
       "  <th>bedrooms</th>                           <td>-1.168e+04</td> <td> 1180.453</td> <td>   -9.896</td> <td> 0.000</td> <td> -1.4e+04</td> <td>-9367.895</td>\n",
       "</tr>\n",
       "<tr>\n",
       "  <th>bathrooms</th>                          <td> 1.592e+04</td> <td> 1925.203</td> <td>    8.269</td> <td> 0.000</td> <td> 1.21e+04</td> <td> 1.97e+04</td>\n",
       "</tr>\n",
       "<tr>\n",
       "  <th>sqft_lot</th>                           <td>   -2.4625</td> <td>    0.325</td> <td>   -7.583</td> <td> 0.000</td> <td>   -3.099</td> <td>   -1.826</td>\n",
       "</tr>\n",
       "<tr>\n",
       "  <th>floors</th>                             <td> 1.381e+04</td> <td> 2152.734</td> <td>    6.413</td> <td> 0.000</td> <td> 9585.876</td> <td>  1.8e+04</td>\n",
       "</tr>\n",
       "<tr>\n",
       "  <th>yr_built</th>                           <td> -923.9902</td> <td>   34.664</td> <td>  -26.656</td> <td> 0.000</td> <td> -991.936</td> <td> -856.045</td>\n",
       "</tr>\n",
       "<tr>\n",
       "  <th>has_basement</th>                       <td> 3478.1102</td> <td> 1820.037</td> <td>    1.911</td> <td> 0.056</td> <td>  -89.398</td> <td> 7045.618</td>\n",
       "</tr>\n",
       "<tr>\n",
       "  <th>zipcode_type_cheap_low_volume</th>      <td>-3.099e+04</td> <td> 1854.159</td> <td>  -16.714</td> <td> 0.000</td> <td>-3.46e+04</td> <td>-2.74e+04</td>\n",
       "</tr>\n",
       "<tr>\n",
       "  <th>zipcode_type_expensive_high_volume</th> <td> 1.477e+05</td> <td> 2718.196</td> <td>   54.338</td> <td> 0.000</td> <td> 1.42e+05</td> <td> 1.53e+05</td>\n",
       "</tr>\n",
       "<tr>\n",
       "  <th>zipcode_type_expensive_low_volume</th>  <td> 1.475e+05</td> <td> 2024.280</td> <td>   72.872</td> <td> 0.000</td> <td> 1.44e+05</td> <td> 1.51e+05</td>\n",
       "</tr>\n",
       "<tr>\n",
       "  <th>sqft_living_log</th>                    <td> 1.922e+05</td> <td> 3593.142</td> <td>   53.482</td> <td> 0.000</td> <td> 1.85e+05</td> <td> 1.99e+05</td>\n",
       "</tr>\n",
       "</table>\n",
       "<table class=\"simpletable\">\n",
       "<tr>\n",
       "  <th>Omnibus:</th>       <td>366.623</td> <th>  Durbin-Watson:     </th> <td>   2.003</td>\n",
       "</tr>\n",
       "<tr>\n",
       "  <th>Prob(Omnibus):</th> <td> 0.000</td>  <th>  Jarque-Bera (JB):  </th> <td> 399.085</td>\n",
       "</tr>\n",
       "<tr>\n",
       "  <th>Skew:</th>          <td> 0.385</td>  <th>  Prob(JB):          </th> <td>2.19e-87</td>\n",
       "</tr>\n",
       "<tr>\n",
       "  <th>Kurtosis:</th>      <td> 3.270</td>  <th>  Cond. No.          </th> <td>7.24e+05</td>\n",
       "</tr>\n",
       "</table><br/><br/>Warnings:<br/>[1] Standard Errors assume that the covariance matrix of the errors is correctly specified.<br/>[2] The condition number is large, 7.24e+05. This might indicate that there are<br/>strong multicollinearity or other numerical problems."
      ],
      "text/plain": [
       "<class 'statsmodels.iolib.summary.Summary'>\n",
       "\"\"\"\n",
       "                            OLS Regression Results                            \n",
       "==============================================================================\n",
       "Dep. Variable:                  price   R-squared:                       0.601\n",
       "Model:                            OLS   Adj. R-squared:                  0.601\n",
       "Method:                 Least Squares   F-statistic:                     2165.\n",
       "Date:                Mon, 23 Nov 2020   Prob (F-statistic):               0.00\n",
       "Time:                        00:05:30   Log-Likelihood:            -1.8376e+05\n",
       "No. Observations:               14361   AIC:                         3.675e+05\n",
       "Df Residuals:                   14350   BIC:                         3.676e+05\n",
       "Df Model:                          10                                         \n",
       "Covariance Type:            nonrobust                                         \n",
       "======================================================================================================\n",
       "                                         coef    std err          t      P>|t|      [0.025      0.975]\n",
       "------------------------------------------------------------------------------------------------------\n",
       "Intercept                           7.609e+05   6.99e+04     10.887      0.000    6.24e+05    8.98e+05\n",
       "bedrooms                           -1.168e+04   1180.453     -9.896      0.000    -1.4e+04   -9367.895\n",
       "bathrooms                           1.592e+04   1925.203      8.269      0.000    1.21e+04    1.97e+04\n",
       "sqft_lot                              -2.4625      0.325     -7.583      0.000      -3.099      -1.826\n",
       "floors                              1.381e+04   2152.734      6.413      0.000    9585.876     1.8e+04\n",
       "yr_built                            -923.9902     34.664    -26.656      0.000    -991.936    -856.045\n",
       "has_basement                        3478.1102   1820.037      1.911      0.056     -89.398    7045.618\n",
       "zipcode_type_cheap_low_volume      -3.099e+04   1854.159    -16.714      0.000   -3.46e+04   -2.74e+04\n",
       "zipcode_type_expensive_high_volume  1.477e+05   2718.196     54.338      0.000    1.42e+05    1.53e+05\n",
       "zipcode_type_expensive_low_volume   1.475e+05   2024.280     72.872      0.000    1.44e+05    1.51e+05\n",
       "sqft_living_log                     1.922e+05   3593.142     53.482      0.000    1.85e+05    1.99e+05\n",
       "==============================================================================\n",
       "Omnibus:                      366.623   Durbin-Watson:                   2.003\n",
       "Prob(Omnibus):                  0.000   Jarque-Bera (JB):              399.085\n",
       "Skew:                           0.385   Prob(JB):                     2.19e-87\n",
       "Kurtosis:                       3.270   Cond. No.                     7.24e+05\n",
       "==============================================================================\n",
       "\n",
       "Warnings:\n",
       "[1] Standard Errors assume that the covariance matrix of the errors is correctly specified.\n",
       "[2] The condition number is large, 7.24e+05. This might indicate that there are\n",
       "strong multicollinearity or other numerical problems.\n",
       "\"\"\""
      ]
     },
     "execution_count": 148,
     "metadata": {},
     "output_type": "execute_result"
    }
   ],
   "source": [
    "predictors = '+'.join(x_cols)\n",
    "formula = outcome + '~' + predictors\n",
    "model = ols(formula=formula, data = df_model).fit()\n",
    "model.summary()"
   ]
  },
  {
   "cell_type": "markdown",
   "metadata": {},
   "source": [
    "### QQ Plot"
   ]
  },
  {
   "cell_type": "code",
   "execution_count": 149,
   "metadata": {},
   "outputs": [
    {
     "data": {
      "image/png": "[encoded data removed]",
      "text/plain": [
       "<Figure size 432x288 with 1 Axes>"
      ]
     },
     "metadata": {},
     "output_type": "display_data"
    }
   ],
   "source": [
    "fig = sm.graphics.qqplot(model.resid, dist=stats.norm, line='45', fit=True)"
   ]
  },
  {
   "cell_type": "markdown",
   "metadata": {},
   "source": [
    "###  Homoscedasiticity"
   ]
  },
  {
   "cell_type": "code",
   "execution_count": 150,
   "metadata": {
    "scrolled": true
   },
   "outputs": [
    {
     "data": {
      "image/png": "[encoded data removed]",
      "text/plain": [
       "<Figure size 432x288 with 1 Axes>"
      ]
     },
     "metadata": {},
     "output_type": "display_data"
    }
   ],
   "source": [
    "plt.scatter(model.predict(df_model[x_cols]), model.resid)\n",
    "plt.plot(model.predict(df_model[x_cols]), [0 for i in range(len(df_model))]);"
   ]
  },
  {
   "cell_type": "markdown",
   "metadata": {},
   "source": [
    "## TEST (will delete later)"
   ]
  },
  {
   "cell_type": "code",
   "execution_count": null,
   "metadata": {
    "scrolled": true
   },
   "outputs": [],
   "source": [
    "dftrain['waterfront'].value_counts()"
   ]
  },
  {
   "cell_type": "code",
   "execution_count": null,
   "metadata": {},
   "outputs": [],
   "source": [
    "df.drop('waterfront', axis=1, inplace=True)\n",
    "x_cols.remove('waterfront')\n"
   ]
  },
  {
   "cell_type": "code",
   "execution_count": null,
   "metadata": {},
   "outputs": [],
   "source": [
    "y = dftrain[['price']]\n",
    "X = dftrain[x_cols]\n",
    "\n",
    "X_train, X_test, y_train, y_test = train_test_split(X, y, test_size = 0.2, random_state = (123))"
   ]
  },
  {
   "cell_type": "code",
   "execution_count": null,
   "metadata": {},
   "outputs": [],
   "source": [
    "linreg.fit(X_train, y_train)\n",
    "\n",
    "y_hat_train = linreg.predict(X_train)\n",
    "y_hat_test = linreg.predict(X_test)\n",
    "\n",
    "rmse_train = np.sqrt(mean_squared_error(y_train, y_hat_train))\n",
    "rmse_test = np.sqrt(mean_squared_error(y_test, y_hat_test))"
   ]
  },
  {
   "cell_type": "code",
   "execution_count": null,
   "metadata": {},
   "outputs": [],
   "source": [
    "print(\"RMSE Train:\", round(rmse_train, 2))\n",
    "print(\"RMSE Test:\", round(rmse_test, 2))"
   ]
  },
  {
   "cell_type": "code",
   "execution_count": null,
   "metadata": {},
   "outputs": [],
   "source": []
  },
  {
   "cell_type": "code",
   "execution_count": null,
   "metadata": {},
   "outputs": [],
   "source": []
  },
  {
   "cell_type": "code",
   "execution_count": null,
   "metadata": {},
   "outputs": [],
   "source": [
    "predictors = '+'.join(x_cols)\n",
    "formula = outcome + '~' + predictors\n",
    "model = ols(formula=formula, data = dftrain).fit()\n",
    "model.summary()"
   ]
  },
  {
   "cell_type": "code",
   "execution_count": null,
   "metadata": {},
   "outputs": [],
   "source": [
    "fig = sm.graphics.qqplot(model.resid, dist=stats.norm, line='45', fit=True)"
   ]
  },
  {
   "cell_type": "markdown",
   "metadata": {},
   "source": [
    "### creating interactions"
   ]
  },
  {
   "cell_type": "code",
   "execution_count": null,
   "metadata": {},
   "outputs": [],
   "source": [
    "dftrain['bed_bath_interaction'] = dftrain['bedrooms'] * dftrain['bathrooms']"
   ]
  },
  {
   "cell_type": "code",
   "execution_count": null,
   "metadata": {},
   "outputs": [],
   "source": [
    "df.drop('bedrooms', axis=1, inplace=True)\n",
    "df.drop('bathrooms', axis=1, inplace=True)"
   ]
  },
  {
   "cell_type": "code",
   "execution_count": null,
   "metadata": {},
   "outputs": [],
   "source": [
    "x_cols.remove('bedrooms')\n",
    "x_cols.remove('bathrooms')\n",
    "\n",
    "x_cols.append('bed_bath_interaction')"
   ]
  },
  {
   "cell_type": "code",
   "execution_count": null,
   "metadata": {},
   "outputs": [],
   "source": [
    "predictors = '+'.join(x_cols)\n",
    "formula = outcome + '~' + predictors\n",
    "model = ols(formula=formula, data = dftrain).fit()\n",
    "model.summary()"
   ]
  },
  {
   "cell_type": "code",
   "execution_count": null,
   "metadata": {},
   "outputs": [],
   "source": [
    "fig = sm.graphics.qqplot(model.resid, dist=stats.norm, line='45', fit=True)"
   ]
  },
  {
   "cell_type": "markdown",
   "metadata": {},
   "source": [
    "### logging more"
   ]
  },
  {
   "cell_type": "code",
   "execution_count": null,
   "metadata": {
    "scrolled": false
   },
   "outputs": [],
   "source": [
    "fig, ax = plt.subplots(nrows=1, ncols=2, figsize=(16,5))\n",
    "\n",
    "sns.histplot(data=dftrain, x='yr_built', ax = ax[0])\n",
    "sns.boxplot(data=dftrain, x='yr_built', ax=ax[1]);"
   ]
  },
  {
   "cell_type": "code",
   "execution_count": null,
   "metadata": {},
   "outputs": [],
   "source": [
    "cont = ['yr_built']"
   ]
  },
  {
   "cell_type": "code",
   "execution_count": null,
   "metadata": {},
   "outputs": [],
   "source": [
    "dftrain['yr_built_log'] = np.log(dftrain['yr_built'])"
   ]
  },
  {
   "cell_type": "code",
   "execution_count": null,
   "metadata": {
    "scrolled": true
   },
   "outputs": [],
   "source": [
    "fig, ax = plt.subplots(nrows=1, ncols=2, figsize=(16,5))\n",
    "\n",
    "sns.histplot(data=dftrain, x='yr_built_log', ax = ax[0])\n",
    "sns.boxplot(data=dftrain, x='yr_built_log', ax=ax[1]);"
   ]
  },
  {
   "cell_type": "code",
   "execution_count": null,
   "metadata": {},
   "outputs": [],
   "source": [
    "x_cols.remove('yr_built')\n",
    "x_cols.append('yr_built_log')"
   ]
  },
  {
   "cell_type": "code",
   "execution_count": null,
   "metadata": {
    "scrolled": true
   },
   "outputs": [],
   "source": [
    "predictors = '+'.join(x_cols)\n",
    "formula = outcome + '~' + predictors\n",
    "model = ols(formula=formula, data = dftrain).fit()\n",
    "model.summary()"
   ]
  },
  {
   "cell_type": "code",
   "execution_count": null,
   "metadata": {},
   "outputs": [],
   "source": [
    "fig = sm.graphics.qqplot(model.resid, dist=stats.norm, line='45', fit=True)"
   ]
  },
  {
   "cell_type": "markdown",
   "metadata": {},
   "source": [
    "### ohe ideas"
   ]
  },
  {
   "cell_type": "code",
   "execution_count": null,
   "metadata": {
    "scrolled": true
   },
   "outputs": [],
   "source": [
    "dftrain"
   ]
  },
  {
   "cell_type": "code",
   "execution_count": null,
   "metadata": {},
   "outputs": [],
   "source": [
    "cate = ['bedrooms', 'bathrooms', 'floors']\n",
    "\n",
    "features = df[cate].astype('category')\n",
    "feats_ohe = pd.get_dummies(features, drop_first = True)\n",
    "feats_ohe = feats_ohe.astype(int)\n",
    "\n",
    "feats_ohe.columns = [c.replace('.', '_') for c in feats_ohe.columns]"
   ]
  },
  {
   "cell_type": "code",
   "execution_count": null,
   "metadata": {},
   "outputs": [],
   "source": [
    "feats_ohe.info()"
   ]
  },
  {
   "cell_type": "code",
   "execution_count": null,
   "metadata": {},
   "outputs": [],
   "source": [
    "df_test = pd.concat([dftrain, feats_ohe], axis=1)"
   ]
  },
  {
   "cell_type": "code",
   "execution_count": null,
   "metadata": {},
   "outputs": [],
   "source": [
    "df_test = df_test.dropna() "
   ]
  },
  {
   "cell_type": "code",
   "execution_count": null,
   "metadata": {},
   "outputs": [],
   "source": [
    "df_test.drop('bedrooms', axis=1, inplace=True)\n",
    "df_test.drop('bathrooms', axis=1, inplace=True)\n",
    "df_test.drop('floors', axis=1, inplace=True)"
   ]
  },
  {
   "cell_type": "code",
   "execution_count": null,
   "metadata": {},
   "outputs": [],
   "source": [
    "x_cols.extend(list(feats_ohe.columns))"
   ]
  },
  {
   "cell_type": "code",
   "execution_count": null,
   "metadata": {},
   "outputs": [],
   "source": [
    "x_cols.remove('bedrooms')\n",
    "x_cols.remove('bathrooms')\n",
    "x_cols.remove('floors')"
   ]
  },
  {
   "cell_type": "code",
   "execution_count": null,
   "metadata": {},
   "outputs": [],
   "source": [
    "predictors = '+'.join(x_cols)\n",
    "formula = outcome + '~' + predictors\n",
    "model = ols(formula=formula, data = df_test).fit()\n",
    "model.summary()"
   ]
  },
  {
   "cell_type": "code",
   "execution_count": null,
   "metadata": {},
   "outputs": [],
   "source": [
    "fig = sm.graphics.qqplot(model.resid, dist=stats.norm, line='45', fit=True)"
   ]
  },
  {
   "cell_type": "markdown",
   "metadata": {},
   "source": [
    "> might keep floors as ohe and normalize bedrooms and bathrooms"
   ]
  },
  {
   "cell_type": "code",
   "execution_count": null,
   "metadata": {},
   "outputs": [],
   "source": []
  },
  {
   "cell_type": "code",
   "execution_count": null,
   "metadata": {},
   "outputs": [],
   "source": []
  },
  {
   "cell_type": "code",
   "execution_count": null,
   "metadata": {},
   "outputs": [],
   "source": []
  },
  {
   "cell_type": "code",
   "execution_count": null,
   "metadata": {},
   "outputs": [],
   "source": []
  },
  {
   "cell_type": "code",
   "execution_count": null,
   "metadata": {},
   "outputs": [],
   "source": []
  }
 ],
 "metadata": {
  "kernelspec": {
   "display_name": "Python 3",
   "language": "python",
   "name": "python3"
  },
  "language_info": {
   "codemirror_mode": {
    "name": "ipython",
    "version": 3
   },
   "file_extension": ".py",
   "mimetype": "text/x-python",
   "name": "python",
   "nbconvert_exporter": "python",
   "pygments_lexer": "ipython3",
   "version": "3.6.9"
  },
  "toc": {
   "base_numbering": 1,
   "nav_menu": {},
   "number_sections": true,
   "sideBar": true,
   "skip_h1_title": false,
   "title_cell": "Table of Contents",
   "title_sidebar": "Contents",
   "toc_cell": false,
   "toc_position": {
    "height": "calc(100% - 180px)",
    "left": "10px",
    "top": "150px",
    "width": "312px"
   },
   "toc_section_display": true,
   "toc_window_display": true
  }
 },
 "nbformat": 4,
 "nbformat_minor": 4
}
