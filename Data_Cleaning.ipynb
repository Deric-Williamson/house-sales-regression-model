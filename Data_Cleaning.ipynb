{
 "cells": [
  {
   "cell_type": "markdown",
   "metadata": {},
   "source": [
    "## Introduction"
   ]
  },
  {
   "cell_type": "markdown",
   "metadata": {},
   "source": [
    "## Importing and Cleaning Data"
   ]
  },
  {
   "cell_type": "code",
   "execution_count": 1,
   "metadata": {},
   "outputs": [],
   "source": [
    "import pandas as pd\n",
    "import numpy as np\n",
    "\n",
    "import seaborn as sns\n",
    "import matplotlib.pyplot as plt\n",
    "%matplotlib inline\n",
    "\n",
    "sns.set_theme(style='darkgrid')"
   ]
  },
  {
   "cell_type": "code",
   "execution_count": 2,
   "metadata": {},
   "outputs": [],
   "source": [
    "#importing csv to dataframe\n",
    "df = pd.read_csv('data\\kc_house_data.csv')"
   ]
  },
  {
   "cell_type": "code",
   "execution_count": 3,
   "metadata": {},
   "outputs": [],
   "source": [
    "#filling the nan's with 0, all is categorical columns with the mode being 0.0\n",
    "df['waterfront'] = df['waterfront'].fillna(0.0)\n",
    "df['view'] = df['view'].fillna(0.0)\n",
    "df['yr_renovated'] = df['yr_renovated'].fillna(0.0)\n",
    "\n",
    "df.loc[df['sqft_basement'] == '?'] = 0\n",
    "df['sqft_basement'] = df['sqft_basement'].astype(float).astype(int)"
   ]
  },
  {
   "cell_type": "code",
   "execution_count": 4,
   "metadata": {
    "code_folding": []
   },
   "outputs": [],
   "source": [
    "# changing columns from float to int\n",
    "col_floats = ['price', 'waterfront', 'view', 'yr_renovated']\n",
    "for col in col_floats:\n",
    "    df[col] = df[col].astype(int)"
   ]
  },
  {
   "cell_type": "code",
   "execution_count": 5,
   "metadata": {},
   "outputs": [],
   "source": [
    "#expanding the date column to a column for each month and year\n",
    "df['date'] = pd.to_datetime(df['date'])\n",
    "df['month_sold'] = df['date'].dt.month\n",
    "df['year_sold'] = df['date'].dt.year"
   ]
  },
  {
   "cell_type": "code",
   "execution_count": 6,
   "metadata": {},
   "outputs": [],
   "source": [
    "#creating seasonal columns\n",
    "df['sold_spring_time'] = df['month_sold'] < 4\n",
    "df['sold_summer_time'] = (df['month_sold'] > 3) & (df['month_sold'] < 7)\n",
    "df['sold_fall_time'] = (df['month_sold'] > 6) & (df['month_sold'] < 10)\n",
    "df['sold_winter_time'] = (df['month_sold'] > 9) & (df['month_sold'] < 13)\n",
    "\n",
    "df['sold_spring_time'] = df['sold_spring_time'].astype(bool).astype(int)\n",
    "df['sold_summer_time'] = df['sold_summer_time'].astype(bool).astype(int)\n",
    "df['sold_fall_time'] = df['sold_fall_time'].astype(bool).astype(int)\n",
    "df['sold_winter_time'] = df['sold_winter_time'].astype(bool).astype(int)"
   ]
  },
  {
   "cell_type": "code",
   "execution_count": 7,
   "metadata": {},
   "outputs": [],
   "source": [
    "#converting 'yr_renovated' and 'sqft_basement' into a boolean\n",
    "df['has_renovated'] = df['yr_renovated'].astype(bool).astype(int)\n",
    "df['has_basement'] = df['sqft_basement'].astype(bool).astype(int)"
   ]
  },
  {
   "cell_type": "code",
   "execution_count": 8,
   "metadata": {},
   "outputs": [],
   "source": [
    "#deleting columns not neccesary in dataframe\n",
    "df.drop('date', axis=1, inplace=True)\n",
    "df.drop('id', axis=1, inplace=True)"
   ]
  },
  {
   "cell_type": "code",
   "execution_count": 9,
   "metadata": {
    "scrolled": false
   },
   "outputs": [],
   "source": [
    "# exports a clean version of raw data.\n",
    "df.to_csv('data\\Cleaned_kc_house_data.csv')"
   ]
  },
  {
   "cell_type": "code",
   "execution_count": 10,
   "metadata": {
    "scrolled": false
   },
   "outputs": [
    {
     "data": {
      "text/html": [
       "<div>\n",
       "<style scoped>\n",
       "    .dataframe tbody tr th:only-of-type {\n",
       "        vertical-align: middle;\n",
       "    }\n",
       "\n",
       "    .dataframe tbody tr th {\n",
       "        vertical-align: top;\n",
       "    }\n",
       "\n",
       "    .dataframe thead th {\n",
       "        text-align: right;\n",
       "    }\n",
       "</style>\n",
       "<table border=\"1\" class=\"dataframe\">\n",
       "  <thead>\n",
       "    <tr style=\"text-align: right;\">\n",
       "      <th></th>\n",
       "      <th>price</th>\n",
       "      <th>bedrooms</th>\n",
       "      <th>bathrooms</th>\n",
       "      <th>sqft_living</th>\n",
       "      <th>sqft_lot</th>\n",
       "      <th>floors</th>\n",
       "      <th>waterfront</th>\n",
       "      <th>view</th>\n",
       "      <th>condition</th>\n",
       "      <th>grade</th>\n",
       "      <th>...</th>\n",
       "      <th>sqft_living15</th>\n",
       "      <th>sqft_lot15</th>\n",
       "      <th>month_sold</th>\n",
       "      <th>year_sold</th>\n",
       "      <th>sold_spring_time</th>\n",
       "      <th>sold_summer_time</th>\n",
       "      <th>sold_fall_time</th>\n",
       "      <th>sold_winter_time</th>\n",
       "      <th>has_renovated</th>\n",
       "      <th>has_basement</th>\n",
       "    </tr>\n",
       "  </thead>\n",
       "  <tbody>\n",
       "    <tr>\n",
       "      <th>0</th>\n",
       "      <td>221900</td>\n",
       "      <td>3</td>\n",
       "      <td>1.00</td>\n",
       "      <td>1180</td>\n",
       "      <td>5650</td>\n",
       "      <td>1.0</td>\n",
       "      <td>0</td>\n",
       "      <td>0</td>\n",
       "      <td>3</td>\n",
       "      <td>7</td>\n",
       "      <td>...</td>\n",
       "      <td>1340</td>\n",
       "      <td>5650</td>\n",
       "      <td>10</td>\n",
       "      <td>2014</td>\n",
       "      <td>0</td>\n",
       "      <td>0</td>\n",
       "      <td>0</td>\n",
       "      <td>1</td>\n",
       "      <td>0</td>\n",
       "      <td>0</td>\n",
       "    </tr>\n",
       "    <tr>\n",
       "      <th>1</th>\n",
       "      <td>538000</td>\n",
       "      <td>3</td>\n",
       "      <td>2.25</td>\n",
       "      <td>2570</td>\n",
       "      <td>7242</td>\n",
       "      <td>2.0</td>\n",
       "      <td>0</td>\n",
       "      <td>0</td>\n",
       "      <td>3</td>\n",
       "      <td>7</td>\n",
       "      <td>...</td>\n",
       "      <td>1690</td>\n",
       "      <td>7639</td>\n",
       "      <td>12</td>\n",
       "      <td>2014</td>\n",
       "      <td>0</td>\n",
       "      <td>0</td>\n",
       "      <td>0</td>\n",
       "      <td>1</td>\n",
       "      <td>1</td>\n",
       "      <td>1</td>\n",
       "    </tr>\n",
       "    <tr>\n",
       "      <th>2</th>\n",
       "      <td>180000</td>\n",
       "      <td>2</td>\n",
       "      <td>1.00</td>\n",
       "      <td>770</td>\n",
       "      <td>10000</td>\n",
       "      <td>1.0</td>\n",
       "      <td>0</td>\n",
       "      <td>0</td>\n",
       "      <td>3</td>\n",
       "      <td>6</td>\n",
       "      <td>...</td>\n",
       "      <td>2720</td>\n",
       "      <td>8062</td>\n",
       "      <td>2</td>\n",
       "      <td>2015</td>\n",
       "      <td>1</td>\n",
       "      <td>0</td>\n",
       "      <td>0</td>\n",
       "      <td>0</td>\n",
       "      <td>0</td>\n",
       "      <td>0</td>\n",
       "    </tr>\n",
       "    <tr>\n",
       "      <th>3</th>\n",
       "      <td>604000</td>\n",
       "      <td>4</td>\n",
       "      <td>3.00</td>\n",
       "      <td>1960</td>\n",
       "      <td>5000</td>\n",
       "      <td>1.0</td>\n",
       "      <td>0</td>\n",
       "      <td>0</td>\n",
       "      <td>5</td>\n",
       "      <td>7</td>\n",
       "      <td>...</td>\n",
       "      <td>1360</td>\n",
       "      <td>5000</td>\n",
       "      <td>12</td>\n",
       "      <td>2014</td>\n",
       "      <td>0</td>\n",
       "      <td>0</td>\n",
       "      <td>0</td>\n",
       "      <td>1</td>\n",
       "      <td>0</td>\n",
       "      <td>1</td>\n",
       "    </tr>\n",
       "    <tr>\n",
       "      <th>4</th>\n",
       "      <td>510000</td>\n",
       "      <td>3</td>\n",
       "      <td>2.00</td>\n",
       "      <td>1680</td>\n",
       "      <td>8080</td>\n",
       "      <td>1.0</td>\n",
       "      <td>0</td>\n",
       "      <td>0</td>\n",
       "      <td>3</td>\n",
       "      <td>8</td>\n",
       "      <td>...</td>\n",
       "      <td>1800</td>\n",
       "      <td>7503</td>\n",
       "      <td>2</td>\n",
       "      <td>2015</td>\n",
       "      <td>1</td>\n",
       "      <td>0</td>\n",
       "      <td>0</td>\n",
       "      <td>0</td>\n",
       "      <td>0</td>\n",
       "      <td>0</td>\n",
       "    </tr>\n",
       "  </tbody>\n",
       "</table>\n",
       "<p>5 rows × 27 columns</p>\n",
       "</div>"
      ],
      "text/plain": [
       "    price  bedrooms  bathrooms  sqft_living  sqft_lot  floors  waterfront  \\\n",
       "0  221900         3       1.00         1180      5650     1.0           0   \n",
       "1  538000         3       2.25         2570      7242     2.0           0   \n",
       "2  180000         2       1.00          770     10000     1.0           0   \n",
       "3  604000         4       3.00         1960      5000     1.0           0   \n",
       "4  510000         3       2.00         1680      8080     1.0           0   \n",
       "\n",
       "   view  condition  grade  ...  sqft_living15  sqft_lot15  month_sold  \\\n",
       "0     0          3      7  ...           1340        5650          10   \n",
       "1     0          3      7  ...           1690        7639          12   \n",
       "2     0          3      6  ...           2720        8062           2   \n",
       "3     0          5      7  ...           1360        5000          12   \n",
       "4     0          3      8  ...           1800        7503           2   \n",
       "\n",
       "   year_sold  sold_spring_time  sold_summer_time  sold_fall_time  \\\n",
       "0       2014                 0                 0               0   \n",
       "1       2014                 0                 0               0   \n",
       "2       2015                 1                 0               0   \n",
       "3       2014                 0                 0               0   \n",
       "4       2015                 1                 0               0   \n",
       "\n",
       "   sold_winter_time  has_renovated  has_basement  \n",
       "0                 1              0             0  \n",
       "1                 1              1             1  \n",
       "2                 0              0             0  \n",
       "3                 1              0             1  \n",
       "4                 0              0             0  \n",
       "\n",
       "[5 rows x 27 columns]"
      ]
     },
     "execution_count": 10,
     "metadata": {},
     "output_type": "execute_result"
    }
   ],
   "source": [
    "df.head()"
   ]
  },
  {
   "cell_type": "code",
   "execution_count": 11,
   "metadata": {},
   "outputs": [
    {
     "name": "stdout",
     "output_type": "stream",
     "text": [
      "<class 'pandas.core.frame.DataFrame'>\n",
      "RangeIndex: 21597 entries, 0 to 21596\n",
      "Data columns (total 27 columns):\n",
      "price               21597 non-null int32\n",
      "bedrooms            21597 non-null int64\n",
      "bathrooms           21597 non-null float64\n",
      "sqft_living         21597 non-null int64\n",
      "sqft_lot            21597 non-null int64\n",
      "floors              21597 non-null float64\n",
      "waterfront          21597 non-null int32\n",
      "view                21597 non-null int32\n",
      "condition           21597 non-null int64\n",
      "grade               21597 non-null int64\n",
      "sqft_above          21597 non-null int64\n",
      "sqft_basement       21597 non-null int32\n",
      "yr_built            21597 non-null int64\n",
      "yr_renovated        21597 non-null int32\n",
      "zipcode             21597 non-null int64\n",
      "lat                 21597 non-null float64\n",
      "long                21597 non-null float64\n",
      "sqft_living15       21597 non-null int64\n",
      "sqft_lot15          21597 non-null int64\n",
      "month_sold          21597 non-null int64\n",
      "year_sold           21597 non-null int64\n",
      "sold_spring_time    21597 non-null int32\n",
      "sold_summer_time    21597 non-null int32\n",
      "sold_fall_time      21597 non-null int32\n",
      "sold_winter_time    21597 non-null int32\n",
      "has_renovated       21597 non-null int32\n",
      "has_basement        21597 non-null int32\n",
      "dtypes: float64(4), int32(11), int64(12)\n",
      "memory usage: 3.5 MB\n"
     ]
    }
   ],
   "source": [
    "df.info()"
   ]
  },
  {
   "cell_type": "markdown",
   "metadata": {
    "heading_collapsed": true
   },
   "source": [
    "## EDA and Scrubbing"
   ]
  },
  {
   "cell_type": "markdown",
   "metadata": {
    "hidden": true
   },
   "source": [
    "### price"
   ]
  },
  {
   "cell_type": "code",
   "execution_count": 12,
   "metadata": {
    "hidden": true
   },
   "outputs": [
    {
     "data": {
      "image/png": "[encoded data removed]",
      "text/plain": [
       "<Figure size 1152x360 with 2 Axes>"
      ]
     },
     "metadata": {},
     "output_type": "display_data"
    }
   ],
   "source": [
    "fig, ax = plt.subplots(nrows=1, ncols=2, figsize=(16,5))\n",
    "\n",
    "#looking for potential outliars\n",
    "sns.histplot(data=df, x='price', ax = ax[0])\n",
    "sns.boxplot(data=df, x='price', ax=ax[1]);"
   ]
  },
  {
   "cell_type": "code",
   "execution_count": 13,
   "metadata": {
    "hidden": true
   },
   "outputs": [],
   "source": [
    "#Making the 'price' benchmark between $100000 to $900000\n",
    "df.drop(df[df['price'] > 900000].index, inplace = True)\n",
    "df.drop(df[df['price'] < 100000].index, inplace = True)"
   ]
  },
  {
   "cell_type": "code",
   "execution_count": 14,
   "metadata": {
    "hidden": true,
    "scrolled": true
   },
   "outputs": [
    {
     "data": {
      "image/png": "[encoded data removed]",
      "text/plain": [
       "<Figure size 1152x360 with 2 Axes>"
      ]
     },
     "metadata": {},
     "output_type": "display_data"
    }
   ],
   "source": [
    "fig, ax = plt.subplots(nrows=1, ncols=2, figsize=(16,5))\n",
    "\n",
    "sns.histplot(data=df, x='price', ax = ax[0])\n",
    "sns.boxplot(data=df, x='price', ax=ax[1]);"
   ]
  },
  {
   "cell_type": "markdown",
   "metadata": {
    "hidden": true
   },
   "source": [
    ">The histogram and boxplot looks to be more normally distributed after removing outliers"
   ]
  },
  {
   "cell_type": "code",
   "execution_count": 15,
   "metadata": {
    "hidden": true
   },
   "outputs": [
    {
     "data": {
      "text/plain": [
       "(19124, 27)"
      ]
     },
     "execution_count": 15,
     "metadata": {},
     "output_type": "execute_result"
    }
   ],
   "source": [
    "#checking the rows left\n",
    "df.shape"
   ]
  },
  {
   "cell_type": "markdown",
   "metadata": {
    "heading_collapsed": true,
    "hidden": true
   },
   "source": [
    "### bedrooms"
   ]
  },
  {
   "cell_type": "code",
   "execution_count": 16,
   "metadata": {
    "hidden": true
   },
   "outputs": [
    {
     "data": {
      "text/plain": [
       "3     9179\n",
       "4     5729\n",
       "2     2631\n",
       "5     1161\n",
       "6      198\n",
       "1      185\n",
       "7       25\n",
       "8        9\n",
       "9        3\n",
       "10       2\n",
       "11       1\n",
       "33       1\n",
       "Name: bedrooms, dtype: int64"
      ]
     },
     "execution_count": 16,
     "metadata": {},
     "output_type": "execute_result"
    }
   ],
   "source": [
    "df['bedrooms'].value_counts()"
   ]
  },
  {
   "cell_type": "code",
   "execution_count": 17,
   "metadata": {
    "hidden": true
   },
   "outputs": [],
   "source": [
    "df.drop(df[df['bedrooms'] > 6].index, inplace = True)"
   ]
  },
  {
   "cell_type": "code",
   "execution_count": 18,
   "metadata": {
    "hidden": true
   },
   "outputs": [
    {
     "data": {
      "text/plain": [
       "3    9179\n",
       "4    5729\n",
       "2    2631\n",
       "5    1161\n",
       "6     198\n",
       "1     185\n",
       "Name: bedrooms, dtype: int64"
      ]
     },
     "execution_count": 18,
     "metadata": {},
     "output_type": "execute_result"
    }
   ],
   "source": [
    "df['bedrooms'].value_counts()"
   ]
  },
  {
   "cell_type": "code",
   "execution_count": 19,
   "metadata": {
    "hidden": true,
    "scrolled": true
   },
   "outputs": [
    {
     "data": {
      "image/png": "[encoded data removed]",
      "text/plain": [
       "<Figure size 432x288 with 1 Axes>"
      ]
     },
     "metadata": {},
     "output_type": "display_data"
    }
   ],
   "source": [
    "sns.histplot(data = df, x='bedrooms');"
   ]
  },
  {
   "cell_type": "code",
   "execution_count": 20,
   "metadata": {
    "hidden": true
   },
   "outputs": [
    {
     "data": {
      "text/plain": [
       "(19083, 27)"
      ]
     },
     "execution_count": 20,
     "metadata": {},
     "output_type": "execute_result"
    }
   ],
   "source": [
    "df.shape"
   ]
  },
  {
   "cell_type": "markdown",
   "metadata": {
    "heading_collapsed": true,
    "hidden": true
   },
   "source": [
    "### bathrooms"
   ]
  },
  {
   "cell_type": "code",
   "execution_count": 21,
   "metadata": {
    "hidden": true
   },
   "outputs": [
    {
     "data": {
      "text/plain": [
       "2.50    4849\n",
       "1.00    3715\n",
       "1.75    2912\n",
       "2.25    1844\n",
       "2.00    1839\n",
       "1.50    1385\n",
       "2.75     980\n",
       "3.00     578\n",
       "3.50     434\n",
       "3.25     324\n",
       "0.75      69\n",
       "3.75      50\n",
       "4.00      43\n",
       "4.50      23\n",
       "4.25      18\n",
       "1.25       7\n",
       "5.00       5\n",
       "0.50       3\n",
       "4.75       2\n",
       "5.25       2\n",
       "6.00       1\n",
       "Name: bathrooms, dtype: int64"
      ]
     },
     "execution_count": 21,
     "metadata": {},
     "output_type": "execute_result"
    }
   ],
   "source": [
    "df['bathrooms'].value_counts()"
   ]
  },
  {
   "cell_type": "code",
   "execution_count": 22,
   "metadata": {
    "hidden": true,
    "scrolled": true
   },
   "outputs": [
    {
     "data": {
      "image/png": "[encoded data removed]",
      "text/plain": [
       "<Figure size 432x288 with 1 Axes>"
      ]
     },
     "metadata": {},
     "output_type": "display_data"
    }
   ],
   "source": [
    "sns.histplot(data=df, x = 'bathrooms');"
   ]
  },
  {
   "cell_type": "code",
   "execution_count": 23,
   "metadata": {
    "hidden": true
   },
   "outputs": [],
   "source": [
    "df.drop(df[df['bathrooms'] > 4].index, inplace = True)\n",
    "df.drop(df[df['bathrooms'] < 0.75].index, inplace = True)"
   ]
  },
  {
   "cell_type": "code",
   "execution_count": 24,
   "metadata": {
    "hidden": true
   },
   "outputs": [
    {
     "data": {
      "image/png": "[encoded data removed]",
      "text/plain": [
       "<Figure size 432x288 with 1 Axes>"
      ]
     },
     "metadata": {},
     "output_type": "display_data"
    }
   ],
   "source": [
    "sns.histplot(data=df, x = 'bathrooms');"
   ]
  },
  {
   "cell_type": "code",
   "execution_count": 25,
   "metadata": {
    "hidden": true
   },
   "outputs": [
    {
     "data": {
      "text/plain": [
       "(19029, 27)"
      ]
     },
     "execution_count": 25,
     "metadata": {},
     "output_type": "execute_result"
    }
   ],
   "source": [
    "df.shape"
   ]
  },
  {
   "cell_type": "markdown",
   "metadata": {
    "heading_collapsed": true,
    "hidden": true
   },
   "source": [
    "### sqft_living"
   ]
  },
  {
   "cell_type": "code",
   "execution_count": 26,
   "metadata": {
    "hidden": true
   },
   "outputs": [
    {
     "data": {
      "image/png": "[encoded data removed]",
      "text/plain": [
       "<Figure size 1152x360 with 2 Axes>"
      ]
     },
     "metadata": {},
     "output_type": "display_data"
    }
   ],
   "source": [
    "fig, ax = plt.subplots(nrows=1, ncols=2, figsize=(16,5))\n",
    "\n",
    "sns.histplot(data=df, x='sqft_living', ax = ax[0])\n",
    "sns.boxplot(data=df, x='sqft_living', ax=ax[1]);"
   ]
  },
  {
   "cell_type": "code",
   "execution_count": 27,
   "metadata": {
    "hidden": true
   },
   "outputs": [],
   "source": [
    "df.drop(df[df['sqft_living'] > 4500].index, inplace = True)"
   ]
  },
  {
   "cell_type": "code",
   "execution_count": 28,
   "metadata": {
    "hidden": true
   },
   "outputs": [
    {
     "data": {
      "image/png": "[encoded data removed]",
      "text/plain": [
       "<Figure size 1152x360 with 2 Axes>"
      ]
     },
     "metadata": {},
     "output_type": "display_data"
    }
   ],
   "source": [
    "fig, ax = plt.subplots(nrows=1, ncols=2, figsize=(16,5))\n",
    "\n",
    "sns.histplot(data=df, x='sqft_living', ax = ax[0])\n",
    "sns.boxplot(data=df, x='sqft_living', ax=ax[1]);"
   ]
  },
  {
   "cell_type": "code",
   "execution_count": 29,
   "metadata": {
    "hidden": true
   },
   "outputs": [
    {
     "data": {
      "text/plain": [
       "(19000, 27)"
      ]
     },
     "execution_count": 29,
     "metadata": {},
     "output_type": "execute_result"
    }
   ],
   "source": [
    "df.shape"
   ]
  },
  {
   "cell_type": "markdown",
   "metadata": {
    "heading_collapsed": true,
    "hidden": true
   },
   "source": [
    "### sqft_lot"
   ]
  },
  {
   "cell_type": "code",
   "execution_count": 30,
   "metadata": {
    "hidden": true
   },
   "outputs": [
    {
     "data": {
      "image/png": "[encoded data removed]",
      "text/plain": [
       "<Figure size 1152x360 with 2 Axes>"
      ]
     },
     "metadata": {},
     "output_type": "display_data"
    }
   ],
   "source": [
    "fig, ax = plt.subplots(nrows=1, ncols=2, figsize=(16,5))\n",
    "\n",
    "sns.histplot(data=df, x='sqft_lot', ax = ax[0])\n",
    "sns.boxplot(data=df, x='sqft_lot', ax=ax[1]);"
   ]
  },
  {
   "cell_type": "code",
   "execution_count": 31,
   "metadata": {
    "hidden": true
   },
   "outputs": [],
   "source": [
    "df.drop(df[df['sqft_lot'] > 17500].index, inplace = True)"
   ]
  },
  {
   "cell_type": "code",
   "execution_count": 32,
   "metadata": {
    "hidden": true
   },
   "outputs": [
    {
     "data": {
      "image/png": "[encoded data removed]",
      "text/plain": [
       "<Figure size 1152x360 with 2 Axes>"
      ]
     },
     "metadata": {},
     "output_type": "display_data"
    }
   ],
   "source": [
    "fig, ax = plt.subplots(nrows=1, ncols=2, figsize=(16,5))\n",
    "\n",
    "sns.histplot(data=df, x='sqft_lot', ax = ax[0])\n",
    "sns.boxplot(data=df, x='sqft_lot', ax=ax[1]);"
   ]
  },
  {
   "cell_type": "code",
   "execution_count": 33,
   "metadata": {
    "hidden": true
   },
   "outputs": [
    {
     "data": {
      "text/plain": [
       "(16935, 27)"
      ]
     },
     "execution_count": 33,
     "metadata": {},
     "output_type": "execute_result"
    }
   ],
   "source": [
    "df.shape"
   ]
  },
  {
   "cell_type": "markdown",
   "metadata": {
    "heading_collapsed": true,
    "hidden": true
   },
   "source": [
    "### sqft_basement"
   ]
  },
  {
   "cell_type": "code",
   "execution_count": 34,
   "metadata": {
    "hidden": true,
    "scrolled": true
   },
   "outputs": [
    {
     "data": {
      "image/png": "[encoded data removed]",
      "text/plain": [
       "<Figure size 432x288 with 1 Axes>"
      ]
     },
     "metadata": {},
     "output_type": "display_data"
    }
   ],
   "source": [
    "sns.histplot(data=df, x='sqft_basement');"
   ]
  },
  {
   "cell_type": "code",
   "execution_count": 35,
   "metadata": {
    "hidden": true,
    "scrolled": true
   },
   "outputs": [
    {
     "data": {
      "text/plain": [
       "count    16935.000000\n",
       "mean         0.379037\n",
       "std          0.485162\n",
       "min          0.000000\n",
       "25%          0.000000\n",
       "50%          0.000000\n",
       "75%          1.000000\n",
       "max          1.000000\n",
       "Name: has_basement, dtype: float64"
      ]
     },
     "execution_count": 35,
     "metadata": {},
     "output_type": "execute_result"
    }
   ],
   "source": [
    "df['has_basement'].describe()"
   ]
  },
  {
   "cell_type": "code",
   "execution_count": 36,
   "metadata": {
    "hidden": true
   },
   "outputs": [],
   "source": [
    "df.drop(df[df['sqft_basement'] > 1300].index, inplace=True)"
   ]
  },
  {
   "cell_type": "code",
   "execution_count": 37,
   "metadata": {
    "hidden": true,
    "scrolled": true
   },
   "outputs": [
    {
     "data": {
      "image/png": "[encoded data removed]",
      "text/plain": [
       "<Figure size 432x288 with 1 Axes>"
      ]
     },
     "metadata": {},
     "output_type": "display_data"
    }
   ],
   "source": [
    "sns.histplot(data = df, x='sqft_basement');"
   ]
  },
  {
   "cell_type": "code",
   "execution_count": 38,
   "metadata": {
    "hidden": true
   },
   "outputs": [
    {
     "data": {
      "image/png": "[encoded data removed]",
      "text/plain": [
       "<Figure size 432x288 with 1 Axes>"
      ]
     },
     "metadata": {},
     "output_type": "display_data"
    }
   ],
   "source": [
    "sns.histplot(data = df, x='has_basement');"
   ]
  },
  {
   "cell_type": "code",
   "execution_count": 39,
   "metadata": {
    "hidden": true
   },
   "outputs": [
    {
     "data": {
      "text/plain": [
       "(16709, 27)"
      ]
     },
     "execution_count": 39,
     "metadata": {},
     "output_type": "execute_result"
    }
   ],
   "source": [
    "df.shape"
   ]
  },
  {
   "cell_type": "markdown",
   "metadata": {
    "heading_collapsed": true,
    "hidden": true
   },
   "source": [
    "### floors"
   ]
  },
  {
   "cell_type": "code",
   "execution_count": 40,
   "metadata": {
    "hidden": true
   },
   "outputs": [
    {
     "data": {
      "text/plain": [
       "1.0    8720\n",
       "2.0    5896\n",
       "1.5    1481\n",
       "3.0     524\n",
       "2.5      82\n",
       "3.5       6\n",
       "Name: floors, dtype: int64"
      ]
     },
     "execution_count": 40,
     "metadata": {},
     "output_type": "execute_result"
    }
   ],
   "source": [
    "df['floors'].value_counts()"
   ]
  },
  {
   "cell_type": "code",
   "execution_count": 41,
   "metadata": {
    "hidden": true
   },
   "outputs": [],
   "source": [
    "df.drop(df[df['floors'] > 3].index, inplace=True)"
   ]
  },
  {
   "cell_type": "code",
   "execution_count": 42,
   "metadata": {
    "hidden": true,
    "scrolled": true
   },
   "outputs": [
    {
     "data": {
      "text/plain": [
       "1.0    8720\n",
       "2.0    5896\n",
       "1.5    1481\n",
       "3.0     524\n",
       "2.5      82\n",
       "Name: floors, dtype: int64"
      ]
     },
     "execution_count": 42,
     "metadata": {},
     "output_type": "execute_result"
    }
   ],
   "source": [
    "df['floors'].value_counts()"
   ]
  },
  {
   "cell_type": "markdown",
   "metadata": {
    "heading_collapsed": true,
    "hidden": true
   },
   "source": [
    "### grade and condition"
   ]
  },
  {
   "cell_type": "code",
   "execution_count": 43,
   "metadata": {
    "hidden": true
   },
   "outputs": [
    {
     "data": {
      "text/plain": [
       "7     8012\n",
       "8     4832\n",
       "6     1807\n",
       "9     1504\n",
       "10     330\n",
       "5      180\n",
       "11      20\n",
       "4       17\n",
       "3        1\n",
       "Name: grade, dtype: int64"
      ]
     },
     "execution_count": 43,
     "metadata": {},
     "output_type": "execute_result"
    }
   ],
   "source": [
    "df['grade'].value_counts()"
   ]
  },
  {
   "cell_type": "code",
   "execution_count": 44,
   "metadata": {
    "hidden": true,
    "scrolled": false
   },
   "outputs": [
    {
     "data": {
      "text/plain": [
       "3    10956\n",
       "4     4331\n",
       "5     1275\n",
       "2      123\n",
       "1       18\n",
       "Name: condition, dtype: int64"
      ]
     },
     "execution_count": 44,
     "metadata": {},
     "output_type": "execute_result"
    }
   ],
   "source": [
    "df['condition'].value_counts()"
   ]
  },
  {
   "cell_type": "markdown",
   "metadata": {
    "heading_collapsed": true,
    "hidden": true
   },
   "source": [
    "### sqft_lot15"
   ]
  },
  {
   "cell_type": "code",
   "execution_count": 45,
   "metadata": {
    "hidden": true
   },
   "outputs": [
    {
     "data": {
      "image/png": "[encoded data removed]",
      "text/plain": [
       "<Figure size 1152x360 with 2 Axes>"
      ]
     },
     "metadata": {},
     "output_type": "display_data"
    }
   ],
   "source": [
    "fig, ax = plt.subplots(nrows=1, ncols=2, figsize=(16,5))\n",
    "\n",
    "sns.histplot(data=df, x='sqft_lot15', ax = ax[0])\n",
    "sns.boxplot(data=df, x='sqft_lot15', ax=ax[1]);"
   ]
  },
  {
   "cell_type": "code",
   "execution_count": 46,
   "metadata": {
    "hidden": true
   },
   "outputs": [],
   "source": [
    "df.drop(df[df['sqft_lot15'] > 25000].index, inplace=True)"
   ]
  },
  {
   "cell_type": "code",
   "execution_count": 47,
   "metadata": {
    "hidden": true
   },
   "outputs": [
    {
     "data": {
      "image/png": "[encoded data removed]",
      "text/plain": [
       "<Figure size 1152x360 with 2 Axes>"
      ]
     },
     "metadata": {},
     "output_type": "display_data"
    }
   ],
   "source": [
    "fig, ax = plt.subplots(nrows=1, ncols=2, figsize=(16,5))\n",
    "\n",
    "sns.histplot(data=df, x='sqft_lot15', ax = ax[0])\n",
    "sns.boxplot(data=df, x='sqft_lot15', ax=ax[1]);"
   ]
  },
  {
   "cell_type": "code",
   "execution_count": 48,
   "metadata": {
    "hidden": true
   },
   "outputs": [
    {
     "data": {
      "text/plain": [
       "(16658, 27)"
      ]
     },
     "execution_count": 48,
     "metadata": {},
     "output_type": "execute_result"
    }
   ],
   "source": [
    "df.shape"
   ]
  },
  {
   "cell_type": "markdown",
   "metadata": {
    "heading_collapsed": true,
    "hidden": true
   },
   "source": [
    "### sqft_living15"
   ]
  },
  {
   "cell_type": "code",
   "execution_count": 49,
   "metadata": {
    "hidden": true,
    "scrolled": true
   },
   "outputs": [
    {
     "data": {
      "image/png": "[encoded data removed]",
      "text/plain": [
       "<Figure size 1152x360 with 2 Axes>"
      ]
     },
     "metadata": {},
     "output_type": "display_data"
    }
   ],
   "source": [
    "fig, ax = plt.subplots(nrows=1, ncols=2, figsize=(16,5))\n",
    "\n",
    "sns.histplot(data=df, x='sqft_living15', ax = ax[0])\n",
    "sns.boxplot(data=df, x='sqft_living15', ax=ax[1]);"
   ]
  },
  {
   "cell_type": "markdown",
   "metadata": {},
   "source": [
    "## Continuous and Categorical Features"
   ]
  },
  {
   "cell_type": "code",
   "execution_count": 50,
   "metadata": {},
   "outputs": [],
   "source": [
    "#df_cont = df[['sqft_living', 'sqft_lot', 'sqft_above', 'sqft_basement', 'lat', 'long', 'sqft_living15', 'sqft_lot15']]\n",
    "#df_cate = df[['condition', 'grade', 'zipcode']]\n",
    "\n",
    "#pd.plotting.scatter_matrix(pd.concat([df_cont, df_cate], axis=1), figsize = [12,12])\n",
    "#plt.show()"
   ]
  },
  {
   "cell_type": "markdown",
   "metadata": {},
   "source": [
    "### Multi-collineary "
   ]
  },
  {
   "cell_type": "code",
   "execution_count": 51,
   "metadata": {},
   "outputs": [
    {
     "data": {
      "text/html": [
       "<div>\n",
       "<style scoped>\n",
       "    .dataframe tbody tr th:only-of-type {\n",
       "        vertical-align: middle;\n",
       "    }\n",
       "\n",
       "    .dataframe tbody tr th {\n",
       "        vertical-align: top;\n",
       "    }\n",
       "\n",
       "    .dataframe thead th {\n",
       "        text-align: right;\n",
       "    }\n",
       "</style>\n",
       "<table border=\"1\" class=\"dataframe\">\n",
       "  <thead>\n",
       "    <tr style=\"text-align: right;\">\n",
       "      <th></th>\n",
       "      <th>cc</th>\n",
       "    </tr>\n",
       "    <tr>\n",
       "      <th>pairs</th>\n",
       "      <th></th>\n",
       "    </tr>\n",
       "  </thead>\n",
       "  <tbody>\n",
       "    <tr>\n",
       "      <th>(sqft_lot, sqft_lot15)</th>\n",
       "      <td>0.864460</td>\n",
       "    </tr>\n",
       "    <tr>\n",
       "      <th>(sqft_living, sqft_above)</th>\n",
       "      <td>0.850810</td>\n",
       "    </tr>\n",
       "    <tr>\n",
       "      <th>(sqft_living, sqft_living15)</th>\n",
       "      <td>0.737066</td>\n",
       "    </tr>\n",
       "    <tr>\n",
       "      <th>(sqft_living15, sqft_above)</th>\n",
       "      <td>0.716950</td>\n",
       "    </tr>\n",
       "  </tbody>\n",
       "</table>\n",
       "</div>"
      ],
      "text/plain": [
       "                                    cc\n",
       "pairs                                 \n",
       "(sqft_lot, sqft_lot15)        0.864460\n",
       "(sqft_living, sqft_above)     0.850810\n",
       "(sqft_living, sqft_living15)  0.737066\n",
       "(sqft_living15, sqft_above)   0.716950"
      ]
     },
     "execution_count": 51,
     "metadata": {},
     "output_type": "execute_result"
    }
   ],
   "source": [
    "df_cont = df[['sqft_living', 'sqft_lot', 'sqft_above', 'sqft_basement', 'lat', 'long', 'sqft_living15', 'sqft_lot15']]\n",
    "\n",
    "data_cont = df_cont.corr().abs().stack().reset_index().sort_values(0, ascending=False)\n",
    "data_cont['pairs'] = list(zip(data_cont.level_0, data_cont.level_1))\n",
    "data_cont.set_index(['pairs'], inplace=True)\n",
    "data_cont.drop(columns=['level_1', 'level_0'], inplace = True)\n",
    "data_cont.columns = ['cc']\n",
    "data_cont.drop_duplicates(inplace=True)\n",
    "data_cont[(data_cont.cc>.70) & (data_cont.cc<1)]"
   ]
  },
  {
   "cell_type": "markdown",
   "metadata": {},
   "source": [
    ">Above table are showing some highly correlated continuous columns. We'll be dropping 'sqft_above', 'sqft_living15', and 'sqft_lot15' due to high correlation that will lead to fallacy in our model."
   ]
  },
  {
   "cell_type": "code",
   "execution_count": 52,
   "metadata": {},
   "outputs": [],
   "source": [
    "#creating seperate dataframe from the original to make changes\n",
    "df_b = df"
   ]
  },
  {
   "cell_type": "code",
   "execution_count": 53,
   "metadata": {},
   "outputs": [],
   "source": [
    "#dropping the multicollinearies and unwanted columns\n",
    "df_b.drop('lat', axis = 1, inplace = True)\n",
    "df_b.drop('long', axis = 1, inplace = True)\n",
    "df_b.drop('sqft_above', axis = 1, inplace = True)\n",
    "df_b.drop('sqft_living15', axis = 1, inplace = True)\n",
    "df_b.drop('sqft_lot15', axis = 1, inplace = True)"
   ]
  },
  {
   "cell_type": "markdown",
   "metadata": {},
   "source": [
    "> We are dropping 'lat' and 'long' columns because we'll be using zipcode instead. As well as dropping the 'view' columns because we believe it's not a big determining factor for house prices."
   ]
  },
  {
   "cell_type": "markdown",
   "metadata": {},
   "source": [
    "### Categorical / One Hot Encoded"
   ]
  },
  {
   "cell_type": "code",
   "execution_count": 54,
   "metadata": {},
   "outputs": [
    {
     "data": {
      "image/png": "[encoded data removed]",
      "text/plain": [
       "<Figure size 1152x720 with 3 Axes>"
      ]
     },
     "metadata": {},
     "output_type": "display_data"
    }
   ],
   "source": [
    "#looking at graphs to see columns shaped like a categorical data\n",
    "fig, axes = plt.subplots(nrows=1, ncols=3, figsize=(16,10), sharey=True)\n",
    "\n",
    "feats = ['condition', 'grade', 'zipcode']\n",
    "\n",
    "for col, ax in zip(feats, axes.flatten()):\n",
    "    (df.groupby(col)               \n",
    "         .mean()['price']        \n",
    "         .sort_values()              \n",
    "         .plot\n",
    "         .bar(ax=ax))                \n",
    "    \n",
    "    ax.set_title(col)                \n",
    "fig.tight_layout()"
   ]
  },
  {
   "cell_type": "code",
   "execution_count": 55,
   "metadata": {
    "scrolled": true
   },
   "outputs": [],
   "source": [
    "features = df[feats].astype('category')"
   ]
  },
  {
   "cell_type": "code",
   "execution_count": 56,
   "metadata": {},
   "outputs": [],
   "source": [
    "feats_ohe = pd.get_dummies(features, drop_first = True)"
   ]
  },
  {
   "cell_type": "code",
   "execution_count": 57,
   "metadata": {},
   "outputs": [],
   "source": [
    "feats_ohe = feats_ohe.astype(int)"
   ]
  },
  {
   "cell_type": "code",
   "execution_count": 58,
   "metadata": {
    "scrolled": false
   },
   "outputs": [
    {
     "data": {
      "text/html": [
       "<div>\n",
       "<style scoped>\n",
       "    .dataframe tbody tr th:only-of-type {\n",
       "        vertical-align: middle;\n",
       "    }\n",
       "\n",
       "    .dataframe tbody tr th {\n",
       "        vertical-align: top;\n",
       "    }\n",
       "\n",
       "    .dataframe thead th {\n",
       "        text-align: right;\n",
       "    }\n",
       "</style>\n",
       "<table border=\"1\" class=\"dataframe\">\n",
       "  <thead>\n",
       "    <tr style=\"text-align: right;\">\n",
       "      <th></th>\n",
       "      <th>condition_2</th>\n",
       "      <th>condition_3</th>\n",
       "      <th>condition_4</th>\n",
       "      <th>condition_5</th>\n",
       "      <th>grade_4</th>\n",
       "      <th>grade_5</th>\n",
       "      <th>grade_6</th>\n",
       "      <th>grade_7</th>\n",
       "      <th>grade_8</th>\n",
       "      <th>grade_9</th>\n",
       "      <th>...</th>\n",
       "      <th>zipcode_98146</th>\n",
       "      <th>zipcode_98148</th>\n",
       "      <th>zipcode_98155</th>\n",
       "      <th>zipcode_98166</th>\n",
       "      <th>zipcode_98168</th>\n",
       "      <th>zipcode_98177</th>\n",
       "      <th>zipcode_98178</th>\n",
       "      <th>zipcode_98188</th>\n",
       "      <th>zipcode_98198</th>\n",
       "      <th>zipcode_98199</th>\n",
       "    </tr>\n",
       "  </thead>\n",
       "  <tbody>\n",
       "    <tr>\n",
       "      <th>0</th>\n",
       "      <td>0</td>\n",
       "      <td>1</td>\n",
       "      <td>0</td>\n",
       "      <td>0</td>\n",
       "      <td>0</td>\n",
       "      <td>0</td>\n",
       "      <td>0</td>\n",
       "      <td>1</td>\n",
       "      <td>0</td>\n",
       "      <td>0</td>\n",
       "      <td>...</td>\n",
       "      <td>0</td>\n",
       "      <td>0</td>\n",
       "      <td>0</td>\n",
       "      <td>0</td>\n",
       "      <td>0</td>\n",
       "      <td>0</td>\n",
       "      <td>1</td>\n",
       "      <td>0</td>\n",
       "      <td>0</td>\n",
       "      <td>0</td>\n",
       "    </tr>\n",
       "    <tr>\n",
       "      <th>1</th>\n",
       "      <td>0</td>\n",
       "      <td>1</td>\n",
       "      <td>0</td>\n",
       "      <td>0</td>\n",
       "      <td>0</td>\n",
       "      <td>0</td>\n",
       "      <td>0</td>\n",
       "      <td>1</td>\n",
       "      <td>0</td>\n",
       "      <td>0</td>\n",
       "      <td>...</td>\n",
       "      <td>0</td>\n",
       "      <td>0</td>\n",
       "      <td>0</td>\n",
       "      <td>0</td>\n",
       "      <td>0</td>\n",
       "      <td>0</td>\n",
       "      <td>0</td>\n",
       "      <td>0</td>\n",
       "      <td>0</td>\n",
       "      <td>0</td>\n",
       "    </tr>\n",
       "    <tr>\n",
       "      <th>2</th>\n",
       "      <td>0</td>\n",
       "      <td>1</td>\n",
       "      <td>0</td>\n",
       "      <td>0</td>\n",
       "      <td>0</td>\n",
       "      <td>0</td>\n",
       "      <td>1</td>\n",
       "      <td>0</td>\n",
       "      <td>0</td>\n",
       "      <td>0</td>\n",
       "      <td>...</td>\n",
       "      <td>0</td>\n",
       "      <td>0</td>\n",
       "      <td>0</td>\n",
       "      <td>0</td>\n",
       "      <td>0</td>\n",
       "      <td>0</td>\n",
       "      <td>0</td>\n",
       "      <td>0</td>\n",
       "      <td>0</td>\n",
       "      <td>0</td>\n",
       "    </tr>\n",
       "    <tr>\n",
       "      <th>3</th>\n",
       "      <td>0</td>\n",
       "      <td>0</td>\n",
       "      <td>0</td>\n",
       "      <td>1</td>\n",
       "      <td>0</td>\n",
       "      <td>0</td>\n",
       "      <td>0</td>\n",
       "      <td>1</td>\n",
       "      <td>0</td>\n",
       "      <td>0</td>\n",
       "      <td>...</td>\n",
       "      <td>0</td>\n",
       "      <td>0</td>\n",
       "      <td>0</td>\n",
       "      <td>0</td>\n",
       "      <td>0</td>\n",
       "      <td>0</td>\n",
       "      <td>0</td>\n",
       "      <td>0</td>\n",
       "      <td>0</td>\n",
       "      <td>0</td>\n",
       "    </tr>\n",
       "    <tr>\n",
       "      <th>4</th>\n",
       "      <td>0</td>\n",
       "      <td>1</td>\n",
       "      <td>0</td>\n",
       "      <td>0</td>\n",
       "      <td>0</td>\n",
       "      <td>0</td>\n",
       "      <td>0</td>\n",
       "      <td>0</td>\n",
       "      <td>1</td>\n",
       "      <td>0</td>\n",
       "      <td>...</td>\n",
       "      <td>0</td>\n",
       "      <td>0</td>\n",
       "      <td>0</td>\n",
       "      <td>0</td>\n",
       "      <td>0</td>\n",
       "      <td>0</td>\n",
       "      <td>0</td>\n",
       "      <td>0</td>\n",
       "      <td>0</td>\n",
       "      <td>0</td>\n",
       "    </tr>\n",
       "  </tbody>\n",
       "</table>\n",
       "<p>5 rows × 81 columns</p>\n",
       "</div>"
      ],
      "text/plain": [
       "   condition_2  condition_3  condition_4  condition_5  grade_4  grade_5  \\\n",
       "0            0            1            0            0        0        0   \n",
       "1            0            1            0            0        0        0   \n",
       "2            0            1            0            0        0        0   \n",
       "3            0            0            0            1        0        0   \n",
       "4            0            1            0            0        0        0   \n",
       "\n",
       "   grade_6  grade_7  grade_8  grade_9  ...  zipcode_98146  zipcode_98148  \\\n",
       "0        0        1        0        0  ...              0              0   \n",
       "1        0        1        0        0  ...              0              0   \n",
       "2        1        0        0        0  ...              0              0   \n",
       "3        0        1        0        0  ...              0              0   \n",
       "4        0        0        1        0  ...              0              0   \n",
       "\n",
       "   zipcode_98155  zipcode_98166  zipcode_98168  zipcode_98177  zipcode_98178  \\\n",
       "0              0              0              0              0              1   \n",
       "1              0              0              0              0              0   \n",
       "2              0              0              0              0              0   \n",
       "3              0              0              0              0              0   \n",
       "4              0              0              0              0              0   \n",
       "\n",
       "   zipcode_98188  zipcode_98198  zipcode_98199  \n",
       "0              0              0              0  \n",
       "1              0              0              0  \n",
       "2              0              0              0  \n",
       "3              0              0              0  \n",
       "4              0              0              0  \n",
       "\n",
       "[5 rows x 81 columns]"
      ]
     },
     "execution_count": 58,
     "metadata": {},
     "output_type": "execute_result"
    }
   ],
   "source": [
    "feats_ohe.head()"
   ]
  },
  {
   "cell_type": "markdown",
   "metadata": {},
   "source": [
    "### Baseline DataFrame"
   ]
  },
  {
   "cell_type": "markdown",
   "metadata": {},
   "source": [
    "> Adding the new features to the baseline data"
   ]
  },
  {
   "cell_type": "code",
   "execution_count": 59,
   "metadata": {},
   "outputs": [],
   "source": [
    "df_b = pd.concat([df_b, feats_ohe], axis = 1)"
   ]
  },
  {
   "cell_type": "markdown",
   "metadata": {},
   "source": [
    "> dropping more unwanted columns from our baseline DataFrame"
   ]
  },
  {
   "cell_type": "code",
   "execution_count": 60,
   "metadata": {},
   "outputs": [],
   "source": [
    "#dropping unwanted columns first\n",
    "df_b.drop('view', axis = 1, inplace = True)\n",
    "df_b.drop('yr_renovated', axis = 1, inplace = True)"
   ]
  },
  {
   "cell_type": "markdown",
   "metadata": {},
   "source": [
    ">Dropping 'condition', 'grade', and 'zipcode' since they're replaced with one hot encoded features"
   ]
  },
  {
   "cell_type": "code",
   "execution_count": 61,
   "metadata": {},
   "outputs": [],
   "source": [
    "df_b.drop('condition', axis = 1, inplace = True)\n",
    "df_b.drop('grade', axis = 1, inplace = True)\n",
    "df_b.drop('zipcode', axis = 1, inplace = True)"
   ]
  },
  {
   "cell_type": "code",
   "execution_count": 62,
   "metadata": {
    "scrolled": true
   },
   "outputs": [
    {
     "data": {
      "text/html": [
       "<div>\n",
       "<style scoped>\n",
       "    .dataframe tbody tr th:only-of-type {\n",
       "        vertical-align: middle;\n",
       "    }\n",
       "\n",
       "    .dataframe tbody tr th {\n",
       "        vertical-align: top;\n",
       "    }\n",
       "\n",
       "    .dataframe thead th {\n",
       "        text-align: right;\n",
       "    }\n",
       "</style>\n",
       "<table border=\"1\" class=\"dataframe\">\n",
       "  <thead>\n",
       "    <tr style=\"text-align: right;\">\n",
       "      <th></th>\n",
       "      <th>price</th>\n",
       "      <th>bedrooms</th>\n",
       "      <th>bathrooms</th>\n",
       "      <th>sqft_living</th>\n",
       "      <th>sqft_lot</th>\n",
       "      <th>floors</th>\n",
       "      <th>waterfront</th>\n",
       "      <th>sqft_basement</th>\n",
       "      <th>yr_built</th>\n",
       "      <th>month_sold</th>\n",
       "      <th>...</th>\n",
       "      <th>zipcode_98146</th>\n",
       "      <th>zipcode_98148</th>\n",
       "      <th>zipcode_98155</th>\n",
       "      <th>zipcode_98166</th>\n",
       "      <th>zipcode_98168</th>\n",
       "      <th>zipcode_98177</th>\n",
       "      <th>zipcode_98178</th>\n",
       "      <th>zipcode_98188</th>\n",
       "      <th>zipcode_98198</th>\n",
       "      <th>zipcode_98199</th>\n",
       "    </tr>\n",
       "  </thead>\n",
       "  <tbody>\n",
       "    <tr>\n",
       "      <th>0</th>\n",
       "      <td>221900</td>\n",
       "      <td>3</td>\n",
       "      <td>1.00</td>\n",
       "      <td>1180</td>\n",
       "      <td>5650</td>\n",
       "      <td>1.0</td>\n",
       "      <td>0</td>\n",
       "      <td>0</td>\n",
       "      <td>1955</td>\n",
       "      <td>10</td>\n",
       "      <td>...</td>\n",
       "      <td>0</td>\n",
       "      <td>0</td>\n",
       "      <td>0</td>\n",
       "      <td>0</td>\n",
       "      <td>0</td>\n",
       "      <td>0</td>\n",
       "      <td>1</td>\n",
       "      <td>0</td>\n",
       "      <td>0</td>\n",
       "      <td>0</td>\n",
       "    </tr>\n",
       "    <tr>\n",
       "      <th>1</th>\n",
       "      <td>538000</td>\n",
       "      <td>3</td>\n",
       "      <td>2.25</td>\n",
       "      <td>2570</td>\n",
       "      <td>7242</td>\n",
       "      <td>2.0</td>\n",
       "      <td>0</td>\n",
       "      <td>400</td>\n",
       "      <td>1951</td>\n",
       "      <td>12</td>\n",
       "      <td>...</td>\n",
       "      <td>0</td>\n",
       "      <td>0</td>\n",
       "      <td>0</td>\n",
       "      <td>0</td>\n",
       "      <td>0</td>\n",
       "      <td>0</td>\n",
       "      <td>0</td>\n",
       "      <td>0</td>\n",
       "      <td>0</td>\n",
       "      <td>0</td>\n",
       "    </tr>\n",
       "    <tr>\n",
       "      <th>2</th>\n",
       "      <td>180000</td>\n",
       "      <td>2</td>\n",
       "      <td>1.00</td>\n",
       "      <td>770</td>\n",
       "      <td>10000</td>\n",
       "      <td>1.0</td>\n",
       "      <td>0</td>\n",
       "      <td>0</td>\n",
       "      <td>1933</td>\n",
       "      <td>2</td>\n",
       "      <td>...</td>\n",
       "      <td>0</td>\n",
       "      <td>0</td>\n",
       "      <td>0</td>\n",
       "      <td>0</td>\n",
       "      <td>0</td>\n",
       "      <td>0</td>\n",
       "      <td>0</td>\n",
       "      <td>0</td>\n",
       "      <td>0</td>\n",
       "      <td>0</td>\n",
       "    </tr>\n",
       "    <tr>\n",
       "      <th>3</th>\n",
       "      <td>604000</td>\n",
       "      <td>4</td>\n",
       "      <td>3.00</td>\n",
       "      <td>1960</td>\n",
       "      <td>5000</td>\n",
       "      <td>1.0</td>\n",
       "      <td>0</td>\n",
       "      <td>910</td>\n",
       "      <td>1965</td>\n",
       "      <td>12</td>\n",
       "      <td>...</td>\n",
       "      <td>0</td>\n",
       "      <td>0</td>\n",
       "      <td>0</td>\n",
       "      <td>0</td>\n",
       "      <td>0</td>\n",
       "      <td>0</td>\n",
       "      <td>0</td>\n",
       "      <td>0</td>\n",
       "      <td>0</td>\n",
       "      <td>0</td>\n",
       "    </tr>\n",
       "    <tr>\n",
       "      <th>4</th>\n",
       "      <td>510000</td>\n",
       "      <td>3</td>\n",
       "      <td>2.00</td>\n",
       "      <td>1680</td>\n",
       "      <td>8080</td>\n",
       "      <td>1.0</td>\n",
       "      <td>0</td>\n",
       "      <td>0</td>\n",
       "      <td>1987</td>\n",
       "      <td>2</td>\n",
       "      <td>...</td>\n",
       "      <td>0</td>\n",
       "      <td>0</td>\n",
       "      <td>0</td>\n",
       "      <td>0</td>\n",
       "      <td>0</td>\n",
       "      <td>0</td>\n",
       "      <td>0</td>\n",
       "      <td>0</td>\n",
       "      <td>0</td>\n",
       "      <td>0</td>\n",
       "    </tr>\n",
       "  </tbody>\n",
       "</table>\n",
       "<p>5 rows × 98 columns</p>\n",
       "</div>"
      ],
      "text/plain": [
       "    price  bedrooms  bathrooms  sqft_living  sqft_lot  floors  waterfront  \\\n",
       "0  221900         3       1.00         1180      5650     1.0           0   \n",
       "1  538000         3       2.25         2570      7242     2.0           0   \n",
       "2  180000         2       1.00          770     10000     1.0           0   \n",
       "3  604000         4       3.00         1960      5000     1.0           0   \n",
       "4  510000         3       2.00         1680      8080     1.0           0   \n",
       "\n",
       "   sqft_basement  yr_built  month_sold  ...  zipcode_98146  zipcode_98148  \\\n",
       "0              0      1955          10  ...              0              0   \n",
       "1            400      1951          12  ...              0              0   \n",
       "2              0      1933           2  ...              0              0   \n",
       "3            910      1965          12  ...              0              0   \n",
       "4              0      1987           2  ...              0              0   \n",
       "\n",
       "   zipcode_98155  zipcode_98166  zipcode_98168  zipcode_98177  zipcode_98178  \\\n",
       "0              0              0              0              0              1   \n",
       "1              0              0              0              0              0   \n",
       "2              0              0              0              0              0   \n",
       "3              0              0              0              0              0   \n",
       "4              0              0              0              0              0   \n",
       "\n",
       "   zipcode_98188  zipcode_98198  zipcode_98199  \n",
       "0              0              0              0  \n",
       "1              0              0              0  \n",
       "2              0              0              0  \n",
       "3              0              0              0  \n",
       "4              0              0              0  \n",
       "\n",
       "[5 rows x 98 columns]"
      ]
     },
     "execution_count": 62,
     "metadata": {},
     "output_type": "execute_result"
    }
   ],
   "source": [
    "#checking to see the new dataset and ensuring that there is no missing values\n",
    "df_b.head()"
   ]
  },
  {
   "cell_type": "markdown",
   "metadata": {},
   "source": [
    "## Train-Test Split"
   ]
  },
  {
   "cell_type": "code",
   "execution_count": 63,
   "metadata": {},
   "outputs": [],
   "source": [
    "#importing the necessary libraries for train-test split\n",
    "import scipy.stats as stats\n",
    "from sklearn.model_selection import train_test_split\n",
    "from sklearn.linear_model import LinearRegression\n",
    "from sklearn.metrics import mean_squared_error"
   ]
  },
  {
   "cell_type": "code",
   "execution_count": 64,
   "metadata": {},
   "outputs": [],
   "source": [
    "y = df_b[['price']]\n",
    "X = df_b.drop(['price'], axis=1)"
   ]
  },
  {
   "cell_type": "code",
   "execution_count": 65,
   "metadata": {},
   "outputs": [],
   "source": [
    "X_train, X_test, y_train, y_test = train_test_split(X, y, test_size = 0.2, \n",
    "                                                    random_state = (123))"
   ]
  },
  {
   "cell_type": "code",
   "execution_count": 66,
   "metadata": {},
   "outputs": [
    {
     "name": "stdout",
     "output_type": "stream",
     "text": [
      "13326 3332 13326 3332\n"
     ]
    }
   ],
   "source": [
    "print(len(X_train), len(X_test), len(y_train), len(y_test))"
   ]
  },
  {
   "cell_type": "code",
   "execution_count": 67,
   "metadata": {},
   "outputs": [],
   "source": [
    "linreg = LinearRegression()\n",
    "linreg.fit(X_train, y_train)\n",
    "\n",
    "y_hat_train = linreg.predict(X_train)\n",
    "y_hat_test = linreg.predict(X_test)"
   ]
  },
  {
   "cell_type": "markdown",
   "metadata": {},
   "source": [
    "Looking at the residuals and finding the MSE for training and test sets"
   ]
  },
  {
   "cell_type": "code",
   "execution_count": 68,
   "metadata": {},
   "outputs": [],
   "source": [
    "train_residuals = y_hat_train - y_train\n",
    "test_residuals = y_hat_test - y_test"
   ]
  },
  {
   "cell_type": "code",
   "execution_count": 69,
   "metadata": {},
   "outputs": [
    {
     "name": "stdout",
     "output_type": "stream",
     "text": [
      "Train Mean Squarred Error: price    5.376342e+09\n",
      "dtype: float64\n",
      "Test Mean Squarred Error: price    5.610215e+09\n",
      "dtype: float64\n"
     ]
    }
   ],
   "source": [
    "mse_train = np.sum((y_train-y_hat_train)**2)/len(y_train)\n",
    "mse_test = np.sum((y_test-y_hat_test)**2)/len(y_test)\n",
    "print('Train Mean Squarred Error:', mse_train)\n",
    "print('Test Mean Squarred Error:', mse_test)"
   ]
  },
  {
   "cell_type": "code",
   "execution_count": 70,
   "metadata": {},
   "outputs": [
    {
     "name": "stdout",
     "output_type": "stream",
     "text": [
      "Train Mean Squarred Error: 5376342358.741447\n",
      "Test Mean Squarred Error: 5610215071.379043\n"
     ]
    }
   ],
   "source": [
    "train_mse = mean_squared_error(y_train, y_hat_train)\n",
    "test_mse = mean_squared_error(y_test, y_hat_test)\n",
    "print('Train Mean Squarred Error:', train_mse)\n",
    "print('Test Mean Squarred Error:', test_mse)"
   ]
  },
  {
   "cell_type": "markdown",
   "metadata": {},
   "source": [
    "## First Model - Baseline\n"
   ]
  },
  {
   "cell_type": "code",
   "execution_count": 71,
   "metadata": {},
   "outputs": [],
   "source": [
    "from statsmodels.formula.api import ols"
   ]
  },
  {
   "cell_type": "code",
   "execution_count": 72,
   "metadata": {},
   "outputs": [],
   "source": [
    "outcome = 'price'\n",
    "dftrain = pd.concat([X_train, y_train], axis = 1)"
   ]
  },
  {
   "cell_type": "code",
   "execution_count": 73,
   "metadata": {
    "scrolled": true
   },
   "outputs": [
    {
     "data": {
      "text/html": [
       "<table class=\"simpletable\">\n",
       "<caption>OLS Regression Results</caption>\n",
       "<tr>\n",
       "  <th>Dep. Variable:</th>          <td>price</td>      <th>  R-squared:         </th>  <td>   0.827</td>  \n",
       "</tr>\n",
       "<tr>\n",
       "  <th>Model:</th>                   <td>OLS</td>       <th>  Adj. R-squared:    </th>  <td>   0.826</td>  \n",
       "</tr>\n",
       "<tr>\n",
       "  <th>Method:</th>             <td>Least Squares</td>  <th>  F-statistic:       </th>  <td>   658.2</td>  \n",
       "</tr>\n",
       "<tr>\n",
       "  <th>Date:</th>             <td>Thu, 19 Nov 2020</td> <th>  Prob (F-statistic):</th>   <td>  0.00</td>   \n",
       "</tr>\n",
       "<tr>\n",
       "  <th>Time:</th>                 <td>19:13:31</td>     <th>  Log-Likelihood:    </th> <td>-1.6820e+05</td>\n",
       "</tr>\n",
       "<tr>\n",
       "  <th>No. Observations:</th>      <td> 13326</td>      <th>  AIC:               </th>  <td>3.366e+05</td> \n",
       "</tr>\n",
       "<tr>\n",
       "  <th>Df Residuals:</th>          <td> 13229</td>      <th>  BIC:               </th>  <td>3.373e+05</td> \n",
       "</tr>\n",
       "<tr>\n",
       "  <th>Df Model:</th>              <td>    96</td>      <th>                     </th>      <td> </td>     \n",
       "</tr>\n",
       "<tr>\n",
       "  <th>Covariance Type:</th>      <td>nonrobust</td>    <th>                     </th>      <td> </td>     \n",
       "</tr>\n",
       "</table>\n",
       "<table class=\"simpletable\">\n",
       "<tr>\n",
       "          <td></td>            <th>coef</th>     <th>std err</th>      <th>t</th>      <th>P>|t|</th>  <th>[0.025</th>    <th>0.975]</th>  \n",
       "</tr>\n",
       "<tr>\n",
       "  <th>Intercept</th>        <td> -5.39e+07</td> <td> 4.18e+06</td> <td>  -12.889</td> <td> 0.000</td> <td>-6.21e+07</td> <td>-4.57e+07</td>\n",
       "</tr>\n",
       "<tr>\n",
       "  <th>bedrooms</th>         <td>-3527.6963</td> <td> 1038.578</td> <td>   -3.397</td> <td> 0.001</td> <td>-5563.459</td> <td>-1491.934</td>\n",
       "</tr>\n",
       "<tr>\n",
       "  <th>bathrooms</th>        <td> 1.254e+04</td> <td> 1686.849</td> <td>    7.433</td> <td> 0.000</td> <td> 9231.734</td> <td> 1.58e+04</td>\n",
       "</tr>\n",
       "<tr>\n",
       "  <th>sqft_living</th>      <td>  125.8305</td> <td>    2.070</td> <td>   60.781</td> <td> 0.000</td> <td>  121.773</td> <td>  129.888</td>\n",
       "</tr>\n",
       "<tr>\n",
       "  <th>sqft_lot</th>         <td>    1.4897</td> <td>    0.282</td> <td>    5.274</td> <td> 0.000</td> <td>    0.936</td> <td>    2.043</td>\n",
       "</tr>\n",
       "<tr>\n",
       "  <th>floors</th>           <td> -1.67e+04</td> <td> 2020.580</td> <td>   -8.264</td> <td> 0.000</td> <td>-2.07e+04</td> <td>-1.27e+04</td>\n",
       "</tr>\n",
       "<tr>\n",
       "  <th>waterfront</th>       <td>  3.35e+05</td> <td> 2.08e+04</td> <td>   16.135</td> <td> 0.000</td> <td> 2.94e+05</td> <td> 3.76e+05</td>\n",
       "</tr>\n",
       "<tr>\n",
       "  <th>sqft_basement</th>    <td>  -55.8992</td> <td>    4.196</td> <td>  -13.322</td> <td> 0.000</td> <td>  -64.124</td> <td>  -47.675</td>\n",
       "</tr>\n",
       "<tr>\n",
       "  <th>yr_built</th>         <td> -513.5214</td> <td>   39.689</td> <td>  -12.939</td> <td> 0.000</td> <td> -591.318</td> <td> -435.725</td>\n",
       "</tr>\n",
       "<tr>\n",
       "  <th>month_sold</th>       <td> 2916.7939</td> <td>  881.356</td> <td>    3.309</td> <td> 0.001</td> <td> 1189.210</td> <td> 4644.377</td>\n",
       "</tr>\n",
       "<tr>\n",
       "  <th>year_sold</th>        <td> 3.395e+04</td> <td> 2593.006</td> <td>   13.091</td> <td> 0.000</td> <td> 2.89e+04</td> <td>  3.9e+04</td>\n",
       "</tr>\n",
       "<tr>\n",
       "  <th>sold_spring_time</th> <td>-1.348e+07</td> <td> 1.05e+06</td> <td>  -12.891</td> <td> 0.000</td> <td>-1.55e+07</td> <td>-1.14e+07</td>\n",
       "</tr>\n",
       "<tr>\n",
       "  <th>sold_summer_time</th> <td>-1.346e+07</td> <td> 1.05e+06</td> <td>  -12.884</td> <td> 0.000</td> <td>-1.55e+07</td> <td>-1.14e+07</td>\n",
       "</tr>\n",
       "<tr>\n",
       "  <th>sold_fall_time</th>   <td>-1.348e+07</td> <td> 1.05e+06</td> <td>  -12.893</td> <td> 0.000</td> <td>-1.55e+07</td> <td>-1.14e+07</td>\n",
       "</tr>\n",
       "<tr>\n",
       "  <th>sold_winter_time</th> <td>-1.348e+07</td> <td> 1.05e+06</td> <td>  -12.887</td> <td> 0.000</td> <td>-1.55e+07</td> <td>-1.14e+07</td>\n",
       "</tr>\n",
       "<tr>\n",
       "  <th>has_renovated</th>    <td>  2.19e+04</td> <td> 4232.259</td> <td>    5.174</td> <td> 0.000</td> <td> 1.36e+04</td> <td> 3.02e+04</td>\n",
       "</tr>\n",
       "<tr>\n",
       "  <th>has_basement</th>     <td> 1.502e+04</td> <td> 2783.756</td> <td>    5.397</td> <td> 0.000</td> <td> 9567.780</td> <td> 2.05e+04</td>\n",
       "</tr>\n",
       "<tr>\n",
       "  <th>condition_2</th>      <td> 5.032e+04</td> <td>    2e+04</td> <td>    2.520</td> <td> 0.012</td> <td> 1.12e+04</td> <td> 8.95e+04</td>\n",
       "</tr>\n",
       "<tr>\n",
       "  <th>condition_3</th>      <td> 9.166e+04</td> <td> 1.87e+04</td> <td>    4.908</td> <td> 0.000</td> <td> 5.51e+04</td> <td> 1.28e+05</td>\n",
       "</tr>\n",
       "<tr>\n",
       "  <th>condition_4</th>      <td> 1.107e+05</td> <td> 1.87e+04</td> <td>    5.926</td> <td> 0.000</td> <td> 7.41e+04</td> <td> 1.47e+05</td>\n",
       "</tr>\n",
       "<tr>\n",
       "  <th>condition_5</th>      <td> 1.397e+05</td> <td> 1.88e+04</td> <td>    7.437</td> <td> 0.000</td> <td> 1.03e+05</td> <td> 1.77e+05</td>\n",
       "</tr>\n",
       "<tr>\n",
       "  <th>grade_4</th>          <td>-9.671e+04</td> <td> 7.66e+04</td> <td>   -1.263</td> <td> 0.207</td> <td>-2.47e+05</td> <td> 5.34e+04</td>\n",
       "</tr>\n",
       "<tr>\n",
       "  <th>grade_5</th>          <td>-1.239e+05</td> <td> 7.42e+04</td> <td>   -1.670</td> <td> 0.095</td> <td>-2.69e+05</td> <td> 2.15e+04</td>\n",
       "</tr>\n",
       "<tr>\n",
       "  <th>grade_6</th>          <td>-1.099e+05</td> <td>  7.4e+04</td> <td>   -1.486</td> <td> 0.137</td> <td>-2.55e+05</td> <td> 3.51e+04</td>\n",
       "</tr>\n",
       "<tr>\n",
       "  <th>grade_7</th>          <td> -7.74e+04</td> <td>  7.4e+04</td> <td>   -1.046</td> <td> 0.296</td> <td>-2.22e+05</td> <td> 6.77e+04</td>\n",
       "</tr>\n",
       "<tr>\n",
       "  <th>grade_8</th>          <td>-3.258e+04</td> <td>  7.4e+04</td> <td>   -0.440</td> <td> 0.660</td> <td>-1.78e+05</td> <td> 1.13e+05</td>\n",
       "</tr>\n",
       "<tr>\n",
       "  <th>grade_9</th>          <td> 3.189e+04</td> <td> 7.41e+04</td> <td>    0.430</td> <td> 0.667</td> <td>-1.13e+05</td> <td> 1.77e+05</td>\n",
       "</tr>\n",
       "<tr>\n",
       "  <th>grade_10</th>         <td> 5.382e+04</td> <td> 7.42e+04</td> <td>    0.725</td> <td> 0.469</td> <td>-9.17e+04</td> <td> 1.99e+05</td>\n",
       "</tr>\n",
       "<tr>\n",
       "  <th>grade_11</th>         <td> 1.049e+05</td> <td> 7.62e+04</td> <td>    1.375</td> <td> 0.169</td> <td>-4.46e+04</td> <td> 2.54e+05</td>\n",
       "</tr>\n",
       "<tr>\n",
       "  <th>zipcode_98002</th>    <td> 4177.8626</td> <td> 7834.362</td> <td>    0.533</td> <td> 0.594</td> <td>-1.12e+04</td> <td> 1.95e+04</td>\n",
       "</tr>\n",
       "<tr>\n",
       "  <th>zipcode_98003</th>    <td> 2608.4257</td> <td> 7200.270</td> <td>    0.362</td> <td> 0.717</td> <td>-1.15e+04</td> <td> 1.67e+04</td>\n",
       "</tr>\n",
       "<tr>\n",
       "  <th>zipcode_98004</th>    <td> 4.839e+05</td> <td> 9677.045</td> <td>   50.002</td> <td> 0.000</td> <td> 4.65e+05</td> <td> 5.03e+05</td>\n",
       "</tr>\n",
       "<tr>\n",
       "  <th>zipcode_98005</th>    <td> 3.194e+05</td> <td>    1e+04</td> <td>   31.858</td> <td> 0.000</td> <td>    3e+05</td> <td> 3.39e+05</td>\n",
       "</tr>\n",
       "<tr>\n",
       "  <th>zipcode_98006</th>    <td> 2.595e+05</td> <td> 7122.948</td> <td>   36.429</td> <td> 0.000</td> <td> 2.46e+05</td> <td> 2.73e+05</td>\n",
       "</tr>\n",
       "<tr>\n",
       "  <th>zipcode_98007</th>    <td> 2.419e+05</td> <td> 9274.935</td> <td>   26.085</td> <td> 0.000</td> <td> 2.24e+05</td> <td>  2.6e+05</td>\n",
       "</tr>\n",
       "<tr>\n",
       "  <th>zipcode_98008</th>    <td> 2.414e+05</td> <td> 7255.409</td> <td>   33.269</td> <td> 0.000</td> <td> 2.27e+05</td> <td> 2.56e+05</td>\n",
       "</tr>\n",
       "<tr>\n",
       "  <th>zipcode_98010</th>    <td>  8.69e+04</td> <td> 1.27e+04</td> <td>    6.842</td> <td> 0.000</td> <td>  6.2e+04</td> <td> 1.12e+05</td>\n",
       "</tr>\n",
       "<tr>\n",
       "  <th>zipcode_98011</th>    <td>  1.55e+05</td> <td> 7958.713</td> <td>   19.479</td> <td> 0.000</td> <td> 1.39e+05</td> <td> 1.71e+05</td>\n",
       "</tr>\n",
       "<tr>\n",
       "  <th>zipcode_98014</th>    <td> 9.776e+04</td> <td> 1.37e+04</td> <td>    7.158</td> <td> 0.000</td> <td>  7.1e+04</td> <td> 1.25e+05</td>\n",
       "</tr>\n",
       "<tr>\n",
       "  <th>zipcode_98019</th>    <td> 1.014e+05</td> <td> 8632.104</td> <td>   11.750</td> <td> 0.000</td> <td> 8.45e+04</td> <td> 1.18e+05</td>\n",
       "</tr>\n",
       "<tr>\n",
       "  <th>zipcode_98022</th>    <td> 7687.1396</td> <td> 8369.601</td> <td>    0.918</td> <td> 0.358</td> <td>-8718.478</td> <td> 2.41e+04</td>\n",
       "</tr>\n",
       "<tr>\n",
       "  <th>zipcode_98023</th>    <td>-1.693e+04</td> <td> 6379.635</td> <td>   -2.653</td> <td> 0.008</td> <td>-2.94e+04</td> <td>-4422.233</td>\n",
       "</tr>\n",
       "<tr>\n",
       "  <th>zipcode_98024</th>    <td> 1.319e+05</td> <td> 1.81e+04</td> <td>    7.280</td> <td> 0.000</td> <td> 9.64e+04</td> <td> 1.67e+05</td>\n",
       "</tr>\n",
       "<tr>\n",
       "  <th>zipcode_98027</th>    <td> 2.319e+05</td> <td> 7492.187</td> <td>   30.952</td> <td> 0.000</td> <td> 2.17e+05</td> <td> 2.47e+05</td>\n",
       "</tr>\n",
       "<tr>\n",
       "  <th>zipcode_98028</th>    <td> 1.397e+05</td> <td> 7420.404</td> <td>   18.823</td> <td> 0.000</td> <td> 1.25e+05</td> <td> 1.54e+05</td>\n",
       "</tr>\n",
       "<tr>\n",
       "  <th>zipcode_98029</th>    <td> 2.394e+05</td> <td> 7148.389</td> <td>   33.497</td> <td> 0.000</td> <td> 2.25e+05</td> <td> 2.53e+05</td>\n",
       "</tr>\n",
       "<tr>\n",
       "  <th>zipcode_98030</th>    <td> 6286.1412</td> <td> 7418.777</td> <td>    0.847</td> <td> 0.397</td> <td>-8255.725</td> <td> 2.08e+04</td>\n",
       "</tr>\n",
       "<tr>\n",
       "  <th>zipcode_98031</th>    <td> 1.207e+04</td> <td> 7299.692</td> <td>    1.654</td> <td> 0.098</td> <td>-2236.641</td> <td> 2.64e+04</td>\n",
       "</tr>\n",
       "<tr>\n",
       "  <th>zipcode_98032</th>    <td>-8028.4551</td> <td> 9334.670</td> <td>   -0.860</td> <td> 0.390</td> <td>-2.63e+04</td> <td> 1.03e+04</td>\n",
       "</tr>\n",
       "<tr>\n",
       "  <th>zipcode_98033</th>    <td> 3.044e+05</td> <td> 6902.745</td> <td>   44.093</td> <td> 0.000</td> <td> 2.91e+05</td> <td> 3.18e+05</td>\n",
       "</tr>\n",
       "<tr>\n",
       "  <th>zipcode_98034</th>    <td> 1.865e+05</td> <td> 6281.720</td> <td>   29.695</td> <td> 0.000</td> <td> 1.74e+05</td> <td> 1.99e+05</td>\n",
       "</tr>\n",
       "<tr>\n",
       "  <th>zipcode_98038</th>    <td> 4.751e+04</td> <td> 6273.750</td> <td>    7.573</td> <td> 0.000</td> <td> 3.52e+04</td> <td> 5.98e+04</td>\n",
       "</tr>\n",
       "<tr>\n",
       "  <th>zipcode_98039</th>    <td> 5.791e+05</td> <td> 7.38e+04</td> <td>    7.846</td> <td> 0.000</td> <td> 4.34e+05</td> <td> 7.24e+05</td>\n",
       "</tr>\n",
       "<tr>\n",
       "  <th>zipcode_98040</th>    <td> 4.066e+05</td> <td> 9894.396</td> <td>   41.097</td> <td> 0.000</td> <td> 3.87e+05</td> <td> 4.26e+05</td>\n",
       "</tr>\n",
       "<tr>\n",
       "  <th>zipcode_98042</th>    <td> 1.039e+04</td> <td> 6360.737</td> <td>    1.634</td> <td> 0.102</td> <td>-2077.364</td> <td> 2.29e+04</td>\n",
       "</tr>\n",
       "<tr>\n",
       "  <th>zipcode_98045</th>    <td> 1.054e+05</td> <td> 8844.208</td> <td>   11.919</td> <td> 0.000</td> <td> 8.81e+04</td> <td> 1.23e+05</td>\n",
       "</tr>\n",
       "<tr>\n",
       "  <th>zipcode_98052</th>    <td> 2.569e+05</td> <td> 6365.553</td> <td>   40.356</td> <td> 0.000</td> <td> 2.44e+05</td> <td> 2.69e+05</td>\n",
       "</tr>\n",
       "<tr>\n",
       "  <th>zipcode_98053</th>    <td> 2.607e+05</td> <td> 7711.458</td> <td>   33.806</td> <td> 0.000</td> <td> 2.46e+05</td> <td> 2.76e+05</td>\n",
       "</tr>\n",
       "<tr>\n",
       "  <th>zipcode_98055</th>    <td> 4.001e+04</td> <td> 7360.204</td> <td>    5.435</td> <td> 0.000</td> <td> 2.56e+04</td> <td> 5.44e+04</td>\n",
       "</tr>\n",
       "<tr>\n",
       "  <th>zipcode_98056</th>    <td>  9.79e+04</td> <td> 6645.800</td> <td>   14.731</td> <td> 0.000</td> <td> 8.49e+04</td> <td> 1.11e+05</td>\n",
       "</tr>\n",
       "<tr>\n",
       "  <th>zipcode_98058</th>    <td> 3.538e+04</td> <td> 6631.192</td> <td>    5.336</td> <td> 0.000</td> <td> 2.24e+04</td> <td> 4.84e+04</td>\n",
       "</tr>\n",
       "<tr>\n",
       "  <th>zipcode_98059</th>    <td> 1.007e+05</td> <td> 6654.321</td> <td>   15.132</td> <td> 0.000</td> <td> 8.76e+04</td> <td> 1.14e+05</td>\n",
       "</tr>\n",
       "<tr>\n",
       "  <th>zipcode_98065</th>    <td> 1.496e+05</td> <td> 7190.869</td> <td>   20.799</td> <td> 0.000</td> <td> 1.35e+05</td> <td> 1.64e+05</td>\n",
       "</tr>\n",
       "<tr>\n",
       "  <th>zipcode_98070</th>    <td> 1.035e+05</td> <td> 1.97e+04</td> <td>    5.244</td> <td> 0.000</td> <td> 6.48e+04</td> <td> 1.42e+05</td>\n",
       "</tr>\n",
       "<tr>\n",
       "  <th>zipcode_98072</th>    <td> 1.528e+05</td> <td> 8704.855</td> <td>   17.555</td> <td> 0.000</td> <td> 1.36e+05</td> <td>  1.7e+05</td>\n",
       "</tr>\n",
       "<tr>\n",
       "  <th>zipcode_98074</th>    <td> 2.231e+05</td> <td> 6889.142</td> <td>   32.386</td> <td> 0.000</td> <td>  2.1e+05</td> <td> 2.37e+05</td>\n",
       "</tr>\n",
       "<tr>\n",
       "  <th>zipcode_98075</th>    <td> 2.434e+05</td> <td> 7898.521</td> <td>   30.814</td> <td> 0.000</td> <td> 2.28e+05</td> <td> 2.59e+05</td>\n",
       "</tr>\n",
       "<tr>\n",
       "  <th>zipcode_98077</th>    <td> 1.744e+05</td> <td> 1.54e+04</td> <td>   11.314</td> <td> 0.000</td> <td> 1.44e+05</td> <td> 2.05e+05</td>\n",
       "</tr>\n",
       "<tr>\n",
       "  <th>zipcode_98092</th>    <td>-1.805e+04</td> <td> 7267.836</td> <td>   -2.483</td> <td> 0.013</td> <td>-3.23e+04</td> <td>-3801.504</td>\n",
       "</tr>\n",
       "<tr>\n",
       "  <th>zipcode_98102</th>    <td> 3.681e+05</td> <td> 1.15e+04</td> <td>   32.090</td> <td> 0.000</td> <td> 3.46e+05</td> <td> 3.91e+05</td>\n",
       "</tr>\n",
       "<tr>\n",
       "  <th>zipcode_98103</th>    <td> 3.126e+05</td> <td> 6610.484</td> <td>   47.292</td> <td> 0.000</td> <td>    3e+05</td> <td> 3.26e+05</td>\n",
       "</tr>\n",
       "<tr>\n",
       "  <th>zipcode_98105</th>    <td> 3.503e+05</td> <td> 8727.387</td> <td>   40.141</td> <td> 0.000</td> <td> 3.33e+05</td> <td> 3.67e+05</td>\n",
       "</tr>\n",
       "<tr>\n",
       "  <th>zipcode_98106</th>    <td> 1.145e+05</td> <td> 6924.528</td> <td>   16.536</td> <td> 0.000</td> <td> 1.01e+05</td> <td> 1.28e+05</td>\n",
       "</tr>\n",
       "<tr>\n",
       "  <th>zipcode_98107</th>    <td> 3.192e+05</td> <td> 7596.045</td> <td>   42.023</td> <td> 0.000</td> <td> 3.04e+05</td> <td> 3.34e+05</td>\n",
       "</tr>\n",
       "<tr>\n",
       "  <th>zipcode_98108</th>    <td> 1.175e+05</td> <td> 8104.409</td> <td>   14.495</td> <td> 0.000</td> <td> 1.02e+05</td> <td> 1.33e+05</td>\n",
       "</tr>\n",
       "<tr>\n",
       "  <th>zipcode_98109</th>    <td> 3.883e+05</td> <td> 1.12e+04</td> <td>   34.644</td> <td> 0.000</td> <td> 3.66e+05</td> <td>  4.1e+05</td>\n",
       "</tr>\n",
       "<tr>\n",
       "  <th>zipcode_98112</th>    <td> 3.831e+05</td> <td> 9489.685</td> <td>   40.374</td> <td> 0.000</td> <td> 3.65e+05</td> <td> 4.02e+05</td>\n",
       "</tr>\n",
       "<tr>\n",
       "  <th>zipcode_98115</th>    <td> 3.084e+05</td> <td> 6507.442</td> <td>   47.397</td> <td> 0.000</td> <td> 2.96e+05</td> <td> 3.21e+05</td>\n",
       "</tr>\n",
       "<tr>\n",
       "  <th>zipcode_98116</th>    <td> 2.917e+05</td> <td> 7304.611</td> <td>   39.931</td> <td> 0.000</td> <td> 2.77e+05</td> <td> 3.06e+05</td>\n",
       "</tr>\n",
       "<tr>\n",
       "  <th>zipcode_98117</th>    <td> 2.991e+05</td> <td> 6512.000</td> <td>   45.926</td> <td> 0.000</td> <td> 2.86e+05</td> <td> 3.12e+05</td>\n",
       "</tr>\n",
       "<tr>\n",
       "  <th>zipcode_98118</th>    <td> 1.582e+05</td> <td> 6496.707</td> <td>   24.355</td> <td> 0.000</td> <td> 1.45e+05</td> <td> 1.71e+05</td>\n",
       "</tr>\n",
       "<tr>\n",
       "  <th>zipcode_98119</th>    <td> 3.979e+05</td> <td> 9520.931</td> <td>   41.790</td> <td> 0.000</td> <td> 3.79e+05</td> <td> 4.17e+05</td>\n",
       "</tr>\n",
       "<tr>\n",
       "  <th>zipcode_98122</th>    <td> 3.004e+05</td> <td> 7757.071</td> <td>   38.732</td> <td> 0.000</td> <td> 2.85e+05</td> <td> 3.16e+05</td>\n",
       "</tr>\n",
       "<tr>\n",
       "  <th>zipcode_98125</th>    <td> 1.935e+05</td> <td> 6630.406</td> <td>   29.184</td> <td> 0.000</td> <td> 1.81e+05</td> <td> 2.06e+05</td>\n",
       "</tr>\n",
       "<tr>\n",
       "  <th>zipcode_98126</th>    <td> 1.889e+05</td> <td> 6953.132</td> <td>   27.165</td> <td> 0.000</td> <td> 1.75e+05</td> <td> 2.03e+05</td>\n",
       "</tr>\n",
       "<tr>\n",
       "  <th>zipcode_98133</th>    <td> 1.464e+05</td> <td> 6349.634</td> <td>   23.060</td> <td> 0.000</td> <td> 1.34e+05</td> <td> 1.59e+05</td>\n",
       "</tr>\n",
       "<tr>\n",
       "  <th>zipcode_98136</th>    <td> 2.567e+05</td> <td> 7547.951</td> <td>   34.003</td> <td> 0.000</td> <td> 2.42e+05</td> <td> 2.71e+05</td>\n",
       "</tr>\n",
       "<tr>\n",
       "  <th>zipcode_98144</th>    <td> 2.383e+05</td> <td> 7297.481</td> <td>   32.657</td> <td> 0.000</td> <td> 2.24e+05</td> <td> 2.53e+05</td>\n",
       "</tr>\n",
       "<tr>\n",
       "  <th>zipcode_98146</th>    <td> 1.073e+05</td> <td> 7258.127</td> <td>   14.787</td> <td> 0.000</td> <td> 9.31e+04</td> <td> 1.22e+05</td>\n",
       "</tr>\n",
       "<tr>\n",
       "  <th>zipcode_98148</th>    <td> 5.843e+04</td> <td> 1.23e+04</td> <td>    4.734</td> <td> 0.000</td> <td> 3.42e+04</td> <td> 8.26e+04</td>\n",
       "</tr>\n",
       "<tr>\n",
       "  <th>zipcode_98155</th>    <td> 1.376e+05</td> <td> 6568.637</td> <td>   20.941</td> <td> 0.000</td> <td> 1.25e+05</td> <td>  1.5e+05</td>\n",
       "</tr>\n",
       "<tr>\n",
       "  <th>zipcode_98166</th>    <td> 9.686e+04</td> <td> 7956.155</td> <td>   12.174</td> <td> 0.000</td> <td> 8.13e+04</td> <td> 1.12e+05</td>\n",
       "</tr>\n",
       "<tr>\n",
       "  <th>zipcode_98168</th>    <td> 4.169e+04</td> <td> 7616.054</td> <td>    5.474</td> <td> 0.000</td> <td> 2.68e+04</td> <td> 5.66e+04</td>\n",
       "</tr>\n",
       "<tr>\n",
       "  <th>zipcode_98177</th>    <td> 2.072e+05</td> <td> 7885.800</td> <td>   26.279</td> <td> 0.000</td> <td> 1.92e+05</td> <td> 2.23e+05</td>\n",
       "</tr>\n",
       "<tr>\n",
       "  <th>zipcode_98178</th>    <td> 6.192e+04</td> <td> 7429.569</td> <td>    8.334</td> <td> 0.000</td> <td> 4.74e+04</td> <td> 7.65e+04</td>\n",
       "</tr>\n",
       "<tr>\n",
       "  <th>zipcode_98188</th>    <td> 3.391e+04</td> <td> 9248.870</td> <td>    3.667</td> <td> 0.000</td> <td> 1.58e+04</td> <td>  5.2e+04</td>\n",
       "</tr>\n",
       "<tr>\n",
       "  <th>zipcode_98198</th>    <td> 3.164e+04</td> <td> 7265.401</td> <td>    4.355</td> <td> 0.000</td> <td> 1.74e+04</td> <td> 4.59e+04</td>\n",
       "</tr>\n",
       "<tr>\n",
       "  <th>zipcode_98199</th>    <td> 3.371e+05</td> <td> 7657.902</td> <td>   44.023</td> <td> 0.000</td> <td> 3.22e+05</td> <td> 3.52e+05</td>\n",
       "</tr>\n",
       "</table>\n",
       "<table class=\"simpletable\">\n",
       "<tr>\n",
       "  <th>Omnibus:</th>       <td>882.377</td> <th>  Durbin-Watson:     </th> <td>   1.995</td>\n",
       "</tr>\n",
       "<tr>\n",
       "  <th>Prob(Omnibus):</th> <td> 0.000</td>  <th>  Jarque-Bera (JB):  </th> <td>3130.959</td>\n",
       "</tr>\n",
       "<tr>\n",
       "  <th>Skew:</th>          <td> 0.271</td>  <th>  Prob(JB):          </th> <td>    0.00</td>\n",
       "</tr>\n",
       "<tr>\n",
       "  <th>Kurtosis:</th>      <td> 5.312</td>  <th>  Cond. No.          </th> <td>5.12e+15</td>\n",
       "</tr>\n",
       "</table><br/><br/>Warnings:<br/>[1] Standard Errors assume that the covariance matrix of the errors is correctly specified.<br/>[2] The smallest eigenvalue is 3.58e-20. This might indicate that there are<br/>strong multicollinearity problems or that the design matrix is singular."
      ],
      "text/plain": [
       "<class 'statsmodels.iolib.summary.Summary'>\n",
       "\"\"\"\n",
       "                            OLS Regression Results                            \n",
       "==============================================================================\n",
       "Dep. Variable:                  price   R-squared:                       0.827\n",
       "Model:                            OLS   Adj. R-squared:                  0.826\n",
       "Method:                 Least Squares   F-statistic:                     658.2\n",
       "Date:                Thu, 19 Nov 2020   Prob (F-statistic):               0.00\n",
       "Time:                        19:13:31   Log-Likelihood:            -1.6820e+05\n",
       "No. Observations:               13326   AIC:                         3.366e+05\n",
       "Df Residuals:                   13229   BIC:                         3.373e+05\n",
       "Df Model:                          96                                         \n",
       "Covariance Type:            nonrobust                                         \n",
       "====================================================================================\n",
       "                       coef    std err          t      P>|t|      [0.025      0.975]\n",
       "------------------------------------------------------------------------------------\n",
       "Intercept         -5.39e+07   4.18e+06    -12.889      0.000   -6.21e+07   -4.57e+07\n",
       "bedrooms         -3527.6963   1038.578     -3.397      0.001   -5563.459   -1491.934\n",
       "bathrooms         1.254e+04   1686.849      7.433      0.000    9231.734    1.58e+04\n",
       "sqft_living        125.8305      2.070     60.781      0.000     121.773     129.888\n",
       "sqft_lot             1.4897      0.282      5.274      0.000       0.936       2.043\n",
       "floors            -1.67e+04   2020.580     -8.264      0.000   -2.07e+04   -1.27e+04\n",
       "waterfront         3.35e+05   2.08e+04     16.135      0.000    2.94e+05    3.76e+05\n",
       "sqft_basement      -55.8992      4.196    -13.322      0.000     -64.124     -47.675\n",
       "yr_built          -513.5214     39.689    -12.939      0.000    -591.318    -435.725\n",
       "month_sold        2916.7939    881.356      3.309      0.001    1189.210    4644.377\n",
       "year_sold         3.395e+04   2593.006     13.091      0.000    2.89e+04     3.9e+04\n",
       "sold_spring_time -1.348e+07   1.05e+06    -12.891      0.000   -1.55e+07   -1.14e+07\n",
       "sold_summer_time -1.346e+07   1.05e+06    -12.884      0.000   -1.55e+07   -1.14e+07\n",
       "sold_fall_time   -1.348e+07   1.05e+06    -12.893      0.000   -1.55e+07   -1.14e+07\n",
       "sold_winter_time -1.348e+07   1.05e+06    -12.887      0.000   -1.55e+07   -1.14e+07\n",
       "has_renovated      2.19e+04   4232.259      5.174      0.000    1.36e+04    3.02e+04\n",
       "has_basement      1.502e+04   2783.756      5.397      0.000    9567.780    2.05e+04\n",
       "condition_2       5.032e+04      2e+04      2.520      0.012    1.12e+04    8.95e+04\n",
       "condition_3       9.166e+04   1.87e+04      4.908      0.000    5.51e+04    1.28e+05\n",
       "condition_4       1.107e+05   1.87e+04      5.926      0.000    7.41e+04    1.47e+05\n",
       "condition_5       1.397e+05   1.88e+04      7.437      0.000    1.03e+05    1.77e+05\n",
       "grade_4          -9.671e+04   7.66e+04     -1.263      0.207   -2.47e+05    5.34e+04\n",
       "grade_5          -1.239e+05   7.42e+04     -1.670      0.095   -2.69e+05    2.15e+04\n",
       "grade_6          -1.099e+05    7.4e+04     -1.486      0.137   -2.55e+05    3.51e+04\n",
       "grade_7           -7.74e+04    7.4e+04     -1.046      0.296   -2.22e+05    6.77e+04\n",
       "grade_8          -3.258e+04    7.4e+04     -0.440      0.660   -1.78e+05    1.13e+05\n",
       "grade_9           3.189e+04   7.41e+04      0.430      0.667   -1.13e+05    1.77e+05\n",
       "grade_10          5.382e+04   7.42e+04      0.725      0.469   -9.17e+04    1.99e+05\n",
       "grade_11          1.049e+05   7.62e+04      1.375      0.169   -4.46e+04    2.54e+05\n",
       "zipcode_98002     4177.8626   7834.362      0.533      0.594   -1.12e+04    1.95e+04\n",
       "zipcode_98003     2608.4257   7200.270      0.362      0.717   -1.15e+04    1.67e+04\n",
       "zipcode_98004     4.839e+05   9677.045     50.002      0.000    4.65e+05    5.03e+05\n",
       "zipcode_98005     3.194e+05      1e+04     31.858      0.000       3e+05    3.39e+05\n",
       "zipcode_98006     2.595e+05   7122.948     36.429      0.000    2.46e+05    2.73e+05\n",
       "zipcode_98007     2.419e+05   9274.935     26.085      0.000    2.24e+05     2.6e+05\n",
       "zipcode_98008     2.414e+05   7255.409     33.269      0.000    2.27e+05    2.56e+05\n",
       "zipcode_98010      8.69e+04   1.27e+04      6.842      0.000     6.2e+04    1.12e+05\n",
       "zipcode_98011      1.55e+05   7958.713     19.479      0.000    1.39e+05    1.71e+05\n",
       "zipcode_98014     9.776e+04   1.37e+04      7.158      0.000     7.1e+04    1.25e+05\n",
       "zipcode_98019     1.014e+05   8632.104     11.750      0.000    8.45e+04    1.18e+05\n",
       "zipcode_98022     7687.1396   8369.601      0.918      0.358   -8718.478    2.41e+04\n",
       "zipcode_98023    -1.693e+04   6379.635     -2.653      0.008   -2.94e+04   -4422.233\n",
       "zipcode_98024     1.319e+05   1.81e+04      7.280      0.000    9.64e+04    1.67e+05\n",
       "zipcode_98027     2.319e+05   7492.187     30.952      0.000    2.17e+05    2.47e+05\n",
       "zipcode_98028     1.397e+05   7420.404     18.823      0.000    1.25e+05    1.54e+05\n",
       "zipcode_98029     2.394e+05   7148.389     33.497      0.000    2.25e+05    2.53e+05\n",
       "zipcode_98030     6286.1412   7418.777      0.847      0.397   -8255.725    2.08e+04\n",
       "zipcode_98031     1.207e+04   7299.692      1.654      0.098   -2236.641    2.64e+04\n",
       "zipcode_98032    -8028.4551   9334.670     -0.860      0.390   -2.63e+04    1.03e+04\n",
       "zipcode_98033     3.044e+05   6902.745     44.093      0.000    2.91e+05    3.18e+05\n",
       "zipcode_98034     1.865e+05   6281.720     29.695      0.000    1.74e+05    1.99e+05\n",
       "zipcode_98038     4.751e+04   6273.750      7.573      0.000    3.52e+04    5.98e+04\n",
       "zipcode_98039     5.791e+05   7.38e+04      7.846      0.000    4.34e+05    7.24e+05\n",
       "zipcode_98040     4.066e+05   9894.396     41.097      0.000    3.87e+05    4.26e+05\n",
       "zipcode_98042     1.039e+04   6360.737      1.634      0.102   -2077.364    2.29e+04\n",
       "zipcode_98045     1.054e+05   8844.208     11.919      0.000    8.81e+04    1.23e+05\n",
       "zipcode_98052     2.569e+05   6365.553     40.356      0.000    2.44e+05    2.69e+05\n",
       "zipcode_98053     2.607e+05   7711.458     33.806      0.000    2.46e+05    2.76e+05\n",
       "zipcode_98055     4.001e+04   7360.204      5.435      0.000    2.56e+04    5.44e+04\n",
       "zipcode_98056      9.79e+04   6645.800     14.731      0.000    8.49e+04    1.11e+05\n",
       "zipcode_98058     3.538e+04   6631.192      5.336      0.000    2.24e+04    4.84e+04\n",
       "zipcode_98059     1.007e+05   6654.321     15.132      0.000    8.76e+04    1.14e+05\n",
       "zipcode_98065     1.496e+05   7190.869     20.799      0.000    1.35e+05    1.64e+05\n",
       "zipcode_98070     1.035e+05   1.97e+04      5.244      0.000    6.48e+04    1.42e+05\n",
       "zipcode_98072     1.528e+05   8704.855     17.555      0.000    1.36e+05     1.7e+05\n",
       "zipcode_98074     2.231e+05   6889.142     32.386      0.000     2.1e+05    2.37e+05\n",
       "zipcode_98075     2.434e+05   7898.521     30.814      0.000    2.28e+05    2.59e+05\n",
       "zipcode_98077     1.744e+05   1.54e+04     11.314      0.000    1.44e+05    2.05e+05\n",
       "zipcode_98092    -1.805e+04   7267.836     -2.483      0.013   -3.23e+04   -3801.504\n",
       "zipcode_98102     3.681e+05   1.15e+04     32.090      0.000    3.46e+05    3.91e+05\n",
       "zipcode_98103     3.126e+05   6610.484     47.292      0.000       3e+05    3.26e+05\n",
       "zipcode_98105     3.503e+05   8727.387     40.141      0.000    3.33e+05    3.67e+05\n",
       "zipcode_98106     1.145e+05   6924.528     16.536      0.000    1.01e+05    1.28e+05\n",
       "zipcode_98107     3.192e+05   7596.045     42.023      0.000    3.04e+05    3.34e+05\n",
       "zipcode_98108     1.175e+05   8104.409     14.495      0.000    1.02e+05    1.33e+05\n",
       "zipcode_98109     3.883e+05   1.12e+04     34.644      0.000    3.66e+05     4.1e+05\n",
       "zipcode_98112     3.831e+05   9489.685     40.374      0.000    3.65e+05    4.02e+05\n",
       "zipcode_98115     3.084e+05   6507.442     47.397      0.000    2.96e+05    3.21e+05\n",
       "zipcode_98116     2.917e+05   7304.611     39.931      0.000    2.77e+05    3.06e+05\n",
       "zipcode_98117     2.991e+05   6512.000     45.926      0.000    2.86e+05    3.12e+05\n",
       "zipcode_98118     1.582e+05   6496.707     24.355      0.000    1.45e+05    1.71e+05\n",
       "zipcode_98119     3.979e+05   9520.931     41.790      0.000    3.79e+05    4.17e+05\n",
       "zipcode_98122     3.004e+05   7757.071     38.732      0.000    2.85e+05    3.16e+05\n",
       "zipcode_98125     1.935e+05   6630.406     29.184      0.000    1.81e+05    2.06e+05\n",
       "zipcode_98126     1.889e+05   6953.132     27.165      0.000    1.75e+05    2.03e+05\n",
       "zipcode_98133     1.464e+05   6349.634     23.060      0.000    1.34e+05    1.59e+05\n",
       "zipcode_98136     2.567e+05   7547.951     34.003      0.000    2.42e+05    2.71e+05\n",
       "zipcode_98144     2.383e+05   7297.481     32.657      0.000    2.24e+05    2.53e+05\n",
       "zipcode_98146     1.073e+05   7258.127     14.787      0.000    9.31e+04    1.22e+05\n",
       "zipcode_98148     5.843e+04   1.23e+04      4.734      0.000    3.42e+04    8.26e+04\n",
       "zipcode_98155     1.376e+05   6568.637     20.941      0.000    1.25e+05     1.5e+05\n",
       "zipcode_98166     9.686e+04   7956.155     12.174      0.000    8.13e+04    1.12e+05\n",
       "zipcode_98168     4.169e+04   7616.054      5.474      0.000    2.68e+04    5.66e+04\n",
       "zipcode_98177     2.072e+05   7885.800     26.279      0.000    1.92e+05    2.23e+05\n",
       "zipcode_98178     6.192e+04   7429.569      8.334      0.000    4.74e+04    7.65e+04\n",
       "zipcode_98188     3.391e+04   9248.870      3.667      0.000    1.58e+04     5.2e+04\n",
       "zipcode_98198     3.164e+04   7265.401      4.355      0.000    1.74e+04    4.59e+04\n",
       "zipcode_98199     3.371e+05   7657.902     44.023      0.000    3.22e+05    3.52e+05\n",
       "==============================================================================\n",
       "Omnibus:                      882.377   Durbin-Watson:                   1.995\n",
       "Prob(Omnibus):                  0.000   Jarque-Bera (JB):             3130.959\n",
       "Skew:                           0.271   Prob(JB):                         0.00\n",
       "Kurtosis:                       5.312   Cond. No.                     5.12e+15\n",
       "==============================================================================\n",
       "\n",
       "Warnings:\n",
       "[1] Standard Errors assume that the covariance matrix of the errors is correctly specified.\n",
       "[2] The smallest eigenvalue is 3.58e-20. This might indicate that there are\n",
       "strong multicollinearity problems or that the design matrix is singular.\n",
       "\"\"\""
      ]
     },
     "execution_count": 73,
     "metadata": {},
     "output_type": "execute_result"
    }
   ],
   "source": [
    "# Fitting the actual model\n",
    "predictors = '+'.join(X.columns)\n",
    "formula = outcome + '~' + predictors\n",
    "model = ols(formula=formula, data = dftrain).fit()\n",
    "model.summary()"
   ]
  },
  {
   "cell_type": "markdown",
   "metadata": {},
   "source": [
    "R-squared: 0.826\n",
    "\n",
    "Adj R-squared: 0.825\n",
    "\n",
    "Number of significant p_values: 13"
   ]
  },
  {
   "cell_type": "markdown",
   "metadata": {},
   "source": [
    "### Checking QQ Plot"
   ]
  },
  {
   "cell_type": "code",
   "execution_count": 74,
   "metadata": {},
   "outputs": [],
   "source": [
    "import statsmodels.api as sm"
   ]
  },
  {
   "cell_type": "code",
   "execution_count": 75,
   "metadata": {},
   "outputs": [
    {
     "data": {
      "image/png": "[encoded data removed]",
      "text/plain": [
       "<Figure size 432x288 with 1 Axes>"
      ]
     },
     "metadata": {},
     "output_type": "display_data"
    }
   ],
   "source": [
    "fig = sm.graphics.qqplot(model.resid, dist=stats.norm, line='45', fit=True)"
   ]
  },
  {
   "cell_type": "markdown",
   "metadata": {},
   "source": [
    "### Checking for Homoscedasticity"
   ]
  },
  {
   "cell_type": "code",
   "execution_count": 76,
   "metadata": {},
   "outputs": [
    {
     "data": {
      "text/plain": [
       "[<matplotlib.lines.Line2D at 0x22690988b00>]"
      ]
     },
     "execution_count": 76,
     "metadata": {},
     "output_type": "execute_result"
    },
    {
     "data": {
      "image/png": "[encoded data removed]",
      "text/plain": [
       "<Figure size 432x288 with 1 Axes>"
      ]
     },
     "metadata": {},
     "output_type": "display_data"
    }
   ],
   "source": [
    "plt.scatter(model.predict(dftrain[X.columns]), model.resid)\n",
    "plt.plot(model.predict(dftrain[X.columns]), [0 for i in range(len(dftrain))])"
   ]
  },
  {
   "cell_type": "markdown",
   "metadata": {},
   "source": [
    "## Second Model - Multicollinearies"
   ]
  },
  {
   "cell_type": "code",
   "execution_count": 77,
   "metadata": {
    "code_folding": []
   },
   "outputs": [],
   "source": [
    "#Importing variance inflation factor to check for multicollinearies \n",
    "from statsmodels.stats.outliers_influence import variance_inflation_factor"
   ]
  },
  {
   "cell_type": "code",
   "execution_count": 78,
   "metadata": {
    "scrolled": true
   },
   "outputs": [
    {
     "data": {
      "text/plain": [
       "[('bedrooms', 1.8486457317494929),\n",
       " ('bathrooms', 3.134798084509153),\n",
       " ('sqft_living', 4.497053988010726),\n",
       " ('sqft_lot', 2.1370658150426642),\n",
       " ('floors', 2.9333031977278),\n",
       " ('waterfront', 1.0524487446167563),\n",
       " ('sqft_basement', 5.455682442773614),\n",
       " ('yr_built', 3.449855116204015),\n",
       " ('month_sold', 18.59815009628652),\n",
       " ('year_sold', 3.644949779844314),\n",
       " ('sold_spring_time', 12961382.45735248),\n",
       " ('sold_summer_time', 21014032.548201226),\n",
       " ('sold_fall_time', 18578191.557492092),\n",
       " ('sold_winter_time', 14981192.955795307),\n",
       " ('has_renovated', 1.111517553875704),\n",
       " ('has_basement', 4.4517004552066),\n",
       " ('condition_2', 7.777263110420177),\n",
       " ('condition_3', 213.9301250303895),\n",
       " ('condition_4', 182.07763476845517),\n",
       " ('condition_5', 67.59266186796314),\n",
       " ('grade_4', 18.140114973568046),\n",
       " ('grade_5', 179.58485704693632),\n",
       " ('grade_6', 1621.8206696248637),\n",
       " ('grade_7', 4196.256949202702),\n",
       " ('grade_8', 3461.1357344450926),\n",
       " ('grade_9', 1380.6300188227347),\n",
       " ('grade_10', 328.2306496186602),\n",
       " ('grade_11', 21.248708359188957),\n",
       " ('zipcode_98002', 1.6597276290354281),\n",
       " ('zipcode_98003', 1.8610024213772667),\n",
       " ('zipcode_98004', 1.3215495483213053),\n",
       " ('zipcode_98005', 1.3268587201689606),\n",
       " ('zipcode_98006', 1.98625155772593),\n",
       " ('zipcode_98007', 1.4108494217975662),\n",
       " ('zipcode_98008', 1.8385785330955668),\n",
       " ('zipcode_98010', 1.1621111204751096),\n",
       " ('zipcode_98011', 1.5879926635113635),\n",
       " ('zipcode_98014', 1.1490807617690808),\n",
       " ('zipcode_98019', 1.4732723078627346),\n",
       " ('zipcode_98022', 1.4970217345446286),\n",
       " ('zipcode_98023', 2.508296916642499),\n",
       " ('zipcode_98024', 1.0897091441932245),\n",
       " ('zipcode_98027', 1.802796136003164),\n",
       " ('zipcode_98028', 1.7990355661463768),\n",
       " ('zipcode_98029', 2.011275841596601),\n",
       " ('zipcode_98030', 1.7897016699925445),\n",
       " ('zipcode_98031', 1.8226927421964774),\n",
       " ('zipcode_98032', 1.379517435451475),\n",
       " ('zipcode_98033', 2.0258589115854675),\n",
       " ('zipcode_98034', 2.6004445242012117),\n",
       " ('zipcode_98038', 2.62717676927505),\n",
       " ('zipcode_98039', 1.0113754031637954),\n",
       " ('zipcode_98040', 1.3445061031623735),\n",
       " ('zipcode_98042', 2.4474218907562997),\n",
       " ('zipcode_98045', 1.4619669172651262),\n",
       " ('zipcode_98052', 2.58859726323662),\n",
       " ('zipcode_98053', 1.8039504228027747),\n",
       " ('zipcode_98055', 1.8385616767442245),\n",
       " ('zipcode_98056', 2.251968525056005),\n",
       " ('zipcode_98058', 2.2518554358573892),\n",
       " ('zipcode_98059', 2.2007484402281245),\n",
       " ('zipcode_98065', 1.9480326194841362),\n",
       " ('zipcode_98070', 1.098589383360149),\n",
       " ('zipcode_98072', 1.4636433144870653),\n",
       " ('zipcode_98074', 2.178952164172031),\n",
       " ('zipcode_98075', 1.834461793662628),\n",
       " ('zipcode_98077', 1.1674788507178155),\n",
       " ('zipcode_98092', 1.8278729745180327),\n",
       " ('zipcode_98102', 1.3059067862109204),\n",
       " ('zipcode_98103', 3.24005140306379),\n",
       " ('zipcode_98105', 1.6344295180724244),\n",
       " ('zipcode_98106', 2.176758674387577),\n",
       " ('zipcode_98107', 2.0450234977706097),\n",
       " ('zipcode_98108', 1.6635179850804391),\n",
       " ('zipcode_98109', 1.3223327481221856),\n",
       " ('zipcode_98112', 1.5524653522284628),\n",
       " ('zipcode_98115', 2.956324180488534),\n",
       " ('zipcode_98116', 2.1219075230558238),\n",
       " ('zipcode_98117', 2.983547949223212),\n",
       " ('zipcode_98118', 2.776607964063458),\n",
       " ('zipcode_98119', 1.5592944068842625),\n",
       " ('zipcode_98122', 2.0625940433918815),\n",
       " ('zipcode_98125', 2.319754231594826),\n",
       " ('zipcode_98126', 2.2729347034948844),\n",
       " ('zipcode_98133', 2.654122731218075),\n",
       " ('zipcode_98136', 1.8986945654254268),\n",
       " ('zipcode_98144', 2.169283246637599),\n",
       " ('zipcode_98146', 1.8986124099175783),\n",
       " ('zipcode_98148', 1.190318827322652),\n",
       " ('zipcode_98155', 2.330280631421677),\n",
       " ('zipcode_98166', 1.671249275824951),\n",
       " ('zipcode_98168', 1.794276813299541),\n",
       " ('zipcode_98177', 1.6690605696377951),\n",
       " ('zipcode_98178', 1.8582315961728615),\n",
       " ('zipcode_98188', 1.4159667123196253),\n",
       " ('zipcode_98198', 1.8088927152281173),\n",
       " ('zipcode_98199', 1.892722501447177)]"
      ]
     },
     "execution_count": 78,
     "metadata": {},
     "output_type": "execute_result"
    }
   ],
   "source": [
    "col = df_b[X.columns]\n",
    "vif = [variance_inflation_factor(col.values, i) for i in range(col.shape[1])]\n",
    "list(zip(X.columns, vif))"
   ]
  },
  {
   "cell_type": "code",
   "execution_count": 79,
   "metadata": {},
   "outputs": [
    {
     "name": "stdout",
     "output_type": "stream",
     "text": [
      "97 16\n"
     ]
    }
   ],
   "source": [
    "vif_scores = list(zip(X.columns, vif))\n",
    "v_test = [x for x, vif in vif_scores if vif > 10]\n",
    "print(len(vif_scores), len(v_test))"
   ]
  },
  {
   "cell_type": "code",
   "execution_count": 80,
   "metadata": {},
   "outputs": [
    {
     "data": {
      "text/plain": [
       "['month_sold',\n",
       " 'sold_spring_time',\n",
       " 'sold_summer_time',\n",
       " 'sold_fall_time',\n",
       " 'sold_winter_time',\n",
       " 'condition_3',\n",
       " 'condition_4',\n",
       " 'condition_5',\n",
       " 'grade_4',\n",
       " 'grade_5',\n",
       " 'grade_6',\n",
       " 'grade_7',\n",
       " 'grade_8',\n",
       " 'grade_9',\n",
       " 'grade_10',\n",
       " 'grade_11']"
      ]
     },
     "execution_count": 80,
     "metadata": {},
     "output_type": "execute_result"
    }
   ],
   "source": [
    "v_test"
   ]
  },
  {
   "cell_type": "code",
   "execution_count": 81,
   "metadata": {},
   "outputs": [],
   "source": [
    "for v in v_test:\n",
    "    dftrain.drop(v, axis=1, inplace=True)"
   ]
  },
  {
   "cell_type": "code",
   "execution_count": 82,
   "metadata": {
    "scrolled": true
   },
   "outputs": [
    {
     "name": "stdout",
     "output_type": "stream",
     "text": [
      "<class 'pandas.core.frame.DataFrame'>\n",
      "Int64Index: 13326 entries, 16497 to 20474\n",
      "Data columns (total 82 columns):\n",
      "bedrooms         13326 non-null int64\n",
      "bathrooms        13326 non-null float64\n",
      "sqft_living      13326 non-null int64\n",
      "sqft_lot         13326 non-null int64\n",
      "floors           13326 non-null float64\n",
      "waterfront       13326 non-null int32\n",
      "sqft_basement    13326 non-null int32\n",
      "yr_built         13326 non-null int64\n",
      "year_sold        13326 non-null int64\n",
      "has_renovated    13326 non-null int32\n",
      "has_basement     13326 non-null int32\n",
      "condition_2      13326 non-null int32\n",
      "zipcode_98002    13326 non-null int32\n",
      "zipcode_98003    13326 non-null int32\n",
      "zipcode_98004    13326 non-null int32\n",
      "zipcode_98005    13326 non-null int32\n",
      "zipcode_98006    13326 non-null int32\n",
      "zipcode_98007    13326 non-null int32\n",
      "zipcode_98008    13326 non-null int32\n",
      "zipcode_98010    13326 non-null int32\n",
      "zipcode_98011    13326 non-null int32\n",
      "zipcode_98014    13326 non-null int32\n",
      "zipcode_98019    13326 non-null int32\n",
      "zipcode_98022    13326 non-null int32\n",
      "zipcode_98023    13326 non-null int32\n",
      "zipcode_98024    13326 non-null int32\n",
      "zipcode_98027    13326 non-null int32\n",
      "zipcode_98028    13326 non-null int32\n",
      "zipcode_98029    13326 non-null int32\n",
      "zipcode_98030    13326 non-null int32\n",
      "zipcode_98031    13326 non-null int32\n",
      "zipcode_98032    13326 non-null int32\n",
      "zipcode_98033    13326 non-null int32\n",
      "zipcode_98034    13326 non-null int32\n",
      "zipcode_98038    13326 non-null int32\n",
      "zipcode_98039    13326 non-null int32\n",
      "zipcode_98040    13326 non-null int32\n",
      "zipcode_98042    13326 non-null int32\n",
      "zipcode_98045    13326 non-null int32\n",
      "zipcode_98052    13326 non-null int32\n",
      "zipcode_98053    13326 non-null int32\n",
      "zipcode_98055    13326 non-null int32\n",
      "zipcode_98056    13326 non-null int32\n",
      "zipcode_98058    13326 non-null int32\n",
      "zipcode_98059    13326 non-null int32\n",
      "zipcode_98065    13326 non-null int32\n",
      "zipcode_98070    13326 non-null int32\n",
      "zipcode_98072    13326 non-null int32\n",
      "zipcode_98074    13326 non-null int32\n",
      "zipcode_98075    13326 non-null int32\n",
      "zipcode_98077    13326 non-null int32\n",
      "zipcode_98092    13326 non-null int32\n",
      "zipcode_98102    13326 non-null int32\n",
      "zipcode_98103    13326 non-null int32\n",
      "zipcode_98105    13326 non-null int32\n",
      "zipcode_98106    13326 non-null int32\n",
      "zipcode_98107    13326 non-null int32\n",
      "zipcode_98108    13326 non-null int32\n",
      "zipcode_98109    13326 non-null int32\n",
      "zipcode_98112    13326 non-null int32\n",
      "zipcode_98115    13326 non-null int32\n",
      "zipcode_98116    13326 non-null int32\n",
      "zipcode_98117    13326 non-null int32\n",
      "zipcode_98118    13326 non-null int32\n",
      "zipcode_98119    13326 non-null int32\n",
      "zipcode_98122    13326 non-null int32\n",
      "zipcode_98125    13326 non-null int32\n",
      "zipcode_98126    13326 non-null int32\n",
      "zipcode_98133    13326 non-null int32\n",
      "zipcode_98136    13326 non-null int32\n",
      "zipcode_98144    13326 non-null int32\n",
      "zipcode_98146    13326 non-null int32\n",
      "zipcode_98148    13326 non-null int32\n",
      "zipcode_98155    13326 non-null int32\n",
      "zipcode_98166    13326 non-null int32\n",
      "zipcode_98168    13326 non-null int32\n",
      "zipcode_98177    13326 non-null int32\n",
      "zipcode_98178    13326 non-null int32\n",
      "zipcode_98188    13326 non-null int32\n",
      "zipcode_98198    13326 non-null int32\n",
      "zipcode_98199    13326 non-null int32\n",
      "price            13326 non-null int32\n",
      "dtypes: float64(2), int32(75), int64(5)\n",
      "memory usage: 4.6 MB\n"
     ]
    }
   ],
   "source": [
    "dftrain.info()"
   ]
  },
  {
   "cell_type": "code",
   "execution_count": 83,
   "metadata": {
    "scrolled": true
   },
   "outputs": [
    {
     "data": {
      "text/html": [
       "<table class=\"simpletable\">\n",
       "<caption>OLS Regression Results</caption>\n",
       "<tr>\n",
       "  <th>Dep. Variable:</th>          <td>price</td>      <th>  R-squared:         </th>  <td>   0.801</td>  \n",
       "</tr>\n",
       "<tr>\n",
       "  <th>Model:</th>                   <td>OLS</td>       <th>  Adj. R-squared:    </th>  <td>   0.799</td>  \n",
       "</tr>\n",
       "<tr>\n",
       "  <th>Method:</th>             <td>Least Squares</td>  <th>  F-statistic:       </th>  <td>   656.8</td>  \n",
       "</tr>\n",
       "<tr>\n",
       "  <th>Date:</th>             <td>Thu, 19 Nov 2020</td> <th>  Prob (F-statistic):</th>   <td>  0.00</td>   \n",
       "</tr>\n",
       "<tr>\n",
       "  <th>Time:</th>                 <td>19:13:44</td>     <th>  Log-Likelihood:    </th> <td>-1.6913e+05</td>\n",
       "</tr>\n",
       "<tr>\n",
       "  <th>No. Observations:</th>      <td> 13326</td>      <th>  AIC:               </th>  <td>3.384e+05</td> \n",
       "</tr>\n",
       "<tr>\n",
       "  <th>Df Residuals:</th>          <td> 13244</td>      <th>  BIC:               </th>  <td>3.390e+05</td> \n",
       "</tr>\n",
       "<tr>\n",
       "  <th>Df Model:</th>              <td>    81</td>      <th>                     </th>      <td> </td>     \n",
       "</tr>\n",
       "<tr>\n",
       "  <th>Covariance Type:</th>      <td>nonrobust</td>    <th>                     </th>      <td> </td>     \n",
       "</tr>\n",
       "</table>\n",
       "<table class=\"simpletable\">\n",
       "<tr>\n",
       "        <td></td>           <th>coef</th>     <th>std err</th>      <th>t</th>      <th>P>|t|</th>  <th>[0.025</th>    <th>0.975]</th>  \n",
       "</tr>\n",
       "<tr>\n",
       "  <th>Intercept</th>     <td>-4.042e+07</td> <td> 2.96e+06</td> <td>  -13.671</td> <td> 0.000</td> <td>-4.62e+07</td> <td>-3.46e+07</td>\n",
       "</tr>\n",
       "<tr>\n",
       "  <th>bedrooms</th>      <td>-9281.4843</td> <td> 1090.411</td> <td>   -8.512</td> <td> 0.000</td> <td>-1.14e+04</td> <td>-7144.123</td>\n",
       "</tr>\n",
       "<tr>\n",
       "  <th>bathrooms</th>     <td> 1.788e+04</td> <td> 1783.869</td> <td>   10.023</td> <td> 0.000</td> <td> 1.44e+04</td> <td> 2.14e+04</td>\n",
       "</tr>\n",
       "<tr>\n",
       "  <th>sqft_living</th>   <td>  163.8056</td> <td>    1.911</td> <td>   85.719</td> <td> 0.000</td> <td>  160.060</td> <td>  167.551</td>\n",
       "</tr>\n",
       "<tr>\n",
       "  <th>sqft_lot</th>      <td>    2.4154</td> <td>    0.300</td> <td>    8.048</td> <td> 0.000</td> <td>    1.827</td> <td>    3.004</td>\n",
       "</tr>\n",
       "<tr>\n",
       "  <th>floors</th>        <td>-1.471e+04</td> <td> 2155.192</td> <td>   -6.826</td> <td> 0.000</td> <td>-1.89e+04</td> <td>-1.05e+04</td>\n",
       "</tr>\n",
       "<tr>\n",
       "  <th>waterfront</th>    <td> 3.355e+05</td> <td> 2.22e+04</td> <td>   15.112</td> <td> 0.000</td> <td> 2.92e+05</td> <td> 3.79e+05</td>\n",
       "</tr>\n",
       "<tr>\n",
       "  <th>sqft_basement</th> <td>  -75.2671</td> <td>    4.411</td> <td>  -17.065</td> <td> 0.000</td> <td>  -83.913</td> <td>  -66.622</td>\n",
       "</tr>\n",
       "<tr>\n",
       "  <th>yr_built</th>      <td> -313.5706</td> <td>   38.209</td> <td>   -8.207</td> <td> 0.000</td> <td> -388.466</td> <td> -238.675</td>\n",
       "</tr>\n",
       "<tr>\n",
       "  <th>year_sold</th>     <td> 2.036e+04</td> <td> 1467.397</td> <td>   13.872</td> <td> 0.000</td> <td> 1.75e+04</td> <td> 2.32e+04</td>\n",
       "</tr>\n",
       "<tr>\n",
       "  <th>has_renovated</th> <td> 1.317e+04</td> <td> 4477.371</td> <td>    2.942</td> <td> 0.003</td> <td> 4396.936</td> <td> 2.19e+04</td>\n",
       "</tr>\n",
       "<tr>\n",
       "  <th>has_basement</th>  <td> 1.886e+04</td> <td> 2967.498</td> <td>    6.355</td> <td> 0.000</td> <td>  1.3e+04</td> <td> 2.47e+04</td>\n",
       "</tr>\n",
       "<tr>\n",
       "  <th>condition_2</th>   <td>-5.991e+04</td> <td> 7909.389</td> <td>   -7.575</td> <td> 0.000</td> <td>-7.54e+04</td> <td>-4.44e+04</td>\n",
       "</tr>\n",
       "<tr>\n",
       "  <th>zipcode_98002</th> <td> 5311.1415</td> <td> 8380.044</td> <td>    0.634</td> <td> 0.526</td> <td>-1.11e+04</td> <td> 2.17e+04</td>\n",
       "</tr>\n",
       "<tr>\n",
       "  <th>zipcode_98003</th> <td> 1.325e+04</td> <td> 7704.382</td> <td>    1.720</td> <td> 0.086</td> <td>-1853.758</td> <td> 2.83e+04</td>\n",
       "</tr>\n",
       "<tr>\n",
       "  <th>zipcode_98004</th> <td>  5.05e+05</td> <td> 1.03e+04</td> <td>   48.809</td> <td> 0.000</td> <td> 4.85e+05</td> <td> 5.25e+05</td>\n",
       "</tr>\n",
       "<tr>\n",
       "  <th>zipcode_98005</th> <td> 3.538e+05</td> <td> 1.07e+04</td> <td>   33.050</td> <td> 0.000</td> <td> 3.33e+05</td> <td> 3.75e+05</td>\n",
       "</tr>\n",
       "<tr>\n",
       "  <th>zipcode_98006</th> <td> 3.001e+05</td> <td> 7558.055</td> <td>   39.712</td> <td> 0.000</td> <td> 2.85e+05</td> <td> 3.15e+05</td>\n",
       "</tr>\n",
       "<tr>\n",
       "  <th>zipcode_98007</th> <td>  2.72e+05</td> <td> 9906.276</td> <td>   27.453</td> <td> 0.000</td> <td> 2.53e+05</td> <td> 2.91e+05</td>\n",
       "</tr>\n",
       "<tr>\n",
       "  <th>zipcode_98008</th> <td> 2.635e+05</td> <td> 7747.589</td> <td>   34.016</td> <td> 0.000</td> <td> 2.48e+05</td> <td> 2.79e+05</td>\n",
       "</tr>\n",
       "<tr>\n",
       "  <th>zipcode_98010</th> <td> 8.667e+04</td> <td> 1.36e+04</td> <td>    6.378</td> <td> 0.000</td> <td>    6e+04</td> <td> 1.13e+05</td>\n",
       "</tr>\n",
       "<tr>\n",
       "  <th>zipcode_98011</th> <td> 1.625e+05</td> <td> 8526.028</td> <td>   19.055</td> <td> 0.000</td> <td> 1.46e+05</td> <td> 1.79e+05</td>\n",
       "</tr>\n",
       "<tr>\n",
       "  <th>zipcode_98014</th> <td> 9.316e+04</td> <td> 1.46e+04</td> <td>    6.385</td> <td> 0.000</td> <td> 6.46e+04</td> <td> 1.22e+05</td>\n",
       "</tr>\n",
       "<tr>\n",
       "  <th>zipcode_98019</th> <td> 9.164e+04</td> <td> 9247.808</td> <td>    9.909</td> <td> 0.000</td> <td> 7.35e+04</td> <td>  1.1e+05</td>\n",
       "</tr>\n",
       "<tr>\n",
       "  <th>zipcode_98022</th> <td> 1.375e+04</td> <td> 8937.706</td> <td>    1.538</td> <td> 0.124</td> <td>-3774.176</td> <td> 3.13e+04</td>\n",
       "</tr>\n",
       "<tr>\n",
       "  <th>zipcode_98023</th> <td>-4097.0883</td> <td> 6818.164</td> <td>   -0.601</td> <td> 0.548</td> <td>-1.75e+04</td> <td> 9267.488</td>\n",
       "</tr>\n",
       "<tr>\n",
       "  <th>zipcode_98024</th> <td> 1.307e+05</td> <td> 1.94e+04</td> <td>    6.745</td> <td> 0.000</td> <td> 9.27e+04</td> <td> 1.69e+05</td>\n",
       "</tr>\n",
       "<tr>\n",
       "  <th>zipcode_98027</th> <td> 2.537e+05</td> <td> 7995.215</td> <td>   31.735</td> <td> 0.000</td> <td> 2.38e+05</td> <td> 2.69e+05</td>\n",
       "</tr>\n",
       "<tr>\n",
       "  <th>zipcode_98028</th> <td>  1.49e+05</td> <td> 7946.571</td> <td>   18.749</td> <td> 0.000</td> <td> 1.33e+05</td> <td> 1.65e+05</td>\n",
       "</tr>\n",
       "<tr>\n",
       "  <th>zipcode_98029</th> <td> 2.672e+05</td> <td> 7620.023</td> <td>   35.071</td> <td> 0.000</td> <td> 2.52e+05</td> <td> 2.82e+05</td>\n",
       "</tr>\n",
       "<tr>\n",
       "  <th>zipcode_98030</th> <td>  1.08e+04</td> <td> 7952.553</td> <td>    1.359</td> <td> 0.174</td> <td>-4783.467</td> <td> 2.64e+04</td>\n",
       "</tr>\n",
       "<tr>\n",
       "  <th>zipcode_98031</th> <td>  2.05e+04</td> <td> 7818.500</td> <td>    2.622</td> <td> 0.009</td> <td> 5178.620</td> <td> 3.58e+04</td>\n",
       "</tr>\n",
       "<tr>\n",
       "  <th>zipcode_98032</th> <td> 7794.3599</td> <td> 9990.791</td> <td>    0.780</td> <td> 0.435</td> <td>-1.18e+04</td> <td> 2.74e+04</td>\n",
       "</tr>\n",
       "<tr>\n",
       "  <th>zipcode_98033</th> <td> 3.251e+05</td> <td> 7376.907</td> <td>   44.068</td> <td> 0.000</td> <td> 3.11e+05</td> <td>  3.4e+05</td>\n",
       "</tr>\n",
       "<tr>\n",
       "  <th>zipcode_98034</th> <td> 1.948e+05</td> <td> 6727.028</td> <td>   28.952</td> <td> 0.000</td> <td> 1.82e+05</td> <td> 2.08e+05</td>\n",
       "</tr>\n",
       "<tr>\n",
       "  <th>zipcode_98038</th> <td> 4.213e+04</td> <td> 6723.796</td> <td>    6.266</td> <td> 0.000</td> <td> 2.89e+04</td> <td> 5.53e+04</td>\n",
       "</tr>\n",
       "<tr>\n",
       "  <th>zipcode_98039</th> <td>  6.36e+05</td> <td> 7.91e+04</td> <td>    8.040</td> <td> 0.000</td> <td> 4.81e+05</td> <td> 7.91e+05</td>\n",
       "</tr>\n",
       "<tr>\n",
       "  <th>zipcode_98040</th> <td> 4.482e+05</td> <td> 1.05e+04</td> <td>   42.494</td> <td> 0.000</td> <td> 4.28e+05</td> <td> 4.69e+05</td>\n",
       "</tr>\n",
       "<tr>\n",
       "  <th>zipcode_98042</th> <td> 1.749e+04</td> <td> 6806.961</td> <td>    2.569</td> <td> 0.010</td> <td> 4147.245</td> <td> 3.08e+04</td>\n",
       "</tr>\n",
       "<tr>\n",
       "  <th>zipcode_98045</th> <td> 1.053e+05</td> <td> 9479.837</td> <td>   11.103</td> <td> 0.000</td> <td> 8.67e+04</td> <td> 1.24e+05</td>\n",
       "</tr>\n",
       "<tr>\n",
       "  <th>zipcode_98052</th> <td> 2.813e+05</td> <td> 6786.339</td> <td>   41.447</td> <td> 0.000</td> <td> 2.68e+05</td> <td> 2.95e+05</td>\n",
       "</tr>\n",
       "<tr>\n",
       "  <th>zipcode_98053</th> <td> 2.549e+05</td> <td> 8256.654</td> <td>   30.868</td> <td> 0.000</td> <td> 2.39e+05</td> <td> 2.71e+05</td>\n",
       "</tr>\n",
       "<tr>\n",
       "  <th>zipcode_98055</th> <td> 4.661e+04</td> <td> 7884.780</td> <td>    5.911</td> <td> 0.000</td> <td> 3.12e+04</td> <td> 6.21e+04</td>\n",
       "</tr>\n",
       "<tr>\n",
       "  <th>zipcode_98056</th> <td> 1.124e+05</td> <td> 7089.239</td> <td>   15.850</td> <td> 0.000</td> <td> 9.85e+04</td> <td> 1.26e+05</td>\n",
       "</tr>\n",
       "<tr>\n",
       "  <th>zipcode_98058</th> <td> 4.892e+04</td> <td> 7095.726</td> <td>    6.894</td> <td> 0.000</td> <td>  3.5e+04</td> <td> 6.28e+04</td>\n",
       "</tr>\n",
       "<tr>\n",
       "  <th>zipcode_98059</th> <td> 1.056e+05</td> <td> 7129.790</td> <td>   14.813</td> <td> 0.000</td> <td> 9.16e+04</td> <td>  1.2e+05</td>\n",
       "</tr>\n",
       "<tr>\n",
       "  <th>zipcode_98065</th> <td> 1.421e+05</td> <td> 7704.933</td> <td>   18.440</td> <td> 0.000</td> <td> 1.27e+05</td> <td> 1.57e+05</td>\n",
       "</tr>\n",
       "<tr>\n",
       "  <th>zipcode_98070</th> <td> 1.063e+05</td> <td> 2.11e+04</td> <td>    5.029</td> <td> 0.000</td> <td> 6.49e+04</td> <td> 1.48e+05</td>\n",
       "</tr>\n",
       "<tr>\n",
       "  <th>zipcode_98072</th> <td> 1.635e+05</td> <td> 9327.316</td> <td>   17.530</td> <td> 0.000</td> <td> 1.45e+05</td> <td> 1.82e+05</td>\n",
       "</tr>\n",
       "<tr>\n",
       "  <th>zipcode_98074</th> <td> 2.542e+05</td> <td> 7319.261</td> <td>   34.727</td> <td> 0.000</td> <td>  2.4e+05</td> <td> 2.69e+05</td>\n",
       "</tr>\n",
       "<tr>\n",
       "  <th>zipcode_98075</th> <td> 2.738e+05</td> <td> 8287.230</td> <td>   33.035</td> <td> 0.000</td> <td> 2.58e+05</td> <td>  2.9e+05</td>\n",
       "</tr>\n",
       "<tr>\n",
       "  <th>zipcode_98077</th> <td> 2.112e+05</td> <td> 1.61e+04</td> <td>   13.087</td> <td> 0.000</td> <td>  1.8e+05</td> <td> 2.43e+05</td>\n",
       "</tr>\n",
       "<tr>\n",
       "  <th>zipcode_98092</th> <td>-4707.1866</td> <td> 7779.291</td> <td>   -0.605</td> <td> 0.545</td> <td>   -2e+04</td> <td> 1.05e+04</td>\n",
       "</tr>\n",
       "<tr>\n",
       "  <th>zipcode_98102</th> <td> 4.104e+05</td> <td> 1.22e+04</td> <td>   33.604</td> <td> 0.000</td> <td> 3.86e+05</td> <td> 4.34e+05</td>\n",
       "</tr>\n",
       "<tr>\n",
       "  <th>zipcode_98103</th> <td> 3.402e+05</td> <td> 7026.836</td> <td>   48.408</td> <td> 0.000</td> <td> 3.26e+05</td> <td> 3.54e+05</td>\n",
       "</tr>\n",
       "<tr>\n",
       "  <th>zipcode_98105</th> <td> 3.818e+05</td> <td> 9302.292</td> <td>   41.040</td> <td> 0.000</td> <td> 3.64e+05</td> <td>    4e+05</td>\n",
       "</tr>\n",
       "<tr>\n",
       "  <th>zipcode_98106</th> <td> 1.215e+05</td> <td> 7394.997</td> <td>   16.434</td> <td> 0.000</td> <td> 1.07e+05</td> <td> 1.36e+05</td>\n",
       "</tr>\n",
       "<tr>\n",
       "  <th>zipcode_98107</th> <td> 3.483e+05</td> <td> 8089.072</td> <td>   43.062</td> <td> 0.000</td> <td> 3.32e+05</td> <td> 3.64e+05</td>\n",
       "</tr>\n",
       "<tr>\n",
       "  <th>zipcode_98108</th> <td> 1.299e+05</td> <td> 8676.043</td> <td>   14.974</td> <td> 0.000</td> <td> 1.13e+05</td> <td> 1.47e+05</td>\n",
       "</tr>\n",
       "<tr>\n",
       "  <th>zipcode_98109</th> <td> 4.224e+05</td> <td> 1.19e+04</td> <td>   35.401</td> <td> 0.000</td> <td> 3.99e+05</td> <td> 4.46e+05</td>\n",
       "</tr>\n",
       "<tr>\n",
       "  <th>zipcode_98112</th> <td> 4.126e+05</td> <td> 1.01e+04</td> <td>   40.813</td> <td> 0.000</td> <td> 3.93e+05</td> <td> 4.32e+05</td>\n",
       "</tr>\n",
       "<tr>\n",
       "  <th>zipcode_98115</th> <td> 3.303e+05</td> <td> 6931.070</td> <td>   47.656</td> <td> 0.000</td> <td> 3.17e+05</td> <td> 3.44e+05</td>\n",
       "</tr>\n",
       "<tr>\n",
       "  <th>zipcode_98116</th> <td> 3.208e+05</td> <td> 7772.696</td> <td>   41.277</td> <td> 0.000</td> <td> 3.06e+05</td> <td> 3.36e+05</td>\n",
       "</tr>\n",
       "<tr>\n",
       "  <th>zipcode_98117</th> <td> 3.233e+05</td> <td> 6937.983</td> <td>   46.596</td> <td> 0.000</td> <td>  3.1e+05</td> <td> 3.37e+05</td>\n",
       "</tr>\n",
       "<tr>\n",
       "  <th>zipcode_98118</th> <td> 1.688e+05</td> <td> 6931.862</td> <td>   24.347</td> <td> 0.000</td> <td> 1.55e+05</td> <td> 1.82e+05</td>\n",
       "</tr>\n",
       "<tr>\n",
       "  <th>zipcode_98119</th> <td> 4.352e+05</td> <td> 1.01e+04</td> <td>   43.016</td> <td> 0.000</td> <td> 4.15e+05</td> <td> 4.55e+05</td>\n",
       "</tr>\n",
       "<tr>\n",
       "  <th>zipcode_98122</th> <td> 3.326e+05</td> <td> 8223.774</td> <td>   40.450</td> <td> 0.000</td> <td> 3.17e+05</td> <td> 3.49e+05</td>\n",
       "</tr>\n",
       "<tr>\n",
       "  <th>zipcode_98125</th> <td> 2.032e+05</td> <td> 7092.478</td> <td>   28.656</td> <td> 0.000</td> <td> 1.89e+05</td> <td> 2.17e+05</td>\n",
       "</tr>\n",
       "<tr>\n",
       "  <th>zipcode_98126</th> <td> 2.079e+05</td> <td> 7421.535</td> <td>   28.013</td> <td> 0.000</td> <td> 1.93e+05</td> <td> 2.22e+05</td>\n",
       "</tr>\n",
       "<tr>\n",
       "  <th>zipcode_98133</th> <td> 1.609e+05</td> <td> 6792.918</td> <td>   23.690</td> <td> 0.000</td> <td> 1.48e+05</td> <td> 1.74e+05</td>\n",
       "</tr>\n",
       "<tr>\n",
       "  <th>zipcode_98136</th> <td> 2.805e+05</td> <td> 8059.015</td> <td>   34.810</td> <td> 0.000</td> <td> 2.65e+05</td> <td> 2.96e+05</td>\n",
       "</tr>\n",
       "<tr>\n",
       "  <th>zipcode_98144</th> <td> 2.612e+05</td> <td> 7790.626</td> <td>   33.533</td> <td> 0.000</td> <td> 2.46e+05</td> <td> 2.77e+05</td>\n",
       "</tr>\n",
       "<tr>\n",
       "  <th>zipcode_98146</th> <td> 1.076e+05</td> <td> 7758.561</td> <td>   13.862</td> <td> 0.000</td> <td> 9.23e+04</td> <td> 1.23e+05</td>\n",
       "</tr>\n",
       "<tr>\n",
       "  <th>zipcode_98148</th> <td> 5.758e+04</td> <td> 1.32e+04</td> <td>    4.365</td> <td> 0.000</td> <td> 3.17e+04</td> <td> 8.34e+04</td>\n",
       "</tr>\n",
       "<tr>\n",
       "  <th>zipcode_98155</th> <td> 1.487e+05</td> <td> 7029.638</td> <td>   21.146</td> <td> 0.000</td> <td> 1.35e+05</td> <td> 1.62e+05</td>\n",
       "</tr>\n",
       "<tr>\n",
       "  <th>zipcode_98166</th> <td>  1.09e+05</td> <td> 8510.640</td> <td>   12.802</td> <td> 0.000</td> <td> 9.23e+04</td> <td> 1.26e+05</td>\n",
       "</tr>\n",
       "<tr>\n",
       "  <th>zipcode_98168</th> <td> 3.727e+04</td> <td> 8126.946</td> <td>    4.586</td> <td> 0.000</td> <td> 2.13e+04</td> <td> 5.32e+04</td>\n",
       "</tr>\n",
       "<tr>\n",
       "  <th>zipcode_98177</th> <td> 2.276e+05</td> <td> 8420.749</td> <td>   27.028</td> <td> 0.000</td> <td> 2.11e+05</td> <td> 2.44e+05</td>\n",
       "</tr>\n",
       "<tr>\n",
       "  <th>zipcode_98178</th> <td> 6.248e+04</td> <td> 7946.476</td> <td>    7.862</td> <td> 0.000</td> <td> 4.69e+04</td> <td> 7.81e+04</td>\n",
       "</tr>\n",
       "<tr>\n",
       "  <th>zipcode_98188</th> <td> 3.785e+04</td> <td> 9911.170</td> <td>    3.818</td> <td> 0.000</td> <td> 1.84e+04</td> <td> 5.73e+04</td>\n",
       "</tr>\n",
       "<tr>\n",
       "  <th>zipcode_98198</th> <td> 3.743e+04</td> <td> 7785.598</td> <td>    4.807</td> <td> 0.000</td> <td> 2.22e+04</td> <td> 5.27e+04</td>\n",
       "</tr>\n",
       "<tr>\n",
       "  <th>zipcode_98199</th> <td> 3.684e+05</td> <td> 8152.698</td> <td>   45.184</td> <td> 0.000</td> <td> 3.52e+05</td> <td> 3.84e+05</td>\n",
       "</tr>\n",
       "</table>\n",
       "<table class=\"simpletable\">\n",
       "<tr>\n",
       "  <th>Omnibus:</th>       <td>749.453</td> <th>  Durbin-Watson:     </th> <td>   2.000</td>\n",
       "</tr>\n",
       "<tr>\n",
       "  <th>Prob(Omnibus):</th> <td> 0.000</td>  <th>  Jarque-Bera (JB):  </th> <td>2389.542</td>\n",
       "</tr>\n",
       "<tr>\n",
       "  <th>Skew:</th>          <td> 0.240</td>  <th>  Prob(JB):          </th> <td>    0.00</td>\n",
       "</tr>\n",
       "<tr>\n",
       "  <th>Kurtosis:</th>      <td> 5.018</td>  <th>  Cond. No.          </th> <td>3.63e+07</td>\n",
       "</tr>\n",
       "</table><br/><br/>Warnings:<br/>[1] Standard Errors assume that the covariance matrix of the errors is correctly specified.<br/>[2] The condition number is large, 3.63e+07. This might indicate that there are<br/>strong multicollinearity or other numerical problems."
      ],
      "text/plain": [
       "<class 'statsmodels.iolib.summary.Summary'>\n",
       "\"\"\"\n",
       "                            OLS Regression Results                            \n",
       "==============================================================================\n",
       "Dep. Variable:                  price   R-squared:                       0.801\n",
       "Model:                            OLS   Adj. R-squared:                  0.799\n",
       "Method:                 Least Squares   F-statistic:                     656.8\n",
       "Date:                Thu, 19 Nov 2020   Prob (F-statistic):               0.00\n",
       "Time:                        19:13:44   Log-Likelihood:            -1.6913e+05\n",
       "No. Observations:               13326   AIC:                         3.384e+05\n",
       "Df Residuals:                   13244   BIC:                         3.390e+05\n",
       "Df Model:                          81                                         \n",
       "Covariance Type:            nonrobust                                         \n",
       "=================================================================================\n",
       "                    coef    std err          t      P>|t|      [0.025      0.975]\n",
       "---------------------------------------------------------------------------------\n",
       "Intercept     -4.042e+07   2.96e+06    -13.671      0.000   -4.62e+07   -3.46e+07\n",
       "bedrooms      -9281.4843   1090.411     -8.512      0.000   -1.14e+04   -7144.123\n",
       "bathrooms      1.788e+04   1783.869     10.023      0.000    1.44e+04    2.14e+04\n",
       "sqft_living     163.8056      1.911     85.719      0.000     160.060     167.551\n",
       "sqft_lot          2.4154      0.300      8.048      0.000       1.827       3.004\n",
       "floors        -1.471e+04   2155.192     -6.826      0.000   -1.89e+04   -1.05e+04\n",
       "waterfront     3.355e+05   2.22e+04     15.112      0.000    2.92e+05    3.79e+05\n",
       "sqft_basement   -75.2671      4.411    -17.065      0.000     -83.913     -66.622\n",
       "yr_built       -313.5706     38.209     -8.207      0.000    -388.466    -238.675\n",
       "year_sold      2.036e+04   1467.397     13.872      0.000    1.75e+04    2.32e+04\n",
       "has_renovated  1.317e+04   4477.371      2.942      0.003    4396.936    2.19e+04\n",
       "has_basement   1.886e+04   2967.498      6.355      0.000     1.3e+04    2.47e+04\n",
       "condition_2   -5.991e+04   7909.389     -7.575      0.000   -7.54e+04   -4.44e+04\n",
       "zipcode_98002  5311.1415   8380.044      0.634      0.526   -1.11e+04    2.17e+04\n",
       "zipcode_98003  1.325e+04   7704.382      1.720      0.086   -1853.758    2.83e+04\n",
       "zipcode_98004   5.05e+05   1.03e+04     48.809      0.000    4.85e+05    5.25e+05\n",
       "zipcode_98005  3.538e+05   1.07e+04     33.050      0.000    3.33e+05    3.75e+05\n",
       "zipcode_98006  3.001e+05   7558.055     39.712      0.000    2.85e+05    3.15e+05\n",
       "zipcode_98007   2.72e+05   9906.276     27.453      0.000    2.53e+05    2.91e+05\n",
       "zipcode_98008  2.635e+05   7747.589     34.016      0.000    2.48e+05    2.79e+05\n",
       "zipcode_98010  8.667e+04   1.36e+04      6.378      0.000       6e+04    1.13e+05\n",
       "zipcode_98011  1.625e+05   8526.028     19.055      0.000    1.46e+05    1.79e+05\n",
       "zipcode_98014  9.316e+04   1.46e+04      6.385      0.000    6.46e+04    1.22e+05\n",
       "zipcode_98019  9.164e+04   9247.808      9.909      0.000    7.35e+04     1.1e+05\n",
       "zipcode_98022  1.375e+04   8937.706      1.538      0.124   -3774.176    3.13e+04\n",
       "zipcode_98023 -4097.0883   6818.164     -0.601      0.548   -1.75e+04    9267.488\n",
       "zipcode_98024  1.307e+05   1.94e+04      6.745      0.000    9.27e+04    1.69e+05\n",
       "zipcode_98027  2.537e+05   7995.215     31.735      0.000    2.38e+05    2.69e+05\n",
       "zipcode_98028   1.49e+05   7946.571     18.749      0.000    1.33e+05    1.65e+05\n",
       "zipcode_98029  2.672e+05   7620.023     35.071      0.000    2.52e+05    2.82e+05\n",
       "zipcode_98030   1.08e+04   7952.553      1.359      0.174   -4783.467    2.64e+04\n",
       "zipcode_98031   2.05e+04   7818.500      2.622      0.009    5178.620    3.58e+04\n",
       "zipcode_98032  7794.3599   9990.791      0.780      0.435   -1.18e+04    2.74e+04\n",
       "zipcode_98033  3.251e+05   7376.907     44.068      0.000    3.11e+05     3.4e+05\n",
       "zipcode_98034  1.948e+05   6727.028     28.952      0.000    1.82e+05    2.08e+05\n",
       "zipcode_98038  4.213e+04   6723.796      6.266      0.000    2.89e+04    5.53e+04\n",
       "zipcode_98039   6.36e+05   7.91e+04      8.040      0.000    4.81e+05    7.91e+05\n",
       "zipcode_98040  4.482e+05   1.05e+04     42.494      0.000    4.28e+05    4.69e+05\n",
       "zipcode_98042  1.749e+04   6806.961      2.569      0.010    4147.245    3.08e+04\n",
       "zipcode_98045  1.053e+05   9479.837     11.103      0.000    8.67e+04    1.24e+05\n",
       "zipcode_98052  2.813e+05   6786.339     41.447      0.000    2.68e+05    2.95e+05\n",
       "zipcode_98053  2.549e+05   8256.654     30.868      0.000    2.39e+05    2.71e+05\n",
       "zipcode_98055  4.661e+04   7884.780      5.911      0.000    3.12e+04    6.21e+04\n",
       "zipcode_98056  1.124e+05   7089.239     15.850      0.000    9.85e+04    1.26e+05\n",
       "zipcode_98058  4.892e+04   7095.726      6.894      0.000     3.5e+04    6.28e+04\n",
       "zipcode_98059  1.056e+05   7129.790     14.813      0.000    9.16e+04     1.2e+05\n",
       "zipcode_98065  1.421e+05   7704.933     18.440      0.000    1.27e+05    1.57e+05\n",
       "zipcode_98070  1.063e+05   2.11e+04      5.029      0.000    6.49e+04    1.48e+05\n",
       "zipcode_98072  1.635e+05   9327.316     17.530      0.000    1.45e+05    1.82e+05\n",
       "zipcode_98074  2.542e+05   7319.261     34.727      0.000     2.4e+05    2.69e+05\n",
       "zipcode_98075  2.738e+05   8287.230     33.035      0.000    2.58e+05     2.9e+05\n",
       "zipcode_98077  2.112e+05   1.61e+04     13.087      0.000     1.8e+05    2.43e+05\n",
       "zipcode_98092 -4707.1866   7779.291     -0.605      0.545      -2e+04    1.05e+04\n",
       "zipcode_98102  4.104e+05   1.22e+04     33.604      0.000    3.86e+05    4.34e+05\n",
       "zipcode_98103  3.402e+05   7026.836     48.408      0.000    3.26e+05    3.54e+05\n",
       "zipcode_98105  3.818e+05   9302.292     41.040      0.000    3.64e+05       4e+05\n",
       "zipcode_98106  1.215e+05   7394.997     16.434      0.000    1.07e+05    1.36e+05\n",
       "zipcode_98107  3.483e+05   8089.072     43.062      0.000    3.32e+05    3.64e+05\n",
       "zipcode_98108  1.299e+05   8676.043     14.974      0.000    1.13e+05    1.47e+05\n",
       "zipcode_98109  4.224e+05   1.19e+04     35.401      0.000    3.99e+05    4.46e+05\n",
       "zipcode_98112  4.126e+05   1.01e+04     40.813      0.000    3.93e+05    4.32e+05\n",
       "zipcode_98115  3.303e+05   6931.070     47.656      0.000    3.17e+05    3.44e+05\n",
       "zipcode_98116  3.208e+05   7772.696     41.277      0.000    3.06e+05    3.36e+05\n",
       "zipcode_98117  3.233e+05   6937.983     46.596      0.000     3.1e+05    3.37e+05\n",
       "zipcode_98118  1.688e+05   6931.862     24.347      0.000    1.55e+05    1.82e+05\n",
       "zipcode_98119  4.352e+05   1.01e+04     43.016      0.000    4.15e+05    4.55e+05\n",
       "zipcode_98122  3.326e+05   8223.774     40.450      0.000    3.17e+05    3.49e+05\n",
       "zipcode_98125  2.032e+05   7092.478     28.656      0.000    1.89e+05    2.17e+05\n",
       "zipcode_98126  2.079e+05   7421.535     28.013      0.000    1.93e+05    2.22e+05\n",
       "zipcode_98133  1.609e+05   6792.918     23.690      0.000    1.48e+05    1.74e+05\n",
       "zipcode_98136  2.805e+05   8059.015     34.810      0.000    2.65e+05    2.96e+05\n",
       "zipcode_98144  2.612e+05   7790.626     33.533      0.000    2.46e+05    2.77e+05\n",
       "zipcode_98146  1.076e+05   7758.561     13.862      0.000    9.23e+04    1.23e+05\n",
       "zipcode_98148  5.758e+04   1.32e+04      4.365      0.000    3.17e+04    8.34e+04\n",
       "zipcode_98155  1.487e+05   7029.638     21.146      0.000    1.35e+05    1.62e+05\n",
       "zipcode_98166   1.09e+05   8510.640     12.802      0.000    9.23e+04    1.26e+05\n",
       "zipcode_98168  3.727e+04   8126.946      4.586      0.000    2.13e+04    5.32e+04\n",
       "zipcode_98177  2.276e+05   8420.749     27.028      0.000    2.11e+05    2.44e+05\n",
       "zipcode_98178  6.248e+04   7946.476      7.862      0.000    4.69e+04    7.81e+04\n",
       "zipcode_98188  3.785e+04   9911.170      3.818      0.000    1.84e+04    5.73e+04\n",
       "zipcode_98198  3.743e+04   7785.598      4.807      0.000    2.22e+04    5.27e+04\n",
       "zipcode_98199  3.684e+05   8152.698     45.184      0.000    3.52e+05    3.84e+05\n",
       "==============================================================================\n",
       "Omnibus:                      749.453   Durbin-Watson:                   2.000\n",
       "Prob(Omnibus):                  0.000   Jarque-Bera (JB):             2389.542\n",
       "Skew:                           0.240   Prob(JB):                         0.00\n",
       "Kurtosis:                       5.018   Cond. No.                     3.63e+07\n",
       "==============================================================================\n",
       "\n",
       "Warnings:\n",
       "[1] Standard Errors assume that the covariance matrix of the errors is correctly specified.\n",
       "[2] The condition number is large, 3.63e+07. This might indicate that there are\n",
       "strong multicollinearity or other numerical problems.\n",
       "\"\"\""
      ]
     },
     "execution_count": 83,
     "metadata": {},
     "output_type": "execute_result"
    }
   ],
   "source": [
    "updf_b = dftrain.drop(['price'], axis=1)\n",
    "predictors = '+'.join(updf_b.columns)\n",
    "formula = outcome + '~' + predictors\n",
    "model = ols(formula=formula, data = dftrain).fit()\n",
    "model.summary()"
   ]
  },
  {
   "cell_type": "markdown",
   "metadata": {},
   "source": [
    "### QQ Plot"
   ]
  },
  {
   "cell_type": "code",
   "execution_count": 84,
   "metadata": {
    "scrolled": true
   },
   "outputs": [
    {
     "data": {
      "image/png": "[encoded data removed]",
      "text/plain": [
       "<Figure size 432x288 with 1 Axes>"
      ]
     },
     "metadata": {},
     "output_type": "display_data"
    }
   ],
   "source": [
    "fig = sm.graphics.qqplot(model.resid, dist=stats.norm, line='45', fit=True)"
   ]
  },
  {
   "cell_type": "markdown",
   "metadata": {},
   "source": [
    "### Homoscedasticity"
   ]
  },
  {
   "cell_type": "code",
   "execution_count": 85,
   "metadata": {
    "scrolled": true
   },
   "outputs": [
    {
     "data": {
      "text/plain": [
       "[<matplotlib.lines.Line2D at 0x226910bbc50>]"
      ]
     },
     "execution_count": 85,
     "metadata": {},
     "output_type": "execute_result"
    },
    {
     "data": {
      "image/png": "[encoded data removed]",
      "text/plain": [
       "<Figure size 432x288 with 1 Axes>"
      ]
     },
     "metadata": {},
     "output_type": "display_data"
    }
   ],
   "source": [
    "plt.scatter(model.predict(dftrain[updf_b.columns]), model.resid)\n",
    "plt.plot(model.predict(dftrain[updf_b.columns]), [0 for i in range(len(dftrain))])"
   ]
  },
  {
   "cell_type": "markdown",
   "metadata": {
    "heading_collapsed": true
   },
   "source": [
    "## Third Model - P_Values"
   ]
  },
  {
   "cell_type": "code",
   "execution_count": 86,
   "metadata": {
    "hidden": true
   },
   "outputs": [
    {
     "name": "stdout",
     "output_type": "stream",
     "text": [
      "82 74\n",
      "['bedrooms', 'bathrooms', 'sqft_living', 'sqft_lot', 'floors', 'waterfront', 'sqft_basement', 'yr_built', 'year_sold', 'has_renovated', 'has_basement', 'condition_2', 'zipcode_98004', 'zipcode_98005', 'zipcode_98006', 'zipcode_98007', 'zipcode_98008', 'zipcode_98010', 'zipcode_98011', 'zipcode_98014', 'zipcode_98019', 'zipcode_98024', 'zipcode_98027', 'zipcode_98028', 'zipcode_98029', 'zipcode_98031', 'zipcode_98033', 'zipcode_98034', 'zipcode_98038', 'zipcode_98039', 'zipcode_98040', 'zipcode_98042', 'zipcode_98045', 'zipcode_98052', 'zipcode_98053', 'zipcode_98055', 'zipcode_98056', 'zipcode_98058', 'zipcode_98059', 'zipcode_98065', 'zipcode_98070', 'zipcode_98072', 'zipcode_98074', 'zipcode_98075', 'zipcode_98077', 'zipcode_98102', 'zipcode_98103', 'zipcode_98105', 'zipcode_98106', 'zipcode_98107', 'zipcode_98108', 'zipcode_98109', 'zipcode_98112', 'zipcode_98115', 'zipcode_98116', 'zipcode_98117', 'zipcode_98118', 'zipcode_98119', 'zipcode_98122', 'zipcode_98125', 'zipcode_98126', 'zipcode_98133', 'zipcode_98136', 'zipcode_98144', 'zipcode_98146', 'zipcode_98148', 'zipcode_98155', 'zipcode_98166', 'zipcode_98168', 'zipcode_98177', 'zipcode_98178', 'zipcode_98188', 'zipcode_98198', 'zipcode_98199']\n"
     ]
    },
    {
     "data": {
      "text/html": [
       "<div>\n",
       "<style scoped>\n",
       "    .dataframe tbody tr th:only-of-type {\n",
       "        vertical-align: middle;\n",
       "    }\n",
       "\n",
       "    .dataframe tbody tr th {\n",
       "        vertical-align: top;\n",
       "    }\n",
       "\n",
       "    .dataframe thead th {\n",
       "        text-align: right;\n",
       "    }\n",
       "</style>\n",
       "<table border=\"1\" class=\"dataframe\">\n",
       "  <thead>\n",
       "    <tr style=\"text-align: right;\">\n",
       "      <th></th>\n",
       "      <th>coef</th>\n",
       "      <th>std err</th>\n",
       "      <th>t</th>\n",
       "      <th>P&gt;|t|</th>\n",
       "      <th>[0.025</th>\n",
       "      <th>0.975]</th>\n",
       "    </tr>\n",
       "    <tr>\n",
       "      <th></th>\n",
       "      <th></th>\n",
       "      <th></th>\n",
       "      <th></th>\n",
       "      <th></th>\n",
       "      <th></th>\n",
       "      <th></th>\n",
       "    </tr>\n",
       "  </thead>\n",
       "  <tbody>\n",
       "    <tr>\n",
       "      <th>Intercept</th>\n",
       "      <td>-4.042e+07</td>\n",
       "      <td>2.96e+06</td>\n",
       "      <td>-13.671</td>\n",
       "      <td>0.0</td>\n",
       "      <td>-4.62e+07</td>\n",
       "      <td>-3.46e+07</td>\n",
       "    </tr>\n",
       "    <tr>\n",
       "      <th>bedrooms</th>\n",
       "      <td>-9281.4843</td>\n",
       "      <td>1090.411</td>\n",
       "      <td>-8.512</td>\n",
       "      <td>0.0</td>\n",
       "      <td>-1.14e+04</td>\n",
       "      <td>-7144.123</td>\n",
       "    </tr>\n",
       "    <tr>\n",
       "      <th>bathrooms</th>\n",
       "      <td>1.788e+04</td>\n",
       "      <td>1783.869</td>\n",
       "      <td>10.023</td>\n",
       "      <td>0.0</td>\n",
       "      <td>1.44e+04</td>\n",
       "      <td>2.14e+04</td>\n",
       "    </tr>\n",
       "    <tr>\n",
       "      <th>sqft_living</th>\n",
       "      <td>163.8056</td>\n",
       "      <td>1.911</td>\n",
       "      <td>85.719</td>\n",
       "      <td>0.0</td>\n",
       "      <td>160.060</td>\n",
       "      <td>167.551</td>\n",
       "    </tr>\n",
       "    <tr>\n",
       "      <th>sqft_lot</th>\n",
       "      <td>2.4154</td>\n",
       "      <td>0.300</td>\n",
       "      <td>8.048</td>\n",
       "      <td>0.0</td>\n",
       "      <td>1.827</td>\n",
       "      <td>3.004</td>\n",
       "    </tr>\n",
       "  </tbody>\n",
       "</table>\n",
       "</div>"
      ],
      "text/plain": [
       "0                  coef    std err          t  P>|t|     [0.025     0.975]\n",
       "                                                                          \n",
       "Intercept    -4.042e+07   2.96e+06    -13.671    0.0  -4.62e+07  -3.46e+07\n",
       "bedrooms     -9281.4843   1090.411     -8.512    0.0  -1.14e+04  -7144.123\n",
       "bathrooms     1.788e+04   1783.869     10.023    0.0   1.44e+04   2.14e+04\n",
       "sqft_living    163.8056      1.911     85.719    0.0    160.060    167.551\n",
       "sqft_lot         2.4154      0.300      8.048    0.0      1.827      3.004"
      ]
     },
     "execution_count": 86,
     "metadata": {},
     "output_type": "execute_result"
    }
   ],
   "source": [
    "summary = model.summary()\n",
    "p_table = summary.tables[1]\n",
    "p_table = pd.DataFrame(p_table.data)\n",
    "p_table.columns = p_table.iloc[0]\n",
    "p_table = p_table.drop(0)\n",
    "p_table = p_table.set_index(p_table.columns[0])\n",
    "p_table['P>|t|'] = p_table['P>|t|'].astype(float)\n",
    "x_cols = list(p_table[p_table['P>|t|'] < 0.05].index)\n",
    "x_cols.remove('Intercept')\n",
    "print(len(p_table), len(x_cols))\n",
    "\n",
    "print(x_cols[:])\n",
    "p_table.head()"
   ]
  },
  {
   "cell_type": "code",
   "execution_count": 87,
   "metadata": {
    "hidden": true,
    "scrolled": false
   },
   "outputs": [
    {
     "data": {
      "text/html": [
       "<table class=\"simpletable\">\n",
       "<caption>OLS Regression Results</caption>\n",
       "<tr>\n",
       "  <th>Dep. Variable:</th>          <td>price</td>      <th>  R-squared:         </th>  <td>   0.800</td>  \n",
       "</tr>\n",
       "<tr>\n",
       "  <th>Model:</th>                   <td>OLS</td>       <th>  Adj. R-squared:    </th>  <td>   0.799</td>  \n",
       "</tr>\n",
       "<tr>\n",
       "  <th>Method:</th>             <td>Least Squares</td>  <th>  F-statistic:       </th>  <td>   718.5</td>  \n",
       "</tr>\n",
       "<tr>\n",
       "  <th>Date:</th>             <td>Thu, 19 Nov 2020</td> <th>  Prob (F-statistic):</th>   <td>  0.00</td>   \n",
       "</tr>\n",
       "<tr>\n",
       "  <th>Time:</th>                 <td>19:13:45</td>     <th>  Log-Likelihood:    </th> <td>-1.6914e+05</td>\n",
       "</tr>\n",
       "<tr>\n",
       "  <th>No. Observations:</th>      <td> 13326</td>      <th>  AIC:               </th>  <td>3.384e+05</td> \n",
       "</tr>\n",
       "<tr>\n",
       "  <th>Df Residuals:</th>          <td> 13251</td>      <th>  BIC:               </th>  <td>3.390e+05</td> \n",
       "</tr>\n",
       "<tr>\n",
       "  <th>Df Model:</th>              <td>    74</td>      <th>                     </th>      <td> </td>     \n",
       "</tr>\n",
       "<tr>\n",
       "  <th>Covariance Type:</th>      <td>nonrobust</td>    <th>                     </th>      <td> </td>     \n",
       "</tr>\n",
       "</table>\n",
       "<table class=\"simpletable\">\n",
       "<tr>\n",
       "        <td></td>           <th>coef</th>     <th>std err</th>      <th>t</th>      <th>P>|t|</th>  <th>[0.025</th>    <th>0.975]</th>  \n",
       "</tr>\n",
       "<tr>\n",
       "  <th>Intercept</th>     <td>-4.045e+07</td> <td> 2.96e+06</td> <td>  -13.682</td> <td> 0.000</td> <td>-4.62e+07</td> <td>-3.47e+07</td>\n",
       "</tr>\n",
       "<tr>\n",
       "  <th>bedrooms</th>      <td>-9285.8366</td> <td> 1089.751</td> <td>   -8.521</td> <td> 0.000</td> <td>-1.14e+04</td> <td>-7149.769</td>\n",
       "</tr>\n",
       "<tr>\n",
       "  <th>bathrooms</th>     <td> 1.792e+04</td> <td> 1783.053</td> <td>   10.050</td> <td> 0.000</td> <td> 1.44e+04</td> <td> 2.14e+04</td>\n",
       "</tr>\n",
       "<tr>\n",
       "  <th>sqft_living</th>   <td>  163.6019</td> <td>    1.909</td> <td>   85.710</td> <td> 0.000</td> <td>  159.860</td> <td>  167.343</td>\n",
       "</tr>\n",
       "<tr>\n",
       "  <th>sqft_lot</th>      <td>    2.4318</td> <td>    0.299</td> <td>    8.131</td> <td> 0.000</td> <td>    1.846</td> <td>    3.018</td>\n",
       "</tr>\n",
       "<tr>\n",
       "  <th>floors</th>        <td>-1.471e+04</td> <td> 2154.686</td> <td>   -6.826</td> <td> 0.000</td> <td>-1.89e+04</td> <td>-1.05e+04</td>\n",
       "</tr>\n",
       "<tr>\n",
       "  <th>waterfront</th>    <td> 3.347e+05</td> <td> 2.22e+04</td> <td>   15.075</td> <td> 0.000</td> <td> 2.91e+05</td> <td> 3.78e+05</td>\n",
       "</tr>\n",
       "<tr>\n",
       "  <th>sqft_basement</th> <td>  -75.2786</td> <td>    4.411</td> <td>  -17.067</td> <td> 0.000</td> <td>  -83.924</td> <td>  -66.633</td>\n",
       "</tr>\n",
       "<tr>\n",
       "  <th>yr_built</th>      <td> -317.1397</td> <td>   38.118</td> <td>   -8.320</td> <td> 0.000</td> <td> -391.856</td> <td> -242.423</td>\n",
       "</tr>\n",
       "<tr>\n",
       "  <th>year_sold</th>     <td> 2.038e+04</td> <td> 1467.481</td> <td>   13.887</td> <td> 0.000</td> <td> 1.75e+04</td> <td> 2.33e+04</td>\n",
       "</tr>\n",
       "<tr>\n",
       "  <th>has_renovated</th> <td> 1.331e+04</td> <td> 4475.739</td> <td>    2.974</td> <td> 0.003</td> <td> 4535.824</td> <td> 2.21e+04</td>\n",
       "</tr>\n",
       "<tr>\n",
       "  <th>has_basement</th>  <td> 1.886e+04</td> <td> 2966.219</td> <td>    6.357</td> <td> 0.000</td> <td>  1.3e+04</td> <td> 2.47e+04</td>\n",
       "</tr>\n",
       "<tr>\n",
       "  <th>condition_2</th>   <td> -6.04e+04</td> <td> 7908.099</td> <td>   -7.637</td> <td> 0.000</td> <td>-7.59e+04</td> <td>-4.49e+04</td>\n",
       "</tr>\n",
       "<tr>\n",
       "  <th>zipcode_98004</th> <td> 5.013e+05</td> <td> 9080.980</td> <td>   55.199</td> <td> 0.000</td> <td> 4.83e+05</td> <td> 5.19e+05</td>\n",
       "</tr>\n",
       "<tr>\n",
       "  <th>zipcode_98005</th> <td> 3.501e+05</td> <td> 9491.722</td> <td>   36.887</td> <td> 0.000</td> <td> 3.32e+05</td> <td> 3.69e+05</td>\n",
       "</tr>\n",
       "<tr>\n",
       "  <th>zipcode_98006</th> <td> 2.966e+05</td> <td> 5715.389</td> <td>   51.887</td> <td> 0.000</td> <td> 2.85e+05</td> <td> 3.08e+05</td>\n",
       "</tr>\n",
       "<tr>\n",
       "  <th>zipcode_98007</th> <td> 2.683e+05</td> <td> 8578.715</td> <td>   31.278</td> <td> 0.000</td> <td> 2.52e+05</td> <td> 2.85e+05</td>\n",
       "</tr>\n",
       "<tr>\n",
       "  <th>zipcode_98008</th> <td> 2.599e+05</td> <td> 5944.101</td> <td>   43.723</td> <td> 0.000</td> <td> 2.48e+05</td> <td> 2.72e+05</td>\n",
       "</tr>\n",
       "<tr>\n",
       "  <th>zipcode_98010</th> <td> 8.294e+04</td> <td> 1.27e+04</td> <td>    6.550</td> <td> 0.000</td> <td> 5.81e+04</td> <td> 1.08e+05</td>\n",
       "</tr>\n",
       "<tr>\n",
       "  <th>zipcode_98011</th> <td> 1.589e+05</td> <td> 6938.650</td> <td>   22.904</td> <td> 0.000</td> <td> 1.45e+05</td> <td> 1.73e+05</td>\n",
       "</tr>\n",
       "<tr>\n",
       "  <th>zipcode_98014</th> <td> 8.942e+04</td> <td> 1.37e+04</td> <td>    6.505</td> <td> 0.000</td> <td> 6.25e+04</td> <td> 1.16e+05</td>\n",
       "</tr>\n",
       "<tr>\n",
       "  <th>zipcode_98019</th> <td> 8.812e+04</td> <td> 7824.936</td> <td>   11.262</td> <td> 0.000</td> <td> 7.28e+04</td> <td> 1.03e+05</td>\n",
       "</tr>\n",
       "<tr>\n",
       "  <th>zipcode_98024</th> <td> 1.269e+05</td> <td> 1.87e+04</td> <td>    6.773</td> <td> 0.000</td> <td> 9.02e+04</td> <td> 1.64e+05</td>\n",
       "</tr>\n",
       "<tr>\n",
       "  <th>zipcode_98027</th> <td> 2.502e+05</td> <td> 6255.573</td> <td>   40.004</td> <td> 0.000</td> <td> 2.38e+05</td> <td> 2.63e+05</td>\n",
       "</tr>\n",
       "<tr>\n",
       "  <th>zipcode_98028</th> <td> 1.454e+05</td> <td> 6219.315</td> <td>   23.380</td> <td> 0.000</td> <td> 1.33e+05</td> <td> 1.58e+05</td>\n",
       "</tr>\n",
       "<tr>\n",
       "  <th>zipcode_98029</th> <td> 2.638e+05</td> <td> 5773.000</td> <td>   45.694</td> <td> 0.000</td> <td> 2.52e+05</td> <td> 2.75e+05</td>\n",
       "</tr>\n",
       "<tr>\n",
       "  <th>zipcode_98031</th> <td> 1.692e+04</td> <td> 6050.732</td> <td>    2.796</td> <td> 0.005</td> <td> 5059.441</td> <td> 2.88e+04</td>\n",
       "</tr>\n",
       "<tr>\n",
       "  <th>zipcode_98033</th> <td> 3.215e+05</td> <td> 5462.890</td> <td>   58.846</td> <td> 0.000</td> <td> 3.11e+05</td> <td> 3.32e+05</td>\n",
       "</tr>\n",
       "<tr>\n",
       "  <th>zipcode_98034</th> <td> 1.911e+05</td> <td> 4543.585</td> <td>   42.070</td> <td> 0.000</td> <td> 1.82e+05</td> <td>    2e+05</td>\n",
       "</tr>\n",
       "<tr>\n",
       "  <th>zipcode_98038</th> <td> 3.865e+04</td> <td> 4547.404</td> <td>    8.498</td> <td> 0.000</td> <td> 2.97e+04</td> <td> 4.76e+04</td>\n",
       "</tr>\n",
       "<tr>\n",
       "  <th>zipcode_98039</th> <td> 6.322e+05</td> <td>  7.9e+04</td> <td>    8.006</td> <td> 0.000</td> <td> 4.77e+05</td> <td> 7.87e+05</td>\n",
       "</tr>\n",
       "<tr>\n",
       "  <th>zipcode_98040</th> <td> 4.446e+05</td> <td> 9317.965</td> <td>   47.711</td> <td> 0.000</td> <td> 4.26e+05</td> <td> 4.63e+05</td>\n",
       "</tr>\n",
       "<tr>\n",
       "  <th>zipcode_98042</th> <td> 1.393e+04</td> <td> 4674.450</td> <td>    2.979</td> <td> 0.003</td> <td> 4764.860</td> <td> 2.31e+04</td>\n",
       "</tr>\n",
       "<tr>\n",
       "  <th>zipcode_98045</th> <td> 1.016e+05</td> <td> 8106.404</td> <td>   12.539</td> <td> 0.000</td> <td> 8.58e+04</td> <td> 1.18e+05</td>\n",
       "</tr>\n",
       "<tr>\n",
       "  <th>zipcode_98052</th> <td> 2.777e+05</td> <td> 4637.924</td> <td>   59.887</td> <td> 0.000</td> <td> 2.69e+05</td> <td> 2.87e+05</td>\n",
       "</tr>\n",
       "<tr>\n",
       "  <th>zipcode_98053</th> <td> 2.514e+05</td> <td> 6595.402</td> <td>   38.120</td> <td> 0.000</td> <td> 2.38e+05</td> <td> 2.64e+05</td>\n",
       "</tr>\n",
       "<tr>\n",
       "  <th>zipcode_98055</th> <td> 4.298e+04</td> <td> 6115.645</td> <td>    7.028</td> <td> 0.000</td> <td>  3.1e+04</td> <td>  5.5e+04</td>\n",
       "</tr>\n",
       "<tr>\n",
       "  <th>zipcode_98056</th> <td> 1.088e+05</td> <td> 5058.527</td> <td>   21.506</td> <td> 0.000</td> <td> 9.89e+04</td> <td> 1.19e+05</td>\n",
       "</tr>\n",
       "<tr>\n",
       "  <th>zipcode_98058</th> <td> 4.533e+04</td> <td> 5078.064</td> <td>    8.927</td> <td> 0.000</td> <td> 3.54e+04</td> <td> 5.53e+04</td>\n",
       "</tr>\n",
       "<tr>\n",
       "  <th>zipcode_98059</th> <td> 1.021e+05</td> <td> 5138.476</td> <td>   19.872</td> <td> 0.000</td> <td>  9.2e+04</td> <td> 1.12e+05</td>\n",
       "</tr>\n",
       "<tr>\n",
       "  <th>zipcode_98065</th> <td> 1.387e+05</td> <td> 5889.955</td> <td>   23.547</td> <td> 0.000</td> <td> 1.27e+05</td> <td>  1.5e+05</td>\n",
       "</tr>\n",
       "<tr>\n",
       "  <th>zipcode_98070</th> <td> 1.027e+05</td> <td> 2.06e+04</td> <td>    4.994</td> <td> 0.000</td> <td> 6.24e+04</td> <td> 1.43e+05</td>\n",
       "</tr>\n",
       "<tr>\n",
       "  <th>zipcode_98072</th> <td> 1.599e+05</td> <td> 7909.590</td> <td>   20.222</td> <td> 0.000</td> <td> 1.44e+05</td> <td> 1.75e+05</td>\n",
       "</tr>\n",
       "<tr>\n",
       "  <th>zipcode_98074</th> <td> 2.507e+05</td> <td> 5403.272</td> <td>   46.396</td> <td> 0.000</td> <td>  2.4e+05</td> <td> 2.61e+05</td>\n",
       "</tr>\n",
       "<tr>\n",
       "  <th>zipcode_98075</th> <td> 2.704e+05</td> <td> 6647.757</td> <td>   40.678</td> <td> 0.000</td> <td> 2.57e+05</td> <td> 2.83e+05</td>\n",
       "</tr>\n",
       "<tr>\n",
       "  <th>zipcode_98077</th> <td> 2.076e+05</td> <td> 1.54e+04</td> <td>   13.501</td> <td> 0.000</td> <td> 1.77e+05</td> <td> 2.38e+05</td>\n",
       "</tr>\n",
       "<tr>\n",
       "  <th>zipcode_98102</th> <td> 4.068e+05</td> <td> 1.11e+04</td> <td>   36.563</td> <td> 0.000</td> <td> 3.85e+05</td> <td> 4.29e+05</td>\n",
       "</tr>\n",
       "<tr>\n",
       "  <th>zipcode_98103</th> <td> 3.365e+05</td> <td> 4899.279</td> <td>   68.678</td> <td> 0.000</td> <td> 3.27e+05</td> <td> 3.46e+05</td>\n",
       "</tr>\n",
       "<tr>\n",
       "  <th>zipcode_98105</th> <td>  3.78e+05</td> <td> 7810.178</td> <td>   48.404</td> <td> 0.000</td> <td> 3.63e+05</td> <td> 3.93e+05</td>\n",
       "</tr>\n",
       "<tr>\n",
       "  <th>zipcode_98106</th> <td> 1.179e+05</td> <td> 5446.468</td> <td>   21.638</td> <td> 0.000</td> <td> 1.07e+05</td> <td> 1.29e+05</td>\n",
       "</tr>\n",
       "<tr>\n",
       "  <th>zipcode_98107</th> <td> 3.447e+05</td> <td> 6333.026</td> <td>   54.423</td> <td> 0.000</td> <td> 3.32e+05</td> <td> 3.57e+05</td>\n",
       "</tr>\n",
       "<tr>\n",
       "  <th>zipcode_98108</th> <td> 1.263e+05</td> <td> 7079.058</td> <td>   17.840</td> <td> 0.000</td> <td> 1.12e+05</td> <td>  1.4e+05</td>\n",
       "</tr>\n",
       "<tr>\n",
       "  <th>zipcode_98109</th> <td> 4.187e+05</td> <td> 1.08e+04</td> <td>   38.738</td> <td> 0.000</td> <td> 3.97e+05</td> <td>  4.4e+05</td>\n",
       "</tr>\n",
       "<tr>\n",
       "  <th>zipcode_98112</th> <td> 4.089e+05</td> <td> 8757.724</td> <td>   46.694</td> <td> 0.000</td> <td> 3.92e+05</td> <td> 4.26e+05</td>\n",
       "</tr>\n",
       "<tr>\n",
       "  <th>zipcode_98115</th> <td> 3.266e+05</td> <td> 4765.841</td> <td>   68.533</td> <td> 0.000</td> <td> 3.17e+05</td> <td> 3.36e+05</td>\n",
       "</tr>\n",
       "<tr>\n",
       "  <th>zipcode_98116</th> <td> 3.172e+05</td> <td> 5923.523</td> <td>   53.543</td> <td> 0.000</td> <td> 3.06e+05</td> <td> 3.29e+05</td>\n",
       "</tr>\n",
       "<tr>\n",
       "  <th>zipcode_98117</th> <td> 3.196e+05</td> <td> 4768.178</td> <td>   67.023</td> <td> 0.000</td> <td>  3.1e+05</td> <td> 3.29e+05</td>\n",
       "</tr>\n",
       "<tr>\n",
       "  <th>zipcode_98118</th> <td> 1.651e+05</td> <td> 4779.080</td> <td>   34.541</td> <td> 0.000</td> <td> 1.56e+05</td> <td> 1.74e+05</td>\n",
       "</tr>\n",
       "<tr>\n",
       "  <th>zipcode_98119</th> <td> 4.315e+05</td> <td> 8763.436</td> <td>   49.235</td> <td> 0.000</td> <td> 4.14e+05</td> <td> 4.49e+05</td>\n",
       "</tr>\n",
       "<tr>\n",
       "  <th>zipcode_98122</th> <td>  3.29e+05</td> <td> 6496.404</td> <td>   50.641</td> <td> 0.000</td> <td> 3.16e+05</td> <td> 3.42e+05</td>\n",
       "</tr>\n",
       "<tr>\n",
       "  <th>zipcode_98125</th> <td> 1.996e+05</td> <td> 5045.966</td> <td>   39.550</td> <td> 0.000</td> <td>  1.9e+05</td> <td> 2.09e+05</td>\n",
       "</tr>\n",
       "<tr>\n",
       "  <th>zipcode_98126</th> <td> 2.042e+05</td> <td> 5464.376</td> <td>   37.369</td> <td> 0.000</td> <td> 1.93e+05</td> <td> 2.15e+05</td>\n",
       "</tr>\n",
       "<tr>\n",
       "  <th>zipcode_98133</th> <td> 1.572e+05</td> <td> 4616.491</td> <td>   34.060</td> <td> 0.000</td> <td> 1.48e+05</td> <td> 1.66e+05</td>\n",
       "</tr>\n",
       "<tr>\n",
       "  <th>zipcode_98136</th> <td> 2.769e+05</td> <td> 6305.764</td> <td>   43.907</td> <td> 0.000</td> <td> 2.65e+05</td> <td> 2.89e+05</td>\n",
       "</tr>\n",
       "<tr>\n",
       "  <th>zipcode_98144</th> <td> 2.576e+05</td> <td> 5940.891</td> <td>   43.360</td> <td> 0.000</td> <td> 2.46e+05</td> <td> 2.69e+05</td>\n",
       "</tr>\n",
       "<tr>\n",
       "  <th>zipcode_98146</th> <td> 1.038e+05</td> <td> 5952.451</td> <td>   17.446</td> <td> 0.000</td> <td> 9.22e+04</td> <td> 1.16e+05</td>\n",
       "</tr>\n",
       "<tr>\n",
       "  <th>zipcode_98148</th> <td> 5.387e+04</td> <td> 1.22e+04</td> <td>    4.406</td> <td> 0.000</td> <td> 2.99e+04</td> <td> 7.78e+04</td>\n",
       "</tr>\n",
       "<tr>\n",
       "  <th>zipcode_98155</th> <td> 1.449e+05</td> <td> 4979.280</td> <td>   29.109</td> <td> 0.000</td> <td> 1.35e+05</td> <td> 1.55e+05</td>\n",
       "</tr>\n",
       "<tr>\n",
       "  <th>zipcode_98166</th> <td> 1.053e+05</td> <td> 6916.428</td> <td>   15.220</td> <td> 0.000</td> <td> 9.17e+04</td> <td> 1.19e+05</td>\n",
       "</tr>\n",
       "<tr>\n",
       "  <th>zipcode_98168</th> <td>  3.35e+04</td> <td> 6434.229</td> <td>    5.207</td> <td> 0.000</td> <td> 2.09e+04</td> <td> 4.61e+04</td>\n",
       "</tr>\n",
       "<tr>\n",
       "  <th>zipcode_98177</th> <td> 2.239e+05</td> <td> 6788.543</td> <td>   32.988</td> <td> 0.000</td> <td> 2.11e+05</td> <td> 2.37e+05</td>\n",
       "</tr>\n",
       "<tr>\n",
       "  <th>zipcode_98178</th> <td>  5.88e+04</td> <td> 6187.010</td> <td>    9.504</td> <td> 0.000</td> <td> 4.67e+04</td> <td> 7.09e+04</td>\n",
       "</tr>\n",
       "<tr>\n",
       "  <th>zipcode_98188</th> <td> 3.415e+04</td> <td> 8584.775</td> <td>    3.978</td> <td> 0.000</td> <td> 1.73e+04</td> <td>  5.1e+04</td>\n",
       "</tr>\n",
       "<tr>\n",
       "  <th>zipcode_98198</th> <td> 3.376e+04</td> <td> 5998.975</td> <td>    5.628</td> <td> 0.000</td> <td>  2.2e+04</td> <td> 4.55e+04</td>\n",
       "</tr>\n",
       "<tr>\n",
       "  <th>zipcode_98199</th> <td> 3.647e+05</td> <td> 6411.486</td> <td>   56.884</td> <td> 0.000</td> <td> 3.52e+05</td> <td> 3.77e+05</td>\n",
       "</tr>\n",
       "</table>\n",
       "<table class=\"simpletable\">\n",
       "<tr>\n",
       "  <th>Omnibus:</th>       <td>747.716</td> <th>  Durbin-Watson:     </th> <td>   2.000</td>\n",
       "</tr>\n",
       "<tr>\n",
       "  <th>Prob(Omnibus):</th> <td> 0.000</td>  <th>  Jarque-Bera (JB):  </th> <td>2377.444</td>\n",
       "</tr>\n",
       "<tr>\n",
       "  <th>Skew:</th>          <td> 0.240</td>  <th>  Prob(JB):          </th> <td>    0.00</td>\n",
       "</tr>\n",
       "<tr>\n",
       "  <th>Kurtosis:</th>      <td> 5.013</td>  <th>  Cond. No.          </th> <td>3.63e+07</td>\n",
       "</tr>\n",
       "</table><br/><br/>Warnings:<br/>[1] Standard Errors assume that the covariance matrix of the errors is correctly specified.<br/>[2] The condition number is large, 3.63e+07. This might indicate that there are<br/>strong multicollinearity or other numerical problems."
      ],
      "text/plain": [
       "<class 'statsmodels.iolib.summary.Summary'>\n",
       "\"\"\"\n",
       "                            OLS Regression Results                            \n",
       "==============================================================================\n",
       "Dep. Variable:                  price   R-squared:                       0.800\n",
       "Model:                            OLS   Adj. R-squared:                  0.799\n",
       "Method:                 Least Squares   F-statistic:                     718.5\n",
       "Date:                Thu, 19 Nov 2020   Prob (F-statistic):               0.00\n",
       "Time:                        19:13:45   Log-Likelihood:            -1.6914e+05\n",
       "No. Observations:               13326   AIC:                         3.384e+05\n",
       "Df Residuals:                   13251   BIC:                         3.390e+05\n",
       "Df Model:                          74                                         \n",
       "Covariance Type:            nonrobust                                         \n",
       "=================================================================================\n",
       "                    coef    std err          t      P>|t|      [0.025      0.975]\n",
       "---------------------------------------------------------------------------------\n",
       "Intercept     -4.045e+07   2.96e+06    -13.682      0.000   -4.62e+07   -3.47e+07\n",
       "bedrooms      -9285.8366   1089.751     -8.521      0.000   -1.14e+04   -7149.769\n",
       "bathrooms      1.792e+04   1783.053     10.050      0.000    1.44e+04    2.14e+04\n",
       "sqft_living     163.6019      1.909     85.710      0.000     159.860     167.343\n",
       "sqft_lot          2.4318      0.299      8.131      0.000       1.846       3.018\n",
       "floors        -1.471e+04   2154.686     -6.826      0.000   -1.89e+04   -1.05e+04\n",
       "waterfront     3.347e+05   2.22e+04     15.075      0.000    2.91e+05    3.78e+05\n",
       "sqft_basement   -75.2786      4.411    -17.067      0.000     -83.924     -66.633\n",
       "yr_built       -317.1397     38.118     -8.320      0.000    -391.856    -242.423\n",
       "year_sold      2.038e+04   1467.481     13.887      0.000    1.75e+04    2.33e+04\n",
       "has_renovated  1.331e+04   4475.739      2.974      0.003    4535.824    2.21e+04\n",
       "has_basement   1.886e+04   2966.219      6.357      0.000     1.3e+04    2.47e+04\n",
       "condition_2    -6.04e+04   7908.099     -7.637      0.000   -7.59e+04   -4.49e+04\n",
       "zipcode_98004  5.013e+05   9080.980     55.199      0.000    4.83e+05    5.19e+05\n",
       "zipcode_98005  3.501e+05   9491.722     36.887      0.000    3.32e+05    3.69e+05\n",
       "zipcode_98006  2.966e+05   5715.389     51.887      0.000    2.85e+05    3.08e+05\n",
       "zipcode_98007  2.683e+05   8578.715     31.278      0.000    2.52e+05    2.85e+05\n",
       "zipcode_98008  2.599e+05   5944.101     43.723      0.000    2.48e+05    2.72e+05\n",
       "zipcode_98010  8.294e+04   1.27e+04      6.550      0.000    5.81e+04    1.08e+05\n",
       "zipcode_98011  1.589e+05   6938.650     22.904      0.000    1.45e+05    1.73e+05\n",
       "zipcode_98014  8.942e+04   1.37e+04      6.505      0.000    6.25e+04    1.16e+05\n",
       "zipcode_98019  8.812e+04   7824.936     11.262      0.000    7.28e+04    1.03e+05\n",
       "zipcode_98024  1.269e+05   1.87e+04      6.773      0.000    9.02e+04    1.64e+05\n",
       "zipcode_98027  2.502e+05   6255.573     40.004      0.000    2.38e+05    2.63e+05\n",
       "zipcode_98028  1.454e+05   6219.315     23.380      0.000    1.33e+05    1.58e+05\n",
       "zipcode_98029  2.638e+05   5773.000     45.694      0.000    2.52e+05    2.75e+05\n",
       "zipcode_98031  1.692e+04   6050.732      2.796      0.005    5059.441    2.88e+04\n",
       "zipcode_98033  3.215e+05   5462.890     58.846      0.000    3.11e+05    3.32e+05\n",
       "zipcode_98034  1.911e+05   4543.585     42.070      0.000    1.82e+05       2e+05\n",
       "zipcode_98038  3.865e+04   4547.404      8.498      0.000    2.97e+04    4.76e+04\n",
       "zipcode_98039  6.322e+05    7.9e+04      8.006      0.000    4.77e+05    7.87e+05\n",
       "zipcode_98040  4.446e+05   9317.965     47.711      0.000    4.26e+05    4.63e+05\n",
       "zipcode_98042  1.393e+04   4674.450      2.979      0.003    4764.860    2.31e+04\n",
       "zipcode_98045  1.016e+05   8106.404     12.539      0.000    8.58e+04    1.18e+05\n",
       "zipcode_98052  2.777e+05   4637.924     59.887      0.000    2.69e+05    2.87e+05\n",
       "zipcode_98053  2.514e+05   6595.402     38.120      0.000    2.38e+05    2.64e+05\n",
       "zipcode_98055  4.298e+04   6115.645      7.028      0.000     3.1e+04     5.5e+04\n",
       "zipcode_98056  1.088e+05   5058.527     21.506      0.000    9.89e+04    1.19e+05\n",
       "zipcode_98058  4.533e+04   5078.064      8.927      0.000    3.54e+04    5.53e+04\n",
       "zipcode_98059  1.021e+05   5138.476     19.872      0.000     9.2e+04    1.12e+05\n",
       "zipcode_98065  1.387e+05   5889.955     23.547      0.000    1.27e+05     1.5e+05\n",
       "zipcode_98070  1.027e+05   2.06e+04      4.994      0.000    6.24e+04    1.43e+05\n",
       "zipcode_98072  1.599e+05   7909.590     20.222      0.000    1.44e+05    1.75e+05\n",
       "zipcode_98074  2.507e+05   5403.272     46.396      0.000     2.4e+05    2.61e+05\n",
       "zipcode_98075  2.704e+05   6647.757     40.678      0.000    2.57e+05    2.83e+05\n",
       "zipcode_98077  2.076e+05   1.54e+04     13.501      0.000    1.77e+05    2.38e+05\n",
       "zipcode_98102  4.068e+05   1.11e+04     36.563      0.000    3.85e+05    4.29e+05\n",
       "zipcode_98103  3.365e+05   4899.279     68.678      0.000    3.27e+05    3.46e+05\n",
       "zipcode_98105   3.78e+05   7810.178     48.404      0.000    3.63e+05    3.93e+05\n",
       "zipcode_98106  1.179e+05   5446.468     21.638      0.000    1.07e+05    1.29e+05\n",
       "zipcode_98107  3.447e+05   6333.026     54.423      0.000    3.32e+05    3.57e+05\n",
       "zipcode_98108  1.263e+05   7079.058     17.840      0.000    1.12e+05     1.4e+05\n",
       "zipcode_98109  4.187e+05   1.08e+04     38.738      0.000    3.97e+05     4.4e+05\n",
       "zipcode_98112  4.089e+05   8757.724     46.694      0.000    3.92e+05    4.26e+05\n",
       "zipcode_98115  3.266e+05   4765.841     68.533      0.000    3.17e+05    3.36e+05\n",
       "zipcode_98116  3.172e+05   5923.523     53.543      0.000    3.06e+05    3.29e+05\n",
       "zipcode_98117  3.196e+05   4768.178     67.023      0.000     3.1e+05    3.29e+05\n",
       "zipcode_98118  1.651e+05   4779.080     34.541      0.000    1.56e+05    1.74e+05\n",
       "zipcode_98119  4.315e+05   8763.436     49.235      0.000    4.14e+05    4.49e+05\n",
       "zipcode_98122   3.29e+05   6496.404     50.641      0.000    3.16e+05    3.42e+05\n",
       "zipcode_98125  1.996e+05   5045.966     39.550      0.000     1.9e+05    2.09e+05\n",
       "zipcode_98126  2.042e+05   5464.376     37.369      0.000    1.93e+05    2.15e+05\n",
       "zipcode_98133  1.572e+05   4616.491     34.060      0.000    1.48e+05    1.66e+05\n",
       "zipcode_98136  2.769e+05   6305.764     43.907      0.000    2.65e+05    2.89e+05\n",
       "zipcode_98144  2.576e+05   5940.891     43.360      0.000    2.46e+05    2.69e+05\n",
       "zipcode_98146  1.038e+05   5952.451     17.446      0.000    9.22e+04    1.16e+05\n",
       "zipcode_98148  5.387e+04   1.22e+04      4.406      0.000    2.99e+04    7.78e+04\n",
       "zipcode_98155  1.449e+05   4979.280     29.109      0.000    1.35e+05    1.55e+05\n",
       "zipcode_98166  1.053e+05   6916.428     15.220      0.000    9.17e+04    1.19e+05\n",
       "zipcode_98168   3.35e+04   6434.229      5.207      0.000    2.09e+04    4.61e+04\n",
       "zipcode_98177  2.239e+05   6788.543     32.988      0.000    2.11e+05    2.37e+05\n",
       "zipcode_98178   5.88e+04   6187.010      9.504      0.000    4.67e+04    7.09e+04\n",
       "zipcode_98188  3.415e+04   8584.775      3.978      0.000    1.73e+04     5.1e+04\n",
       "zipcode_98198  3.376e+04   5998.975      5.628      0.000     2.2e+04    4.55e+04\n",
       "zipcode_98199  3.647e+05   6411.486     56.884      0.000    3.52e+05    3.77e+05\n",
       "==============================================================================\n",
       "Omnibus:                      747.716   Durbin-Watson:                   2.000\n",
       "Prob(Omnibus):                  0.000   Jarque-Bera (JB):             2377.444\n",
       "Skew:                           0.240   Prob(JB):                         0.00\n",
       "Kurtosis:                       5.013   Cond. No.                     3.63e+07\n",
       "==============================================================================\n",
       "\n",
       "Warnings:\n",
       "[1] Standard Errors assume that the covariance matrix of the errors is correctly specified.\n",
       "[2] The condition number is large, 3.63e+07. This might indicate that there are\n",
       "strong multicollinearity or other numerical problems.\n",
       "\"\"\""
      ]
     },
     "execution_count": 87,
     "metadata": {},
     "output_type": "execute_result"
    }
   ],
   "source": [
    "predictors = '+'.join(x_cols)\n",
    "formula = outcome + '~' + predictors\n",
    "model = ols(formula=formula, data = dftrain).fit()\n",
    "model.summary()"
   ]
  },
  {
   "cell_type": "markdown",
   "metadata": {
    "hidden": true
   },
   "source": [
    "### QQ plot"
   ]
  },
  {
   "cell_type": "code",
   "execution_count": 88,
   "metadata": {
    "hidden": true,
    "scrolled": true
   },
   "outputs": [
    {
     "data": {
      "image/png": "[encoded data removed]",
      "text/plain": [
       "<Figure size 432x288 with 1 Axes>"
      ]
     },
     "metadata": {},
     "output_type": "display_data"
    }
   ],
   "source": [
    "fig = sm.graphics.qqplot(model.resid, dist=stats.norm, line='45', fit=True)"
   ]
  },
  {
   "cell_type": "markdown",
   "metadata": {
    "code_folding": [],
    "hidden": true
   },
   "source": [
    "### Homoscedasiticity"
   ]
  },
  {
   "cell_type": "code",
   "execution_count": 89,
   "metadata": {
    "hidden": true
   },
   "outputs": [
    {
     "data": {
      "image/png": "[encoded data removed]",
      "text/plain": [
       "<Figure size 432x288 with 1 Axes>"
      ]
     },
     "metadata": {},
     "output_type": "display_data"
    }
   ],
   "source": [
    "plt.scatter(model.predict(dftrain[x_cols]), model.resid)\n",
    "plt.plot(model.predict(dftrain[x_cols]), [0 for i in range(len(dftrain))]);"
   ]
  },
  {
   "cell_type": "markdown",
   "metadata": {},
   "source": [
    "## Fourth Model (final) - Transformation"
   ]
  },
  {
   "cell_type": "code",
   "execution_count": 90,
   "metadata": {
    "scrolled": true
   },
   "outputs": [
    {
     "data": {
      "image/png": "[encoded data removed]",
      "text/plain": [
       "<Figure size 432x288 with 1 Axes>"
      ]
     },
     "metadata": {},
     "output_type": "display_data"
    }
   ],
   "source": [
    "cont = ['sqft_living','sqft_lot']\n",
    "\n",
    "sns.histplot(data = dftrain, x = 'sqft_living');"
   ]
  },
  {
   "cell_type": "code",
   "execution_count": 91,
   "metadata": {},
   "outputs": [
    {
     "data": {
      "image/png": "[encoded data removed]",
      "text/plain": [
       "<Figure size 432x288 with 1 Axes>"
      ]
     },
     "metadata": {},
     "output_type": "display_data"
    }
   ],
   "source": [
    "sns.histplot(data = dftrain, x = 'sqft_lot');"
   ]
  },
  {
   "cell_type": "code",
   "execution_count": 92,
   "metadata": {},
   "outputs": [],
   "source": [
    "dfcont = dftrain[cont]\n",
    "log_names = [f'{column}_log' for column in dfcont.columns]\n",
    "\n",
    "df_log = np.log(dfcont)\n",
    "df_log.columns = log_names\n",
    "\n",
    "for col in df_log:\n",
    "    dftrain[col] = df_log[col]"
   ]
  },
  {
   "cell_type": "code",
   "execution_count": 93,
   "metadata": {
    "scrolled": true
   },
   "outputs": [
    {
     "data": {
      "text/html": [
       "<div>\n",
       "<style scoped>\n",
       "    .dataframe tbody tr th:only-of-type {\n",
       "        vertical-align: middle;\n",
       "    }\n",
       "\n",
       "    .dataframe tbody tr th {\n",
       "        vertical-align: top;\n",
       "    }\n",
       "\n",
       "    .dataframe thead th {\n",
       "        text-align: right;\n",
       "    }\n",
       "</style>\n",
       "<table border=\"1\" class=\"dataframe\">\n",
       "  <thead>\n",
       "    <tr style=\"text-align: right;\">\n",
       "      <th></th>\n",
       "      <th>bedrooms</th>\n",
       "      <th>bathrooms</th>\n",
       "      <th>sqft_living</th>\n",
       "      <th>sqft_lot</th>\n",
       "      <th>floors</th>\n",
       "      <th>waterfront</th>\n",
       "      <th>sqft_basement</th>\n",
       "      <th>yr_built</th>\n",
       "      <th>year_sold</th>\n",
       "      <th>has_renovated</th>\n",
       "      <th>...</th>\n",
       "      <th>zipcode_98166</th>\n",
       "      <th>zipcode_98168</th>\n",
       "      <th>zipcode_98177</th>\n",
       "      <th>zipcode_98178</th>\n",
       "      <th>zipcode_98188</th>\n",
       "      <th>zipcode_98198</th>\n",
       "      <th>zipcode_98199</th>\n",
       "      <th>price</th>\n",
       "      <th>sqft_living_log</th>\n",
       "      <th>sqft_lot_log</th>\n",
       "    </tr>\n",
       "  </thead>\n",
       "  <tbody>\n",
       "    <tr>\n",
       "      <th>16497</th>\n",
       "      <td>4</td>\n",
       "      <td>3.00</td>\n",
       "      <td>2240</td>\n",
       "      <td>8504</td>\n",
       "      <td>2.0</td>\n",
       "      <td>0</td>\n",
       "      <td>0</td>\n",
       "      <td>1992</td>\n",
       "      <td>2014</td>\n",
       "      <td>0</td>\n",
       "      <td>...</td>\n",
       "      <td>0</td>\n",
       "      <td>0</td>\n",
       "      <td>0</td>\n",
       "      <td>0</td>\n",
       "      <td>0</td>\n",
       "      <td>0</td>\n",
       "      <td>0</td>\n",
       "      <td>337000</td>\n",
       "      <td>7.714231</td>\n",
       "      <td>9.048292</td>\n",
       "    </tr>\n",
       "    <tr>\n",
       "      <th>8204</th>\n",
       "      <td>2</td>\n",
       "      <td>1.00</td>\n",
       "      <td>860</td>\n",
       "      <td>5800</td>\n",
       "      <td>1.0</td>\n",
       "      <td>0</td>\n",
       "      <td>0</td>\n",
       "      <td>1942</td>\n",
       "      <td>2014</td>\n",
       "      <td>0</td>\n",
       "      <td>...</td>\n",
       "      <td>0</td>\n",
       "      <td>0</td>\n",
       "      <td>0</td>\n",
       "      <td>0</td>\n",
       "      <td>0</td>\n",
       "      <td>0</td>\n",
       "      <td>0</td>\n",
       "      <td>222900</td>\n",
       "      <td>6.756932</td>\n",
       "      <td>8.665613</td>\n",
       "    </tr>\n",
       "    <tr>\n",
       "      <th>7934</th>\n",
       "      <td>3</td>\n",
       "      <td>1.75</td>\n",
       "      <td>1830</td>\n",
       "      <td>5488</td>\n",
       "      <td>1.0</td>\n",
       "      <td>0</td>\n",
       "      <td>820</td>\n",
       "      <td>1939</td>\n",
       "      <td>2014</td>\n",
       "      <td>0</td>\n",
       "      <td>...</td>\n",
       "      <td>0</td>\n",
       "      <td>0</td>\n",
       "      <td>0</td>\n",
       "      <td>0</td>\n",
       "      <td>0</td>\n",
       "      <td>0</td>\n",
       "      <td>0</td>\n",
       "      <td>450000</td>\n",
       "      <td>7.512071</td>\n",
       "      <td>8.610319</td>\n",
       "    </tr>\n",
       "    <tr>\n",
       "      <th>15424</th>\n",
       "      <td>4</td>\n",
       "      <td>2.50</td>\n",
       "      <td>2390</td>\n",
       "      <td>4639</td>\n",
       "      <td>2.0</td>\n",
       "      <td>0</td>\n",
       "      <td>0</td>\n",
       "      <td>2006</td>\n",
       "      <td>2015</td>\n",
       "      <td>0</td>\n",
       "      <td>...</td>\n",
       "      <td>0</td>\n",
       "      <td>0</td>\n",
       "      <td>0</td>\n",
       "      <td>0</td>\n",
       "      <td>0</td>\n",
       "      <td>0</td>\n",
       "      <td>0</td>\n",
       "      <td>278226</td>\n",
       "      <td>7.779049</td>\n",
       "      <td>8.442254</td>\n",
       "    </tr>\n",
       "    <tr>\n",
       "      <th>20916</th>\n",
       "      <td>4</td>\n",
       "      <td>2.50</td>\n",
       "      <td>1610</td>\n",
       "      <td>4052</td>\n",
       "      <td>2.0</td>\n",
       "      <td>0</td>\n",
       "      <td>0</td>\n",
       "      <td>2013</td>\n",
       "      <td>2014</td>\n",
       "      <td>0</td>\n",
       "      <td>...</td>\n",
       "      <td>0</td>\n",
       "      <td>0</td>\n",
       "      <td>0</td>\n",
       "      <td>0</td>\n",
       "      <td>0</td>\n",
       "      <td>0</td>\n",
       "      <td>0</td>\n",
       "      <td>286950</td>\n",
       "      <td>7.383989</td>\n",
       "      <td>8.306966</td>\n",
       "    </tr>\n",
       "    <tr>\n",
       "      <th>...</th>\n",
       "      <td>...</td>\n",
       "      <td>...</td>\n",
       "      <td>...</td>\n",
       "      <td>...</td>\n",
       "      <td>...</td>\n",
       "      <td>...</td>\n",
       "      <td>...</td>\n",
       "      <td>...</td>\n",
       "      <td>...</td>\n",
       "      <td>...</td>\n",
       "      <td>...</td>\n",
       "      <td>...</td>\n",
       "      <td>...</td>\n",
       "      <td>...</td>\n",
       "      <td>...</td>\n",
       "      <td>...</td>\n",
       "      <td>...</td>\n",
       "      <td>...</td>\n",
       "      <td>...</td>\n",
       "      <td>...</td>\n",
       "      <td>...</td>\n",
       "    </tr>\n",
       "    <tr>\n",
       "      <th>129</th>\n",
       "      <td>4</td>\n",
       "      <td>2.50</td>\n",
       "      <td>2070</td>\n",
       "      <td>4310</td>\n",
       "      <td>2.0</td>\n",
       "      <td>0</td>\n",
       "      <td>0</td>\n",
       "      <td>2004</td>\n",
       "      <td>2015</td>\n",
       "      <td>0</td>\n",
       "      <td>...</td>\n",
       "      <td>0</td>\n",
       "      <td>0</td>\n",
       "      <td>0</td>\n",
       "      <td>0</td>\n",
       "      <td>0</td>\n",
       "      <td>0</td>\n",
       "      <td>0</td>\n",
       "      <td>430000</td>\n",
       "      <td>7.635304</td>\n",
       "      <td>8.368693</td>\n",
       "    </tr>\n",
       "    <tr>\n",
       "      <th>17533</th>\n",
       "      <td>4</td>\n",
       "      <td>2.50</td>\n",
       "      <td>2220</td>\n",
       "      <td>6800</td>\n",
       "      <td>2.0</td>\n",
       "      <td>0</td>\n",
       "      <td>0</td>\n",
       "      <td>2002</td>\n",
       "      <td>2014</td>\n",
       "      <td>0</td>\n",
       "      <td>...</td>\n",
       "      <td>0</td>\n",
       "      <td>0</td>\n",
       "      <td>0</td>\n",
       "      <td>0</td>\n",
       "      <td>0</td>\n",
       "      <td>0</td>\n",
       "      <td>0</td>\n",
       "      <td>419950</td>\n",
       "      <td>7.705262</td>\n",
       "      <td>8.824678</td>\n",
       "    </tr>\n",
       "    <tr>\n",
       "      <th>10138</th>\n",
       "      <td>3</td>\n",
       "      <td>1.00</td>\n",
       "      <td>1290</td>\n",
       "      <td>8974</td>\n",
       "      <td>1.0</td>\n",
       "      <td>0</td>\n",
       "      <td>0</td>\n",
       "      <td>1976</td>\n",
       "      <td>2014</td>\n",
       "      <td>0</td>\n",
       "      <td>...</td>\n",
       "      <td>0</td>\n",
       "      <td>0</td>\n",
       "      <td>0</td>\n",
       "      <td>0</td>\n",
       "      <td>0</td>\n",
       "      <td>0</td>\n",
       "      <td>0</td>\n",
       "      <td>373000</td>\n",
       "      <td>7.162397</td>\n",
       "      <td>9.102087</td>\n",
       "    </tr>\n",
       "    <tr>\n",
       "      <th>20049</th>\n",
       "      <td>3</td>\n",
       "      <td>2.25</td>\n",
       "      <td>1380</td>\n",
       "      <td>1621</td>\n",
       "      <td>2.0</td>\n",
       "      <td>0</td>\n",
       "      <td>240</td>\n",
       "      <td>2007</td>\n",
       "      <td>2014</td>\n",
       "      <td>0</td>\n",
       "      <td>...</td>\n",
       "      <td>0</td>\n",
       "      <td>0</td>\n",
       "      <td>0</td>\n",
       "      <td>0</td>\n",
       "      <td>0</td>\n",
       "      <td>0</td>\n",
       "      <td>0</td>\n",
       "      <td>475000</td>\n",
       "      <td>7.229839</td>\n",
       "      <td>7.390799</td>\n",
       "    </tr>\n",
       "    <tr>\n",
       "      <th>20474</th>\n",
       "      <td>3</td>\n",
       "      <td>2.50</td>\n",
       "      <td>1270</td>\n",
       "      <td>1283</td>\n",
       "      <td>3.0</td>\n",
       "      <td>0</td>\n",
       "      <td>0</td>\n",
       "      <td>2007</td>\n",
       "      <td>2014</td>\n",
       "      <td>0</td>\n",
       "      <td>...</td>\n",
       "      <td>0</td>\n",
       "      <td>0</td>\n",
       "      <td>0</td>\n",
       "      <td>0</td>\n",
       "      <td>0</td>\n",
       "      <td>0</td>\n",
       "      <td>0</td>\n",
       "      <td>292000</td>\n",
       "      <td>7.146772</td>\n",
       "      <td>7.156956</td>\n",
       "    </tr>\n",
       "  </tbody>\n",
       "</table>\n",
       "<p>13326 rows × 84 columns</p>\n",
       "</div>"
      ],
      "text/plain": [
       "       bedrooms  bathrooms  sqft_living  sqft_lot  floors  waterfront  \\\n",
       "16497         4       3.00         2240      8504     2.0           0   \n",
       "8204          2       1.00          860      5800     1.0           0   \n",
       "7934          3       1.75         1830      5488     1.0           0   \n",
       "15424         4       2.50         2390      4639     2.0           0   \n",
       "20916         4       2.50         1610      4052     2.0           0   \n",
       "...         ...        ...          ...       ...     ...         ...   \n",
       "129           4       2.50         2070      4310     2.0           0   \n",
       "17533         4       2.50         2220      6800     2.0           0   \n",
       "10138         3       1.00         1290      8974     1.0           0   \n",
       "20049         3       2.25         1380      1621     2.0           0   \n",
       "20474         3       2.50         1270      1283     3.0           0   \n",
       "\n",
       "       sqft_basement  yr_built  year_sold  has_renovated  ...  zipcode_98166  \\\n",
       "16497              0      1992       2014              0  ...              0   \n",
       "8204               0      1942       2014              0  ...              0   \n",
       "7934             820      1939       2014              0  ...              0   \n",
       "15424              0      2006       2015              0  ...              0   \n",
       "20916              0      2013       2014              0  ...              0   \n",
       "...              ...       ...        ...            ...  ...            ...   \n",
       "129                0      2004       2015              0  ...              0   \n",
       "17533              0      2002       2014              0  ...              0   \n",
       "10138              0      1976       2014              0  ...              0   \n",
       "20049            240      2007       2014              0  ...              0   \n",
       "20474              0      2007       2014              0  ...              0   \n",
       "\n",
       "       zipcode_98168  zipcode_98177  zipcode_98178  zipcode_98188  \\\n",
       "16497              0              0              0              0   \n",
       "8204               0              0              0              0   \n",
       "7934               0              0              0              0   \n",
       "15424              0              0              0              0   \n",
       "20916              0              0              0              0   \n",
       "...              ...            ...            ...            ...   \n",
       "129                0              0              0              0   \n",
       "17533              0              0              0              0   \n",
       "10138              0              0              0              0   \n",
       "20049              0              0              0              0   \n",
       "20474              0              0              0              0   \n",
       "\n",
       "       zipcode_98198  zipcode_98199   price  sqft_living_log  sqft_lot_log  \n",
       "16497              0              0  337000         7.714231      9.048292  \n",
       "8204               0              0  222900         6.756932      8.665613  \n",
       "7934               0              0  450000         7.512071      8.610319  \n",
       "15424              0              0  278226         7.779049      8.442254  \n",
       "20916              0              0  286950         7.383989      8.306966  \n",
       "...              ...            ...     ...              ...           ...  \n",
       "129                0              0  430000         7.635304      8.368693  \n",
       "17533              0              0  419950         7.705262      8.824678  \n",
       "10138              0              0  373000         7.162397      9.102087  \n",
       "20049              0              0  475000         7.229839      7.390799  \n",
       "20474              0              0  292000         7.146772      7.156956  \n",
       "\n",
       "[13326 rows x 84 columns]"
      ]
     },
     "execution_count": 93,
     "metadata": {},
     "output_type": "execute_result"
    }
   ],
   "source": [
    "dftrain"
   ]
  },
  {
   "cell_type": "code",
   "execution_count": 94,
   "metadata": {},
   "outputs": [
    {
     "data": {
      "image/png": "[encoded data removed]",
      "text/plain": [
       "<Figure size 432x288 with 1 Axes>"
      ]
     },
     "metadata": {},
     "output_type": "display_data"
    }
   ],
   "source": [
    "sns.histplot(data = dftrain, x = 'sqft_living_log');"
   ]
  },
  {
   "cell_type": "code",
   "execution_count": 95,
   "metadata": {
    "scrolled": true
   },
   "outputs": [
    {
     "data": {
      "image/png": "[encoded data removed]",
      "text/plain": [
       "<Figure size 432x288 with 1 Axes>"
      ]
     },
     "metadata": {},
     "output_type": "display_data"
    }
   ],
   "source": [
    "sns.histplot(data = dftrain, x = 'sqft_lot_log');"
   ]
  },
  {
   "cell_type": "code",
   "execution_count": 96,
   "metadata": {},
   "outputs": [],
   "source": [
    "x_cols.remove('sqft_living')\n",
    "x_cols.remove('sqft_lot')\n",
    "\n",
    "x_cols.append('sqft_living_log')\n",
    "x_cols.append('sqft_lot_log')"
   ]
  },
  {
   "cell_type": "code",
   "execution_count": 97,
   "metadata": {},
   "outputs": [
    {
     "data": {
      "text/html": [
       "<table class=\"simpletable\">\n",
       "<caption>OLS Regression Results</caption>\n",
       "<tr>\n",
       "  <th>Dep. Variable:</th>          <td>price</td>      <th>  R-squared:         </th>  <td>   0.789</td>  \n",
       "</tr>\n",
       "<tr>\n",
       "  <th>Model:</th>                   <td>OLS</td>       <th>  Adj. R-squared:    </th>  <td>   0.788</td>  \n",
       "</tr>\n",
       "<tr>\n",
       "  <th>Method:</th>             <td>Least Squares</td>  <th>  F-statistic:       </th>  <td>   670.6</td>  \n",
       "</tr>\n",
       "<tr>\n",
       "  <th>Date:</th>             <td>Thu, 19 Nov 2020</td> <th>  Prob (F-statistic):</th>   <td>  0.00</td>   \n",
       "</tr>\n",
       "<tr>\n",
       "  <th>Time:</th>                 <td>19:13:47</td>     <th>  Log-Likelihood:    </th> <td>-1.6951e+05</td>\n",
       "</tr>\n",
       "<tr>\n",
       "  <th>No. Observations:</th>      <td> 13326</td>      <th>  AIC:               </th>  <td>3.392e+05</td> \n",
       "</tr>\n",
       "<tr>\n",
       "  <th>Df Residuals:</th>          <td> 13251</td>      <th>  BIC:               </th>  <td>3.397e+05</td> \n",
       "</tr>\n",
       "<tr>\n",
       "  <th>Df Model:</th>              <td>    74</td>      <th>                     </th>      <td> </td>     \n",
       "</tr>\n",
       "<tr>\n",
       "  <th>Covariance Type:</th>      <td>nonrobust</td>    <th>                     </th>      <td> </td>     \n",
       "</tr>\n",
       "</table>\n",
       "<table class=\"simpletable\">\n",
       "<tr>\n",
       "         <td></td>            <th>coef</th>     <th>std err</th>      <th>t</th>      <th>P>|t|</th>  <th>[0.025</th>    <th>0.975]</th>  \n",
       "</tr>\n",
       "<tr>\n",
       "  <th>Intercept</th>       <td>-4.327e+07</td> <td> 3.04e+06</td> <td>  -14.235</td> <td> 0.000</td> <td>-4.92e+07</td> <td>-3.73e+07</td>\n",
       "</tr>\n",
       "<tr>\n",
       "  <th>bedrooms</th>        <td>-1.229e+04</td> <td> 1143.263</td> <td>  -10.749</td> <td> 0.000</td> <td>-1.45e+04</td> <td>   -1e+04</td>\n",
       "</tr>\n",
       "<tr>\n",
       "  <th>bathrooms</th>       <td> 1.924e+04</td> <td> 1846.600</td> <td>   10.418</td> <td> 0.000</td> <td> 1.56e+04</td> <td> 2.29e+04</td>\n",
       "</tr>\n",
       "<tr>\n",
       "  <th>floors</th>          <td>-1054.2111</td> <td> 2379.423</td> <td>   -0.443</td> <td> 0.658</td> <td>-5718.220</td> <td> 3609.798</td>\n",
       "</tr>\n",
       "<tr>\n",
       "  <th>waterfront</th>      <td> 3.279e+05</td> <td> 2.28e+04</td> <td>   14.377</td> <td> 0.000</td> <td> 2.83e+05</td> <td> 3.73e+05</td>\n",
       "</tr>\n",
       "<tr>\n",
       "  <th>sqft_basement</th>   <td>  -51.9573</td> <td>    4.488</td> <td>  -11.576</td> <td> 0.000</td> <td>  -60.755</td> <td>  -43.160</td>\n",
       "</tr>\n",
       "<tr>\n",
       "  <th>yr_built</th>        <td> -199.5400</td> <td>   40.480</td> <td>   -4.929</td> <td> 0.000</td> <td> -278.886</td> <td> -120.194</td>\n",
       "</tr>\n",
       "<tr>\n",
       "  <th>year_sold</th>       <td> 2.067e+04</td> <td> 1508.323</td> <td>   13.702</td> <td> 0.000</td> <td> 1.77e+04</td> <td> 2.36e+04</td>\n",
       "</tr>\n",
       "<tr>\n",
       "  <th>has_renovated</th>   <td> 1.421e+04</td> <td> 4601.873</td> <td>    3.087</td> <td> 0.002</td> <td> 5186.232</td> <td> 2.32e+04</td>\n",
       "</tr>\n",
       "<tr>\n",
       "  <th>has_basement</th>    <td> 2784.2006</td> <td> 3042.151</td> <td>    0.915</td> <td> 0.360</td> <td>-3178.851</td> <td> 8747.252</td>\n",
       "</tr>\n",
       "<tr>\n",
       "  <th>condition_2</th>     <td>-5.343e+04</td> <td> 8133.766</td> <td>   -6.569</td> <td> 0.000</td> <td>-6.94e+04</td> <td>-3.75e+04</td>\n",
       "</tr>\n",
       "<tr>\n",
       "  <th>zipcode_98004</th>   <td>  5.02e+05</td> <td> 9335.155</td> <td>   53.771</td> <td> 0.000</td> <td> 4.84e+05</td> <td>  5.2e+05</td>\n",
       "</tr>\n",
       "<tr>\n",
       "  <th>zipcode_98005</th>   <td> 3.536e+05</td> <td> 9749.946</td> <td>   36.269</td> <td> 0.000</td> <td> 3.35e+05</td> <td> 3.73e+05</td>\n",
       "</tr>\n",
       "<tr>\n",
       "  <th>zipcode_98006</th>   <td> 3.006e+05</td> <td> 5866.632</td> <td>   51.244</td> <td> 0.000</td> <td> 2.89e+05</td> <td> 3.12e+05</td>\n",
       "</tr>\n",
       "<tr>\n",
       "  <th>zipcode_98007</th>   <td>   2.7e+05</td> <td> 8818.363</td> <td>   30.613</td> <td> 0.000</td> <td> 2.53e+05</td> <td> 2.87e+05</td>\n",
       "</tr>\n",
       "<tr>\n",
       "  <th>zipcode_98008</th>   <td> 2.615e+05</td> <td> 6116.452</td> <td>   42.746</td> <td> 0.000</td> <td> 2.49e+05</td> <td> 2.73e+05</td>\n",
       "</tr>\n",
       "<tr>\n",
       "  <th>zipcode_98010</th>   <td> 8.472e+04</td> <td>  1.3e+04</td> <td>    6.510</td> <td> 0.000</td> <td> 5.92e+04</td> <td>  1.1e+05</td>\n",
       "</tr>\n",
       "<tr>\n",
       "  <th>zipcode_98011</th>   <td> 1.645e+05</td> <td> 7129.910</td> <td>   23.067</td> <td> 0.000</td> <td>  1.5e+05</td> <td> 1.78e+05</td>\n",
       "</tr>\n",
       "<tr>\n",
       "  <th>zipcode_98014</th>   <td> 9.118e+04</td> <td> 1.41e+04</td> <td>    6.464</td> <td> 0.000</td> <td> 6.35e+04</td> <td> 1.19e+05</td>\n",
       "</tr>\n",
       "<tr>\n",
       "  <th>zipcode_98019</th>   <td> 9.204e+04</td> <td> 8040.613</td> <td>   11.446</td> <td> 0.000</td> <td> 7.63e+04</td> <td> 1.08e+05</td>\n",
       "</tr>\n",
       "<tr>\n",
       "  <th>zipcode_98024</th>   <td> 1.371e+05</td> <td> 1.93e+04</td> <td>    7.123</td> <td> 0.000</td> <td> 9.94e+04</td> <td> 1.75e+05</td>\n",
       "</tr>\n",
       "<tr>\n",
       "  <th>zipcode_98027</th>   <td> 2.705e+05</td> <td> 6456.952</td> <td>   41.886</td> <td> 0.000</td> <td> 2.58e+05</td> <td> 2.83e+05</td>\n",
       "</tr>\n",
       "<tr>\n",
       "  <th>zipcode_98028</th>   <td> 1.468e+05</td> <td> 6389.365</td> <td>   22.969</td> <td> 0.000</td> <td> 1.34e+05</td> <td> 1.59e+05</td>\n",
       "</tr>\n",
       "<tr>\n",
       "  <th>zipcode_98029</th>   <td> 2.698e+05</td> <td> 5932.282</td> <td>   45.477</td> <td> 0.000</td> <td> 2.58e+05</td> <td> 2.81e+05</td>\n",
       "</tr>\n",
       "<tr>\n",
       "  <th>zipcode_98031</th>   <td> 1.348e+04</td> <td> 6218.181</td> <td>    2.168</td> <td> 0.030</td> <td> 1294.436</td> <td> 2.57e+04</td>\n",
       "</tr>\n",
       "<tr>\n",
       "  <th>zipcode_98033</th>   <td>  3.24e+05</td> <td> 5615.927</td> <td>   57.692</td> <td> 0.000</td> <td> 3.13e+05</td> <td> 3.35e+05</td>\n",
       "</tr>\n",
       "<tr>\n",
       "  <th>zipcode_98034</th>   <td> 1.921e+05</td> <td> 4670.474</td> <td>   41.121</td> <td> 0.000</td> <td> 1.83e+05</td> <td> 2.01e+05</td>\n",
       "</tr>\n",
       "<tr>\n",
       "  <th>zipcode_98038</th>   <td> 3.761e+04</td> <td> 4664.978</td> <td>    8.063</td> <td> 0.000</td> <td> 2.85e+04</td> <td> 4.68e+04</td>\n",
       "</tr>\n",
       "<tr>\n",
       "  <th>zipcode_98039</th>   <td> 6.203e+05</td> <td> 8.12e+04</td> <td>    7.643</td> <td> 0.000</td> <td> 4.61e+05</td> <td> 7.79e+05</td>\n",
       "</tr>\n",
       "<tr>\n",
       "  <th>zipcode_98040</th>   <td> 4.465e+05</td> <td> 9569.289</td> <td>   46.657</td> <td> 0.000</td> <td> 4.28e+05</td> <td> 4.65e+05</td>\n",
       "</tr>\n",
       "<tr>\n",
       "  <th>zipcode_98042</th>   <td> 1.563e+04</td> <td> 4803.185</td> <td>    3.255</td> <td> 0.001</td> <td> 6218.746</td> <td>  2.5e+04</td>\n",
       "</tr>\n",
       "<tr>\n",
       "  <th>zipcode_98045</th>   <td> 9.918e+04</td> <td> 8324.516</td> <td>   11.915</td> <td> 0.000</td> <td> 8.29e+04</td> <td> 1.16e+05</td>\n",
       "</tr>\n",
       "<tr>\n",
       "  <th>zipcode_98052</th>   <td> 2.843e+05</td> <td> 4764.378</td> <td>   59.673</td> <td> 0.000</td> <td> 2.75e+05</td> <td> 2.94e+05</td>\n",
       "</tr>\n",
       "<tr>\n",
       "  <th>zipcode_98053</th>   <td> 2.581e+05</td> <td> 6774.669</td> <td>   38.105</td> <td> 0.000</td> <td> 2.45e+05</td> <td> 2.71e+05</td>\n",
       "</tr>\n",
       "<tr>\n",
       "  <th>zipcode_98055</th>   <td> 5.015e+04</td> <td> 6288.295</td> <td>    7.975</td> <td> 0.000</td> <td> 3.78e+04</td> <td> 6.25e+04</td>\n",
       "</tr>\n",
       "<tr>\n",
       "  <th>zipcode_98056</th>   <td> 1.192e+05</td> <td> 5195.963</td> <td>   22.932</td> <td> 0.000</td> <td> 1.09e+05</td> <td> 1.29e+05</td>\n",
       "</tr>\n",
       "<tr>\n",
       "  <th>zipcode_98058</th>   <td> 4.633e+04</td> <td> 5219.194</td> <td>    8.877</td> <td> 0.000</td> <td> 3.61e+04</td> <td> 5.66e+04</td>\n",
       "</tr>\n",
       "<tr>\n",
       "  <th>zipcode_98059</th>   <td> 1.111e+05</td> <td> 5276.610</td> <td>   21.060</td> <td> 0.000</td> <td> 1.01e+05</td> <td> 1.21e+05</td>\n",
       "</tr>\n",
       "<tr>\n",
       "  <th>zipcode_98065</th>   <td> 1.602e+05</td> <td> 6020.677</td> <td>   26.606</td> <td> 0.000</td> <td> 1.48e+05</td> <td> 1.72e+05</td>\n",
       "</tr>\n",
       "<tr>\n",
       "  <th>zipcode_98070</th>   <td> 9.958e+04</td> <td> 2.11e+04</td> <td>    4.713</td> <td> 0.000</td> <td> 5.82e+04</td> <td> 1.41e+05</td>\n",
       "</tr>\n",
       "<tr>\n",
       "  <th>zipcode_98072</th>   <td>  1.65e+05</td> <td> 8126.177</td> <td>   20.310</td> <td> 0.000</td> <td> 1.49e+05</td> <td> 1.81e+05</td>\n",
       "</tr>\n",
       "<tr>\n",
       "  <th>zipcode_98074</th>   <td> 2.623e+05</td> <td> 5540.266</td> <td>   47.347</td> <td> 0.000</td> <td> 2.51e+05</td> <td> 2.73e+05</td>\n",
       "</tr>\n",
       "<tr>\n",
       "  <th>zipcode_98075</th>   <td> 3.086e+05</td> <td> 6774.346</td> <td>   45.554</td> <td> 0.000</td> <td> 2.95e+05</td> <td> 3.22e+05</td>\n",
       "</tr>\n",
       "<tr>\n",
       "  <th>zipcode_98077</th>   <td> 2.234e+05</td> <td> 1.58e+04</td> <td>   14.162</td> <td> 0.000</td> <td> 1.93e+05</td> <td> 2.54e+05</td>\n",
       "</tr>\n",
       "<tr>\n",
       "  <th>zipcode_98102</th>   <td> 4.365e+05</td> <td> 1.16e+04</td> <td>   37.788</td> <td> 0.000</td> <td> 4.14e+05</td> <td> 4.59e+05</td>\n",
       "</tr>\n",
       "<tr>\n",
       "  <th>zipcode_98103</th>   <td> 3.554e+05</td> <td> 5171.085</td> <td>   68.733</td> <td> 0.000</td> <td> 3.45e+05</td> <td> 3.66e+05</td>\n",
       "</tr>\n",
       "<tr>\n",
       "  <th>zipcode_98105</th>   <td> 3.949e+05</td> <td> 8080.673</td> <td>   48.872</td> <td> 0.000</td> <td> 3.79e+05</td> <td> 4.11e+05</td>\n",
       "</tr>\n",
       "<tr>\n",
       "  <th>zipcode_98106</th>   <td> 1.384e+05</td> <td> 5632.908</td> <td>   24.562</td> <td> 0.000</td> <td> 1.27e+05</td> <td> 1.49e+05</td>\n",
       "</tr>\n",
       "<tr>\n",
       "  <th>zipcode_98107</th>   <td> 3.668e+05</td> <td> 6623.500</td> <td>   55.383</td> <td> 0.000</td> <td> 3.54e+05</td> <td>  3.8e+05</td>\n",
       "</tr>\n",
       "<tr>\n",
       "  <th>zipcode_98108</th>   <td> 1.383e+05</td> <td> 7291.471</td> <td>   18.970</td> <td> 0.000</td> <td> 1.24e+05</td> <td> 1.53e+05</td>\n",
       "</tr>\n",
       "<tr>\n",
       "  <th>zipcode_98109</th>   <td> 4.407e+05</td> <td> 1.12e+04</td> <td>   39.376</td> <td> 0.000</td> <td> 4.19e+05</td> <td> 4.63e+05</td>\n",
       "</tr>\n",
       "<tr>\n",
       "  <th>zipcode_98112</th>   <td> 4.285e+05</td> <td> 9079.402</td> <td>   47.193</td> <td> 0.000</td> <td> 4.11e+05</td> <td> 4.46e+05</td>\n",
       "</tr>\n",
       "<tr>\n",
       "  <th>zipcode_98115</th>   <td> 3.416e+05</td> <td> 4940.176</td> <td>   69.139</td> <td> 0.000</td> <td> 3.32e+05</td> <td> 3.51e+05</td>\n",
       "</tr>\n",
       "<tr>\n",
       "  <th>zipcode_98116</th>   <td> 3.337e+05</td> <td> 6135.329</td> <td>   54.397</td> <td> 0.000</td> <td> 3.22e+05</td> <td> 3.46e+05</td>\n",
       "</tr>\n",
       "<tr>\n",
       "  <th>zipcode_98117</th>   <td>  3.39e+05</td> <td> 4959.858</td> <td>   68.352</td> <td> 0.000</td> <td> 3.29e+05</td> <td> 3.49e+05</td>\n",
       "</tr>\n",
       "<tr>\n",
       "  <th>zipcode_98118</th>   <td> 1.828e+05</td> <td> 4936.967</td> <td>   37.034</td> <td> 0.000</td> <td> 1.73e+05</td> <td> 1.93e+05</td>\n",
       "</tr>\n",
       "<tr>\n",
       "  <th>zipcode_98119</th>   <td> 4.532e+05</td> <td> 9109.576</td> <td>   49.750</td> <td> 0.000</td> <td> 4.35e+05</td> <td> 4.71e+05</td>\n",
       "</tr>\n",
       "<tr>\n",
       "  <th>zipcode_98122</th>   <td> 3.516e+05</td> <td> 6802.763</td> <td>   51.687</td> <td> 0.000</td> <td> 3.38e+05</td> <td> 3.65e+05</td>\n",
       "</tr>\n",
       "<tr>\n",
       "  <th>zipcode_98125</th>   <td> 2.068e+05</td> <td> 5196.710</td> <td>   39.797</td> <td> 0.000</td> <td> 1.97e+05</td> <td> 2.17e+05</td>\n",
       "</tr>\n",
       "<tr>\n",
       "  <th>zipcode_98126</th>   <td> 2.265e+05</td> <td> 5642.499</td> <td>   40.134</td> <td> 0.000</td> <td> 2.15e+05</td> <td> 2.38e+05</td>\n",
       "</tr>\n",
       "<tr>\n",
       "  <th>zipcode_98133</th>   <td> 1.653e+05</td> <td> 4762.312</td> <td>   34.717</td> <td> 0.000</td> <td> 1.56e+05</td> <td> 1.75e+05</td>\n",
       "</tr>\n",
       "<tr>\n",
       "  <th>zipcode_98136</th>   <td> 2.983e+05</td> <td> 6507.330</td> <td>   45.833</td> <td> 0.000</td> <td> 2.85e+05</td> <td> 3.11e+05</td>\n",
       "</tr>\n",
       "<tr>\n",
       "  <th>zipcode_98144</th>   <td> 2.845e+05</td> <td> 6227.281</td> <td>   45.686</td> <td> 0.000</td> <td> 2.72e+05</td> <td> 2.97e+05</td>\n",
       "</tr>\n",
       "<tr>\n",
       "  <th>zipcode_98146</th>   <td> 1.148e+05</td> <td> 6123.104</td> <td>   18.742</td> <td> 0.000</td> <td> 1.03e+05</td> <td> 1.27e+05</td>\n",
       "</tr>\n",
       "<tr>\n",
       "  <th>zipcode_98148</th>   <td> 5.623e+04</td> <td> 1.26e+04</td> <td>    4.475</td> <td> 0.000</td> <td> 3.16e+04</td> <td> 8.09e+04</td>\n",
       "</tr>\n",
       "<tr>\n",
       "  <th>zipcode_98155</th>   <td> 1.501e+05</td> <td> 5119.779</td> <td>   29.313</td> <td> 0.000</td> <td>  1.4e+05</td> <td>  1.6e+05</td>\n",
       "</tr>\n",
       "<tr>\n",
       "  <th>zipcode_98166</th>   <td> 1.156e+05</td> <td> 7106.103</td> <td>   16.271</td> <td> 0.000</td> <td> 1.02e+05</td> <td>  1.3e+05</td>\n",
       "</tr>\n",
       "<tr>\n",
       "  <th>zipcode_98168</th>   <td> 4.087e+04</td> <td> 6616.890</td> <td>    6.177</td> <td> 0.000</td> <td> 2.79e+04</td> <td> 5.38e+04</td>\n",
       "</tr>\n",
       "<tr>\n",
       "  <th>zipcode_98177</th>   <td> 2.325e+05</td> <td> 6981.000</td> <td>   33.308</td> <td> 0.000</td> <td> 2.19e+05</td> <td> 2.46e+05</td>\n",
       "</tr>\n",
       "<tr>\n",
       "  <th>zipcode_98178</th>   <td> 6.802e+04</td> <td> 6365.481</td> <td>   10.685</td> <td> 0.000</td> <td> 5.55e+04</td> <td> 8.05e+04</td>\n",
       "</tr>\n",
       "<tr>\n",
       "  <th>zipcode_98188</th>   <td> 4.007e+04</td> <td> 8824.485</td> <td>    4.540</td> <td> 0.000</td> <td> 2.28e+04</td> <td> 5.74e+04</td>\n",
       "</tr>\n",
       "<tr>\n",
       "  <th>zipcode_98198</th>   <td> 3.823e+04</td> <td> 6167.499</td> <td>    6.198</td> <td> 0.000</td> <td> 2.61e+04</td> <td> 5.03e+04</td>\n",
       "</tr>\n",
       "<tr>\n",
       "  <th>zipcode_98199</th>   <td> 3.811e+05</td> <td> 6632.442</td> <td>   57.467</td> <td> 0.000</td> <td> 3.68e+05</td> <td> 3.94e+05</td>\n",
       "</tr>\n",
       "<tr>\n",
       "  <th>sqft_living_log</th> <td> 2.683e+05</td> <td> 3828.515</td> <td>   70.075</td> <td> 0.000</td> <td> 2.61e+05</td> <td> 2.76e+05</td>\n",
       "</tr>\n",
       "<tr>\n",
       "  <th>sqft_lot_log</th>    <td> 3.439e+04</td> <td> 2104.124</td> <td>   16.343</td> <td> 0.000</td> <td> 3.03e+04</td> <td> 3.85e+04</td>\n",
       "</tr>\n",
       "</table>\n",
       "<table class=\"simpletable\">\n",
       "<tr>\n",
       "  <th>Omnibus:</th>       <td>690.545</td> <th>  Durbin-Watson:     </th> <td>   1.994</td>\n",
       "</tr>\n",
       "<tr>\n",
       "  <th>Prob(Omnibus):</th> <td> 0.000</td>  <th>  Jarque-Bera (JB):  </th> <td>1853.383</td>\n",
       "</tr>\n",
       "<tr>\n",
       "  <th>Skew:</th>          <td> 0.275</td>  <th>  Prob(JB):          </th> <td>    0.00</td>\n",
       "</tr>\n",
       "<tr>\n",
       "  <th>Kurtosis:</th>      <td> 4.742</td>  <th>  Cond. No.          </th> <td>1.22e+07</td>\n",
       "</tr>\n",
       "</table><br/><br/>Warnings:<br/>[1] Standard Errors assume that the covariance matrix of the errors is correctly specified.<br/>[2] The condition number is large, 1.22e+07. This might indicate that there are<br/>strong multicollinearity or other numerical problems."
      ],
      "text/plain": [
       "<class 'statsmodels.iolib.summary.Summary'>\n",
       "\"\"\"\n",
       "                            OLS Regression Results                            \n",
       "==============================================================================\n",
       "Dep. Variable:                  price   R-squared:                       0.789\n",
       "Model:                            OLS   Adj. R-squared:                  0.788\n",
       "Method:                 Least Squares   F-statistic:                     670.6\n",
       "Date:                Thu, 19 Nov 2020   Prob (F-statistic):               0.00\n",
       "Time:                        19:13:47   Log-Likelihood:            -1.6951e+05\n",
       "No. Observations:               13326   AIC:                         3.392e+05\n",
       "Df Residuals:                   13251   BIC:                         3.397e+05\n",
       "Df Model:                          74                                         \n",
       "Covariance Type:            nonrobust                                         \n",
       "===================================================================================\n",
       "                      coef    std err          t      P>|t|      [0.025      0.975]\n",
       "-----------------------------------------------------------------------------------\n",
       "Intercept       -4.327e+07   3.04e+06    -14.235      0.000   -4.92e+07   -3.73e+07\n",
       "bedrooms        -1.229e+04   1143.263    -10.749      0.000   -1.45e+04      -1e+04\n",
       "bathrooms        1.924e+04   1846.600     10.418      0.000    1.56e+04    2.29e+04\n",
       "floors          -1054.2111   2379.423     -0.443      0.658   -5718.220    3609.798\n",
       "waterfront       3.279e+05   2.28e+04     14.377      0.000    2.83e+05    3.73e+05\n",
       "sqft_basement     -51.9573      4.488    -11.576      0.000     -60.755     -43.160\n",
       "yr_built         -199.5400     40.480     -4.929      0.000    -278.886    -120.194\n",
       "year_sold        2.067e+04   1508.323     13.702      0.000    1.77e+04    2.36e+04\n",
       "has_renovated    1.421e+04   4601.873      3.087      0.002    5186.232    2.32e+04\n",
       "has_basement     2784.2006   3042.151      0.915      0.360   -3178.851    8747.252\n",
       "condition_2     -5.343e+04   8133.766     -6.569      0.000   -6.94e+04   -3.75e+04\n",
       "zipcode_98004     5.02e+05   9335.155     53.771      0.000    4.84e+05     5.2e+05\n",
       "zipcode_98005    3.536e+05   9749.946     36.269      0.000    3.35e+05    3.73e+05\n",
       "zipcode_98006    3.006e+05   5866.632     51.244      0.000    2.89e+05    3.12e+05\n",
       "zipcode_98007      2.7e+05   8818.363     30.613      0.000    2.53e+05    2.87e+05\n",
       "zipcode_98008    2.615e+05   6116.452     42.746      0.000    2.49e+05    2.73e+05\n",
       "zipcode_98010    8.472e+04    1.3e+04      6.510      0.000    5.92e+04     1.1e+05\n",
       "zipcode_98011    1.645e+05   7129.910     23.067      0.000     1.5e+05    1.78e+05\n",
       "zipcode_98014    9.118e+04   1.41e+04      6.464      0.000    6.35e+04    1.19e+05\n",
       "zipcode_98019    9.204e+04   8040.613     11.446      0.000    7.63e+04    1.08e+05\n",
       "zipcode_98024    1.371e+05   1.93e+04      7.123      0.000    9.94e+04    1.75e+05\n",
       "zipcode_98027    2.705e+05   6456.952     41.886      0.000    2.58e+05    2.83e+05\n",
       "zipcode_98028    1.468e+05   6389.365     22.969      0.000    1.34e+05    1.59e+05\n",
       "zipcode_98029    2.698e+05   5932.282     45.477      0.000    2.58e+05    2.81e+05\n",
       "zipcode_98031    1.348e+04   6218.181      2.168      0.030    1294.436    2.57e+04\n",
       "zipcode_98033     3.24e+05   5615.927     57.692      0.000    3.13e+05    3.35e+05\n",
       "zipcode_98034    1.921e+05   4670.474     41.121      0.000    1.83e+05    2.01e+05\n",
       "zipcode_98038    3.761e+04   4664.978      8.063      0.000    2.85e+04    4.68e+04\n",
       "zipcode_98039    6.203e+05   8.12e+04      7.643      0.000    4.61e+05    7.79e+05\n",
       "zipcode_98040    4.465e+05   9569.289     46.657      0.000    4.28e+05    4.65e+05\n",
       "zipcode_98042    1.563e+04   4803.185      3.255      0.001    6218.746     2.5e+04\n",
       "zipcode_98045    9.918e+04   8324.516     11.915      0.000    8.29e+04    1.16e+05\n",
       "zipcode_98052    2.843e+05   4764.378     59.673      0.000    2.75e+05    2.94e+05\n",
       "zipcode_98053    2.581e+05   6774.669     38.105      0.000    2.45e+05    2.71e+05\n",
       "zipcode_98055    5.015e+04   6288.295      7.975      0.000    3.78e+04    6.25e+04\n",
       "zipcode_98056    1.192e+05   5195.963     22.932      0.000    1.09e+05    1.29e+05\n",
       "zipcode_98058    4.633e+04   5219.194      8.877      0.000    3.61e+04    5.66e+04\n",
       "zipcode_98059    1.111e+05   5276.610     21.060      0.000    1.01e+05    1.21e+05\n",
       "zipcode_98065    1.602e+05   6020.677     26.606      0.000    1.48e+05    1.72e+05\n",
       "zipcode_98070    9.958e+04   2.11e+04      4.713      0.000    5.82e+04    1.41e+05\n",
       "zipcode_98072     1.65e+05   8126.177     20.310      0.000    1.49e+05    1.81e+05\n",
       "zipcode_98074    2.623e+05   5540.266     47.347      0.000    2.51e+05    2.73e+05\n",
       "zipcode_98075    3.086e+05   6774.346     45.554      0.000    2.95e+05    3.22e+05\n",
       "zipcode_98077    2.234e+05   1.58e+04     14.162      0.000    1.93e+05    2.54e+05\n",
       "zipcode_98102    4.365e+05   1.16e+04     37.788      0.000    4.14e+05    4.59e+05\n",
       "zipcode_98103    3.554e+05   5171.085     68.733      0.000    3.45e+05    3.66e+05\n",
       "zipcode_98105    3.949e+05   8080.673     48.872      0.000    3.79e+05    4.11e+05\n",
       "zipcode_98106    1.384e+05   5632.908     24.562      0.000    1.27e+05    1.49e+05\n",
       "zipcode_98107    3.668e+05   6623.500     55.383      0.000    3.54e+05     3.8e+05\n",
       "zipcode_98108    1.383e+05   7291.471     18.970      0.000    1.24e+05    1.53e+05\n",
       "zipcode_98109    4.407e+05   1.12e+04     39.376      0.000    4.19e+05    4.63e+05\n",
       "zipcode_98112    4.285e+05   9079.402     47.193      0.000    4.11e+05    4.46e+05\n",
       "zipcode_98115    3.416e+05   4940.176     69.139      0.000    3.32e+05    3.51e+05\n",
       "zipcode_98116    3.337e+05   6135.329     54.397      0.000    3.22e+05    3.46e+05\n",
       "zipcode_98117     3.39e+05   4959.858     68.352      0.000    3.29e+05    3.49e+05\n",
       "zipcode_98118    1.828e+05   4936.967     37.034      0.000    1.73e+05    1.93e+05\n",
       "zipcode_98119    4.532e+05   9109.576     49.750      0.000    4.35e+05    4.71e+05\n",
       "zipcode_98122    3.516e+05   6802.763     51.687      0.000    3.38e+05    3.65e+05\n",
       "zipcode_98125    2.068e+05   5196.710     39.797      0.000    1.97e+05    2.17e+05\n",
       "zipcode_98126    2.265e+05   5642.499     40.134      0.000    2.15e+05    2.38e+05\n",
       "zipcode_98133    1.653e+05   4762.312     34.717      0.000    1.56e+05    1.75e+05\n",
       "zipcode_98136    2.983e+05   6507.330     45.833      0.000    2.85e+05    3.11e+05\n",
       "zipcode_98144    2.845e+05   6227.281     45.686      0.000    2.72e+05    2.97e+05\n",
       "zipcode_98146    1.148e+05   6123.104     18.742      0.000    1.03e+05    1.27e+05\n",
       "zipcode_98148    5.623e+04   1.26e+04      4.475      0.000    3.16e+04    8.09e+04\n",
       "zipcode_98155    1.501e+05   5119.779     29.313      0.000     1.4e+05     1.6e+05\n",
       "zipcode_98166    1.156e+05   7106.103     16.271      0.000    1.02e+05     1.3e+05\n",
       "zipcode_98168    4.087e+04   6616.890      6.177      0.000    2.79e+04    5.38e+04\n",
       "zipcode_98177    2.325e+05   6981.000     33.308      0.000    2.19e+05    2.46e+05\n",
       "zipcode_98178    6.802e+04   6365.481     10.685      0.000    5.55e+04    8.05e+04\n",
       "zipcode_98188    4.007e+04   8824.485      4.540      0.000    2.28e+04    5.74e+04\n",
       "zipcode_98198    3.823e+04   6167.499      6.198      0.000    2.61e+04    5.03e+04\n",
       "zipcode_98199    3.811e+05   6632.442     57.467      0.000    3.68e+05    3.94e+05\n",
       "sqft_living_log  2.683e+05   3828.515     70.075      0.000    2.61e+05    2.76e+05\n",
       "sqft_lot_log     3.439e+04   2104.124     16.343      0.000    3.03e+04    3.85e+04\n",
       "==============================================================================\n",
       "Omnibus:                      690.545   Durbin-Watson:                   1.994\n",
       "Prob(Omnibus):                  0.000   Jarque-Bera (JB):             1853.383\n",
       "Skew:                           0.275   Prob(JB):                         0.00\n",
       "Kurtosis:                       4.742   Cond. No.                     1.22e+07\n",
       "==============================================================================\n",
       "\n",
       "Warnings:\n",
       "[1] Standard Errors assume that the covariance matrix of the errors is correctly specified.\n",
       "[2] The condition number is large, 1.22e+07. This might indicate that there are\n",
       "strong multicollinearity or other numerical problems.\n",
       "\"\"\""
      ]
     },
     "execution_count": 97,
     "metadata": {},
     "output_type": "execute_result"
    }
   ],
   "source": [
    "predictors = '+'.join(x_cols)\n",
    "formula = outcome + '~' + predictors\n",
    "model = ols(formula=formula, data = dftrain).fit()\n",
    "model.summary()"
   ]
  },
  {
   "cell_type": "markdown",
   "metadata": {},
   "source": [
    "### QQ Plot"
   ]
  },
  {
   "cell_type": "code",
   "execution_count": 98,
   "metadata": {},
   "outputs": [
    {
     "data": {
      "image/png": "[encoded data removed]",
      "text/plain": [
       "<Figure size 432x288 with 1 Axes>"
      ]
     },
     "metadata": {},
     "output_type": "display_data"
    }
   ],
   "source": [
    "fig = sm.graphics.qqplot(model.resid, dist=stats.norm, line='45', fit=True)"
   ]
  },
  {
   "cell_type": "markdown",
   "metadata": {},
   "source": [
    "###  Homoscedasiticity"
   ]
  },
  {
   "cell_type": "code",
   "execution_count": 99,
   "metadata": {},
   "outputs": [
    {
     "data": {
      "image/png": "[encoded data removed]",
      "text/plain": [
       "<Figure size 432x288 with 1 Axes>"
      ]
     },
     "metadata": {},
     "output_type": "display_data"
    }
   ],
   "source": [
    "plt.scatter(model.predict(dftrain[x_cols]), model.resid)\n",
    "plt.plot(model.predict(dftrain[x_cols]), [0 for i in range(len(dftrain))]);"
   ]
  },
  {
   "cell_type": "code",
   "execution_count": null,
   "metadata": {},
   "outputs": [],
   "source": []
  }
 ],
 "metadata": {
  "kernelspec": {
   "display_name": "Python 3",
   "language": "python",
   "name": "python3"
  },
  "language_info": {
   "codemirror_mode": {
    "name": "ipython",
    "version": 3
   },
   "file_extension": ".py",
   "mimetype": "text/x-python",
   "name": "python",
   "nbconvert_exporter": "python",
   "pygments_lexer": "ipython3",
   "version": "3.6.9"
  },
  "toc": {
   "base_numbering": 1,
   "nav_menu": {},
   "number_sections": true,
   "sideBar": true,
   "skip_h1_title": false,
   "title_cell": "Table of Contents",
   "title_sidebar": "Contents",
   "toc_cell": false,
   "toc_position": {
    "height": "calc(100% - 180px)",
    "left": "10px",
    "top": "150px",
    "width": "384px"
   },
   "toc_section_display": true,
   "toc_window_display": true
  }
 },
 "nbformat": 4,
 "nbformat_minor": 4
}
