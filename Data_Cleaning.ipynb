{
 "cells": [
  {
   "cell_type": "markdown",
   "metadata": {},
   "source": [
    "## Introduction"
   ]
  },
  {
   "cell_type": "markdown",
   "metadata": {},
   "source": [
    "Paragraph"
   ]
  },
  {
   "cell_type": "markdown",
   "metadata": {},
   "source": [
    "## Importing and Cleaning Data"
   ]
  },
  {
   "cell_type": "code",
   "execution_count": 1,
   "metadata": {},
   "outputs": [],
   "source": [
    "import pandas as pd\n",
    "import numpy as np\n",
    "\n",
    "import seaborn as sns\n",
    "import matplotlib.pyplot as plt\n",
    "%matplotlib inline\n",
    "\n",
    "sns.set_theme(style='darkgrid')"
   ]
  },
  {
   "cell_type": "code",
   "execution_count": 2,
   "metadata": {},
   "outputs": [],
   "source": [
    "#importing csv to dataframe\n",
    "df = pd.read_csv('data\\kc_house_data.csv')"
   ]
  },
  {
   "cell_type": "code",
   "execution_count": 3,
   "metadata": {},
   "outputs": [],
   "source": [
    "#filling the nan's with 0, all is categorical columns with the mode being 0.0\n",
    "df['waterfront'] = df['waterfront'].fillna(0.0)\n",
    "df['view'] = df['view'].fillna(0.0)\n",
    "df['yr_renovated'] = df['yr_renovated'].fillna(0.0)\n",
    "\n",
    "df.loc[df['sqft_basement'] == '?'] = 0\n",
    "df['sqft_basement'] = df['sqft_basement'].astype(float).astype(int)"
   ]
  },
  {
   "cell_type": "code",
   "execution_count": 4,
   "metadata": {
    "code_folding": []
   },
   "outputs": [],
   "source": [
    "#changing columns from float to int\n",
    "col_floats = ['price', 'waterfront', 'view', 'yr_renovated']\n",
    "for col in col_floats:\n",
    "    df[col] = df[col].astype(int)"
   ]
  },
  {
   "cell_type": "code",
   "execution_count": 5,
   "metadata": {},
   "outputs": [],
   "source": [
    "#expanding the date column to a column for each month and year\n",
    "df['date'] = pd.to_datetime(df['date'])\n",
    "df['month_sold'] = df['date'].dt.month\n",
    "df['year_sold'] = df['date'].dt.year"
   ]
  },
  {
   "cell_type": "code",
   "execution_count": 6,
   "metadata": {},
   "outputs": [],
   "source": [
    "#creating seasonal columns\n",
    "df['sold_spring_time'] = df['month_sold'] < 4\n",
    "df['sold_summer_time'] = (df['month_sold'] > 3) & (df['month_sold'] < 7)\n",
    "df['sold_fall_time'] = (df['month_sold'] > 6) & (df['month_sold'] < 10)\n",
    "df['sold_winter_time'] = (df['month_sold'] > 9) & (df['month_sold'] < 13)\n",
    "\n",
    "df['sold_spring_time'] = df['sold_spring_time'].astype(bool).astype(int)\n",
    "df['sold_summer_time'] = df['sold_summer_time'].astype(bool).astype(int)\n",
    "df['sold_fall_time'] = df['sold_fall_time'].astype(bool).astype(int)\n",
    "df['sold_winter_time'] = df['sold_winter_time'].astype(bool).astype(int)"
   ]
  },
  {
   "cell_type": "code",
   "execution_count": 7,
   "metadata": {},
   "outputs": [],
   "source": [
    "#converting 'yr_renovated' and 'sqft_basement' into a boolean\n",
    "df['has_renovated'] = df['yr_renovated'].astype(bool).astype(int)\n",
    "df['has_basement'] = df['sqft_basement'].astype(bool).astype(int)"
   ]
  },
  {
   "cell_type": "code",
   "execution_count": 8,
   "metadata": {},
   "outputs": [],
   "source": [
    "#deleting columns not neccesary in dataframe\n",
    "df.drop('date', axis=1, inplace=True)\n",
    "df.drop('id', axis=1, inplace=True)"
   ]
  },
  {
   "cell_type": "code",
   "execution_count": 9,
   "metadata": {
    "scrolled": false
   },
   "outputs": [],
   "source": [
    "# exports a clean version of raw data.\n",
    "#df.to_csv('data\\Cleaned_kc_house_data.csv')"
   ]
  },
  {
   "cell_type": "code",
   "execution_count": 10,
   "metadata": {
    "scrolled": false
   },
   "outputs": [
    {
     "data": {
      "text/html": [
       "<div>\n",
       "<style scoped>\n",
       "    .dataframe tbody tr th:only-of-type {\n",
       "        vertical-align: middle;\n",
       "    }\n",
       "\n",
       "    .dataframe tbody tr th {\n",
       "        vertical-align: top;\n",
       "    }\n",
       "\n",
       "    .dataframe thead th {\n",
       "        text-align: right;\n",
       "    }\n",
       "</style>\n",
       "<table border=\"1\" class=\"dataframe\">\n",
       "  <thead>\n",
       "    <tr style=\"text-align: right;\">\n",
       "      <th></th>\n",
       "      <th>price</th>\n",
       "      <th>bedrooms</th>\n",
       "      <th>bathrooms</th>\n",
       "      <th>sqft_living</th>\n",
       "      <th>sqft_lot</th>\n",
       "      <th>floors</th>\n",
       "      <th>waterfront</th>\n",
       "      <th>view</th>\n",
       "      <th>condition</th>\n",
       "      <th>grade</th>\n",
       "      <th>...</th>\n",
       "      <th>sqft_living15</th>\n",
       "      <th>sqft_lot15</th>\n",
       "      <th>month_sold</th>\n",
       "      <th>year_sold</th>\n",
       "      <th>sold_spring_time</th>\n",
       "      <th>sold_summer_time</th>\n",
       "      <th>sold_fall_time</th>\n",
       "      <th>sold_winter_time</th>\n",
       "      <th>has_renovated</th>\n",
       "      <th>has_basement</th>\n",
       "    </tr>\n",
       "  </thead>\n",
       "  <tbody>\n",
       "    <tr>\n",
       "      <th>0</th>\n",
       "      <td>221900</td>\n",
       "      <td>3</td>\n",
       "      <td>1.00</td>\n",
       "      <td>1180</td>\n",
       "      <td>5650</td>\n",
       "      <td>1.0</td>\n",
       "      <td>0</td>\n",
       "      <td>0</td>\n",
       "      <td>3</td>\n",
       "      <td>7</td>\n",
       "      <td>...</td>\n",
       "      <td>1340</td>\n",
       "      <td>5650</td>\n",
       "      <td>10</td>\n",
       "      <td>2014</td>\n",
       "      <td>0</td>\n",
       "      <td>0</td>\n",
       "      <td>0</td>\n",
       "      <td>1</td>\n",
       "      <td>0</td>\n",
       "      <td>0</td>\n",
       "    </tr>\n",
       "    <tr>\n",
       "      <th>1</th>\n",
       "      <td>538000</td>\n",
       "      <td>3</td>\n",
       "      <td>2.25</td>\n",
       "      <td>2570</td>\n",
       "      <td>7242</td>\n",
       "      <td>2.0</td>\n",
       "      <td>0</td>\n",
       "      <td>0</td>\n",
       "      <td>3</td>\n",
       "      <td>7</td>\n",
       "      <td>...</td>\n",
       "      <td>1690</td>\n",
       "      <td>7639</td>\n",
       "      <td>12</td>\n",
       "      <td>2014</td>\n",
       "      <td>0</td>\n",
       "      <td>0</td>\n",
       "      <td>0</td>\n",
       "      <td>1</td>\n",
       "      <td>1</td>\n",
       "      <td>1</td>\n",
       "    </tr>\n",
       "    <tr>\n",
       "      <th>2</th>\n",
       "      <td>180000</td>\n",
       "      <td>2</td>\n",
       "      <td>1.00</td>\n",
       "      <td>770</td>\n",
       "      <td>10000</td>\n",
       "      <td>1.0</td>\n",
       "      <td>0</td>\n",
       "      <td>0</td>\n",
       "      <td>3</td>\n",
       "      <td>6</td>\n",
       "      <td>...</td>\n",
       "      <td>2720</td>\n",
       "      <td>8062</td>\n",
       "      <td>2</td>\n",
       "      <td>2015</td>\n",
       "      <td>1</td>\n",
       "      <td>0</td>\n",
       "      <td>0</td>\n",
       "      <td>0</td>\n",
       "      <td>0</td>\n",
       "      <td>0</td>\n",
       "    </tr>\n",
       "    <tr>\n",
       "      <th>3</th>\n",
       "      <td>604000</td>\n",
       "      <td>4</td>\n",
       "      <td>3.00</td>\n",
       "      <td>1960</td>\n",
       "      <td>5000</td>\n",
       "      <td>1.0</td>\n",
       "      <td>0</td>\n",
       "      <td>0</td>\n",
       "      <td>5</td>\n",
       "      <td>7</td>\n",
       "      <td>...</td>\n",
       "      <td>1360</td>\n",
       "      <td>5000</td>\n",
       "      <td>12</td>\n",
       "      <td>2014</td>\n",
       "      <td>0</td>\n",
       "      <td>0</td>\n",
       "      <td>0</td>\n",
       "      <td>1</td>\n",
       "      <td>0</td>\n",
       "      <td>1</td>\n",
       "    </tr>\n",
       "    <tr>\n",
       "      <th>4</th>\n",
       "      <td>510000</td>\n",
       "      <td>3</td>\n",
       "      <td>2.00</td>\n",
       "      <td>1680</td>\n",
       "      <td>8080</td>\n",
       "      <td>1.0</td>\n",
       "      <td>0</td>\n",
       "      <td>0</td>\n",
       "      <td>3</td>\n",
       "      <td>8</td>\n",
       "      <td>...</td>\n",
       "      <td>1800</td>\n",
       "      <td>7503</td>\n",
       "      <td>2</td>\n",
       "      <td>2015</td>\n",
       "      <td>1</td>\n",
       "      <td>0</td>\n",
       "      <td>0</td>\n",
       "      <td>0</td>\n",
       "      <td>0</td>\n",
       "      <td>0</td>\n",
       "    </tr>\n",
       "  </tbody>\n",
       "</table>\n",
       "<p>5 rows × 27 columns</p>\n",
       "</div>"
      ],
      "text/plain": [
       "    price  bedrooms  bathrooms  sqft_living  sqft_lot  floors  waterfront  \\\n",
       "0  221900         3       1.00         1180      5650     1.0           0   \n",
       "1  538000         3       2.25         2570      7242     2.0           0   \n",
       "2  180000         2       1.00          770     10000     1.0           0   \n",
       "3  604000         4       3.00         1960      5000     1.0           0   \n",
       "4  510000         3       2.00         1680      8080     1.0           0   \n",
       "\n",
       "   view  condition  grade  ...  sqft_living15  sqft_lot15  month_sold  \\\n",
       "0     0          3      7  ...           1340        5650          10   \n",
       "1     0          3      7  ...           1690        7639          12   \n",
       "2     0          3      6  ...           2720        8062           2   \n",
       "3     0          5      7  ...           1360        5000          12   \n",
       "4     0          3      8  ...           1800        7503           2   \n",
       "\n",
       "   year_sold  sold_spring_time  sold_summer_time  sold_fall_time  \\\n",
       "0       2014                 0                 0               0   \n",
       "1       2014                 0                 0               0   \n",
       "2       2015                 1                 0               0   \n",
       "3       2014                 0                 0               0   \n",
       "4       2015                 1                 0               0   \n",
       "\n",
       "   sold_winter_time  has_renovated  has_basement  \n",
       "0                 1              0             0  \n",
       "1                 1              1             1  \n",
       "2                 0              0             0  \n",
       "3                 1              0             1  \n",
       "4                 0              0             0  \n",
       "\n",
       "[5 rows x 27 columns]"
      ]
     },
     "execution_count": 10,
     "metadata": {},
     "output_type": "execute_result"
    }
   ],
   "source": [
    "df.head()"
   ]
  },
  {
   "cell_type": "code",
   "execution_count": 11,
   "metadata": {
    "scrolled": true
   },
   "outputs": [
    {
     "name": "stdout",
     "output_type": "stream",
     "text": [
      "<class 'pandas.core.frame.DataFrame'>\n",
      "RangeIndex: 21597 entries, 0 to 21596\n",
      "Data columns (total 27 columns):\n",
      "price               21597 non-null int32\n",
      "bedrooms            21597 non-null int64\n",
      "bathrooms           21597 non-null float64\n",
      "sqft_living         21597 non-null int64\n",
      "sqft_lot            21597 non-null int64\n",
      "floors              21597 non-null float64\n",
      "waterfront          21597 non-null int32\n",
      "view                21597 non-null int32\n",
      "condition           21597 non-null int64\n",
      "grade               21597 non-null int64\n",
      "sqft_above          21597 non-null int64\n",
      "sqft_basement       21597 non-null int32\n",
      "yr_built            21597 non-null int64\n",
      "yr_renovated        21597 non-null int32\n",
      "zipcode             21597 non-null int64\n",
      "lat                 21597 non-null float64\n",
      "long                21597 non-null float64\n",
      "sqft_living15       21597 non-null int64\n",
      "sqft_lot15          21597 non-null int64\n",
      "month_sold          21597 non-null int64\n",
      "year_sold           21597 non-null int64\n",
      "sold_spring_time    21597 non-null int32\n",
      "sold_summer_time    21597 non-null int32\n",
      "sold_fall_time      21597 non-null int32\n",
      "sold_winter_time    21597 non-null int32\n",
      "has_renovated       21597 non-null int32\n",
      "has_basement        21597 non-null int32\n",
      "dtypes: float64(4), int32(11), int64(12)\n",
      "memory usage: 3.5 MB\n"
     ]
    }
   ],
   "source": [
    "df.info()"
   ]
  },
  {
   "cell_type": "markdown",
   "metadata": {},
   "source": [
    "## EDA and Scrubbing"
   ]
  },
  {
   "cell_type": "markdown",
   "metadata": {},
   "source": [
    "### price"
   ]
  },
  {
   "cell_type": "code",
   "execution_count": 12,
   "metadata": {},
   "outputs": [
    {
     "data": {
      "image/png": "[encoded data removed]",
      "text/plain": [
       "<Figure size 1152x360 with 2 Axes>"
      ]
     },
     "metadata": {},
     "output_type": "display_data"
    }
   ],
   "source": [
    "fig, ax = plt.subplots(nrows=1, ncols=2, figsize=(16,5))\n",
    "\n",
    "#looking for potential outliars\n",
    "sns.histplot(data=df, x='price', ax = ax[0])\n",
    "sns.boxplot(data=df, x='price', ax=ax[1]);"
   ]
  },
  {
   "cell_type": "code",
   "execution_count": 13,
   "metadata": {},
   "outputs": [],
   "source": [
    "#Making the 'price' benchmark between $100000 to $900000\n",
    "df.drop(df[df['price'] > 700000].index, inplace = True)\n",
    "df.drop(df[df['price'] < 150000].index, inplace = True)"
   ]
  },
  {
   "cell_type": "code",
   "execution_count": 14,
   "metadata": {
    "scrolled": true
   },
   "outputs": [
    {
     "data": {
      "image/png": "[encoded data removed]",
      "text/plain": [
       "<Figure size 1152x360 with 2 Axes>"
      ]
     },
     "metadata": {},
     "output_type": "display_data"
    }
   ],
   "source": [
    "fig, ax = plt.subplots(nrows=1, ncols=2, figsize=(16,5))\n",
    "\n",
    "sns.histplot(data=df, x='price', ax = ax[0])\n",
    "sns.boxplot(data=df, x='price', ax=ax[1]);"
   ]
  },
  {
   "cell_type": "markdown",
   "metadata": {},
   "source": [
    ">The histogram and boxplot looks to be more normally distributed after removing outliers"
   ]
  },
  {
   "cell_type": "code",
   "execution_count": 15,
   "metadata": {},
   "outputs": [
    {
     "data": {
      "text/plain": [
       "(16745, 27)"
      ]
     },
     "execution_count": 15,
     "metadata": {},
     "output_type": "execute_result"
    }
   ],
   "source": [
    "#checking the rows left\n",
    "df.shape"
   ]
  },
  {
   "cell_type": "markdown",
   "metadata": {},
   "source": [
    "### bedrooms"
   ]
  },
  {
   "cell_type": "code",
   "execution_count": 16,
   "metadata": {},
   "outputs": [
    {
     "data": {
      "text/plain": [
       "3     8399\n",
       "4     4633\n",
       "2     2464\n",
       "5      900\n",
       "1      170\n",
       "6      148\n",
       "7       17\n",
       "8        7\n",
       "9        3\n",
       "10       2\n",
       "11       1\n",
       "33       1\n",
       "Name: bedrooms, dtype: int64"
      ]
     },
     "execution_count": 16,
     "metadata": {},
     "output_type": "execute_result"
    }
   ],
   "source": [
    "df['bedrooms'].value_counts()"
   ]
  },
  {
   "cell_type": "code",
   "execution_count": 17,
   "metadata": {},
   "outputs": [],
   "source": [
    "df.drop(df[df['bedrooms'] > 6].index, inplace = True)"
   ]
  },
  {
   "cell_type": "code",
   "execution_count": 18,
   "metadata": {},
   "outputs": [
    {
     "data": {
      "text/plain": [
       "3    8399\n",
       "4    4633\n",
       "2    2464\n",
       "5     900\n",
       "1     170\n",
       "6     148\n",
       "Name: bedrooms, dtype: int64"
      ]
     },
     "execution_count": 18,
     "metadata": {},
     "output_type": "execute_result"
    }
   ],
   "source": [
    "df['bedrooms'].value_counts()"
   ]
  },
  {
   "cell_type": "code",
   "execution_count": 19,
   "metadata": {
    "scrolled": true
   },
   "outputs": [
    {
     "data": {
      "image/png": "[encoded data removed]",
      "text/plain": [
       "<Figure size 432x288 with 1 Axes>"
      ]
     },
     "metadata": {},
     "output_type": "display_data"
    }
   ],
   "source": [
    "sns.histplot(data = df, x='bedrooms');"
   ]
  },
  {
   "cell_type": "code",
   "execution_count": 20,
   "metadata": {},
   "outputs": [
    {
     "data": {
      "text/plain": [
       "(16714, 27)"
      ]
     },
     "execution_count": 20,
     "metadata": {},
     "output_type": "execute_result"
    }
   ],
   "source": [
    "df.shape"
   ]
  },
  {
   "cell_type": "markdown",
   "metadata": {
    "heading_collapsed": true
   },
   "source": [
    "### bathrooms"
   ]
  },
  {
   "cell_type": "code",
   "execution_count": 21,
   "metadata": {
    "hidden": true
   },
   "outputs": [
    {
     "data": {
      "text/plain": [
       "2.50    4101\n",
       "1.00    3501\n",
       "1.75    2703\n",
       "2.00    1682\n",
       "2.25    1654\n",
       "1.50    1294\n",
       "2.75     723\n",
       "3.00     448\n",
       "3.50     252\n",
       "3.25     212\n",
       "0.75      62\n",
       "3.75      25\n",
       "4.00      19\n",
       "4.50      16\n",
       "1.25       7\n",
       "4.25       6\n",
       "5.00       3\n",
       "4.75       2\n",
       "0.50       2\n",
       "5.25       2\n",
       "Name: bathrooms, dtype: int64"
      ]
     },
     "execution_count": 21,
     "metadata": {},
     "output_type": "execute_result"
    }
   ],
   "source": [
    "df['bathrooms'].value_counts()"
   ]
  },
  {
   "cell_type": "code",
   "execution_count": 22,
   "metadata": {
    "hidden": true,
    "scrolled": true
   },
   "outputs": [
    {
     "data": {
      "image/png": "[encoded data removed]",
      "text/plain": [
       "<Figure size 432x288 with 1 Axes>"
      ]
     },
     "metadata": {},
     "output_type": "display_data"
    }
   ],
   "source": [
    "sns.histplot(data=df, x = 'bathrooms');"
   ]
  },
  {
   "cell_type": "code",
   "execution_count": 23,
   "metadata": {
    "hidden": true
   },
   "outputs": [],
   "source": [
    "df.drop(df[df['bathrooms'] > 4].index, inplace = True)\n",
    "df.drop(df[df['bathrooms'] < 0.75].index, inplace = True)"
   ]
  },
  {
   "cell_type": "code",
   "execution_count": 24,
   "metadata": {
    "hidden": true
   },
   "outputs": [
    {
     "data": {
      "image/png": "[encoded data removed]",
      "text/plain": [
       "<Figure size 432x288 with 1 Axes>"
      ]
     },
     "metadata": {},
     "output_type": "display_data"
    }
   ],
   "source": [
    "sns.histplot(data=df, x = 'bathrooms');"
   ]
  },
  {
   "cell_type": "code",
   "execution_count": 25,
   "metadata": {
    "hidden": true
   },
   "outputs": [
    {
     "data": {
      "text/plain": [
       "(16683, 27)"
      ]
     },
     "execution_count": 25,
     "metadata": {},
     "output_type": "execute_result"
    }
   ],
   "source": [
    "df.shape"
   ]
  },
  {
   "cell_type": "markdown",
   "metadata": {
    "heading_collapsed": true
   },
   "source": [
    "### sqft_living"
   ]
  },
  {
   "cell_type": "code",
   "execution_count": 26,
   "metadata": {
    "hidden": true
   },
   "outputs": [
    {
     "data": {
      "image/png": "[encoded data removed]",
      "text/plain": [
       "<Figure size 1152x360 with 2 Axes>"
      ]
     },
     "metadata": {},
     "output_type": "display_data"
    }
   ],
   "source": [
    "fig, ax = plt.subplots(nrows=1, ncols=2, figsize=(16,5))\n",
    "\n",
    "sns.histplot(data=df, x='sqft_living', ax = ax[0])\n",
    "sns.boxplot(data=df, x='sqft_living', ax=ax[1]);"
   ]
  },
  {
   "cell_type": "code",
   "execution_count": 27,
   "metadata": {
    "hidden": true
   },
   "outputs": [],
   "source": [
    "df.drop(df[df['sqft_living'] > 4500].index, inplace = True)"
   ]
  },
  {
   "cell_type": "code",
   "execution_count": 28,
   "metadata": {
    "hidden": true
   },
   "outputs": [
    {
     "data": {
      "image/png": "[encoded data removed]",
      "text/plain": [
       "<Figure size 1152x360 with 2 Axes>"
      ]
     },
     "metadata": {},
     "output_type": "display_data"
    }
   ],
   "source": [
    "fig, ax = plt.subplots(nrows=1, ncols=2, figsize=(16,5))\n",
    "\n",
    "sns.histplot(data=df, x='sqft_living', ax = ax[0])\n",
    "sns.boxplot(data=df, x='sqft_living', ax=ax[1]);"
   ]
  },
  {
   "cell_type": "code",
   "execution_count": 29,
   "metadata": {
    "hidden": true
   },
   "outputs": [
    {
     "data": {
      "text/plain": [
       "(16673, 27)"
      ]
     },
     "execution_count": 29,
     "metadata": {},
     "output_type": "execute_result"
    }
   ],
   "source": [
    "df.shape"
   ]
  },
  {
   "cell_type": "markdown",
   "metadata": {},
   "source": [
    "### sqft_lot"
   ]
  },
  {
   "cell_type": "code",
   "execution_count": 30,
   "metadata": {},
   "outputs": [
    {
     "data": {
      "image/png": "[encoded data removed]",
      "text/plain": [
       "<Figure size 1152x360 with 2 Axes>"
      ]
     },
     "metadata": {},
     "output_type": "display_data"
    }
   ],
   "source": [
    "fig, ax = plt.subplots(nrows=1, ncols=2, figsize=(16,5))\n",
    "\n",
    "sns.histplot(data=df, x='sqft_lot', ax = ax[0])\n",
    "sns.boxplot(data=df, x='sqft_lot', ax=ax[1]);"
   ]
  },
  {
   "cell_type": "code",
   "execution_count": 31,
   "metadata": {},
   "outputs": [],
   "source": [
    "df.drop(df[df['sqft_lot'] > 17500].index, inplace = True)"
   ]
  },
  {
   "cell_type": "code",
   "execution_count": 32,
   "metadata": {},
   "outputs": [
    {
     "data": {
      "image/png": "[encoded data removed]",
      "text/plain": [
       "<Figure size 1152x360 with 2 Axes>"
      ]
     },
     "metadata": {},
     "output_type": "display_data"
    }
   ],
   "source": [
    "fig, ax = plt.subplots(nrows=1, ncols=2, figsize=(16,5))\n",
    "\n",
    "sns.histplot(data=df, x='sqft_lot', ax = ax[0])\n",
    "sns.boxplot(data=df, x='sqft_lot', ax=ax[1]);"
   ]
  },
  {
   "cell_type": "code",
   "execution_count": 33,
   "metadata": {},
   "outputs": [
    {
     "data": {
      "text/plain": [
       "(14990, 27)"
      ]
     },
     "execution_count": 33,
     "metadata": {},
     "output_type": "execute_result"
    }
   ],
   "source": [
    "df.shape"
   ]
  },
  {
   "cell_type": "markdown",
   "metadata": {},
   "source": [
    "### sqft_basement"
   ]
  },
  {
   "cell_type": "code",
   "execution_count": 34,
   "metadata": {
    "scrolled": false
   },
   "outputs": [
    {
     "data": {
      "image/png": "[encoded data removed]",
      "text/plain": [
       "<Figure size 432x288 with 1 Axes>"
      ]
     },
     "metadata": {},
     "output_type": "display_data"
    }
   ],
   "source": [
    "sns.histplot(data=df, x='sqft_basement');"
   ]
  },
  {
   "cell_type": "code",
   "execution_count": 35,
   "metadata": {},
   "outputs": [],
   "source": [
    "df.drop(df[df['sqft_basement'] > 1300].index, inplace=True)"
   ]
  },
  {
   "cell_type": "code",
   "execution_count": 36,
   "metadata": {
    "scrolled": false
   },
   "outputs": [
    {
     "data": {
      "image/png": "[encoded data removed]",
      "text/plain": [
       "<Figure size 432x288 with 1 Axes>"
      ]
     },
     "metadata": {},
     "output_type": "display_data"
    }
   ],
   "source": [
    "sns.histplot(data = df, x='sqft_basement');"
   ]
  },
  {
   "cell_type": "markdown",
   "metadata": {},
   "source": [
    "#### is_basement"
   ]
  },
  {
   "cell_type": "code",
   "execution_count": 37,
   "metadata": {
    "scrolled": true
   },
   "outputs": [
    {
     "data": {
      "text/plain": [
       "count    14838.000000\n",
       "mean         0.363796\n",
       "std          0.481107\n",
       "min          0.000000\n",
       "25%          0.000000\n",
       "50%          0.000000\n",
       "75%          1.000000\n",
       "max          1.000000\n",
       "Name: has_basement, dtype: float64"
      ]
     },
     "execution_count": 37,
     "metadata": {},
     "output_type": "execute_result"
    }
   ],
   "source": [
    "df['has_basement'].describe()"
   ]
  },
  {
   "cell_type": "code",
   "execution_count": 38,
   "metadata": {},
   "outputs": [
    {
     "data": {
      "image/png": "[encoded data removed]",
      "text/plain": [
       "<Figure size 432x288 with 1 Axes>"
      ]
     },
     "metadata": {},
     "output_type": "display_data"
    }
   ],
   "source": [
    "sns.histplot(data = df, x='has_basement');"
   ]
  },
  {
   "cell_type": "code",
   "execution_count": 39,
   "metadata": {},
   "outputs": [
    {
     "data": {
      "text/plain": [
       "(14838, 27)"
      ]
     },
     "execution_count": 39,
     "metadata": {},
     "output_type": "execute_result"
    }
   ],
   "source": [
    "df.shape"
   ]
  },
  {
   "cell_type": "markdown",
   "metadata": {
    "heading_collapsed": true
   },
   "source": [
    "### floors"
   ]
  },
  {
   "cell_type": "code",
   "execution_count": 40,
   "metadata": {
    "hidden": true
   },
   "outputs": [
    {
     "data": {
      "text/plain": [
       "1.0    8122\n",
       "2.0    4924\n",
       "1.5    1246\n",
       "3.0     482\n",
       "2.5      58\n",
       "3.5       6\n",
       "Name: floors, dtype: int64"
      ]
     },
     "execution_count": 40,
     "metadata": {},
     "output_type": "execute_result"
    }
   ],
   "source": [
    "df['floors'].value_counts()"
   ]
  },
  {
   "cell_type": "code",
   "execution_count": 41,
   "metadata": {
    "hidden": true
   },
   "outputs": [],
   "source": [
    "df.drop(df[df['floors'] > 3].index, inplace=True)"
   ]
  },
  {
   "cell_type": "code",
   "execution_count": 42,
   "metadata": {
    "hidden": true,
    "scrolled": true
   },
   "outputs": [
    {
     "data": {
      "text/plain": [
       "1.0    8122\n",
       "2.0    4924\n",
       "1.5    1246\n",
       "3.0     482\n",
       "2.5      58\n",
       "Name: floors, dtype: int64"
      ]
     },
     "execution_count": 42,
     "metadata": {},
     "output_type": "execute_result"
    }
   ],
   "source": [
    "df['floors'].value_counts()"
   ]
  },
  {
   "cell_type": "markdown",
   "metadata": {
    "heading_collapsed": true
   },
   "source": [
    "### grade and condition"
   ]
  },
  {
   "cell_type": "code",
   "execution_count": 43,
   "metadata": {
    "hidden": true
   },
   "outputs": [
    {
     "data": {
      "text/plain": [
       "7     7673\n",
       "8     4218\n",
       "6     1733\n",
       "9      926\n",
       "5      150\n",
       "10     115\n",
       "4       13\n",
       "11       3\n",
       "3        1\n",
       "Name: grade, dtype: int64"
      ]
     },
     "execution_count": 43,
     "metadata": {},
     "output_type": "execute_result"
    }
   ],
   "source": [
    "df['grade'].value_counts()"
   ]
  },
  {
   "cell_type": "code",
   "execution_count": 44,
   "metadata": {
    "hidden": true,
    "scrolled": false
   },
   "outputs": [
    {
     "data": {
      "text/plain": [
       "3    9751\n",
       "4    3872\n",
       "5    1084\n",
       "2     111\n",
       "1      14\n",
       "Name: condition, dtype: int64"
      ]
     },
     "execution_count": 44,
     "metadata": {},
     "output_type": "execute_result"
    }
   ],
   "source": [
    "df['condition'].value_counts()"
   ]
  },
  {
   "cell_type": "markdown",
   "metadata": {
    "heading_collapsed": true
   },
   "source": [
    "### sqft_lot15"
   ]
  },
  {
   "cell_type": "code",
   "execution_count": 45,
   "metadata": {
    "hidden": true
   },
   "outputs": [
    {
     "data": {
      "image/png": "[encoded data removed]",
      "text/plain": [
       "<Figure size 1152x360 with 2 Axes>"
      ]
     },
     "metadata": {},
     "output_type": "display_data"
    }
   ],
   "source": [
    "fig, ax = plt.subplots(nrows=1, ncols=2, figsize=(16,5))\n",
    "\n",
    "sns.histplot(data=df, x='sqft_lot15', ax = ax[0])\n",
    "sns.boxplot(data=df, x='sqft_lot15', ax=ax[1]);"
   ]
  },
  {
   "cell_type": "code",
   "execution_count": 46,
   "metadata": {
    "hidden": true
   },
   "outputs": [],
   "source": [
    "df.drop(df[df['sqft_lot15'] > 25000].index, inplace=True)"
   ]
  },
  {
   "cell_type": "code",
   "execution_count": 47,
   "metadata": {
    "hidden": true
   },
   "outputs": [
    {
     "data": {
      "image/png": "[encoded data removed]",
      "text/plain": [
       "<Figure size 1152x360 with 2 Axes>"
      ]
     },
     "metadata": {},
     "output_type": "display_data"
    }
   ],
   "source": [
    "fig, ax = plt.subplots(nrows=1, ncols=2, figsize=(16,5))\n",
    "\n",
    "sns.histplot(data=df, x='sqft_lot15', ax = ax[0])\n",
    "sns.boxplot(data=df, x='sqft_lot15', ax=ax[1]);"
   ]
  },
  {
   "cell_type": "code",
   "execution_count": 48,
   "metadata": {
    "hidden": true
   },
   "outputs": [
    {
     "data": {
      "text/plain": [
       "(14789, 27)"
      ]
     },
     "execution_count": 48,
     "metadata": {},
     "output_type": "execute_result"
    }
   ],
   "source": [
    "df.shape"
   ]
  },
  {
   "cell_type": "markdown",
   "metadata": {},
   "source": [
    "### sqft_living15"
   ]
  },
  {
   "cell_type": "code",
   "execution_count": 49,
   "metadata": {
    "scrolled": false
   },
   "outputs": [
    {
     "data": {
      "image/png": "[encoded data removed]",
      "text/plain": [
       "<Figure size 1152x360 with 2 Axes>"
      ]
     },
     "metadata": {},
     "output_type": "display_data"
    }
   ],
   "source": [
    "fig, ax = plt.subplots(nrows=1, ncols=2, figsize=(16,5))\n",
    "\n",
    "sns.histplot(data=df, x='sqft_living15', ax = ax[0])\n",
    "sns.boxplot(data=df, x='sqft_living15', ax=ax[1]);"
   ]
  },
  {
   "cell_type": "markdown",
   "metadata": {},
   "source": [
    "### date"
   ]
  },
  {
   "cell_type": "code",
   "execution_count": 50,
   "metadata": {},
   "outputs": [
    {
     "data": {
      "text/plain": [
       "2014    9970\n",
       "2015    4819\n",
       "Name: year_sold, dtype: int64"
      ]
     },
     "execution_count": 50,
     "metadata": {},
     "output_type": "execute_result"
    }
   ],
   "source": [
    "df['year_sold'].value_counts()"
   ]
  },
  {
   "cell_type": "markdown",
   "metadata": {},
   "source": [
    "> deleting year_sold for not having much of a recording"
   ]
  },
  {
   "cell_type": "code",
   "execution_count": 51,
   "metadata": {},
   "outputs": [],
   "source": [
    "df.drop('year_sold', axis=1, inplace=True)"
   ]
  },
  {
   "cell_type": "markdown",
   "metadata": {},
   "source": [
    "### zipcode"
   ]
  },
  {
   "cell_type": "code",
   "execution_count": 52,
   "metadata": {},
   "outputs": [
    {
     "name": "stderr",
     "output_type": "stream",
     "text": [
      "C:\\Users\\Deric\\anaconda3\\envs\\learn-env\\lib\\site-packages\\seaborn\\_decorators.py:43: FutureWarning: Pass the following variables as keyword args: x, y. From version 0.12, the only valid positional argument will be `data`, and passing other arguments without an explicit keyword will result in an error or misinterpretation.\n",
      "  FutureWarning\n"
     ]
    },
    {
     "data": {
      "image/png": "[encoded data removed]",
      "text/plain": [
       "<Figure size 432x288 with 1 Axes>"
      ]
     },
     "metadata": {},
     "output_type": "display_data"
    }
   ],
   "source": [
    "sns.scatterplot(df.long, df.lat, hue=df.price);"
   ]
  },
  {
   "cell_type": "code",
   "execution_count": 53,
   "metadata": {},
   "outputs": [
    {
     "data": {
      "text/plain": [
       "zipcode\n",
       "98001    280\n",
       "98002    178\n",
       "98003    250\n",
       "98004     27\n",
       "98005     54\n",
       "        ... \n",
       "98177    172\n",
       "98178    226\n",
       "98188    115\n",
       "98198    223\n",
       "98199    161\n",
       "Name: price, Length: 69, dtype: int64"
      ]
     },
     "execution_count": 53,
     "metadata": {},
     "output_type": "execute_result"
    }
   ],
   "source": [
    "frequency = df.groupby('zipcode')['price'].count()\n",
    "frequency"
   ]
  },
  {
   "cell_type": "code",
   "execution_count": 54,
   "metadata": {},
   "outputs": [
    {
     "data": {
      "text/plain": [
       "zipcode\n",
       "98001    271986.396429\n",
       "98002    238721.758427\n",
       "98003    283515.832000\n",
       "98004    632081.481481\n",
       "98005    589203.166667\n",
       "             ...      \n",
       "98177    482602.877907\n",
       "98178    289457.707965\n",
       "98188    280939.695652\n",
       "98198    279732.452915\n",
       "98199    532290.099379\n",
       "Name: price, Length: 69, dtype: float64"
      ]
     },
     "execution_count": 54,
     "metadata": {},
     "output_type": "execute_result"
    }
   ],
   "source": [
    "mean = df.groupby('zipcode').mean()['price']\n",
    "mean"
   ]
  },
  {
   "cell_type": "code",
   "execution_count": 55,
   "metadata": {},
   "outputs": [
    {
     "data": {
      "text/html": [
       "<div>\n",
       "<style scoped>\n",
       "    .dataframe tbody tr th:only-of-type {\n",
       "        vertical-align: middle;\n",
       "    }\n",
       "\n",
       "    .dataframe tbody tr th {\n",
       "        vertical-align: top;\n",
       "    }\n",
       "\n",
       "    .dataframe thead th {\n",
       "        text-align: right;\n",
       "    }\n",
       "</style>\n",
       "<table border=\"1\" class=\"dataframe\">\n",
       "  <thead>\n",
       "    <tr style=\"text-align: right;\">\n",
       "      <th></th>\n",
       "      <th>price</th>\n",
       "      <th>price</th>\n",
       "    </tr>\n",
       "    <tr>\n",
       "      <th>zipcode</th>\n",
       "      <th></th>\n",
       "      <th></th>\n",
       "    </tr>\n",
       "  </thead>\n",
       "  <tbody>\n",
       "    <tr>\n",
       "      <th>98001</th>\n",
       "      <td>280</td>\n",
       "      <td>271986.396429</td>\n",
       "    </tr>\n",
       "    <tr>\n",
       "      <th>98002</th>\n",
       "      <td>178</td>\n",
       "      <td>238721.758427</td>\n",
       "    </tr>\n",
       "    <tr>\n",
       "      <th>98003</th>\n",
       "      <td>250</td>\n",
       "      <td>283515.832000</td>\n",
       "    </tr>\n",
       "    <tr>\n",
       "      <th>98004</th>\n",
       "      <td>27</td>\n",
       "      <td>632081.481481</td>\n",
       "    </tr>\n",
       "    <tr>\n",
       "      <th>98005</th>\n",
       "      <td>54</td>\n",
       "      <td>589203.166667</td>\n",
       "    </tr>\n",
       "    <tr>\n",
       "      <th>...</th>\n",
       "      <td>...</td>\n",
       "      <td>...</td>\n",
       "    </tr>\n",
       "    <tr>\n",
       "      <th>98177</th>\n",
       "      <td>172</td>\n",
       "      <td>482602.877907</td>\n",
       "    </tr>\n",
       "    <tr>\n",
       "      <th>98178</th>\n",
       "      <td>226</td>\n",
       "      <td>289457.707965</td>\n",
       "    </tr>\n",
       "    <tr>\n",
       "      <th>98188</th>\n",
       "      <td>115</td>\n",
       "      <td>280939.695652</td>\n",
       "    </tr>\n",
       "    <tr>\n",
       "      <th>98198</th>\n",
       "      <td>223</td>\n",
       "      <td>279732.452915</td>\n",
       "    </tr>\n",
       "    <tr>\n",
       "      <th>98199</th>\n",
       "      <td>161</td>\n",
       "      <td>532290.099379</td>\n",
       "    </tr>\n",
       "  </tbody>\n",
       "</table>\n",
       "<p>69 rows × 2 columns</p>\n",
       "</div>"
      ],
      "text/plain": [
       "         price          price\n",
       "zipcode                      \n",
       "98001      280  271986.396429\n",
       "98002      178  238721.758427\n",
       "98003      250  283515.832000\n",
       "98004       27  632081.481481\n",
       "98005       54  589203.166667\n",
       "...        ...            ...\n",
       "98177      172  482602.877907\n",
       "98178      226  289457.707965\n",
       "98188      115  280939.695652\n",
       "98198      223  279732.452915\n",
       "98199      161  532290.099379\n",
       "\n",
       "[69 rows x 2 columns]"
      ]
     },
     "execution_count": 55,
     "metadata": {},
     "output_type": "execute_result"
    }
   ],
   "source": [
    "cluster = pd.concat([frequency, mean], axis=1)\n",
    "cluster"
   ]
  },
  {
   "cell_type": "code",
   "execution_count": 56,
   "metadata": {},
   "outputs": [],
   "source": [
    "cluster['zipcode'] = cluster.index"
   ]
  },
  {
   "cell_type": "code",
   "execution_count": 57,
   "metadata": {},
   "outputs": [
    {
     "data": {
      "text/html": [
       "<div>\n",
       "<style scoped>\n",
       "    .dataframe tbody tr th:only-of-type {\n",
       "        vertical-align: middle;\n",
       "    }\n",
       "\n",
       "    .dataframe tbody tr th {\n",
       "        vertical-align: top;\n",
       "    }\n",
       "\n",
       "    .dataframe thead th {\n",
       "        text-align: right;\n",
       "    }\n",
       "</style>\n",
       "<table border=\"1\" class=\"dataframe\">\n",
       "  <thead>\n",
       "    <tr style=\"text-align: right;\">\n",
       "      <th></th>\n",
       "      <th>frequency</th>\n",
       "      <th>price</th>\n",
       "      <th>zipcode</th>\n",
       "    </tr>\n",
       "  </thead>\n",
       "  <tbody>\n",
       "    <tr>\n",
       "      <th>count</th>\n",
       "      <td>69.000000</td>\n",
       "      <td>69.000000</td>\n",
       "      <td>69.000000</td>\n",
       "    </tr>\n",
       "    <tr>\n",
       "      <th>mean</th>\n",
       "      <td>214.333333</td>\n",
       "      <td>418886.300224</td>\n",
       "      <td>98077.855072</td>\n",
       "    </tr>\n",
       "    <tr>\n",
       "      <th>std</th>\n",
       "      <td>128.304288</td>\n",
       "      <td>111068.442087</td>\n",
       "      <td>56.845062</td>\n",
       "    </tr>\n",
       "    <tr>\n",
       "      <th>min</th>\n",
       "      <td>19.000000</td>\n",
       "      <td>238721.758427</td>\n",
       "      <td>98001.000000</td>\n",
       "    </tr>\n",
       "    <tr>\n",
       "      <th>25%</th>\n",
       "      <td>117.000000</td>\n",
       "      <td>311124.153846</td>\n",
       "      <td>98029.000000</td>\n",
       "    </tr>\n",
       "    <tr>\n",
       "      <th>50%</th>\n",
       "      <td>217.000000</td>\n",
       "      <td>419949.202346</td>\n",
       "      <td>98070.000000</td>\n",
       "    </tr>\n",
       "    <tr>\n",
       "      <th>75%</th>\n",
       "      <td>280.000000</td>\n",
       "      <td>510011.021687</td>\n",
       "      <td>98118.000000</td>\n",
       "    </tr>\n",
       "    <tr>\n",
       "      <th>max</th>\n",
       "      <td>478.000000</td>\n",
       "      <td>632081.481481</td>\n",
       "      <td>98199.000000</td>\n",
       "    </tr>\n",
       "  </tbody>\n",
       "</table>\n",
       "</div>"
      ],
      "text/plain": [
       "        frequency          price       zipcode\n",
       "count   69.000000      69.000000     69.000000\n",
       "mean   214.333333  418886.300224  98077.855072\n",
       "std    128.304288  111068.442087     56.845062\n",
       "min     19.000000  238721.758427  98001.000000\n",
       "25%    117.000000  311124.153846  98029.000000\n",
       "50%    217.000000  419949.202346  98070.000000\n",
       "75%    280.000000  510011.021687  98118.000000\n",
       "max    478.000000  632081.481481  98199.000000"
      ]
     },
     "execution_count": 57,
     "metadata": {},
     "output_type": "execute_result"
    }
   ],
   "source": [
    "cluster.columns = ['frequency','price', 'zipcode']\n",
    "cluster.describe()"
   ]
  },
  {
   "cell_type": "code",
   "execution_count": 58,
   "metadata": {},
   "outputs": [],
   "source": [
    "# creating \"cheap\" group that sell below mean price(454585)\n",
    "cluster_cheap = cluster[cluster.price < 454585]\n",
    "\n",
    "# temporary cluster of the houses that sell above mean price\n",
    "cluster_temp = cluster[cluster.price >= 454585]\n",
    "\n",
    "# creating \"low volume, higher priced\" group that sell less frequently than the mean\n",
    "cluster_cheap_low_volume = cluster_cheap[cluster_cheap.frequency < 330]\n",
    "\n",
    "# creating \"high volume, higher priced\" group that sell more frequently than the mean\n",
    "cluster_cheap_high_volume = cluster_cheap[cluster_cheap.frequency >= 330]\n",
    "\n",
    "# creating \"low volume, higher priced\" group that sell less frequently than the mean\n",
    "cluster_expensive_low_volume = cluster_temp[cluster_temp.frequency < 278]\n",
    "\n",
    "# creating \"high volume, higher priced\" group that sell more frequently than the mean\n",
    "cluster_expensive_high_volume = cluster_temp[cluster_temp.frequency >= 280]"
   ]
  },
  {
   "cell_type": "code",
   "execution_count": 59,
   "metadata": {},
   "outputs": [],
   "source": [
    "def get_zipcode_category(zipcode):\n",
    "    if zipcode in cluster_cheap_low_volume.index:\n",
    "        return 'cheap_low_volume'\n",
    "    elif zipcode in cluster_cheap_high_volume.index:\n",
    "        return 'cheap_high_volume'\n",
    "    elif zipcode in cluster_expensive_low_volume.index:\n",
    "        return 'expensive_low_volume'\n",
    "    else:\n",
    "        return 'expensive_high_volume'"
   ]
  },
  {
   "cell_type": "code",
   "execution_count": 60,
   "metadata": {},
   "outputs": [
    {
     "data": {
      "text/plain": [
       "cheap_low_volume         4974\n",
       "cheap_high_volume        4498\n",
       "expensive_low_volume     3698\n",
       "expensive_high_volume    1619\n",
       "Name: zipcode_type, dtype: int64"
      ]
     },
     "execution_count": 60,
     "metadata": {},
     "output_type": "execute_result"
    }
   ],
   "source": [
    "df['zipcode_type'] = df.zipcode.apply(get_zipcode_category)\n",
    "df.zipcode_type.value_counts() # viewing how our clusters look"
   ]
  },
  {
   "cell_type": "markdown",
   "metadata": {},
   "source": [
    "## Continuous and Categorical Features"
   ]
  },
  {
   "cell_type": "code",
   "execution_count": 61,
   "metadata": {},
   "outputs": [],
   "source": [
    "# df_cont = df[['sqft_living', 'sqft_lot', 'sqft_above', 'sqft_basement', 'lat', 'long', 'sqft_living15', 'sqft_lot15']]\n",
    "# df_cate = df[['condition', 'grade', 'zipcode']]\n",
    "\n",
    "# pd.plotting.scatter_matrix(pd.concat([df_cont, df_cate], axis=1), figsize = [12,12])\n",
    "# plt.show()"
   ]
  },
  {
   "cell_type": "markdown",
   "metadata": {},
   "source": [
    "### Multi-collineary "
   ]
  },
  {
   "cell_type": "code",
   "execution_count": 62,
   "metadata": {},
   "outputs": [
    {
     "data": {
      "text/html": [
       "<div>\n",
       "<style scoped>\n",
       "    .dataframe tbody tr th:only-of-type {\n",
       "        vertical-align: middle;\n",
       "    }\n",
       "\n",
       "    .dataframe tbody tr th {\n",
       "        vertical-align: top;\n",
       "    }\n",
       "\n",
       "    .dataframe thead th {\n",
       "        text-align: right;\n",
       "    }\n",
       "</style>\n",
       "<table border=\"1\" class=\"dataframe\">\n",
       "  <thead>\n",
       "    <tr style=\"text-align: right;\">\n",
       "      <th></th>\n",
       "      <th>cc</th>\n",
       "    </tr>\n",
       "    <tr>\n",
       "      <th>pairs</th>\n",
       "      <th></th>\n",
       "    </tr>\n",
       "  </thead>\n",
       "  <tbody>\n",
       "    <tr>\n",
       "      <th>(sqft_lot, sqft_lot15)</th>\n",
       "      <td>0.863163</td>\n",
       "    </tr>\n",
       "    <tr>\n",
       "      <th>(sqft_living, sqft_above)</th>\n",
       "      <td>0.828491</td>\n",
       "    </tr>\n",
       "    <tr>\n",
       "      <th>(sqft_living15, sqft_living)</th>\n",
       "      <td>0.709926</td>\n",
       "    </tr>\n",
       "  </tbody>\n",
       "</table>\n",
       "</div>"
      ],
      "text/plain": [
       "                                    cc\n",
       "pairs                                 \n",
       "(sqft_lot, sqft_lot15)        0.863163\n",
       "(sqft_living, sqft_above)     0.828491\n",
       "(sqft_living15, sqft_living)  0.709926"
      ]
     },
     "execution_count": 62,
     "metadata": {},
     "output_type": "execute_result"
    }
   ],
   "source": [
    "df_cont = df[['sqft_living', 'sqft_lot', 'sqft_above', 'sqft_basement', \n",
    "              'lat', 'long', 'sqft_living15', 'sqft_lot15']]\n",
    "\n",
    "data_cont = df_cont.corr().abs().stack().reset_index().sort_values(0, ascending=False)\n",
    "data_cont['pairs'] = list(zip(data_cont.level_0, data_cont.level_1))\n",
    "data_cont.set_index(['pairs'], inplace=True)\n",
    "data_cont.drop(columns=['level_1', 'level_0'], inplace = True)\n",
    "data_cont.columns = ['cc']\n",
    "data_cont.drop_duplicates(inplace=True)\n",
    "data_cont[(data_cont.cc>.70) & (data_cont.cc<1)]"
   ]
  },
  {
   "cell_type": "markdown",
   "metadata": {},
   "source": [
    ">Above table are showing some highly correlated continuous columns. We'll be dropping 'sqft_above', 'sqft_living15', and 'sqft_lot15' due to high correlation that will lead to fallacy in our model."
   ]
  },
  {
   "cell_type": "code",
   "execution_count": 63,
   "metadata": {},
   "outputs": [],
   "source": [
    "#creating seperate dataframe from the original to make changes\n",
    "df_b = df"
   ]
  },
  {
   "cell_type": "code",
   "execution_count": 64,
   "metadata": {},
   "outputs": [],
   "source": [
    "#dropping the multicollinearies and unwanted columns\n",
    "df_b.drop('lat', axis = 1, inplace = True)\n",
    "df_b.drop('long', axis = 1, inplace = True)\n",
    "df_b.drop('sqft_above', axis = 1, inplace = True)\n",
    "df_b.drop('sqft_living15', axis = 1, inplace = True)\n",
    "df_b.drop('sqft_lot15', axis = 1, inplace = True)"
   ]
  },
  {
   "cell_type": "markdown",
   "metadata": {},
   "source": [
    "> We are dropping 'lat' and 'long' columns because we'll be using zipcode instead. As well as dropping the 'view' columns because we believe it's not a big determining factor for house prices."
   ]
  },
  {
   "cell_type": "markdown",
   "metadata": {},
   "source": [
    "### Categorical / One Hot Encoded"
   ]
  },
  {
   "cell_type": "code",
   "execution_count": 65,
   "metadata": {},
   "outputs": [
    {
     "data": {
      "image/png": "[encoded data removed]",
      "text/plain": [
       "<Figure size 1152x720 with 3 Axes>"
      ]
     },
     "metadata": {},
     "output_type": "display_data"
    }
   ],
   "source": [
    "#looking at graphs to see columns shaped like a categorical data\n",
    "fig, axes = plt.subplots(nrows=1, ncols=3, figsize=(16,10), sharey=True)\n",
    "\n",
    "feats = ['condition', 'grade', 'zipcode_type']\n",
    "\n",
    "for col, ax in zip(feats, axes.flatten()):\n",
    "    (df.groupby(col)               \n",
    "         .mean()['price']        \n",
    "         .sort_values()              \n",
    "         .plot\n",
    "         .bar(ax=ax))                \n",
    "    \n",
    "    ax.set_title(col)                \n",
    "fig.tight_layout()"
   ]
  },
  {
   "cell_type": "code",
   "execution_count": 66,
   "metadata": {
    "scrolled": true
   },
   "outputs": [],
   "source": [
    "features = df[feats].astype('category')"
   ]
  },
  {
   "cell_type": "code",
   "execution_count": 67,
   "metadata": {},
   "outputs": [],
   "source": [
    "feats_ohe = pd.get_dummies(features, drop_first = True)"
   ]
  },
  {
   "cell_type": "code",
   "execution_count": 68,
   "metadata": {},
   "outputs": [],
   "source": [
    "feats_ohe = feats_ohe.astype(int)"
   ]
  },
  {
   "cell_type": "code",
   "execution_count": 69,
   "metadata": {
    "scrolled": true
   },
   "outputs": [
    {
     "data": {
      "text/html": [
       "<div>\n",
       "<style scoped>\n",
       "    .dataframe tbody tr th:only-of-type {\n",
       "        vertical-align: middle;\n",
       "    }\n",
       "\n",
       "    .dataframe tbody tr th {\n",
       "        vertical-align: top;\n",
       "    }\n",
       "\n",
       "    .dataframe thead th {\n",
       "        text-align: right;\n",
       "    }\n",
       "</style>\n",
       "<table border=\"1\" class=\"dataframe\">\n",
       "  <thead>\n",
       "    <tr style=\"text-align: right;\">\n",
       "      <th></th>\n",
       "      <th>condition_2</th>\n",
       "      <th>condition_3</th>\n",
       "      <th>condition_4</th>\n",
       "      <th>condition_5</th>\n",
       "      <th>grade_4</th>\n",
       "      <th>grade_5</th>\n",
       "      <th>grade_6</th>\n",
       "      <th>grade_7</th>\n",
       "      <th>grade_8</th>\n",
       "      <th>grade_9</th>\n",
       "      <th>grade_10</th>\n",
       "      <th>grade_11</th>\n",
       "      <th>zipcode_type_cheap_low_volume</th>\n",
       "      <th>zipcode_type_expensive_high_volume</th>\n",
       "      <th>zipcode_type_expensive_low_volume</th>\n",
       "    </tr>\n",
       "  </thead>\n",
       "  <tbody>\n",
       "    <tr>\n",
       "      <th>0</th>\n",
       "      <td>0</td>\n",
       "      <td>1</td>\n",
       "      <td>0</td>\n",
       "      <td>0</td>\n",
       "      <td>0</td>\n",
       "      <td>0</td>\n",
       "      <td>0</td>\n",
       "      <td>1</td>\n",
       "      <td>0</td>\n",
       "      <td>0</td>\n",
       "      <td>0</td>\n",
       "      <td>0</td>\n",
       "      <td>1</td>\n",
       "      <td>0</td>\n",
       "      <td>0</td>\n",
       "    </tr>\n",
       "    <tr>\n",
       "      <th>1</th>\n",
       "      <td>0</td>\n",
       "      <td>1</td>\n",
       "      <td>0</td>\n",
       "      <td>0</td>\n",
       "      <td>0</td>\n",
       "      <td>0</td>\n",
       "      <td>0</td>\n",
       "      <td>1</td>\n",
       "      <td>0</td>\n",
       "      <td>0</td>\n",
       "      <td>0</td>\n",
       "      <td>0</td>\n",
       "      <td>0</td>\n",
       "      <td>0</td>\n",
       "      <td>0</td>\n",
       "    </tr>\n",
       "    <tr>\n",
       "      <th>2</th>\n",
       "      <td>0</td>\n",
       "      <td>1</td>\n",
       "      <td>0</td>\n",
       "      <td>0</td>\n",
       "      <td>0</td>\n",
       "      <td>0</td>\n",
       "      <td>1</td>\n",
       "      <td>0</td>\n",
       "      <td>0</td>\n",
       "      <td>0</td>\n",
       "      <td>0</td>\n",
       "      <td>0</td>\n",
       "      <td>1</td>\n",
       "      <td>0</td>\n",
       "      <td>0</td>\n",
       "    </tr>\n",
       "    <tr>\n",
       "      <th>3</th>\n",
       "      <td>0</td>\n",
       "      <td>0</td>\n",
       "      <td>0</td>\n",
       "      <td>1</td>\n",
       "      <td>0</td>\n",
       "      <td>0</td>\n",
       "      <td>0</td>\n",
       "      <td>1</td>\n",
       "      <td>0</td>\n",
       "      <td>0</td>\n",
       "      <td>0</td>\n",
       "      <td>0</td>\n",
       "      <td>0</td>\n",
       "      <td>0</td>\n",
       "      <td>1</td>\n",
       "    </tr>\n",
       "    <tr>\n",
       "      <th>4</th>\n",
       "      <td>0</td>\n",
       "      <td>1</td>\n",
       "      <td>0</td>\n",
       "      <td>0</td>\n",
       "      <td>0</td>\n",
       "      <td>0</td>\n",
       "      <td>0</td>\n",
       "      <td>0</td>\n",
       "      <td>1</td>\n",
       "      <td>0</td>\n",
       "      <td>0</td>\n",
       "      <td>0</td>\n",
       "      <td>0</td>\n",
       "      <td>0</td>\n",
       "      <td>1</td>\n",
       "    </tr>\n",
       "  </tbody>\n",
       "</table>\n",
       "</div>"
      ],
      "text/plain": [
       "   condition_2  condition_3  condition_4  condition_5  grade_4  grade_5  \\\n",
       "0            0            1            0            0        0        0   \n",
       "1            0            1            0            0        0        0   \n",
       "2            0            1            0            0        0        0   \n",
       "3            0            0            0            1        0        0   \n",
       "4            0            1            0            0        0        0   \n",
       "\n",
       "   grade_6  grade_7  grade_8  grade_9  grade_10  grade_11  \\\n",
       "0        0        1        0        0         0         0   \n",
       "1        0        1        0        0         0         0   \n",
       "2        1        0        0        0         0         0   \n",
       "3        0        1        0        0         0         0   \n",
       "4        0        0        1        0         0         0   \n",
       "\n",
       "   zipcode_type_cheap_low_volume  zipcode_type_expensive_high_volume  \\\n",
       "0                              1                                   0   \n",
       "1                              0                                   0   \n",
       "2                              1                                   0   \n",
       "3                              0                                   0   \n",
       "4                              0                                   0   \n",
       "\n",
       "   zipcode_type_expensive_low_volume  \n",
       "0                                  0  \n",
       "1                                  0  \n",
       "2                                  0  \n",
       "3                                  1  \n",
       "4                                  1  "
      ]
     },
     "execution_count": 69,
     "metadata": {},
     "output_type": "execute_result"
    }
   ],
   "source": [
    "feats_ohe.head()"
   ]
  },
  {
   "cell_type": "markdown",
   "metadata": {},
   "source": [
    "### Baseline DataFrame"
   ]
  },
  {
   "cell_type": "markdown",
   "metadata": {},
   "source": [
    "> Adding the new features to the baseline data"
   ]
  },
  {
   "cell_type": "code",
   "execution_count": 70,
   "metadata": {},
   "outputs": [],
   "source": [
    "df_b = pd.concat([df_b, feats_ohe], axis = 1)"
   ]
  },
  {
   "cell_type": "code",
   "execution_count": 71,
   "metadata": {},
   "outputs": [
    {
     "data": {
      "text/plain": [
       "Index(['price', 'bedrooms', 'bathrooms', 'sqft_living', 'sqft_lot', 'floors',\n",
       "       'waterfront', 'view', 'condition', 'grade', 'sqft_basement', 'yr_built',\n",
       "       'yr_renovated', 'zipcode', 'month_sold', 'sold_spring_time',\n",
       "       'sold_summer_time', 'sold_fall_time', 'sold_winter_time',\n",
       "       'has_renovated', 'has_basement', 'zipcode_type', 'condition_2',\n",
       "       'condition_3', 'condition_4', 'condition_5', 'grade_4', 'grade_5',\n",
       "       'grade_6', 'grade_7', 'grade_8', 'grade_9', 'grade_10', 'grade_11',\n",
       "       'zipcode_type_cheap_low_volume', 'zipcode_type_expensive_high_volume',\n",
       "       'zipcode_type_expensive_low_volume'],\n",
       "      dtype='object')"
      ]
     },
     "execution_count": 71,
     "metadata": {},
     "output_type": "execute_result"
    }
   ],
   "source": [
    "df_b.columns"
   ]
  },
  {
   "cell_type": "markdown",
   "metadata": {},
   "source": [
    "> dropping more unwanted columns from our baseline DataFrame"
   ]
  },
  {
   "cell_type": "code",
   "execution_count": 72,
   "metadata": {},
   "outputs": [],
   "source": [
    "#dropping unwanted columns first\n",
    "df_b.drop('view', axis = 1, inplace = True)\n",
    "df_b.drop('yr_renovated', axis = 1, inplace = True)\n",
    "df_b.drop('sqft_basement', axis = 1, inplace = True)"
   ]
  },
  {
   "cell_type": "markdown",
   "metadata": {},
   "source": [
    ">Dropping 'condition', 'grade', and 'zipcode' since they're replaced with one hot encoded features"
   ]
  },
  {
   "cell_type": "code",
   "execution_count": 73,
   "metadata": {},
   "outputs": [],
   "source": [
    "df_b.drop('condition', axis = 1, inplace = True)\n",
    "df_b.drop('grade', axis = 1, inplace = True)\n",
    "df_b.drop('zipcode', axis = 1, inplace = True)"
   ]
  },
  {
   "cell_type": "code",
   "execution_count": 74,
   "metadata": {},
   "outputs": [],
   "source": [
    "df_b.drop('zipcode_type', axis = 1, inplace = True)"
   ]
  },
  {
   "cell_type": "code",
   "execution_count": 75,
   "metadata": {
    "scrolled": true
   },
   "outputs": [
    {
     "data": {
      "text/html": [
       "<div>\n",
       "<style scoped>\n",
       "    .dataframe tbody tr th:only-of-type {\n",
       "        vertical-align: middle;\n",
       "    }\n",
       "\n",
       "    .dataframe tbody tr th {\n",
       "        vertical-align: top;\n",
       "    }\n",
       "\n",
       "    .dataframe thead th {\n",
       "        text-align: right;\n",
       "    }\n",
       "</style>\n",
       "<table border=\"1\" class=\"dataframe\">\n",
       "  <thead>\n",
       "    <tr style=\"text-align: right;\">\n",
       "      <th></th>\n",
       "      <th>price</th>\n",
       "      <th>bedrooms</th>\n",
       "      <th>bathrooms</th>\n",
       "      <th>sqft_living</th>\n",
       "      <th>sqft_lot</th>\n",
       "      <th>floors</th>\n",
       "      <th>waterfront</th>\n",
       "      <th>yr_built</th>\n",
       "      <th>month_sold</th>\n",
       "      <th>sold_spring_time</th>\n",
       "      <th>...</th>\n",
       "      <th>grade_5</th>\n",
       "      <th>grade_6</th>\n",
       "      <th>grade_7</th>\n",
       "      <th>grade_8</th>\n",
       "      <th>grade_9</th>\n",
       "      <th>grade_10</th>\n",
       "      <th>grade_11</th>\n",
       "      <th>zipcode_type_cheap_low_volume</th>\n",
       "      <th>zipcode_type_expensive_high_volume</th>\n",
       "      <th>zipcode_type_expensive_low_volume</th>\n",
       "    </tr>\n",
       "  </thead>\n",
       "  <tbody>\n",
       "    <tr>\n",
       "      <th>0</th>\n",
       "      <td>221900</td>\n",
       "      <td>3</td>\n",
       "      <td>1.00</td>\n",
       "      <td>1180</td>\n",
       "      <td>5650</td>\n",
       "      <td>1.0</td>\n",
       "      <td>0</td>\n",
       "      <td>1955</td>\n",
       "      <td>10</td>\n",
       "      <td>0</td>\n",
       "      <td>...</td>\n",
       "      <td>0</td>\n",
       "      <td>0</td>\n",
       "      <td>1</td>\n",
       "      <td>0</td>\n",
       "      <td>0</td>\n",
       "      <td>0</td>\n",
       "      <td>0</td>\n",
       "      <td>1</td>\n",
       "      <td>0</td>\n",
       "      <td>0</td>\n",
       "    </tr>\n",
       "    <tr>\n",
       "      <th>1</th>\n",
       "      <td>538000</td>\n",
       "      <td>3</td>\n",
       "      <td>2.25</td>\n",
       "      <td>2570</td>\n",
       "      <td>7242</td>\n",
       "      <td>2.0</td>\n",
       "      <td>0</td>\n",
       "      <td>1951</td>\n",
       "      <td>12</td>\n",
       "      <td>0</td>\n",
       "      <td>...</td>\n",
       "      <td>0</td>\n",
       "      <td>0</td>\n",
       "      <td>1</td>\n",
       "      <td>0</td>\n",
       "      <td>0</td>\n",
       "      <td>0</td>\n",
       "      <td>0</td>\n",
       "      <td>0</td>\n",
       "      <td>0</td>\n",
       "      <td>0</td>\n",
       "    </tr>\n",
       "    <tr>\n",
       "      <th>2</th>\n",
       "      <td>180000</td>\n",
       "      <td>2</td>\n",
       "      <td>1.00</td>\n",
       "      <td>770</td>\n",
       "      <td>10000</td>\n",
       "      <td>1.0</td>\n",
       "      <td>0</td>\n",
       "      <td>1933</td>\n",
       "      <td>2</td>\n",
       "      <td>1</td>\n",
       "      <td>...</td>\n",
       "      <td>0</td>\n",
       "      <td>1</td>\n",
       "      <td>0</td>\n",
       "      <td>0</td>\n",
       "      <td>0</td>\n",
       "      <td>0</td>\n",
       "      <td>0</td>\n",
       "      <td>1</td>\n",
       "      <td>0</td>\n",
       "      <td>0</td>\n",
       "    </tr>\n",
       "    <tr>\n",
       "      <th>3</th>\n",
       "      <td>604000</td>\n",
       "      <td>4</td>\n",
       "      <td>3.00</td>\n",
       "      <td>1960</td>\n",
       "      <td>5000</td>\n",
       "      <td>1.0</td>\n",
       "      <td>0</td>\n",
       "      <td>1965</td>\n",
       "      <td>12</td>\n",
       "      <td>0</td>\n",
       "      <td>...</td>\n",
       "      <td>0</td>\n",
       "      <td>0</td>\n",
       "      <td>1</td>\n",
       "      <td>0</td>\n",
       "      <td>0</td>\n",
       "      <td>0</td>\n",
       "      <td>0</td>\n",
       "      <td>0</td>\n",
       "      <td>0</td>\n",
       "      <td>1</td>\n",
       "    </tr>\n",
       "    <tr>\n",
       "      <th>4</th>\n",
       "      <td>510000</td>\n",
       "      <td>3</td>\n",
       "      <td>2.00</td>\n",
       "      <td>1680</td>\n",
       "      <td>8080</td>\n",
       "      <td>1.0</td>\n",
       "      <td>0</td>\n",
       "      <td>1987</td>\n",
       "      <td>2</td>\n",
       "      <td>1</td>\n",
       "      <td>...</td>\n",
       "      <td>0</td>\n",
       "      <td>0</td>\n",
       "      <td>0</td>\n",
       "      <td>1</td>\n",
       "      <td>0</td>\n",
       "      <td>0</td>\n",
       "      <td>0</td>\n",
       "      <td>0</td>\n",
       "      <td>0</td>\n",
       "      <td>1</td>\n",
       "    </tr>\n",
       "  </tbody>\n",
       "</table>\n",
       "<p>5 rows × 30 columns</p>\n",
       "</div>"
      ],
      "text/plain": [
       "    price  bedrooms  bathrooms  sqft_living  sqft_lot  floors  waterfront  \\\n",
       "0  221900         3       1.00         1180      5650     1.0           0   \n",
       "1  538000         3       2.25         2570      7242     2.0           0   \n",
       "2  180000         2       1.00          770     10000     1.0           0   \n",
       "3  604000         4       3.00         1960      5000     1.0           0   \n",
       "4  510000         3       2.00         1680      8080     1.0           0   \n",
       "\n",
       "   yr_built  month_sold  sold_spring_time  ...  grade_5  grade_6  grade_7  \\\n",
       "0      1955          10                 0  ...        0        0        1   \n",
       "1      1951          12                 0  ...        0        0        1   \n",
       "2      1933           2                 1  ...        0        1        0   \n",
       "3      1965          12                 0  ...        0        0        1   \n",
       "4      1987           2                 1  ...        0        0        0   \n",
       "\n",
       "   grade_8  grade_9  grade_10  grade_11  zipcode_type_cheap_low_volume  \\\n",
       "0        0        0         0         0                              1   \n",
       "1        0        0         0         0                              0   \n",
       "2        0        0         0         0                              1   \n",
       "3        0        0         0         0                              0   \n",
       "4        1        0         0         0                              0   \n",
       "\n",
       "   zipcode_type_expensive_high_volume  zipcode_type_expensive_low_volume  \n",
       "0                                   0                                  0  \n",
       "1                                   0                                  0  \n",
       "2                                   0                                  0  \n",
       "3                                   0                                  1  \n",
       "4                                   0                                  1  \n",
       "\n",
       "[5 rows x 30 columns]"
      ]
     },
     "execution_count": 75,
     "metadata": {},
     "output_type": "execute_result"
    }
   ],
   "source": [
    "#checking to see the new dataset and ensuring that there is no missing values\n",
    "df_b.head()"
   ]
  },
  {
   "cell_type": "code",
   "execution_count": 76,
   "metadata": {},
   "outputs": [
    {
     "name": "stdout",
     "output_type": "stream",
     "text": [
      "<class 'pandas.core.frame.DataFrame'>\n",
      "Int64Index: 14789 entries, 0 to 21596\n",
      "Data columns (total 30 columns):\n",
      "price                                 14789 non-null int32\n",
      "bedrooms                              14789 non-null int64\n",
      "bathrooms                             14789 non-null float64\n",
      "sqft_living                           14789 non-null int64\n",
      "sqft_lot                              14789 non-null int64\n",
      "floors                                14789 non-null float64\n",
      "waterfront                            14789 non-null int32\n",
      "yr_built                              14789 non-null int64\n",
      "month_sold                            14789 non-null int64\n",
      "sold_spring_time                      14789 non-null int32\n",
      "sold_summer_time                      14789 non-null int32\n",
      "sold_fall_time                        14789 non-null int32\n",
      "sold_winter_time                      14789 non-null int32\n",
      "has_renovated                         14789 non-null int32\n",
      "has_basement                          14789 non-null int32\n",
      "condition_2                           14789 non-null int32\n",
      "condition_3                           14789 non-null int32\n",
      "condition_4                           14789 non-null int32\n",
      "condition_5                           14789 non-null int32\n",
      "grade_4                               14789 non-null int32\n",
      "grade_5                               14789 non-null int32\n",
      "grade_6                               14789 non-null int32\n",
      "grade_7                               14789 non-null int32\n",
      "grade_8                               14789 non-null int32\n",
      "grade_9                               14789 non-null int32\n",
      "grade_10                              14789 non-null int32\n",
      "grade_11                              14789 non-null int32\n",
      "zipcode_type_cheap_low_volume         14789 non-null int32\n",
      "zipcode_type_expensive_high_volume    14789 non-null int32\n",
      "zipcode_type_expensive_low_volume     14789 non-null int32\n",
      "dtypes: float64(2), int32(23), int64(5)\n",
      "memory usage: 2.2 MB\n"
     ]
    }
   ],
   "source": [
    "df_b.info()"
   ]
  },
  {
   "cell_type": "markdown",
   "metadata": {},
   "source": [
    "## First Model - Baseline\n"
   ]
  },
  {
   "cell_type": "markdown",
   "metadata": {},
   "source": [
    "### Train-Test Split"
   ]
  },
  {
   "cell_type": "code",
   "execution_count": 77,
   "metadata": {},
   "outputs": [],
   "source": [
    "#importing the necessary libraries for train-test split\n",
    "import scipy.stats as stats\n",
    "from sklearn.model_selection import train_test_split\n",
    "from sklearn.linear_model import LinearRegression\n",
    "from sklearn.metrics import mean_squared_error\n",
    "\n",
    "linreg = LinearRegression()"
   ]
  },
  {
   "cell_type": "code",
   "execution_count": 78,
   "metadata": {},
   "outputs": [],
   "source": [
    "y = df_b[['price']]\n",
    "X = df_b.drop(['price'], axis=1)\n",
    "\n",
    "X_train, X_test, y_train, y_test = train_test_split(X, y, test_size = 0.2, random_state = (123))"
   ]
  },
  {
   "cell_type": "code",
   "execution_count": 79,
   "metadata": {},
   "outputs": [],
   "source": [
    "linreg.fit(X_train, y_train)\n",
    "\n",
    "y_hat_train = linreg.predict(X_train)\n",
    "y_hat_test = linreg.predict(X_test)"
   ]
  },
  {
   "cell_type": "code",
   "execution_count": 80,
   "metadata": {},
   "outputs": [],
   "source": [
    "rmse_train = np.sqrt(mean_squared_error(y_train, y_hat_train))\n",
    "rmse_test = np.sqrt(mean_squared_error(y_test, y_hat_test))"
   ]
  },
  {
   "cell_type": "code",
   "execution_count": 81,
   "metadata": {},
   "outputs": [
    {
     "name": "stdout",
     "output_type": "stream",
     "text": [
      "RMSE Train: 80900.15\n",
      "RMSE Test: 81297.43\n"
     ]
    }
   ],
   "source": [
    "print(\"RMSE Train:\", round(rmse_train, 2))\n",
    "print(\"RMSE Test:\", round(rmse_test, 2))"
   ]
  },
  {
   "cell_type": "markdown",
   "metadata": {},
   "source": [
    "###  model"
   ]
  },
  {
   "cell_type": "code",
   "execution_count": 82,
   "metadata": {},
   "outputs": [],
   "source": [
    "from statsmodels.formula.api import ols"
   ]
  },
  {
   "cell_type": "code",
   "execution_count": 83,
   "metadata": {
    "scrolled": false
   },
   "outputs": [
    {
     "data": {
      "text/html": [
       "<table class=\"simpletable\">\n",
       "<caption>OLS Regression Results</caption>\n",
       "<tr>\n",
       "  <th>Dep. Variable:</th>          <td>price</td>      <th>  R-squared:         </th>  <td>   0.649</td>  \n",
       "</tr>\n",
       "<tr>\n",
       "  <th>Model:</th>                   <td>OLS</td>       <th>  Adj. R-squared:    </th>  <td>   0.648</td>  \n",
       "</tr>\n",
       "<tr>\n",
       "  <th>Method:</th>             <td>Least Squares</td>  <th>  F-statistic:       </th>  <td>   779.2</td>  \n",
       "</tr>\n",
       "<tr>\n",
       "  <th>Date:</th>             <td>Sat, 21 Nov 2020</td> <th>  Prob (F-statistic):</th>   <td>  0.00</td>   \n",
       "</tr>\n",
       "<tr>\n",
       "  <th>Time:</th>                 <td>11:40:43</td>     <th>  Log-Likelihood:    </th> <td>-1.5049e+05</td>\n",
       "</tr>\n",
       "<tr>\n",
       "  <th>No. Observations:</th>      <td> 11831</td>      <th>  AIC:               </th>  <td>3.010e+05</td> \n",
       "</tr>\n",
       "<tr>\n",
       "  <th>Df Residuals:</th>          <td> 11802</td>      <th>  BIC:               </th>  <td>3.013e+05</td> \n",
       "</tr>\n",
       "<tr>\n",
       "  <th>Df Model:</th>              <td>    28</td>      <th>                     </th>      <td> </td>     \n",
       "</tr>\n",
       "<tr>\n",
       "  <th>Covariance Type:</th>      <td>nonrobust</td>    <th>                     </th>      <td> </td>     \n",
       "</tr>\n",
       "</table>\n",
       "<table class=\"simpletable\">\n",
       "<tr>\n",
       "                   <td></td>                     <th>coef</th>     <th>std err</th>      <th>t</th>      <th>P>|t|</th>  <th>[0.025</th>    <th>0.975]</th>  \n",
       "</tr>\n",
       "<tr>\n",
       "  <th>Intercept</th>                          <td> 2.015e+06</td> <td> 9.15e+04</td> <td>   22.013</td> <td> 0.000</td> <td> 1.84e+06</td> <td> 2.19e+06</td>\n",
       "</tr>\n",
       "<tr>\n",
       "  <th>bedrooms</th>                           <td>-6027.1851</td> <td> 1203.915</td> <td>   -5.006</td> <td> 0.000</td> <td>-8387.058</td> <td>-3667.312</td>\n",
       "</tr>\n",
       "<tr>\n",
       "  <th>bathrooms</th>                          <td> 1.342e+04</td> <td> 1988.968</td> <td>    6.747</td> <td> 0.000</td> <td> 9520.091</td> <td> 1.73e+04</td>\n",
       "</tr>\n",
       "<tr>\n",
       "  <th>sqft_living</th>                        <td>   76.1824</td> <td>    2.232</td> <td>   34.139</td> <td> 0.000</td> <td>   71.808</td> <td>   80.557</td>\n",
       "</tr>\n",
       "<tr>\n",
       "  <th>sqft_lot</th>                           <td>   -1.4391</td> <td>    0.284</td> <td>   -5.069</td> <td> 0.000</td> <td>   -1.996</td> <td>   -0.883</td>\n",
       "</tr>\n",
       "<tr>\n",
       "  <th>floors</th>                             <td> 9673.9084</td> <td> 2179.843</td> <td>    4.438</td> <td> 0.000</td> <td> 5401.056</td> <td> 1.39e+04</td>\n",
       "</tr>\n",
       "<tr>\n",
       "  <th>waterfront</th>                         <td> 2.583e+05</td> <td>  3.1e+04</td> <td>    8.336</td> <td> 0.000</td> <td> 1.98e+05</td> <td> 3.19e+05</td>\n",
       "</tr>\n",
       "<tr>\n",
       "  <th>yr_built</th>                           <td>-1189.9393</td> <td>   40.350</td> <td>  -29.490</td> <td> 0.000</td> <td>-1269.033</td> <td>-1110.846</td>\n",
       "</tr>\n",
       "<tr>\n",
       "  <th>month_sold</th>                         <td>-1887.7352</td> <td>  915.941</td> <td>   -2.061</td> <td> 0.039</td> <td>-3683.131</td> <td>  -92.339</td>\n",
       "</tr>\n",
       "<tr>\n",
       "  <th>sold_spring_time</th>                   <td> 4.989e+05</td> <td> 2.31e+04</td> <td>   21.615</td> <td> 0.000</td> <td> 4.54e+05</td> <td> 5.44e+05</td>\n",
       "</tr>\n",
       "<tr>\n",
       "  <th>sold_summer_time</th>                   <td> 5.099e+05</td> <td> 2.29e+04</td> <td>   22.272</td> <td> 0.000</td> <td> 4.65e+05</td> <td> 5.55e+05</td>\n",
       "</tr>\n",
       "<tr>\n",
       "  <th>sold_fall_time</th>                     <td> 5.009e+05</td> <td>  2.3e+04</td> <td>   21.750</td> <td> 0.000</td> <td> 4.56e+05</td> <td> 5.46e+05</td>\n",
       "</tr>\n",
       "<tr>\n",
       "  <th>sold_winter_time</th>                   <td> 5.052e+05</td> <td> 2.34e+04</td> <td>   21.549</td> <td> 0.000</td> <td> 4.59e+05</td> <td> 5.51e+05</td>\n",
       "</tr>\n",
       "<tr>\n",
       "  <th>has_renovated</th>                      <td>  923.6812</td> <td> 5184.899</td> <td>    0.178</td> <td> 0.859</td> <td>-9239.576</td> <td> 1.11e+04</td>\n",
       "</tr>\n",
       "<tr>\n",
       "  <th>has_basement</th>                       <td> 1.453e+04</td> <td> 1844.032</td> <td>    7.882</td> <td> 0.000</td> <td> 1.09e+04</td> <td> 1.81e+04</td>\n",
       "</tr>\n",
       "<tr>\n",
       "  <th>condition_2</th>                        <td>  -2.4e+04</td> <td> 2.62e+04</td> <td>   -0.916</td> <td> 0.360</td> <td>-7.54e+04</td> <td> 2.74e+04</td>\n",
       "</tr>\n",
       "<tr>\n",
       "  <th>condition_3</th>                        <td> 7510.4367</td> <td> 2.47e+04</td> <td>    0.304</td> <td> 0.761</td> <td>-4.09e+04</td> <td>  5.6e+04</td>\n",
       "</tr>\n",
       "<tr>\n",
       "  <th>condition_4</th>                        <td> 8491.4201</td> <td> 2.47e+04</td> <td>    0.343</td> <td> 0.731</td> <td>   -4e+04</td> <td>  5.7e+04</td>\n",
       "</tr>\n",
       "<tr>\n",
       "  <th>condition_5</th>                        <td> 3.433e+04</td> <td> 2.48e+04</td> <td>    1.383</td> <td> 0.167</td> <td>-1.43e+04</td> <td>  8.3e+04</td>\n",
       "</tr>\n",
       "<tr>\n",
       "  <th>grade_4</th>                            <td> 4276.3412</td> <td>  8.5e+04</td> <td>    0.050</td> <td> 0.960</td> <td>-1.62e+05</td> <td> 1.71e+05</td>\n",
       "</tr>\n",
       "<tr>\n",
       "  <th>grade_5</th>                            <td>-5.219e+04</td> <td> 8.14e+04</td> <td>   -0.641</td> <td> 0.522</td> <td>-2.12e+05</td> <td> 1.07e+05</td>\n",
       "</tr>\n",
       "<tr>\n",
       "  <th>grade_6</th>                            <td> -1.16e+04</td> <td> 8.11e+04</td> <td>   -0.143</td> <td> 0.886</td> <td>-1.71e+05</td> <td> 1.47e+05</td>\n",
       "</tr>\n",
       "<tr>\n",
       "  <th>grade_7</th>                            <td> 3.175e+04</td> <td> 8.11e+04</td> <td>    0.391</td> <td> 0.696</td> <td>-1.27e+05</td> <td> 1.91e+05</td>\n",
       "</tr>\n",
       "<tr>\n",
       "  <th>grade_8</th>                            <td> 7.959e+04</td> <td> 8.12e+04</td> <td>    0.981</td> <td> 0.327</td> <td>-7.95e+04</td> <td> 2.39e+05</td>\n",
       "</tr>\n",
       "<tr>\n",
       "  <th>grade_9</th>                            <td> 1.407e+05</td> <td> 8.13e+04</td> <td>    1.731</td> <td> 0.083</td> <td>-1.86e+04</td> <td>    3e+05</td>\n",
       "</tr>\n",
       "<tr>\n",
       "  <th>grade_10</th>                           <td> 1.505e+05</td> <td> 8.17e+04</td> <td>    1.842</td> <td> 0.065</td> <td>-9618.286</td> <td> 3.11e+05</td>\n",
       "</tr>\n",
       "<tr>\n",
       "  <th>grade_11</th>                           <td> 1.039e+05</td> <td> 9.94e+04</td> <td>    1.045</td> <td> 0.296</td> <td> -9.1e+04</td> <td> 2.99e+05</td>\n",
       "</tr>\n",
       "<tr>\n",
       "  <th>zipcode_type_cheap_low_volume</th>      <td>-3.233e+04</td> <td> 1870.653</td> <td>  -17.284</td> <td> 0.000</td> <td> -3.6e+04</td> <td>-2.87e+04</td>\n",
       "</tr>\n",
       "<tr>\n",
       "  <th>zipcode_type_expensive_high_volume</th> <td> 1.349e+05</td> <td> 2825.518</td> <td>   47.754</td> <td> 0.000</td> <td> 1.29e+05</td> <td>  1.4e+05</td>\n",
       "</tr>\n",
       "<tr>\n",
       "  <th>zipcode_type_expensive_low_volume</th>  <td> 1.322e+05</td> <td> 2114.917</td> <td>   62.487</td> <td> 0.000</td> <td> 1.28e+05</td> <td> 1.36e+05</td>\n",
       "</tr>\n",
       "</table>\n",
       "<table class=\"simpletable\">\n",
       "<tr>\n",
       "  <th>Omnibus:</th>       <td>229.706</td> <th>  Durbin-Watson:     </th> <td>   1.997</td>\n",
       "</tr>\n",
       "<tr>\n",
       "  <th>Prob(Omnibus):</th> <td> 0.000</td>  <th>  Jarque-Bera (JB):  </th> <td> 255.013</td>\n",
       "</tr>\n",
       "<tr>\n",
       "  <th>Skew:</th>          <td> 0.312</td>  <th>  Prob(JB):          </th> <td>4.21e-56</td>\n",
       "</tr>\n",
       "<tr>\n",
       "  <th>Kurtosis:</th>      <td> 3.359</td>  <th>  Cond. No.          </th> <td>3.03e+15</td>\n",
       "</tr>\n",
       "</table><br/><br/>Warnings:<br/>[1] Standard Errors assume that the covariance matrix of the errors is correctly specified.<br/>[2] The smallest eigenvalue is 8.54e-20. This might indicate that there are<br/>strong multicollinearity problems or that the design matrix is singular."
      ],
      "text/plain": [
       "<class 'statsmodels.iolib.summary.Summary'>\n",
       "\"\"\"\n",
       "                            OLS Regression Results                            \n",
       "==============================================================================\n",
       "Dep. Variable:                  price   R-squared:                       0.649\n",
       "Model:                            OLS   Adj. R-squared:                  0.648\n",
       "Method:                 Least Squares   F-statistic:                     779.2\n",
       "Date:                Sat, 21 Nov 2020   Prob (F-statistic):               0.00\n",
       "Time:                        11:40:43   Log-Likelihood:            -1.5049e+05\n",
       "No. Observations:               11831   AIC:                         3.010e+05\n",
       "Df Residuals:                   11802   BIC:                         3.013e+05\n",
       "Df Model:                          28                                         \n",
       "Covariance Type:            nonrobust                                         \n",
       "======================================================================================================\n",
       "                                         coef    std err          t      P>|t|      [0.025      0.975]\n",
       "------------------------------------------------------------------------------------------------------\n",
       "Intercept                           2.015e+06   9.15e+04     22.013      0.000    1.84e+06    2.19e+06\n",
       "bedrooms                           -6027.1851   1203.915     -5.006      0.000   -8387.058   -3667.312\n",
       "bathrooms                           1.342e+04   1988.968      6.747      0.000    9520.091    1.73e+04\n",
       "sqft_living                           76.1824      2.232     34.139      0.000      71.808      80.557\n",
       "sqft_lot                              -1.4391      0.284     -5.069      0.000      -1.996      -0.883\n",
       "floors                              9673.9084   2179.843      4.438      0.000    5401.056    1.39e+04\n",
       "waterfront                          2.583e+05    3.1e+04      8.336      0.000    1.98e+05    3.19e+05\n",
       "yr_built                           -1189.9393     40.350    -29.490      0.000   -1269.033   -1110.846\n",
       "month_sold                         -1887.7352    915.941     -2.061      0.039   -3683.131     -92.339\n",
       "sold_spring_time                    4.989e+05   2.31e+04     21.615      0.000    4.54e+05    5.44e+05\n",
       "sold_summer_time                    5.099e+05   2.29e+04     22.272      0.000    4.65e+05    5.55e+05\n",
       "sold_fall_time                      5.009e+05    2.3e+04     21.750      0.000    4.56e+05    5.46e+05\n",
       "sold_winter_time                    5.052e+05   2.34e+04     21.549      0.000    4.59e+05    5.51e+05\n",
       "has_renovated                        923.6812   5184.899      0.178      0.859   -9239.576    1.11e+04\n",
       "has_basement                        1.453e+04   1844.032      7.882      0.000    1.09e+04    1.81e+04\n",
       "condition_2                          -2.4e+04   2.62e+04     -0.916      0.360   -7.54e+04    2.74e+04\n",
       "condition_3                         7510.4367   2.47e+04      0.304      0.761   -4.09e+04     5.6e+04\n",
       "condition_4                         8491.4201   2.47e+04      0.343      0.731      -4e+04     5.7e+04\n",
       "condition_5                         3.433e+04   2.48e+04      1.383      0.167   -1.43e+04     8.3e+04\n",
       "grade_4                             4276.3412    8.5e+04      0.050      0.960   -1.62e+05    1.71e+05\n",
       "grade_5                            -5.219e+04   8.14e+04     -0.641      0.522   -2.12e+05    1.07e+05\n",
       "grade_6                             -1.16e+04   8.11e+04     -0.143      0.886   -1.71e+05    1.47e+05\n",
       "grade_7                             3.175e+04   8.11e+04      0.391      0.696   -1.27e+05    1.91e+05\n",
       "grade_8                             7.959e+04   8.12e+04      0.981      0.327   -7.95e+04    2.39e+05\n",
       "grade_9                             1.407e+05   8.13e+04      1.731      0.083   -1.86e+04       3e+05\n",
       "grade_10                            1.505e+05   8.17e+04      1.842      0.065   -9618.286    3.11e+05\n",
       "grade_11                            1.039e+05   9.94e+04      1.045      0.296    -9.1e+04    2.99e+05\n",
       "zipcode_type_cheap_low_volume      -3.233e+04   1870.653    -17.284      0.000    -3.6e+04   -2.87e+04\n",
       "zipcode_type_expensive_high_volume  1.349e+05   2825.518     47.754      0.000    1.29e+05     1.4e+05\n",
       "zipcode_type_expensive_low_volume   1.322e+05   2114.917     62.487      0.000    1.28e+05    1.36e+05\n",
       "==============================================================================\n",
       "Omnibus:                      229.706   Durbin-Watson:                   1.997\n",
       "Prob(Omnibus):                  0.000   Jarque-Bera (JB):              255.013\n",
       "Skew:                           0.312   Prob(JB):                     4.21e-56\n",
       "Kurtosis:                       3.359   Cond. No.                     3.03e+15\n",
       "==============================================================================\n",
       "\n",
       "Warnings:\n",
       "[1] Standard Errors assume that the covariance matrix of the errors is correctly specified.\n",
       "[2] The smallest eigenvalue is 8.54e-20. This might indicate that there are\n",
       "strong multicollinearity problems or that the design matrix is singular.\n",
       "\"\"\""
      ]
     },
     "execution_count": 83,
     "metadata": {},
     "output_type": "execute_result"
    }
   ],
   "source": [
    "# Fitting the actual model\n",
    "outcome = 'price'\n",
    "dftrain = pd.concat([X_train, y_train], axis = 1)\n",
    "\n",
    "predictors = '+'.join(X.columns)\n",
    "formula = outcome + '~' + predictors\n",
    "model = ols(formula=formula, data = dftrain).fit()\n",
    "model.summary()"
   ]
  },
  {
   "cell_type": "markdown",
   "metadata": {},
   "source": [
    "R-squared: 0.826\n",
    "\n",
    "Adj R-squared: 0.825\n",
    "\n",
    "Number of significant p_values: 13"
   ]
  },
  {
   "cell_type": "markdown",
   "metadata": {},
   "source": [
    "### Checking QQ Plot"
   ]
  },
  {
   "cell_type": "code",
   "execution_count": 84,
   "metadata": {},
   "outputs": [],
   "source": [
    "import statsmodels.api as sm"
   ]
  },
  {
   "cell_type": "code",
   "execution_count": 85,
   "metadata": {},
   "outputs": [
    {
     "data": {
      "image/png": "[encoded data removed]",
      "text/plain": [
       "<Figure size 432x288 with 1 Axes>"
      ]
     },
     "metadata": {},
     "output_type": "display_data"
    }
   ],
   "source": [
    "fig = sm.graphics.qqplot(model.resid, dist=stats.norm, line='45', fit=True)"
   ]
  },
  {
   "cell_type": "markdown",
   "metadata": {},
   "source": [
    "### Checking for Homoscedasticity"
   ]
  },
  {
   "cell_type": "code",
   "execution_count": 86,
   "metadata": {},
   "outputs": [
    {
     "data": {
      "text/plain": [
       "[<matplotlib.lines.Line2D at 0x1dbb7e05d30>]"
      ]
     },
     "execution_count": 86,
     "metadata": {},
     "output_type": "execute_result"
    },
    {
     "data": {
      "image/png": "[encoded data removed]",
      "text/plain": [
       "<Figure size 432x288 with 1 Axes>"
      ]
     },
     "metadata": {},
     "output_type": "display_data"
    }
   ],
   "source": [
    "plt.scatter(model.predict(dftrain[X.columns]), model.resid)\n",
    "plt.plot(model.predict(dftrain[X.columns]), [0 for i in range(len(dftrain))])"
   ]
  },
  {
   "cell_type": "markdown",
   "metadata": {},
   "source": [
    "## Second Model - Multicollinearies"
   ]
  },
  {
   "cell_type": "markdown",
   "metadata": {},
   "source": [
    "### checking and fixing multicollinearies"
   ]
  },
  {
   "cell_type": "code",
   "execution_count": 87,
   "metadata": {
    "code_folding": []
   },
   "outputs": [],
   "source": [
    "#Importing variance inflation factor to check for multicollinearies \n",
    "from statsmodels.stats.outliers_influence import variance_inflation_factor"
   ]
  },
  {
   "cell_type": "code",
   "execution_count": 88,
   "metadata": {
    "scrolled": true
   },
   "outputs": [
    {
     "data": {
      "text/plain": [
       "[('bedrooms', 1.7713206376353405),\n",
       " ('bathrooms', 3.0131648253957812),\n",
       " ('sqft_living', 3.156486006694818),\n",
       " ('sqft_lot', 1.599385503869232),\n",
       " ('floors', 2.515338086507053),\n",
       " ('waterfront', 1.0163861614498655),\n",
       " ('yr_built', 2.5102849369204647),\n",
       " ('month_sold', 14.908540949283607),\n",
       " ('sold_spring_time', 5121.432003120915),\n",
       " ('sold_summer_time', 8196.125855895178),\n",
       " ('sold_fall_time', 7287.120527231428),\n",
       " ('sold_winter_time', 5940.946052671976),\n",
       " ('has_renovated', 1.07700087702154),\n",
       " ('has_basement', 1.4078792771688575),\n",
       " ('condition_2', 8.801034350572074),\n",
       " ('condition_3', 241.64158444877907),\n",
       " ('condition_4', 206.8884238245463),\n",
       " ('condition_5', 73.38008198456228),\n",
       " ('grade_4', 14.008823435587066),\n",
       " ('grade_5', 148.77744772718526),\n",
       " ('grade_6', 1530.1287449503616),\n",
       " ('grade_7', 3703.1764513550256),\n",
       " ('grade_8', 3021.6052058059586),\n",
       " ('grade_9', 870.5520478806147),\n",
       " ('grade_10', 115.58252451980832),\n",
       " ('grade_11', 4.014876129399204),\n",
       " ('zipcode_type_cheap_low_volume', 1.4182705087175795),\n",
       " ('zipcode_type_expensive_high_volume', 1.4101915584439477),\n",
       " ('zipcode_type_expensive_low_volume', 1.4999601811508712)]"
      ]
     },
     "execution_count": 88,
     "metadata": {},
     "output_type": "execute_result"
    }
   ],
   "source": [
    "col = df_b[X.columns]\n",
    "vif = [variance_inflation_factor(col.values, i) for i in range(col.shape[1])]\n",
    "list(zip(X.columns, vif))"
   ]
  },
  {
   "cell_type": "code",
   "execution_count": 89,
   "metadata": {},
   "outputs": [
    {
     "name": "stdout",
     "output_type": "stream",
     "text": [
      "29 15\n"
     ]
    }
   ],
   "source": [
    "vif_scores = list(zip(X.columns, vif))\n",
    "v_test = [x for x, vif in vif_scores if vif > 10]\n",
    "print(len(vif_scores), len(v_test))"
   ]
  },
  {
   "cell_type": "code",
   "execution_count": 90,
   "metadata": {},
   "outputs": [
    {
     "data": {
      "text/plain": [
       "['month_sold',\n",
       " 'sold_spring_time',\n",
       " 'sold_summer_time',\n",
       " 'sold_fall_time',\n",
       " 'sold_winter_time',\n",
       " 'condition_3',\n",
       " 'condition_4',\n",
       " 'condition_5',\n",
       " 'grade_4',\n",
       " 'grade_5',\n",
       " 'grade_6',\n",
       " 'grade_7',\n",
       " 'grade_8',\n",
       " 'grade_9',\n",
       " 'grade_10']"
      ]
     },
     "execution_count": 90,
     "metadata": {},
     "output_type": "execute_result"
    }
   ],
   "source": [
    "v_test"
   ]
  },
  {
   "cell_type": "code",
   "execution_count": 91,
   "metadata": {},
   "outputs": [],
   "source": [
    "for v in v_test:\n",
    "    dftrain.drop(v, axis=1, inplace=True)"
   ]
  },
  {
   "cell_type": "code",
   "execution_count": 92,
   "metadata": {},
   "outputs": [],
   "source": [
    "dftrain.drop('condition_2', axis = 1, inplace = True)"
   ]
  },
  {
   "cell_type": "code",
   "execution_count": 93,
   "metadata": {
    "scrolled": true
   },
   "outputs": [
    {
     "name": "stdout",
     "output_type": "stream",
     "text": [
      "<class 'pandas.core.frame.DataFrame'>\n",
      "Int64Index: 11831 entries, 13460 to 5289\n",
      "Data columns (total 14 columns):\n",
      "bedrooms                              11831 non-null int64\n",
      "bathrooms                             11831 non-null float64\n",
      "sqft_living                           11831 non-null int64\n",
      "sqft_lot                              11831 non-null int64\n",
      "floors                                11831 non-null float64\n",
      "waterfront                            11831 non-null int32\n",
      "yr_built                              11831 non-null int64\n",
      "has_renovated                         11831 non-null int32\n",
      "has_basement                          11831 non-null int32\n",
      "grade_11                              11831 non-null int32\n",
      "zipcode_type_cheap_low_volume         11831 non-null int32\n",
      "zipcode_type_expensive_high_volume    11831 non-null int32\n",
      "zipcode_type_expensive_low_volume     11831 non-null int32\n",
      "price                                 11831 non-null int32\n",
      "dtypes: float64(2), int32(8), int64(4)\n",
      "memory usage: 1016.7 KB\n"
     ]
    }
   ],
   "source": [
    "dftrain.info()"
   ]
  },
  {
   "cell_type": "markdown",
   "metadata": {},
   "source": [
    "### Train-Test Split"
   ]
  },
  {
   "cell_type": "code",
   "execution_count": 94,
   "metadata": {},
   "outputs": [],
   "source": [
    "y = dftrain[['price']]\n",
    "X = dftrain.drop(['price'], axis=1)\n",
    "\n",
    "X_train, X_test, y_train, y_test = train_test_split(X, y, test_size = 0.2, random_state = (123))"
   ]
  },
  {
   "cell_type": "code",
   "execution_count": 95,
   "metadata": {},
   "outputs": [],
   "source": [
    "linreg.fit(X_train, y_train)\n",
    "\n",
    "y_hat_train = linreg.predict(X_train)\n",
    "y_hat_test = linreg.predict(X_test)"
   ]
  },
  {
   "cell_type": "code",
   "execution_count": 96,
   "metadata": {},
   "outputs": [],
   "source": [
    "rmse_train = np.sqrt(mean_squared_error(y_train, y_hat_train))\n",
    "rmse_test = np.sqrt(mean_squared_error(y_test, y_hat_test))"
   ]
  },
  {
   "cell_type": "code",
   "execution_count": 97,
   "metadata": {},
   "outputs": [
    {
     "name": "stdout",
     "output_type": "stream",
     "text": [
      "RMSE Train: 85846.5\n",
      "RMSE Test: 86320.58\n"
     ]
    }
   ],
   "source": [
    "print(\"RMSE Train:\", round(rmse_train, 2))\n",
    "print(\"RMSE Test:\", round(rmse_test, 2))"
   ]
  },
  {
   "cell_type": "markdown",
   "metadata": {},
   "source": [
    "### model"
   ]
  },
  {
   "cell_type": "code",
   "execution_count": 98,
   "metadata": {
    "scrolled": true
   },
   "outputs": [
    {
     "data": {
      "text/html": [
       "<table class=\"simpletable\">\n",
       "<caption>OLS Regression Results</caption>\n",
       "<tr>\n",
       "  <th>Dep. Variable:</th>          <td>price</td>      <th>  R-squared:         </th>  <td>   0.604</td>  \n",
       "</tr>\n",
       "<tr>\n",
       "  <th>Model:</th>                   <td>OLS</td>       <th>  Adj. R-squared:    </th>  <td>   0.604</td>  \n",
       "</tr>\n",
       "<tr>\n",
       "  <th>Method:</th>             <td>Least Squares</td>  <th>  F-statistic:       </th>  <td>   1387.</td>  \n",
       "</tr>\n",
       "<tr>\n",
       "  <th>Date:</th>             <td>Sat, 21 Nov 2020</td> <th>  Prob (F-statistic):</th>   <td>  0.00</td>   \n",
       "</tr>\n",
       "<tr>\n",
       "  <th>Time:</th>                 <td>11:40:46</td>     <th>  Log-Likelihood:    </th> <td>-1.5120e+05</td>\n",
       "</tr>\n",
       "<tr>\n",
       "  <th>No. Observations:</th>      <td> 11831</td>      <th>  AIC:               </th>  <td>3.024e+05</td> \n",
       "</tr>\n",
       "<tr>\n",
       "  <th>Df Residuals:</th>          <td> 11817</td>      <th>  BIC:               </th>  <td>3.025e+05</td> \n",
       "</tr>\n",
       "<tr>\n",
       "  <th>Df Model:</th>              <td>    13</td>      <th>                     </th>      <td> </td>     \n",
       "</tr>\n",
       "<tr>\n",
       "  <th>Covariance Type:</th>      <td>nonrobust</td>    <th>                     </th>      <td> </td>     \n",
       "</tr>\n",
       "</table>\n",
       "<table class=\"simpletable\">\n",
       "<tr>\n",
       "                   <td></td>                     <th>coef</th>     <th>std err</th>      <th>t</th>      <th>P>|t|</th>  <th>[0.025</th>    <th>0.975]</th>  \n",
       "</tr>\n",
       "<tr>\n",
       "  <th>Intercept</th>                          <td> 1.811e+06</td> <td> 7.51e+04</td> <td>   24.117</td> <td> 0.000</td> <td> 1.66e+06</td> <td> 1.96e+06</td>\n",
       "</tr>\n",
       "<tr>\n",
       "  <th>bedrooms</th>                           <td>-1.099e+04</td> <td> 1256.106</td> <td>   -8.749</td> <td> 0.000</td> <td>-1.35e+04</td> <td>-8527.577</td>\n",
       "</tr>\n",
       "<tr>\n",
       "  <th>bathrooms</th>                          <td> 1.748e+04</td> <td> 2086.562</td> <td>    8.378</td> <td> 0.000</td> <td> 1.34e+04</td> <td> 2.16e+04</td>\n",
       "</tr>\n",
       "<tr>\n",
       "  <th>sqft_living</th>                        <td>  107.8847</td> <td>    2.159</td> <td>   49.976</td> <td> 0.000</td> <td>  103.653</td> <td>  112.116</td>\n",
       "</tr>\n",
       "<tr>\n",
       "  <th>sqft_lot</th>                           <td>   -1.0339</td> <td>    0.299</td> <td>   -3.457</td> <td> 0.001</td> <td>   -1.620</td> <td>   -0.448</td>\n",
       "</tr>\n",
       "<tr>\n",
       "  <th>floors</th>                             <td> 1.678e+04</td> <td> 2279.625</td> <td>    7.362</td> <td> 0.000</td> <td> 1.23e+04</td> <td> 2.13e+04</td>\n",
       "</tr>\n",
       "<tr>\n",
       "  <th>waterfront</th>                         <td> 2.421e+05</td> <td> 3.26e+04</td> <td>    7.423</td> <td> 0.000</td> <td> 1.78e+05</td> <td> 3.06e+05</td>\n",
       "</tr>\n",
       "<tr>\n",
       "  <th>yr_built</th>                           <td> -840.6629</td> <td>   39.042</td> <td>  -21.532</td> <td> 0.000</td> <td> -917.192</td> <td> -764.134</td>\n",
       "</tr>\n",
       "<tr>\n",
       "  <th>has_renovated</th>                      <td>  520.7751</td> <td> 5457.840</td> <td>    0.095</td> <td> 0.924</td> <td>-1.02e+04</td> <td> 1.12e+04</td>\n",
       "</tr>\n",
       "<tr>\n",
       "  <th>has_basement</th>                       <td> 1.202e+04</td> <td> 1936.319</td> <td>    6.209</td> <td> 0.000</td> <td> 8226.918</td> <td> 1.58e+04</td>\n",
       "</tr>\n",
       "<tr>\n",
       "  <th>grade_11</th>                           <td> -1.56e+04</td> <td> 6.09e+04</td> <td>   -0.256</td> <td> 0.798</td> <td>-1.35e+05</td> <td> 1.04e+05</td>\n",
       "</tr>\n",
       "<tr>\n",
       "  <th>zipcode_type_cheap_low_volume</th>      <td>-3.476e+04</td> <td> 1979.886</td> <td>  -17.558</td> <td> 0.000</td> <td>-3.86e+04</td> <td>-3.09e+04</td>\n",
       "</tr>\n",
       "<tr>\n",
       "  <th>zipcode_type_expensive_high_volume</th> <td> 1.474e+05</td> <td> 2954.755</td> <td>   49.874</td> <td> 0.000</td> <td> 1.42e+05</td> <td> 1.53e+05</td>\n",
       "</tr>\n",
       "<tr>\n",
       "  <th>zipcode_type_expensive_low_volume</th>  <td> 1.457e+05</td> <td> 2195.821</td> <td>   66.340</td> <td> 0.000</td> <td> 1.41e+05</td> <td>  1.5e+05</td>\n",
       "</tr>\n",
       "</table>\n",
       "<table class=\"simpletable\">\n",
       "<tr>\n",
       "  <th>Omnibus:</th>       <td>248.896</td> <th>  Durbin-Watson:     </th> <td>   1.994</td>\n",
       "</tr>\n",
       "<tr>\n",
       "  <th>Prob(Omnibus):</th> <td> 0.000</td>  <th>  Jarque-Bera (JB):  </th> <td> 268.354</td>\n",
       "</tr>\n",
       "<tr>\n",
       "  <th>Skew:</th>          <td> 0.344</td>  <th>  Prob(JB):          </th> <td>5.34e-59</td>\n",
       "</tr>\n",
       "<tr>\n",
       "  <th>Kurtosis:</th>      <td> 3.265</td>  <th>  Cond. No.          </th> <td>7.73e+05</td>\n",
       "</tr>\n",
       "</table><br/><br/>Warnings:<br/>[1] Standard Errors assume that the covariance matrix of the errors is correctly specified.<br/>[2] The condition number is large, 7.73e+05. This might indicate that there are<br/>strong multicollinearity or other numerical problems."
      ],
      "text/plain": [
       "<class 'statsmodels.iolib.summary.Summary'>\n",
       "\"\"\"\n",
       "                            OLS Regression Results                            \n",
       "==============================================================================\n",
       "Dep. Variable:                  price   R-squared:                       0.604\n",
       "Model:                            OLS   Adj. R-squared:                  0.604\n",
       "Method:                 Least Squares   F-statistic:                     1387.\n",
       "Date:                Sat, 21 Nov 2020   Prob (F-statistic):               0.00\n",
       "Time:                        11:40:46   Log-Likelihood:            -1.5120e+05\n",
       "No. Observations:               11831   AIC:                         3.024e+05\n",
       "Df Residuals:                   11817   BIC:                         3.025e+05\n",
       "Df Model:                          13                                         \n",
       "Covariance Type:            nonrobust                                         \n",
       "======================================================================================================\n",
       "                                         coef    std err          t      P>|t|      [0.025      0.975]\n",
       "------------------------------------------------------------------------------------------------------\n",
       "Intercept                           1.811e+06   7.51e+04     24.117      0.000    1.66e+06    1.96e+06\n",
       "bedrooms                           -1.099e+04   1256.106     -8.749      0.000   -1.35e+04   -8527.577\n",
       "bathrooms                           1.748e+04   2086.562      8.378      0.000    1.34e+04    2.16e+04\n",
       "sqft_living                          107.8847      2.159     49.976      0.000     103.653     112.116\n",
       "sqft_lot                              -1.0339      0.299     -3.457      0.001      -1.620      -0.448\n",
       "floors                              1.678e+04   2279.625      7.362      0.000    1.23e+04    2.13e+04\n",
       "waterfront                          2.421e+05   3.26e+04      7.423      0.000    1.78e+05    3.06e+05\n",
       "yr_built                            -840.6629     39.042    -21.532      0.000    -917.192    -764.134\n",
       "has_renovated                        520.7751   5457.840      0.095      0.924   -1.02e+04    1.12e+04\n",
       "has_basement                        1.202e+04   1936.319      6.209      0.000    8226.918    1.58e+04\n",
       "grade_11                            -1.56e+04   6.09e+04     -0.256      0.798   -1.35e+05    1.04e+05\n",
       "zipcode_type_cheap_low_volume      -3.476e+04   1979.886    -17.558      0.000   -3.86e+04   -3.09e+04\n",
       "zipcode_type_expensive_high_volume  1.474e+05   2954.755     49.874      0.000    1.42e+05    1.53e+05\n",
       "zipcode_type_expensive_low_volume   1.457e+05   2195.821     66.340      0.000    1.41e+05     1.5e+05\n",
       "==============================================================================\n",
       "Omnibus:                      248.896   Durbin-Watson:                   1.994\n",
       "Prob(Omnibus):                  0.000   Jarque-Bera (JB):              268.354\n",
       "Skew:                           0.344   Prob(JB):                     5.34e-59\n",
       "Kurtosis:                       3.265   Cond. No.                     7.73e+05\n",
       "==============================================================================\n",
       "\n",
       "Warnings:\n",
       "[1] Standard Errors assume that the covariance matrix of the errors is correctly specified.\n",
       "[2] The condition number is large, 7.73e+05. This might indicate that there are\n",
       "strong multicollinearity or other numerical problems.\n",
       "\"\"\""
      ]
     },
     "execution_count": 98,
     "metadata": {},
     "output_type": "execute_result"
    }
   ],
   "source": [
    "updf_b = dftrain.drop(['price'], axis=1)\n",
    "predictors = '+'.join(updf_b.columns)\n",
    "formula = outcome + '~' + predictors\n",
    "model = ols(formula=formula, data = dftrain).fit()\n",
    "model.summary()"
   ]
  },
  {
   "cell_type": "markdown",
   "metadata": {},
   "source": [
    "### QQ Plot"
   ]
  },
  {
   "cell_type": "code",
   "execution_count": 99,
   "metadata": {
    "scrolled": true
   },
   "outputs": [
    {
     "data": {
      "image/png": "[encoded data removed]",
      "text/plain": [
       "<Figure size 432x288 with 1 Axes>"
      ]
     },
     "metadata": {},
     "output_type": "display_data"
    }
   ],
   "source": [
    "fig = sm.graphics.qqplot(model.resid, dist=stats.norm, line='45', fit=True)"
   ]
  },
  {
   "cell_type": "markdown",
   "metadata": {},
   "source": [
    "### Homoscedasticity"
   ]
  },
  {
   "cell_type": "code",
   "execution_count": 100,
   "metadata": {
    "scrolled": true
   },
   "outputs": [
    {
     "data": {
      "image/png": "[encoded data removed]",
      "text/plain": [
       "<Figure size 432x288 with 1 Axes>"
      ]
     },
     "metadata": {},
     "output_type": "display_data"
    }
   ],
   "source": [
    "plt.scatter(model.predict(dftrain[updf_b.columns]), model.resid)\n",
    "plt.plot(model.predict(dftrain[updf_b.columns]), [0 for i in range(len(dftrain))]);"
   ]
  },
  {
   "cell_type": "markdown",
   "metadata": {},
   "source": [
    "## Third Model - P_Values"
   ]
  },
  {
   "cell_type": "markdown",
   "metadata": {},
   "source": [
    "### finding and fixing high p_values"
   ]
  },
  {
   "cell_type": "code",
   "execution_count": 101,
   "metadata": {},
   "outputs": [],
   "source": [
    "# finding the high p values\n",
    "summary = model.summary()\n",
    "p_table = summary.tables[1]\n",
    "p_table = pd.DataFrame(p_table.data)\n",
    "p_table.columns = p_table.iloc[0]\n",
    "p_table = p_table.drop(0)\n",
    "p_table = p_table.set_index(p_table.columns[0])\n",
    "p_table['P>|t|'] = p_table['P>|t|'].astype(float)"
   ]
  },
  {
   "cell_type": "code",
   "execution_count": 102,
   "metadata": {},
   "outputs": [
    {
     "name": "stdout",
     "output_type": "stream",
     "text": [
      "Our high p_values columns: ['has_renovated', 'grade_11']\n"
     ]
    }
   ],
   "source": [
    "#showing the high p values\n",
    "high_p_values = list(p_table[p_table['P>|t|'] >= 0.05].index)\n",
    "print(\"Our high p_values columns:\", high_p_values)"
   ]
  },
  {
   "cell_type": "code",
   "execution_count": 103,
   "metadata": {},
   "outputs": [],
   "source": [
    "# leaving the high p values out.\n",
    "x_cols = list(p_table[p_table['P>|t|'] < 0.05].index)\n",
    "x_cols.remove('Intercept')"
   ]
  },
  {
   "cell_type": "markdown",
   "metadata": {},
   "source": [
    "### Train-Test Split"
   ]
  },
  {
   "cell_type": "code",
   "execution_count": 104,
   "metadata": {},
   "outputs": [],
   "source": [
    "y = dftrain[['price']]\n",
    "X = dftrain[x_cols]\n",
    "\n",
    "X_train, X_test, y_train, y_test = train_test_split(X, y, test_size = 0.2, random_state = (123))"
   ]
  },
  {
   "cell_type": "code",
   "execution_count": 105,
   "metadata": {},
   "outputs": [],
   "source": [
    "linreg.fit(X_train, y_train)\n",
    "\n",
    "y_hat_train = linreg.predict(X_train)\n",
    "y_hat_test = linreg.predict(X_test)"
   ]
  },
  {
   "cell_type": "code",
   "execution_count": 106,
   "metadata": {},
   "outputs": [],
   "source": [
    "rmse_train = np.sqrt(mean_squared_error(y_train, y_hat_train))\n",
    "rmse_test = np.sqrt(mean_squared_error(y_test, y_hat_test))"
   ]
  },
  {
   "cell_type": "code",
   "execution_count": 107,
   "metadata": {},
   "outputs": [
    {
     "name": "stdout",
     "output_type": "stream",
     "text": [
      "RMSE Train: 85853.18\n",
      "RMSE Test: 86267.39\n"
     ]
    }
   ],
   "source": [
    "print(\"RMSE Train:\", round(rmse_train, 2))\n",
    "print(\"RMSE Test:\", round(rmse_test, 2))"
   ]
  },
  {
   "cell_type": "markdown",
   "metadata": {},
   "source": [
    "### model"
   ]
  },
  {
   "cell_type": "code",
   "execution_count": 108,
   "metadata": {
    "scrolled": false
   },
   "outputs": [
    {
     "data": {
      "text/html": [
       "<table class=\"simpletable\">\n",
       "<caption>OLS Regression Results</caption>\n",
       "<tr>\n",
       "  <th>Dep. Variable:</th>          <td>price</td>      <th>  R-squared:         </th>  <td>   0.604</td>  \n",
       "</tr>\n",
       "<tr>\n",
       "  <th>Model:</th>                   <td>OLS</td>       <th>  Adj. R-squared:    </th>  <td>   0.604</td>  \n",
       "</tr>\n",
       "<tr>\n",
       "  <th>Method:</th>             <td>Least Squares</td>  <th>  F-statistic:       </th>  <td>   1640.</td>  \n",
       "</tr>\n",
       "<tr>\n",
       "  <th>Date:</th>             <td>Sat, 21 Nov 2020</td> <th>  Prob (F-statistic):</th>   <td>  0.00</td>   \n",
       "</tr>\n",
       "<tr>\n",
       "  <th>Time:</th>                 <td>11:40:47</td>     <th>  Log-Likelihood:    </th> <td>-1.5120e+05</td>\n",
       "</tr>\n",
       "<tr>\n",
       "  <th>No. Observations:</th>      <td> 11831</td>      <th>  AIC:               </th>  <td>3.024e+05</td> \n",
       "</tr>\n",
       "<tr>\n",
       "  <th>Df Residuals:</th>          <td> 11819</td>      <th>  BIC:               </th>  <td>3.025e+05</td> \n",
       "</tr>\n",
       "<tr>\n",
       "  <th>Df Model:</th>              <td>    11</td>      <th>                     </th>      <td> </td>     \n",
       "</tr>\n",
       "<tr>\n",
       "  <th>Covariance Type:</th>      <td>nonrobust</td>    <th>                     </th>      <td> </td>     \n",
       "</tr>\n",
       "</table>\n",
       "<table class=\"simpletable\">\n",
       "<tr>\n",
       "                   <td></td>                     <th>coef</th>     <th>std err</th>      <th>t</th>      <th>P>|t|</th>  <th>[0.025</th>    <th>0.975]</th>  \n",
       "</tr>\n",
       "<tr>\n",
       "  <th>Intercept</th>                          <td> 1.813e+06</td> <td> 7.32e+04</td> <td>   24.774</td> <td> 0.000</td> <td> 1.67e+06</td> <td> 1.96e+06</td>\n",
       "</tr>\n",
       "<tr>\n",
       "  <th>bedrooms</th>                           <td>-1.099e+04</td> <td> 1255.093</td> <td>   -8.757</td> <td> 0.000</td> <td>-1.35e+04</td> <td>-8530.992</td>\n",
       "</tr>\n",
       "<tr>\n",
       "  <th>bathrooms</th>                          <td>  1.75e+04</td> <td> 2078.010</td> <td>    8.422</td> <td> 0.000</td> <td> 1.34e+04</td> <td> 2.16e+04</td>\n",
       "</tr>\n",
       "<tr>\n",
       "  <th>sqft_living</th>                        <td>  107.8677</td> <td>    2.157</td> <td>   50.010</td> <td> 0.000</td> <td>  103.640</td> <td>  112.096</td>\n",
       "</tr>\n",
       "<tr>\n",
       "  <th>sqft_lot</th>                           <td>   -1.0347</td> <td>    0.299</td> <td>   -3.460</td> <td> 0.001</td> <td>   -1.621</td> <td>   -0.449</td>\n",
       "</tr>\n",
       "<tr>\n",
       "  <th>floors</th>                             <td> 1.679e+04</td> <td> 2277.265</td> <td>    7.373</td> <td> 0.000</td> <td> 1.23e+04</td> <td> 2.13e+04</td>\n",
       "</tr>\n",
       "<tr>\n",
       "  <th>waterfront</th>                         <td> 2.422e+05</td> <td> 3.26e+04</td> <td>    7.433</td> <td> 0.000</td> <td> 1.78e+05</td> <td> 3.06e+05</td>\n",
       "</tr>\n",
       "<tr>\n",
       "  <th>yr_built</th>                           <td> -841.4517</td> <td>   38.058</td> <td>  -22.110</td> <td> 0.000</td> <td> -916.051</td> <td> -766.853</td>\n",
       "</tr>\n",
       "<tr>\n",
       "  <th>has_basement</th>                       <td> 1.202e+04</td> <td> 1934.788</td> <td>    6.214</td> <td> 0.000</td> <td> 8230.358</td> <td> 1.58e+04</td>\n",
       "</tr>\n",
       "<tr>\n",
       "  <th>zipcode_type_cheap_low_volume</th>      <td>-3.476e+04</td> <td> 1979.529</td> <td>  -17.560</td> <td> 0.000</td> <td>-3.86e+04</td> <td>-3.09e+04</td>\n",
       "</tr>\n",
       "<tr>\n",
       "  <th>zipcode_type_expensive_high_volume</th> <td> 1.474e+05</td> <td> 2953.025</td> <td>   49.900</td> <td> 0.000</td> <td> 1.42e+05</td> <td> 1.53e+05</td>\n",
       "</tr>\n",
       "<tr>\n",
       "  <th>zipcode_type_expensive_low_volume</th>  <td> 1.457e+05</td> <td> 2195.610</td> <td>   66.348</td> <td> 0.000</td> <td> 1.41e+05</td> <td>  1.5e+05</td>\n",
       "</tr>\n",
       "</table>\n",
       "<table class=\"simpletable\">\n",
       "<tr>\n",
       "  <th>Omnibus:</th>       <td>248.987</td> <th>  Durbin-Watson:     </th> <td>   1.994</td>\n",
       "</tr>\n",
       "<tr>\n",
       "  <th>Prob(Omnibus):</th> <td> 0.000</td>  <th>  Jarque-Bera (JB):  </th> <td> 268.456</td>\n",
       "</tr>\n",
       "<tr>\n",
       "  <th>Skew:</th>          <td> 0.344</td>  <th>  Prob(JB):          </th> <td>5.08e-59</td>\n",
       "</tr>\n",
       "<tr>\n",
       "  <th>Kurtosis:</th>      <td> 3.265</td>  <th>  Cond. No.          </th> <td>7.53e+05</td>\n",
       "</tr>\n",
       "</table><br/><br/>Warnings:<br/>[1] Standard Errors assume that the covariance matrix of the errors is correctly specified.<br/>[2] The condition number is large, 7.53e+05. This might indicate that there are<br/>strong multicollinearity or other numerical problems."
      ],
      "text/plain": [
       "<class 'statsmodels.iolib.summary.Summary'>\n",
       "\"\"\"\n",
       "                            OLS Regression Results                            \n",
       "==============================================================================\n",
       "Dep. Variable:                  price   R-squared:                       0.604\n",
       "Model:                            OLS   Adj. R-squared:                  0.604\n",
       "Method:                 Least Squares   F-statistic:                     1640.\n",
       "Date:                Sat, 21 Nov 2020   Prob (F-statistic):               0.00\n",
       "Time:                        11:40:47   Log-Likelihood:            -1.5120e+05\n",
       "No. Observations:               11831   AIC:                         3.024e+05\n",
       "Df Residuals:                   11819   BIC:                         3.025e+05\n",
       "Df Model:                          11                                         \n",
       "Covariance Type:            nonrobust                                         \n",
       "======================================================================================================\n",
       "                                         coef    std err          t      P>|t|      [0.025      0.975]\n",
       "------------------------------------------------------------------------------------------------------\n",
       "Intercept                           1.813e+06   7.32e+04     24.774      0.000    1.67e+06    1.96e+06\n",
       "bedrooms                           -1.099e+04   1255.093     -8.757      0.000   -1.35e+04   -8530.992\n",
       "bathrooms                            1.75e+04   2078.010      8.422      0.000    1.34e+04    2.16e+04\n",
       "sqft_living                          107.8677      2.157     50.010      0.000     103.640     112.096\n",
       "sqft_lot                              -1.0347      0.299     -3.460      0.001      -1.621      -0.449\n",
       "floors                              1.679e+04   2277.265      7.373      0.000    1.23e+04    2.13e+04\n",
       "waterfront                          2.422e+05   3.26e+04      7.433      0.000    1.78e+05    3.06e+05\n",
       "yr_built                            -841.4517     38.058    -22.110      0.000    -916.051    -766.853\n",
       "has_basement                        1.202e+04   1934.788      6.214      0.000    8230.358    1.58e+04\n",
       "zipcode_type_cheap_low_volume      -3.476e+04   1979.529    -17.560      0.000   -3.86e+04   -3.09e+04\n",
       "zipcode_type_expensive_high_volume  1.474e+05   2953.025     49.900      0.000    1.42e+05    1.53e+05\n",
       "zipcode_type_expensive_low_volume   1.457e+05   2195.610     66.348      0.000    1.41e+05     1.5e+05\n",
       "==============================================================================\n",
       "Omnibus:                      248.987   Durbin-Watson:                   1.994\n",
       "Prob(Omnibus):                  0.000   Jarque-Bera (JB):              268.456\n",
       "Skew:                           0.344   Prob(JB):                     5.08e-59\n",
       "Kurtosis:                       3.265   Cond. No.                     7.53e+05\n",
       "==============================================================================\n",
       "\n",
       "Warnings:\n",
       "[1] Standard Errors assume that the covariance matrix of the errors is correctly specified.\n",
       "[2] The condition number is large, 7.53e+05. This might indicate that there are\n",
       "strong multicollinearity or other numerical problems.\n",
       "\"\"\""
      ]
     },
     "execution_count": 108,
     "metadata": {},
     "output_type": "execute_result"
    }
   ],
   "source": [
    "predictors = '+'.join(x_cols)\n",
    "formula = outcome + '~' + predictors\n",
    "model = ols(formula=formula, data = dftrain).fit()\n",
    "model.summary()"
   ]
  },
  {
   "cell_type": "markdown",
   "metadata": {},
   "source": [
    "### QQ plot"
   ]
  },
  {
   "cell_type": "code",
   "execution_count": 109,
   "metadata": {
    "scrolled": true
   },
   "outputs": [
    {
     "data": {
      "image/png": "[encoded data removed]",
      "text/plain": [
       "<Figure size 432x288 with 1 Axes>"
      ]
     },
     "metadata": {},
     "output_type": "display_data"
    }
   ],
   "source": [
    "fig = sm.graphics.qqplot(model.resid, dist=stats.norm, line='45', fit=True)"
   ]
  },
  {
   "cell_type": "markdown",
   "metadata": {
    "code_folding": []
   },
   "source": [
    "### Homoscedasiticity"
   ]
  },
  {
   "cell_type": "code",
   "execution_count": 110,
   "metadata": {},
   "outputs": [
    {
     "data": {
      "image/png": "[encoded data removed]",
      "text/plain": [
       "<Figure size 432x288 with 1 Axes>"
      ]
     },
     "metadata": {},
     "output_type": "display_data"
    }
   ],
   "source": [
    "plt.scatter(model.predict(dftrain[x_cols]), model.resid)\n",
    "plt.plot(model.predict(dftrain[x_cols]), [0 for i in range(len(dftrain))]);"
   ]
  },
  {
   "cell_type": "markdown",
   "metadata": {},
   "source": [
    "## Fourth Model  - Transformation"
   ]
  },
  {
   "cell_type": "markdown",
   "metadata": {},
   "source": [
    "### adding log values to 'continuous' columns"
   ]
  },
  {
   "cell_type": "code",
   "execution_count": 111,
   "metadata": {
    "scrolled": true
   },
   "outputs": [
    {
     "data": {
      "image/png": "[encoded data removed]",
      "text/plain": [
       "<Figure size 432x288 with 1 Axes>"
      ]
     },
     "metadata": {},
     "output_type": "display_data"
    }
   ],
   "source": [
    "cont = ['sqft_living','sqft_lot']\n",
    "\n",
    "sns.histplot(data = dftrain, x = 'sqft_living');"
   ]
  },
  {
   "cell_type": "code",
   "execution_count": 112,
   "metadata": {},
   "outputs": [
    {
     "data": {
      "image/png": "[encoded data removed]",
      "text/plain": [
       "<Figure size 432x288 with 1 Axes>"
      ]
     },
     "metadata": {},
     "output_type": "display_data"
    }
   ],
   "source": [
    "sns.histplot(data = dftrain, x = 'sqft_lot');"
   ]
  },
  {
   "cell_type": "code",
   "execution_count": 113,
   "metadata": {},
   "outputs": [],
   "source": [
    "dfcont = dftrain[cont]\n",
    "log_names = [f'{column}_log' for column in dfcont.columns]\n",
    "\n",
    "df_log = np.log(dfcont)\n",
    "df_log.columns = log_names\n",
    "\n",
    "for col in df_log:\n",
    "    dftrain[col] = df_log[col]"
   ]
  },
  {
   "cell_type": "code",
   "execution_count": 114,
   "metadata": {
    "scrolled": true
   },
   "outputs": [
    {
     "data": {
      "text/html": [
       "<div>\n",
       "<style scoped>\n",
       "    .dataframe tbody tr th:only-of-type {\n",
       "        vertical-align: middle;\n",
       "    }\n",
       "\n",
       "    .dataframe tbody tr th {\n",
       "        vertical-align: top;\n",
       "    }\n",
       "\n",
       "    .dataframe thead th {\n",
       "        text-align: right;\n",
       "    }\n",
       "</style>\n",
       "<table border=\"1\" class=\"dataframe\">\n",
       "  <thead>\n",
       "    <tr style=\"text-align: right;\">\n",
       "      <th></th>\n",
       "      <th>bedrooms</th>\n",
       "      <th>bathrooms</th>\n",
       "      <th>sqft_living</th>\n",
       "      <th>sqft_lot</th>\n",
       "      <th>floors</th>\n",
       "      <th>waterfront</th>\n",
       "      <th>yr_built</th>\n",
       "      <th>has_renovated</th>\n",
       "      <th>has_basement</th>\n",
       "      <th>grade_11</th>\n",
       "      <th>zipcode_type_cheap_low_volume</th>\n",
       "      <th>zipcode_type_expensive_high_volume</th>\n",
       "      <th>zipcode_type_expensive_low_volume</th>\n",
       "      <th>price</th>\n",
       "      <th>sqft_living_log</th>\n",
       "      <th>sqft_lot_log</th>\n",
       "    </tr>\n",
       "  </thead>\n",
       "  <tbody>\n",
       "    <tr>\n",
       "      <th>13460</th>\n",
       "      <td>2</td>\n",
       "      <td>1.00</td>\n",
       "      <td>1000</td>\n",
       "      <td>3700</td>\n",
       "      <td>1.0</td>\n",
       "      <td>0</td>\n",
       "      <td>1929</td>\n",
       "      <td>0</td>\n",
       "      <td>1</td>\n",
       "      <td>0</td>\n",
       "      <td>0</td>\n",
       "      <td>0</td>\n",
       "      <td>0</td>\n",
       "      <td>257000</td>\n",
       "      <td>6.907755</td>\n",
       "      <td>8.216088</td>\n",
       "    </tr>\n",
       "    <tr>\n",
       "      <th>7880</th>\n",
       "      <td>5</td>\n",
       "      <td>2.00</td>\n",
       "      <td>2610</td>\n",
       "      <td>5009</td>\n",
       "      <td>1.0</td>\n",
       "      <td>0</td>\n",
       "      <td>1988</td>\n",
       "      <td>0</td>\n",
       "      <td>1</td>\n",
       "      <td>0</td>\n",
       "      <td>0</td>\n",
       "      <td>1</td>\n",
       "      <td>0</td>\n",
       "      <td>439000</td>\n",
       "      <td>7.867106</td>\n",
       "      <td>8.518992</td>\n",
       "    </tr>\n",
       "    <tr>\n",
       "      <th>37</th>\n",
       "      <td>4</td>\n",
       "      <td>2.00</td>\n",
       "      <td>2360</td>\n",
       "      <td>6000</td>\n",
       "      <td>2.0</td>\n",
       "      <td>0</td>\n",
       "      <td>1904</td>\n",
       "      <td>0</td>\n",
       "      <td>0</td>\n",
       "      <td>0</td>\n",
       "      <td>0</td>\n",
       "      <td>0</td>\n",
       "      <td>1</td>\n",
       "      <td>640000</td>\n",
       "      <td>7.766417</td>\n",
       "      <td>8.699515</td>\n",
       "    </tr>\n",
       "    <tr>\n",
       "      <th>15457</th>\n",
       "      <td>2</td>\n",
       "      <td>1.00</td>\n",
       "      <td>980</td>\n",
       "      <td>2130</td>\n",
       "      <td>1.0</td>\n",
       "      <td>0</td>\n",
       "      <td>1918</td>\n",
       "      <td>0</td>\n",
       "      <td>1</td>\n",
       "      <td>0</td>\n",
       "      <td>0</td>\n",
       "      <td>1</td>\n",
       "      <td>0</td>\n",
       "      <td>400000</td>\n",
       "      <td>6.887553</td>\n",
       "      <td>7.663877</td>\n",
       "    </tr>\n",
       "    <tr>\n",
       "      <th>3905</th>\n",
       "      <td>4</td>\n",
       "      <td>2.25</td>\n",
       "      <td>2270</td>\n",
       "      <td>9100</td>\n",
       "      <td>2.0</td>\n",
       "      <td>0</td>\n",
       "      <td>1978</td>\n",
       "      <td>0</td>\n",
       "      <td>0</td>\n",
       "      <td>0</td>\n",
       "      <td>0</td>\n",
       "      <td>0</td>\n",
       "      <td>0</td>\n",
       "      <td>420000</td>\n",
       "      <td>7.727535</td>\n",
       "      <td>9.116030</td>\n",
       "    </tr>\n",
       "    <tr>\n",
       "      <th>...</th>\n",
       "      <td>...</td>\n",
       "      <td>...</td>\n",
       "      <td>...</td>\n",
       "      <td>...</td>\n",
       "      <td>...</td>\n",
       "      <td>...</td>\n",
       "      <td>...</td>\n",
       "      <td>...</td>\n",
       "      <td>...</td>\n",
       "      <td>...</td>\n",
       "      <td>...</td>\n",
       "      <td>...</td>\n",
       "      <td>...</td>\n",
       "      <td>...</td>\n",
       "      <td>...</td>\n",
       "      <td>...</td>\n",
       "    </tr>\n",
       "    <tr>\n",
       "      <th>7672</th>\n",
       "      <td>3</td>\n",
       "      <td>1.75</td>\n",
       "      <td>2010</td>\n",
       "      <td>8072</td>\n",
       "      <td>1.0</td>\n",
       "      <td>0</td>\n",
       "      <td>1974</td>\n",
       "      <td>0</td>\n",
       "      <td>0</td>\n",
       "      <td>0</td>\n",
       "      <td>0</td>\n",
       "      <td>1</td>\n",
       "      <td>0</td>\n",
       "      <td>639500</td>\n",
       "      <td>7.605890</td>\n",
       "      <td>8.996157</td>\n",
       "    </tr>\n",
       "    <tr>\n",
       "      <th>17970</th>\n",
       "      <td>1</td>\n",
       "      <td>0.75</td>\n",
       "      <td>930</td>\n",
       "      <td>6600</td>\n",
       "      <td>1.0</td>\n",
       "      <td>0</td>\n",
       "      <td>1924</td>\n",
       "      <td>0</td>\n",
       "      <td>0</td>\n",
       "      <td>0</td>\n",
       "      <td>0</td>\n",
       "      <td>0</td>\n",
       "      <td>0</td>\n",
       "      <td>351000</td>\n",
       "      <td>6.835185</td>\n",
       "      <td>8.794825</td>\n",
       "    </tr>\n",
       "    <tr>\n",
       "      <th>1950</th>\n",
       "      <td>3</td>\n",
       "      <td>2.00</td>\n",
       "      <td>1370</td>\n",
       "      <td>9760</td>\n",
       "      <td>1.0</td>\n",
       "      <td>0</td>\n",
       "      <td>1979</td>\n",
       "      <td>0</td>\n",
       "      <td>1</td>\n",
       "      <td>0</td>\n",
       "      <td>0</td>\n",
       "      <td>0</td>\n",
       "      <td>0</td>\n",
       "      <td>232500</td>\n",
       "      <td>7.222566</td>\n",
       "      <td>9.186048</td>\n",
       "    </tr>\n",
       "    <tr>\n",
       "      <th>17077</th>\n",
       "      <td>2</td>\n",
       "      <td>1.00</td>\n",
       "      <td>860</td>\n",
       "      <td>7250</td>\n",
       "      <td>1.0</td>\n",
       "      <td>0</td>\n",
       "      <td>1949</td>\n",
       "      <td>0</td>\n",
       "      <td>0</td>\n",
       "      <td>0</td>\n",
       "      <td>0</td>\n",
       "      <td>0</td>\n",
       "      <td>0</td>\n",
       "      <td>305000</td>\n",
       "      <td>6.756932</td>\n",
       "      <td>8.888757</td>\n",
       "    </tr>\n",
       "    <tr>\n",
       "      <th>5289</th>\n",
       "      <td>3</td>\n",
       "      <td>1.75</td>\n",
       "      <td>1270</td>\n",
       "      <td>4800</td>\n",
       "      <td>1.0</td>\n",
       "      <td>0</td>\n",
       "      <td>1953</td>\n",
       "      <td>0</td>\n",
       "      <td>0</td>\n",
       "      <td>0</td>\n",
       "      <td>0</td>\n",
       "      <td>1</td>\n",
       "      <td>0</td>\n",
       "      <td>335000</td>\n",
       "      <td>7.146772</td>\n",
       "      <td>8.476371</td>\n",
       "    </tr>\n",
       "  </tbody>\n",
       "</table>\n",
       "<p>11831 rows × 16 columns</p>\n",
       "</div>"
      ],
      "text/plain": [
       "       bedrooms  bathrooms  sqft_living  sqft_lot  floors  waterfront  \\\n",
       "13460         2       1.00         1000      3700     1.0           0   \n",
       "7880          5       2.00         2610      5009     1.0           0   \n",
       "37            4       2.00         2360      6000     2.0           0   \n",
       "15457         2       1.00          980      2130     1.0           0   \n",
       "3905          4       2.25         2270      9100     2.0           0   \n",
       "...         ...        ...          ...       ...     ...         ...   \n",
       "7672          3       1.75         2010      8072     1.0           0   \n",
       "17970         1       0.75          930      6600     1.0           0   \n",
       "1950          3       2.00         1370      9760     1.0           0   \n",
       "17077         2       1.00          860      7250     1.0           0   \n",
       "5289          3       1.75         1270      4800     1.0           0   \n",
       "\n",
       "       yr_built  has_renovated  has_basement  grade_11  \\\n",
       "13460      1929              0             1         0   \n",
       "7880       1988              0             1         0   \n",
       "37         1904              0             0         0   \n",
       "15457      1918              0             1         0   \n",
       "3905       1978              0             0         0   \n",
       "...         ...            ...           ...       ...   \n",
       "7672       1974              0             0         0   \n",
       "17970      1924              0             0         0   \n",
       "1950       1979              0             1         0   \n",
       "17077      1949              0             0         0   \n",
       "5289       1953              0             0         0   \n",
       "\n",
       "       zipcode_type_cheap_low_volume  zipcode_type_expensive_high_volume  \\\n",
       "13460                              0                                   0   \n",
       "7880                               0                                   1   \n",
       "37                                 0                                   0   \n",
       "15457                              0                                   1   \n",
       "3905                               0                                   0   \n",
       "...                              ...                                 ...   \n",
       "7672                               0                                   1   \n",
       "17970                              0                                   0   \n",
       "1950                               0                                   0   \n",
       "17077                              0                                   0   \n",
       "5289                               0                                   1   \n",
       "\n",
       "       zipcode_type_expensive_low_volume   price  sqft_living_log  \\\n",
       "13460                                  0  257000         6.907755   \n",
       "7880                                   0  439000         7.867106   \n",
       "37                                     1  640000         7.766417   \n",
       "15457                                  0  400000         6.887553   \n",
       "3905                                   0  420000         7.727535   \n",
       "...                                  ...     ...              ...   \n",
       "7672                                   0  639500         7.605890   \n",
       "17970                                  0  351000         6.835185   \n",
       "1950                                   0  232500         7.222566   \n",
       "17077                                  0  305000         6.756932   \n",
       "5289                                   0  335000         7.146772   \n",
       "\n",
       "       sqft_lot_log  \n",
       "13460      8.216088  \n",
       "7880       8.518992  \n",
       "37         8.699515  \n",
       "15457      7.663877  \n",
       "3905       9.116030  \n",
       "...             ...  \n",
       "7672       8.996157  \n",
       "17970      8.794825  \n",
       "1950       9.186048  \n",
       "17077      8.888757  \n",
       "5289       8.476371  \n",
       "\n",
       "[11831 rows x 16 columns]"
      ]
     },
     "execution_count": 114,
     "metadata": {},
     "output_type": "execute_result"
    }
   ],
   "source": [
    "dftrain"
   ]
  },
  {
   "cell_type": "code",
   "execution_count": 115,
   "metadata": {},
   "outputs": [
    {
     "data": {
      "image/png": "[encoded data removed]",
      "text/plain": [
       "<Figure size 432x288 with 1 Axes>"
      ]
     },
     "metadata": {},
     "output_type": "display_data"
    }
   ],
   "source": [
    "sns.histplot(data = dftrain, x = 'sqft_living_log');"
   ]
  },
  {
   "cell_type": "code",
   "execution_count": 116,
   "metadata": {
    "scrolled": true
   },
   "outputs": [
    {
     "data": {
      "image/png": "[encoded data removed]",
      "text/plain": [
       "<Figure size 432x288 with 1 Axes>"
      ]
     },
     "metadata": {},
     "output_type": "display_data"
    }
   ],
   "source": [
    "sns.histplot(data = dftrain, x = 'sqft_lot_log');"
   ]
  },
  {
   "cell_type": "code",
   "execution_count": 117,
   "metadata": {},
   "outputs": [],
   "source": [
    "x_cols.remove('sqft_living')\n",
    "# x_cols.remove('sqft_lot')\n",
    "\n",
    "x_cols.append('sqft_living_log')\n",
    "# x_cols.append('sqft_lot_log')"
   ]
  },
  {
   "cell_type": "markdown",
   "metadata": {},
   "source": [
    "### Train-Test Split"
   ]
  },
  {
   "cell_type": "code",
   "execution_count": 118,
   "metadata": {},
   "outputs": [],
   "source": [
    "y = dftrain[['price']]\n",
    "X = dftrain[x_cols]\n",
    "\n",
    "X_train, X_test, y_train, y_test = train_test_split(X, y, test_size = 0.2, random_state = (123))"
   ]
  },
  {
   "cell_type": "code",
   "execution_count": 119,
   "metadata": {},
   "outputs": [],
   "source": [
    "linreg.fit(X_train, y_train)\n",
    "\n",
    "y_hat_train = linreg.predict(X_train)\n",
    "y_hat_test = linreg.predict(X_test)"
   ]
  },
  {
   "cell_type": "code",
   "execution_count": 120,
   "metadata": {
    "scrolled": true
   },
   "outputs": [],
   "source": [
    "rmse_train = np.sqrt(mean_squared_error(y_train, y_hat_train))\n",
    "rmse_test = np.sqrt(mean_squared_error(y_test, y_hat_test))"
   ]
  },
  {
   "cell_type": "code",
   "execution_count": 121,
   "metadata": {},
   "outputs": [
    {
     "name": "stdout",
     "output_type": "stream",
     "text": [
      "RMSE Train: 86653.58\n",
      "RMSE Test: 87269.38\n"
     ]
    }
   ],
   "source": [
    "print(\"RMSE Train:\", round(rmse_train, 2))\n",
    "print(\"RMSE Test:\", round(rmse_test, 2))"
   ]
  },
  {
   "cell_type": "markdown",
   "metadata": {},
   "source": [
    "### model"
   ]
  },
  {
   "cell_type": "code",
   "execution_count": 122,
   "metadata": {
    "scrolled": false
   },
   "outputs": [
    {
     "data": {
      "text/html": [
       "<table class=\"simpletable\">\n",
       "<caption>OLS Regression Results</caption>\n",
       "<tr>\n",
       "  <th>Dep. Variable:</th>          <td>price</td>      <th>  R-squared:         </th>  <td>   0.596</td>  \n",
       "</tr>\n",
       "<tr>\n",
       "  <th>Model:</th>                   <td>OLS</td>       <th>  Adj. R-squared:    </th>  <td>   0.596</td>  \n",
       "</tr>\n",
       "<tr>\n",
       "  <th>Method:</th>             <td>Least Squares</td>  <th>  F-statistic:       </th>  <td>   1587.</td>  \n",
       "</tr>\n",
       "<tr>\n",
       "  <th>Date:</th>             <td>Sat, 21 Nov 2020</td> <th>  Prob (F-statistic):</th>   <td>  0.00</td>   \n",
       "</tr>\n",
       "<tr>\n",
       "  <th>Time:</th>                 <td>11:40:49</td>     <th>  Log-Likelihood:    </th> <td>-1.5132e+05</td>\n",
       "</tr>\n",
       "<tr>\n",
       "  <th>No. Observations:</th>      <td> 11831</td>      <th>  AIC:               </th>  <td>3.027e+05</td> \n",
       "</tr>\n",
       "<tr>\n",
       "  <th>Df Residuals:</th>          <td> 11819</td>      <th>  BIC:               </th>  <td>3.027e+05</td> \n",
       "</tr>\n",
       "<tr>\n",
       "  <th>Df Model:</th>              <td>    11</td>      <th>                     </th>      <td> </td>     \n",
       "</tr>\n",
       "<tr>\n",
       "  <th>Covariance Type:</th>      <td>nonrobust</td>    <th>                     </th>      <td> </td>     \n",
       "</tr>\n",
       "</table>\n",
       "<table class=\"simpletable\">\n",
       "<tr>\n",
       "                   <td></td>                     <th>coef</th>     <th>std err</th>      <th>t</th>      <th>P>|t|</th>  <th>[0.025</th>    <th>0.975]</th>  \n",
       "</tr>\n",
       "<tr>\n",
       "  <th>Intercept</th>                          <td>  7.12e+05</td> <td> 7.73e+04</td> <td>    9.214</td> <td> 0.000</td> <td>  5.6e+05</td> <td> 8.63e+05</td>\n",
       "</tr>\n",
       "<tr>\n",
       "  <th>bedrooms</th>                           <td>-1.216e+04</td> <td> 1289.424</td> <td>   -9.429</td> <td> 0.000</td> <td>-1.47e+04</td> <td>-9630.614</td>\n",
       "</tr>\n",
       "<tr>\n",
       "  <th>bathrooms</th>                          <td> 1.755e+04</td> <td> 2116.097</td> <td>    8.294</td> <td> 0.000</td> <td> 1.34e+04</td> <td> 2.17e+04</td>\n",
       "</tr>\n",
       "<tr>\n",
       "  <th>sqft_lot</th>                           <td>   -1.0375</td> <td>    0.303</td> <td>   -3.420</td> <td> 0.001</td> <td>   -1.632</td> <td>   -0.443</td>\n",
       "</tr>\n",
       "<tr>\n",
       "  <th>floors</th>                             <td> 1.672e+04</td> <td> 2303.616</td> <td>    7.256</td> <td> 0.000</td> <td> 1.22e+04</td> <td> 2.12e+04</td>\n",
       "</tr>\n",
       "<tr>\n",
       "  <th>waterfront</th>                         <td> 2.424e+05</td> <td> 3.29e+04</td> <td>    7.368</td> <td> 0.000</td> <td> 1.78e+05</td> <td> 3.07e+05</td>\n",
       "</tr>\n",
       "<tr>\n",
       "  <th>yr_built</th>                           <td> -878.8506</td> <td>   38.437</td> <td>  -22.865</td> <td> 0.000</td> <td> -954.194</td> <td> -803.508</td>\n",
       "</tr>\n",
       "<tr>\n",
       "  <th>has_basement</th>                       <td> 6659.5054</td> <td> 1982.883</td> <td>    3.358</td> <td> 0.001</td> <td> 2772.729</td> <td> 1.05e+04</td>\n",
       "</tr>\n",
       "<tr>\n",
       "  <th>zipcode_type_cheap_low_volume</th>      <td>-3.523e+04</td> <td> 1998.692</td> <td>  -17.624</td> <td> 0.000</td> <td>-3.91e+04</td> <td>-3.13e+04</td>\n",
       "</tr>\n",
       "<tr>\n",
       "  <th>zipcode_type_expensive_high_volume</th> <td> 1.459e+05</td> <td> 2981.595</td> <td>   48.939</td> <td> 0.000</td> <td>  1.4e+05</td> <td> 1.52e+05</td>\n",
       "</tr>\n",
       "<tr>\n",
       "  <th>zipcode_type_expensive_low_volume</th>  <td> 1.448e+05</td> <td> 2217.438</td> <td>   65.305</td> <td> 0.000</td> <td>  1.4e+05</td> <td> 1.49e+05</td>\n",
       "</tr>\n",
       "<tr>\n",
       "  <th>sqft_living_log</th>                    <td> 1.849e+05</td> <td> 3919.987</td> <td>   47.163</td> <td> 0.000</td> <td> 1.77e+05</td> <td> 1.93e+05</td>\n",
       "</tr>\n",
       "</table>\n",
       "<table class=\"simpletable\">\n",
       "<tr>\n",
       "  <th>Omnibus:</th>       <td>250.021</td> <th>  Durbin-Watson:     </th> <td>   1.997</td>\n",
       "</tr>\n",
       "<tr>\n",
       "  <th>Prob(Omnibus):</th> <td> 0.000</td>  <th>  Jarque-Bera (JB):  </th> <td> 267.185</td>\n",
       "</tr>\n",
       "<tr>\n",
       "  <th>Skew:</th>          <td> 0.353</td>  <th>  Prob(JB):          </th> <td>9.58e-59</td>\n",
       "</tr>\n",
       "<tr>\n",
       "  <th>Kurtosis:</th>      <td> 3.210</td>  <th>  Cond. No.          </th> <td>7.71e+05</td>\n",
       "</tr>\n",
       "</table><br/><br/>Warnings:<br/>[1] Standard Errors assume that the covariance matrix of the errors is correctly specified.<br/>[2] The condition number is large, 7.71e+05. This might indicate that there are<br/>strong multicollinearity or other numerical problems."
      ],
      "text/plain": [
       "<class 'statsmodels.iolib.summary.Summary'>\n",
       "\"\"\"\n",
       "                            OLS Regression Results                            \n",
       "==============================================================================\n",
       "Dep. Variable:                  price   R-squared:                       0.596\n",
       "Model:                            OLS   Adj. R-squared:                  0.596\n",
       "Method:                 Least Squares   F-statistic:                     1587.\n",
       "Date:                Sat, 21 Nov 2020   Prob (F-statistic):               0.00\n",
       "Time:                        11:40:49   Log-Likelihood:            -1.5132e+05\n",
       "No. Observations:               11831   AIC:                         3.027e+05\n",
       "Df Residuals:                   11819   BIC:                         3.027e+05\n",
       "Df Model:                          11                                         \n",
       "Covariance Type:            nonrobust                                         \n",
       "======================================================================================================\n",
       "                                         coef    std err          t      P>|t|      [0.025      0.975]\n",
       "------------------------------------------------------------------------------------------------------\n",
       "Intercept                            7.12e+05   7.73e+04      9.214      0.000     5.6e+05    8.63e+05\n",
       "bedrooms                           -1.216e+04   1289.424     -9.429      0.000   -1.47e+04   -9630.614\n",
       "bathrooms                           1.755e+04   2116.097      8.294      0.000    1.34e+04    2.17e+04\n",
       "sqft_lot                              -1.0375      0.303     -3.420      0.001      -1.632      -0.443\n",
       "floors                              1.672e+04   2303.616      7.256      0.000    1.22e+04    2.12e+04\n",
       "waterfront                          2.424e+05   3.29e+04      7.368      0.000    1.78e+05    3.07e+05\n",
       "yr_built                            -878.8506     38.437    -22.865      0.000    -954.194    -803.508\n",
       "has_basement                        6659.5054   1982.883      3.358      0.001    2772.729    1.05e+04\n",
       "zipcode_type_cheap_low_volume      -3.523e+04   1998.692    -17.624      0.000   -3.91e+04   -3.13e+04\n",
       "zipcode_type_expensive_high_volume  1.459e+05   2981.595     48.939      0.000     1.4e+05    1.52e+05\n",
       "zipcode_type_expensive_low_volume   1.448e+05   2217.438     65.305      0.000     1.4e+05    1.49e+05\n",
       "sqft_living_log                     1.849e+05   3919.987     47.163      0.000    1.77e+05    1.93e+05\n",
       "==============================================================================\n",
       "Omnibus:                      250.021   Durbin-Watson:                   1.997\n",
       "Prob(Omnibus):                  0.000   Jarque-Bera (JB):              267.185\n",
       "Skew:                           0.353   Prob(JB):                     9.58e-59\n",
       "Kurtosis:                       3.210   Cond. No.                     7.71e+05\n",
       "==============================================================================\n",
       "\n",
       "Warnings:\n",
       "[1] Standard Errors assume that the covariance matrix of the errors is correctly specified.\n",
       "[2] The condition number is large, 7.71e+05. This might indicate that there are\n",
       "strong multicollinearity or other numerical problems.\n",
       "\"\"\""
      ]
     },
     "execution_count": 122,
     "metadata": {},
     "output_type": "execute_result"
    }
   ],
   "source": [
    "predictors = '+'.join(x_cols)\n",
    "formula = outcome + '~' + predictors\n",
    "model = ols(formula=formula, data = dftrain).fit()\n",
    "model.summary()"
   ]
  },
  {
   "cell_type": "markdown",
   "metadata": {},
   "source": [
    "### QQ Plot"
   ]
  },
  {
   "cell_type": "code",
   "execution_count": 125,
   "metadata": {},
   "outputs": [
    {
     "data": {
      "image/png": "[encoded data removed]",
      "text/plain": [
       "<Figure size 432x288 with 1 Axes>"
      ]
     },
     "metadata": {},
     "output_type": "display_data"
    }
   ],
   "source": [
    "fig = sm.graphics.qqplot(model.resid, dist=stats.norm, line='45', fit=True)"
   ]
  },
  {
   "cell_type": "markdown",
   "metadata": {},
   "source": [
    "###  Homoscedasiticity"
   ]
  },
  {
   "cell_type": "code",
   "execution_count": 126,
   "metadata": {
    "scrolled": true
   },
   "outputs": [
    {
     "data": {
      "image/png": "[encoded data removed]",
      "text/plain": [
       "<Figure size 432x288 with 1 Axes>"
      ]
     },
     "metadata": {},
     "output_type": "display_data"
    }
   ],
   "source": [
    "plt.scatter(model.predict(dftrain[x_cols]), model.resid)\n",
    "plt.plot(model.predict(dftrain[x_cols]), [0 for i in range(len(dftrain))]);"
   ]
  },
  {
   "cell_type": "markdown",
   "metadata": {},
   "source": [
    "## TEST (will delete later)"
   ]
  },
  {
   "cell_type": "markdown",
   "metadata": {
    "heading_collapsed": true
   },
   "source": [
    "### creating interactions"
   ]
  },
  {
   "cell_type": "code",
   "execution_count": 129,
   "metadata": {
    "hidden": true
   },
   "outputs": [],
   "source": [
    "dftrain['bed_bath_interaction'] = dftrain['bedrooms'] * dftrain['bathrooms']"
   ]
  },
  {
   "cell_type": "code",
   "execution_count": 132,
   "metadata": {
    "hidden": true
   },
   "outputs": [],
   "source": [
    "df.drop('bedrooms', axis=1, inplace=True)\n",
    "df.drop('bathrooms', axis=1, inplace=True)"
   ]
  },
  {
   "cell_type": "code",
   "execution_count": 133,
   "metadata": {
    "hidden": true
   },
   "outputs": [],
   "source": [
    "x_cols.remove('bedrooms')\n",
    "x_cols.remove('bathrooms')\n",
    "\n",
    "x_cols.append('bed_bath_interaction')"
   ]
  },
  {
   "cell_type": "code",
   "execution_count": 134,
   "metadata": {
    "hidden": true
   },
   "outputs": [
    {
     "data": {
      "text/html": [
       "<table class=\"simpletable\">\n",
       "<caption>OLS Regression Results</caption>\n",
       "<tr>\n",
       "  <th>Dep. Variable:</th>          <td>price</td>      <th>  R-squared:         </th>  <td>   0.592</td>  \n",
       "</tr>\n",
       "<tr>\n",
       "  <th>Model:</th>                   <td>OLS</td>       <th>  Adj. R-squared:    </th>  <td>   0.591</td>  \n",
       "</tr>\n",
       "<tr>\n",
       "  <th>Method:</th>             <td>Least Squares</td>  <th>  F-statistic:       </th>  <td>   1713.</td>  \n",
       "</tr>\n",
       "<tr>\n",
       "  <th>Date:</th>             <td>Sat, 21 Nov 2020</td> <th>  Prob (F-statistic):</th>   <td>  0.00</td>   \n",
       "</tr>\n",
       "<tr>\n",
       "  <th>Time:</th>                 <td>12:36:16</td>     <th>  Log-Likelihood:    </th> <td>-1.5138e+05</td>\n",
       "</tr>\n",
       "<tr>\n",
       "  <th>No. Observations:</th>      <td> 11831</td>      <th>  AIC:               </th>  <td>3.028e+05</td> \n",
       "</tr>\n",
       "<tr>\n",
       "  <th>Df Residuals:</th>          <td> 11820</td>      <th>  BIC:               </th>  <td>3.029e+05</td> \n",
       "</tr>\n",
       "<tr>\n",
       "  <th>Df Model:</th>              <td>    10</td>      <th>                     </th>      <td> </td>     \n",
       "</tr>\n",
       "<tr>\n",
       "  <th>Covariance Type:</th>      <td>nonrobust</td>    <th>                     </th>      <td> </td>     \n",
       "</tr>\n",
       "</table>\n",
       "<table class=\"simpletable\">\n",
       "<tr>\n",
       "                   <td></td>                     <th>coef</th>     <th>std err</th>      <th>t</th>      <th>P>|t|</th>  <th>[0.025</th>    <th>0.975]</th>  \n",
       "</tr>\n",
       "<tr>\n",
       "  <th>Intercept</th>                          <td>  4.88e+05</td> <td> 7.28e+04</td> <td>    6.705</td> <td> 0.000</td> <td> 3.45e+05</td> <td> 6.31e+05</td>\n",
       "</tr>\n",
       "<tr>\n",
       "  <th>sqft_lot</th>                           <td>   -1.3269</td> <td>    0.304</td> <td>   -4.364</td> <td> 0.000</td> <td>   -1.923</td> <td>   -0.731</td>\n",
       "</tr>\n",
       "<tr>\n",
       "  <th>floors</th>                             <td> 2.098e+04</td> <td> 2268.592</td> <td>    9.250</td> <td> 0.000</td> <td> 1.65e+04</td> <td> 2.54e+04</td>\n",
       "</tr>\n",
       "<tr>\n",
       "  <th>waterfront</th>                         <td> 2.428e+05</td> <td> 3.31e+04</td> <td>    7.339</td> <td> 0.000</td> <td> 1.78e+05</td> <td> 3.08e+05</td>\n",
       "</tr>\n",
       "<tr>\n",
       "  <th>yr_built</th>                           <td> -745.3228</td> <td>   36.142</td> <td>  -20.622</td> <td> 0.000</td> <td> -816.166</td> <td> -674.479</td>\n",
       "</tr>\n",
       "<tr>\n",
       "  <th>has_basement</th>                       <td> 9552.3539</td> <td> 1969.508</td> <td>    4.850</td> <td> 0.000</td> <td> 5691.793</td> <td> 1.34e+04</td>\n",
       "</tr>\n",
       "<tr>\n",
       "  <th>zipcode_type_cheap_low_volume</th>      <td>-3.495e+04</td> <td> 2010.054</td> <td>  -17.386</td> <td> 0.000</td> <td>-3.89e+04</td> <td> -3.1e+04</td>\n",
       "</tr>\n",
       "<tr>\n",
       "  <th>zipcode_type_expensive_high_volume</th> <td>  1.48e+05</td> <td> 2994.417</td> <td>   49.437</td> <td> 0.000</td> <td> 1.42e+05</td> <td> 1.54e+05</td>\n",
       "</tr>\n",
       "<tr>\n",
       "  <th>zipcode_type_expensive_low_volume</th>  <td> 1.475e+05</td> <td> 2220.842</td> <td>   66.418</td> <td> 0.000</td> <td> 1.43e+05</td> <td> 1.52e+05</td>\n",
       "</tr>\n",
       "<tr>\n",
       "  <th>sqft_living_log</th>                    <td> 1.774e+05</td> <td> 3819.060</td> <td>   46.453</td> <td> 0.000</td> <td>  1.7e+05</td> <td> 1.85e+05</td>\n",
       "</tr>\n",
       "<tr>\n",
       "  <th>bed_bath_interaction</th>               <td>  777.9034</td> <td>  407.793</td> <td>    1.908</td> <td> 0.056</td> <td>  -21.438</td> <td> 1577.245</td>\n",
       "</tr>\n",
       "</table>\n",
       "<table class=\"simpletable\">\n",
       "<tr>\n",
       "  <th>Omnibus:</th>       <td>272.365</td> <th>  Durbin-Watson:     </th> <td>   1.995</td>\n",
       "</tr>\n",
       "<tr>\n",
       "  <th>Prob(Omnibus):</th> <td> 0.000</td>  <th>  Jarque-Bera (JB):  </th> <td> 292.204</td>\n",
       "</tr>\n",
       "<tr>\n",
       "  <th>Skew:</th>          <td> 0.371</td>  <th>  Prob(JB):          </th> <td>3.54e-64</td>\n",
       "</tr>\n",
       "<tr>\n",
       "  <th>Kurtosis:</th>      <td> 3.206</td>  <th>  Cond. No.          </th> <td>7.22e+05</td>\n",
       "</tr>\n",
       "</table><br/><br/>Warnings:<br/>[1] Standard Errors assume that the covariance matrix of the errors is correctly specified.<br/>[2] The condition number is large, 7.22e+05. This might indicate that there are<br/>strong multicollinearity or other numerical problems."
      ],
      "text/plain": [
       "<class 'statsmodels.iolib.summary.Summary'>\n",
       "\"\"\"\n",
       "                            OLS Regression Results                            \n",
       "==============================================================================\n",
       "Dep. Variable:                  price   R-squared:                       0.592\n",
       "Model:                            OLS   Adj. R-squared:                  0.591\n",
       "Method:                 Least Squares   F-statistic:                     1713.\n",
       "Date:                Sat, 21 Nov 2020   Prob (F-statistic):               0.00\n",
       "Time:                        12:36:16   Log-Likelihood:            -1.5138e+05\n",
       "No. Observations:               11831   AIC:                         3.028e+05\n",
       "Df Residuals:                   11820   BIC:                         3.029e+05\n",
       "Df Model:                          10                                         \n",
       "Covariance Type:            nonrobust                                         \n",
       "======================================================================================================\n",
       "                                         coef    std err          t      P>|t|      [0.025      0.975]\n",
       "------------------------------------------------------------------------------------------------------\n",
       "Intercept                            4.88e+05   7.28e+04      6.705      0.000    3.45e+05    6.31e+05\n",
       "sqft_lot                              -1.3269      0.304     -4.364      0.000      -1.923      -0.731\n",
       "floors                              2.098e+04   2268.592      9.250      0.000    1.65e+04    2.54e+04\n",
       "waterfront                          2.428e+05   3.31e+04      7.339      0.000    1.78e+05    3.08e+05\n",
       "yr_built                            -745.3228     36.142    -20.622      0.000    -816.166    -674.479\n",
       "has_basement                        9552.3539   1969.508      4.850      0.000    5691.793    1.34e+04\n",
       "zipcode_type_cheap_low_volume      -3.495e+04   2010.054    -17.386      0.000   -3.89e+04    -3.1e+04\n",
       "zipcode_type_expensive_high_volume   1.48e+05   2994.417     49.437      0.000    1.42e+05    1.54e+05\n",
       "zipcode_type_expensive_low_volume   1.475e+05   2220.842     66.418      0.000    1.43e+05    1.52e+05\n",
       "sqft_living_log                     1.774e+05   3819.060     46.453      0.000     1.7e+05    1.85e+05\n",
       "bed_bath_interaction                 777.9034    407.793      1.908      0.056     -21.438    1577.245\n",
       "==============================================================================\n",
       "Omnibus:                      272.365   Durbin-Watson:                   1.995\n",
       "Prob(Omnibus):                  0.000   Jarque-Bera (JB):              292.204\n",
       "Skew:                           0.371   Prob(JB):                     3.54e-64\n",
       "Kurtosis:                       3.206   Cond. No.                     7.22e+05\n",
       "==============================================================================\n",
       "\n",
       "Warnings:\n",
       "[1] Standard Errors assume that the covariance matrix of the errors is correctly specified.\n",
       "[2] The condition number is large, 7.22e+05. This might indicate that there are\n",
       "strong multicollinearity or other numerical problems.\n",
       "\"\"\""
      ]
     },
     "execution_count": 134,
     "metadata": {},
     "output_type": "execute_result"
    }
   ],
   "source": [
    "predictors = '+'.join(x_cols)\n",
    "formula = outcome + '~' + predictors\n",
    "model = ols(formula=formula, data = dftrain).fit()\n",
    "model.summary()"
   ]
  },
  {
   "cell_type": "code",
   "execution_count": 135,
   "metadata": {
    "hidden": true
   },
   "outputs": [
    {
     "data": {
      "image/png": "[encoded data removed]",
      "text/plain": [
       "<Figure size 432x288 with 1 Axes>"
      ]
     },
     "metadata": {},
     "output_type": "display_data"
    }
   ],
   "source": [
    "fig = sm.graphics.qqplot(model.resid, dist=stats.norm, line='45', fit=True)"
   ]
  },
  {
   "cell_type": "markdown",
   "metadata": {
    "heading_collapsed": true
   },
   "source": [
    "### logging more"
   ]
  },
  {
   "cell_type": "code",
   "execution_count": null,
   "metadata": {
    "hidden": true,
    "scrolled": false
   },
   "outputs": [],
   "source": [
    "fig, ax = plt.subplots(nrows=1, ncols=2, figsize=(16,5))\n",
    "\n",
    "sns.histplot(data=dftrain, x='yr_built', ax = ax[0])\n",
    "sns.boxplot(data=dftrain, x='yr_built', ax=ax[1]);"
   ]
  },
  {
   "cell_type": "code",
   "execution_count": null,
   "metadata": {
    "hidden": true
   },
   "outputs": [],
   "source": [
    "cont = ['yr_built']"
   ]
  },
  {
   "cell_type": "code",
   "execution_count": null,
   "metadata": {
    "hidden": true
   },
   "outputs": [],
   "source": [
    "dftrain['yr_built_log'] = np.log(dftrain['yr_built'])"
   ]
  },
  {
   "cell_type": "code",
   "execution_count": null,
   "metadata": {
    "hidden": true,
    "scrolled": true
   },
   "outputs": [],
   "source": [
    "fig, ax = plt.subplots(nrows=1, ncols=2, figsize=(16,5))\n",
    "\n",
    "sns.histplot(data=dftrain, x='yr_built_log', ax = ax[0])\n",
    "sns.boxplot(data=dftrain, x='yr_built_log', ax=ax[1]);"
   ]
  },
  {
   "cell_type": "code",
   "execution_count": null,
   "metadata": {
    "hidden": true
   },
   "outputs": [],
   "source": [
    "x_cols.remove('yr_built')\n",
    "x_cols.append('yr_built_log')"
   ]
  },
  {
   "cell_type": "code",
   "execution_count": null,
   "metadata": {
    "hidden": true,
    "scrolled": true
   },
   "outputs": [],
   "source": [
    "predictors = '+'.join(x_cols)\n",
    "formula = outcome + '~' + predictors\n",
    "model = ols(formula=formula, data = dftrain).fit()\n",
    "model.summary()"
   ]
  },
  {
   "cell_type": "code",
   "execution_count": null,
   "metadata": {
    "hidden": true
   },
   "outputs": [],
   "source": [
    "fig = sm.graphics.qqplot(model.resid, dist=stats.norm, line='45', fit=True)"
   ]
  },
  {
   "cell_type": "markdown",
   "metadata": {},
   "source": [
    "### ohe ideas"
   ]
  },
  {
   "cell_type": "code",
   "execution_count": null,
   "metadata": {
    "scrolled": true
   },
   "outputs": [],
   "source": [
    "dftrain"
   ]
  },
  {
   "cell_type": "code",
   "execution_count": null,
   "metadata": {},
   "outputs": [],
   "source": [
    "cate = ['bedrooms', 'bathrooms', 'floors']\n",
    "\n",
    "features = df[cate].astype('category')\n",
    "feats_ohe = pd.get_dummies(features, drop_first = True)\n",
    "feats_ohe = feats_ohe.astype(int)\n",
    "\n",
    "feats_ohe.columns = [c.replace('.', '_') for c in feats_ohe.columns]"
   ]
  },
  {
   "cell_type": "code",
   "execution_count": null,
   "metadata": {},
   "outputs": [],
   "source": [
    "feats_ohe.info()"
   ]
  },
  {
   "cell_type": "code",
   "execution_count": null,
   "metadata": {},
   "outputs": [],
   "source": [
    "df_test = pd.concat([dftrain, feats_ohe], axis=1)"
   ]
  },
  {
   "cell_type": "code",
   "execution_count": null,
   "metadata": {},
   "outputs": [],
   "source": [
    "df_test = df_test.dropna() "
   ]
  },
  {
   "cell_type": "code",
   "execution_count": null,
   "metadata": {},
   "outputs": [],
   "source": [
    "df_test.drop('bedrooms', axis=1, inplace=True)\n",
    "df_test.drop('bathrooms', axis=1, inplace=True)\n",
    "df_test.drop('floors', axis=1, inplace=True)"
   ]
  },
  {
   "cell_type": "code",
   "execution_count": null,
   "metadata": {},
   "outputs": [],
   "source": [
    "x_cols.extend(list(feats_ohe.columns))"
   ]
  },
  {
   "cell_type": "code",
   "execution_count": null,
   "metadata": {},
   "outputs": [],
   "source": [
    "x_cols.remove('bedrooms')\n",
    "x_cols.remove('bathrooms')\n",
    "x_cols.remove('floors')"
   ]
  },
  {
   "cell_type": "code",
   "execution_count": null,
   "metadata": {},
   "outputs": [],
   "source": [
    "predictors = '+'.join(x_cols)\n",
    "formula = outcome + '~' + predictors\n",
    "model = ols(formula=formula, data = df_test).fit()\n",
    "model.summary()"
   ]
  },
  {
   "cell_type": "code",
   "execution_count": null,
   "metadata": {},
   "outputs": [],
   "source": [
    "fig = sm.graphics.qqplot(model.resid, dist=stats.norm, line='45', fit=True)"
   ]
  },
  {
   "cell_type": "markdown",
   "metadata": {},
   "source": [
    "> might keep floors as ohe and normalize bedrooms and bathrooms"
   ]
  },
  {
   "cell_type": "code",
   "execution_count": null,
   "metadata": {},
   "outputs": [],
   "source": []
  },
  {
   "cell_type": "code",
   "execution_count": null,
   "metadata": {},
   "outputs": [],
   "source": []
  },
  {
   "cell_type": "code",
   "execution_count": null,
   "metadata": {},
   "outputs": [],
   "source": []
  },
  {
   "cell_type": "code",
   "execution_count": null,
   "metadata": {},
   "outputs": [],
   "source": []
  },
  {
   "cell_type": "code",
   "execution_count": null,
   "metadata": {},
   "outputs": [],
   "source": []
  }
 ],
 "metadata": {
  "kernelspec": {
   "display_name": "Python 3",
   "language": "python",
   "name": "python3"
  },
  "language_info": {
   "codemirror_mode": {
    "name": "ipython",
    "version": 3
   },
   "file_extension": ".py",
   "mimetype": "text/x-python",
   "name": "python",
   "nbconvert_exporter": "python",
   "pygments_lexer": "ipython3",
   "version": "3.6.9"
  },
  "toc": {
   "base_numbering": 1,
   "nav_menu": {},
   "number_sections": true,
   "sideBar": true,
   "skip_h1_title": false,
   "title_cell": "Table of Contents",
   "title_sidebar": "Contents",
   "toc_cell": false,
   "toc_position": {
    "height": "calc(100% - 180px)",
    "left": "10px",
    "top": "150px",
    "width": "312px"
   },
   "toc_section_display": true,
   "toc_window_display": true
  }
 },
 "nbformat": 4,
 "nbformat_minor": 4
}
