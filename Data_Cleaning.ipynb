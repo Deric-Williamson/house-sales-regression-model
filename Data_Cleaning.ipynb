{
 "cells": [
  {
   "cell_type": "markdown",
   "metadata": {},
   "source": [
    "## Introduction"
   ]
  },
  {
   "cell_type": "markdown",
   "metadata": {},
   "source": [
    "Paragraph"
   ]
  },
  {
   "cell_type": "markdown",
   "metadata": {},
   "source": [
    "## Importing and Cleaning Data"
   ]
  },
  {
   "cell_type": "code",
   "execution_count": 1,
   "metadata": {},
   "outputs": [],
   "source": [
    "import pandas as pd\n",
    "import numpy as np\n",
    "\n",
    "import seaborn as sns\n",
    "import matplotlib.pyplot as plt\n",
    "%matplotlib inline\n",
    "\n",
    "sns.set_theme(style='darkgrid')"
   ]
  },
  {
   "cell_type": "code",
   "execution_count": 2,
   "metadata": {},
   "outputs": [],
   "source": [
    "#importing csv to dataframe\n",
    "df = pd.read_csv('data\\kc_house_data.csv')"
   ]
  },
  {
   "cell_type": "code",
   "execution_count": 3,
   "metadata": {},
   "outputs": [],
   "source": [
    "#filling the nan's with 0, all is categorical columns with the mode being 0.0\n",
    "df['waterfront'] = df['waterfront'].fillna(0.0)\n",
    "df['view'] = df['view'].fillna(0.0)\n",
    "df['yr_renovated'] = df['yr_renovated'].fillna(0.0)\n",
    "\n",
    "df.loc[df['sqft_basement'] == '?'] = 0\n",
    "df['sqft_basement'] = df['sqft_basement'].astype(float).astype(int)"
   ]
  },
  {
   "cell_type": "code",
   "execution_count": 4,
   "metadata": {
    "code_folding": []
   },
   "outputs": [],
   "source": [
    "#changing columns from float to int\n",
    "col_floats = ['price', 'waterfront', 'view', 'yr_renovated']\n",
    "for col in col_floats:\n",
    "    df[col] = df[col].astype(int)"
   ]
  },
  {
   "cell_type": "code",
   "execution_count": 5,
   "metadata": {},
   "outputs": [],
   "source": [
    "#expanding the date column to a column for each month and year\n",
    "df['date'] = pd.to_datetime(df['date'])\n",
    "df['month_sold'] = df['date'].dt.month\n",
    "df['year_sold'] = df['date'].dt.year"
   ]
  },
  {
   "cell_type": "code",
   "execution_count": 6,
   "metadata": {},
   "outputs": [],
   "source": [
    "#creating seasonal columns\n",
    "df['sold_spring_time'] = df['month_sold'] < 4\n",
    "df['sold_summer_time'] = (df['month_sold'] > 3) & (df['month_sold'] < 7)\n",
    "df['sold_fall_time'] = (df['month_sold'] > 6) & (df['month_sold'] < 10)\n",
    "df['sold_winter_time'] = (df['month_sold'] > 9) & (df['month_sold'] < 13)\n",
    "\n",
    "df['sold_spring_time'] = df['sold_spring_time'].astype(bool).astype(int)\n",
    "df['sold_summer_time'] = df['sold_summer_time'].astype(bool).astype(int)\n",
    "df['sold_fall_time'] = df['sold_fall_time'].astype(bool).astype(int)\n",
    "df['sold_winter_time'] = df['sold_winter_time'].astype(bool).astype(int)"
   ]
  },
  {
   "cell_type": "code",
   "execution_count": 7,
   "metadata": {},
   "outputs": [],
   "source": [
    "#converting 'yr_renovated' and 'sqft_basement' into a boolean\n",
    "df['has_renovated'] = df['yr_renovated'].astype(bool).astype(int)\n",
    "df['has_basement'] = df['sqft_basement'].astype(bool).astype(int)"
   ]
  },
  {
   "cell_type": "code",
   "execution_count": 8,
   "metadata": {},
   "outputs": [],
   "source": [
    "#deleting columns not neccesary in dataframe\n",
    "df.drop('date', axis=1, inplace=True)\n",
    "df.drop('id', axis=1, inplace=True)"
   ]
  },
  {
   "cell_type": "code",
   "execution_count": 9,
   "metadata": {
    "scrolled": false
   },
   "outputs": [],
   "source": [
    "# exports a clean version of raw data.\n",
    "#df.to_csv('data\\Cleaned_kc_house_data.csv')"
   ]
  },
  {
   "cell_type": "code",
   "execution_count": 10,
   "metadata": {
    "scrolled": false
   },
   "outputs": [
    {
     "data": {
      "text/html": [
       "<div>\n",
       "<style scoped>\n",
       "    .dataframe tbody tr th:only-of-type {\n",
       "        vertical-align: middle;\n",
       "    }\n",
       "\n",
       "    .dataframe tbody tr th {\n",
       "        vertical-align: top;\n",
       "    }\n",
       "\n",
       "    .dataframe thead th {\n",
       "        text-align: right;\n",
       "    }\n",
       "</style>\n",
       "<table border=\"1\" class=\"dataframe\">\n",
       "  <thead>\n",
       "    <tr style=\"text-align: right;\">\n",
       "      <th></th>\n",
       "      <th>price</th>\n",
       "      <th>bedrooms</th>\n",
       "      <th>bathrooms</th>\n",
       "      <th>sqft_living</th>\n",
       "      <th>sqft_lot</th>\n",
       "      <th>floors</th>\n",
       "      <th>waterfront</th>\n",
       "      <th>view</th>\n",
       "      <th>condition</th>\n",
       "      <th>grade</th>\n",
       "      <th>...</th>\n",
       "      <th>sqft_living15</th>\n",
       "      <th>sqft_lot15</th>\n",
       "      <th>month_sold</th>\n",
       "      <th>year_sold</th>\n",
       "      <th>sold_spring_time</th>\n",
       "      <th>sold_summer_time</th>\n",
       "      <th>sold_fall_time</th>\n",
       "      <th>sold_winter_time</th>\n",
       "      <th>has_renovated</th>\n",
       "      <th>has_basement</th>\n",
       "    </tr>\n",
       "  </thead>\n",
       "  <tbody>\n",
       "    <tr>\n",
       "      <th>0</th>\n",
       "      <td>221900</td>\n",
       "      <td>3</td>\n",
       "      <td>1.00</td>\n",
       "      <td>1180</td>\n",
       "      <td>5650</td>\n",
       "      <td>1.0</td>\n",
       "      <td>0</td>\n",
       "      <td>0</td>\n",
       "      <td>3</td>\n",
       "      <td>7</td>\n",
       "      <td>...</td>\n",
       "      <td>1340</td>\n",
       "      <td>5650</td>\n",
       "      <td>10</td>\n",
       "      <td>2014</td>\n",
       "      <td>0</td>\n",
       "      <td>0</td>\n",
       "      <td>0</td>\n",
       "      <td>1</td>\n",
       "      <td>0</td>\n",
       "      <td>0</td>\n",
       "    </tr>\n",
       "    <tr>\n",
       "      <th>1</th>\n",
       "      <td>538000</td>\n",
       "      <td>3</td>\n",
       "      <td>2.25</td>\n",
       "      <td>2570</td>\n",
       "      <td>7242</td>\n",
       "      <td>2.0</td>\n",
       "      <td>0</td>\n",
       "      <td>0</td>\n",
       "      <td>3</td>\n",
       "      <td>7</td>\n",
       "      <td>...</td>\n",
       "      <td>1690</td>\n",
       "      <td>7639</td>\n",
       "      <td>12</td>\n",
       "      <td>2014</td>\n",
       "      <td>0</td>\n",
       "      <td>0</td>\n",
       "      <td>0</td>\n",
       "      <td>1</td>\n",
       "      <td>1</td>\n",
       "      <td>1</td>\n",
       "    </tr>\n",
       "    <tr>\n",
       "      <th>2</th>\n",
       "      <td>180000</td>\n",
       "      <td>2</td>\n",
       "      <td>1.00</td>\n",
       "      <td>770</td>\n",
       "      <td>10000</td>\n",
       "      <td>1.0</td>\n",
       "      <td>0</td>\n",
       "      <td>0</td>\n",
       "      <td>3</td>\n",
       "      <td>6</td>\n",
       "      <td>...</td>\n",
       "      <td>2720</td>\n",
       "      <td>8062</td>\n",
       "      <td>2</td>\n",
       "      <td>2015</td>\n",
       "      <td>1</td>\n",
       "      <td>0</td>\n",
       "      <td>0</td>\n",
       "      <td>0</td>\n",
       "      <td>0</td>\n",
       "      <td>0</td>\n",
       "    </tr>\n",
       "    <tr>\n",
       "      <th>3</th>\n",
       "      <td>604000</td>\n",
       "      <td>4</td>\n",
       "      <td>3.00</td>\n",
       "      <td>1960</td>\n",
       "      <td>5000</td>\n",
       "      <td>1.0</td>\n",
       "      <td>0</td>\n",
       "      <td>0</td>\n",
       "      <td>5</td>\n",
       "      <td>7</td>\n",
       "      <td>...</td>\n",
       "      <td>1360</td>\n",
       "      <td>5000</td>\n",
       "      <td>12</td>\n",
       "      <td>2014</td>\n",
       "      <td>0</td>\n",
       "      <td>0</td>\n",
       "      <td>0</td>\n",
       "      <td>1</td>\n",
       "      <td>0</td>\n",
       "      <td>1</td>\n",
       "    </tr>\n",
       "    <tr>\n",
       "      <th>4</th>\n",
       "      <td>510000</td>\n",
       "      <td>3</td>\n",
       "      <td>2.00</td>\n",
       "      <td>1680</td>\n",
       "      <td>8080</td>\n",
       "      <td>1.0</td>\n",
       "      <td>0</td>\n",
       "      <td>0</td>\n",
       "      <td>3</td>\n",
       "      <td>8</td>\n",
       "      <td>...</td>\n",
       "      <td>1800</td>\n",
       "      <td>7503</td>\n",
       "      <td>2</td>\n",
       "      <td>2015</td>\n",
       "      <td>1</td>\n",
       "      <td>0</td>\n",
       "      <td>0</td>\n",
       "      <td>0</td>\n",
       "      <td>0</td>\n",
       "      <td>0</td>\n",
       "    </tr>\n",
       "  </tbody>\n",
       "</table>\n",
       "<p>5 rows × 27 columns</p>\n",
       "</div>"
      ],
      "text/plain": [
       "    price  bedrooms  bathrooms  sqft_living  sqft_lot  floors  waterfront  \\\n",
       "0  221900         3       1.00         1180      5650     1.0           0   \n",
       "1  538000         3       2.25         2570      7242     2.0           0   \n",
       "2  180000         2       1.00          770     10000     1.0           0   \n",
       "3  604000         4       3.00         1960      5000     1.0           0   \n",
       "4  510000         3       2.00         1680      8080     1.0           0   \n",
       "\n",
       "   view  condition  grade  ...  sqft_living15  sqft_lot15  month_sold  \\\n",
       "0     0          3      7  ...           1340        5650          10   \n",
       "1     0          3      7  ...           1690        7639          12   \n",
       "2     0          3      6  ...           2720        8062           2   \n",
       "3     0          5      7  ...           1360        5000          12   \n",
       "4     0          3      8  ...           1800        7503           2   \n",
       "\n",
       "   year_sold  sold_spring_time  sold_summer_time  sold_fall_time  \\\n",
       "0       2014                 0                 0               0   \n",
       "1       2014                 0                 0               0   \n",
       "2       2015                 1                 0               0   \n",
       "3       2014                 0                 0               0   \n",
       "4       2015                 1                 0               0   \n",
       "\n",
       "   sold_winter_time  has_renovated  has_basement  \n",
       "0                 1              0             0  \n",
       "1                 1              1             1  \n",
       "2                 0              0             0  \n",
       "3                 1              0             1  \n",
       "4                 0              0             0  \n",
       "\n",
       "[5 rows x 27 columns]"
      ]
     },
     "execution_count": 10,
     "metadata": {},
     "output_type": "execute_result"
    }
   ],
   "source": [
    "df.head()"
   ]
  },
  {
   "cell_type": "code",
   "execution_count": 11,
   "metadata": {
    "scrolled": true
   },
   "outputs": [
    {
     "name": "stdout",
     "output_type": "stream",
     "text": [
      "<class 'pandas.core.frame.DataFrame'>\n",
      "RangeIndex: 21597 entries, 0 to 21596\n",
      "Data columns (total 27 columns):\n",
      "price               21597 non-null int32\n",
      "bedrooms            21597 non-null int64\n",
      "bathrooms           21597 non-null float64\n",
      "sqft_living         21597 non-null int64\n",
      "sqft_lot            21597 non-null int64\n",
      "floors              21597 non-null float64\n",
      "waterfront          21597 non-null int32\n",
      "view                21597 non-null int32\n",
      "condition           21597 non-null int64\n",
      "grade               21597 non-null int64\n",
      "sqft_above          21597 non-null int64\n",
      "sqft_basement       21597 non-null int32\n",
      "yr_built            21597 non-null int64\n",
      "yr_renovated        21597 non-null int32\n",
      "zipcode             21597 non-null int64\n",
      "lat                 21597 non-null float64\n",
      "long                21597 non-null float64\n",
      "sqft_living15       21597 non-null int64\n",
      "sqft_lot15          21597 non-null int64\n",
      "month_sold          21597 non-null int64\n",
      "year_sold           21597 non-null int64\n",
      "sold_spring_time    21597 non-null int32\n",
      "sold_summer_time    21597 non-null int32\n",
      "sold_fall_time      21597 non-null int32\n",
      "sold_winter_time    21597 non-null int32\n",
      "has_renovated       21597 non-null int32\n",
      "has_basement        21597 non-null int32\n",
      "dtypes: float64(4), int32(11), int64(12)\n",
      "memory usage: 3.5 MB\n"
     ]
    }
   ],
   "source": [
    "df.info()"
   ]
  },
  {
   "cell_type": "markdown",
   "metadata": {},
   "source": [
    "## EDA and Scrubbing"
   ]
  },
  {
   "cell_type": "markdown",
   "metadata": {},
   "source": [
    "### price"
   ]
  },
  {
   "cell_type": "code",
   "execution_count": 12,
   "metadata": {
    "scrolled": true
   },
   "outputs": [
    {
     "data": {
      "image/png": "[encoded data removed]",
      "text/plain": [
       "<Figure size 1152x360 with 2 Axes>"
      ]
     },
     "metadata": {},
     "output_type": "display_data"
    }
   ],
   "source": [
    "fig, ax = plt.subplots(nrows=1, ncols=2, figsize=(16,5))\n",
    "\n",
    "#looking for potential outliars\n",
    "sns.histplot(data=df, x='price', ax = ax[0])\n",
    "sns.boxplot(data=df, x='price', ax=ax[1]);"
   ]
  },
  {
   "cell_type": "code",
   "execution_count": 13,
   "metadata": {},
   "outputs": [],
   "source": [
    "#Making the 'price' benchmark between $100000 to $900000\n",
    "#df.drop(df[df['price'] > 700000].index, inplace = True)\n",
    "df.drop(df[df['price'] > 710000].index, inplace = True)\n",
    "df.drop(df[df['price'] < 150000].index, inplace = True)"
   ]
  },
  {
   "cell_type": "code",
   "execution_count": 14,
   "metadata": {
    "scrolled": true
   },
   "outputs": [
    {
     "data": {
      "image/png": "[encoded data removed]",
      "text/plain": [
       "<Figure size 1152x360 with 2 Axes>"
      ]
     },
     "metadata": {},
     "output_type": "display_data"
    }
   ],
   "source": [
    "fig, ax = plt.subplots(nrows=1, ncols=2, figsize=(16,5))\n",
    "\n",
    "sns.histplot(data=df, x='price', ax = ax[0])\n",
    "sns.boxplot(data=df, x='price', ax=ax[1]);"
   ]
  },
  {
   "cell_type": "markdown",
   "metadata": {},
   "source": [
    ">The histogram and boxplot looks to be more normally distributed after removing outliers"
   ]
  },
  {
   "cell_type": "code",
   "execution_count": 15,
   "metadata": {},
   "outputs": [
    {
     "data": {
      "text/plain": [
       "(16858, 27)"
      ]
     },
     "execution_count": 15,
     "metadata": {},
     "output_type": "execute_result"
    }
   ],
   "source": [
    "#checking the rows left\n",
    "df.shape"
   ]
  },
  {
   "cell_type": "markdown",
   "metadata": {},
   "source": [
    "### bedrooms"
   ]
  },
  {
   "cell_type": "code",
   "execution_count": 16,
   "metadata": {},
   "outputs": [
    {
     "data": {
      "text/plain": [
       "3     8435\n",
       "4     4686\n",
       "2     2477\n",
       "5      908\n",
       "1      170\n",
       "6      151\n",
       "7       17\n",
       "8        7\n",
       "9        3\n",
       "10       2\n",
       "11       1\n",
       "33       1\n",
       "Name: bedrooms, dtype: int64"
      ]
     },
     "execution_count": 16,
     "metadata": {},
     "output_type": "execute_result"
    }
   ],
   "source": [
    "df['bedrooms'].value_counts()"
   ]
  },
  {
   "cell_type": "code",
   "execution_count": 17,
   "metadata": {},
   "outputs": [],
   "source": [
    "df.drop(df[df['bedrooms'] > 6].index, inplace = True)"
   ]
  },
  {
   "cell_type": "code",
   "execution_count": 18,
   "metadata": {},
   "outputs": [
    {
     "data": {
      "text/plain": [
       "3    8435\n",
       "4    4686\n",
       "2    2477\n",
       "5     908\n",
       "1     170\n",
       "6     151\n",
       "Name: bedrooms, dtype: int64"
      ]
     },
     "execution_count": 18,
     "metadata": {},
     "output_type": "execute_result"
    }
   ],
   "source": [
    "df['bedrooms'].value_counts()"
   ]
  },
  {
   "cell_type": "code",
   "execution_count": 19,
   "metadata": {
    "scrolled": true
   },
   "outputs": [
    {
     "data": {
      "image/png": "[encoded data removed]",
      "text/plain": [
       "<Figure size 432x288 with 1 Axes>"
      ]
     },
     "metadata": {},
     "output_type": "display_data"
    }
   ],
   "source": [
    "sns.histplot(data = df, x='bedrooms');"
   ]
  },
  {
   "cell_type": "code",
   "execution_count": 20,
   "metadata": {},
   "outputs": [
    {
     "data": {
      "text/plain": [
       "(16827, 27)"
      ]
     },
     "execution_count": 20,
     "metadata": {},
     "output_type": "execute_result"
    }
   ],
   "source": [
    "df.shape"
   ]
  },
  {
   "cell_type": "markdown",
   "metadata": {
    "heading_collapsed": true
   },
   "source": [
    "### bathrooms"
   ]
  },
  {
   "cell_type": "code",
   "execution_count": 21,
   "metadata": {
    "hidden": true
   },
   "outputs": [
    {
     "data": {
      "text/plain": [
       "2.50    4134\n",
       "1.00    3512\n",
       "1.75    2713\n",
       "2.00    1696\n",
       "2.25    1660\n",
       "1.50    1300\n",
       "2.75     738\n",
       "3.00     453\n",
       "3.50     257\n",
       "3.25     218\n",
       "0.75      62\n",
       "3.75      25\n",
       "4.00      20\n",
       "4.50      17\n",
       "1.25       7\n",
       "4.25       6\n",
       "5.00       3\n",
       "4.75       2\n",
       "0.50       2\n",
       "5.25       2\n",
       "Name: bathrooms, dtype: int64"
      ]
     },
     "execution_count": 21,
     "metadata": {},
     "output_type": "execute_result"
    }
   ],
   "source": [
    "df['bathrooms'].value_counts()"
   ]
  },
  {
   "cell_type": "code",
   "execution_count": 22,
   "metadata": {
    "hidden": true,
    "scrolled": true
   },
   "outputs": [
    {
     "data": {
      "image/png": "[encoded data removed]",
      "text/plain": [
       "<Figure size 432x288 with 1 Axes>"
      ]
     },
     "metadata": {},
     "output_type": "display_data"
    }
   ],
   "source": [
    "sns.histplot(data=df, x = 'bathrooms');"
   ]
  },
  {
   "cell_type": "code",
   "execution_count": 23,
   "metadata": {
    "hidden": true
   },
   "outputs": [],
   "source": [
    "df.drop(df[df['bathrooms'] > 4].index, inplace = True)\n",
    "df.drop(df[df['bathrooms'] < 0.75].index, inplace = True)"
   ]
  },
  {
   "cell_type": "code",
   "execution_count": 24,
   "metadata": {
    "hidden": true
   },
   "outputs": [
    {
     "data": {
      "image/png": "[encoded data removed]",
      "text/plain": [
       "<Figure size 432x288 with 1 Axes>"
      ]
     },
     "metadata": {},
     "output_type": "display_data"
    }
   ],
   "source": [
    "sns.histplot(data=df, x = 'bathrooms');"
   ]
  },
  {
   "cell_type": "code",
   "execution_count": 25,
   "metadata": {
    "hidden": true
   },
   "outputs": [
    {
     "data": {
      "text/plain": [
       "(16795, 27)"
      ]
     },
     "execution_count": 25,
     "metadata": {},
     "output_type": "execute_result"
    }
   ],
   "source": [
    "df.shape"
   ]
  },
  {
   "cell_type": "markdown",
   "metadata": {},
   "source": [
    "### sqft_living"
   ]
  },
  {
   "cell_type": "code",
   "execution_count": 26,
   "metadata": {},
   "outputs": [
    {
     "data": {
      "image/png": "[encoded data removed]",
      "text/plain": [
       "<Figure size 1152x360 with 2 Axes>"
      ]
     },
     "metadata": {},
     "output_type": "display_data"
    }
   ],
   "source": [
    "fig, ax = plt.subplots(nrows=1, ncols=2, figsize=(16,5))\n",
    "\n",
    "sns.histplot(data=df, x='sqft_living', ax = ax[0])\n",
    "sns.boxplot(data=df, x='sqft_living', ax=ax[1]);"
   ]
  },
  {
   "cell_type": "code",
   "execution_count": 27,
   "metadata": {},
   "outputs": [],
   "source": [
    "df.drop(df[df['sqft_living'] > 4500].index, inplace = True)"
   ]
  },
  {
   "cell_type": "code",
   "execution_count": 28,
   "metadata": {},
   "outputs": [
    {
     "data": {
      "image/png": "[encoded data removed]",
      "text/plain": [
       "<Figure size 1152x360 with 2 Axes>"
      ]
     },
     "metadata": {},
     "output_type": "display_data"
    }
   ],
   "source": [
    "fig, ax = plt.subplots(nrows=1, ncols=2, figsize=(16,5))\n",
    "\n",
    "sns.histplot(data=df, x='sqft_living', ax = ax[0])\n",
    "sns.boxplot(data=df, x='sqft_living', ax=ax[1]);"
   ]
  },
  {
   "cell_type": "code",
   "execution_count": 29,
   "metadata": {},
   "outputs": [
    {
     "data": {
      "text/plain": [
       "(16785, 27)"
      ]
     },
     "execution_count": 29,
     "metadata": {},
     "output_type": "execute_result"
    }
   ],
   "source": [
    "df.shape"
   ]
  },
  {
   "cell_type": "markdown",
   "metadata": {},
   "source": [
    "### sqft_lot"
   ]
  },
  {
   "cell_type": "code",
   "execution_count": 30,
   "metadata": {},
   "outputs": [
    {
     "data": {
      "image/png": "[encoded data removed]",
      "text/plain": [
       "<Figure size 1152x360 with 2 Axes>"
      ]
     },
     "metadata": {},
     "output_type": "display_data"
    }
   ],
   "source": [
    "fig, ax = plt.subplots(nrows=1, ncols=2, figsize=(16,5))\n",
    "\n",
    "sns.histplot(data=df, x='sqft_lot', ax = ax[0])\n",
    "sns.boxplot(data=df, x='sqft_lot', ax=ax[1]);"
   ]
  },
  {
   "cell_type": "code",
   "execution_count": 31,
   "metadata": {},
   "outputs": [],
   "source": [
    "#df.drop(df[df['sqft_lot'] > 17500].index, inplace = True)\n",
    "df.drop(df[df['sqft_lot'] > 14000].index, inplace = True)"
   ]
  },
  {
   "cell_type": "code",
   "execution_count": 32,
   "metadata": {},
   "outputs": [],
   "source": [
    "#df.drop(df[df['sqft_lot'] < 500].index, inplace = True)"
   ]
  },
  {
   "cell_type": "code",
   "execution_count": 33,
   "metadata": {
    "scrolled": true
   },
   "outputs": [
    {
     "data": {
      "image/png": "[encoded data removed]",
      "text/plain": [
       "<Figure size 1152x360 with 2 Axes>"
      ]
     },
     "metadata": {},
     "output_type": "display_data"
    }
   ],
   "source": [
    "fig, ax = plt.subplots(nrows=1, ncols=2, figsize=(16,5))\n",
    "\n",
    "sns.histplot(data=df, x='sqft_lot', ax = ax[0])\n",
    "sns.boxplot(data=df, x='sqft_lot', ax=ax[1]);"
   ]
  },
  {
   "cell_type": "code",
   "execution_count": 34,
   "metadata": {},
   "outputs": [
    {
     "data": {
      "text/plain": [
       "count    14520.000000\n",
       "mean      6731.364945\n",
       "std       2948.908855\n",
       "min        520.000000\n",
       "25%       4686.500000\n",
       "50%       6983.000000\n",
       "75%       8720.000000\n",
       "max      14000.000000\n",
       "Name: sqft_lot, dtype: float64"
      ]
     },
     "execution_count": 34,
     "metadata": {},
     "output_type": "execute_result"
    }
   ],
   "source": [
    "df['sqft_lot'].describe()"
   ]
  },
  {
   "cell_type": "code",
   "execution_count": 35,
   "metadata": {},
   "outputs": [
    {
     "data": {
      "text/plain": [
       "(14520, 27)"
      ]
     },
     "execution_count": 35,
     "metadata": {},
     "output_type": "execute_result"
    }
   ],
   "source": [
    "df.shape"
   ]
  },
  {
   "cell_type": "markdown",
   "metadata": {
    "heading_collapsed": true
   },
   "source": [
    "### sqft_basement"
   ]
  },
  {
   "cell_type": "code",
   "execution_count": 36,
   "metadata": {
    "hidden": true,
    "scrolled": false
   },
   "outputs": [
    {
     "data": {
      "image/png": "[encoded data removed]",
      "text/plain": [
       "<Figure size 432x288 with 1 Axes>"
      ]
     },
     "metadata": {},
     "output_type": "display_data"
    }
   ],
   "source": [
    "sns.histplot(data=df, x='sqft_basement');"
   ]
  },
  {
   "cell_type": "code",
   "execution_count": 37,
   "metadata": {
    "hidden": true
   },
   "outputs": [],
   "source": [
    "df.drop(df[df['sqft_basement'] > 1300].index, inplace=True)"
   ]
  },
  {
   "cell_type": "code",
   "execution_count": 38,
   "metadata": {
    "hidden": true,
    "scrolled": false
   },
   "outputs": [
    {
     "data": {
      "image/png": "[encoded data removed]",
      "text/plain": [
       "<Figure size 432x288 with 1 Axes>"
      ]
     },
     "metadata": {},
     "output_type": "display_data"
    }
   ],
   "source": [
    "sns.histplot(data = df, x='sqft_basement');"
   ]
  },
  {
   "cell_type": "markdown",
   "metadata": {
    "heading_collapsed": true,
    "hidden": true
   },
   "source": [
    "#### is_basement"
   ]
  },
  {
   "cell_type": "code",
   "execution_count": 39,
   "metadata": {
    "hidden": true,
    "scrolled": true
   },
   "outputs": [
    {
     "data": {
      "text/plain": [
       "count    14385.000000\n",
       "mean         0.362808\n",
       "std          0.480827\n",
       "min          0.000000\n",
       "25%          0.000000\n",
       "50%          0.000000\n",
       "75%          1.000000\n",
       "max          1.000000\n",
       "Name: has_basement, dtype: float64"
      ]
     },
     "execution_count": 39,
     "metadata": {},
     "output_type": "execute_result"
    }
   ],
   "source": [
    "df['has_basement'].describe()"
   ]
  },
  {
   "cell_type": "code",
   "execution_count": 40,
   "metadata": {
    "hidden": true
   },
   "outputs": [
    {
     "data": {
      "image/png": "[encoded data removed]",
      "text/plain": [
       "<Figure size 432x288 with 1 Axes>"
      ]
     },
     "metadata": {},
     "output_type": "display_data"
    }
   ],
   "source": [
    "sns.histplot(data = df, x='has_basement');"
   ]
  },
  {
   "cell_type": "code",
   "execution_count": 41,
   "metadata": {
    "hidden": true
   },
   "outputs": [
    {
     "data": {
      "text/plain": [
       "(14385, 27)"
      ]
     },
     "execution_count": 41,
     "metadata": {},
     "output_type": "execute_result"
    }
   ],
   "source": [
    "df.shape"
   ]
  },
  {
   "cell_type": "markdown",
   "metadata": {
    "heading_collapsed": true
   },
   "source": [
    "### floors"
   ]
  },
  {
   "cell_type": "code",
   "execution_count": 42,
   "metadata": {
    "hidden": true
   },
   "outputs": [
    {
     "data": {
      "text/plain": [
       "1.0    7794\n",
       "2.0    4823\n",
       "1.5    1223\n",
       "3.0     481\n",
       "2.5      58\n",
       "3.5       6\n",
       "Name: floors, dtype: int64"
      ]
     },
     "execution_count": 42,
     "metadata": {},
     "output_type": "execute_result"
    }
   ],
   "source": [
    "df['floors'].value_counts()"
   ]
  },
  {
   "cell_type": "code",
   "execution_count": 43,
   "metadata": {
    "hidden": true
   },
   "outputs": [],
   "source": [
    "df.drop(df[df['floors'] > 3].index, inplace=True)"
   ]
  },
  {
   "cell_type": "code",
   "execution_count": 44,
   "metadata": {
    "hidden": true,
    "scrolled": true
   },
   "outputs": [
    {
     "data": {
      "text/plain": [
       "1.0    7794\n",
       "2.0    4823\n",
       "1.5    1223\n",
       "3.0     481\n",
       "2.5      58\n",
       "Name: floors, dtype: int64"
      ]
     },
     "execution_count": 44,
     "metadata": {},
     "output_type": "execute_result"
    }
   ],
   "source": [
    "df['floors'].value_counts()"
   ]
  },
  {
   "cell_type": "markdown",
   "metadata": {
    "heading_collapsed": true
   },
   "source": [
    "### grade and condition"
   ]
  },
  {
   "cell_type": "code",
   "execution_count": 45,
   "metadata": {
    "hidden": true
   },
   "outputs": [
    {
     "data": {
      "text/plain": [
       "7     7442\n",
       "8     4094\n",
       "6     1689\n",
       "9      889\n",
       "5      145\n",
       "10     107\n",
       "4       10\n",
       "11       2\n",
       "3        1\n",
       "Name: grade, dtype: int64"
      ]
     },
     "execution_count": 45,
     "metadata": {},
     "output_type": "execute_result"
    }
   ],
   "source": [
    "df['grade'].value_counts()"
   ]
  },
  {
   "cell_type": "code",
   "execution_count": 46,
   "metadata": {
    "hidden": true,
    "scrolled": false
   },
   "outputs": [
    {
     "data": {
      "text/plain": [
       "3    9477\n",
       "4    3719\n",
       "5    1063\n",
       "2     107\n",
       "1      13\n",
       "Name: condition, dtype: int64"
      ]
     },
     "execution_count": 46,
     "metadata": {},
     "output_type": "execute_result"
    }
   ],
   "source": [
    "df['condition'].value_counts()"
   ]
  },
  {
   "cell_type": "markdown",
   "metadata": {
    "heading_collapsed": true
   },
   "source": [
    "### sqft_lot15"
   ]
  },
  {
   "cell_type": "code",
   "execution_count": 47,
   "metadata": {
    "hidden": true
   },
   "outputs": [
    {
     "data": {
      "image/png": "[encoded data removed]",
      "text/plain": [
       "<Figure size 1152x360 with 2 Axes>"
      ]
     },
     "metadata": {},
     "output_type": "display_data"
    }
   ],
   "source": [
    "fig, ax = plt.subplots(nrows=1, ncols=2, figsize=(16,5))\n",
    "\n",
    "sns.histplot(data=df, x='sqft_lot15', ax = ax[0])\n",
    "sns.boxplot(data=df, x='sqft_lot15', ax=ax[1]);"
   ]
  },
  {
   "cell_type": "code",
   "execution_count": 48,
   "metadata": {
    "hidden": true
   },
   "outputs": [],
   "source": [
    "df.drop(df[df['sqft_lot15'] > 25000].index, inplace=True)"
   ]
  },
  {
   "cell_type": "code",
   "execution_count": 49,
   "metadata": {
    "hidden": true,
    "scrolled": true
   },
   "outputs": [
    {
     "data": {
      "image/png": "[encoded data removed]",
      "text/plain": [
       "<Figure size 1152x360 with 2 Axes>"
      ]
     },
     "metadata": {},
     "output_type": "display_data"
    }
   ],
   "source": [
    "fig, ax = plt.subplots(nrows=1, ncols=2, figsize=(16,5))\n",
    "\n",
    "sns.histplot(data=df, x='sqft_lot15', ax = ax[0])\n",
    "sns.boxplot(data=df, x='sqft_lot15', ax=ax[1]);"
   ]
  },
  {
   "cell_type": "code",
   "execution_count": 50,
   "metadata": {
    "hidden": true
   },
   "outputs": [
    {
     "data": {
      "text/plain": [
       "(14361, 27)"
      ]
     },
     "execution_count": 50,
     "metadata": {},
     "output_type": "execute_result"
    }
   ],
   "source": [
    "df.shape"
   ]
  },
  {
   "cell_type": "markdown",
   "metadata": {
    "heading_collapsed": true
   },
   "source": [
    "### sqft_living15"
   ]
  },
  {
   "cell_type": "code",
   "execution_count": 51,
   "metadata": {
    "hidden": true,
    "scrolled": false
   },
   "outputs": [
    {
     "data": {
      "image/png": "[encoded data removed]",
      "text/plain": [
       "<Figure size 1152x360 with 2 Axes>"
      ]
     },
     "metadata": {},
     "output_type": "display_data"
    }
   ],
   "source": [
    "fig, ax = plt.subplots(nrows=1, ncols=2, figsize=(16,5))\n",
    "\n",
    "sns.histplot(data=df, x='sqft_living15', ax = ax[0])\n",
    "sns.boxplot(data=df, x='sqft_living15', ax=ax[1]);"
   ]
  },
  {
   "cell_type": "markdown",
   "metadata": {},
   "source": [
    "### date"
   ]
  },
  {
   "cell_type": "code",
   "execution_count": 52,
   "metadata": {},
   "outputs": [
    {
     "data": {
      "text/plain": [
       "2014    9682\n",
       "2015    4679\n",
       "Name: year_sold, dtype: int64"
      ]
     },
     "execution_count": 52,
     "metadata": {},
     "output_type": "execute_result"
    }
   ],
   "source": [
    "df['year_sold'].value_counts()"
   ]
  },
  {
   "cell_type": "markdown",
   "metadata": {},
   "source": [
    "> deleting year_sold for not having much of a recording"
   ]
  },
  {
   "cell_type": "code",
   "execution_count": 53,
   "metadata": {},
   "outputs": [],
   "source": [
    "df.drop('year_sold', axis=1, inplace=True)"
   ]
  },
  {
   "cell_type": "markdown",
   "metadata": {},
   "source": [
    "### waterfront"
   ]
  },
  {
   "cell_type": "code",
   "execution_count": 54,
   "metadata": {
    "scrolled": true
   },
   "outputs": [
    {
     "data": {
      "text/plain": [
       "0    14354\n",
       "1        7\n",
       "Name: waterfront, dtype: int64"
      ]
     },
     "execution_count": 54,
     "metadata": {},
     "output_type": "execute_result"
    }
   ],
   "source": [
    "df['waterfront'].value_counts()"
   ]
  },
  {
   "cell_type": "code",
   "execution_count": 55,
   "metadata": {},
   "outputs": [],
   "source": [
    "df.drop('waterfront', axis=1, inplace=True)"
   ]
  },
  {
   "cell_type": "markdown",
   "metadata": {
    "heading_collapsed": true
   },
   "source": [
    "### zipcode"
   ]
  },
  {
   "cell_type": "code",
   "execution_count": 56,
   "metadata": {
    "hidden": true,
    "scrolled": true
   },
   "outputs": [
    {
     "name": "stderr",
     "output_type": "stream",
     "text": [
      "C:\\Users\\Deric\\anaconda3\\envs\\learn-env\\lib\\site-packages\\seaborn\\_decorators.py:43: FutureWarning: Pass the following variables as keyword args: x, y. From version 0.12, the only valid positional argument will be `data`, and passing other arguments without an explicit keyword will result in an error or misinterpretation.\n",
      "  FutureWarning\n"
     ]
    },
    {
     "data": {
      "image/png": "[encoded data removed]",
      "text/plain": [
       "<Figure size 432x288 with 1 Axes>"
      ]
     },
     "metadata": {},
     "output_type": "display_data"
    }
   ],
   "source": [
    "sns.scatterplot(df.long, df.lat, hue=df.price);"
   ]
  },
  {
   "cell_type": "code",
   "execution_count": 57,
   "metadata": {
    "hidden": true
   },
   "outputs": [
    {
     "data": {
      "text/plain": [
       "zipcode\n",
       "98001    255\n",
       "98002    177\n",
       "98003    238\n",
       "98004     26\n",
       "98005     48\n",
       "        ... \n",
       "98177    171\n",
       "98178    221\n",
       "98188    110\n",
       "98198    215\n",
       "98199    167\n",
       "Name: price, Length: 69, dtype: int64"
      ]
     },
     "execution_count": 57,
     "metadata": {},
     "output_type": "execute_result"
    }
   ],
   "source": [
    "frequency = df.groupby('zipcode')['price'].count()\n",
    "frequency"
   ]
  },
  {
   "cell_type": "code",
   "execution_count": 58,
   "metadata": {
    "hidden": true
   },
   "outputs": [
    {
     "data": {
      "text/plain": [
       "zipcode\n",
       "98001    271486.043137\n",
       "98002    237994.197740\n",
       "98003    279574.924370\n",
       "98004    630238.461538\n",
       "98005    591872.312500\n",
       "             ...      \n",
       "98177    483843.245614\n",
       "98178    289987.294118\n",
       "98188    280101.045455\n",
       "98198    275968.079070\n",
       "98199    538573.155689\n",
       "Name: price, Length: 69, dtype: float64"
      ]
     },
     "execution_count": 58,
     "metadata": {},
     "output_type": "execute_result"
    }
   ],
   "source": [
    "mean = df.groupby('zipcode').mean()['price']\n",
    "mean"
   ]
  },
  {
   "cell_type": "code",
   "execution_count": 59,
   "metadata": {
    "hidden": true
   },
   "outputs": [
    {
     "data": {
      "text/html": [
       "<div>\n",
       "<style scoped>\n",
       "    .dataframe tbody tr th:only-of-type {\n",
       "        vertical-align: middle;\n",
       "    }\n",
       "\n",
       "    .dataframe tbody tr th {\n",
       "        vertical-align: top;\n",
       "    }\n",
       "\n",
       "    .dataframe thead th {\n",
       "        text-align: right;\n",
       "    }\n",
       "</style>\n",
       "<table border=\"1\" class=\"dataframe\">\n",
       "  <thead>\n",
       "    <tr style=\"text-align: right;\">\n",
       "      <th></th>\n",
       "      <th>price</th>\n",
       "      <th>price</th>\n",
       "    </tr>\n",
       "    <tr>\n",
       "      <th>zipcode</th>\n",
       "      <th></th>\n",
       "      <th></th>\n",
       "    </tr>\n",
       "  </thead>\n",
       "  <tbody>\n",
       "    <tr>\n",
       "      <th>98001</th>\n",
       "      <td>255</td>\n",
       "      <td>271486.043137</td>\n",
       "    </tr>\n",
       "    <tr>\n",
       "      <th>98002</th>\n",
       "      <td>177</td>\n",
       "      <td>237994.197740</td>\n",
       "    </tr>\n",
       "    <tr>\n",
       "      <th>98003</th>\n",
       "      <td>238</td>\n",
       "      <td>279574.924370</td>\n",
       "    </tr>\n",
       "    <tr>\n",
       "      <th>98004</th>\n",
       "      <td>26</td>\n",
       "      <td>630238.461538</td>\n",
       "    </tr>\n",
       "    <tr>\n",
       "      <th>98005</th>\n",
       "      <td>48</td>\n",
       "      <td>591872.312500</td>\n",
       "    </tr>\n",
       "    <tr>\n",
       "      <th>...</th>\n",
       "      <td>...</td>\n",
       "      <td>...</td>\n",
       "    </tr>\n",
       "    <tr>\n",
       "      <th>98177</th>\n",
       "      <td>171</td>\n",
       "      <td>483843.245614</td>\n",
       "    </tr>\n",
       "    <tr>\n",
       "      <th>98178</th>\n",
       "      <td>221</td>\n",
       "      <td>289987.294118</td>\n",
       "    </tr>\n",
       "    <tr>\n",
       "      <th>98188</th>\n",
       "      <td>110</td>\n",
       "      <td>280101.045455</td>\n",
       "    </tr>\n",
       "    <tr>\n",
       "      <th>98198</th>\n",
       "      <td>215</td>\n",
       "      <td>275968.079070</td>\n",
       "    </tr>\n",
       "    <tr>\n",
       "      <th>98199</th>\n",
       "      <td>167</td>\n",
       "      <td>538573.155689</td>\n",
       "    </tr>\n",
       "  </tbody>\n",
       "</table>\n",
       "<p>69 rows × 2 columns</p>\n",
       "</div>"
      ],
      "text/plain": [
       "         price          price\n",
       "zipcode                      \n",
       "98001      255  271486.043137\n",
       "98002      177  237994.197740\n",
       "98003      238  279574.924370\n",
       "98004       26  630238.461538\n",
       "98005       48  591872.312500\n",
       "...        ...            ...\n",
       "98177      171  483843.245614\n",
       "98178      221  289987.294118\n",
       "98188      110  280101.045455\n",
       "98198      215  275968.079070\n",
       "98199      167  538573.155689\n",
       "\n",
       "[69 rows x 2 columns]"
      ]
     },
     "execution_count": 59,
     "metadata": {},
     "output_type": "execute_result"
    }
   ],
   "source": [
    "cluster = pd.concat([frequency, mean], axis=1)\n",
    "cluster"
   ]
  },
  {
   "cell_type": "code",
   "execution_count": 60,
   "metadata": {
    "hidden": true
   },
   "outputs": [],
   "source": [
    "cluster['zipcode'] = cluster.index"
   ]
  },
  {
   "cell_type": "code",
   "execution_count": 61,
   "metadata": {
    "hidden": true
   },
   "outputs": [
    {
     "data": {
      "text/html": [
       "<div>\n",
       "<style scoped>\n",
       "    .dataframe tbody tr th:only-of-type {\n",
       "        vertical-align: middle;\n",
       "    }\n",
       "\n",
       "    .dataframe tbody tr th {\n",
       "        vertical-align: top;\n",
       "    }\n",
       "\n",
       "    .dataframe thead th {\n",
       "        text-align: right;\n",
       "    }\n",
       "</style>\n",
       "<table border=\"1\" class=\"dataframe\">\n",
       "  <thead>\n",
       "    <tr style=\"text-align: right;\">\n",
       "      <th></th>\n",
       "      <th>frequency</th>\n",
       "      <th>price</th>\n",
       "      <th>zipcode</th>\n",
       "    </tr>\n",
       "  </thead>\n",
       "  <tbody>\n",
       "    <tr>\n",
       "      <th>count</th>\n",
       "      <td>69.000000</td>\n",
       "      <td>69.000000</td>\n",
       "      <td>69.000000</td>\n",
       "    </tr>\n",
       "    <tr>\n",
       "      <th>mean</th>\n",
       "      <td>208.130435</td>\n",
       "      <td>419129.158868</td>\n",
       "      <td>98077.855072</td>\n",
       "    </tr>\n",
       "    <tr>\n",
       "      <th>std</th>\n",
       "      <td>126.780138</td>\n",
       "      <td>113929.160608</td>\n",
       "      <td>56.845062</td>\n",
       "    </tr>\n",
       "    <tr>\n",
       "      <th>min</th>\n",
       "      <td>16.000000</td>\n",
       "      <td>237994.197740</td>\n",
       "      <td>98001.000000</td>\n",
       "    </tr>\n",
       "    <tr>\n",
       "      <th>25%</th>\n",
       "      <td>114.000000</td>\n",
       "      <td>305616.090909</td>\n",
       "      <td>98029.000000</td>\n",
       "    </tr>\n",
       "    <tr>\n",
       "      <th>50%</th>\n",
       "      <td>210.000000</td>\n",
       "      <td>423468.496815</td>\n",
       "      <td>98070.000000</td>\n",
       "    </tr>\n",
       "    <tr>\n",
       "      <th>75%</th>\n",
       "      <td>263.000000</td>\n",
       "      <td>512619.479070</td>\n",
       "      <td>98118.000000</td>\n",
       "    </tr>\n",
       "    <tr>\n",
       "      <th>max</th>\n",
       "      <td>465.000000</td>\n",
       "      <td>630858.444444</td>\n",
       "      <td>98199.000000</td>\n",
       "    </tr>\n",
       "  </tbody>\n",
       "</table>\n",
       "</div>"
      ],
      "text/plain": [
       "        frequency          price       zipcode\n",
       "count   69.000000      69.000000     69.000000\n",
       "mean   208.130435  419129.158868  98077.855072\n",
       "std    126.780138  113929.160608     56.845062\n",
       "min     16.000000  237994.197740  98001.000000\n",
       "25%    114.000000  305616.090909  98029.000000\n",
       "50%    210.000000  423468.496815  98070.000000\n",
       "75%    263.000000  512619.479070  98118.000000\n",
       "max    465.000000  630858.444444  98199.000000"
      ]
     },
     "execution_count": 61,
     "metadata": {},
     "output_type": "execute_result"
    }
   ],
   "source": [
    "cluster.columns = ['frequency','price', 'zipcode']\n",
    "cluster.describe()"
   ]
  },
  {
   "cell_type": "code",
   "execution_count": 62,
   "metadata": {
    "hidden": true
   },
   "outputs": [],
   "source": [
    "# creating \"cheap\" group that sell below mean price(454585)\n",
    "cluster_cheap = cluster[cluster.price < 454585]\n",
    "\n",
    "# temporary cluster of the houses that sell above mean price\n",
    "cluster_temp = cluster[cluster.price >= 454585]\n",
    "\n",
    "# creating \"low volume, higher priced\" group that sell less frequently than the mean\n",
    "cluster_cheap_low_volume = cluster_cheap[cluster_cheap.frequency < 330]\n",
    "\n",
    "# creating \"high volume, higher priced\" group that sell more frequently than the mean\n",
    "cluster_cheap_high_volume = cluster_cheap[cluster_cheap.frequency >= 330]\n",
    "\n",
    "# creating \"low volume, higher priced\" group that sell less frequently than the mean\n",
    "cluster_expensive_low_volume = cluster_temp[cluster_temp.frequency < 278]\n",
    "\n",
    "# creating \"high volume, higher priced\" group that sell more frequently than the mean\n",
    "cluster_expensive_high_volume = cluster_temp[cluster_temp.frequency >= 280]"
   ]
  },
  {
   "cell_type": "code",
   "execution_count": 63,
   "metadata": {
    "hidden": true
   },
   "outputs": [],
   "source": [
    "def get_zipcode_category(zipcode):\n",
    "    if zipcode in cluster_cheap_low_volume.index:\n",
    "        return 'cheap_low_volume'\n",
    "    elif zipcode in cluster_cheap_high_volume.index:\n",
    "        return 'cheap_high_volume'\n",
    "    elif zipcode in cluster_expensive_low_volume.index:\n",
    "        return 'expensive_low_volume'\n",
    "    else:\n",
    "        return 'expensive_high_volume'"
   ]
  },
  {
   "cell_type": "code",
   "execution_count": 64,
   "metadata": {
    "hidden": true,
    "scrolled": true
   },
   "outputs": [
    {
     "data": {
      "text/plain": [
       "cheap_low_volume         4926\n",
       "cheap_high_volume        4043\n",
       "expensive_low_volume     3768\n",
       "expensive_high_volume    1624\n",
       "Name: zipcode_type, dtype: int64"
      ]
     },
     "execution_count": 64,
     "metadata": {},
     "output_type": "execute_result"
    }
   ],
   "source": [
    "df['zipcode_type'] = df.zipcode.apply(get_zipcode_category)\n",
    "df.zipcode_type.value_counts() # viewing how our clusters look"
   ]
  },
  {
   "cell_type": "code",
   "execution_count": null,
   "metadata": {
    "hidden": true
   },
   "outputs": [],
   "source": []
  },
  {
   "cell_type": "code",
   "execution_count": null,
   "metadata": {
    "hidden": true
   },
   "outputs": [],
   "source": []
  },
  {
   "cell_type": "code",
   "execution_count": null,
   "metadata": {
    "hidden": true
   },
   "outputs": [],
   "source": []
  },
  {
   "cell_type": "markdown",
   "metadata": {},
   "source": [
    "## Continuous and Categorical Features"
   ]
  },
  {
   "cell_type": "code",
   "execution_count": 65,
   "metadata": {},
   "outputs": [],
   "source": [
    "# df_cont = df[['sqft_living', 'sqft_lot', 'sqft_above', 'sqft_basement', 'lat', 'long', 'sqft_living15', 'sqft_lot15']]\n",
    "# df_cate = df[['condition', 'grade', 'zipcode']]\n",
    "\n",
    "# pd.plotting.scatter_matrix(pd.concat([df_cont, df_cate], axis=1), figsize = [12,12])\n",
    "# plt.show()"
   ]
  },
  {
   "cell_type": "markdown",
   "metadata": {},
   "source": [
    "### Multi-collineary "
   ]
  },
  {
   "cell_type": "code",
   "execution_count": 66,
   "metadata": {},
   "outputs": [
    {
     "data": {
      "text/html": [
       "<div>\n",
       "<style scoped>\n",
       "    .dataframe tbody tr th:only-of-type {\n",
       "        vertical-align: middle;\n",
       "    }\n",
       "\n",
       "    .dataframe tbody tr th {\n",
       "        vertical-align: top;\n",
       "    }\n",
       "\n",
       "    .dataframe thead th {\n",
       "        text-align: right;\n",
       "    }\n",
       "</style>\n",
       "<table border=\"1\" class=\"dataframe\">\n",
       "  <thead>\n",
       "    <tr style=\"text-align: right;\">\n",
       "      <th></th>\n",
       "      <th>cc</th>\n",
       "    </tr>\n",
       "    <tr>\n",
       "      <th>pairs</th>\n",
       "      <th></th>\n",
       "    </tr>\n",
       "  </thead>\n",
       "  <tbody>\n",
       "    <tr>\n",
       "      <th>(sqft_lot, sqft_lot15)</th>\n",
       "      <td>0.866243</td>\n",
       "    </tr>\n",
       "    <tr>\n",
       "      <th>(sqft_living, sqft_above)</th>\n",
       "      <td>0.829318</td>\n",
       "    </tr>\n",
       "    <tr>\n",
       "      <th>(sqft_living15, sqft_living)</th>\n",
       "      <td>0.711847</td>\n",
       "    </tr>\n",
       "  </tbody>\n",
       "</table>\n",
       "</div>"
      ],
      "text/plain": [
       "                                    cc\n",
       "pairs                                 \n",
       "(sqft_lot, sqft_lot15)        0.866243\n",
       "(sqft_living, sqft_above)     0.829318\n",
       "(sqft_living15, sqft_living)  0.711847"
      ]
     },
     "execution_count": 66,
     "metadata": {},
     "output_type": "execute_result"
    }
   ],
   "source": [
    "df_cont = df[['sqft_living', 'sqft_lot', 'sqft_above', 'sqft_basement', \n",
    "              'lat', 'long', 'sqft_living15', 'sqft_lot15']]\n",
    "\n",
    "data_cont = df_cont.corr().abs().stack().reset_index().sort_values(0, ascending=False)\n",
    "data_cont['pairs'] = list(zip(data_cont.level_0, data_cont.level_1))\n",
    "data_cont.set_index(['pairs'], inplace=True)\n",
    "data_cont.drop(columns=['level_1', 'level_0'], inplace = True)\n",
    "data_cont.columns = ['cc']\n",
    "data_cont.drop_duplicates(inplace=True)\n",
    "data_cont[(data_cont.cc>.70) & (data_cont.cc<1)]"
   ]
  },
  {
   "cell_type": "markdown",
   "metadata": {},
   "source": [
    ">Above table are showing some highly correlated continuous columns. We'll be dropping 'sqft_above', 'sqft_living15', and 'sqft_lot15' due to high correlation that will lead to fallacy in our model."
   ]
  },
  {
   "cell_type": "code",
   "execution_count": 67,
   "metadata": {},
   "outputs": [],
   "source": [
    "#creating seperate dataframe from the original to make changes\n",
    "df_b = df"
   ]
  },
  {
   "cell_type": "code",
   "execution_count": 68,
   "metadata": {},
   "outputs": [],
   "source": [
    "#dropping the multicollinearies and unwanted columns\n",
    "df_b.drop('lat', axis = 1, inplace = True)\n",
    "df_b.drop('long', axis = 1, inplace = True)\n",
    "df_b.drop('sqft_above', axis = 1, inplace = True)\n",
    "df_b.drop('sqft_living15', axis = 1, inplace = True)\n",
    "df_b.drop('sqft_lot15', axis = 1, inplace = True)"
   ]
  },
  {
   "cell_type": "markdown",
   "metadata": {},
   "source": [
    "> We are dropping 'lat' and 'long' columns because we'll be using zipcode instead. As well as dropping the 'view' columns because we believe it's not a big determining factor for house prices."
   ]
  },
  {
   "cell_type": "markdown",
   "metadata": {},
   "source": [
    "### Categorical / One Hot Encoded"
   ]
  },
  {
   "cell_type": "code",
   "execution_count": 69,
   "metadata": {},
   "outputs": [
    {
     "data": {
      "image/png": "[encoded data removed]",
      "text/plain": [
       "<Figure size 1152x720 with 3 Axes>"
      ]
     },
     "metadata": {},
     "output_type": "display_data"
    }
   ],
   "source": [
    "#looking at graphs to see columns shaped like a categorical data\n",
    "fig, axes = plt.subplots(nrows=1, ncols=3, figsize=(16,10), sharey=True)\n",
    "\n",
    "feats = ['condition', 'grade', 'zipcode_type']\n",
    "\n",
    "for col, ax in zip(feats, axes.flatten()):\n",
    "    (df.groupby(col)               \n",
    "         .mean()['price']        \n",
    "         .sort_values()              \n",
    "         .plot\n",
    "         .bar(ax=ax))                \n",
    "    \n",
    "    ax.set_title(col)                \n",
    "fig.tight_layout()"
   ]
  },
  {
   "cell_type": "code",
   "execution_count": 70,
   "metadata": {
    "scrolled": true
   },
   "outputs": [],
   "source": [
    "features = df[feats].astype('category')"
   ]
  },
  {
   "cell_type": "code",
   "execution_count": 71,
   "metadata": {},
   "outputs": [],
   "source": [
    "feats_ohe = pd.get_dummies(features, drop_first = True)"
   ]
  },
  {
   "cell_type": "code",
   "execution_count": 72,
   "metadata": {},
   "outputs": [],
   "source": [
    "feats_ohe = feats_ohe.astype(int)"
   ]
  },
  {
   "cell_type": "code",
   "execution_count": 73,
   "metadata": {
    "scrolled": true
   },
   "outputs": [
    {
     "data": {
      "text/html": [
       "<div>\n",
       "<style scoped>\n",
       "    .dataframe tbody tr th:only-of-type {\n",
       "        vertical-align: middle;\n",
       "    }\n",
       "\n",
       "    .dataframe tbody tr th {\n",
       "        vertical-align: top;\n",
       "    }\n",
       "\n",
       "    .dataframe thead th {\n",
       "        text-align: right;\n",
       "    }\n",
       "</style>\n",
       "<table border=\"1\" class=\"dataframe\">\n",
       "  <thead>\n",
       "    <tr style=\"text-align: right;\">\n",
       "      <th></th>\n",
       "      <th>condition_2</th>\n",
       "      <th>condition_3</th>\n",
       "      <th>condition_4</th>\n",
       "      <th>condition_5</th>\n",
       "      <th>grade_4</th>\n",
       "      <th>grade_5</th>\n",
       "      <th>grade_6</th>\n",
       "      <th>grade_7</th>\n",
       "      <th>grade_8</th>\n",
       "      <th>grade_9</th>\n",
       "      <th>grade_10</th>\n",
       "      <th>grade_11</th>\n",
       "      <th>zipcode_type_cheap_low_volume</th>\n",
       "      <th>zipcode_type_expensive_high_volume</th>\n",
       "      <th>zipcode_type_expensive_low_volume</th>\n",
       "    </tr>\n",
       "  </thead>\n",
       "  <tbody>\n",
       "    <tr>\n",
       "      <th>0</th>\n",
       "      <td>0</td>\n",
       "      <td>1</td>\n",
       "      <td>0</td>\n",
       "      <td>0</td>\n",
       "      <td>0</td>\n",
       "      <td>0</td>\n",
       "      <td>0</td>\n",
       "      <td>1</td>\n",
       "      <td>0</td>\n",
       "      <td>0</td>\n",
       "      <td>0</td>\n",
       "      <td>0</td>\n",
       "      <td>1</td>\n",
       "      <td>0</td>\n",
       "      <td>0</td>\n",
       "    </tr>\n",
       "    <tr>\n",
       "      <th>1</th>\n",
       "      <td>0</td>\n",
       "      <td>1</td>\n",
       "      <td>0</td>\n",
       "      <td>0</td>\n",
       "      <td>0</td>\n",
       "      <td>0</td>\n",
       "      <td>0</td>\n",
       "      <td>1</td>\n",
       "      <td>0</td>\n",
       "      <td>0</td>\n",
       "      <td>0</td>\n",
       "      <td>0</td>\n",
       "      <td>0</td>\n",
       "      <td>0</td>\n",
       "      <td>0</td>\n",
       "    </tr>\n",
       "    <tr>\n",
       "      <th>2</th>\n",
       "      <td>0</td>\n",
       "      <td>1</td>\n",
       "      <td>0</td>\n",
       "      <td>0</td>\n",
       "      <td>0</td>\n",
       "      <td>0</td>\n",
       "      <td>1</td>\n",
       "      <td>0</td>\n",
       "      <td>0</td>\n",
       "      <td>0</td>\n",
       "      <td>0</td>\n",
       "      <td>0</td>\n",
       "      <td>1</td>\n",
       "      <td>0</td>\n",
       "      <td>0</td>\n",
       "    </tr>\n",
       "    <tr>\n",
       "      <th>3</th>\n",
       "      <td>0</td>\n",
       "      <td>0</td>\n",
       "      <td>0</td>\n",
       "      <td>1</td>\n",
       "      <td>0</td>\n",
       "      <td>0</td>\n",
       "      <td>0</td>\n",
       "      <td>1</td>\n",
       "      <td>0</td>\n",
       "      <td>0</td>\n",
       "      <td>0</td>\n",
       "      <td>0</td>\n",
       "      <td>0</td>\n",
       "      <td>0</td>\n",
       "      <td>1</td>\n",
       "    </tr>\n",
       "    <tr>\n",
       "      <th>4</th>\n",
       "      <td>0</td>\n",
       "      <td>1</td>\n",
       "      <td>0</td>\n",
       "      <td>0</td>\n",
       "      <td>0</td>\n",
       "      <td>0</td>\n",
       "      <td>0</td>\n",
       "      <td>0</td>\n",
       "      <td>1</td>\n",
       "      <td>0</td>\n",
       "      <td>0</td>\n",
       "      <td>0</td>\n",
       "      <td>0</td>\n",
       "      <td>0</td>\n",
       "      <td>1</td>\n",
       "    </tr>\n",
       "  </tbody>\n",
       "</table>\n",
       "</div>"
      ],
      "text/plain": [
       "   condition_2  condition_3  condition_4  condition_5  grade_4  grade_5  \\\n",
       "0            0            1            0            0        0        0   \n",
       "1            0            1            0            0        0        0   \n",
       "2            0            1            0            0        0        0   \n",
       "3            0            0            0            1        0        0   \n",
       "4            0            1            0            0        0        0   \n",
       "\n",
       "   grade_6  grade_7  grade_8  grade_9  grade_10  grade_11  \\\n",
       "0        0        1        0        0         0         0   \n",
       "1        0        1        0        0         0         0   \n",
       "2        1        0        0        0         0         0   \n",
       "3        0        1        0        0         0         0   \n",
       "4        0        0        1        0         0         0   \n",
       "\n",
       "   zipcode_type_cheap_low_volume  zipcode_type_expensive_high_volume  \\\n",
       "0                              1                                   0   \n",
       "1                              0                                   0   \n",
       "2                              1                                   0   \n",
       "3                              0                                   0   \n",
       "4                              0                                   0   \n",
       "\n",
       "   zipcode_type_expensive_low_volume  \n",
       "0                                  0  \n",
       "1                                  0  \n",
       "2                                  0  \n",
       "3                                  1  \n",
       "4                                  1  "
      ]
     },
     "execution_count": 73,
     "metadata": {},
     "output_type": "execute_result"
    }
   ],
   "source": [
    "feats_ohe.head()"
   ]
  },
  {
   "cell_type": "markdown",
   "metadata": {},
   "source": [
    "### Baseline DataFrame"
   ]
  },
  {
   "cell_type": "markdown",
   "metadata": {},
   "source": [
    "> Adding the new features to the baseline data"
   ]
  },
  {
   "cell_type": "code",
   "execution_count": 74,
   "metadata": {},
   "outputs": [],
   "source": [
    "df_b = pd.concat([df_b, feats_ohe], axis = 1)"
   ]
  },
  {
   "cell_type": "code",
   "execution_count": 75,
   "metadata": {},
   "outputs": [
    {
     "data": {
      "text/plain": [
       "Index(['price', 'bedrooms', 'bathrooms', 'sqft_living', 'sqft_lot', 'floors',\n",
       "       'view', 'condition', 'grade', 'sqft_basement', 'yr_built',\n",
       "       'yr_renovated', 'zipcode', 'month_sold', 'sold_spring_time',\n",
       "       'sold_summer_time', 'sold_fall_time', 'sold_winter_time',\n",
       "       'has_renovated', 'has_basement', 'zipcode_type', 'condition_2',\n",
       "       'condition_3', 'condition_4', 'condition_5', 'grade_4', 'grade_5',\n",
       "       'grade_6', 'grade_7', 'grade_8', 'grade_9', 'grade_10', 'grade_11',\n",
       "       'zipcode_type_cheap_low_volume', 'zipcode_type_expensive_high_volume',\n",
       "       'zipcode_type_expensive_low_volume'],\n",
       "      dtype='object')"
      ]
     },
     "execution_count": 75,
     "metadata": {},
     "output_type": "execute_result"
    }
   ],
   "source": [
    "df_b.columns"
   ]
  },
  {
   "cell_type": "markdown",
   "metadata": {},
   "source": [
    "> dropping more unwanted columns from our baseline DataFrame"
   ]
  },
  {
   "cell_type": "code",
   "execution_count": 76,
   "metadata": {},
   "outputs": [],
   "source": [
    "#dropping unwanted columns first\n",
    "df_b.drop('view', axis = 1, inplace = True)\n",
    "df_b.drop('yr_renovated', axis = 1, inplace = True)\n",
    "df_b.drop('sqft_basement', axis = 1, inplace = True)"
   ]
  },
  {
   "cell_type": "markdown",
   "metadata": {},
   "source": [
    ">Dropping 'condition', 'grade', and 'zipcode' since they're replaced with one hot encoded features"
   ]
  },
  {
   "cell_type": "code",
   "execution_count": 77,
   "metadata": {},
   "outputs": [],
   "source": [
    "df_b.drop('condition', axis = 1, inplace = True)\n",
    "df_b.drop('grade', axis = 1, inplace = True)\n",
    "df_b.drop('zipcode', axis = 1, inplace = True)"
   ]
  },
  {
   "cell_type": "code",
   "execution_count": 78,
   "metadata": {},
   "outputs": [],
   "source": [
    "df_b.drop('zipcode_type', axis = 1, inplace = True)"
   ]
  },
  {
   "cell_type": "code",
   "execution_count": 79,
   "metadata": {
    "scrolled": true
   },
   "outputs": [
    {
     "data": {
      "text/html": [
       "<div>\n",
       "<style scoped>\n",
       "    .dataframe tbody tr th:only-of-type {\n",
       "        vertical-align: middle;\n",
       "    }\n",
       "\n",
       "    .dataframe tbody tr th {\n",
       "        vertical-align: top;\n",
       "    }\n",
       "\n",
       "    .dataframe thead th {\n",
       "        text-align: right;\n",
       "    }\n",
       "</style>\n",
       "<table border=\"1\" class=\"dataframe\">\n",
       "  <thead>\n",
       "    <tr style=\"text-align: right;\">\n",
       "      <th></th>\n",
       "      <th>price</th>\n",
       "      <th>bedrooms</th>\n",
       "      <th>bathrooms</th>\n",
       "      <th>sqft_living</th>\n",
       "      <th>sqft_lot</th>\n",
       "      <th>floors</th>\n",
       "      <th>yr_built</th>\n",
       "      <th>month_sold</th>\n",
       "      <th>sold_spring_time</th>\n",
       "      <th>sold_summer_time</th>\n",
       "      <th>...</th>\n",
       "      <th>grade_5</th>\n",
       "      <th>grade_6</th>\n",
       "      <th>grade_7</th>\n",
       "      <th>grade_8</th>\n",
       "      <th>grade_9</th>\n",
       "      <th>grade_10</th>\n",
       "      <th>grade_11</th>\n",
       "      <th>zipcode_type_cheap_low_volume</th>\n",
       "      <th>zipcode_type_expensive_high_volume</th>\n",
       "      <th>zipcode_type_expensive_low_volume</th>\n",
       "    </tr>\n",
       "  </thead>\n",
       "  <tbody>\n",
       "    <tr>\n",
       "      <th>0</th>\n",
       "      <td>221900</td>\n",
       "      <td>3</td>\n",
       "      <td>1.00</td>\n",
       "      <td>1180</td>\n",
       "      <td>5650</td>\n",
       "      <td>1.0</td>\n",
       "      <td>1955</td>\n",
       "      <td>10</td>\n",
       "      <td>0</td>\n",
       "      <td>0</td>\n",
       "      <td>...</td>\n",
       "      <td>0</td>\n",
       "      <td>0</td>\n",
       "      <td>1</td>\n",
       "      <td>0</td>\n",
       "      <td>0</td>\n",
       "      <td>0</td>\n",
       "      <td>0</td>\n",
       "      <td>1</td>\n",
       "      <td>0</td>\n",
       "      <td>0</td>\n",
       "    </tr>\n",
       "    <tr>\n",
       "      <th>1</th>\n",
       "      <td>538000</td>\n",
       "      <td>3</td>\n",
       "      <td>2.25</td>\n",
       "      <td>2570</td>\n",
       "      <td>7242</td>\n",
       "      <td>2.0</td>\n",
       "      <td>1951</td>\n",
       "      <td>12</td>\n",
       "      <td>0</td>\n",
       "      <td>0</td>\n",
       "      <td>...</td>\n",
       "      <td>0</td>\n",
       "      <td>0</td>\n",
       "      <td>1</td>\n",
       "      <td>0</td>\n",
       "      <td>0</td>\n",
       "      <td>0</td>\n",
       "      <td>0</td>\n",
       "      <td>0</td>\n",
       "      <td>0</td>\n",
       "      <td>0</td>\n",
       "    </tr>\n",
       "    <tr>\n",
       "      <th>2</th>\n",
       "      <td>180000</td>\n",
       "      <td>2</td>\n",
       "      <td>1.00</td>\n",
       "      <td>770</td>\n",
       "      <td>10000</td>\n",
       "      <td>1.0</td>\n",
       "      <td>1933</td>\n",
       "      <td>2</td>\n",
       "      <td>1</td>\n",
       "      <td>0</td>\n",
       "      <td>...</td>\n",
       "      <td>0</td>\n",
       "      <td>1</td>\n",
       "      <td>0</td>\n",
       "      <td>0</td>\n",
       "      <td>0</td>\n",
       "      <td>0</td>\n",
       "      <td>0</td>\n",
       "      <td>1</td>\n",
       "      <td>0</td>\n",
       "      <td>0</td>\n",
       "    </tr>\n",
       "    <tr>\n",
       "      <th>3</th>\n",
       "      <td>604000</td>\n",
       "      <td>4</td>\n",
       "      <td>3.00</td>\n",
       "      <td>1960</td>\n",
       "      <td>5000</td>\n",
       "      <td>1.0</td>\n",
       "      <td>1965</td>\n",
       "      <td>12</td>\n",
       "      <td>0</td>\n",
       "      <td>0</td>\n",
       "      <td>...</td>\n",
       "      <td>0</td>\n",
       "      <td>0</td>\n",
       "      <td>1</td>\n",
       "      <td>0</td>\n",
       "      <td>0</td>\n",
       "      <td>0</td>\n",
       "      <td>0</td>\n",
       "      <td>0</td>\n",
       "      <td>0</td>\n",
       "      <td>1</td>\n",
       "    </tr>\n",
       "    <tr>\n",
       "      <th>4</th>\n",
       "      <td>510000</td>\n",
       "      <td>3</td>\n",
       "      <td>2.00</td>\n",
       "      <td>1680</td>\n",
       "      <td>8080</td>\n",
       "      <td>1.0</td>\n",
       "      <td>1987</td>\n",
       "      <td>2</td>\n",
       "      <td>1</td>\n",
       "      <td>0</td>\n",
       "      <td>...</td>\n",
       "      <td>0</td>\n",
       "      <td>0</td>\n",
       "      <td>0</td>\n",
       "      <td>1</td>\n",
       "      <td>0</td>\n",
       "      <td>0</td>\n",
       "      <td>0</td>\n",
       "      <td>0</td>\n",
       "      <td>0</td>\n",
       "      <td>1</td>\n",
       "    </tr>\n",
       "  </tbody>\n",
       "</table>\n",
       "<p>5 rows × 29 columns</p>\n",
       "</div>"
      ],
      "text/plain": [
       "    price  bedrooms  bathrooms  sqft_living  sqft_lot  floors  yr_built  \\\n",
       "0  221900         3       1.00         1180      5650     1.0      1955   \n",
       "1  538000         3       2.25         2570      7242     2.0      1951   \n",
       "2  180000         2       1.00          770     10000     1.0      1933   \n",
       "3  604000         4       3.00         1960      5000     1.0      1965   \n",
       "4  510000         3       2.00         1680      8080     1.0      1987   \n",
       "\n",
       "   month_sold  sold_spring_time  sold_summer_time  ...  grade_5  grade_6  \\\n",
       "0          10                 0                 0  ...        0        0   \n",
       "1          12                 0                 0  ...        0        0   \n",
       "2           2                 1                 0  ...        0        1   \n",
       "3          12                 0                 0  ...        0        0   \n",
       "4           2                 1                 0  ...        0        0   \n",
       "\n",
       "   grade_7  grade_8  grade_9  grade_10  grade_11  \\\n",
       "0        1        0        0         0         0   \n",
       "1        1        0        0         0         0   \n",
       "2        0        0        0         0         0   \n",
       "3        1        0        0         0         0   \n",
       "4        0        1        0         0         0   \n",
       "\n",
       "   zipcode_type_cheap_low_volume  zipcode_type_expensive_high_volume  \\\n",
       "0                              1                                   0   \n",
       "1                              0                                   0   \n",
       "2                              1                                   0   \n",
       "3                              0                                   0   \n",
       "4                              0                                   0   \n",
       "\n",
       "   zipcode_type_expensive_low_volume  \n",
       "0                                  0  \n",
       "1                                  0  \n",
       "2                                  0  \n",
       "3                                  1  \n",
       "4                                  1  \n",
       "\n",
       "[5 rows x 29 columns]"
      ]
     },
     "execution_count": 79,
     "metadata": {},
     "output_type": "execute_result"
    }
   ],
   "source": [
    "#checking to see the new dataset and ensuring that there is no missing values\n",
    "df_b.head()"
   ]
  },
  {
   "cell_type": "code",
   "execution_count": 80,
   "metadata": {},
   "outputs": [
    {
     "name": "stdout",
     "output_type": "stream",
     "text": [
      "<class 'pandas.core.frame.DataFrame'>\n",
      "Int64Index: 14361 entries, 0 to 21596\n",
      "Data columns (total 29 columns):\n",
      "price                                 14361 non-null int32\n",
      "bedrooms                              14361 non-null int64\n",
      "bathrooms                             14361 non-null float64\n",
      "sqft_living                           14361 non-null int64\n",
      "sqft_lot                              14361 non-null int64\n",
      "floors                                14361 non-null float64\n",
      "yr_built                              14361 non-null int64\n",
      "month_sold                            14361 non-null int64\n",
      "sold_spring_time                      14361 non-null int32\n",
      "sold_summer_time                      14361 non-null int32\n",
      "sold_fall_time                        14361 non-null int32\n",
      "sold_winter_time                      14361 non-null int32\n",
      "has_renovated                         14361 non-null int32\n",
      "has_basement                          14361 non-null int32\n",
      "condition_2                           14361 non-null int32\n",
      "condition_3                           14361 non-null int32\n",
      "condition_4                           14361 non-null int32\n",
      "condition_5                           14361 non-null int32\n",
      "grade_4                               14361 non-null int32\n",
      "grade_5                               14361 non-null int32\n",
      "grade_6                               14361 non-null int32\n",
      "grade_7                               14361 non-null int32\n",
      "grade_8                               14361 non-null int32\n",
      "grade_9                               14361 non-null int32\n",
      "grade_10                              14361 non-null int32\n",
      "grade_11                              14361 non-null int32\n",
      "zipcode_type_cheap_low_volume         14361 non-null int32\n",
      "zipcode_type_expensive_high_volume    14361 non-null int32\n",
      "zipcode_type_expensive_low_volume     14361 non-null int32\n",
      "dtypes: float64(2), int32(22), int64(5)\n",
      "memory usage: 2.1 MB\n"
     ]
    }
   ],
   "source": [
    "df_b.info()"
   ]
  },
  {
   "cell_type": "markdown",
   "metadata": {},
   "source": [
    "## First Model - Baseline\n"
   ]
  },
  {
   "cell_type": "markdown",
   "metadata": {},
   "source": [
    "### Train-Test Split"
   ]
  },
  {
   "cell_type": "code",
   "execution_count": 81,
   "metadata": {},
   "outputs": [],
   "source": [
    "#importing the necessary libraries for train-test split\n",
    "import scipy.stats as stats\n",
    "from sklearn.model_selection import train_test_split\n",
    "from sklearn.linear_model import LinearRegression\n",
    "from sklearn.metrics import mean_squared_error\n",
    "\n",
    "linreg = LinearRegression()"
   ]
  },
  {
   "cell_type": "code",
   "execution_count": 82,
   "metadata": {},
   "outputs": [],
   "source": [
    "y = df_b[['price']]\n",
    "X = df_b.drop(['price'], axis=1)\n",
    "\n",
    "X_train, X_test, y_train, y_test = train_test_split(X, y, test_size = 0.2, random_state = (123))"
   ]
  },
  {
   "cell_type": "code",
   "execution_count": 83,
   "metadata": {},
   "outputs": [],
   "source": [
    "linreg.fit(X_train, y_train)\n",
    "\n",
    "y_hat_train = linreg.predict(X_train)\n",
    "y_hat_test = linreg.predict(X_test)"
   ]
  },
  {
   "cell_type": "code",
   "execution_count": 84,
   "metadata": {},
   "outputs": [],
   "source": [
    "rmse_train = np.sqrt(mean_squared_error(y_train, y_hat_train))\n",
    "rmse_test = np.sqrt(mean_squared_error(y_test, y_hat_test))"
   ]
  },
  {
   "cell_type": "code",
   "execution_count": 85,
   "metadata": {},
   "outputs": [
    {
     "name": "stdout",
     "output_type": "stream",
     "text": [
      "RMSE Train: 81382.75\n",
      "RMSE Test: 81428.8\n"
     ]
    }
   ],
   "source": [
    "print(\"RMSE Train:\", round(rmse_train, 2))\n",
    "print(\"RMSE Test:\", round(rmse_test, 2))"
   ]
  },
  {
   "cell_type": "markdown",
   "metadata": {},
   "source": [
    "###  model"
   ]
  },
  {
   "cell_type": "code",
   "execution_count": 86,
   "metadata": {},
   "outputs": [],
   "source": [
    "from statsmodels.formula.api import ols"
   ]
  },
  {
   "cell_type": "code",
   "execution_count": 87,
   "metadata": {
    "scrolled": false
   },
   "outputs": [
    {
     "data": {
      "text/html": [
       "<table class=\"simpletable\">\n",
       "<caption>OLS Regression Results</caption>\n",
       "<tr>\n",
       "  <th>Dep. Variable:</th>          <td>price</td>      <th>  R-squared:         </th>  <td>   0.652</td>  \n",
       "</tr>\n",
       "<tr>\n",
       "  <th>Model:</th>                   <td>OLS</td>       <th>  Adj. R-squared:    </th>  <td>   0.651</td>  \n",
       "</tr>\n",
       "<tr>\n",
       "  <th>Method:</th>             <td>Least Squares</td>  <th>  F-statistic:       </th>  <td>   796.3</td>  \n",
       "</tr>\n",
       "<tr>\n",
       "  <th>Date:</th>             <td>Sat, 21 Nov 2020</td> <th>  Prob (F-statistic):</th>   <td>  0.00</td>   \n",
       "</tr>\n",
       "<tr>\n",
       "  <th>Time:</th>                 <td>13:56:22</td>     <th>  Log-Likelihood:    </th> <td>-1.4619e+05</td>\n",
       "</tr>\n",
       "<tr>\n",
       "  <th>No. Observations:</th>      <td> 11488</td>      <th>  AIC:               </th>  <td>2.924e+05</td> \n",
       "</tr>\n",
       "<tr>\n",
       "  <th>Df Residuals:</th>          <td> 11460</td>      <th>  BIC:               </th>  <td>2.927e+05</td> \n",
       "</tr>\n",
       "<tr>\n",
       "  <th>Df Model:</th>              <td>    27</td>      <th>                     </th>      <td> </td>     \n",
       "</tr>\n",
       "<tr>\n",
       "  <th>Covariance Type:</th>      <td>nonrobust</td>    <th>                     </th>      <td> </td>     \n",
       "</tr>\n",
       "</table>\n",
       "<table class=\"simpletable\">\n",
       "<tr>\n",
       "                   <td></td>                     <th>coef</th>     <th>std err</th>      <th>t</th>      <th>P>|t|</th>  <th>[0.025</th>    <th>0.975]</th>  \n",
       "</tr>\n",
       "<tr>\n",
       "  <th>Intercept</th>                          <td> 2.086e+06</td> <td> 9.19e+04</td> <td>   22.689</td> <td> 0.000</td> <td> 1.91e+06</td> <td> 2.27e+06</td>\n",
       "</tr>\n",
       "<tr>\n",
       "  <th>bedrooms</th>                           <td>-6277.0417</td> <td> 1225.832</td> <td>   -5.121</td> <td> 0.000</td> <td>-8679.883</td> <td>-3874.201</td>\n",
       "</tr>\n",
       "<tr>\n",
       "  <th>bathrooms</th>                          <td> 1.139e+04</td> <td> 2023.084</td> <td>    5.628</td> <td> 0.000</td> <td> 7419.869</td> <td> 1.54e+04</td>\n",
       "</tr>\n",
       "<tr>\n",
       "  <th>sqft_living</th>                        <td>   81.1039</td> <td>    2.262</td> <td>   35.856</td> <td> 0.000</td> <td>   76.670</td> <td>   85.538</td>\n",
       "</tr>\n",
       "<tr>\n",
       "  <th>sqft_lot</th>                           <td>   -2.9364</td> <td>    0.340</td> <td>   -8.634</td> <td> 0.000</td> <td>   -3.603</td> <td>   -2.270</td>\n",
       "</tr>\n",
       "<tr>\n",
       "  <th>floors</th>                             <td> 8681.1522</td> <td> 2261.055</td> <td>    3.839</td> <td> 0.000</td> <td> 4249.099</td> <td> 1.31e+04</td>\n",
       "</tr>\n",
       "<tr>\n",
       "  <th>yr_built</th>                           <td>-1256.0554</td> <td>   40.630</td> <td>  -30.914</td> <td> 0.000</td> <td>-1335.698</td> <td>-1176.413</td>\n",
       "</tr>\n",
       "<tr>\n",
       "  <th>month_sold</th>                         <td>-2359.0080</td> <td>  936.195</td> <td>   -2.520</td> <td> 0.012</td> <td>-4194.110</td> <td> -523.906</td>\n",
       "</tr>\n",
       "<tr>\n",
       "  <th>sold_spring_time</th>                   <td> 5.154e+05</td> <td> 2.32e+04</td> <td>   22.223</td> <td> 0.000</td> <td>  4.7e+05</td> <td> 5.61e+05</td>\n",
       "</tr>\n",
       "<tr>\n",
       "  <th>sold_summer_time</th>                   <td> 5.263e+05</td> <td>  2.3e+04</td> <td>   22.896</td> <td> 0.000</td> <td> 4.81e+05</td> <td> 5.71e+05</td>\n",
       "</tr>\n",
       "<tr>\n",
       "  <th>sold_fall_time</th>                     <td> 5.199e+05</td> <td> 2.31e+04</td> <td>   22.473</td> <td> 0.000</td> <td> 4.75e+05</td> <td> 5.65e+05</td>\n",
       "</tr>\n",
       "<tr>\n",
       "  <th>sold_winter_time</th>                   <td> 5.241e+05</td> <td> 2.36e+04</td> <td>   22.240</td> <td> 0.000</td> <td> 4.78e+05</td> <td>  5.7e+05</td>\n",
       "</tr>\n",
       "<tr>\n",
       "  <th>has_renovated</th>                      <td>-4394.5686</td> <td> 5191.216</td> <td>   -0.847</td> <td> 0.397</td> <td>-1.46e+04</td> <td> 5781.103</td>\n",
       "</tr>\n",
       "<tr>\n",
       "  <th>has_basement</th>                       <td> 1.191e+04</td> <td> 1896.102</td> <td>    6.283</td> <td> 0.000</td> <td> 8197.160</td> <td> 1.56e+04</td>\n",
       "</tr>\n",
       "<tr>\n",
       "  <th>condition_2</th>                        <td> 2.574e+04</td> <td> 2.61e+04</td> <td>    0.985</td> <td> 0.325</td> <td>-2.55e+04</td> <td> 7.69e+04</td>\n",
       "</tr>\n",
       "<tr>\n",
       "  <th>condition_3</th>                        <td> 5.846e+04</td> <td> 2.47e+04</td> <td>    2.370</td> <td> 0.018</td> <td> 1.01e+04</td> <td> 1.07e+05</td>\n",
       "</tr>\n",
       "<tr>\n",
       "  <th>condition_4</th>                        <td> 6.173e+04</td> <td> 2.47e+04</td> <td>    2.502</td> <td> 0.012</td> <td> 1.34e+04</td> <td>  1.1e+05</td>\n",
       "</tr>\n",
       "<tr>\n",
       "  <th>condition_5</th>                        <td> 9.006e+04</td> <td> 2.48e+04</td> <td>    3.635</td> <td> 0.000</td> <td> 4.15e+04</td> <td> 1.39e+05</td>\n",
       "</tr>\n",
       "<tr>\n",
       "  <th>grade_4</th>                            <td> 2680.3002</td> <td> 8.65e+04</td> <td>    0.031</td> <td> 0.975</td> <td>-1.67e+05</td> <td> 1.72e+05</td>\n",
       "</tr>\n",
       "<tr>\n",
       "  <th>grade_5</th>                            <td>-5.877e+04</td> <td>  8.2e+04</td> <td>   -0.717</td> <td> 0.473</td> <td>-2.19e+05</td> <td> 1.02e+05</td>\n",
       "</tr>\n",
       "<tr>\n",
       "  <th>grade_6</th>                            <td> -1.34e+04</td> <td> 8.16e+04</td> <td>   -0.164</td> <td> 0.870</td> <td>-1.73e+05</td> <td> 1.47e+05</td>\n",
       "</tr>\n",
       "<tr>\n",
       "  <th>grade_7</th>                            <td>  3.11e+04</td> <td> 8.16e+04</td> <td>    0.381</td> <td> 0.703</td> <td>-1.29e+05</td> <td> 1.91e+05</td>\n",
       "</tr>\n",
       "<tr>\n",
       "  <th>grade_8</th>                            <td> 8.012e+04</td> <td> 8.17e+04</td> <td>    0.981</td> <td> 0.327</td> <td>   -8e+04</td> <td>  2.4e+05</td>\n",
       "</tr>\n",
       "<tr>\n",
       "  <th>grade_9</th>                            <td>  1.37e+05</td> <td> 8.18e+04</td> <td>    1.676</td> <td> 0.094</td> <td>-2.32e+04</td> <td> 2.97e+05</td>\n",
       "</tr>\n",
       "<tr>\n",
       "  <th>grade_10</th>                           <td> 1.611e+05</td> <td> 8.21e+04</td> <td>    1.961</td> <td> 0.050</td> <td>   47.701</td> <td> 3.22e+05</td>\n",
       "</tr>\n",
       "<tr>\n",
       "  <th>grade_11</th>                           <td> 1.059e+05</td> <td>    1e+05</td> <td>    1.059</td> <td> 0.289</td> <td>-9.01e+04</td> <td> 3.02e+05</td>\n",
       "</tr>\n",
       "<tr>\n",
       "  <th>zipcode_type_cheap_low_volume</th>      <td>  -2.8e+04</td> <td> 1943.027</td> <td>  -14.408</td> <td> 0.000</td> <td>-3.18e+04</td> <td>-2.42e+04</td>\n",
       "</tr>\n",
       "<tr>\n",
       "  <th>zipcode_type_expensive_high_volume</th> <td> 1.342e+05</td> <td> 2863.812</td> <td>   46.873</td> <td> 0.000</td> <td> 1.29e+05</td> <td>  1.4e+05</td>\n",
       "</tr>\n",
       "<tr>\n",
       "  <th>zipcode_type_expensive_low_volume</th>  <td> 1.333e+05</td> <td> 2155.426</td> <td>   61.867</td> <td> 0.000</td> <td> 1.29e+05</td> <td> 1.38e+05</td>\n",
       "</tr>\n",
       "</table>\n",
       "<table class=\"simpletable\">\n",
       "<tr>\n",
       "  <th>Omnibus:</th>       <td>269.800</td> <th>  Durbin-Watson:     </th> <td>   1.957</td>\n",
       "</tr>\n",
       "<tr>\n",
       "  <th>Prob(Omnibus):</th> <td> 0.000</td>  <th>  Jarque-Bera (JB):  </th> <td> 310.591</td>\n",
       "</tr>\n",
       "<tr>\n",
       "  <th>Skew:</th>          <td> 0.336</td>  <th>  Prob(JB):          </th> <td>3.60e-68</td>\n",
       "</tr>\n",
       "<tr>\n",
       "  <th>Kurtosis:</th>      <td> 3.445</td>  <th>  Cond. No.          </th> <td>2.96e+15</td>\n",
       "</tr>\n",
       "</table><br/><br/>Warnings:<br/>[1] Standard Errors assume that the covariance matrix of the errors is correctly specified.<br/>[2] The smallest eigenvalue is 7.82e-20. This might indicate that there are<br/>strong multicollinearity problems or that the design matrix is singular."
      ],
      "text/plain": [
       "<class 'statsmodels.iolib.summary.Summary'>\n",
       "\"\"\"\n",
       "                            OLS Regression Results                            \n",
       "==============================================================================\n",
       "Dep. Variable:                  price   R-squared:                       0.652\n",
       "Model:                            OLS   Adj. R-squared:                  0.651\n",
       "Method:                 Least Squares   F-statistic:                     796.3\n",
       "Date:                Sat, 21 Nov 2020   Prob (F-statistic):               0.00\n",
       "Time:                        13:56:22   Log-Likelihood:            -1.4619e+05\n",
       "No. Observations:               11488   AIC:                         2.924e+05\n",
       "Df Residuals:                   11460   BIC:                         2.927e+05\n",
       "Df Model:                          27                                         \n",
       "Covariance Type:            nonrobust                                         \n",
       "======================================================================================================\n",
       "                                         coef    std err          t      P>|t|      [0.025      0.975]\n",
       "------------------------------------------------------------------------------------------------------\n",
       "Intercept                           2.086e+06   9.19e+04     22.689      0.000    1.91e+06    2.27e+06\n",
       "bedrooms                           -6277.0417   1225.832     -5.121      0.000   -8679.883   -3874.201\n",
       "bathrooms                           1.139e+04   2023.084      5.628      0.000    7419.869    1.54e+04\n",
       "sqft_living                           81.1039      2.262     35.856      0.000      76.670      85.538\n",
       "sqft_lot                              -2.9364      0.340     -8.634      0.000      -3.603      -2.270\n",
       "floors                              8681.1522   2261.055      3.839      0.000    4249.099    1.31e+04\n",
       "yr_built                           -1256.0554     40.630    -30.914      0.000   -1335.698   -1176.413\n",
       "month_sold                         -2359.0080    936.195     -2.520      0.012   -4194.110    -523.906\n",
       "sold_spring_time                    5.154e+05   2.32e+04     22.223      0.000     4.7e+05    5.61e+05\n",
       "sold_summer_time                    5.263e+05    2.3e+04     22.896      0.000    4.81e+05    5.71e+05\n",
       "sold_fall_time                      5.199e+05   2.31e+04     22.473      0.000    4.75e+05    5.65e+05\n",
       "sold_winter_time                    5.241e+05   2.36e+04     22.240      0.000    4.78e+05     5.7e+05\n",
       "has_renovated                      -4394.5686   5191.216     -0.847      0.397   -1.46e+04    5781.103\n",
       "has_basement                        1.191e+04   1896.102      6.283      0.000    8197.160    1.56e+04\n",
       "condition_2                         2.574e+04   2.61e+04      0.985      0.325   -2.55e+04    7.69e+04\n",
       "condition_3                         5.846e+04   2.47e+04      2.370      0.018    1.01e+04    1.07e+05\n",
       "condition_4                         6.173e+04   2.47e+04      2.502      0.012    1.34e+04     1.1e+05\n",
       "condition_5                         9.006e+04   2.48e+04      3.635      0.000    4.15e+04    1.39e+05\n",
       "grade_4                             2680.3002   8.65e+04      0.031      0.975   -1.67e+05    1.72e+05\n",
       "grade_5                            -5.877e+04    8.2e+04     -0.717      0.473   -2.19e+05    1.02e+05\n",
       "grade_6                             -1.34e+04   8.16e+04     -0.164      0.870   -1.73e+05    1.47e+05\n",
       "grade_7                              3.11e+04   8.16e+04      0.381      0.703   -1.29e+05    1.91e+05\n",
       "grade_8                             8.012e+04   8.17e+04      0.981      0.327      -8e+04     2.4e+05\n",
       "grade_9                              1.37e+05   8.18e+04      1.676      0.094   -2.32e+04    2.97e+05\n",
       "grade_10                            1.611e+05   8.21e+04      1.961      0.050      47.701    3.22e+05\n",
       "grade_11                            1.059e+05      1e+05      1.059      0.289   -9.01e+04    3.02e+05\n",
       "zipcode_type_cheap_low_volume        -2.8e+04   1943.027    -14.408      0.000   -3.18e+04   -2.42e+04\n",
       "zipcode_type_expensive_high_volume  1.342e+05   2863.812     46.873      0.000    1.29e+05     1.4e+05\n",
       "zipcode_type_expensive_low_volume   1.333e+05   2155.426     61.867      0.000    1.29e+05    1.38e+05\n",
       "==============================================================================\n",
       "Omnibus:                      269.800   Durbin-Watson:                   1.957\n",
       "Prob(Omnibus):                  0.000   Jarque-Bera (JB):              310.591\n",
       "Skew:                           0.336   Prob(JB):                     3.60e-68\n",
       "Kurtosis:                       3.445   Cond. No.                     2.96e+15\n",
       "==============================================================================\n",
       "\n",
       "Warnings:\n",
       "[1] Standard Errors assume that the covariance matrix of the errors is correctly specified.\n",
       "[2] The smallest eigenvalue is 7.82e-20. This might indicate that there are\n",
       "strong multicollinearity problems or that the design matrix is singular.\n",
       "\"\"\""
      ]
     },
     "execution_count": 87,
     "metadata": {},
     "output_type": "execute_result"
    }
   ],
   "source": [
    "# Fitting the actual model\n",
    "outcome = 'price'\n",
    "dftrain = pd.concat([X_train, y_train], axis = 1)\n",
    "\n",
    "predictors = '+'.join(X.columns)\n",
    "formula = outcome + '~' + predictors\n",
    "model = ols(formula=formula, data = dftrain).fit()\n",
    "model.summary()"
   ]
  },
  {
   "cell_type": "markdown",
   "metadata": {},
   "source": [
    "R-squared: 0.826\n",
    "\n",
    "Adj R-squared: 0.825\n",
    "\n",
    "Number of significant p_values: 13"
   ]
  },
  {
   "cell_type": "markdown",
   "metadata": {},
   "source": [
    "### Checking QQ Plot"
   ]
  },
  {
   "cell_type": "code",
   "execution_count": 88,
   "metadata": {},
   "outputs": [],
   "source": [
    "import statsmodels.api as sm"
   ]
  },
  {
   "cell_type": "code",
   "execution_count": 89,
   "metadata": {},
   "outputs": [
    {
     "data": {
      "image/png": "[encoded data removed]",
      "text/plain": [
       "<Figure size 432x288 with 1 Axes>"
      ]
     },
     "metadata": {},
     "output_type": "display_data"
    }
   ],
   "source": [
    "fig = sm.graphics.qqplot(model.resid, dist=stats.norm, line='45', fit=True)"
   ]
  },
  {
   "cell_type": "markdown",
   "metadata": {},
   "source": [
    "### Checking for Homoscedasticity"
   ]
  },
  {
   "cell_type": "code",
   "execution_count": 90,
   "metadata": {},
   "outputs": [
    {
     "data": {
      "text/plain": [
       "[<matplotlib.lines.Line2D at 0x273e59c1d68>]"
      ]
     },
     "execution_count": 90,
     "metadata": {},
     "output_type": "execute_result"
    },
    {
     "data": {
      "image/png": "[encoded data removed]",
      "text/plain": [
       "<Figure size 432x288 with 1 Axes>"
      ]
     },
     "metadata": {},
     "output_type": "display_data"
    }
   ],
   "source": [
    "plt.scatter(model.predict(dftrain[X.columns]), model.resid)\n",
    "plt.plot(model.predict(dftrain[X.columns]), [0 for i in range(len(dftrain))])"
   ]
  },
  {
   "cell_type": "markdown",
   "metadata": {},
   "source": [
    "## Second Model - Multicollinearies"
   ]
  },
  {
   "cell_type": "markdown",
   "metadata": {},
   "source": [
    "### checking and fixing multicollinearies"
   ]
  },
  {
   "cell_type": "code",
   "execution_count": 91,
   "metadata": {
    "code_folding": []
   },
   "outputs": [],
   "source": [
    "#Importing variance inflation factor to check for multicollinearies \n",
    "from statsmodels.stats.outliers_influence import variance_inflation_factor"
   ]
  },
  {
   "cell_type": "code",
   "execution_count": 92,
   "metadata": {
    "scrolled": true
   },
   "outputs": [
    {
     "data": {
      "text/plain": [
       "[('bedrooms', 1.7823459418899419),\n",
       " ('bathrooms', 3.0290641083137673),\n",
       " ('sqft_living', 3.1783056653777786),\n",
       " ('sqft_lot', 1.7305991169740684),\n",
       " ('floors', 2.6461494839103885),\n",
       " ('yr_built', 2.5089595203209103),\n",
       " ('month_sold', 14.914925225850615),\n",
       " ('sold_spring_time', 4960.545000908538),\n",
       " ('sold_summer_time', 8008.552090800591),\n",
       " ('sold_fall_time', 7101.878149824635),\n",
       " ('sold_winter_time', 5803.060957901453),\n",
       " ('has_renovated', 1.073950086004822),\n",
       " ('has_basement', 1.4295788392844948),\n",
       " ('condition_2', 9.032448450585),\n",
       " ('condition_3', 250.2619976600087),\n",
       " ('condition_4', 213.6220359151401),\n",
       " ('condition_5', 76.9790430063947),\n",
       " ('grade_4', 11.013343656474001),\n",
       " ('grade_5', 143.86184343887695),\n",
       " ('grade_6', 1493.9701129982345),\n",
       " ('grade_7', 3596.968255769341),\n",
       " ('grade_8', 2937.648989199414),\n",
       " ('grade_9', 836.693934763113),\n",
       " ('grade_10', 107.6785725944452),\n",
       " ('grade_11', 3.010167250578652),\n",
       " ('zipcode_type_cheap_low_volume', 1.4683971785890966),\n",
       " ('zipcode_type_expensive_high_volume', 1.438015045197444),\n",
       " ('zipcode_type_expensive_low_volume', 1.5545719075269664)]"
      ]
     },
     "execution_count": 92,
     "metadata": {},
     "output_type": "execute_result"
    }
   ],
   "source": [
    "col = df_b[X.columns]\n",
    "vif = [variance_inflation_factor(col.values, i) for i in range(col.shape[1])]\n",
    "list(zip(X.columns, vif))"
   ]
  },
  {
   "cell_type": "code",
   "execution_count": 93,
   "metadata": {},
   "outputs": [
    {
     "name": "stdout",
     "output_type": "stream",
     "text": [
      "28 15\n"
     ]
    }
   ],
   "source": [
    "vif_scores = list(zip(X.columns, vif))\n",
    "v_test = [x for x, vif in vif_scores if vif > 10]\n",
    "print(len(vif_scores), len(v_test))"
   ]
  },
  {
   "cell_type": "code",
   "execution_count": 94,
   "metadata": {},
   "outputs": [
    {
     "data": {
      "text/plain": [
       "['month_sold',\n",
       " 'sold_spring_time',\n",
       " 'sold_summer_time',\n",
       " 'sold_fall_time',\n",
       " 'sold_winter_time',\n",
       " 'condition_3',\n",
       " 'condition_4',\n",
       " 'condition_5',\n",
       " 'grade_4',\n",
       " 'grade_5',\n",
       " 'grade_6',\n",
       " 'grade_7',\n",
       " 'grade_8',\n",
       " 'grade_9',\n",
       " 'grade_10']"
      ]
     },
     "execution_count": 94,
     "metadata": {},
     "output_type": "execute_result"
    }
   ],
   "source": [
    "v_test"
   ]
  },
  {
   "cell_type": "code",
   "execution_count": 95,
   "metadata": {},
   "outputs": [],
   "source": [
    "for v in v_test:\n",
    "    dftrain.drop(v, axis=1, inplace=True)"
   ]
  },
  {
   "cell_type": "code",
   "execution_count": 96,
   "metadata": {},
   "outputs": [],
   "source": [
    "dftrain.drop('condition_2', axis = 1, inplace = True)"
   ]
  },
  {
   "cell_type": "code",
   "execution_count": 97,
   "metadata": {
    "scrolled": true
   },
   "outputs": [
    {
     "name": "stdout",
     "output_type": "stream",
     "text": [
      "<class 'pandas.core.frame.DataFrame'>\n",
      "Int64Index: 11488 entries, 1998 to 5485\n",
      "Data columns (total 13 columns):\n",
      "bedrooms                              11488 non-null int64\n",
      "bathrooms                             11488 non-null float64\n",
      "sqft_living                           11488 non-null int64\n",
      "sqft_lot                              11488 non-null int64\n",
      "floors                                11488 non-null float64\n",
      "yr_built                              11488 non-null int64\n",
      "has_renovated                         11488 non-null int32\n",
      "has_basement                          11488 non-null int32\n",
      "grade_11                              11488 non-null int32\n",
      "zipcode_type_cheap_low_volume         11488 non-null int32\n",
      "zipcode_type_expensive_high_volume    11488 non-null int32\n",
      "zipcode_type_expensive_low_volume     11488 non-null int32\n",
      "price                                 11488 non-null int32\n",
      "dtypes: float64(2), int32(7), int64(4)\n",
      "memory usage: 942.4 KB\n"
     ]
    }
   ],
   "source": [
    "dftrain.info()"
   ]
  },
  {
   "cell_type": "markdown",
   "metadata": {},
   "source": [
    "### Train-Test Split"
   ]
  },
  {
   "cell_type": "code",
   "execution_count": 98,
   "metadata": {},
   "outputs": [],
   "source": [
    "y = dftrain[['price']]\n",
    "X = dftrain.drop(['price'], axis=1)\n",
    "\n",
    "X_train, X_test, y_train, y_test = train_test_split(X, y, test_size = 0.2, random_state = (123))"
   ]
  },
  {
   "cell_type": "code",
   "execution_count": 99,
   "metadata": {},
   "outputs": [],
   "source": [
    "linreg.fit(X_train, y_train)\n",
    "\n",
    "y_hat_train = linreg.predict(X_train)\n",
    "y_hat_test = linreg.predict(X_test)"
   ]
  },
  {
   "cell_type": "code",
   "execution_count": 100,
   "metadata": {},
   "outputs": [],
   "source": [
    "rmse_train = np.sqrt(mean_squared_error(y_train, y_hat_train))\n",
    "rmse_test = np.sqrt(mean_squared_error(y_test, y_hat_test))"
   ]
  },
  {
   "cell_type": "code",
   "execution_count": 101,
   "metadata": {},
   "outputs": [
    {
     "name": "stdout",
     "output_type": "stream",
     "text": [
      "RMSE Train: 86615.56\n",
      "RMSE Test: 86249.23\n"
     ]
    }
   ],
   "source": [
    "print(\"RMSE Train:\", round(rmse_train, 2))\n",
    "print(\"RMSE Test:\", round(rmse_test, 2))"
   ]
  },
  {
   "cell_type": "markdown",
   "metadata": {},
   "source": [
    "### model"
   ]
  },
  {
   "cell_type": "code",
   "execution_count": 102,
   "metadata": {
    "scrolled": true
   },
   "outputs": [
    {
     "data": {
      "text/html": [
       "<table class=\"simpletable\">\n",
       "<caption>OLS Regression Results</caption>\n",
       "<tr>\n",
       "  <th>Dep. Variable:</th>          <td>price</td>      <th>  R-squared:         </th>  <td>   0.607</td>  \n",
       "</tr>\n",
       "<tr>\n",
       "  <th>Model:</th>                   <td>OLS</td>       <th>  Adj. R-squared:    </th>  <td>   0.606</td>  \n",
       "</tr>\n",
       "<tr>\n",
       "  <th>Method:</th>             <td>Least Squares</td>  <th>  F-statistic:       </th>  <td>   1476.</td>  \n",
       "</tr>\n",
       "<tr>\n",
       "  <th>Date:</th>             <td>Sat, 21 Nov 2020</td> <th>  Prob (F-statistic):</th>   <td>  0.00</td>   \n",
       "</tr>\n",
       "<tr>\n",
       "  <th>Time:</th>                 <td>13:56:24</td>     <th>  Log-Likelihood:    </th> <td>-1.4690e+05</td>\n",
       "</tr>\n",
       "<tr>\n",
       "  <th>No. Observations:</th>      <td> 11488</td>      <th>  AIC:               </th>  <td>2.938e+05</td> \n",
       "</tr>\n",
       "<tr>\n",
       "  <th>Df Residuals:</th>          <td> 11475</td>      <th>  BIC:               </th>  <td>2.939e+05</td> \n",
       "</tr>\n",
       "<tr>\n",
       "  <th>Df Model:</th>              <td>    12</td>      <th>                     </th>      <td> </td>     \n",
       "</tr>\n",
       "<tr>\n",
       "  <th>Covariance Type:</th>      <td>nonrobust</td>    <th>                     </th>      <td> </td>     \n",
       "</tr>\n",
       "</table>\n",
       "<table class=\"simpletable\">\n",
       "<tr>\n",
       "                   <td></td>                     <th>coef</th>     <th>std err</th>      <th>t</th>      <th>P>|t|</th>  <th>[0.025</th>    <th>0.975]</th>  \n",
       "</tr>\n",
       "<tr>\n",
       "  <th>Intercept</th>                          <td> 2.005e+06</td> <td> 7.54e+04</td> <td>   26.598</td> <td> 0.000</td> <td> 1.86e+06</td> <td> 2.15e+06</td>\n",
       "</tr>\n",
       "<tr>\n",
       "  <th>bedrooms</th>                           <td>-1.119e+04</td> <td> 1279.875</td> <td>   -8.746</td> <td> 0.000</td> <td>-1.37e+04</td> <td>-8685.536</td>\n",
       "</tr>\n",
       "<tr>\n",
       "  <th>bathrooms</th>                          <td> 1.662e+04</td> <td> 2123.229</td> <td>    7.828</td> <td> 0.000</td> <td> 1.25e+04</td> <td> 2.08e+04</td>\n",
       "</tr>\n",
       "<tr>\n",
       "  <th>sqft_living</th>                        <td>  111.9687</td> <td>    2.195</td> <td>   51.014</td> <td> 0.000</td> <td>  107.666</td> <td>  116.271</td>\n",
       "</tr>\n",
       "<tr>\n",
       "  <th>sqft_lot</th>                           <td>   -2.5764</td> <td>    0.358</td> <td>   -7.193</td> <td> 0.000</td> <td>   -3.279</td> <td>   -1.874</td>\n",
       "</tr>\n",
       "<tr>\n",
       "  <th>floors</th>                             <td> 1.602e+04</td> <td> 2373.628</td> <td>    6.751</td> <td> 0.000</td> <td> 1.14e+04</td> <td> 2.07e+04</td>\n",
       "</tr>\n",
       "<tr>\n",
       "  <th>yr_built</th>                           <td> -935.6939</td> <td>   39.233</td> <td>  -23.850</td> <td> 0.000</td> <td>-1012.596</td> <td> -858.791</td>\n",
       "</tr>\n",
       "<tr>\n",
       "  <th>has_renovated</th>                      <td>-5855.1541</td> <td> 5466.413</td> <td>   -1.071</td> <td> 0.284</td> <td>-1.66e+04</td> <td> 4859.948</td>\n",
       "</tr>\n",
       "<tr>\n",
       "  <th>has_basement</th>                       <td> 9661.5333</td> <td> 1992.235</td> <td>    4.850</td> <td> 0.000</td> <td> 5756.413</td> <td> 1.36e+04</td>\n",
       "</tr>\n",
       "<tr>\n",
       "  <th>grade_11</th>                           <td>-1.221e+04</td> <td> 6.13e+04</td> <td>   -0.199</td> <td> 0.842</td> <td>-1.32e+05</td> <td> 1.08e+05</td>\n",
       "</tr>\n",
       "<tr>\n",
       "  <th>zipcode_type_cheap_low_volume</th>      <td>-3.092e+04</td> <td> 2057.769</td> <td>  -15.024</td> <td> 0.000</td> <td>-3.49e+04</td> <td>-2.69e+04</td>\n",
       "</tr>\n",
       "<tr>\n",
       "  <th>zipcode_type_expensive_high_volume</th> <td> 1.466e+05</td> <td> 3002.494</td> <td>   48.838</td> <td> 0.000</td> <td> 1.41e+05</td> <td> 1.53e+05</td>\n",
       "</tr>\n",
       "<tr>\n",
       "  <th>zipcode_type_expensive_low_volume</th>  <td>  1.46e+05</td> <td> 2248.098</td> <td>   64.964</td> <td> 0.000</td> <td> 1.42e+05</td> <td>  1.5e+05</td>\n",
       "</tr>\n",
       "</table>\n",
       "<table class=\"simpletable\">\n",
       "<tr>\n",
       "  <th>Omnibus:</th>       <td>274.635</td> <th>  Durbin-Watson:     </th> <td>   1.977</td>\n",
       "</tr>\n",
       "<tr>\n",
       "  <th>Prob(Omnibus):</th> <td> 0.000</td>  <th>  Jarque-Bera (JB):  </th> <td> 303.182</td>\n",
       "</tr>\n",
       "<tr>\n",
       "  <th>Skew:</th>          <td> 0.359</td>  <th>  Prob(JB):          </th> <td>1.46e-66</td>\n",
       "</tr>\n",
       "<tr>\n",
       "  <th>Kurtosis:</th>      <td> 3.343</td>  <th>  Cond. No.          </th> <td>7.21e+05</td>\n",
       "</tr>\n",
       "</table><br/><br/>Warnings:<br/>[1] Standard Errors assume that the covariance matrix of the errors is correctly specified.<br/>[2] The condition number is large, 7.21e+05. This might indicate that there are<br/>strong multicollinearity or other numerical problems."
      ],
      "text/plain": [
       "<class 'statsmodels.iolib.summary.Summary'>\n",
       "\"\"\"\n",
       "                            OLS Regression Results                            \n",
       "==============================================================================\n",
       "Dep. Variable:                  price   R-squared:                       0.607\n",
       "Model:                            OLS   Adj. R-squared:                  0.606\n",
       "Method:                 Least Squares   F-statistic:                     1476.\n",
       "Date:                Sat, 21 Nov 2020   Prob (F-statistic):               0.00\n",
       "Time:                        13:56:24   Log-Likelihood:            -1.4690e+05\n",
       "No. Observations:               11488   AIC:                         2.938e+05\n",
       "Df Residuals:                   11475   BIC:                         2.939e+05\n",
       "Df Model:                          12                                         \n",
       "Covariance Type:            nonrobust                                         \n",
       "======================================================================================================\n",
       "                                         coef    std err          t      P>|t|      [0.025      0.975]\n",
       "------------------------------------------------------------------------------------------------------\n",
       "Intercept                           2.005e+06   7.54e+04     26.598      0.000    1.86e+06    2.15e+06\n",
       "bedrooms                           -1.119e+04   1279.875     -8.746      0.000   -1.37e+04   -8685.536\n",
       "bathrooms                           1.662e+04   2123.229      7.828      0.000    1.25e+04    2.08e+04\n",
       "sqft_living                          111.9687      2.195     51.014      0.000     107.666     116.271\n",
       "sqft_lot                              -2.5764      0.358     -7.193      0.000      -3.279      -1.874\n",
       "floors                              1.602e+04   2373.628      6.751      0.000    1.14e+04    2.07e+04\n",
       "yr_built                            -935.6939     39.233    -23.850      0.000   -1012.596    -858.791\n",
       "has_renovated                      -5855.1541   5466.413     -1.071      0.284   -1.66e+04    4859.948\n",
       "has_basement                        9661.5333   1992.235      4.850      0.000    5756.413    1.36e+04\n",
       "grade_11                           -1.221e+04   6.13e+04     -0.199      0.842   -1.32e+05    1.08e+05\n",
       "zipcode_type_cheap_low_volume      -3.092e+04   2057.769    -15.024      0.000   -3.49e+04   -2.69e+04\n",
       "zipcode_type_expensive_high_volume  1.466e+05   3002.494     48.838      0.000    1.41e+05    1.53e+05\n",
       "zipcode_type_expensive_low_volume    1.46e+05   2248.098     64.964      0.000    1.42e+05     1.5e+05\n",
       "==============================================================================\n",
       "Omnibus:                      274.635   Durbin-Watson:                   1.977\n",
       "Prob(Omnibus):                  0.000   Jarque-Bera (JB):              303.182\n",
       "Skew:                           0.359   Prob(JB):                     1.46e-66\n",
       "Kurtosis:                       3.343   Cond. No.                     7.21e+05\n",
       "==============================================================================\n",
       "\n",
       "Warnings:\n",
       "[1] Standard Errors assume that the covariance matrix of the errors is correctly specified.\n",
       "[2] The condition number is large, 7.21e+05. This might indicate that there are\n",
       "strong multicollinearity or other numerical problems.\n",
       "\"\"\""
      ]
     },
     "execution_count": 102,
     "metadata": {},
     "output_type": "execute_result"
    }
   ],
   "source": [
    "updf_b = dftrain.drop(['price'], axis=1)\n",
    "predictors = '+'.join(updf_b.columns)\n",
    "formula = outcome + '~' + predictors\n",
    "model = ols(formula=formula, data = dftrain).fit()\n",
    "model.summary()"
   ]
  },
  {
   "cell_type": "markdown",
   "metadata": {},
   "source": [
    "### QQ Plot"
   ]
  },
  {
   "cell_type": "code",
   "execution_count": 103,
   "metadata": {
    "scrolled": true
   },
   "outputs": [
    {
     "data": {
      "image/png": "[encoded data removed]",
      "text/plain": [
       "<Figure size 432x288 with 1 Axes>"
      ]
     },
     "metadata": {},
     "output_type": "display_data"
    }
   ],
   "source": [
    "fig = sm.graphics.qqplot(model.resid, dist=stats.norm, line='45', fit=True)"
   ]
  },
  {
   "cell_type": "markdown",
   "metadata": {},
   "source": [
    "### Homoscedasticity"
   ]
  },
  {
   "cell_type": "code",
   "execution_count": 104,
   "metadata": {
    "scrolled": true
   },
   "outputs": [
    {
     "data": {
      "image/png": "[encoded data removed]",
      "text/plain": [
       "<Figure size 432x288 with 1 Axes>"
      ]
     },
     "metadata": {},
     "output_type": "display_data"
    }
   ],
   "source": [
    "plt.scatter(model.predict(dftrain[updf_b.columns]), model.resid)\n",
    "plt.plot(model.predict(dftrain[updf_b.columns]), [0 for i in range(len(dftrain))]);"
   ]
  },
  {
   "cell_type": "markdown",
   "metadata": {},
   "source": [
    "## Third Model - P_Values"
   ]
  },
  {
   "cell_type": "markdown",
   "metadata": {},
   "source": [
    "### finding and fixing high p_values"
   ]
  },
  {
   "cell_type": "code",
   "execution_count": 105,
   "metadata": {},
   "outputs": [],
   "source": [
    "# finding the high p values\n",
    "summary = model.summary()\n",
    "p_table = summary.tables[1]\n",
    "p_table = pd.DataFrame(p_table.data)\n",
    "p_table.columns = p_table.iloc[0]\n",
    "p_table = p_table.drop(0)\n",
    "p_table = p_table.set_index(p_table.columns[0])\n",
    "p_table['P>|t|'] = p_table['P>|t|'].astype(float)"
   ]
  },
  {
   "cell_type": "code",
   "execution_count": 106,
   "metadata": {},
   "outputs": [
    {
     "name": "stdout",
     "output_type": "stream",
     "text": [
      "Our high p_values columns: ['has_renovated', 'grade_11']\n"
     ]
    }
   ],
   "source": [
    "#showing the high p values\n",
    "high_p_values = list(p_table[p_table['P>|t|'] >= 0.05].index)\n",
    "print(\"Our high p_values columns:\", high_p_values)"
   ]
  },
  {
   "cell_type": "code",
   "execution_count": 107,
   "metadata": {},
   "outputs": [],
   "source": [
    "# leaving the high p values out.\n",
    "x_cols = list(p_table[p_table['P>|t|'] < 0.05].index)\n",
    "x_cols.remove('Intercept')"
   ]
  },
  {
   "cell_type": "markdown",
   "metadata": {},
   "source": [
    "### Train-Test Split"
   ]
  },
  {
   "cell_type": "code",
   "execution_count": 108,
   "metadata": {},
   "outputs": [],
   "source": [
    "y = dftrain[['price']]\n",
    "X = dftrain[x_cols]\n",
    "\n",
    "X_train, X_test, y_train, y_test = train_test_split(X, y, test_size = 0.2, random_state = (123))"
   ]
  },
  {
   "cell_type": "code",
   "execution_count": 109,
   "metadata": {},
   "outputs": [],
   "source": [
    "linreg.fit(X_train, y_train)\n",
    "\n",
    "y_hat_train = linreg.predict(X_train)\n",
    "y_hat_test = linreg.predict(X_test)"
   ]
  },
  {
   "cell_type": "code",
   "execution_count": 110,
   "metadata": {},
   "outputs": [],
   "source": [
    "rmse_train = np.sqrt(mean_squared_error(y_train, y_hat_train))\n",
    "rmse_test = np.sqrt(mean_squared_error(y_test, y_hat_test))"
   ]
  },
  {
   "cell_type": "code",
   "execution_count": 111,
   "metadata": {},
   "outputs": [
    {
     "name": "stdout",
     "output_type": "stream",
     "text": [
      "RMSE Train: 86616.27\n",
      "RMSE Test: 86260.55\n"
     ]
    }
   ],
   "source": [
    "print(\"RMSE Train:\", round(rmse_train, 2))\n",
    "print(\"RMSE Test:\", round(rmse_test, 2))"
   ]
  },
  {
   "cell_type": "markdown",
   "metadata": {},
   "source": [
    "### model"
   ]
  },
  {
   "cell_type": "code",
   "execution_count": 112,
   "metadata": {
    "scrolled": false
   },
   "outputs": [
    {
     "data": {
      "text/html": [
       "<table class=\"simpletable\">\n",
       "<caption>OLS Regression Results</caption>\n",
       "<tr>\n",
       "  <th>Dep. Variable:</th>          <td>price</td>      <th>  R-squared:         </th>  <td>   0.607</td>  \n",
       "</tr>\n",
       "<tr>\n",
       "  <th>Model:</th>                   <td>OLS</td>       <th>  Adj. R-squared:    </th>  <td>   0.607</td>  \n",
       "</tr>\n",
       "<tr>\n",
       "  <th>Method:</th>             <td>Least Squares</td>  <th>  F-statistic:       </th>  <td>   1771.</td>  \n",
       "</tr>\n",
       "<tr>\n",
       "  <th>Date:</th>             <td>Sat, 21 Nov 2020</td> <th>  Prob (F-statistic):</th>   <td>  0.00</td>   \n",
       "</tr>\n",
       "<tr>\n",
       "  <th>Time:</th>                 <td>13:56:25</td>     <th>  Log-Likelihood:    </th> <td>-1.4690e+05</td>\n",
       "</tr>\n",
       "<tr>\n",
       "  <th>No. Observations:</th>      <td> 11488</td>      <th>  AIC:               </th>  <td>2.938e+05</td> \n",
       "</tr>\n",
       "<tr>\n",
       "  <th>Df Residuals:</th>          <td> 11477</td>      <th>  BIC:               </th>  <td>2.939e+05</td> \n",
       "</tr>\n",
       "<tr>\n",
       "  <th>Df Model:</th>              <td>    10</td>      <th>                     </th>      <td> </td>     \n",
       "</tr>\n",
       "<tr>\n",
       "  <th>Covariance Type:</th>      <td>nonrobust</td>    <th>                     </th>      <td> </td>     \n",
       "</tr>\n",
       "</table>\n",
       "<table class=\"simpletable\">\n",
       "<tr>\n",
       "                   <td></td>                     <th>coef</th>     <th>std err</th>      <th>t</th>      <th>P>|t|</th>  <th>[0.025</th>    <th>0.975]</th>  \n",
       "</tr>\n",
       "<tr>\n",
       "  <th>Intercept</th>                          <td> 1.986e+06</td> <td> 7.33e+04</td> <td>   27.097</td> <td> 0.000</td> <td> 1.84e+06</td> <td> 2.13e+06</td>\n",
       "</tr>\n",
       "<tr>\n",
       "  <th>bedrooms</th>                           <td>-1.115e+04</td> <td> 1279.133</td> <td>   -8.716</td> <td> 0.000</td> <td>-1.37e+04</td> <td>-8641.445</td>\n",
       "</tr>\n",
       "<tr>\n",
       "  <th>bathrooms</th>                          <td> 1.642e+04</td> <td> 2114.840</td> <td>    7.765</td> <td> 0.000</td> <td> 1.23e+04</td> <td> 2.06e+04</td>\n",
       "</tr>\n",
       "<tr>\n",
       "  <th>sqft_living</th>                        <td>  111.9262</td> <td>    2.193</td> <td>   51.030</td> <td> 0.000</td> <td>  107.627</td> <td>  116.226</td>\n",
       "</tr>\n",
       "<tr>\n",
       "  <th>sqft_lot</th>                           <td>   -2.5744</td> <td>    0.358</td> <td>   -7.189</td> <td> 0.000</td> <td>   -3.276</td> <td>   -1.872</td>\n",
       "</tr>\n",
       "<tr>\n",
       "  <th>floors</th>                             <td>  1.59e+04</td> <td> 2370.954</td> <td>    6.707</td> <td> 0.000</td> <td> 1.13e+04</td> <td> 2.06e+04</td>\n",
       "</tr>\n",
       "<tr>\n",
       "  <th>yr_built</th>                           <td> -925.9454</td> <td>   38.168</td> <td>  -24.259</td> <td> 0.000</td> <td>-1000.762</td> <td> -851.129</td>\n",
       "</tr>\n",
       "<tr>\n",
       "  <th>has_basement</th>                       <td> 9725.5241</td> <td> 1991.254</td> <td>    4.884</td> <td> 0.000</td> <td> 5822.326</td> <td> 1.36e+04</td>\n",
       "</tr>\n",
       "<tr>\n",
       "  <th>zipcode_type_cheap_low_volume</th>      <td>-3.094e+04</td> <td> 2057.567</td> <td>  -15.037</td> <td> 0.000</td> <td> -3.5e+04</td> <td>-2.69e+04</td>\n",
       "</tr>\n",
       "<tr>\n",
       "  <th>zipcode_type_expensive_high_volume</th> <td> 1.467e+05</td> <td> 3001.304</td> <td>   48.886</td> <td> 0.000</td> <td> 1.41e+05</td> <td> 1.53e+05</td>\n",
       "</tr>\n",
       "<tr>\n",
       "  <th>zipcode_type_expensive_low_volume</th>  <td>  1.46e+05</td> <td> 2247.964</td> <td>   64.968</td> <td> 0.000</td> <td> 1.42e+05</td> <td>  1.5e+05</td>\n",
       "</tr>\n",
       "</table>\n",
       "<table class=\"simpletable\">\n",
       "<tr>\n",
       "  <th>Omnibus:</th>       <td>274.583</td> <th>  Durbin-Watson:     </th> <td>   1.977</td>\n",
       "</tr>\n",
       "<tr>\n",
       "  <th>Prob(Omnibus):</th> <td> 0.000</td>  <th>  Jarque-Bera (JB):  </th> <td> 303.183</td>\n",
       "</tr>\n",
       "<tr>\n",
       "  <th>Skew:</th>          <td> 0.359</td>  <th>  Prob(JB):          </th> <td>1.46e-66</td>\n",
       "</tr>\n",
       "<tr>\n",
       "  <th>Kurtosis:</th>      <td> 3.344</td>  <th>  Cond. No.          </th> <td>7.01e+05</td>\n",
       "</tr>\n",
       "</table><br/><br/>Warnings:<br/>[1] Standard Errors assume that the covariance matrix of the errors is correctly specified.<br/>[2] The condition number is large, 7.01e+05. This might indicate that there are<br/>strong multicollinearity or other numerical problems."
      ],
      "text/plain": [
       "<class 'statsmodels.iolib.summary.Summary'>\n",
       "\"\"\"\n",
       "                            OLS Regression Results                            \n",
       "==============================================================================\n",
       "Dep. Variable:                  price   R-squared:                       0.607\n",
       "Model:                            OLS   Adj. R-squared:                  0.607\n",
       "Method:                 Least Squares   F-statistic:                     1771.\n",
       "Date:                Sat, 21 Nov 2020   Prob (F-statistic):               0.00\n",
       "Time:                        13:56:25   Log-Likelihood:            -1.4690e+05\n",
       "No. Observations:               11488   AIC:                         2.938e+05\n",
       "Df Residuals:                   11477   BIC:                         2.939e+05\n",
       "Df Model:                          10                                         \n",
       "Covariance Type:            nonrobust                                         \n",
       "======================================================================================================\n",
       "                                         coef    std err          t      P>|t|      [0.025      0.975]\n",
       "------------------------------------------------------------------------------------------------------\n",
       "Intercept                           1.986e+06   7.33e+04     27.097      0.000    1.84e+06    2.13e+06\n",
       "bedrooms                           -1.115e+04   1279.133     -8.716      0.000   -1.37e+04   -8641.445\n",
       "bathrooms                           1.642e+04   2114.840      7.765      0.000    1.23e+04    2.06e+04\n",
       "sqft_living                          111.9262      2.193     51.030      0.000     107.627     116.226\n",
       "sqft_lot                              -2.5744      0.358     -7.189      0.000      -3.276      -1.872\n",
       "floors                               1.59e+04   2370.954      6.707      0.000    1.13e+04    2.06e+04\n",
       "yr_built                            -925.9454     38.168    -24.259      0.000   -1000.762    -851.129\n",
       "has_basement                        9725.5241   1991.254      4.884      0.000    5822.326    1.36e+04\n",
       "zipcode_type_cheap_low_volume      -3.094e+04   2057.567    -15.037      0.000    -3.5e+04   -2.69e+04\n",
       "zipcode_type_expensive_high_volume  1.467e+05   3001.304     48.886      0.000    1.41e+05    1.53e+05\n",
       "zipcode_type_expensive_low_volume    1.46e+05   2247.964     64.968      0.000    1.42e+05     1.5e+05\n",
       "==============================================================================\n",
       "Omnibus:                      274.583   Durbin-Watson:                   1.977\n",
       "Prob(Omnibus):                  0.000   Jarque-Bera (JB):              303.183\n",
       "Skew:                           0.359   Prob(JB):                     1.46e-66\n",
       "Kurtosis:                       3.344   Cond. No.                     7.01e+05\n",
       "==============================================================================\n",
       "\n",
       "Warnings:\n",
       "[1] Standard Errors assume that the covariance matrix of the errors is correctly specified.\n",
       "[2] The condition number is large, 7.01e+05. This might indicate that there are\n",
       "strong multicollinearity or other numerical problems.\n",
       "\"\"\""
      ]
     },
     "execution_count": 112,
     "metadata": {},
     "output_type": "execute_result"
    }
   ],
   "source": [
    "predictors = '+'.join(x_cols)\n",
    "formula = outcome + '~' + predictors\n",
    "model = ols(formula=formula, data = dftrain).fit()\n",
    "model.summary()"
   ]
  },
  {
   "cell_type": "markdown",
   "metadata": {},
   "source": [
    "### QQ plot"
   ]
  },
  {
   "cell_type": "code",
   "execution_count": 113,
   "metadata": {
    "scrolled": false
   },
   "outputs": [
    {
     "data": {
      "image/png": "[encoded data removed]",
      "text/plain": [
       "<Figure size 432x288 with 1 Axes>"
      ]
     },
     "metadata": {},
     "output_type": "display_data"
    }
   ],
   "source": [
    "fig = sm.graphics.qqplot(model.resid, dist=stats.norm, line='45', fit=True)"
   ]
  },
  {
   "cell_type": "markdown",
   "metadata": {
    "code_folding": []
   },
   "source": [
    "### Homoscedasiticity"
   ]
  },
  {
   "cell_type": "code",
   "execution_count": 114,
   "metadata": {},
   "outputs": [
    {
     "data": {
      "image/png": "[encoded data removed]",
      "text/plain": [
       "<Figure size 432x288 with 1 Axes>"
      ]
     },
     "metadata": {},
     "output_type": "display_data"
    }
   ],
   "source": [
    "plt.scatter(model.predict(dftrain[x_cols]), model.resid)\n",
    "plt.plot(model.predict(dftrain[x_cols]), [0 for i in range(len(dftrain))]);"
   ]
  },
  {
   "cell_type": "markdown",
   "metadata": {},
   "source": [
    "## Fourth Model  - Transformation"
   ]
  },
  {
   "cell_type": "markdown",
   "metadata": {},
   "source": [
    "### adding log values to 'continuous' columns"
   ]
  },
  {
   "cell_type": "code",
   "execution_count": 115,
   "metadata": {
    "scrolled": true
   },
   "outputs": [
    {
     "data": {
      "image/png": "[encoded data removed]",
      "text/plain": [
       "<Figure size 432x288 with 1 Axes>"
      ]
     },
     "metadata": {},
     "output_type": "display_data"
    }
   ],
   "source": [
    "cont = ['sqft_living','sqft_lot']\n",
    "\n",
    "sns.histplot(data = dftrain, x = 'sqft_living');"
   ]
  },
  {
   "cell_type": "code",
   "execution_count": 116,
   "metadata": {},
   "outputs": [
    {
     "data": {
      "image/png": "[encoded data removed]",
      "text/plain": [
       "<Figure size 432x288 with 1 Axes>"
      ]
     },
     "metadata": {},
     "output_type": "display_data"
    }
   ],
   "source": [
    "sns.histplot(data = dftrain, x = 'sqft_lot');"
   ]
  },
  {
   "cell_type": "code",
   "execution_count": 117,
   "metadata": {},
   "outputs": [],
   "source": [
    "dfcont = dftrain[cont]\n",
    "log_names = [f'{column}_log' for column in dfcont.columns]\n",
    "\n",
    "df_log = np.log(dfcont)\n",
    "df_log.columns = log_names\n",
    "\n",
    "for col in df_log:\n",
    "    dftrain[col] = df_log[col]"
   ]
  },
  {
   "cell_type": "code",
   "execution_count": 118,
   "metadata": {
    "scrolled": true
   },
   "outputs": [
    {
     "data": {
      "text/html": [
       "<div>\n",
       "<style scoped>\n",
       "    .dataframe tbody tr th:only-of-type {\n",
       "        vertical-align: middle;\n",
       "    }\n",
       "\n",
       "    .dataframe tbody tr th {\n",
       "        vertical-align: top;\n",
       "    }\n",
       "\n",
       "    .dataframe thead th {\n",
       "        text-align: right;\n",
       "    }\n",
       "</style>\n",
       "<table border=\"1\" class=\"dataframe\">\n",
       "  <thead>\n",
       "    <tr style=\"text-align: right;\">\n",
       "      <th></th>\n",
       "      <th>bedrooms</th>\n",
       "      <th>bathrooms</th>\n",
       "      <th>sqft_living</th>\n",
       "      <th>sqft_lot</th>\n",
       "      <th>floors</th>\n",
       "      <th>yr_built</th>\n",
       "      <th>has_renovated</th>\n",
       "      <th>has_basement</th>\n",
       "      <th>grade_11</th>\n",
       "      <th>zipcode_type_cheap_low_volume</th>\n",
       "      <th>zipcode_type_expensive_high_volume</th>\n",
       "      <th>zipcode_type_expensive_low_volume</th>\n",
       "      <th>price</th>\n",
       "      <th>sqft_living_log</th>\n",
       "      <th>sqft_lot_log</th>\n",
       "    </tr>\n",
       "  </thead>\n",
       "  <tbody>\n",
       "    <tr>\n",
       "      <th>1998</th>\n",
       "      <td>2</td>\n",
       "      <td>1.00</td>\n",
       "      <td>1010</td>\n",
       "      <td>3400</td>\n",
       "      <td>1.0</td>\n",
       "      <td>1921</td>\n",
       "      <td>0</td>\n",
       "      <td>0</td>\n",
       "      <td>0</td>\n",
       "      <td>0</td>\n",
       "      <td>1</td>\n",
       "      <td>0</td>\n",
       "      <td>470450</td>\n",
       "      <td>6.917706</td>\n",
       "      <td>8.131531</td>\n",
       "    </tr>\n",
       "    <tr>\n",
       "      <th>3901</th>\n",
       "      <td>3</td>\n",
       "      <td>2.25</td>\n",
       "      <td>2180</td>\n",
       "      <td>6850</td>\n",
       "      <td>1.0</td>\n",
       "      <td>1973</td>\n",
       "      <td>0</td>\n",
       "      <td>1</td>\n",
       "      <td>0</td>\n",
       "      <td>0</td>\n",
       "      <td>0</td>\n",
       "      <td>0</td>\n",
       "      <td>455000</td>\n",
       "      <td>7.687080</td>\n",
       "      <td>8.832004</td>\n",
       "    </tr>\n",
       "    <tr>\n",
       "      <th>16960</th>\n",
       "      <td>3</td>\n",
       "      <td>2.50</td>\n",
       "      <td>2040</td>\n",
       "      <td>4627</td>\n",
       "      <td>2.0</td>\n",
       "      <td>1992</td>\n",
       "      <td>0</td>\n",
       "      <td>0</td>\n",
       "      <td>0</td>\n",
       "      <td>0</td>\n",
       "      <td>1</td>\n",
       "      <td>0</td>\n",
       "      <td>580000</td>\n",
       "      <td>7.620705</td>\n",
       "      <td>8.439664</td>\n",
       "    </tr>\n",
       "    <tr>\n",
       "      <th>1968</th>\n",
       "      <td>4</td>\n",
       "      <td>2.00</td>\n",
       "      <td>1770</td>\n",
       "      <td>8890</td>\n",
       "      <td>1.0</td>\n",
       "      <td>1949</td>\n",
       "      <td>0</td>\n",
       "      <td>0</td>\n",
       "      <td>0</td>\n",
       "      <td>1</td>\n",
       "      <td>0</td>\n",
       "      <td>0</td>\n",
       "      <td>355000</td>\n",
       "      <td>7.478735</td>\n",
       "      <td>9.092682</td>\n",
       "    </tr>\n",
       "    <tr>\n",
       "      <th>824</th>\n",
       "      <td>3</td>\n",
       "      <td>1.00</td>\n",
       "      <td>1810</td>\n",
       "      <td>7200</td>\n",
       "      <td>1.0</td>\n",
       "      <td>1954</td>\n",
       "      <td>0</td>\n",
       "      <td>1</td>\n",
       "      <td>0</td>\n",
       "      <td>0</td>\n",
       "      <td>0</td>\n",
       "      <td>0</td>\n",
       "      <td>431000</td>\n",
       "      <td>7.501082</td>\n",
       "      <td>8.881836</td>\n",
       "    </tr>\n",
       "    <tr>\n",
       "      <th>...</th>\n",
       "      <td>...</td>\n",
       "      <td>...</td>\n",
       "      <td>...</td>\n",
       "      <td>...</td>\n",
       "      <td>...</td>\n",
       "      <td>...</td>\n",
       "      <td>...</td>\n",
       "      <td>...</td>\n",
       "      <td>...</td>\n",
       "      <td>...</td>\n",
       "      <td>...</td>\n",
       "      <td>...</td>\n",
       "      <td>...</td>\n",
       "      <td>...</td>\n",
       "      <td>...</td>\n",
       "    </tr>\n",
       "    <tr>\n",
       "      <th>7919</th>\n",
       "      <td>3</td>\n",
       "      <td>1.75</td>\n",
       "      <td>1660</td>\n",
       "      <td>8303</td>\n",
       "      <td>1.0</td>\n",
       "      <td>1974</td>\n",
       "      <td>0</td>\n",
       "      <td>1</td>\n",
       "      <td>0</td>\n",
       "      <td>0</td>\n",
       "      <td>0</td>\n",
       "      <td>0</td>\n",
       "      <td>279950</td>\n",
       "      <td>7.414573</td>\n",
       "      <td>9.024372</td>\n",
       "    </tr>\n",
       "    <tr>\n",
       "      <th>18551</th>\n",
       "      <td>3</td>\n",
       "      <td>1.00</td>\n",
       "      <td>1220</td>\n",
       "      <td>6719</td>\n",
       "      <td>1.0</td>\n",
       "      <td>1953</td>\n",
       "      <td>0</td>\n",
       "      <td>0</td>\n",
       "      <td>0</td>\n",
       "      <td>1</td>\n",
       "      <td>0</td>\n",
       "      <td>0</td>\n",
       "      <td>196000</td>\n",
       "      <td>7.106606</td>\n",
       "      <td>8.812695</td>\n",
       "    </tr>\n",
       "    <tr>\n",
       "      <th>2034</th>\n",
       "      <td>3</td>\n",
       "      <td>2.00</td>\n",
       "      <td>2520</td>\n",
       "      <td>5980</td>\n",
       "      <td>1.0</td>\n",
       "      <td>1957</td>\n",
       "      <td>0</td>\n",
       "      <td>1</td>\n",
       "      <td>0</td>\n",
       "      <td>0</td>\n",
       "      <td>0</td>\n",
       "      <td>1</td>\n",
       "      <td>650000</td>\n",
       "      <td>7.832014</td>\n",
       "      <td>8.696176</td>\n",
       "    </tr>\n",
       "    <tr>\n",
       "      <th>17642</th>\n",
       "      <td>3</td>\n",
       "      <td>2.50</td>\n",
       "      <td>3040</td>\n",
       "      <td>7880</td>\n",
       "      <td>2.0</td>\n",
       "      <td>2004</td>\n",
       "      <td>0</td>\n",
       "      <td>0</td>\n",
       "      <td>0</td>\n",
       "      <td>0</td>\n",
       "      <td>0</td>\n",
       "      <td>0</td>\n",
       "      <td>598555</td>\n",
       "      <td>8.019613</td>\n",
       "      <td>8.972083</td>\n",
       "    </tr>\n",
       "    <tr>\n",
       "      <th>5485</th>\n",
       "      <td>3</td>\n",
       "      <td>1.00</td>\n",
       "      <td>1350</td>\n",
       "      <td>7553</td>\n",
       "      <td>1.5</td>\n",
       "      <td>1914</td>\n",
       "      <td>0</td>\n",
       "      <td>0</td>\n",
       "      <td>0</td>\n",
       "      <td>0</td>\n",
       "      <td>0</td>\n",
       "      <td>0</td>\n",
       "      <td>280000</td>\n",
       "      <td>7.207860</td>\n",
       "      <td>8.929700</td>\n",
       "    </tr>\n",
       "  </tbody>\n",
       "</table>\n",
       "<p>11488 rows × 15 columns</p>\n",
       "</div>"
      ],
      "text/plain": [
       "       bedrooms  bathrooms  sqft_living  sqft_lot  floors  yr_built  \\\n",
       "1998          2       1.00         1010      3400     1.0      1921   \n",
       "3901          3       2.25         2180      6850     1.0      1973   \n",
       "16960         3       2.50         2040      4627     2.0      1992   \n",
       "1968          4       2.00         1770      8890     1.0      1949   \n",
       "824           3       1.00         1810      7200     1.0      1954   \n",
       "...         ...        ...          ...       ...     ...       ...   \n",
       "7919          3       1.75         1660      8303     1.0      1974   \n",
       "18551         3       1.00         1220      6719     1.0      1953   \n",
       "2034          3       2.00         2520      5980     1.0      1957   \n",
       "17642         3       2.50         3040      7880     2.0      2004   \n",
       "5485          3       1.00         1350      7553     1.5      1914   \n",
       "\n",
       "       has_renovated  has_basement  grade_11  zipcode_type_cheap_low_volume  \\\n",
       "1998               0             0         0                              0   \n",
       "3901               0             1         0                              0   \n",
       "16960              0             0         0                              0   \n",
       "1968               0             0         0                              1   \n",
       "824                0             1         0                              0   \n",
       "...              ...           ...       ...                            ...   \n",
       "7919               0             1         0                              0   \n",
       "18551              0             0         0                              1   \n",
       "2034               0             1         0                              0   \n",
       "17642              0             0         0                              0   \n",
       "5485               0             0         0                              0   \n",
       "\n",
       "       zipcode_type_expensive_high_volume  zipcode_type_expensive_low_volume  \\\n",
       "1998                                    1                                  0   \n",
       "3901                                    0                                  0   \n",
       "16960                                   1                                  0   \n",
       "1968                                    0                                  0   \n",
       "824                                     0                                  0   \n",
       "...                                   ...                                ...   \n",
       "7919                                    0                                  0   \n",
       "18551                                   0                                  0   \n",
       "2034                                    0                                  1   \n",
       "17642                                   0                                  0   \n",
       "5485                                    0                                  0   \n",
       "\n",
       "        price  sqft_living_log  sqft_lot_log  \n",
       "1998   470450         6.917706      8.131531  \n",
       "3901   455000         7.687080      8.832004  \n",
       "16960  580000         7.620705      8.439664  \n",
       "1968   355000         7.478735      9.092682  \n",
       "824    431000         7.501082      8.881836  \n",
       "...       ...              ...           ...  \n",
       "7919   279950         7.414573      9.024372  \n",
       "18551  196000         7.106606      8.812695  \n",
       "2034   650000         7.832014      8.696176  \n",
       "17642  598555         8.019613      8.972083  \n",
       "5485   280000         7.207860      8.929700  \n",
       "\n",
       "[11488 rows x 15 columns]"
      ]
     },
     "execution_count": 118,
     "metadata": {},
     "output_type": "execute_result"
    }
   ],
   "source": [
    "dftrain"
   ]
  },
  {
   "cell_type": "code",
   "execution_count": 119,
   "metadata": {},
   "outputs": [
    {
     "data": {
      "image/png": "[encoded data removed]",
      "text/plain": [
       "<Figure size 432x288 with 1 Axes>"
      ]
     },
     "metadata": {},
     "output_type": "display_data"
    }
   ],
   "source": [
    "sns.histplot(data = dftrain, x = 'sqft_living_log');"
   ]
  },
  {
   "cell_type": "code",
   "execution_count": 120,
   "metadata": {
    "scrolled": true
   },
   "outputs": [
    {
     "data": {
      "image/png": "[encoded data removed]",
      "text/plain": [
       "<Figure size 432x288 with 1 Axes>"
      ]
     },
     "metadata": {},
     "output_type": "display_data"
    }
   ],
   "source": [
    "sns.histplot(data = dftrain, x = 'sqft_lot_log');"
   ]
  },
  {
   "cell_type": "code",
   "execution_count": 121,
   "metadata": {},
   "outputs": [],
   "source": [
    "x_cols.remove('sqft_living')\n",
    "#x_cols.remove('sqft_lot')\n",
    "\n",
    "x_cols.append('sqft_living_log')\n",
    "#x_cols.append('sqft_lot_log')"
   ]
  },
  {
   "cell_type": "markdown",
   "metadata": {},
   "source": [
    "### Train-Test Split"
   ]
  },
  {
   "cell_type": "code",
   "execution_count": 122,
   "metadata": {},
   "outputs": [],
   "source": [
    "y = dftrain[['price']]\n",
    "X = dftrain[x_cols]\n",
    "\n",
    "X_train, X_test, y_train, y_test = train_test_split(X, y, test_size = 0.2, random_state = (123))"
   ]
  },
  {
   "cell_type": "code",
   "execution_count": 123,
   "metadata": {},
   "outputs": [],
   "source": [
    "linreg.fit(X_train, y_train)\n",
    "\n",
    "y_hat_train = linreg.predict(X_train)\n",
    "y_hat_test = linreg.predict(X_test)"
   ]
  },
  {
   "cell_type": "code",
   "execution_count": 124,
   "metadata": {
    "scrolled": true
   },
   "outputs": [],
   "source": [
    "rmse_train = np.sqrt(mean_squared_error(y_train, y_hat_train))\n",
    "rmse_test = np.sqrt(mean_squared_error(y_test, y_hat_test))"
   ]
  },
  {
   "cell_type": "code",
   "execution_count": 125,
   "metadata": {},
   "outputs": [
    {
     "name": "stdout",
     "output_type": "stream",
     "text": [
      "RMSE Train: 87393.12\n",
      "RMSE Test: 86916.52\n"
     ]
    }
   ],
   "source": [
    "print(\"RMSE Train:\", round(rmse_train, 2))\n",
    "print(\"RMSE Test:\", round(rmse_test, 2))"
   ]
  },
  {
   "cell_type": "markdown",
   "metadata": {},
   "source": [
    "### model"
   ]
  },
  {
   "cell_type": "code",
   "execution_count": 126,
   "metadata": {
    "scrolled": false
   },
   "outputs": [
    {
     "data": {
      "text/html": [
       "<table class=\"simpletable\">\n",
       "<caption>OLS Regression Results</caption>\n",
       "<tr>\n",
       "  <th>Dep. Variable:</th>          <td>price</td>      <th>  R-squared:         </th>  <td>   0.600</td>  \n",
       "</tr>\n",
       "<tr>\n",
       "  <th>Model:</th>                   <td>OLS</td>       <th>  Adj. R-squared:    </th>  <td>   0.600</td>  \n",
       "</tr>\n",
       "<tr>\n",
       "  <th>Method:</th>             <td>Least Squares</td>  <th>  F-statistic:       </th>  <td>   1721.</td>  \n",
       "</tr>\n",
       "<tr>\n",
       "  <th>Date:</th>             <td>Sat, 21 Nov 2020</td> <th>  Prob (F-statistic):</th>   <td>  0.00</td>   \n",
       "</tr>\n",
       "<tr>\n",
       "  <th>Time:</th>                 <td>13:56:26</td>     <th>  Log-Likelihood:    </th> <td>-1.4700e+05</td>\n",
       "</tr>\n",
       "<tr>\n",
       "  <th>No. Observations:</th>      <td> 11488</td>      <th>  AIC:               </th>  <td>2.940e+05</td> \n",
       "</tr>\n",
       "<tr>\n",
       "  <th>Df Residuals:</th>          <td> 11477</td>      <th>  BIC:               </th>  <td>2.941e+05</td> \n",
       "</tr>\n",
       "<tr>\n",
       "  <th>Df Model:</th>              <td>    10</td>      <th>                     </th>      <td> </td>     \n",
       "</tr>\n",
       "<tr>\n",
       "  <th>Covariance Type:</th>      <td>nonrobust</td>    <th>                     </th>      <td> </td>     \n",
       "</tr>\n",
       "</table>\n",
       "<table class=\"simpletable\">\n",
       "<tr>\n",
       "                   <td></td>                     <th>coef</th>     <th>std err</th>      <th>t</th>      <th>P>|t|</th>  <th>[0.025</th>    <th>0.975]</th>  \n",
       "</tr>\n",
       "<tr>\n",
       "  <th>Intercept</th>                          <td> 7.992e+05</td> <td> 7.78e+04</td> <td>   10.278</td> <td> 0.000</td> <td> 6.47e+05</td> <td> 9.52e+05</td>\n",
       "</tr>\n",
       "<tr>\n",
       "  <th>bedrooms</th>                           <td>-1.271e+04</td> <td> 1312.660</td> <td>   -9.680</td> <td> 0.000</td> <td>-1.53e+04</td> <td>-1.01e+04</td>\n",
       "</tr>\n",
       "<tr>\n",
       "  <th>bathrooms</th>                          <td> 1.543e+04</td> <td> 2157.218</td> <td>    7.152</td> <td> 0.000</td> <td> 1.12e+04</td> <td> 1.97e+04</td>\n",
       "</tr>\n",
       "<tr>\n",
       "  <th>sqft_lot</th>                           <td>   -2.6952</td> <td>    0.363</td> <td>   -7.416</td> <td> 0.000</td> <td>   -3.408</td> <td>   -1.983</td>\n",
       "</tr>\n",
       "<tr>\n",
       "  <th>floors</th>                             <td> 1.528e+04</td> <td> 2398.054</td> <td>    6.370</td> <td> 0.000</td> <td> 1.06e+04</td> <td>    2e+04</td>\n",
       "</tr>\n",
       "<tr>\n",
       "  <th>yr_built</th>                           <td> -952.3239</td> <td>   38.499</td> <td>  -24.736</td> <td> 0.000</td> <td>-1027.788</td> <td> -876.860</td>\n",
       "</tr>\n",
       "<tr>\n",
       "  <th>has_basement</th>                       <td> 3649.7461</td> <td> 2040.736</td> <td>    1.788</td> <td> 0.074</td> <td> -350.445</td> <td> 7649.937</td>\n",
       "</tr>\n",
       "<tr>\n",
       "  <th>zipcode_type_cheap_low_volume</th>      <td>-3.045e+04</td> <td> 2075.634</td> <td>  -14.671</td> <td> 0.000</td> <td>-3.45e+04</td> <td>-2.64e+04</td>\n",
       "</tr>\n",
       "<tr>\n",
       "  <th>zipcode_type_expensive_high_volume</th> <td> 1.458e+05</td> <td> 3027.421</td> <td>   48.176</td> <td> 0.000</td> <td>  1.4e+05</td> <td> 1.52e+05</td>\n",
       "</tr>\n",
       "<tr>\n",
       "  <th>zipcode_type_expensive_low_volume</th>  <td> 1.455e+05</td> <td> 2268.153</td> <td>   64.148</td> <td> 0.000</td> <td> 1.41e+05</td> <td>  1.5e+05</td>\n",
       "</tr>\n",
       "<tr>\n",
       "  <th>sqft_living_log</th>                    <td> 1.951e+05</td> <td> 4014.783</td> <td>   48.600</td> <td> 0.000</td> <td> 1.87e+05</td> <td> 2.03e+05</td>\n",
       "</tr>\n",
       "</table>\n",
       "<table class=\"simpletable\">\n",
       "<tr>\n",
       "  <th>Omnibus:</th>       <td>263.142</td> <th>  Durbin-Watson:     </th> <td>   1.976</td>\n",
       "</tr>\n",
       "<tr>\n",
       "  <th>Prob(Omnibus):</th> <td> 0.000</td>  <th>  Jarque-Bera (JB):  </th> <td> 284.677</td>\n",
       "</tr>\n",
       "<tr>\n",
       "  <th>Skew:</th>          <td> 0.362</td>  <th>  Prob(JB):          </th> <td>1.52e-62</td>\n",
       "</tr>\n",
       "<tr>\n",
       "  <th>Kurtosis:</th>      <td> 3.267</td>  <th>  Cond. No.          </th> <td>7.20e+05</td>\n",
       "</tr>\n",
       "</table><br/><br/>Warnings:<br/>[1] Standard Errors assume that the covariance matrix of the errors is correctly specified.<br/>[2] The condition number is large, 7.2e+05. This might indicate that there are<br/>strong multicollinearity or other numerical problems."
      ],
      "text/plain": [
       "<class 'statsmodels.iolib.summary.Summary'>\n",
       "\"\"\"\n",
       "                            OLS Regression Results                            \n",
       "==============================================================================\n",
       "Dep. Variable:                  price   R-squared:                       0.600\n",
       "Model:                            OLS   Adj. R-squared:                  0.600\n",
       "Method:                 Least Squares   F-statistic:                     1721.\n",
       "Date:                Sat, 21 Nov 2020   Prob (F-statistic):               0.00\n",
       "Time:                        13:56:26   Log-Likelihood:            -1.4700e+05\n",
       "No. Observations:               11488   AIC:                         2.940e+05\n",
       "Df Residuals:                   11477   BIC:                         2.941e+05\n",
       "Df Model:                          10                                         \n",
       "Covariance Type:            nonrobust                                         \n",
       "======================================================================================================\n",
       "                                         coef    std err          t      P>|t|      [0.025      0.975]\n",
       "------------------------------------------------------------------------------------------------------\n",
       "Intercept                           7.992e+05   7.78e+04     10.278      0.000    6.47e+05    9.52e+05\n",
       "bedrooms                           -1.271e+04   1312.660     -9.680      0.000   -1.53e+04   -1.01e+04\n",
       "bathrooms                           1.543e+04   2157.218      7.152      0.000    1.12e+04    1.97e+04\n",
       "sqft_lot                              -2.6952      0.363     -7.416      0.000      -3.408      -1.983\n",
       "floors                              1.528e+04   2398.054      6.370      0.000    1.06e+04       2e+04\n",
       "yr_built                            -952.3239     38.499    -24.736      0.000   -1027.788    -876.860\n",
       "has_basement                        3649.7461   2040.736      1.788      0.074    -350.445    7649.937\n",
       "zipcode_type_cheap_low_volume      -3.045e+04   2075.634    -14.671      0.000   -3.45e+04   -2.64e+04\n",
       "zipcode_type_expensive_high_volume  1.458e+05   3027.421     48.176      0.000     1.4e+05    1.52e+05\n",
       "zipcode_type_expensive_low_volume   1.455e+05   2268.153     64.148      0.000    1.41e+05     1.5e+05\n",
       "sqft_living_log                     1.951e+05   4014.783     48.600      0.000    1.87e+05    2.03e+05\n",
       "==============================================================================\n",
       "Omnibus:                      263.142   Durbin-Watson:                   1.976\n",
       "Prob(Omnibus):                  0.000   Jarque-Bera (JB):              284.677\n",
       "Skew:                           0.362   Prob(JB):                     1.52e-62\n",
       "Kurtosis:                       3.267   Cond. No.                     7.20e+05\n",
       "==============================================================================\n",
       "\n",
       "Warnings:\n",
       "[1] Standard Errors assume that the covariance matrix of the errors is correctly specified.\n",
       "[2] The condition number is large, 7.2e+05. This might indicate that there are\n",
       "strong multicollinearity or other numerical problems.\n",
       "\"\"\""
      ]
     },
     "execution_count": 126,
     "metadata": {},
     "output_type": "execute_result"
    }
   ],
   "source": [
    "predictors = '+'.join(x_cols)\n",
    "formula = outcome + '~' + predictors\n",
    "model = ols(formula=formula, data = dftrain).fit()\n",
    "model.summary()"
   ]
  },
  {
   "cell_type": "markdown",
   "metadata": {},
   "source": [
    "### QQ Plot"
   ]
  },
  {
   "cell_type": "code",
   "execution_count": 127,
   "metadata": {},
   "outputs": [
    {
     "data": {
      "image/png": "[encoded data removed]",
      "text/plain": [
       "<Figure size 432x288 with 1 Axes>"
      ]
     },
     "metadata": {},
     "output_type": "display_data"
    }
   ],
   "source": [
    "fig = sm.graphics.qqplot(model.resid, dist=stats.norm, line='45', fit=True)"
   ]
  },
  {
   "cell_type": "markdown",
   "metadata": {},
   "source": [
    "###  Homoscedasiticity"
   ]
  },
  {
   "cell_type": "code",
   "execution_count": 128,
   "metadata": {
    "scrolled": true
   },
   "outputs": [
    {
     "data": {
      "image/png": "[encoded data removed]",
      "text/plain": [
       "<Figure size 432x288 with 1 Axes>"
      ]
     },
     "metadata": {},
     "output_type": "display_data"
    }
   ],
   "source": [
    "plt.scatter(model.predict(dftrain[x_cols]), model.resid)\n",
    "plt.plot(model.predict(dftrain[x_cols]), [0 for i in range(len(dftrain))]);"
   ]
  },
  {
   "cell_type": "markdown",
   "metadata": {},
   "source": [
    "## TEST (will delete later)"
   ]
  },
  {
   "cell_type": "code",
   "execution_count": 129,
   "metadata": {
    "scrolled": true
   },
   "outputs": [
    {
     "ename": "KeyError",
     "evalue": "'waterfront'",
     "output_type": "error",
     "traceback": [
      "\u001b[1;31m---------------------------------------------------------------------------\u001b[0m",
      "\u001b[1;31mKeyError\u001b[0m                                  Traceback (most recent call last)",
      "\u001b[1;32m~\\anaconda3\\envs\\learn-env\\lib\\site-packages\\pandas\\core\\indexes\\base.py\u001b[0m in \u001b[0;36mget_loc\u001b[1;34m(self, key, method, tolerance)\u001b[0m\n\u001b[0;32m   2896\u001b[0m             \u001b[1;32mtry\u001b[0m\u001b[1;33m:\u001b[0m\u001b[1;33m\u001b[0m\u001b[1;33m\u001b[0m\u001b[0m\n\u001b[1;32m-> 2897\u001b[1;33m                 \u001b[1;32mreturn\u001b[0m \u001b[0mself\u001b[0m\u001b[1;33m.\u001b[0m\u001b[0m_engine\u001b[0m\u001b[1;33m.\u001b[0m\u001b[0mget_loc\u001b[0m\u001b[1;33m(\u001b[0m\u001b[0mkey\u001b[0m\u001b[1;33m)\u001b[0m\u001b[1;33m\u001b[0m\u001b[1;33m\u001b[0m\u001b[0m\n\u001b[0m\u001b[0;32m   2898\u001b[0m             \u001b[1;32mexcept\u001b[0m \u001b[0mKeyError\u001b[0m\u001b[1;33m:\u001b[0m\u001b[1;33m\u001b[0m\u001b[1;33m\u001b[0m\u001b[0m\n",
      "\u001b[1;32mpandas/_libs/index.pyx\u001b[0m in \u001b[0;36mpandas._libs.index.IndexEngine.get_loc\u001b[1;34m()\u001b[0m\n",
      "\u001b[1;32mpandas/_libs/index.pyx\u001b[0m in \u001b[0;36mpandas._libs.index.IndexEngine.get_loc\u001b[1;34m()\u001b[0m\n",
      "\u001b[1;32mpandas/_libs/hashtable_class_helper.pxi\u001b[0m in \u001b[0;36mpandas._libs.hashtable.PyObjectHashTable.get_item\u001b[1;34m()\u001b[0m\n",
      "\u001b[1;32mpandas/_libs/hashtable_class_helper.pxi\u001b[0m in \u001b[0;36mpandas._libs.hashtable.PyObjectHashTable.get_item\u001b[1;34m()\u001b[0m\n",
      "\u001b[1;31mKeyError\u001b[0m: 'waterfront'",
      "\nDuring handling of the above exception, another exception occurred:\n",
      "\u001b[1;31mKeyError\u001b[0m                                  Traceback (most recent call last)",
      "\u001b[1;32m<ipython-input-129-5ef4b291e054>\u001b[0m in \u001b[0;36m<module>\u001b[1;34m\u001b[0m\n\u001b[1;32m----> 1\u001b[1;33m \u001b[0mdftrain\u001b[0m\u001b[1;33m[\u001b[0m\u001b[1;34m'waterfront'\u001b[0m\u001b[1;33m]\u001b[0m\u001b[1;33m.\u001b[0m\u001b[0mvalue_counts\u001b[0m\u001b[1;33m(\u001b[0m\u001b[1;33m)\u001b[0m\u001b[1;33m\u001b[0m\u001b[1;33m\u001b[0m\u001b[0m\n\u001b[0m",
      "\u001b[1;32m~\\anaconda3\\envs\\learn-env\\lib\\site-packages\\pandas\\core\\frame.py\u001b[0m in \u001b[0;36m__getitem__\u001b[1;34m(self, key)\u001b[0m\n\u001b[0;32m   2993\u001b[0m             \u001b[1;32mif\u001b[0m \u001b[0mself\u001b[0m\u001b[1;33m.\u001b[0m\u001b[0mcolumns\u001b[0m\u001b[1;33m.\u001b[0m\u001b[0mnlevels\u001b[0m \u001b[1;33m>\u001b[0m \u001b[1;36m1\u001b[0m\u001b[1;33m:\u001b[0m\u001b[1;33m\u001b[0m\u001b[1;33m\u001b[0m\u001b[0m\n\u001b[0;32m   2994\u001b[0m                 \u001b[1;32mreturn\u001b[0m \u001b[0mself\u001b[0m\u001b[1;33m.\u001b[0m\u001b[0m_getitem_multilevel\u001b[0m\u001b[1;33m(\u001b[0m\u001b[0mkey\u001b[0m\u001b[1;33m)\u001b[0m\u001b[1;33m\u001b[0m\u001b[1;33m\u001b[0m\u001b[0m\n\u001b[1;32m-> 2995\u001b[1;33m             \u001b[0mindexer\u001b[0m \u001b[1;33m=\u001b[0m \u001b[0mself\u001b[0m\u001b[1;33m.\u001b[0m\u001b[0mcolumns\u001b[0m\u001b[1;33m.\u001b[0m\u001b[0mget_loc\u001b[0m\u001b[1;33m(\u001b[0m\u001b[0mkey\u001b[0m\u001b[1;33m)\u001b[0m\u001b[1;33m\u001b[0m\u001b[1;33m\u001b[0m\u001b[0m\n\u001b[0m\u001b[0;32m   2996\u001b[0m             \u001b[1;32mif\u001b[0m \u001b[0mis_integer\u001b[0m\u001b[1;33m(\u001b[0m\u001b[0mindexer\u001b[0m\u001b[1;33m)\u001b[0m\u001b[1;33m:\u001b[0m\u001b[1;33m\u001b[0m\u001b[1;33m\u001b[0m\u001b[0m\n\u001b[0;32m   2997\u001b[0m                 \u001b[0mindexer\u001b[0m \u001b[1;33m=\u001b[0m \u001b[1;33m[\u001b[0m\u001b[0mindexer\u001b[0m\u001b[1;33m]\u001b[0m\u001b[1;33m\u001b[0m\u001b[1;33m\u001b[0m\u001b[0m\n",
      "\u001b[1;32m~\\anaconda3\\envs\\learn-env\\lib\\site-packages\\pandas\\core\\indexes\\base.py\u001b[0m in \u001b[0;36mget_loc\u001b[1;34m(self, key, method, tolerance)\u001b[0m\n\u001b[0;32m   2897\u001b[0m                 \u001b[1;32mreturn\u001b[0m \u001b[0mself\u001b[0m\u001b[1;33m.\u001b[0m\u001b[0m_engine\u001b[0m\u001b[1;33m.\u001b[0m\u001b[0mget_loc\u001b[0m\u001b[1;33m(\u001b[0m\u001b[0mkey\u001b[0m\u001b[1;33m)\u001b[0m\u001b[1;33m\u001b[0m\u001b[1;33m\u001b[0m\u001b[0m\n\u001b[0;32m   2898\u001b[0m             \u001b[1;32mexcept\u001b[0m \u001b[0mKeyError\u001b[0m\u001b[1;33m:\u001b[0m\u001b[1;33m\u001b[0m\u001b[1;33m\u001b[0m\u001b[0m\n\u001b[1;32m-> 2899\u001b[1;33m                 \u001b[1;32mreturn\u001b[0m \u001b[0mself\u001b[0m\u001b[1;33m.\u001b[0m\u001b[0m_engine\u001b[0m\u001b[1;33m.\u001b[0m\u001b[0mget_loc\u001b[0m\u001b[1;33m(\u001b[0m\u001b[0mself\u001b[0m\u001b[1;33m.\u001b[0m\u001b[0m_maybe_cast_indexer\u001b[0m\u001b[1;33m(\u001b[0m\u001b[0mkey\u001b[0m\u001b[1;33m)\u001b[0m\u001b[1;33m)\u001b[0m\u001b[1;33m\u001b[0m\u001b[1;33m\u001b[0m\u001b[0m\n\u001b[0m\u001b[0;32m   2900\u001b[0m         \u001b[0mindexer\u001b[0m \u001b[1;33m=\u001b[0m \u001b[0mself\u001b[0m\u001b[1;33m.\u001b[0m\u001b[0mget_indexer\u001b[0m\u001b[1;33m(\u001b[0m\u001b[1;33m[\u001b[0m\u001b[0mkey\u001b[0m\u001b[1;33m]\u001b[0m\u001b[1;33m,\u001b[0m \u001b[0mmethod\u001b[0m\u001b[1;33m=\u001b[0m\u001b[0mmethod\u001b[0m\u001b[1;33m,\u001b[0m \u001b[0mtolerance\u001b[0m\u001b[1;33m=\u001b[0m\u001b[0mtolerance\u001b[0m\u001b[1;33m)\u001b[0m\u001b[1;33m\u001b[0m\u001b[1;33m\u001b[0m\u001b[0m\n\u001b[0;32m   2901\u001b[0m         \u001b[1;32mif\u001b[0m \u001b[0mindexer\u001b[0m\u001b[1;33m.\u001b[0m\u001b[0mndim\u001b[0m \u001b[1;33m>\u001b[0m \u001b[1;36m1\u001b[0m \u001b[1;32mor\u001b[0m \u001b[0mindexer\u001b[0m\u001b[1;33m.\u001b[0m\u001b[0msize\u001b[0m \u001b[1;33m>\u001b[0m \u001b[1;36m1\u001b[0m\u001b[1;33m:\u001b[0m\u001b[1;33m\u001b[0m\u001b[1;33m\u001b[0m\u001b[0m\n",
      "\u001b[1;32mpandas/_libs/index.pyx\u001b[0m in \u001b[0;36mpandas._libs.index.IndexEngine.get_loc\u001b[1;34m()\u001b[0m\n",
      "\u001b[1;32mpandas/_libs/index.pyx\u001b[0m in \u001b[0;36mpandas._libs.index.IndexEngine.get_loc\u001b[1;34m()\u001b[0m\n",
      "\u001b[1;32mpandas/_libs/hashtable_class_helper.pxi\u001b[0m in \u001b[0;36mpandas._libs.hashtable.PyObjectHashTable.get_item\u001b[1;34m()\u001b[0m\n",
      "\u001b[1;32mpandas/_libs/hashtable_class_helper.pxi\u001b[0m in \u001b[0;36mpandas._libs.hashtable.PyObjectHashTable.get_item\u001b[1;34m()\u001b[0m\n",
      "\u001b[1;31mKeyError\u001b[0m: 'waterfront'"
     ]
    }
   ],
   "source": [
    "dftrain['waterfront'].value_counts()"
   ]
  },
  {
   "cell_type": "code",
   "execution_count": null,
   "metadata": {},
   "outputs": [],
   "source": [
    "df.drop('waterfront', axis=1, inplace=True)\n",
    "x_cols.remove('waterfront')\n"
   ]
  },
  {
   "cell_type": "code",
   "execution_count": null,
   "metadata": {},
   "outputs": [],
   "source": [
    "y = dftrain[['price']]\n",
    "X = dftrain[x_cols]\n",
    "\n",
    "X_train, X_test, y_train, y_test = train_test_split(X, y, test_size = 0.2, random_state = (123))"
   ]
  },
  {
   "cell_type": "code",
   "execution_count": null,
   "metadata": {},
   "outputs": [],
   "source": [
    "linreg.fit(X_train, y_train)\n",
    "\n",
    "y_hat_train = linreg.predict(X_train)\n",
    "y_hat_test = linreg.predict(X_test)\n",
    "\n",
    "rmse_train = np.sqrt(mean_squared_error(y_train, y_hat_train))\n",
    "rmse_test = np.sqrt(mean_squared_error(y_test, y_hat_test))"
   ]
  },
  {
   "cell_type": "code",
   "execution_count": null,
   "metadata": {},
   "outputs": [],
   "source": [
    "print(\"RMSE Train:\", round(rmse_train, 2))\n",
    "print(\"RMSE Test:\", round(rmse_test, 2))"
   ]
  },
  {
   "cell_type": "code",
   "execution_count": null,
   "metadata": {},
   "outputs": [],
   "source": []
  },
  {
   "cell_type": "code",
   "execution_count": null,
   "metadata": {},
   "outputs": [],
   "source": []
  },
  {
   "cell_type": "code",
   "execution_count": null,
   "metadata": {},
   "outputs": [],
   "source": [
    "predictors = '+'.join(x_cols)\n",
    "formula = outcome + '~' + predictors\n",
    "model = ols(formula=formula, data = dftrain).fit()\n",
    "model.summary()"
   ]
  },
  {
   "cell_type": "code",
   "execution_count": null,
   "metadata": {},
   "outputs": [],
   "source": [
    "fig = sm.graphics.qqplot(model.resid, dist=stats.norm, line='45', fit=True)"
   ]
  },
  {
   "cell_type": "markdown",
   "metadata": {},
   "source": [
    "### creating interactions"
   ]
  },
  {
   "cell_type": "code",
   "execution_count": null,
   "metadata": {},
   "outputs": [],
   "source": [
    "dftrain['bed_bath_interaction'] = dftrain['bedrooms'] * dftrain['bathrooms']"
   ]
  },
  {
   "cell_type": "code",
   "execution_count": null,
   "metadata": {},
   "outputs": [],
   "source": [
    "df.drop('bedrooms', axis=1, inplace=True)\n",
    "df.drop('bathrooms', axis=1, inplace=True)"
   ]
  },
  {
   "cell_type": "code",
   "execution_count": null,
   "metadata": {},
   "outputs": [],
   "source": [
    "x_cols.remove('bedrooms')\n",
    "x_cols.remove('bathrooms')\n",
    "\n",
    "x_cols.append('bed_bath_interaction')"
   ]
  },
  {
   "cell_type": "code",
   "execution_count": null,
   "metadata": {},
   "outputs": [],
   "source": [
    "predictors = '+'.join(x_cols)\n",
    "formula = outcome + '~' + predictors\n",
    "model = ols(formula=formula, data = dftrain).fit()\n",
    "model.summary()"
   ]
  },
  {
   "cell_type": "code",
   "execution_count": null,
   "metadata": {},
   "outputs": [],
   "source": [
    "fig = sm.graphics.qqplot(model.resid, dist=stats.norm, line='45', fit=True)"
   ]
  },
  {
   "cell_type": "markdown",
   "metadata": {},
   "source": [
    "### logging more"
   ]
  },
  {
   "cell_type": "code",
   "execution_count": null,
   "metadata": {
    "scrolled": false
   },
   "outputs": [],
   "source": [
    "fig, ax = plt.subplots(nrows=1, ncols=2, figsize=(16,5))\n",
    "\n",
    "sns.histplot(data=dftrain, x='yr_built', ax = ax[0])\n",
    "sns.boxplot(data=dftrain, x='yr_built', ax=ax[1]);"
   ]
  },
  {
   "cell_type": "code",
   "execution_count": null,
   "metadata": {},
   "outputs": [],
   "source": [
    "cont = ['yr_built']"
   ]
  },
  {
   "cell_type": "code",
   "execution_count": null,
   "metadata": {},
   "outputs": [],
   "source": [
    "dftrain['yr_built_log'] = np.log(dftrain['yr_built'])"
   ]
  },
  {
   "cell_type": "code",
   "execution_count": null,
   "metadata": {
    "scrolled": true
   },
   "outputs": [],
   "source": [
    "fig, ax = plt.subplots(nrows=1, ncols=2, figsize=(16,5))\n",
    "\n",
    "sns.histplot(data=dftrain, x='yr_built_log', ax = ax[0])\n",
    "sns.boxplot(data=dftrain, x='yr_built_log', ax=ax[1]);"
   ]
  },
  {
   "cell_type": "code",
   "execution_count": null,
   "metadata": {},
   "outputs": [],
   "source": [
    "x_cols.remove('yr_built')\n",
    "x_cols.append('yr_built_log')"
   ]
  },
  {
   "cell_type": "code",
   "execution_count": null,
   "metadata": {
    "scrolled": true
   },
   "outputs": [],
   "source": [
    "predictors = '+'.join(x_cols)\n",
    "formula = outcome + '~' + predictors\n",
    "model = ols(formula=formula, data = dftrain).fit()\n",
    "model.summary()"
   ]
  },
  {
   "cell_type": "code",
   "execution_count": null,
   "metadata": {},
   "outputs": [],
   "source": [
    "fig = sm.graphics.qqplot(model.resid, dist=stats.norm, line='45', fit=True)"
   ]
  },
  {
   "cell_type": "markdown",
   "metadata": {},
   "source": [
    "### ohe ideas"
   ]
  },
  {
   "cell_type": "code",
   "execution_count": null,
   "metadata": {
    "scrolled": true
   },
   "outputs": [],
   "source": [
    "dftrain"
   ]
  },
  {
   "cell_type": "code",
   "execution_count": null,
   "metadata": {},
   "outputs": [],
   "source": [
    "cate = ['bedrooms', 'bathrooms', 'floors']\n",
    "\n",
    "features = df[cate].astype('category')\n",
    "feats_ohe = pd.get_dummies(features, drop_first = True)\n",
    "feats_ohe = feats_ohe.astype(int)\n",
    "\n",
    "feats_ohe.columns = [c.replace('.', '_') for c in feats_ohe.columns]"
   ]
  },
  {
   "cell_type": "code",
   "execution_count": null,
   "metadata": {},
   "outputs": [],
   "source": [
    "feats_ohe.info()"
   ]
  },
  {
   "cell_type": "code",
   "execution_count": null,
   "metadata": {},
   "outputs": [],
   "source": [
    "df_test = pd.concat([dftrain, feats_ohe], axis=1)"
   ]
  },
  {
   "cell_type": "code",
   "execution_count": null,
   "metadata": {},
   "outputs": [],
   "source": [
    "df_test = df_test.dropna() "
   ]
  },
  {
   "cell_type": "code",
   "execution_count": null,
   "metadata": {},
   "outputs": [],
   "source": [
    "df_test.drop('bedrooms', axis=1, inplace=True)\n",
    "df_test.drop('bathrooms', axis=1, inplace=True)\n",
    "df_test.drop('floors', axis=1, inplace=True)"
   ]
  },
  {
   "cell_type": "code",
   "execution_count": null,
   "metadata": {},
   "outputs": [],
   "source": [
    "x_cols.extend(list(feats_ohe.columns))"
   ]
  },
  {
   "cell_type": "code",
   "execution_count": null,
   "metadata": {},
   "outputs": [],
   "source": [
    "x_cols.remove('bedrooms')\n",
    "x_cols.remove('bathrooms')\n",
    "x_cols.remove('floors')"
   ]
  },
  {
   "cell_type": "code",
   "execution_count": null,
   "metadata": {},
   "outputs": [],
   "source": [
    "predictors = '+'.join(x_cols)\n",
    "formula = outcome + '~' + predictors\n",
    "model = ols(formula=formula, data = df_test).fit()\n",
    "model.summary()"
   ]
  },
  {
   "cell_type": "code",
   "execution_count": null,
   "metadata": {},
   "outputs": [],
   "source": [
    "fig = sm.graphics.qqplot(model.resid, dist=stats.norm, line='45', fit=True)"
   ]
  },
  {
   "cell_type": "markdown",
   "metadata": {},
   "source": [
    "> might keep floors as ohe and normalize bedrooms and bathrooms"
   ]
  },
  {
   "cell_type": "code",
   "execution_count": null,
   "metadata": {},
   "outputs": [],
   "source": []
  },
  {
   "cell_type": "code",
   "execution_count": null,
   "metadata": {},
   "outputs": [],
   "source": []
  },
  {
   "cell_type": "code",
   "execution_count": null,
   "metadata": {},
   "outputs": [],
   "source": []
  },
  {
   "cell_type": "code",
   "execution_count": null,
   "metadata": {},
   "outputs": [],
   "source": []
  },
  {
   "cell_type": "code",
   "execution_count": null,
   "metadata": {},
   "outputs": [],
   "source": []
  }
 ],
 "metadata": {
  "kernelspec": {
   "display_name": "Python 3",
   "language": "python",
   "name": "python3"
  },
  "language_info": {
   "codemirror_mode": {
    "name": "ipython",
    "version": 3
   },
   "file_extension": ".py",
   "mimetype": "text/x-python",
   "name": "python",
   "nbconvert_exporter": "python",
   "pygments_lexer": "ipython3",
   "version": "3.6.9"
  },
  "toc": {
   "base_numbering": 1,
   "nav_menu": {},
   "number_sections": true,
   "sideBar": true,
   "skip_h1_title": false,
   "title_cell": "Table of Contents",
   "title_sidebar": "Contents",
   "toc_cell": false,
   "toc_position": {
    "height": "calc(100% - 180px)",
    "left": "10px",
    "top": "150px",
    "width": "312px"
   },
   "toc_section_display": true,
   "toc_window_display": true
  }
 },
 "nbformat": 4,
 "nbformat_minor": 4
}
