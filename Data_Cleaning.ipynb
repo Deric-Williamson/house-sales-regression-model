{
 "cells": [
  {
   "cell_type": "markdown",
   "metadata": {},
   "source": [
    "## Introduction"
   ]
  },
  {
   "cell_type": "markdown",
   "metadata": {},
   "source": [
    "Paragraph"
   ]
  },
  {
   "cell_type": "markdown",
   "metadata": {},
   "source": [
    "## Importing and Cleaning Data"
   ]
  },
  {
   "cell_type": "code",
   "execution_count": 1,
   "metadata": {},
   "outputs": [],
   "source": [
    "import pandas as pd\n",
    "import numpy as np\n",
    "\n",
    "import seaborn as sns\n",
    "import matplotlib.pyplot as plt\n",
    "%matplotlib inline\n",
    "\n",
    "sns.set_theme(style='darkgrid')"
   ]
  },
  {
   "cell_type": "code",
   "execution_count": 2,
   "metadata": {},
   "outputs": [],
   "source": [
    "#importing csv to dataframe\n",
    "df = pd.read_csv('data\\kc_house_data.csv')"
   ]
  },
  {
   "cell_type": "code",
   "execution_count": 3,
   "metadata": {},
   "outputs": [],
   "source": [
    "#checking for duplicates \n",
    "duplicate_rows_df = df[df.duplicated()]"
   ]
  },
  {
   "cell_type": "code",
   "execution_count": 4,
   "metadata": {},
   "outputs": [],
   "source": [
    "#filling the nan's with 0, all is categorical columns with the mode being 0.0\n",
    "df['waterfront'] = df['waterfront'].fillna(0.0)\n",
    "df['view'] = df['view'].fillna(0.0)\n",
    "df['yr_renovated'] = df['yr_renovated'].fillna(0.0)\n",
    "\n",
    "df.loc[df['sqft_basement'] == '?'] = 0\n",
    "df['sqft_basement'] = df['sqft_basement'].astype(float).astype(int)"
   ]
  },
  {
   "cell_type": "code",
   "execution_count": 5,
   "metadata": {
    "code_folding": []
   },
   "outputs": [],
   "source": [
    "#changing columns from float to int\n",
    "col_floats = ['price', 'waterfront', 'view', 'yr_renovated']\n",
    "for col in col_floats:\n",
    "    df[col] = df[col].astype(int)"
   ]
  },
  {
   "cell_type": "code",
   "execution_count": 6,
   "metadata": {},
   "outputs": [],
   "source": [
    "#expanding the date column to a column for each month and year\n",
    "df['date'] = pd.to_datetime(df['date'])\n",
    "df['month_sold'] = df['date'].dt.month\n",
    "df['year_sold'] = df['date'].dt.year"
   ]
  },
  {
   "cell_type": "code",
   "execution_count": 7,
   "metadata": {},
   "outputs": [],
   "source": [
    "#creating seasonal columns\n",
    "df['sold_spring_time'] = df['month_sold'] < 4\n",
    "df['sold_summer_time'] = (df['month_sold'] > 3) & (df['month_sold'] < 7)\n",
    "df['sold_fall_time'] = (df['month_sold'] > 6) & (df['month_sold'] < 10)\n",
    "df['sold_winter_time'] = (df['month_sold'] > 9) & (df['month_sold'] < 13)\n",
    "\n",
    "df['sold_spring_time'] = df['sold_spring_time'].astype(bool).astype(int)\n",
    "df['sold_summer_time'] = df['sold_summer_time'].astype(bool).astype(int)\n",
    "df['sold_fall_time'] = df['sold_fall_time'].astype(bool).astype(int)\n",
    "df['sold_winter_time'] = df['sold_winter_time'].astype(bool).astype(int)"
   ]
  },
  {
   "cell_type": "code",
   "execution_count": 8,
   "metadata": {},
   "outputs": [],
   "source": [
    "#converting 'yr_renovated' and 'sqft_basement' into a boolean\n",
    "df['has_renovated'] = df['yr_renovated'].astype(bool).astype(int)\n",
    "df['has_basement'] = df['sqft_basement'].astype(bool).astype(int)"
   ]
  },
  {
   "cell_type": "code",
   "execution_count": 9,
   "metadata": {},
   "outputs": [],
   "source": [
    "#deleting columns not neccesary in dataframe\n",
    "df.drop('date', axis=1, inplace=True)\n",
    "df.drop('id', axis=1, inplace=True)"
   ]
  },
  {
   "cell_type": "code",
   "execution_count": 10,
   "metadata": {
    "scrolled": false
   },
   "outputs": [],
   "source": [
    "# exports a clean version of raw data.\n",
    "df.to_csv('data\\Cleaned_kc_house_data.csv')"
   ]
  },
  {
   "cell_type": "code",
   "execution_count": 11,
   "metadata": {
    "scrolled": false
   },
   "outputs": [
    {
     "data": {
      "text/html": [
       "<div>\n",
       "<style scoped>\n",
       "    .dataframe tbody tr th:only-of-type {\n",
       "        vertical-align: middle;\n",
       "    }\n",
       "\n",
       "    .dataframe tbody tr th {\n",
       "        vertical-align: top;\n",
       "    }\n",
       "\n",
       "    .dataframe thead th {\n",
       "        text-align: right;\n",
       "    }\n",
       "</style>\n",
       "<table border=\"1\" class=\"dataframe\">\n",
       "  <thead>\n",
       "    <tr style=\"text-align: right;\">\n",
       "      <th></th>\n",
       "      <th>price</th>\n",
       "      <th>bedrooms</th>\n",
       "      <th>bathrooms</th>\n",
       "      <th>sqft_living</th>\n",
       "      <th>sqft_lot</th>\n",
       "      <th>floors</th>\n",
       "      <th>waterfront</th>\n",
       "      <th>view</th>\n",
       "      <th>condition</th>\n",
       "      <th>grade</th>\n",
       "      <th>...</th>\n",
       "      <th>sqft_living15</th>\n",
       "      <th>sqft_lot15</th>\n",
       "      <th>month_sold</th>\n",
       "      <th>year_sold</th>\n",
       "      <th>sold_spring_time</th>\n",
       "      <th>sold_summer_time</th>\n",
       "      <th>sold_fall_time</th>\n",
       "      <th>sold_winter_time</th>\n",
       "      <th>has_renovated</th>\n",
       "      <th>has_basement</th>\n",
       "    </tr>\n",
       "  </thead>\n",
       "  <tbody>\n",
       "    <tr>\n",
       "      <th>0</th>\n",
       "      <td>221900</td>\n",
       "      <td>3</td>\n",
       "      <td>1.00</td>\n",
       "      <td>1180</td>\n",
       "      <td>5650</td>\n",
       "      <td>1.0</td>\n",
       "      <td>0</td>\n",
       "      <td>0</td>\n",
       "      <td>3</td>\n",
       "      <td>7</td>\n",
       "      <td>...</td>\n",
       "      <td>1340</td>\n",
       "      <td>5650</td>\n",
       "      <td>10</td>\n",
       "      <td>2014</td>\n",
       "      <td>0</td>\n",
       "      <td>0</td>\n",
       "      <td>0</td>\n",
       "      <td>1</td>\n",
       "      <td>0</td>\n",
       "      <td>0</td>\n",
       "    </tr>\n",
       "    <tr>\n",
       "      <th>1</th>\n",
       "      <td>538000</td>\n",
       "      <td>3</td>\n",
       "      <td>2.25</td>\n",
       "      <td>2570</td>\n",
       "      <td>7242</td>\n",
       "      <td>2.0</td>\n",
       "      <td>0</td>\n",
       "      <td>0</td>\n",
       "      <td>3</td>\n",
       "      <td>7</td>\n",
       "      <td>...</td>\n",
       "      <td>1690</td>\n",
       "      <td>7639</td>\n",
       "      <td>12</td>\n",
       "      <td>2014</td>\n",
       "      <td>0</td>\n",
       "      <td>0</td>\n",
       "      <td>0</td>\n",
       "      <td>1</td>\n",
       "      <td>1</td>\n",
       "      <td>1</td>\n",
       "    </tr>\n",
       "    <tr>\n",
       "      <th>2</th>\n",
       "      <td>180000</td>\n",
       "      <td>2</td>\n",
       "      <td>1.00</td>\n",
       "      <td>770</td>\n",
       "      <td>10000</td>\n",
       "      <td>1.0</td>\n",
       "      <td>0</td>\n",
       "      <td>0</td>\n",
       "      <td>3</td>\n",
       "      <td>6</td>\n",
       "      <td>...</td>\n",
       "      <td>2720</td>\n",
       "      <td>8062</td>\n",
       "      <td>2</td>\n",
       "      <td>2015</td>\n",
       "      <td>1</td>\n",
       "      <td>0</td>\n",
       "      <td>0</td>\n",
       "      <td>0</td>\n",
       "      <td>0</td>\n",
       "      <td>0</td>\n",
       "    </tr>\n",
       "    <tr>\n",
       "      <th>3</th>\n",
       "      <td>604000</td>\n",
       "      <td>4</td>\n",
       "      <td>3.00</td>\n",
       "      <td>1960</td>\n",
       "      <td>5000</td>\n",
       "      <td>1.0</td>\n",
       "      <td>0</td>\n",
       "      <td>0</td>\n",
       "      <td>5</td>\n",
       "      <td>7</td>\n",
       "      <td>...</td>\n",
       "      <td>1360</td>\n",
       "      <td>5000</td>\n",
       "      <td>12</td>\n",
       "      <td>2014</td>\n",
       "      <td>0</td>\n",
       "      <td>0</td>\n",
       "      <td>0</td>\n",
       "      <td>1</td>\n",
       "      <td>0</td>\n",
       "      <td>1</td>\n",
       "    </tr>\n",
       "    <tr>\n",
       "      <th>4</th>\n",
       "      <td>510000</td>\n",
       "      <td>3</td>\n",
       "      <td>2.00</td>\n",
       "      <td>1680</td>\n",
       "      <td>8080</td>\n",
       "      <td>1.0</td>\n",
       "      <td>0</td>\n",
       "      <td>0</td>\n",
       "      <td>3</td>\n",
       "      <td>8</td>\n",
       "      <td>...</td>\n",
       "      <td>1800</td>\n",
       "      <td>7503</td>\n",
       "      <td>2</td>\n",
       "      <td>2015</td>\n",
       "      <td>1</td>\n",
       "      <td>0</td>\n",
       "      <td>0</td>\n",
       "      <td>0</td>\n",
       "      <td>0</td>\n",
       "      <td>0</td>\n",
       "    </tr>\n",
       "  </tbody>\n",
       "</table>\n",
       "<p>5 rows × 27 columns</p>\n",
       "</div>"
      ],
      "text/plain": [
       "    price  bedrooms  bathrooms  sqft_living  sqft_lot  floors  waterfront  \\\n",
       "0  221900         3       1.00         1180      5650     1.0           0   \n",
       "1  538000         3       2.25         2570      7242     2.0           0   \n",
       "2  180000         2       1.00          770     10000     1.0           0   \n",
       "3  604000         4       3.00         1960      5000     1.0           0   \n",
       "4  510000         3       2.00         1680      8080     1.0           0   \n",
       "\n",
       "   view  condition  grade  ...  sqft_living15  sqft_lot15  month_sold  \\\n",
       "0     0          3      7  ...           1340        5650          10   \n",
       "1     0          3      7  ...           1690        7639          12   \n",
       "2     0          3      6  ...           2720        8062           2   \n",
       "3     0          5      7  ...           1360        5000          12   \n",
       "4     0          3      8  ...           1800        7503           2   \n",
       "\n",
       "   year_sold  sold_spring_time  sold_summer_time  sold_fall_time  \\\n",
       "0       2014                 0                 0               0   \n",
       "1       2014                 0                 0               0   \n",
       "2       2015                 1                 0               0   \n",
       "3       2014                 0                 0               0   \n",
       "4       2015                 1                 0               0   \n",
       "\n",
       "   sold_winter_time  has_renovated  has_basement  \n",
       "0                 1              0             0  \n",
       "1                 1              1             1  \n",
       "2                 0              0             0  \n",
       "3                 1              0             1  \n",
       "4                 0              0             0  \n",
       "\n",
       "[5 rows x 27 columns]"
      ]
     },
     "execution_count": 11,
     "metadata": {},
     "output_type": "execute_result"
    }
   ],
   "source": [
    "df.head()"
   ]
  },
  {
   "cell_type": "code",
   "execution_count": 12,
   "metadata": {
    "scrolled": true
   },
   "outputs": [
    {
     "name": "stdout",
     "output_type": "stream",
     "text": [
      "<class 'pandas.core.frame.DataFrame'>\n",
      "RangeIndex: 21597 entries, 0 to 21596\n",
      "Data columns (total 27 columns):\n",
      " #   Column            Non-Null Count  Dtype  \n",
      "---  ------            --------------  -----  \n",
      " 0   price             21597 non-null  int32  \n",
      " 1   bedrooms          21597 non-null  int64  \n",
      " 2   bathrooms         21597 non-null  float64\n",
      " 3   sqft_living       21597 non-null  int64  \n",
      " 4   sqft_lot          21597 non-null  int64  \n",
      " 5   floors            21597 non-null  float64\n",
      " 6   waterfront        21597 non-null  int32  \n",
      " 7   view              21597 non-null  int32  \n",
      " 8   condition         21597 non-null  int64  \n",
      " 9   grade             21597 non-null  int64  \n",
      " 10  sqft_above        21597 non-null  int64  \n",
      " 11  sqft_basement     21597 non-null  int32  \n",
      " 12  yr_built          21597 non-null  int64  \n",
      " 13  yr_renovated      21597 non-null  int32  \n",
      " 14  zipcode           21597 non-null  int64  \n",
      " 15  lat               21597 non-null  float64\n",
      " 16  long              21597 non-null  float64\n",
      " 17  sqft_living15     21597 non-null  int64  \n",
      " 18  sqft_lot15        21597 non-null  int64  \n",
      " 19  month_sold        21597 non-null  int64  \n",
      " 20  year_sold         21597 non-null  int64  \n",
      " 21  sold_spring_time  21597 non-null  int32  \n",
      " 22  sold_summer_time  21597 non-null  int32  \n",
      " 23  sold_fall_time    21597 non-null  int32  \n",
      " 24  sold_winter_time  21597 non-null  int32  \n",
      " 25  has_renovated     21597 non-null  int32  \n",
      " 26  has_basement      21597 non-null  int32  \n",
      "dtypes: float64(4), int32(11), int64(12)\n",
      "memory usage: 3.5 MB\n"
     ]
    }
   ],
   "source": [
    "df.info()"
   ]
  },
  {
   "cell_type": "markdown",
   "metadata": {},
   "source": [
    "## EDA and Scrubbing"
   ]
  },
  {
   "cell_type": "markdown",
   "metadata": {},
   "source": [
    "### price"
   ]
  },
  {
   "cell_type": "code",
   "execution_count": 13,
   "metadata": {},
   "outputs": [
    {
     "data": {
      "image/png": "[encoded data removed]",
      "text/plain": [
       "<Figure size 1152x360 with 2 Axes>"
      ]
     },
     "metadata": {},
     "output_type": "display_data"
    }
   ],
   "source": [
    "fig, ax = plt.subplots(nrows=1, ncols=2, figsize=(16,5))\n",
    "\n",
    "#looking for potential outliars\n",
    "sns.histplot(data=df, x='price', ax = ax[0])\n",
    "sns.boxplot(data=df, x='price', ax=ax[1]);"
   ]
  },
  {
   "cell_type": "code",
   "execution_count": 14,
   "metadata": {},
   "outputs": [],
   "source": [
    "#Making the 'price' benchmark between $100000 to $900000\n",
    "df.drop(df[df['price'] > 700000].index, inplace = True)\n",
    "df.drop(df[df['price'] < 150000].index, inplace = True)"
   ]
  },
  {
   "cell_type": "code",
   "execution_count": 15,
   "metadata": {
    "scrolled": true
   },
   "outputs": [
    {
     "data": {
      "image/png": "[encoded data removed]",
      "text/plain": [
       "<Figure size 1152x360 with 2 Axes>"
      ]
     },
     "metadata": {},
     "output_type": "display_data"
    }
   ],
   "source": [
    "fig, ax = plt.subplots(nrows=1, ncols=2, figsize=(16,5))\n",
    "\n",
    "sns.histplot(data=df, x='price', ax = ax[0])\n",
    "sns.boxplot(data=df, x='price', ax=ax[1]);"
   ]
  },
  {
   "cell_type": "markdown",
   "metadata": {},
   "source": [
    ">The histogram and boxplot looks to be more normally distributed after removing outliers"
   ]
  },
  {
   "cell_type": "code",
   "execution_count": 16,
   "metadata": {},
   "outputs": [
    {
     "data": {
      "text/plain": [
       "(16745, 27)"
      ]
     },
     "execution_count": 16,
     "metadata": {},
     "output_type": "execute_result"
    }
   ],
   "source": [
    "#checking the rows left\n",
    "df.shape"
   ]
  },
  {
   "cell_type": "markdown",
   "metadata": {
    "heading_collapsed": true
   },
   "source": [
    "### bedrooms"
   ]
  },
  {
   "cell_type": "code",
   "execution_count": 17,
   "metadata": {
    "hidden": true
   },
   "outputs": [
    {
     "data": {
      "text/plain": [
       "3     8399\n",
       "4     4633\n",
       "2     2464\n",
       "5      900\n",
       "1      170\n",
       "6      148\n",
       "7       17\n",
       "8        7\n",
       "9        3\n",
       "10       2\n",
       "11       1\n",
       "33       1\n",
       "Name: bedrooms, dtype: int64"
      ]
     },
     "execution_count": 17,
     "metadata": {},
     "output_type": "execute_result"
    }
   ],
   "source": [
    "df['bedrooms'].value_counts()"
   ]
  },
  {
   "cell_type": "code",
   "execution_count": 18,
   "metadata": {
    "hidden": true
   },
   "outputs": [],
   "source": [
    "df.drop(df[df['bedrooms'] > 6].index, inplace = True)"
   ]
  },
  {
   "cell_type": "code",
   "execution_count": 19,
   "metadata": {
    "hidden": true
   },
   "outputs": [
    {
     "data": {
      "text/plain": [
       "3    8399\n",
       "4    4633\n",
       "2    2464\n",
       "5     900\n",
       "1     170\n",
       "6     148\n",
       "Name: bedrooms, dtype: int64"
      ]
     },
     "execution_count": 19,
     "metadata": {},
     "output_type": "execute_result"
    }
   ],
   "source": [
    "df['bedrooms'].value_counts()"
   ]
  },
  {
   "cell_type": "code",
   "execution_count": 20,
   "metadata": {
    "hidden": true,
    "scrolled": true
   },
   "outputs": [
    {
     "data": {
      "image/png": "[encoded data removed]",
      "text/plain": [
       "<Figure size 432x288 with 1 Axes>"
      ]
     },
     "metadata": {},
     "output_type": "display_data"
    }
   ],
   "source": [
    "sns.histplot(data = df, x='bedrooms');"
   ]
  },
  {
   "cell_type": "code",
   "execution_count": 21,
   "metadata": {
    "hidden": true
   },
   "outputs": [
    {
     "data": {
      "text/plain": [
       "(16714, 27)"
      ]
     },
     "execution_count": 21,
     "metadata": {},
     "output_type": "execute_result"
    }
   ],
   "source": [
    "df.shape"
   ]
  },
  {
   "cell_type": "markdown",
   "metadata": {
    "heading_collapsed": true
   },
   "source": [
    "### bathrooms"
   ]
  },
  {
   "cell_type": "code",
   "execution_count": 22,
   "metadata": {
    "hidden": true
   },
   "outputs": [
    {
     "data": {
      "text/plain": [
       "2.50    4101\n",
       "1.00    3501\n",
       "1.75    2703\n",
       "2.00    1682\n",
       "2.25    1654\n",
       "1.50    1294\n",
       "2.75     723\n",
       "3.00     448\n",
       "3.50     252\n",
       "3.25     212\n",
       "0.75      62\n",
       "3.75      25\n",
       "4.00      19\n",
       "4.50      16\n",
       "1.25       7\n",
       "4.25       6\n",
       "5.00       3\n",
       "4.75       2\n",
       "0.50       2\n",
       "5.25       2\n",
       "Name: bathrooms, dtype: int64"
      ]
     },
     "execution_count": 22,
     "metadata": {},
     "output_type": "execute_result"
    }
   ],
   "source": [
    "df['bathrooms'].value_counts()"
   ]
  },
  {
   "cell_type": "code",
   "execution_count": 23,
   "metadata": {
    "hidden": true,
    "scrolled": true
   },
   "outputs": [
    {
     "data": {
      "image/png": "[encoded data removed]",
      "text/plain": [
       "<Figure size 432x288 with 1 Axes>"
      ]
     },
     "metadata": {},
     "output_type": "display_data"
    }
   ],
   "source": [
    "sns.histplot(data=df, x = 'bathrooms');"
   ]
  },
  {
   "cell_type": "code",
   "execution_count": 24,
   "metadata": {
    "hidden": true
   },
   "outputs": [],
   "source": [
    "df.drop(df[df['bathrooms'] > 4].index, inplace = True)\n",
    "df.drop(df[df['bathrooms'] < 0.75].index, inplace = True)"
   ]
  },
  {
   "cell_type": "code",
   "execution_count": 25,
   "metadata": {
    "hidden": true
   },
   "outputs": [
    {
     "data": {
      "image/png": "[encoded data removed]",
      "text/plain": [
       "<Figure size 432x288 with 1 Axes>"
      ]
     },
     "metadata": {},
     "output_type": "display_data"
    }
   ],
   "source": [
    "sns.histplot(data=df, x = 'bathrooms');"
   ]
  },
  {
   "cell_type": "code",
   "execution_count": 26,
   "metadata": {
    "hidden": true
   },
   "outputs": [
    {
     "data": {
      "text/plain": [
       "(16683, 27)"
      ]
     },
     "execution_count": 26,
     "metadata": {},
     "output_type": "execute_result"
    }
   ],
   "source": [
    "df.shape"
   ]
  },
  {
   "cell_type": "markdown",
   "metadata": {
    "heading_collapsed": true
   },
   "source": [
    "### sqft_living"
   ]
  },
  {
   "cell_type": "code",
   "execution_count": 27,
   "metadata": {
    "hidden": true
   },
   "outputs": [
    {
     "data": {
      "image/png": "[encoded data removed]",
      "text/plain": [
       "<Figure size 1152x360 with 2 Axes>"
      ]
     },
     "metadata": {},
     "output_type": "display_data"
    }
   ],
   "source": [
    "fig, ax = plt.subplots(nrows=1, ncols=2, figsize=(16,5))\n",
    "\n",
    "sns.histplot(data=df, x='sqft_living', ax = ax[0])\n",
    "sns.boxplot(data=df, x='sqft_living', ax=ax[1]);"
   ]
  },
  {
   "cell_type": "code",
   "execution_count": 28,
   "metadata": {
    "hidden": true
   },
   "outputs": [],
   "source": [
    "df.drop(df[df['sqft_living'] > 4500].index, inplace = True)"
   ]
  },
  {
   "cell_type": "code",
   "execution_count": 29,
   "metadata": {
    "hidden": true
   },
   "outputs": [
    {
     "data": {
      "image/png": "[encoded data removed]",
      "text/plain": [
       "<Figure size 1152x360 with 2 Axes>"
      ]
     },
     "metadata": {},
     "output_type": "display_data"
    }
   ],
   "source": [
    "fig, ax = plt.subplots(nrows=1, ncols=2, figsize=(16,5))\n",
    "\n",
    "sns.histplot(data=df, x='sqft_living', ax = ax[0])\n",
    "sns.boxplot(data=df, x='sqft_living', ax=ax[1]);"
   ]
  },
  {
   "cell_type": "code",
   "execution_count": 30,
   "metadata": {
    "hidden": true
   },
   "outputs": [
    {
     "data": {
      "text/plain": [
       "(16673, 27)"
      ]
     },
     "execution_count": 30,
     "metadata": {},
     "output_type": "execute_result"
    }
   ],
   "source": [
    "df.shape"
   ]
  },
  {
   "cell_type": "markdown",
   "metadata": {
    "heading_collapsed": true
   },
   "source": [
    "### sqft_lot"
   ]
  },
  {
   "cell_type": "code",
   "execution_count": 31,
   "metadata": {
    "hidden": true
   },
   "outputs": [
    {
     "data": {
      "image/png": "[encoded data removed]",
      "text/plain": [
       "<Figure size 1152x360 with 2 Axes>"
      ]
     },
     "metadata": {},
     "output_type": "display_data"
    }
   ],
   "source": [
    "fig, ax = plt.subplots(nrows=1, ncols=2, figsize=(16,5))\n",
    "\n",
    "sns.histplot(data=df, x='sqft_lot', ax = ax[0])\n",
    "sns.boxplot(data=df, x='sqft_lot', ax=ax[1]);"
   ]
  },
  {
   "cell_type": "code",
   "execution_count": 32,
   "metadata": {
    "hidden": true
   },
   "outputs": [],
   "source": [
    "df.drop(df[df['sqft_lot'] > 17500].index, inplace = True)"
   ]
  },
  {
   "cell_type": "code",
   "execution_count": 33,
   "metadata": {
    "hidden": true
   },
   "outputs": [
    {
     "data": {
      "image/png": "[encoded data removed]",
      "text/plain": [
       "<Figure size 1152x360 with 2 Axes>"
      ]
     },
     "metadata": {},
     "output_type": "display_data"
    }
   ],
   "source": [
    "fig, ax = plt.subplots(nrows=1, ncols=2, figsize=(16,5))\n",
    "\n",
    "sns.histplot(data=df, x='sqft_lot', ax = ax[0])\n",
    "sns.boxplot(data=df, x='sqft_lot', ax=ax[1]);"
   ]
  },
  {
   "cell_type": "code",
   "execution_count": 34,
   "metadata": {
    "hidden": true
   },
   "outputs": [
    {
     "data": {
      "text/plain": [
       "(14990, 27)"
      ]
     },
     "execution_count": 34,
     "metadata": {},
     "output_type": "execute_result"
    }
   ],
   "source": [
    "df.shape"
   ]
  },
  {
   "cell_type": "markdown",
   "metadata": {},
   "source": [
    "### sqft_basement"
   ]
  },
  {
   "cell_type": "code",
   "execution_count": 35,
   "metadata": {
    "scrolled": false
   },
   "outputs": [
    {
     "data": {
      "image/png": "[encoded data removed]",
      "text/plain": [
       "<Figure size 432x288 with 1 Axes>"
      ]
     },
     "metadata": {},
     "output_type": "display_data"
    }
   ],
   "source": [
    "sns.histplot(data=df, x='sqft_basement');"
   ]
  },
  {
   "cell_type": "code",
   "execution_count": 36,
   "metadata": {},
   "outputs": [],
   "source": [
    "df.drop(df[df['sqft_basement'] > 1300].index, inplace=True)"
   ]
  },
  {
   "cell_type": "code",
   "execution_count": 37,
   "metadata": {
    "scrolled": false
   },
   "outputs": [
    {
     "data": {
      "image/png": "[encoded data removed]",
      "text/plain": [
       "<Figure size 432x288 with 1 Axes>"
      ]
     },
     "metadata": {},
     "output_type": "display_data"
    }
   ],
   "source": [
    "sns.histplot(data = df, x='sqft_basement');"
   ]
  },
  {
   "cell_type": "markdown",
   "metadata": {},
   "source": [
    "#### has_basement"
   ]
  },
  {
   "cell_type": "code",
   "execution_count": 38,
   "metadata": {
    "scrolled": true
   },
   "outputs": [
    {
     "data": {
      "text/plain": [
       "count    14838.000000\n",
       "mean         0.363796\n",
       "std          0.481107\n",
       "min          0.000000\n",
       "25%          0.000000\n",
       "50%          0.000000\n",
       "75%          1.000000\n",
       "max          1.000000\n",
       "Name: has_basement, dtype: float64"
      ]
     },
     "execution_count": 38,
     "metadata": {},
     "output_type": "execute_result"
    }
   ],
   "source": [
    "df['has_basement'].describe()"
   ]
  },
  {
   "cell_type": "code",
   "execution_count": 39,
   "metadata": {},
   "outputs": [
    {
     "data": {
      "image/png": "[encoded data removed]",
      "text/plain": [
       "<Figure size 432x288 with 1 Axes>"
      ]
     },
     "metadata": {},
     "output_type": "display_data"
    }
   ],
   "source": [
    "sns.histplot(data = df, x='has_basement');"
   ]
  },
  {
   "cell_type": "code",
   "execution_count": 40,
   "metadata": {},
   "outputs": [
    {
     "data": {
      "text/plain": [
       "(14838, 27)"
      ]
     },
     "execution_count": 40,
     "metadata": {},
     "output_type": "execute_result"
    }
   ],
   "source": [
    "df.shape"
   ]
  },
  {
   "cell_type": "markdown",
   "metadata": {
    "heading_collapsed": true
   },
   "source": [
    "### floors"
   ]
  },
  {
   "cell_type": "code",
   "execution_count": 41,
   "metadata": {
    "hidden": true
   },
   "outputs": [
    {
     "data": {
      "text/plain": [
       "1.0    8122\n",
       "2.0    4924\n",
       "1.5    1246\n",
       "3.0     482\n",
       "2.5      58\n",
       "3.5       6\n",
       "Name: floors, dtype: int64"
      ]
     },
     "execution_count": 41,
     "metadata": {},
     "output_type": "execute_result"
    }
   ],
   "source": [
    "df['floors'].value_counts()"
   ]
  },
  {
   "cell_type": "code",
   "execution_count": 42,
   "metadata": {
    "hidden": true
   },
   "outputs": [],
   "source": [
    "df.drop(df[df['floors'] > 3].index, inplace=True)"
   ]
  },
  {
   "cell_type": "code",
   "execution_count": 43,
   "metadata": {
    "hidden": true,
    "scrolled": true
   },
   "outputs": [
    {
     "data": {
      "text/plain": [
       "1.0    8122\n",
       "2.0    4924\n",
       "1.5    1246\n",
       "3.0     482\n",
       "2.5      58\n",
       "Name: floors, dtype: int64"
      ]
     },
     "execution_count": 43,
     "metadata": {},
     "output_type": "execute_result"
    }
   ],
   "source": [
    "df['floors'].value_counts()"
   ]
  },
  {
   "cell_type": "markdown",
   "metadata": {
    "heading_collapsed": true
   },
   "source": [
    "### grade and condition"
   ]
  },
  {
   "cell_type": "code",
   "execution_count": 44,
   "metadata": {
    "hidden": true
   },
   "outputs": [
    {
     "data": {
      "text/plain": [
       "7     7673\n",
       "8     4218\n",
       "6     1733\n",
       "9      926\n",
       "5      150\n",
       "10     115\n",
       "4       13\n",
       "11       3\n",
       "3        1\n",
       "Name: grade, dtype: int64"
      ]
     },
     "execution_count": 44,
     "metadata": {},
     "output_type": "execute_result"
    }
   ],
   "source": [
    "df['grade'].value_counts()"
   ]
  },
  {
   "cell_type": "code",
   "execution_count": 45,
   "metadata": {
    "hidden": true,
    "scrolled": false
   },
   "outputs": [
    {
     "data": {
      "text/plain": [
       "3    9751\n",
       "4    3872\n",
       "5    1084\n",
       "2     111\n",
       "1      14\n",
       "Name: condition, dtype: int64"
      ]
     },
     "execution_count": 45,
     "metadata": {},
     "output_type": "execute_result"
    }
   ],
   "source": [
    "df['condition'].value_counts()"
   ]
  },
  {
   "cell_type": "markdown",
   "metadata": {
    "heading_collapsed": true
   },
   "source": [
    "### sqft_lot15"
   ]
  },
  {
   "cell_type": "code",
   "execution_count": 46,
   "metadata": {
    "hidden": true
   },
   "outputs": [
    {
     "data": {
      "image/png": "[encoded data removed]",
      "text/plain": [
       "<Figure size 1152x360 with 2 Axes>"
      ]
     },
     "metadata": {},
     "output_type": "display_data"
    }
   ],
   "source": [
    "fig, ax = plt.subplots(nrows=1, ncols=2, figsize=(16,5))\n",
    "\n",
    "sns.histplot(data=df, x='sqft_lot15', ax = ax[0])\n",
    "sns.boxplot(data=df, x='sqft_lot15', ax=ax[1]);"
   ]
  },
  {
   "cell_type": "code",
   "execution_count": 47,
   "metadata": {
    "hidden": true
   },
   "outputs": [],
   "source": [
    "df.drop(df[df['sqft_lot15'] > 25000].index, inplace=True)"
   ]
  },
  {
   "cell_type": "code",
   "execution_count": 48,
   "metadata": {
    "hidden": true
   },
   "outputs": [
    {
     "data": {
      "image/png": "[encoded data removed]",
      "text/plain": [
       "<Figure size 1152x360 with 2 Axes>"
      ]
     },
     "metadata": {},
     "output_type": "display_data"
    }
   ],
   "source": [
    "fig, ax = plt.subplots(nrows=1, ncols=2, figsize=(16,5))\n",
    "\n",
    "sns.histplot(data=df, x='sqft_lot15', ax = ax[0])\n",
    "sns.boxplot(data=df, x='sqft_lot15', ax=ax[1]);"
   ]
  },
  {
   "cell_type": "code",
   "execution_count": 49,
   "metadata": {
    "hidden": true
   },
   "outputs": [
    {
     "data": {
      "text/plain": [
       "(14789, 27)"
      ]
     },
     "execution_count": 49,
     "metadata": {},
     "output_type": "execute_result"
    }
   ],
   "source": [
    "df.shape"
   ]
  },
  {
   "cell_type": "markdown",
   "metadata": {
    "heading_collapsed": true
   },
   "source": [
    "### sqft_living15"
   ]
  },
  {
   "cell_type": "code",
   "execution_count": 50,
   "metadata": {
    "hidden": true,
    "scrolled": false
   },
   "outputs": [
    {
     "data": {
      "image/png": "[encoded data removed]",
      "text/plain": [
       "<Figure size 1152x360 with 2 Axes>"
      ]
     },
     "metadata": {},
     "output_type": "display_data"
    }
   ],
   "source": [
    "fig, ax = plt.subplots(nrows=1, ncols=2, figsize=(16,5))\n",
    "\n",
    "sns.histplot(data=df, x='sqft_living15', ax = ax[0])\n",
    "sns.boxplot(data=df, x='sqft_living15', ax=ax[1]);"
   ]
  },
  {
   "cell_type": "markdown",
   "metadata": {},
   "source": [
    "### zipcode"
   ]
  },
  {
   "cell_type": "code",
   "execution_count": 51,
   "metadata": {},
   "outputs": [
    {
     "name": "stderr",
     "output_type": "stream",
     "text": [
      "C:\\Users\\epcus\\anaconda3\\envs\\learn-env\\lib\\site-packages\\seaborn\\_decorators.py:36: FutureWarning: Pass the following variables as keyword args: x, y. From version 0.12, the only valid positional argument will be `data`, and passing other arguments without an explicit keyword will result in an error or misinterpretation.\n",
      "  warnings.warn(\n"
     ]
    },
    {
     "data": {
      "image/png": "[encoded data removed]",
      "text/plain": [
       "<Figure size 432x288 with 1 Axes>"
      ]
     },
     "metadata": {},
     "output_type": "display_data"
    }
   ],
   "source": [
    "sns.scatterplot(df.long, df.lat, hue=df.price);"
   ]
  },
  {
   "cell_type": "code",
   "execution_count": 52,
   "metadata": {},
   "outputs": [
    {
     "data": {
      "text/plain": [
       "zipcode\n",
       "98001    280\n",
       "98002    178\n",
       "98003    250\n",
       "98004     27\n",
       "98005     54\n",
       "        ... \n",
       "98177    172\n",
       "98178    226\n",
       "98188    115\n",
       "98198    223\n",
       "98199    161\n",
       "Name: price, Length: 69, dtype: int64"
      ]
     },
     "execution_count": 52,
     "metadata": {},
     "output_type": "execute_result"
    }
   ],
   "source": [
    "frequency = df.groupby('zipcode')['price'].count()\n",
    "frequency"
   ]
  },
  {
   "cell_type": "code",
   "execution_count": 53,
   "metadata": {},
   "outputs": [
    {
     "data": {
      "text/plain": [
       "zipcode\n",
       "98001    271986.396429\n",
       "98002    238721.758427\n",
       "98003    283515.832000\n",
       "98004    632081.481481\n",
       "98005    589203.166667\n",
       "             ...      \n",
       "98177    482602.877907\n",
       "98178    289457.707965\n",
       "98188    280939.695652\n",
       "98198    279732.452915\n",
       "98199    532290.099379\n",
       "Name: price, Length: 69, dtype: float64"
      ]
     },
     "execution_count": 53,
     "metadata": {},
     "output_type": "execute_result"
    }
   ],
   "source": [
    "mean = df.groupby('zipcode').mean()['price']\n",
    "mean"
   ]
  },
  {
   "cell_type": "code",
   "execution_count": 54,
   "metadata": {},
   "outputs": [
    {
     "data": {
      "text/html": [
       "<div>\n",
       "<style scoped>\n",
       "    .dataframe tbody tr th:only-of-type {\n",
       "        vertical-align: middle;\n",
       "    }\n",
       "\n",
       "    .dataframe tbody tr th {\n",
       "        vertical-align: top;\n",
       "    }\n",
       "\n",
       "    .dataframe thead th {\n",
       "        text-align: right;\n",
       "    }\n",
       "</style>\n",
       "<table border=\"1\" class=\"dataframe\">\n",
       "  <thead>\n",
       "    <tr style=\"text-align: right;\">\n",
       "      <th></th>\n",
       "      <th>price</th>\n",
       "      <th>price</th>\n",
       "    </tr>\n",
       "    <tr>\n",
       "      <th>zipcode</th>\n",
       "      <th></th>\n",
       "      <th></th>\n",
       "    </tr>\n",
       "  </thead>\n",
       "  <tbody>\n",
       "    <tr>\n",
       "      <th>98001</th>\n",
       "      <td>280</td>\n",
       "      <td>271986.396429</td>\n",
       "    </tr>\n",
       "    <tr>\n",
       "      <th>98002</th>\n",
       "      <td>178</td>\n",
       "      <td>238721.758427</td>\n",
       "    </tr>\n",
       "    <tr>\n",
       "      <th>98003</th>\n",
       "      <td>250</td>\n",
       "      <td>283515.832000</td>\n",
       "    </tr>\n",
       "    <tr>\n",
       "      <th>98004</th>\n",
       "      <td>27</td>\n",
       "      <td>632081.481481</td>\n",
       "    </tr>\n",
       "    <tr>\n",
       "      <th>98005</th>\n",
       "      <td>54</td>\n",
       "      <td>589203.166667</td>\n",
       "    </tr>\n",
       "    <tr>\n",
       "      <th>...</th>\n",
       "      <td>...</td>\n",
       "      <td>...</td>\n",
       "    </tr>\n",
       "    <tr>\n",
       "      <th>98177</th>\n",
       "      <td>172</td>\n",
       "      <td>482602.877907</td>\n",
       "    </tr>\n",
       "    <tr>\n",
       "      <th>98178</th>\n",
       "      <td>226</td>\n",
       "      <td>289457.707965</td>\n",
       "    </tr>\n",
       "    <tr>\n",
       "      <th>98188</th>\n",
       "      <td>115</td>\n",
       "      <td>280939.695652</td>\n",
       "    </tr>\n",
       "    <tr>\n",
       "      <th>98198</th>\n",
       "      <td>223</td>\n",
       "      <td>279732.452915</td>\n",
       "    </tr>\n",
       "    <tr>\n",
       "      <th>98199</th>\n",
       "      <td>161</td>\n",
       "      <td>532290.099379</td>\n",
       "    </tr>\n",
       "  </tbody>\n",
       "</table>\n",
       "<p>69 rows × 2 columns</p>\n",
       "</div>"
      ],
      "text/plain": [
       "         price          price\n",
       "zipcode                      \n",
       "98001      280  271986.396429\n",
       "98002      178  238721.758427\n",
       "98003      250  283515.832000\n",
       "98004       27  632081.481481\n",
       "98005       54  589203.166667\n",
       "...        ...            ...\n",
       "98177      172  482602.877907\n",
       "98178      226  289457.707965\n",
       "98188      115  280939.695652\n",
       "98198      223  279732.452915\n",
       "98199      161  532290.099379\n",
       "\n",
       "[69 rows x 2 columns]"
      ]
     },
     "execution_count": 54,
     "metadata": {},
     "output_type": "execute_result"
    }
   ],
   "source": [
    "cluster = pd.concat([frequency, mean], axis=1)\n",
    "cluster"
   ]
  },
  {
   "cell_type": "code",
   "execution_count": 55,
   "metadata": {},
   "outputs": [],
   "source": [
    "cluster['zipcode'] = cluster.index"
   ]
  },
  {
   "cell_type": "code",
   "execution_count": 56,
   "metadata": {},
   "outputs": [
    {
     "data": {
      "text/html": [
       "<div>\n",
       "<style scoped>\n",
       "    .dataframe tbody tr th:only-of-type {\n",
       "        vertical-align: middle;\n",
       "    }\n",
       "\n",
       "    .dataframe tbody tr th {\n",
       "        vertical-align: top;\n",
       "    }\n",
       "\n",
       "    .dataframe thead th {\n",
       "        text-align: right;\n",
       "    }\n",
       "</style>\n",
       "<table border=\"1\" class=\"dataframe\">\n",
       "  <thead>\n",
       "    <tr style=\"text-align: right;\">\n",
       "      <th></th>\n",
       "      <th>frequency</th>\n",
       "      <th>price</th>\n",
       "      <th>zipcode</th>\n",
       "    </tr>\n",
       "  </thead>\n",
       "  <tbody>\n",
       "    <tr>\n",
       "      <th>count</th>\n",
       "      <td>69.000000</td>\n",
       "      <td>69.000000</td>\n",
       "      <td>69.000000</td>\n",
       "    </tr>\n",
       "    <tr>\n",
       "      <th>mean</th>\n",
       "      <td>214.333333</td>\n",
       "      <td>418886.300224</td>\n",
       "      <td>98077.855072</td>\n",
       "    </tr>\n",
       "    <tr>\n",
       "      <th>std</th>\n",
       "      <td>128.304288</td>\n",
       "      <td>111068.442087</td>\n",
       "      <td>56.845062</td>\n",
       "    </tr>\n",
       "    <tr>\n",
       "      <th>min</th>\n",
       "      <td>19.000000</td>\n",
       "      <td>238721.758427</td>\n",
       "      <td>98001.000000</td>\n",
       "    </tr>\n",
       "    <tr>\n",
       "      <th>25%</th>\n",
       "      <td>117.000000</td>\n",
       "      <td>311124.153846</td>\n",
       "      <td>98029.000000</td>\n",
       "    </tr>\n",
       "    <tr>\n",
       "      <th>50%</th>\n",
       "      <td>217.000000</td>\n",
       "      <td>419949.202346</td>\n",
       "      <td>98070.000000</td>\n",
       "    </tr>\n",
       "    <tr>\n",
       "      <th>75%</th>\n",
       "      <td>280.000000</td>\n",
       "      <td>510011.021687</td>\n",
       "      <td>98118.000000</td>\n",
       "    </tr>\n",
       "    <tr>\n",
       "      <th>max</th>\n",
       "      <td>478.000000</td>\n",
       "      <td>632081.481481</td>\n",
       "      <td>98199.000000</td>\n",
       "    </tr>\n",
       "  </tbody>\n",
       "</table>\n",
       "</div>"
      ],
      "text/plain": [
       "        frequency          price       zipcode\n",
       "count   69.000000      69.000000     69.000000\n",
       "mean   214.333333  418886.300224  98077.855072\n",
       "std    128.304288  111068.442087     56.845062\n",
       "min     19.000000  238721.758427  98001.000000\n",
       "25%    117.000000  311124.153846  98029.000000\n",
       "50%    217.000000  419949.202346  98070.000000\n",
       "75%    280.000000  510011.021687  98118.000000\n",
       "max    478.000000  632081.481481  98199.000000"
      ]
     },
     "execution_count": 56,
     "metadata": {},
     "output_type": "execute_result"
    }
   ],
   "source": [
    "cluster.columns = ['frequency','price', 'zipcode']\n",
    "cluster.describe()"
   ]
  },
  {
   "cell_type": "code",
   "execution_count": 57,
   "metadata": {},
   "outputs": [],
   "source": [
    "# creating \"cheap\" group that sell below mean price(454585)\n",
    "cluster_cheap = cluster[cluster.price < 454585]\n",
    "\n",
    "# temporary cluster of the houses that sell above mean price\n",
    "cluster_temp = cluster[cluster.price >= 454585]\n",
    "\n",
    "# creating \"low volume, higher priced\" group that sell less frequently than the mean\n",
    "cluster_cheap_low_volume = cluster_cheap[cluster_cheap.frequency < 330]\n",
    "\n",
    "# creating \"high volume, higher priced\" group that sell more frequently than the mean\n",
    "cluster_cheap_high_volume = cluster_cheap[cluster_cheap.frequency >= 330]\n",
    "\n",
    "# creating \"low volume, higher priced\" group that sell less frequently than the mean\n",
    "cluster_expensive_low_volume = cluster_temp[cluster_temp.frequency < 278]\n",
    "\n",
    "# creating \"high volume, higher priced\" group that sell more frequently than the mean\n",
    "cluster_expensive_high_volume = cluster_temp[cluster_temp.frequency >= 280]"
   ]
  },
  {
   "cell_type": "code",
   "execution_count": 58,
   "metadata": {},
   "outputs": [],
   "source": [
    "def get_zipcode_category(zipcode):\n",
    "    if zipcode in cluster_cheap_low_volume.index:\n",
    "        return 'cheap_low_volume'\n",
    "    elif zipcode in cluster_cheap_high_volume.index:\n",
    "        return 'cheap_high_volume'\n",
    "    elif zipcode in cluster_expensive_low_volume.index:\n",
    "        return 'expensive_low_volume'\n",
    "    else:\n",
    "        return 'expensive_high_volume'"
   ]
  },
  {
   "cell_type": "code",
   "execution_count": 59,
   "metadata": {},
   "outputs": [
    {
     "data": {
      "text/html": [
       "<div>\n",
       "<style scoped>\n",
       "    .dataframe tbody tr th:only-of-type {\n",
       "        vertical-align: middle;\n",
       "    }\n",
       "\n",
       "    .dataframe tbody tr th {\n",
       "        vertical-align: top;\n",
       "    }\n",
       "\n",
       "    .dataframe thead th {\n",
       "        text-align: right;\n",
       "    }\n",
       "</style>\n",
       "<table border=\"1\" class=\"dataframe\">\n",
       "  <thead>\n",
       "    <tr style=\"text-align: right;\">\n",
       "      <th></th>\n",
       "      <th>price</th>\n",
       "      <th>bedrooms</th>\n",
       "      <th>bathrooms</th>\n",
       "      <th>sqft_living</th>\n",
       "      <th>sqft_lot</th>\n",
       "      <th>floors</th>\n",
       "      <th>waterfront</th>\n",
       "      <th>view</th>\n",
       "      <th>condition</th>\n",
       "      <th>grade</th>\n",
       "      <th>...</th>\n",
       "      <th>sqft_lot15</th>\n",
       "      <th>month_sold</th>\n",
       "      <th>year_sold</th>\n",
       "      <th>sold_spring_time</th>\n",
       "      <th>sold_summer_time</th>\n",
       "      <th>sold_fall_time</th>\n",
       "      <th>sold_winter_time</th>\n",
       "      <th>has_renovated</th>\n",
       "      <th>has_basement</th>\n",
       "      <th>zipcode_type</th>\n",
       "    </tr>\n",
       "  </thead>\n",
       "  <tbody>\n",
       "    <tr>\n",
       "      <th>0</th>\n",
       "      <td>221900</td>\n",
       "      <td>3</td>\n",
       "      <td>1.00</td>\n",
       "      <td>1180</td>\n",
       "      <td>5650</td>\n",
       "      <td>1.0</td>\n",
       "      <td>0</td>\n",
       "      <td>0</td>\n",
       "      <td>3</td>\n",
       "      <td>7</td>\n",
       "      <td>...</td>\n",
       "      <td>5650</td>\n",
       "      <td>10</td>\n",
       "      <td>2014</td>\n",
       "      <td>0</td>\n",
       "      <td>0</td>\n",
       "      <td>0</td>\n",
       "      <td>1</td>\n",
       "      <td>0</td>\n",
       "      <td>0</td>\n",
       "      <td>cheap_low_volume</td>\n",
       "    </tr>\n",
       "    <tr>\n",
       "      <th>1</th>\n",
       "      <td>538000</td>\n",
       "      <td>3</td>\n",
       "      <td>2.25</td>\n",
       "      <td>2570</td>\n",
       "      <td>7242</td>\n",
       "      <td>2.0</td>\n",
       "      <td>0</td>\n",
       "      <td>0</td>\n",
       "      <td>3</td>\n",
       "      <td>7</td>\n",
       "      <td>...</td>\n",
       "      <td>7639</td>\n",
       "      <td>12</td>\n",
       "      <td>2014</td>\n",
       "      <td>0</td>\n",
       "      <td>0</td>\n",
       "      <td>0</td>\n",
       "      <td>1</td>\n",
       "      <td>1</td>\n",
       "      <td>1</td>\n",
       "      <td>cheap_high_volume</td>\n",
       "    </tr>\n",
       "    <tr>\n",
       "      <th>2</th>\n",
       "      <td>180000</td>\n",
       "      <td>2</td>\n",
       "      <td>1.00</td>\n",
       "      <td>770</td>\n",
       "      <td>10000</td>\n",
       "      <td>1.0</td>\n",
       "      <td>0</td>\n",
       "      <td>0</td>\n",
       "      <td>3</td>\n",
       "      <td>6</td>\n",
       "      <td>...</td>\n",
       "      <td>8062</td>\n",
       "      <td>2</td>\n",
       "      <td>2015</td>\n",
       "      <td>1</td>\n",
       "      <td>0</td>\n",
       "      <td>0</td>\n",
       "      <td>0</td>\n",
       "      <td>0</td>\n",
       "      <td>0</td>\n",
       "      <td>cheap_low_volume</td>\n",
       "    </tr>\n",
       "    <tr>\n",
       "      <th>3</th>\n",
       "      <td>604000</td>\n",
       "      <td>4</td>\n",
       "      <td>3.00</td>\n",
       "      <td>1960</td>\n",
       "      <td>5000</td>\n",
       "      <td>1.0</td>\n",
       "      <td>0</td>\n",
       "      <td>0</td>\n",
       "      <td>5</td>\n",
       "      <td>7</td>\n",
       "      <td>...</td>\n",
       "      <td>5000</td>\n",
       "      <td>12</td>\n",
       "      <td>2014</td>\n",
       "      <td>0</td>\n",
       "      <td>0</td>\n",
       "      <td>0</td>\n",
       "      <td>1</td>\n",
       "      <td>0</td>\n",
       "      <td>1</td>\n",
       "      <td>expensive_low_volume</td>\n",
       "    </tr>\n",
       "    <tr>\n",
       "      <th>4</th>\n",
       "      <td>510000</td>\n",
       "      <td>3</td>\n",
       "      <td>2.00</td>\n",
       "      <td>1680</td>\n",
       "      <td>8080</td>\n",
       "      <td>1.0</td>\n",
       "      <td>0</td>\n",
       "      <td>0</td>\n",
       "      <td>3</td>\n",
       "      <td>8</td>\n",
       "      <td>...</td>\n",
       "      <td>7503</td>\n",
       "      <td>2</td>\n",
       "      <td>2015</td>\n",
       "      <td>1</td>\n",
       "      <td>0</td>\n",
       "      <td>0</td>\n",
       "      <td>0</td>\n",
       "      <td>0</td>\n",
       "      <td>0</td>\n",
       "      <td>expensive_low_volume</td>\n",
       "    </tr>\n",
       "    <tr>\n",
       "      <th>...</th>\n",
       "      <td>...</td>\n",
       "      <td>...</td>\n",
       "      <td>...</td>\n",
       "      <td>...</td>\n",
       "      <td>...</td>\n",
       "      <td>...</td>\n",
       "      <td>...</td>\n",
       "      <td>...</td>\n",
       "      <td>...</td>\n",
       "      <td>...</td>\n",
       "      <td>...</td>\n",
       "      <td>...</td>\n",
       "      <td>...</td>\n",
       "      <td>...</td>\n",
       "      <td>...</td>\n",
       "      <td>...</td>\n",
       "      <td>...</td>\n",
       "      <td>...</td>\n",
       "      <td>...</td>\n",
       "      <td>...</td>\n",
       "      <td>...</td>\n",
       "    </tr>\n",
       "    <tr>\n",
       "      <th>21592</th>\n",
       "      <td>360000</td>\n",
       "      <td>3</td>\n",
       "      <td>2.50</td>\n",
       "      <td>1530</td>\n",
       "      <td>1131</td>\n",
       "      <td>3.0</td>\n",
       "      <td>0</td>\n",
       "      <td>0</td>\n",
       "      <td>3</td>\n",
       "      <td>8</td>\n",
       "      <td>...</td>\n",
       "      <td>1509</td>\n",
       "      <td>5</td>\n",
       "      <td>2014</td>\n",
       "      <td>0</td>\n",
       "      <td>1</td>\n",
       "      <td>0</td>\n",
       "      <td>0</td>\n",
       "      <td>0</td>\n",
       "      <td>0</td>\n",
       "      <td>expensive_high_volume</td>\n",
       "    </tr>\n",
       "    <tr>\n",
       "      <th>21593</th>\n",
       "      <td>400000</td>\n",
       "      <td>4</td>\n",
       "      <td>2.50</td>\n",
       "      <td>2310</td>\n",
       "      <td>5813</td>\n",
       "      <td>2.0</td>\n",
       "      <td>0</td>\n",
       "      <td>0</td>\n",
       "      <td>3</td>\n",
       "      <td>8</td>\n",
       "      <td>...</td>\n",
       "      <td>7200</td>\n",
       "      <td>2</td>\n",
       "      <td>2015</td>\n",
       "      <td>1</td>\n",
       "      <td>0</td>\n",
       "      <td>0</td>\n",
       "      <td>0</td>\n",
       "      <td>0</td>\n",
       "      <td>0</td>\n",
       "      <td>cheap_low_volume</td>\n",
       "    </tr>\n",
       "    <tr>\n",
       "      <th>21594</th>\n",
       "      <td>402101</td>\n",
       "      <td>2</td>\n",
       "      <td>0.75</td>\n",
       "      <td>1020</td>\n",
       "      <td>1350</td>\n",
       "      <td>2.0</td>\n",
       "      <td>0</td>\n",
       "      <td>0</td>\n",
       "      <td>3</td>\n",
       "      <td>7</td>\n",
       "      <td>...</td>\n",
       "      <td>2007</td>\n",
       "      <td>6</td>\n",
       "      <td>2014</td>\n",
       "      <td>0</td>\n",
       "      <td>1</td>\n",
       "      <td>0</td>\n",
       "      <td>0</td>\n",
       "      <td>0</td>\n",
       "      <td>0</td>\n",
       "      <td>cheap_low_volume</td>\n",
       "    </tr>\n",
       "    <tr>\n",
       "      <th>21595</th>\n",
       "      <td>400000</td>\n",
       "      <td>3</td>\n",
       "      <td>2.50</td>\n",
       "      <td>1600</td>\n",
       "      <td>2388</td>\n",
       "      <td>2.0</td>\n",
       "      <td>0</td>\n",
       "      <td>0</td>\n",
       "      <td>3</td>\n",
       "      <td>8</td>\n",
       "      <td>...</td>\n",
       "      <td>1287</td>\n",
       "      <td>1</td>\n",
       "      <td>2015</td>\n",
       "      <td>1</td>\n",
       "      <td>0</td>\n",
       "      <td>0</td>\n",
       "      <td>0</td>\n",
       "      <td>0</td>\n",
       "      <td>0</td>\n",
       "      <td>expensive_low_volume</td>\n",
       "    </tr>\n",
       "    <tr>\n",
       "      <th>21596</th>\n",
       "      <td>325000</td>\n",
       "      <td>2</td>\n",
       "      <td>0.75</td>\n",
       "      <td>1020</td>\n",
       "      <td>1076</td>\n",
       "      <td>2.0</td>\n",
       "      <td>0</td>\n",
       "      <td>0</td>\n",
       "      <td>3</td>\n",
       "      <td>7</td>\n",
       "      <td>...</td>\n",
       "      <td>1357</td>\n",
       "      <td>10</td>\n",
       "      <td>2014</td>\n",
       "      <td>0</td>\n",
       "      <td>0</td>\n",
       "      <td>0</td>\n",
       "      <td>1</td>\n",
       "      <td>0</td>\n",
       "      <td>0</td>\n",
       "      <td>cheap_low_volume</td>\n",
       "    </tr>\n",
       "  </tbody>\n",
       "</table>\n",
       "<p>14789 rows × 28 columns</p>\n",
       "</div>"
      ],
      "text/plain": [
       "        price  bedrooms  bathrooms  sqft_living  sqft_lot  floors  waterfront  \\\n",
       "0      221900         3       1.00         1180      5650     1.0           0   \n",
       "1      538000         3       2.25         2570      7242     2.0           0   \n",
       "2      180000         2       1.00          770     10000     1.0           0   \n",
       "3      604000         4       3.00         1960      5000     1.0           0   \n",
       "4      510000         3       2.00         1680      8080     1.0           0   \n",
       "...       ...       ...        ...          ...       ...     ...         ...   \n",
       "21592  360000         3       2.50         1530      1131     3.0           0   \n",
       "21593  400000         4       2.50         2310      5813     2.0           0   \n",
       "21594  402101         2       0.75         1020      1350     2.0           0   \n",
       "21595  400000         3       2.50         1600      2388     2.0           0   \n",
       "21596  325000         2       0.75         1020      1076     2.0           0   \n",
       "\n",
       "       view  condition  grade  ...  sqft_lot15  month_sold  year_sold  \\\n",
       "0         0          3      7  ...        5650          10       2014   \n",
       "1         0          3      7  ...        7639          12       2014   \n",
       "2         0          3      6  ...        8062           2       2015   \n",
       "3         0          5      7  ...        5000          12       2014   \n",
       "4         0          3      8  ...        7503           2       2015   \n",
       "...     ...        ...    ...  ...         ...         ...        ...   \n",
       "21592     0          3      8  ...        1509           5       2014   \n",
       "21593     0          3      8  ...        7200           2       2015   \n",
       "21594     0          3      7  ...        2007           6       2014   \n",
       "21595     0          3      8  ...        1287           1       2015   \n",
       "21596     0          3      7  ...        1357          10       2014   \n",
       "\n",
       "       sold_spring_time  sold_summer_time  sold_fall_time  sold_winter_time  \\\n",
       "0                     0                 0               0                 1   \n",
       "1                     0                 0               0                 1   \n",
       "2                     1                 0               0                 0   \n",
       "3                     0                 0               0                 1   \n",
       "4                     1                 0               0                 0   \n",
       "...                 ...               ...             ...               ...   \n",
       "21592                 0                 1               0                 0   \n",
       "21593                 1                 0               0                 0   \n",
       "21594                 0                 1               0                 0   \n",
       "21595                 1                 0               0                 0   \n",
       "21596                 0                 0               0                 1   \n",
       "\n",
       "       has_renovated  has_basement           zipcode_type  \n",
       "0                  0             0       cheap_low_volume  \n",
       "1                  1             1      cheap_high_volume  \n",
       "2                  0             0       cheap_low_volume  \n",
       "3                  0             1   expensive_low_volume  \n",
       "4                  0             0   expensive_low_volume  \n",
       "...              ...           ...                    ...  \n",
       "21592              0             0  expensive_high_volume  \n",
       "21593              0             0       cheap_low_volume  \n",
       "21594              0             0       cheap_low_volume  \n",
       "21595              0             0   expensive_low_volume  \n",
       "21596              0             0       cheap_low_volume  \n",
       "\n",
       "[14789 rows x 28 columns]"
      ]
     },
     "execution_count": 59,
     "metadata": {},
     "output_type": "execute_result"
    }
   ],
   "source": [
    "df['zipcode_type'] = df.zipcode.apply(get_zipcode_category)\n",
    "df.zipcode_type.value_counts() # viewing how our clusters look\n",
    "df"
   ]
  },
  {
   "cell_type": "markdown",
   "metadata": {},
   "source": [
    "## Continuous and Categorical Features"
   ]
  },
  {
   "cell_type": "code",
   "execution_count": 60,
   "metadata": {},
   "outputs": [],
   "source": [
    "# df_cont = df[['sqft_living', 'sqft_lot', 'sqft_above', 'sqft_basement', 'lat', 'long', 'sqft_living15', 'sqft_lot15']]\n",
    "# df_cate = df[['condition', 'grade', 'zipcode']]\n",
    "\n",
    "# pd.plotting.scatter_matrix(pd.concat([df_cont, df_cate], axis=1), figsize = [12,12])\n",
    "# plt.show()"
   ]
  },
  {
   "cell_type": "markdown",
   "metadata": {},
   "source": [
    "### Multi-collineary "
   ]
  },
  {
   "cell_type": "code",
   "execution_count": 61,
   "metadata": {},
   "outputs": [
    {
     "data": {
      "text/html": [
       "<div>\n",
       "<style scoped>\n",
       "    .dataframe tbody tr th:only-of-type {\n",
       "        vertical-align: middle;\n",
       "    }\n",
       "\n",
       "    .dataframe tbody tr th {\n",
       "        vertical-align: top;\n",
       "    }\n",
       "\n",
       "    .dataframe thead th {\n",
       "        text-align: right;\n",
       "    }\n",
       "</style>\n",
       "<table border=\"1\" class=\"dataframe\">\n",
       "  <thead>\n",
       "    <tr style=\"text-align: right;\">\n",
       "      <th></th>\n",
       "      <th>cc</th>\n",
       "    </tr>\n",
       "    <tr>\n",
       "      <th>pairs</th>\n",
       "      <th></th>\n",
       "    </tr>\n",
       "  </thead>\n",
       "  <tbody>\n",
       "    <tr>\n",
       "      <th>(sqft_lot, sqft_lot15)</th>\n",
       "      <td>0.863163</td>\n",
       "    </tr>\n",
       "    <tr>\n",
       "      <th>(sqft_living, sqft_above)</th>\n",
       "      <td>0.828491</td>\n",
       "    </tr>\n",
       "    <tr>\n",
       "      <th>(sqft_living15, sqft_living)</th>\n",
       "      <td>0.709926</td>\n",
       "    </tr>\n",
       "  </tbody>\n",
       "</table>\n",
       "</div>"
      ],
      "text/plain": [
       "                                    cc\n",
       "pairs                                 \n",
       "(sqft_lot, sqft_lot15)        0.863163\n",
       "(sqft_living, sqft_above)     0.828491\n",
       "(sqft_living15, sqft_living)  0.709926"
      ]
     },
     "execution_count": 61,
     "metadata": {},
     "output_type": "execute_result"
    }
   ],
   "source": [
    "df_cont = df[['sqft_living', 'sqft_lot', 'sqft_above', 'sqft_basement', \n",
    "              'lat', 'long', 'sqft_living15', 'sqft_lot15']]\n",
    "\n",
    "data_cont = df_cont.corr().abs().stack().reset_index().sort_values(0, ascending=False)\n",
    "data_cont['pairs'] = list(zip(data_cont.level_0, data_cont.level_1))\n",
    "data_cont.set_index(['pairs'], inplace=True)\n",
    "data_cont.drop(columns=['level_1', 'level_0'], inplace = True)\n",
    "data_cont.columns = ['cc']\n",
    "data_cont.drop_duplicates(inplace=True)\n",
    "data_cont[(data_cont.cc>.70) & (data_cont.cc<1)]"
   ]
  },
  {
   "cell_type": "markdown",
   "metadata": {},
   "source": [
    ">Above table are showing some highly correlated continuous columns. We'll be dropping 'sqft_above', 'sqft_living15', and 'sqft_lot15' due to high correlation that will lead to fallacy in our model."
   ]
  },
  {
   "cell_type": "code",
   "execution_count": 62,
   "metadata": {},
   "outputs": [],
   "source": [
    "#creating seperate dataframe from the original to make changes\n",
    "df_b = df"
   ]
  },
  {
   "cell_type": "code",
   "execution_count": 63,
   "metadata": {},
   "outputs": [],
   "source": [
    "#dropping the multicollinearies and unwanted columns\n",
    "df_b.drop('lat', axis = 1, inplace = True)\n",
    "df_b.drop('long', axis = 1, inplace = True)\n",
    "df_b.drop('sqft_above', axis = 1, inplace = True)\n",
    "df_b.drop('sqft_living15', axis = 1, inplace = True)\n",
    "df_b.drop('sqft_lot15', axis = 1, inplace = True)"
   ]
  },
  {
   "cell_type": "markdown",
   "metadata": {},
   "source": [
    "> We are dropping 'lat' and 'long' columns because we'll be using zipcode instead. As well as dropping the 'view' columns because we believe it's not a big determining factor for house prices."
   ]
  },
  {
   "cell_type": "markdown",
   "metadata": {},
   "source": [
    "### Categorical / One Hot Encoded"
   ]
  },
  {
   "cell_type": "code",
   "execution_count": 64,
   "metadata": {},
   "outputs": [
    {
     "data": {
      "image/png": "[encoded data removed]",
      "text/plain": [
       "<Figure size 1152x720 with 3 Axes>"
      ]
     },
     "metadata": {},
     "output_type": "display_data"
    }
   ],
   "source": [
    "#looking at graphs to see columns shaped like a categorical data\n",
    "fig, axes = plt.subplots(nrows=1, ncols=3, figsize=(16,10), sharey=True)\n",
    "\n",
    "feats = ['condition', 'grade', 'zipcode_type']\n",
    "\n",
    "for col, ax in zip(feats, axes.flatten()):\n",
    "    (df.groupby(col)               \n",
    "         .mean()['price']        \n",
    "         .sort_values()              \n",
    "         .plot\n",
    "         .bar(ax=ax))                \n",
    "    \n",
    "    ax.set_title(col)                \n",
    "fig.tight_layout()"
   ]
  },
  {
   "cell_type": "code",
   "execution_count": 65,
   "metadata": {
    "scrolled": true
   },
   "outputs": [],
   "source": [
    "features = df[feats].astype('category')"
   ]
  },
  {
   "cell_type": "code",
   "execution_count": 66,
   "metadata": {},
   "outputs": [],
   "source": [
    "feats_ohe = pd.get_dummies(features, drop_first = True)"
   ]
  },
  {
   "cell_type": "code",
   "execution_count": 67,
   "metadata": {},
   "outputs": [],
   "source": [
    "feats_ohe = feats_ohe.astype(int)"
   ]
  },
  {
   "cell_type": "code",
   "execution_count": 68,
   "metadata": {
    "scrolled": true
   },
   "outputs": [
    {
     "data": {
      "text/html": [
       "<div>\n",
       "<style scoped>\n",
       "    .dataframe tbody tr th:only-of-type {\n",
       "        vertical-align: middle;\n",
       "    }\n",
       "\n",
       "    .dataframe tbody tr th {\n",
       "        vertical-align: top;\n",
       "    }\n",
       "\n",
       "    .dataframe thead th {\n",
       "        text-align: right;\n",
       "    }\n",
       "</style>\n",
       "<table border=\"1\" class=\"dataframe\">\n",
       "  <thead>\n",
       "    <tr style=\"text-align: right;\">\n",
       "      <th></th>\n",
       "      <th>condition_2</th>\n",
       "      <th>condition_3</th>\n",
       "      <th>condition_4</th>\n",
       "      <th>condition_5</th>\n",
       "      <th>grade_4</th>\n",
       "      <th>grade_5</th>\n",
       "      <th>grade_6</th>\n",
       "      <th>grade_7</th>\n",
       "      <th>grade_8</th>\n",
       "      <th>grade_9</th>\n",
       "      <th>grade_10</th>\n",
       "      <th>grade_11</th>\n",
       "      <th>zipcode_type_cheap_low_volume</th>\n",
       "      <th>zipcode_type_expensive_high_volume</th>\n",
       "      <th>zipcode_type_expensive_low_volume</th>\n",
       "    </tr>\n",
       "  </thead>\n",
       "  <tbody>\n",
       "    <tr>\n",
       "      <th>0</th>\n",
       "      <td>0</td>\n",
       "      <td>1</td>\n",
       "      <td>0</td>\n",
       "      <td>0</td>\n",
       "      <td>0</td>\n",
       "      <td>0</td>\n",
       "      <td>0</td>\n",
       "      <td>1</td>\n",
       "      <td>0</td>\n",
       "      <td>0</td>\n",
       "      <td>0</td>\n",
       "      <td>0</td>\n",
       "      <td>1</td>\n",
       "      <td>0</td>\n",
       "      <td>0</td>\n",
       "    </tr>\n",
       "    <tr>\n",
       "      <th>1</th>\n",
       "      <td>0</td>\n",
       "      <td>1</td>\n",
       "      <td>0</td>\n",
       "      <td>0</td>\n",
       "      <td>0</td>\n",
       "      <td>0</td>\n",
       "      <td>0</td>\n",
       "      <td>1</td>\n",
       "      <td>0</td>\n",
       "      <td>0</td>\n",
       "      <td>0</td>\n",
       "      <td>0</td>\n",
       "      <td>0</td>\n",
       "      <td>0</td>\n",
       "      <td>0</td>\n",
       "    </tr>\n",
       "    <tr>\n",
       "      <th>2</th>\n",
       "      <td>0</td>\n",
       "      <td>1</td>\n",
       "      <td>0</td>\n",
       "      <td>0</td>\n",
       "      <td>0</td>\n",
       "      <td>0</td>\n",
       "      <td>1</td>\n",
       "      <td>0</td>\n",
       "      <td>0</td>\n",
       "      <td>0</td>\n",
       "      <td>0</td>\n",
       "      <td>0</td>\n",
       "      <td>1</td>\n",
       "      <td>0</td>\n",
       "      <td>0</td>\n",
       "    </tr>\n",
       "    <tr>\n",
       "      <th>3</th>\n",
       "      <td>0</td>\n",
       "      <td>0</td>\n",
       "      <td>0</td>\n",
       "      <td>1</td>\n",
       "      <td>0</td>\n",
       "      <td>0</td>\n",
       "      <td>0</td>\n",
       "      <td>1</td>\n",
       "      <td>0</td>\n",
       "      <td>0</td>\n",
       "      <td>0</td>\n",
       "      <td>0</td>\n",
       "      <td>0</td>\n",
       "      <td>0</td>\n",
       "      <td>1</td>\n",
       "    </tr>\n",
       "    <tr>\n",
       "      <th>4</th>\n",
       "      <td>0</td>\n",
       "      <td>1</td>\n",
       "      <td>0</td>\n",
       "      <td>0</td>\n",
       "      <td>0</td>\n",
       "      <td>0</td>\n",
       "      <td>0</td>\n",
       "      <td>0</td>\n",
       "      <td>1</td>\n",
       "      <td>0</td>\n",
       "      <td>0</td>\n",
       "      <td>0</td>\n",
       "      <td>0</td>\n",
       "      <td>0</td>\n",
       "      <td>1</td>\n",
       "    </tr>\n",
       "  </tbody>\n",
       "</table>\n",
       "</div>"
      ],
      "text/plain": [
       "   condition_2  condition_3  condition_4  condition_5  grade_4  grade_5  \\\n",
       "0            0            1            0            0        0        0   \n",
       "1            0            1            0            0        0        0   \n",
       "2            0            1            0            0        0        0   \n",
       "3            0            0            0            1        0        0   \n",
       "4            0            1            0            0        0        0   \n",
       "\n",
       "   grade_6  grade_7  grade_8  grade_9  grade_10  grade_11  \\\n",
       "0        0        1        0        0         0         0   \n",
       "1        0        1        0        0         0         0   \n",
       "2        1        0        0        0         0         0   \n",
       "3        0        1        0        0         0         0   \n",
       "4        0        0        1        0         0         0   \n",
       "\n",
       "   zipcode_type_cheap_low_volume  zipcode_type_expensive_high_volume  \\\n",
       "0                              1                                   0   \n",
       "1                              0                                   0   \n",
       "2                              1                                   0   \n",
       "3                              0                                   0   \n",
       "4                              0                                   0   \n",
       "\n",
       "   zipcode_type_expensive_low_volume  \n",
       "0                                  0  \n",
       "1                                  0  \n",
       "2                                  0  \n",
       "3                                  1  \n",
       "4                                  1  "
      ]
     },
     "execution_count": 68,
     "metadata": {},
     "output_type": "execute_result"
    }
   ],
   "source": [
    "feats_ohe.head()"
   ]
  },
  {
   "cell_type": "markdown",
   "metadata": {},
   "source": [
    "### Baseline DataFrame"
   ]
  },
  {
   "cell_type": "markdown",
   "metadata": {},
   "source": [
    "> Adding the new features to the baseline data"
   ]
  },
  {
   "cell_type": "code",
   "execution_count": 69,
   "metadata": {},
   "outputs": [],
   "source": [
    "df_b = pd.concat([df_b, feats_ohe], axis = 1)"
   ]
  },
  {
   "cell_type": "code",
   "execution_count": 70,
   "metadata": {},
   "outputs": [
    {
     "data": {
      "text/plain": [
       "Index(['price', 'bedrooms', 'bathrooms', 'sqft_living', 'sqft_lot', 'floors',\n",
       "       'waterfront', 'view', 'condition', 'grade', 'sqft_basement', 'yr_built',\n",
       "       'yr_renovated', 'zipcode', 'month_sold', 'year_sold',\n",
       "       'sold_spring_time', 'sold_summer_time', 'sold_fall_time',\n",
       "       'sold_winter_time', 'has_renovated', 'has_basement', 'zipcode_type',\n",
       "       'condition_2', 'condition_3', 'condition_4', 'condition_5', 'grade_4',\n",
       "       'grade_5', 'grade_6', 'grade_7', 'grade_8', 'grade_9', 'grade_10',\n",
       "       'grade_11', 'zipcode_type_cheap_low_volume',\n",
       "       'zipcode_type_expensive_high_volume',\n",
       "       'zipcode_type_expensive_low_volume'],\n",
       "      dtype='object')"
      ]
     },
     "execution_count": 70,
     "metadata": {},
     "output_type": "execute_result"
    }
   ],
   "source": [
    "df_b.columns"
   ]
  },
  {
   "cell_type": "markdown",
   "metadata": {},
   "source": [
    "> dropping more unwanted columns from our baseline DataFrame"
   ]
  },
  {
   "cell_type": "code",
   "execution_count": 71,
   "metadata": {},
   "outputs": [],
   "source": [
    "#dropping unwanted columns first\n",
    "df_b.drop('view', axis = 1, inplace = True)\n",
    "df_b.drop('yr_renovated', axis = 1, inplace = True)\n",
    "df_b.drop('sqft_basement', axis = 1, inplace = True)"
   ]
  },
  {
   "cell_type": "markdown",
   "metadata": {},
   "source": [
    ">Dropping 'condition', 'grade', and 'zipcode' since they're replaced with one hot encoded features"
   ]
  },
  {
   "cell_type": "code",
   "execution_count": 72,
   "metadata": {},
   "outputs": [],
   "source": [
    "df_b.drop('condition', axis = 1, inplace = True)\n",
    "df_b.drop('grade', axis = 1, inplace = True)\n",
    "df_b.drop('zipcode', axis = 1, inplace = True)"
   ]
  },
  {
   "cell_type": "code",
   "execution_count": 73,
   "metadata": {},
   "outputs": [],
   "source": [
    "df_b.drop('zipcode_type', axis = 1, inplace = True)"
   ]
  },
  {
   "cell_type": "code",
   "execution_count": 74,
   "metadata": {
    "scrolled": true
   },
   "outputs": [
    {
     "data": {
      "text/html": [
       "<div>\n",
       "<style scoped>\n",
       "    .dataframe tbody tr th:only-of-type {\n",
       "        vertical-align: middle;\n",
       "    }\n",
       "\n",
       "    .dataframe tbody tr th {\n",
       "        vertical-align: top;\n",
       "    }\n",
       "\n",
       "    .dataframe thead th {\n",
       "        text-align: right;\n",
       "    }\n",
       "</style>\n",
       "<table border=\"1\" class=\"dataframe\">\n",
       "  <thead>\n",
       "    <tr style=\"text-align: right;\">\n",
       "      <th></th>\n",
       "      <th>price</th>\n",
       "      <th>bedrooms</th>\n",
       "      <th>bathrooms</th>\n",
       "      <th>sqft_living</th>\n",
       "      <th>sqft_lot</th>\n",
       "      <th>floors</th>\n",
       "      <th>waterfront</th>\n",
       "      <th>yr_built</th>\n",
       "      <th>month_sold</th>\n",
       "      <th>year_sold</th>\n",
       "      <th>...</th>\n",
       "      <th>grade_5</th>\n",
       "      <th>grade_6</th>\n",
       "      <th>grade_7</th>\n",
       "      <th>grade_8</th>\n",
       "      <th>grade_9</th>\n",
       "      <th>grade_10</th>\n",
       "      <th>grade_11</th>\n",
       "      <th>zipcode_type_cheap_low_volume</th>\n",
       "      <th>zipcode_type_expensive_high_volume</th>\n",
       "      <th>zipcode_type_expensive_low_volume</th>\n",
       "    </tr>\n",
       "  </thead>\n",
       "  <tbody>\n",
       "    <tr>\n",
       "      <th>0</th>\n",
       "      <td>221900</td>\n",
       "      <td>3</td>\n",
       "      <td>1.00</td>\n",
       "      <td>1180</td>\n",
       "      <td>5650</td>\n",
       "      <td>1.0</td>\n",
       "      <td>0</td>\n",
       "      <td>1955</td>\n",
       "      <td>10</td>\n",
       "      <td>2014</td>\n",
       "      <td>...</td>\n",
       "      <td>0</td>\n",
       "      <td>0</td>\n",
       "      <td>1</td>\n",
       "      <td>0</td>\n",
       "      <td>0</td>\n",
       "      <td>0</td>\n",
       "      <td>0</td>\n",
       "      <td>1</td>\n",
       "      <td>0</td>\n",
       "      <td>0</td>\n",
       "    </tr>\n",
       "    <tr>\n",
       "      <th>1</th>\n",
       "      <td>538000</td>\n",
       "      <td>3</td>\n",
       "      <td>2.25</td>\n",
       "      <td>2570</td>\n",
       "      <td>7242</td>\n",
       "      <td>2.0</td>\n",
       "      <td>0</td>\n",
       "      <td>1951</td>\n",
       "      <td>12</td>\n",
       "      <td>2014</td>\n",
       "      <td>...</td>\n",
       "      <td>0</td>\n",
       "      <td>0</td>\n",
       "      <td>1</td>\n",
       "      <td>0</td>\n",
       "      <td>0</td>\n",
       "      <td>0</td>\n",
       "      <td>0</td>\n",
       "      <td>0</td>\n",
       "      <td>0</td>\n",
       "      <td>0</td>\n",
       "    </tr>\n",
       "    <tr>\n",
       "      <th>2</th>\n",
       "      <td>180000</td>\n",
       "      <td>2</td>\n",
       "      <td>1.00</td>\n",
       "      <td>770</td>\n",
       "      <td>10000</td>\n",
       "      <td>1.0</td>\n",
       "      <td>0</td>\n",
       "      <td>1933</td>\n",
       "      <td>2</td>\n",
       "      <td>2015</td>\n",
       "      <td>...</td>\n",
       "      <td>0</td>\n",
       "      <td>1</td>\n",
       "      <td>0</td>\n",
       "      <td>0</td>\n",
       "      <td>0</td>\n",
       "      <td>0</td>\n",
       "      <td>0</td>\n",
       "      <td>1</td>\n",
       "      <td>0</td>\n",
       "      <td>0</td>\n",
       "    </tr>\n",
       "    <tr>\n",
       "      <th>3</th>\n",
       "      <td>604000</td>\n",
       "      <td>4</td>\n",
       "      <td>3.00</td>\n",
       "      <td>1960</td>\n",
       "      <td>5000</td>\n",
       "      <td>1.0</td>\n",
       "      <td>0</td>\n",
       "      <td>1965</td>\n",
       "      <td>12</td>\n",
       "      <td>2014</td>\n",
       "      <td>...</td>\n",
       "      <td>0</td>\n",
       "      <td>0</td>\n",
       "      <td>1</td>\n",
       "      <td>0</td>\n",
       "      <td>0</td>\n",
       "      <td>0</td>\n",
       "      <td>0</td>\n",
       "      <td>0</td>\n",
       "      <td>0</td>\n",
       "      <td>1</td>\n",
       "    </tr>\n",
       "    <tr>\n",
       "      <th>4</th>\n",
       "      <td>510000</td>\n",
       "      <td>3</td>\n",
       "      <td>2.00</td>\n",
       "      <td>1680</td>\n",
       "      <td>8080</td>\n",
       "      <td>1.0</td>\n",
       "      <td>0</td>\n",
       "      <td>1987</td>\n",
       "      <td>2</td>\n",
       "      <td>2015</td>\n",
       "      <td>...</td>\n",
       "      <td>0</td>\n",
       "      <td>0</td>\n",
       "      <td>0</td>\n",
       "      <td>1</td>\n",
       "      <td>0</td>\n",
       "      <td>0</td>\n",
       "      <td>0</td>\n",
       "      <td>0</td>\n",
       "      <td>0</td>\n",
       "      <td>1</td>\n",
       "    </tr>\n",
       "  </tbody>\n",
       "</table>\n",
       "<p>5 rows × 31 columns</p>\n",
       "</div>"
      ],
      "text/plain": [
       "    price  bedrooms  bathrooms  sqft_living  sqft_lot  floors  waterfront  \\\n",
       "0  221900         3       1.00         1180      5650     1.0           0   \n",
       "1  538000         3       2.25         2570      7242     2.0           0   \n",
       "2  180000         2       1.00          770     10000     1.0           0   \n",
       "3  604000         4       3.00         1960      5000     1.0           0   \n",
       "4  510000         3       2.00         1680      8080     1.0           0   \n",
       "\n",
       "   yr_built  month_sold  year_sold  ...  grade_5  grade_6  grade_7  grade_8  \\\n",
       "0      1955          10       2014  ...        0        0        1        0   \n",
       "1      1951          12       2014  ...        0        0        1        0   \n",
       "2      1933           2       2015  ...        0        1        0        0   \n",
       "3      1965          12       2014  ...        0        0        1        0   \n",
       "4      1987           2       2015  ...        0        0        0        1   \n",
       "\n",
       "   grade_9  grade_10  grade_11  zipcode_type_cheap_low_volume  \\\n",
       "0        0         0         0                              1   \n",
       "1        0         0         0                              0   \n",
       "2        0         0         0                              1   \n",
       "3        0         0         0                              0   \n",
       "4        0         0         0                              0   \n",
       "\n",
       "   zipcode_type_expensive_high_volume  zipcode_type_expensive_low_volume  \n",
       "0                                   0                                  0  \n",
       "1                                   0                                  0  \n",
       "2                                   0                                  0  \n",
       "3                                   0                                  1  \n",
       "4                                   0                                  1  \n",
       "\n",
       "[5 rows x 31 columns]"
      ]
     },
     "execution_count": 74,
     "metadata": {},
     "output_type": "execute_result"
    }
   ],
   "source": [
    "#checking to see the new dataset and ensuring that there is no missing values\n",
    "df_b.head()"
   ]
  },
  {
   "cell_type": "code",
   "execution_count": 75,
   "metadata": {},
   "outputs": [
    {
     "name": "stdout",
     "output_type": "stream",
     "text": [
      "<class 'pandas.core.frame.DataFrame'>\n",
      "Int64Index: 14789 entries, 0 to 21596\n",
      "Data columns (total 31 columns):\n",
      " #   Column                              Non-Null Count  Dtype  \n",
      "---  ------                              --------------  -----  \n",
      " 0   price                               14789 non-null  int32  \n",
      " 1   bedrooms                            14789 non-null  int64  \n",
      " 2   bathrooms                           14789 non-null  float64\n",
      " 3   sqft_living                         14789 non-null  int64  \n",
      " 4   sqft_lot                            14789 non-null  int64  \n",
      " 5   floors                              14789 non-null  float64\n",
      " 6   waterfront                          14789 non-null  int32  \n",
      " 7   yr_built                            14789 non-null  int64  \n",
      " 8   month_sold                          14789 non-null  int64  \n",
      " 9   year_sold                           14789 non-null  int64  \n",
      " 10  sold_spring_time                    14789 non-null  int32  \n",
      " 11  sold_summer_time                    14789 non-null  int32  \n",
      " 12  sold_fall_time                      14789 non-null  int32  \n",
      " 13  sold_winter_time                    14789 non-null  int32  \n",
      " 14  has_renovated                       14789 non-null  int32  \n",
      " 15  has_basement                        14789 non-null  int32  \n",
      " 16  condition_2                         14789 non-null  int32  \n",
      " 17  condition_3                         14789 non-null  int32  \n",
      " 18  condition_4                         14789 non-null  int32  \n",
      " 19  condition_5                         14789 non-null  int32  \n",
      " 20  grade_4                             14789 non-null  int32  \n",
      " 21  grade_5                             14789 non-null  int32  \n",
      " 22  grade_6                             14789 non-null  int32  \n",
      " 23  grade_7                             14789 non-null  int32  \n",
      " 24  grade_8                             14789 non-null  int32  \n",
      " 25  grade_9                             14789 non-null  int32  \n",
      " 26  grade_10                            14789 non-null  int32  \n",
      " 27  grade_11                            14789 non-null  int32  \n",
      " 28  zipcode_type_cheap_low_volume       14789 non-null  int32  \n",
      " 29  zipcode_type_expensive_high_volume  14789 non-null  int32  \n",
      " 30  zipcode_type_expensive_low_volume   14789 non-null  int32  \n",
      "dtypes: float64(2), int32(23), int64(6)\n",
      "memory usage: 2.3 MB\n"
     ]
    }
   ],
   "source": [
    "df_b.info()"
   ]
  },
  {
   "cell_type": "markdown",
   "metadata": {},
   "source": [
    "## First Model - Baseline\n"
   ]
  },
  {
   "cell_type": "markdown",
   "metadata": {},
   "source": [
    "### Train-Test Split"
   ]
  },
  {
   "cell_type": "code",
   "execution_count": 76,
   "metadata": {},
   "outputs": [],
   "source": [
    "#importing the necessary libraries for train-test split\n",
    "import scipy.stats as stats\n",
    "from sklearn.model_selection import train_test_split\n",
    "from sklearn.linear_model import LinearRegression\n",
    "from sklearn.metrics import mean_squared_error\n",
    "\n",
    "linreg = LinearRegression()"
   ]
  },
  {
   "cell_type": "code",
   "execution_count": 77,
   "metadata": {},
   "outputs": [],
   "source": [
    "y = df_b[['price']]\n",
    "X = df_b.drop(['price'], axis=1)\n",
    "\n",
    "X_train, X_test, y_train, y_test = train_test_split(X, y, test_size = 0.2, random_state = (123))"
   ]
  },
  {
   "cell_type": "code",
   "execution_count": 78,
   "metadata": {},
   "outputs": [],
   "source": [
    "linreg.fit(X_train, y_train)\n",
    "\n",
    "y_hat_train = linreg.predict(X_train)\n",
    "y_hat_test = linreg.predict(X_test)"
   ]
  },
  {
   "cell_type": "code",
   "execution_count": 79,
   "metadata": {},
   "outputs": [],
   "source": [
    "rmse_train = np.sqrt(mean_squared_error(y_train, y_hat_train))\n",
    "rmse_test = np.sqrt(mean_squared_error(y_test, y_hat_test))"
   ]
  },
  {
   "cell_type": "code",
   "execution_count": 80,
   "metadata": {},
   "outputs": [
    {
     "name": "stdout",
     "output_type": "stream",
     "text": [
      "RMSE Train: 80573.18\n",
      "RMSE Test: 81185.41\n"
     ]
    }
   ],
   "source": [
    "print(\"RMSE Train:\", round(rmse_train, 2))\n",
    "print(\"RMSE Test:\", round(rmse_test, 2))"
   ]
  },
  {
   "cell_type": "markdown",
   "metadata": {},
   "source": [
    "###  model"
   ]
  },
  {
   "cell_type": "code",
   "execution_count": 81,
   "metadata": {},
   "outputs": [],
   "source": [
    "from statsmodels.formula.api import ols"
   ]
  },
  {
   "cell_type": "code",
   "execution_count": 82,
   "metadata": {
    "scrolled": true
   },
   "outputs": [
    {
     "data": {
      "text/html": [
       "<table class=\"simpletable\">\n",
       "<caption>OLS Regression Results</caption>\n",
       "<tr>\n",
       "  <th>Dep. Variable:</th>          <td>price</td>      <th>  R-squared:         </th>  <td>   0.652</td>  \n",
       "</tr>\n",
       "<tr>\n",
       "  <th>Model:</th>                   <td>OLS</td>       <th>  Adj. R-squared:    </th>  <td>   0.651</td>  \n",
       "</tr>\n",
       "<tr>\n",
       "  <th>Method:</th>             <td>Least Squares</td>  <th>  F-statistic:       </th>  <td>   761.7</td>  \n",
       "</tr>\n",
       "<tr>\n",
       "  <th>Date:</th>             <td>Fri, 20 Nov 2020</td> <th>  Prob (F-statistic):</th>   <td>  0.00</td>   \n",
       "</tr>\n",
       "<tr>\n",
       "  <th>Time:</th>                 <td>16:23:10</td>     <th>  Log-Likelihood:    </th> <td>-1.5044e+05</td>\n",
       "</tr>\n",
       "<tr>\n",
       "  <th>No. Observations:</th>      <td> 11831</td>      <th>  AIC:               </th>  <td>3.009e+05</td> \n",
       "</tr>\n",
       "<tr>\n",
       "  <th>Df Residuals:</th>          <td> 11801</td>      <th>  BIC:               </th>  <td>3.012e+05</td> \n",
       "</tr>\n",
       "<tr>\n",
       "  <th>Df Model:</th>              <td>    29</td>      <th>                     </th>      <td> </td>     \n",
       "</tr>\n",
       "<tr>\n",
       "  <th>Covariance Type:</th>      <td>nonrobust</td>    <th>                     </th>      <td> </td>     \n",
       "</tr>\n",
       "</table>\n",
       "<table class=\"simpletable\">\n",
       "<tr>\n",
       "                   <td></td>                     <th>coef</th>     <th>std err</th>      <th>t</th>      <th>P>|t|</th>  <th>[0.025</th>    <th>0.975]</th>  \n",
       "</tr>\n",
       "<tr>\n",
       "  <th>Intercept</th>                          <td>-4.585e+07</td> <td> 4.89e+06</td> <td>   -9.383</td> <td> 0.000</td> <td>-5.54e+07</td> <td>-3.63e+07</td>\n",
       "</tr>\n",
       "<tr>\n",
       "  <th>bedrooms</th>                           <td>-6017.5601</td> <td> 1199.101</td> <td>   -5.018</td> <td> 0.000</td> <td>-8367.995</td> <td>-3667.125</td>\n",
       "</tr>\n",
       "<tr>\n",
       "  <th>bathrooms</th>                          <td> 1.351e+04</td> <td> 1981.033</td> <td>    6.817</td> <td> 0.000</td> <td> 9622.445</td> <td> 1.74e+04</td>\n",
       "</tr>\n",
       "<tr>\n",
       "  <th>sqft_living</th>                        <td>   75.9748</td> <td>    2.223</td> <td>   34.181</td> <td> 0.000</td> <td>   71.618</td> <td>   80.332</td>\n",
       "</tr>\n",
       "<tr>\n",
       "  <th>sqft_lot</th>                           <td>   -1.4086</td> <td>    0.283</td> <td>   -4.981</td> <td> 0.000</td> <td>   -1.963</td> <td>   -0.854</td>\n",
       "</tr>\n",
       "<tr>\n",
       "  <th>floors</th>                             <td> 9987.5132</td> <td> 2171.361</td> <td>    4.600</td> <td> 0.000</td> <td> 5731.288</td> <td> 1.42e+04</td>\n",
       "</tr>\n",
       "<tr>\n",
       "  <th>waterfront</th>                         <td> 2.583e+05</td> <td> 3.09e+04</td> <td>    8.369</td> <td> 0.000</td> <td> 1.98e+05</td> <td> 3.19e+05</td>\n",
       "</tr>\n",
       "<tr>\n",
       "  <th>yr_built</th>                           <td>-1188.4466</td> <td>   40.189</td> <td>  -29.571</td> <td> 0.000</td> <td>-1267.224</td> <td>-1109.669</td>\n",
       "</tr>\n",
       "<tr>\n",
       "  <th>month_sold</th>                         <td> 2586.5390</td> <td> 1020.217</td> <td>    2.535</td> <td> 0.011</td> <td>  586.745</td> <td> 4586.333</td>\n",
       "</tr>\n",
       "<tr>\n",
       "  <th>year_sold</th>                          <td> 2.969e+04</td> <td> 3030.483</td> <td>    9.797</td> <td> 0.000</td> <td> 2.37e+04</td> <td> 3.56e+04</td>\n",
       "</tr>\n",
       "<tr>\n",
       "  <th>sold_spring_time</th>                   <td>-1.147e+07</td> <td> 1.22e+06</td> <td>   -9.386</td> <td> 0.000</td> <td>-1.39e+07</td> <td>-9.07e+06</td>\n",
       "</tr>\n",
       "<tr>\n",
       "  <th>sold_summer_time</th>                   <td>-1.145e+07</td> <td> 1.22e+06</td> <td>   -9.377</td> <td> 0.000</td> <td>-1.38e+07</td> <td>-9.06e+06</td>\n",
       "</tr>\n",
       "<tr>\n",
       "  <th>sold_fall_time</th>                     <td>-1.146e+07</td> <td> 1.22e+06</td> <td>   -9.385</td> <td> 0.000</td> <td>-1.39e+07</td> <td>-9.07e+06</td>\n",
       "</tr>\n",
       "<tr>\n",
       "  <th>sold_winter_time</th>                   <td>-1.147e+07</td> <td> 1.22e+06</td> <td>   -9.382</td> <td> 0.000</td> <td>-1.39e+07</td> <td>-9.07e+06</td>\n",
       "</tr>\n",
       "<tr>\n",
       "  <th>has_renovated</th>                      <td> 1675.8665</td> <td> 5164.733</td> <td>    0.324</td> <td> 0.746</td> <td>-8447.862</td> <td> 1.18e+04</td>\n",
       "</tr>\n",
       "<tr>\n",
       "  <th>has_basement</th>                       <td> 1.462e+04</td> <td> 1836.677</td> <td>    7.959</td> <td> 0.000</td> <td>  1.1e+04</td> <td> 1.82e+04</td>\n",
       "</tr>\n",
       "<tr>\n",
       "  <th>condition_2</th>                        <td>-2.356e+04</td> <td> 2.61e+04</td> <td>   -0.903</td> <td> 0.367</td> <td>-7.47e+04</td> <td> 2.76e+04</td>\n",
       "</tr>\n",
       "<tr>\n",
       "  <th>condition_3</th>                        <td> 7409.7720</td> <td> 2.46e+04</td> <td>    0.301</td> <td> 0.763</td> <td>-4.09e+04</td> <td> 5.57e+04</td>\n",
       "</tr>\n",
       "<tr>\n",
       "  <th>condition_4</th>                        <td> 8771.1376</td> <td> 2.46e+04</td> <td>    0.356</td> <td> 0.722</td> <td>-3.95e+04</td> <td>  5.7e+04</td>\n",
       "</tr>\n",
       "<tr>\n",
       "  <th>condition_5</th>                        <td> 3.543e+04</td> <td> 2.47e+04</td> <td>    1.433</td> <td> 0.152</td> <td> -1.3e+04</td> <td> 8.39e+04</td>\n",
       "</tr>\n",
       "<tr>\n",
       "  <th>grade_4</th>                            <td> 2615.6483</td> <td> 8.47e+04</td> <td>    0.031</td> <td> 0.975</td> <td>-1.63e+05</td> <td> 1.69e+05</td>\n",
       "</tr>\n",
       "<tr>\n",
       "  <th>grade_5</th>                            <td>-5.338e+04</td> <td> 8.11e+04</td> <td>   -0.658</td> <td> 0.511</td> <td>-2.12e+05</td> <td> 1.06e+05</td>\n",
       "</tr>\n",
       "<tr>\n",
       "  <th>grade_6</th>                            <td>-1.184e+04</td> <td> 8.08e+04</td> <td>   -0.146</td> <td> 0.884</td> <td> -1.7e+05</td> <td> 1.47e+05</td>\n",
       "</tr>\n",
       "<tr>\n",
       "  <th>grade_7</th>                            <td>  3.18e+04</td> <td> 8.08e+04</td> <td>    0.394</td> <td> 0.694</td> <td>-1.27e+05</td> <td>  1.9e+05</td>\n",
       "</tr>\n",
       "<tr>\n",
       "  <th>grade_8</th>                            <td> 7.961e+04</td> <td> 8.09e+04</td> <td>    0.985</td> <td> 0.325</td> <td>-7.89e+04</td> <td> 2.38e+05</td>\n",
       "</tr>\n",
       "<tr>\n",
       "  <th>grade_9</th>                            <td> 1.413e+05</td> <td> 8.09e+04</td> <td>    1.746</td> <td> 0.081</td> <td>-1.73e+04</td> <td>    3e+05</td>\n",
       "</tr>\n",
       "<tr>\n",
       "  <th>grade_10</th>                           <td> 1.505e+05</td> <td> 8.13e+04</td> <td>    1.851</td> <td> 0.064</td> <td>-8895.397</td> <td>  3.1e+05</td>\n",
       "</tr>\n",
       "<tr>\n",
       "  <th>grade_11</th>                           <td>  1.03e+05</td> <td>  9.9e+04</td> <td>    1.040</td> <td> 0.298</td> <td>-9.11e+04</td> <td> 2.97e+05</td>\n",
       "</tr>\n",
       "<tr>\n",
       "  <th>zipcode_type_cheap_low_volume</th>      <td>-3.222e+04</td> <td> 1863.207</td> <td>  -17.293</td> <td> 0.000</td> <td>-3.59e+04</td> <td>-2.86e+04</td>\n",
       "</tr>\n",
       "<tr>\n",
       "  <th>zipcode_type_expensive_high_volume</th> <td> 1.357e+05</td> <td> 2815.344</td> <td>   48.204</td> <td> 0.000</td> <td>  1.3e+05</td> <td> 1.41e+05</td>\n",
       "</tr>\n",
       "<tr>\n",
       "  <th>zipcode_type_expensive_low_volume</th>  <td> 1.326e+05</td> <td> 2106.954</td> <td>   62.936</td> <td> 0.000</td> <td> 1.28e+05</td> <td> 1.37e+05</td>\n",
       "</tr>\n",
       "</table>\n",
       "<table class=\"simpletable\">\n",
       "<tr>\n",
       "  <th>Omnibus:</th>       <td>214.942</td> <th>  Durbin-Watson:     </th> <td>   1.997</td>\n",
       "</tr>\n",
       "<tr>\n",
       "  <th>Prob(Omnibus):</th> <td> 0.000</td>  <th>  Jarque-Bera (JB):  </th> <td> 236.959</td>\n",
       "</tr>\n",
       "<tr>\n",
       "  <th>Skew:</th>          <td> 0.302</td>  <th>  Prob(JB):          </th> <td>3.51e-52</td>\n",
       "</tr>\n",
       "<tr>\n",
       "  <th>Kurtosis:</th>      <td> 3.341</td>  <th>  Cond. No.          </th> <td>2.53e+15</td>\n",
       "</tr>\n",
       "</table><br/><br/>Notes:<br/>[1] Standard Errors assume that the covariance matrix of the errors is correctly specified.<br/>[2] The smallest eigenvalue is 1.29e-19. This might indicate that there are<br/>strong multicollinearity problems or that the design matrix is singular."
      ],
      "text/plain": [
       "<class 'statsmodels.iolib.summary.Summary'>\n",
       "\"\"\"\n",
       "                            OLS Regression Results                            \n",
       "==============================================================================\n",
       "Dep. Variable:                  price   R-squared:                       0.652\n",
       "Model:                            OLS   Adj. R-squared:                  0.651\n",
       "Method:                 Least Squares   F-statistic:                     761.7\n",
       "Date:                Fri, 20 Nov 2020   Prob (F-statistic):               0.00\n",
       "Time:                        16:23:10   Log-Likelihood:            -1.5044e+05\n",
       "No. Observations:               11831   AIC:                         3.009e+05\n",
       "Df Residuals:                   11801   BIC:                         3.012e+05\n",
       "Df Model:                          29                                         \n",
       "Covariance Type:            nonrobust                                         \n",
       "======================================================================================================\n",
       "                                         coef    std err          t      P>|t|      [0.025      0.975]\n",
       "------------------------------------------------------------------------------------------------------\n",
       "Intercept                          -4.585e+07   4.89e+06     -9.383      0.000   -5.54e+07   -3.63e+07\n",
       "bedrooms                           -6017.5601   1199.101     -5.018      0.000   -8367.995   -3667.125\n",
       "bathrooms                           1.351e+04   1981.033      6.817      0.000    9622.445    1.74e+04\n",
       "sqft_living                           75.9748      2.223     34.181      0.000      71.618      80.332\n",
       "sqft_lot                              -1.4086      0.283     -4.981      0.000      -1.963      -0.854\n",
       "floors                              9987.5132   2171.361      4.600      0.000    5731.288    1.42e+04\n",
       "waterfront                          2.583e+05   3.09e+04      8.369      0.000    1.98e+05    3.19e+05\n",
       "yr_built                           -1188.4466     40.189    -29.571      0.000   -1267.224   -1109.669\n",
       "month_sold                          2586.5390   1020.217      2.535      0.011     586.745    4586.333\n",
       "year_sold                           2.969e+04   3030.483      9.797      0.000    2.37e+04    3.56e+04\n",
       "sold_spring_time                   -1.147e+07   1.22e+06     -9.386      0.000   -1.39e+07   -9.07e+06\n",
       "sold_summer_time                   -1.145e+07   1.22e+06     -9.377      0.000   -1.38e+07   -9.06e+06\n",
       "sold_fall_time                     -1.146e+07   1.22e+06     -9.385      0.000   -1.39e+07   -9.07e+06\n",
       "sold_winter_time                   -1.147e+07   1.22e+06     -9.382      0.000   -1.39e+07   -9.07e+06\n",
       "has_renovated                       1675.8665   5164.733      0.324      0.746   -8447.862    1.18e+04\n",
       "has_basement                        1.462e+04   1836.677      7.959      0.000     1.1e+04    1.82e+04\n",
       "condition_2                        -2.356e+04   2.61e+04     -0.903      0.367   -7.47e+04    2.76e+04\n",
       "condition_3                         7409.7720   2.46e+04      0.301      0.763   -4.09e+04    5.57e+04\n",
       "condition_4                         8771.1376   2.46e+04      0.356      0.722   -3.95e+04     5.7e+04\n",
       "condition_5                         3.543e+04   2.47e+04      1.433      0.152    -1.3e+04    8.39e+04\n",
       "grade_4                             2615.6483   8.47e+04      0.031      0.975   -1.63e+05    1.69e+05\n",
       "grade_5                            -5.338e+04   8.11e+04     -0.658      0.511   -2.12e+05    1.06e+05\n",
       "grade_6                            -1.184e+04   8.08e+04     -0.146      0.884    -1.7e+05    1.47e+05\n",
       "grade_7                              3.18e+04   8.08e+04      0.394      0.694   -1.27e+05     1.9e+05\n",
       "grade_8                             7.961e+04   8.09e+04      0.985      0.325   -7.89e+04    2.38e+05\n",
       "grade_9                             1.413e+05   8.09e+04      1.746      0.081   -1.73e+04       3e+05\n",
       "grade_10                            1.505e+05   8.13e+04      1.851      0.064   -8895.397     3.1e+05\n",
       "grade_11                             1.03e+05    9.9e+04      1.040      0.298   -9.11e+04    2.97e+05\n",
       "zipcode_type_cheap_low_volume      -3.222e+04   1863.207    -17.293      0.000   -3.59e+04   -2.86e+04\n",
       "zipcode_type_expensive_high_volume  1.357e+05   2815.344     48.204      0.000     1.3e+05    1.41e+05\n",
       "zipcode_type_expensive_low_volume   1.326e+05   2106.954     62.936      0.000    1.28e+05    1.37e+05\n",
       "==============================================================================\n",
       "Omnibus:                      214.942   Durbin-Watson:                   1.997\n",
       "Prob(Omnibus):                  0.000   Jarque-Bera (JB):              236.959\n",
       "Skew:                           0.302   Prob(JB):                     3.51e-52\n",
       "Kurtosis:                       3.341   Cond. No.                     2.53e+15\n",
       "==============================================================================\n",
       "\n",
       "Notes:\n",
       "[1] Standard Errors assume that the covariance matrix of the errors is correctly specified.\n",
       "[2] The smallest eigenvalue is 1.29e-19. This might indicate that there are\n",
       "strong multicollinearity problems or that the design matrix is singular.\n",
       "\"\"\""
      ]
     },
     "execution_count": 82,
     "metadata": {},
     "output_type": "execute_result"
    }
   ],
   "source": [
    "# Fitting the actual model\n",
    "outcome = 'price'\n",
    "dftrain = pd.concat([X_train, y_train], axis = 1)\n",
    "\n",
    "predictors = '+'.join(X.columns)\n",
    "formula = outcome + '~' + predictors\n",
    "model = ols(formula=formula, data = dftrain).fit()\n",
    "model.summary()"
   ]
  },
  {
   "cell_type": "markdown",
   "metadata": {},
   "source": [
    "R-squared: 0.826\n",
    "\n",
    "Adj R-squared: 0.825\n",
    "\n",
    "Number of significant p_values: 13"
   ]
  },
  {
   "cell_type": "markdown",
   "metadata": {},
   "source": [
    "### Checking QQ Plot"
   ]
  },
  {
   "cell_type": "code",
   "execution_count": 83,
   "metadata": {},
   "outputs": [],
   "source": [
    "import statsmodels.api as sm"
   ]
  },
  {
   "cell_type": "code",
   "execution_count": 84,
   "metadata": {},
   "outputs": [
    {
     "data": {
      "image/png": "[encoded data removed]",
      "text/plain": [
       "<Figure size 432x288 with 1 Axes>"
      ]
     },
     "metadata": {},
     "output_type": "display_data"
    }
   ],
   "source": [
    "fig = sm.graphics.qqplot(model.resid, dist=stats.norm, line='45', fit=True)"
   ]
  },
  {
   "cell_type": "markdown",
   "metadata": {},
   "source": [
    "### Checking for Homoscedasticity"
   ]
  },
  {
   "cell_type": "code",
   "execution_count": 85,
   "metadata": {},
   "outputs": [
    {
     "data": {
      "text/plain": [
       "[<matplotlib.lines.Line2D at 0x1d684bce460>]"
      ]
     },
     "execution_count": 85,
     "metadata": {},
     "output_type": "execute_result"
    },
    {
     "data": {
      "image/png": "[encoded data removed]",
      "text/plain": [
       "<Figure size 432x288 with 1 Axes>"
      ]
     },
     "metadata": {},
     "output_type": "display_data"
    }
   ],
   "source": [
    "plt.scatter(model.predict(dftrain[X.columns]), model.resid)\n",
    "plt.plot(model.predict(dftrain[X.columns]), [0 for i in range(len(dftrain))])"
   ]
  },
  {
   "cell_type": "markdown",
   "metadata": {},
   "source": [
    "## Second Model - Multicollinearies"
   ]
  },
  {
   "cell_type": "markdown",
   "metadata": {},
   "source": [
    "### checking and fixing multicollinearies"
   ]
  },
  {
   "cell_type": "code",
   "execution_count": 86,
   "metadata": {
    "code_folding": []
   },
   "outputs": [],
   "source": [
    "#Importing variance inflation factor to check for multicollinearies \n",
    "from statsmodels.stats.outliers_influence import variance_inflation_factor"
   ]
  },
  {
   "cell_type": "code",
   "execution_count": 87,
   "metadata": {
    "scrolled": true
   },
   "outputs": [
    {
     "data": {
      "text/plain": [
       "[('bedrooms', 1.7713804042657382),\n",
       " ('bathrooms', 3.0133194562930954),\n",
       " ('sqft_living', 3.1570424160615316),\n",
       " ('sqft_lot', 1.599781817973766),\n",
       " ('floors', 2.515886536275822),\n",
       " ('waterfront', 1.0164315745817336),\n",
       " ('yr_built', 2.5102850249888373),\n",
       " ('month_sold', 18.622713855921187),\n",
       " ('year_sold', 3.6429867955724293),\n",
       " ('sold_spring_time', 13031555.876015928),\n",
       " ('sold_summer_time', 20833682.800567977),\n",
       " ('sold_fall_time', 18483205.840047117),\n",
       " ('sold_winter_time', 15036587.287140993),\n",
       " ('has_renovated', 1.0774084383836473),\n",
       " ('has_basement', 1.4079339864458),\n",
       " ('condition_2', 8.80107089126227),\n",
       " ('condition_3', 241.64161202837937),\n",
       " ('condition_4', 206.889138560819),\n",
       " ('condition_5', 73.38214493190468),\n",
       " ('grade_4', 14.008864689027273),\n",
       " ('grade_5', 148.77765637759128),\n",
       " ('grade_6', 1530.12880165147),\n",
       " ('grade_7', 3703.1764947022975),\n",
       " ('grade_8', 3021.6052208900023),\n",
       " ('grade_9', 870.5525866911091),\n",
       " ('grade_10', 115.58257473337584),\n",
       " ('grade_11', 4.014928749241209),\n",
       " ('zipcode_type_cheap_low_volume', 1.4183100973084382),\n",
       " ('zipcode_type_expensive_high_volume', 1.4112702007286932),\n",
       " ('zipcode_type_expensive_low_volume', 1.5003510213133957)]"
      ]
     },
     "execution_count": 87,
     "metadata": {},
     "output_type": "execute_result"
    }
   ],
   "source": [
    "col = df_b[X.columns]\n",
    "vif = [variance_inflation_factor(col.values, i) for i in range(col.shape[1])]\n",
    "list(zip(X.columns, vif))"
   ]
  },
  {
   "cell_type": "code",
   "execution_count": 88,
   "metadata": {},
   "outputs": [
    {
     "name": "stdout",
     "output_type": "stream",
     "text": [
      "30 15\n"
     ]
    }
   ],
   "source": [
    "vif_scores = list(zip(X.columns, vif))\n",
    "v_test = [x for x, vif in vif_scores if vif > 10]\n",
    "print(len(vif_scores), len(v_test))"
   ]
  },
  {
   "cell_type": "code",
   "execution_count": 89,
   "metadata": {},
   "outputs": [
    {
     "data": {
      "text/plain": [
       "['month_sold',\n",
       " 'sold_spring_time',\n",
       " 'sold_summer_time',\n",
       " 'sold_fall_time',\n",
       " 'sold_winter_time',\n",
       " 'condition_3',\n",
       " 'condition_4',\n",
       " 'condition_5',\n",
       " 'grade_4',\n",
       " 'grade_5',\n",
       " 'grade_6',\n",
       " 'grade_7',\n",
       " 'grade_8',\n",
       " 'grade_9',\n",
       " 'grade_10']"
      ]
     },
     "execution_count": 89,
     "metadata": {},
     "output_type": "execute_result"
    }
   ],
   "source": [
    "v_test"
   ]
  },
  {
   "cell_type": "code",
   "execution_count": 90,
   "metadata": {},
   "outputs": [],
   "source": [
    "for v in v_test:\n",
    "    dftrain.drop(v, axis=1, inplace=True)"
   ]
  },
  {
   "cell_type": "code",
   "execution_count": 91,
   "metadata": {},
   "outputs": [],
   "source": [
    "dftrain.drop('condition_2', axis = 1, inplace = True)"
   ]
  },
  {
   "cell_type": "code",
   "execution_count": 92,
   "metadata": {
    "scrolled": true
   },
   "outputs": [
    {
     "name": "stdout",
     "output_type": "stream",
     "text": [
      "<class 'pandas.core.frame.DataFrame'>\n",
      "Int64Index: 11831 entries, 13460 to 5289\n",
      "Data columns (total 15 columns):\n",
      " #   Column                              Non-Null Count  Dtype  \n",
      "---  ------                              --------------  -----  \n",
      " 0   bedrooms                            11831 non-null  int64  \n",
      " 1   bathrooms                           11831 non-null  float64\n",
      " 2   sqft_living                         11831 non-null  int64  \n",
      " 3   sqft_lot                            11831 non-null  int64  \n",
      " 4   floors                              11831 non-null  float64\n",
      " 5   waterfront                          11831 non-null  int32  \n",
      " 6   yr_built                            11831 non-null  int64  \n",
      " 7   year_sold                           11831 non-null  int64  \n",
      " 8   has_renovated                       11831 non-null  int32  \n",
      " 9   has_basement                        11831 non-null  int32  \n",
      " 10  grade_11                            11831 non-null  int32  \n",
      " 11  zipcode_type_cheap_low_volume       11831 non-null  int32  \n",
      " 12  zipcode_type_expensive_high_volume  11831 non-null  int32  \n",
      " 13  zipcode_type_expensive_low_volume   11831 non-null  int32  \n",
      " 14  price                               11831 non-null  int32  \n",
      "dtypes: float64(2), int32(8), int64(5)\n",
      "memory usage: 1.1 MB\n"
     ]
    }
   ],
   "source": [
    "dftrain.info()"
   ]
  },
  {
   "cell_type": "markdown",
   "metadata": {},
   "source": [
    "### Train-Test Split"
   ]
  },
  {
   "cell_type": "code",
   "execution_count": 93,
   "metadata": {},
   "outputs": [],
   "source": [
    "y = dftrain[['price']]\n",
    "X = dftrain.drop(['price'], axis=1)\n",
    "\n",
    "X_train, X_test, y_train, y_test = train_test_split(X, y, test_size = 0.2, random_state = (123))"
   ]
  },
  {
   "cell_type": "code",
   "execution_count": 94,
   "metadata": {},
   "outputs": [],
   "source": [
    "linreg.fit(X_train, y_train)\n",
    "\n",
    "y_hat_train = linreg.predict(X_train)\n",
    "y_hat_test = linreg.predict(X_test)"
   ]
  },
  {
   "cell_type": "code",
   "execution_count": 95,
   "metadata": {},
   "outputs": [],
   "source": [
    "rmse_train = np.sqrt(mean_squared_error(y_train, y_hat_train))\n",
    "rmse_test = np.sqrt(mean_squared_error(y_test, y_hat_test))"
   ]
  },
  {
   "cell_type": "code",
   "execution_count": 96,
   "metadata": {},
   "outputs": [
    {
     "name": "stdout",
     "output_type": "stream",
     "text": [
      "RMSE Train: 85587.91\n",
      "RMSE Test: 85845.05\n"
     ]
    }
   ],
   "source": [
    "print(\"RMSE Train:\", round(rmse_train, 2))\n",
    "print(\"RMSE Test:\", round(rmse_test, 2))"
   ]
  },
  {
   "cell_type": "markdown",
   "metadata": {},
   "source": [
    "### model"
   ]
  },
  {
   "cell_type": "code",
   "execution_count": 97,
   "metadata": {
    "scrolled": true
   },
   "outputs": [
    {
     "data": {
      "text/html": [
       "<table class=\"simpletable\">\n",
       "<caption>OLS Regression Results</caption>\n",
       "<tr>\n",
       "  <th>Dep. Variable:</th>          <td>price</td>      <th>  R-squared:         </th>  <td>   0.607</td>  \n",
       "</tr>\n",
       "<tr>\n",
       "  <th>Model:</th>                   <td>OLS</td>       <th>  Adj. R-squared:    </th>  <td>   0.606</td>  \n",
       "</tr>\n",
       "<tr>\n",
       "  <th>Method:</th>             <td>Least Squares</td>  <th>  F-statistic:       </th>  <td>   1303.</td>  \n",
       "</tr>\n",
       "<tr>\n",
       "  <th>Date:</th>             <td>Fri, 20 Nov 2020</td> <th>  Prob (F-statistic):</th>   <td>  0.00</td>   \n",
       "</tr>\n",
       "<tr>\n",
       "  <th>Time:</th>                 <td>16:23:12</td>     <th>  Log-Likelihood:    </th> <td>-1.5116e+05</td>\n",
       "</tr>\n",
       "<tr>\n",
       "  <th>No. Observations:</th>      <td> 11831</td>      <th>  AIC:               </th>  <td>3.023e+05</td> \n",
       "</tr>\n",
       "<tr>\n",
       "  <th>Df Residuals:</th>          <td> 11816</td>      <th>  BIC:               </th>  <td>3.025e+05</td> \n",
       "</tr>\n",
       "<tr>\n",
       "  <th>Df Model:</th>              <td>    14</td>      <th>                     </th>      <td> </td>     \n",
       "</tr>\n",
       "<tr>\n",
       "  <th>Covariance Type:</th>      <td>nonrobust</td>    <th>                     </th>      <td> </td>     \n",
       "</tr>\n",
       "</table>\n",
       "<table class=\"simpletable\">\n",
       "<tr>\n",
       "                   <td></td>                     <th>coef</th>     <th>std err</th>      <th>t</th>      <th>P>|t|</th>  <th>[0.025</th>    <th>0.975]</th>  \n",
       "</tr>\n",
       "<tr>\n",
       "  <th>Intercept</th>                          <td>-2.921e+07</td> <td> 3.39e+06</td> <td>   -8.616</td> <td> 0.000</td> <td>-3.59e+07</td> <td>-2.26e+07</td>\n",
       "</tr>\n",
       "<tr>\n",
       "  <th>bedrooms</th>                           <td>-1.105e+04</td> <td> 1251.745</td> <td>   -8.825</td> <td> 0.000</td> <td>-1.35e+04</td> <td>-8592.814</td>\n",
       "</tr>\n",
       "<tr>\n",
       "  <th>bathrooms</th>                          <td> 1.798e+04</td> <td> 2080.000</td> <td>    8.643</td> <td> 0.000</td> <td> 1.39e+04</td> <td> 2.21e+04</td>\n",
       "</tr>\n",
       "<tr>\n",
       "  <th>sqft_living</th>                        <td>  107.9767</td> <td>    2.151</td> <td>   50.193</td> <td> 0.000</td> <td>  103.760</td> <td>  112.193</td>\n",
       "</tr>\n",
       "<tr>\n",
       "  <th>sqft_lot</th>                           <td>   -1.0327</td> <td>    0.298</td> <td>   -3.465</td> <td> 0.001</td> <td>   -1.617</td> <td>   -0.448</td>\n",
       "</tr>\n",
       "<tr>\n",
       "  <th>floors</th>                             <td> 1.688e+04</td> <td> 2271.710</td> <td>    7.432</td> <td> 0.000</td> <td> 1.24e+04</td> <td> 2.13e+04</td>\n",
       "</tr>\n",
       "<tr>\n",
       "  <th>waterfront</th>                         <td> 2.427e+05</td> <td> 3.25e+04</td> <td>    7.470</td> <td> 0.000</td> <td> 1.79e+05</td> <td> 3.06e+05</td>\n",
       "</tr>\n",
       "<tr>\n",
       "  <th>yr_built</th>                           <td> -846.2638</td> <td>   38.911</td> <td>  -21.749</td> <td> 0.000</td> <td> -922.535</td> <td> -769.992</td>\n",
       "</tr>\n",
       "<tr>\n",
       "  <th>year_sold</th>                          <td> 1.541e+04</td> <td> 1683.258</td> <td>    9.152</td> <td> 0.000</td> <td> 1.21e+04</td> <td> 1.87e+04</td>\n",
       "</tr>\n",
       "<tr>\n",
       "  <th>has_renovated</th>                      <td> 1293.8384</td> <td> 5439.482</td> <td>    0.238</td> <td> 0.812</td> <td>-9368.443</td> <td>  1.2e+04</td>\n",
       "</tr>\n",
       "<tr>\n",
       "  <th>has_basement</th>                       <td> 1.202e+04</td> <td> 1929.573</td> <td>    6.229</td> <td> 0.000</td> <td> 8237.852</td> <td> 1.58e+04</td>\n",
       "</tr>\n",
       "<tr>\n",
       "  <th>grade_11</th>                           <td>-2.631e+04</td> <td> 6.07e+04</td> <td>   -0.434</td> <td> 0.665</td> <td>-1.45e+05</td> <td> 9.26e+04</td>\n",
       "</tr>\n",
       "<tr>\n",
       "  <th>zipcode_type_cheap_low_volume</th>      <td>-3.461e+04</td> <td> 1973.058</td> <td>  -17.542</td> <td> 0.000</td> <td>-3.85e+04</td> <td>-3.07e+04</td>\n",
       "</tr>\n",
       "<tr>\n",
       "  <th>zipcode_type_expensive_high_volume</th> <td> 1.483e+05</td> <td> 2946.111</td> <td>   50.327</td> <td> 0.000</td> <td> 1.42e+05</td> <td> 1.54e+05</td>\n",
       "</tr>\n",
       "<tr>\n",
       "  <th>zipcode_type_expensive_low_volume</th>  <td> 1.462e+05</td> <td> 2188.840</td> <td>   66.778</td> <td> 0.000</td> <td> 1.42e+05</td> <td>  1.5e+05</td>\n",
       "</tr>\n",
       "</table>\n",
       "<table class=\"simpletable\">\n",
       "<tr>\n",
       "  <th>Omnibus:</th>       <td>228.306</td> <th>  Durbin-Watson:     </th> <td>   1.992</td>\n",
       "</tr>\n",
       "<tr>\n",
       "  <th>Prob(Omnibus):</th> <td> 0.000</td>  <th>  Jarque-Bera (JB):  </th> <td> 244.382</td>\n",
       "</tr>\n",
       "<tr>\n",
       "  <th>Skew:</th>          <td> 0.330</td>  <th>  Prob(JB):          </th> <td>8.57e-54</td>\n",
       "</tr>\n",
       "<tr>\n",
       "  <th>Kurtosis:</th>      <td> 3.244</td>  <th>  Cond. No.          </th> <td>3.59e+07</td>\n",
       "</tr>\n",
       "</table><br/><br/>Notes:<br/>[1] Standard Errors assume that the covariance matrix of the errors is correctly specified.<br/>[2] The condition number is large, 3.59e+07. This might indicate that there are<br/>strong multicollinearity or other numerical problems."
      ],
      "text/plain": [
       "<class 'statsmodels.iolib.summary.Summary'>\n",
       "\"\"\"\n",
       "                            OLS Regression Results                            \n",
       "==============================================================================\n",
       "Dep. Variable:                  price   R-squared:                       0.607\n",
       "Model:                            OLS   Adj. R-squared:                  0.606\n",
       "Method:                 Least Squares   F-statistic:                     1303.\n",
       "Date:                Fri, 20 Nov 2020   Prob (F-statistic):               0.00\n",
       "Time:                        16:23:12   Log-Likelihood:            -1.5116e+05\n",
       "No. Observations:               11831   AIC:                         3.023e+05\n",
       "Df Residuals:                   11816   BIC:                         3.025e+05\n",
       "Df Model:                          14                                         \n",
       "Covariance Type:            nonrobust                                         \n",
       "======================================================================================================\n",
       "                                         coef    std err          t      P>|t|      [0.025      0.975]\n",
       "------------------------------------------------------------------------------------------------------\n",
       "Intercept                          -2.921e+07   3.39e+06     -8.616      0.000   -3.59e+07   -2.26e+07\n",
       "bedrooms                           -1.105e+04   1251.745     -8.825      0.000   -1.35e+04   -8592.814\n",
       "bathrooms                           1.798e+04   2080.000      8.643      0.000    1.39e+04    2.21e+04\n",
       "sqft_living                          107.9767      2.151     50.193      0.000     103.760     112.193\n",
       "sqft_lot                              -1.0327      0.298     -3.465      0.001      -1.617      -0.448\n",
       "floors                              1.688e+04   2271.710      7.432      0.000    1.24e+04    2.13e+04\n",
       "waterfront                          2.427e+05   3.25e+04      7.470      0.000    1.79e+05    3.06e+05\n",
       "yr_built                            -846.2638     38.911    -21.749      0.000    -922.535    -769.992\n",
       "year_sold                           1.541e+04   1683.258      9.152      0.000    1.21e+04    1.87e+04\n",
       "has_renovated                       1293.8384   5439.482      0.238      0.812   -9368.443     1.2e+04\n",
       "has_basement                        1.202e+04   1929.573      6.229      0.000    8237.852    1.58e+04\n",
       "grade_11                           -2.631e+04   6.07e+04     -0.434      0.665   -1.45e+05    9.26e+04\n",
       "zipcode_type_cheap_low_volume      -3.461e+04   1973.058    -17.542      0.000   -3.85e+04   -3.07e+04\n",
       "zipcode_type_expensive_high_volume  1.483e+05   2946.111     50.327      0.000    1.42e+05    1.54e+05\n",
       "zipcode_type_expensive_low_volume   1.462e+05   2188.840     66.778      0.000    1.42e+05     1.5e+05\n",
       "==============================================================================\n",
       "Omnibus:                      228.306   Durbin-Watson:                   1.992\n",
       "Prob(Omnibus):                  0.000   Jarque-Bera (JB):              244.382\n",
       "Skew:                           0.330   Prob(JB):                     8.57e-54\n",
       "Kurtosis:                       3.244   Cond. No.                     3.59e+07\n",
       "==============================================================================\n",
       "\n",
       "Notes:\n",
       "[1] Standard Errors assume that the covariance matrix of the errors is correctly specified.\n",
       "[2] The condition number is large, 3.59e+07. This might indicate that there are\n",
       "strong multicollinearity or other numerical problems.\n",
       "\"\"\""
      ]
     },
     "execution_count": 97,
     "metadata": {},
     "output_type": "execute_result"
    }
   ],
   "source": [
    "updf_b = dftrain.drop(['price'], axis=1)\n",
    "predictors = '+'.join(updf_b.columns)\n",
    "formula = outcome + '~' + predictors\n",
    "model = ols(formula=formula, data = dftrain).fit()\n",
    "model.summary()"
   ]
  },
  {
   "cell_type": "markdown",
   "metadata": {},
   "source": [
    "### QQ Plot"
   ]
  },
  {
   "cell_type": "code",
   "execution_count": 98,
   "metadata": {
    "scrolled": true
   },
   "outputs": [
    {
     "data": {
      "image/png": "[encoded data removed]",
      "text/plain": [
       "<Figure size 432x288 with 1 Axes>"
      ]
     },
     "metadata": {},
     "output_type": "display_data"
    }
   ],
   "source": [
    "fig = sm.graphics.qqplot(model.resid, dist=stats.norm, line='45', fit=True)"
   ]
  },
  {
   "cell_type": "markdown",
   "metadata": {},
   "source": [
    "### Homoscedasticity"
   ]
  },
  {
   "cell_type": "code",
   "execution_count": 99,
   "metadata": {
    "scrolled": true
   },
   "outputs": [
    {
     "data": {
      "image/png": "[encoded data removed]",
      "text/plain": [
       "<Figure size 432x288 with 1 Axes>"
      ]
     },
     "metadata": {},
     "output_type": "display_data"
    }
   ],
   "source": [
    "plt.scatter(model.predict(dftrain[updf_b.columns]), model.resid)\n",
    "plt.plot(model.predict(dftrain[updf_b.columns]), [0 for i in range(len(dftrain))]);"
   ]
  },
  {
   "cell_type": "markdown",
   "metadata": {},
   "source": [
    "## Third Model - P_Values"
   ]
  },
  {
   "cell_type": "markdown",
   "metadata": {},
   "source": [
    "### finding and fixing high p_values"
   ]
  },
  {
   "cell_type": "code",
   "execution_count": 100,
   "metadata": {},
   "outputs": [],
   "source": [
    "# finding the high p values\n",
    "summary = model.summary()\n",
    "p_table = summary.tables[1]\n",
    "p_table = pd.DataFrame(p_table.data)\n",
    "p_table.columns = p_table.iloc[0]\n",
    "p_table = p_table.drop(0)\n",
    "p_table = p_table.set_index(p_table.columns[0])\n",
    "p_table['P>|t|'] = p_table['P>|t|'].astype(float)"
   ]
  },
  {
   "cell_type": "code",
   "execution_count": 101,
   "metadata": {},
   "outputs": [
    {
     "name": "stdout",
     "output_type": "stream",
     "text": [
      "Our high p_values columns: ['has_renovated', 'grade_11']\n"
     ]
    }
   ],
   "source": [
    "#showing the high p values\n",
    "high_p_values = list(p_table[p_table['P>|t|'] >= 0.05].index)\n",
    "print(\"Our high p_values columns:\", high_p_values)"
   ]
  },
  {
   "cell_type": "code",
   "execution_count": 102,
   "metadata": {},
   "outputs": [],
   "source": [
    "# leaving the high p values out.\n",
    "x_cols = list(p_table[p_table['P>|t|'] < 0.05].index)\n",
    "x_cols.remove('Intercept')"
   ]
  },
  {
   "cell_type": "markdown",
   "metadata": {},
   "source": [
    "### Train-Test Split"
   ]
  },
  {
   "cell_type": "code",
   "execution_count": 103,
   "metadata": {},
   "outputs": [],
   "source": [
    "y = dftrain[['price']]\n",
    "X = dftrain[x_cols]\n",
    "\n",
    "X_train, X_test, y_train, y_test = train_test_split(X, y, test_size = 0.2, random_state = (123))"
   ]
  },
  {
   "cell_type": "code",
   "execution_count": 104,
   "metadata": {},
   "outputs": [],
   "source": [
    "linreg.fit(X_train, y_train)\n",
    "\n",
    "y_hat_train = linreg.predict(X_train)\n",
    "y_hat_test = linreg.predict(X_test)"
   ]
  },
  {
   "cell_type": "code",
   "execution_count": 105,
   "metadata": {},
   "outputs": [],
   "source": [
    "rmse_train = np.sqrt(mean_squared_error(y_train, y_hat_train))\n",
    "rmse_test = np.sqrt(mean_squared_error(y_test, y_hat_test))"
   ]
  },
  {
   "cell_type": "code",
   "execution_count": 106,
   "metadata": {},
   "outputs": [
    {
     "name": "stdout",
     "output_type": "stream",
     "text": [
      "RMSE Train: 85596.69\n",
      "RMSE Test: 85785.67\n"
     ]
    }
   ],
   "source": [
    "print(\"RMSE Train:\", round(rmse_train, 2))\n",
    "print(\"RMSE Test:\", round(rmse_test, 2))"
   ]
  },
  {
   "cell_type": "markdown",
   "metadata": {},
   "source": [
    "### model"
   ]
  },
  {
   "cell_type": "code",
   "execution_count": 107,
   "metadata": {
    "scrolled": true
   },
   "outputs": [
    {
     "data": {
      "text/html": [
       "<table class=\"simpletable\">\n",
       "<caption>OLS Regression Results</caption>\n",
       "<tr>\n",
       "  <th>Dep. Variable:</th>          <td>price</td>      <th>  R-squared:         </th>  <td>   0.607</td>  \n",
       "</tr>\n",
       "<tr>\n",
       "  <th>Model:</th>                   <td>OLS</td>       <th>  Adj. R-squared:    </th>  <td>   0.606</td>  \n",
       "</tr>\n",
       "<tr>\n",
       "  <th>Method:</th>             <td>Least Squares</td>  <th>  F-statistic:       </th>  <td>   1520.</td>  \n",
       "</tr>\n",
       "<tr>\n",
       "  <th>Date:</th>             <td>Fri, 20 Nov 2020</td> <th>  Prob (F-statistic):</th>   <td>  0.00</td>   \n",
       "</tr>\n",
       "<tr>\n",
       "  <th>Time:</th>                 <td>16:23:13</td>     <th>  Log-Likelihood:    </th> <td>-1.5116e+05</td>\n",
       "</tr>\n",
       "<tr>\n",
       "  <th>No. Observations:</th>      <td> 11831</td>      <th>  AIC:               </th>  <td>3.023e+05</td> \n",
       "</tr>\n",
       "<tr>\n",
       "  <th>Df Residuals:</th>          <td> 11818</td>      <th>  BIC:               </th>  <td>3.024e+05</td> \n",
       "</tr>\n",
       "<tr>\n",
       "  <th>Df Model:</th>              <td>    12</td>      <th>                     </th>      <td> </td>     \n",
       "</tr>\n",
       "<tr>\n",
       "  <th>Covariance Type:</th>      <td>nonrobust</td>    <th>                     </th>      <td> </td>     \n",
       "</tr>\n",
       "</table>\n",
       "<table class=\"simpletable\">\n",
       "<tr>\n",
       "                   <td></td>                     <th>coef</th>     <th>std err</th>      <th>t</th>      <th>P>|t|</th>  <th>[0.025</th>    <th>0.975]</th>  \n",
       "</tr>\n",
       "<tr>\n",
       "  <th>Intercept</th>                          <td>-2.917e+07</td> <td> 3.39e+06</td> <td>   -8.607</td> <td> 0.000</td> <td>-3.58e+07</td> <td>-2.25e+07</td>\n",
       "</tr>\n",
       "<tr>\n",
       "  <th>bedrooms</th>                           <td>-1.105e+04</td> <td> 1250.748</td> <td>   -8.837</td> <td> 0.000</td> <td>-1.35e+04</td> <td>-8600.626</td>\n",
       "</tr>\n",
       "<tr>\n",
       "  <th>bathrooms</th>                          <td> 1.803e+04</td> <td> 2071.578</td> <td>    8.701</td> <td> 0.000</td> <td>  1.4e+04</td> <td> 2.21e+04</td>\n",
       "</tr>\n",
       "<tr>\n",
       "  <th>sqft_living</th>                        <td>  107.9502</td> <td>    2.149</td> <td>   50.222</td> <td> 0.000</td> <td>  103.737</td> <td>  112.163</td>\n",
       "</tr>\n",
       "<tr>\n",
       "  <th>sqft_lot</th>                           <td>   -1.0342</td> <td>    0.298</td> <td>   -3.471</td> <td> 0.001</td> <td>   -1.618</td> <td>   -0.450</td>\n",
       "</tr>\n",
       "<tr>\n",
       "  <th>floors</th>                             <td>  1.69e+04</td> <td> 2269.382</td> <td>    7.449</td> <td> 0.000</td> <td> 1.25e+04</td> <td> 2.14e+04</td>\n",
       "</tr>\n",
       "<tr>\n",
       "  <th>waterfront</th>                         <td> 2.431e+05</td> <td> 3.25e+04</td> <td>    7.486</td> <td> 0.000</td> <td> 1.79e+05</td> <td> 3.07e+05</td>\n",
       "</tr>\n",
       "<tr>\n",
       "  <th>yr_built</th>                           <td> -848.2472</td> <td>   37.933</td> <td>  -22.362</td> <td> 0.000</td> <td> -922.601</td> <td> -773.893</td>\n",
       "</tr>\n",
       "<tr>\n",
       "  <th>year_sold</th>                          <td> 1.539e+04</td> <td> 1682.615</td> <td>    9.144</td> <td> 0.000</td> <td> 1.21e+04</td> <td> 1.87e+04</td>\n",
       "</tr>\n",
       "<tr>\n",
       "  <th>has_basement</th>                       <td> 1.202e+04</td> <td> 1928.061</td> <td>    6.232</td> <td> 0.000</td> <td> 8236.411</td> <td> 1.58e+04</td>\n",
       "</tr>\n",
       "<tr>\n",
       "  <th>zipcode_type_cheap_low_volume</th>      <td>-3.461e+04</td> <td> 1972.719</td> <td>  -17.543</td> <td> 0.000</td> <td>-3.85e+04</td> <td>-3.07e+04</td>\n",
       "</tr>\n",
       "<tr>\n",
       "  <th>zipcode_type_expensive_high_volume</th> <td> 1.482e+05</td> <td> 2944.358</td> <td>   50.348</td> <td> 0.000</td> <td> 1.42e+05</td> <td> 1.54e+05</td>\n",
       "</tr>\n",
       "<tr>\n",
       "  <th>zipcode_type_expensive_low_volume</th>  <td> 1.462e+05</td> <td> 2188.650</td> <td>   66.785</td> <td> 0.000</td> <td> 1.42e+05</td> <td>  1.5e+05</td>\n",
       "</tr>\n",
       "</table>\n",
       "<table class=\"simpletable\">\n",
       "<tr>\n",
       "  <th>Omnibus:</th>       <td>228.524</td> <th>  Durbin-Watson:     </th> <td>   1.993</td>\n",
       "</tr>\n",
       "<tr>\n",
       "  <th>Prob(Omnibus):</th> <td> 0.000</td>  <th>  Jarque-Bera (JB):  </th> <td> 244.625</td>\n",
       "</tr>\n",
       "<tr>\n",
       "  <th>Skew:</th>          <td> 0.330</td>  <th>  Prob(JB):          </th> <td>7.59e-54</td>\n",
       "</tr>\n",
       "<tr>\n",
       "  <th>Kurtosis:</th>      <td> 3.244</td>  <th>  Cond. No.          </th> <td>3.59e+07</td>\n",
       "</tr>\n",
       "</table><br/><br/>Notes:<br/>[1] Standard Errors assume that the covariance matrix of the errors is correctly specified.<br/>[2] The condition number is large, 3.59e+07. This might indicate that there are<br/>strong multicollinearity or other numerical problems."
      ],
      "text/plain": [
       "<class 'statsmodels.iolib.summary.Summary'>\n",
       "\"\"\"\n",
       "                            OLS Regression Results                            \n",
       "==============================================================================\n",
       "Dep. Variable:                  price   R-squared:                       0.607\n",
       "Model:                            OLS   Adj. R-squared:                  0.606\n",
       "Method:                 Least Squares   F-statistic:                     1520.\n",
       "Date:                Fri, 20 Nov 2020   Prob (F-statistic):               0.00\n",
       "Time:                        16:23:13   Log-Likelihood:            -1.5116e+05\n",
       "No. Observations:               11831   AIC:                         3.023e+05\n",
       "Df Residuals:                   11818   BIC:                         3.024e+05\n",
       "Df Model:                          12                                         \n",
       "Covariance Type:            nonrobust                                         \n",
       "======================================================================================================\n",
       "                                         coef    std err          t      P>|t|      [0.025      0.975]\n",
       "------------------------------------------------------------------------------------------------------\n",
       "Intercept                          -2.917e+07   3.39e+06     -8.607      0.000   -3.58e+07   -2.25e+07\n",
       "bedrooms                           -1.105e+04   1250.748     -8.837      0.000   -1.35e+04   -8600.626\n",
       "bathrooms                           1.803e+04   2071.578      8.701      0.000     1.4e+04    2.21e+04\n",
       "sqft_living                          107.9502      2.149     50.222      0.000     103.737     112.163\n",
       "sqft_lot                              -1.0342      0.298     -3.471      0.001      -1.618      -0.450\n",
       "floors                               1.69e+04   2269.382      7.449      0.000    1.25e+04    2.14e+04\n",
       "waterfront                          2.431e+05   3.25e+04      7.486      0.000    1.79e+05    3.07e+05\n",
       "yr_built                            -848.2472     37.933    -22.362      0.000    -922.601    -773.893\n",
       "year_sold                           1.539e+04   1682.615      9.144      0.000    1.21e+04    1.87e+04\n",
       "has_basement                        1.202e+04   1928.061      6.232      0.000    8236.411    1.58e+04\n",
       "zipcode_type_cheap_low_volume      -3.461e+04   1972.719    -17.543      0.000   -3.85e+04   -3.07e+04\n",
       "zipcode_type_expensive_high_volume  1.482e+05   2944.358     50.348      0.000    1.42e+05    1.54e+05\n",
       "zipcode_type_expensive_low_volume   1.462e+05   2188.650     66.785      0.000    1.42e+05     1.5e+05\n",
       "==============================================================================\n",
       "Omnibus:                      228.524   Durbin-Watson:                   1.993\n",
       "Prob(Omnibus):                  0.000   Jarque-Bera (JB):              244.625\n",
       "Skew:                           0.330   Prob(JB):                     7.59e-54\n",
       "Kurtosis:                       3.244   Cond. No.                     3.59e+07\n",
       "==============================================================================\n",
       "\n",
       "Notes:\n",
       "[1] Standard Errors assume that the covariance matrix of the errors is correctly specified.\n",
       "[2] The condition number is large, 3.59e+07. This might indicate that there are\n",
       "strong multicollinearity or other numerical problems.\n",
       "\"\"\""
      ]
     },
     "execution_count": 107,
     "metadata": {},
     "output_type": "execute_result"
    }
   ],
   "source": [
    "predictors = '+'.join(x_cols)\n",
    "formula = outcome + '~' + predictors\n",
    "model = ols(formula=formula, data = dftrain).fit()\n",
    "model.summary()"
   ]
  },
  {
   "cell_type": "markdown",
   "metadata": {},
   "source": [
    "### QQ plot"
   ]
  },
  {
   "cell_type": "code",
   "execution_count": 108,
   "metadata": {
    "scrolled": true
   },
   "outputs": [
    {
     "data": {
      "image/png": "[encoded data removed]",
      "text/plain": [
       "<Figure size 432x288 with 1 Axes>"
      ]
     },
     "metadata": {},
     "output_type": "display_data"
    }
   ],
   "source": [
    "fig = sm.graphics.qqplot(model.resid, dist=stats.norm, line='45', fit=True)"
   ]
  },
  {
   "cell_type": "markdown",
   "metadata": {
    "code_folding": []
   },
   "source": [
    "### Homoscedasiticity"
   ]
  },
  {
   "cell_type": "code",
   "execution_count": 109,
   "metadata": {},
   "outputs": [
    {
     "data": {
      "image/png": "[encoded data removed]",
      "text/plain": [
       "<Figure size 432x288 with 1 Axes>"
      ]
     },
     "metadata": {},
     "output_type": "display_data"
    }
   ],
   "source": [
    "plt.scatter(model.predict(dftrain[x_cols]), model.resid)\n",
    "plt.plot(model.predict(dftrain[x_cols]), [0 for i in range(len(dftrain))]);"
   ]
  },
  {
   "cell_type": "markdown",
   "metadata": {},
   "source": [
    "## Fourth Model  - Transformation"
   ]
  },
  {
   "cell_type": "code",
   "execution_count": 110,
   "metadata": {
    "scrolled": true
   },
   "outputs": [
    {
     "data": {
      "image/png": "[encoded data removed]",
      "text/plain": [
       "<Figure size 432x288 with 1 Axes>"
      ]
     },
     "metadata": {},
     "output_type": "display_data"
    }
   ],
   "source": [
    "cont = ['sqft_living','sqft_lot']\n",
    "\n",
    "sns.histplot(data = dftrain, x = 'sqft_living');"
   ]
  },
  {
   "cell_type": "code",
   "execution_count": 111,
   "metadata": {},
   "outputs": [
    {
     "data": {
      "image/png": "[encoded data removed]",
      "text/plain": [
       "<Figure size 432x288 with 1 Axes>"
      ]
     },
     "metadata": {},
     "output_type": "display_data"
    }
   ],
   "source": [
    "sns.histplot(data = dftrain, x = 'sqft_lot');"
   ]
  },
  {
   "cell_type": "code",
   "execution_count": 112,
   "metadata": {},
   "outputs": [],
   "source": [
    "dfcont = dftrain[cont]\n",
    "log_names = [f'{column}_log' for column in dfcont.columns]\n",
    "\n",
    "df_log = np.log(dfcont)\n",
    "df_log.columns = log_names\n",
    "\n",
    "for col in df_log:\n",
    "    dftrain[col] = df_log[col]"
   ]
  },
  {
   "cell_type": "code",
   "execution_count": 113,
   "metadata": {
    "scrolled": true
   },
   "outputs": [
    {
     "data": {
      "text/html": [
       "<div>\n",
       "<style scoped>\n",
       "    .dataframe tbody tr th:only-of-type {\n",
       "        vertical-align: middle;\n",
       "    }\n",
       "\n",
       "    .dataframe tbody tr th {\n",
       "        vertical-align: top;\n",
       "    }\n",
       "\n",
       "    .dataframe thead th {\n",
       "        text-align: right;\n",
       "    }\n",
       "</style>\n",
       "<table border=\"1\" class=\"dataframe\">\n",
       "  <thead>\n",
       "    <tr style=\"text-align: right;\">\n",
       "      <th></th>\n",
       "      <th>bedrooms</th>\n",
       "      <th>bathrooms</th>\n",
       "      <th>sqft_living</th>\n",
       "      <th>sqft_lot</th>\n",
       "      <th>floors</th>\n",
       "      <th>waterfront</th>\n",
       "      <th>yr_built</th>\n",
       "      <th>year_sold</th>\n",
       "      <th>has_renovated</th>\n",
       "      <th>has_basement</th>\n",
       "      <th>grade_11</th>\n",
       "      <th>zipcode_type_cheap_low_volume</th>\n",
       "      <th>zipcode_type_expensive_high_volume</th>\n",
       "      <th>zipcode_type_expensive_low_volume</th>\n",
       "      <th>price</th>\n",
       "      <th>sqft_living_log</th>\n",
       "      <th>sqft_lot_log</th>\n",
       "    </tr>\n",
       "  </thead>\n",
       "  <tbody>\n",
       "    <tr>\n",
       "      <th>13460</th>\n",
       "      <td>2</td>\n",
       "      <td>1.00</td>\n",
       "      <td>1000</td>\n",
       "      <td>3700</td>\n",
       "      <td>1.0</td>\n",
       "      <td>0</td>\n",
       "      <td>1929</td>\n",
       "      <td>2015</td>\n",
       "      <td>0</td>\n",
       "      <td>1</td>\n",
       "      <td>0</td>\n",
       "      <td>0</td>\n",
       "      <td>0</td>\n",
       "      <td>0</td>\n",
       "      <td>257000</td>\n",
       "      <td>6.907755</td>\n",
       "      <td>8.216088</td>\n",
       "    </tr>\n",
       "    <tr>\n",
       "      <th>7880</th>\n",
       "      <td>5</td>\n",
       "      <td>2.00</td>\n",
       "      <td>2610</td>\n",
       "      <td>5009</td>\n",
       "      <td>1.0</td>\n",
       "      <td>0</td>\n",
       "      <td>1988</td>\n",
       "      <td>2014</td>\n",
       "      <td>0</td>\n",
       "      <td>1</td>\n",
       "      <td>0</td>\n",
       "      <td>0</td>\n",
       "      <td>1</td>\n",
       "      <td>0</td>\n",
       "      <td>439000</td>\n",
       "      <td>7.867106</td>\n",
       "      <td>8.518992</td>\n",
       "    </tr>\n",
       "    <tr>\n",
       "      <th>37</th>\n",
       "      <td>4</td>\n",
       "      <td>2.00</td>\n",
       "      <td>2360</td>\n",
       "      <td>6000</td>\n",
       "      <td>2.0</td>\n",
       "      <td>0</td>\n",
       "      <td>1904</td>\n",
       "      <td>2014</td>\n",
       "      <td>0</td>\n",
       "      <td>0</td>\n",
       "      <td>0</td>\n",
       "      <td>0</td>\n",
       "      <td>0</td>\n",
       "      <td>1</td>\n",
       "      <td>640000</td>\n",
       "      <td>7.766417</td>\n",
       "      <td>8.699515</td>\n",
       "    </tr>\n",
       "    <tr>\n",
       "      <th>15457</th>\n",
       "      <td>2</td>\n",
       "      <td>1.00</td>\n",
       "      <td>980</td>\n",
       "      <td>2130</td>\n",
       "      <td>1.0</td>\n",
       "      <td>0</td>\n",
       "      <td>1918</td>\n",
       "      <td>2014</td>\n",
       "      <td>0</td>\n",
       "      <td>1</td>\n",
       "      <td>0</td>\n",
       "      <td>0</td>\n",
       "      <td>1</td>\n",
       "      <td>0</td>\n",
       "      <td>400000</td>\n",
       "      <td>6.887553</td>\n",
       "      <td>7.663877</td>\n",
       "    </tr>\n",
       "    <tr>\n",
       "      <th>3905</th>\n",
       "      <td>4</td>\n",
       "      <td>2.25</td>\n",
       "      <td>2270</td>\n",
       "      <td>9100</td>\n",
       "      <td>2.0</td>\n",
       "      <td>0</td>\n",
       "      <td>1978</td>\n",
       "      <td>2015</td>\n",
       "      <td>0</td>\n",
       "      <td>0</td>\n",
       "      <td>0</td>\n",
       "      <td>0</td>\n",
       "      <td>0</td>\n",
       "      <td>0</td>\n",
       "      <td>420000</td>\n",
       "      <td>7.727535</td>\n",
       "      <td>9.116030</td>\n",
       "    </tr>\n",
       "    <tr>\n",
       "      <th>...</th>\n",
       "      <td>...</td>\n",
       "      <td>...</td>\n",
       "      <td>...</td>\n",
       "      <td>...</td>\n",
       "      <td>...</td>\n",
       "      <td>...</td>\n",
       "      <td>...</td>\n",
       "      <td>...</td>\n",
       "      <td>...</td>\n",
       "      <td>...</td>\n",
       "      <td>...</td>\n",
       "      <td>...</td>\n",
       "      <td>...</td>\n",
       "      <td>...</td>\n",
       "      <td>...</td>\n",
       "      <td>...</td>\n",
       "      <td>...</td>\n",
       "    </tr>\n",
       "    <tr>\n",
       "      <th>7672</th>\n",
       "      <td>3</td>\n",
       "      <td>1.75</td>\n",
       "      <td>2010</td>\n",
       "      <td>8072</td>\n",
       "      <td>1.0</td>\n",
       "      <td>0</td>\n",
       "      <td>1974</td>\n",
       "      <td>2015</td>\n",
       "      <td>0</td>\n",
       "      <td>0</td>\n",
       "      <td>0</td>\n",
       "      <td>0</td>\n",
       "      <td>1</td>\n",
       "      <td>0</td>\n",
       "      <td>639500</td>\n",
       "      <td>7.605890</td>\n",
       "      <td>8.996157</td>\n",
       "    </tr>\n",
       "    <tr>\n",
       "      <th>17970</th>\n",
       "      <td>1</td>\n",
       "      <td>0.75</td>\n",
       "      <td>930</td>\n",
       "      <td>6600</td>\n",
       "      <td>1.0</td>\n",
       "      <td>0</td>\n",
       "      <td>1924</td>\n",
       "      <td>2015</td>\n",
       "      <td>0</td>\n",
       "      <td>0</td>\n",
       "      <td>0</td>\n",
       "      <td>0</td>\n",
       "      <td>0</td>\n",
       "      <td>0</td>\n",
       "      <td>351000</td>\n",
       "      <td>6.835185</td>\n",
       "      <td>8.794825</td>\n",
       "    </tr>\n",
       "    <tr>\n",
       "      <th>1950</th>\n",
       "      <td>3</td>\n",
       "      <td>2.00</td>\n",
       "      <td>1370</td>\n",
       "      <td>9760</td>\n",
       "      <td>1.0</td>\n",
       "      <td>0</td>\n",
       "      <td>1979</td>\n",
       "      <td>2015</td>\n",
       "      <td>0</td>\n",
       "      <td>1</td>\n",
       "      <td>0</td>\n",
       "      <td>0</td>\n",
       "      <td>0</td>\n",
       "      <td>0</td>\n",
       "      <td>232500</td>\n",
       "      <td>7.222566</td>\n",
       "      <td>9.186048</td>\n",
       "    </tr>\n",
       "    <tr>\n",
       "      <th>17077</th>\n",
       "      <td>2</td>\n",
       "      <td>1.00</td>\n",
       "      <td>860</td>\n",
       "      <td>7250</td>\n",
       "      <td>1.0</td>\n",
       "      <td>0</td>\n",
       "      <td>1949</td>\n",
       "      <td>2014</td>\n",
       "      <td>0</td>\n",
       "      <td>0</td>\n",
       "      <td>0</td>\n",
       "      <td>0</td>\n",
       "      <td>0</td>\n",
       "      <td>0</td>\n",
       "      <td>305000</td>\n",
       "      <td>6.756932</td>\n",
       "      <td>8.888757</td>\n",
       "    </tr>\n",
       "    <tr>\n",
       "      <th>5289</th>\n",
       "      <td>3</td>\n",
       "      <td>1.75</td>\n",
       "      <td>1270</td>\n",
       "      <td>4800</td>\n",
       "      <td>1.0</td>\n",
       "      <td>0</td>\n",
       "      <td>1953</td>\n",
       "      <td>2014</td>\n",
       "      <td>0</td>\n",
       "      <td>0</td>\n",
       "      <td>0</td>\n",
       "      <td>0</td>\n",
       "      <td>1</td>\n",
       "      <td>0</td>\n",
       "      <td>335000</td>\n",
       "      <td>7.146772</td>\n",
       "      <td>8.476371</td>\n",
       "    </tr>\n",
       "  </tbody>\n",
       "</table>\n",
       "<p>11831 rows × 17 columns</p>\n",
       "</div>"
      ],
      "text/plain": [
       "       bedrooms  bathrooms  sqft_living  sqft_lot  floors  waterfront  \\\n",
       "13460         2       1.00         1000      3700     1.0           0   \n",
       "7880          5       2.00         2610      5009     1.0           0   \n",
       "37            4       2.00         2360      6000     2.0           0   \n",
       "15457         2       1.00          980      2130     1.0           0   \n",
       "3905          4       2.25         2270      9100     2.0           0   \n",
       "...         ...        ...          ...       ...     ...         ...   \n",
       "7672          3       1.75         2010      8072     1.0           0   \n",
       "17970         1       0.75          930      6600     1.0           0   \n",
       "1950          3       2.00         1370      9760     1.0           0   \n",
       "17077         2       1.00          860      7250     1.0           0   \n",
       "5289          3       1.75         1270      4800     1.0           0   \n",
       "\n",
       "       yr_built  year_sold  has_renovated  has_basement  grade_11  \\\n",
       "13460      1929       2015              0             1         0   \n",
       "7880       1988       2014              0             1         0   \n",
       "37         1904       2014              0             0         0   \n",
       "15457      1918       2014              0             1         0   \n",
       "3905       1978       2015              0             0         0   \n",
       "...         ...        ...            ...           ...       ...   \n",
       "7672       1974       2015              0             0         0   \n",
       "17970      1924       2015              0             0         0   \n",
       "1950       1979       2015              0             1         0   \n",
       "17077      1949       2014              0             0         0   \n",
       "5289       1953       2014              0             0         0   \n",
       "\n",
       "       zipcode_type_cheap_low_volume  zipcode_type_expensive_high_volume  \\\n",
       "13460                              0                                   0   \n",
       "7880                               0                                   1   \n",
       "37                                 0                                   0   \n",
       "15457                              0                                   1   \n",
       "3905                               0                                   0   \n",
       "...                              ...                                 ...   \n",
       "7672                               0                                   1   \n",
       "17970                              0                                   0   \n",
       "1950                               0                                   0   \n",
       "17077                              0                                   0   \n",
       "5289                               0                                   1   \n",
       "\n",
       "       zipcode_type_expensive_low_volume   price  sqft_living_log  \\\n",
       "13460                                  0  257000         6.907755   \n",
       "7880                                   0  439000         7.867106   \n",
       "37                                     1  640000         7.766417   \n",
       "15457                                  0  400000         6.887553   \n",
       "3905                                   0  420000         7.727535   \n",
       "...                                  ...     ...              ...   \n",
       "7672                                   0  639500         7.605890   \n",
       "17970                                  0  351000         6.835185   \n",
       "1950                                   0  232500         7.222566   \n",
       "17077                                  0  305000         6.756932   \n",
       "5289                                   0  335000         7.146772   \n",
       "\n",
       "       sqft_lot_log  \n",
       "13460      8.216088  \n",
       "7880       8.518992  \n",
       "37         8.699515  \n",
       "15457      7.663877  \n",
       "3905       9.116030  \n",
       "...             ...  \n",
       "7672       8.996157  \n",
       "17970      8.794825  \n",
       "1950       9.186048  \n",
       "17077      8.888757  \n",
       "5289       8.476371  \n",
       "\n",
       "[11831 rows x 17 columns]"
      ]
     },
     "execution_count": 113,
     "metadata": {},
     "output_type": "execute_result"
    }
   ],
   "source": [
    "dftrain"
   ]
  },
  {
   "cell_type": "code",
   "execution_count": 114,
   "metadata": {},
   "outputs": [
    {
     "data": {
      "image/png": "[encoded data removed]",
      "text/plain": [
       "<Figure size 432x288 with 1 Axes>"
      ]
     },
     "metadata": {},
     "output_type": "display_data"
    }
   ],
   "source": [
    "sns.histplot(data = dftrain, x = 'sqft_living_log');"
   ]
  },
  {
   "cell_type": "code",
   "execution_count": 115,
   "metadata": {
    "scrolled": true
   },
   "outputs": [
    {
     "data": {
      "image/png": "[encoded data removed]",
      "text/plain": [
       "<Figure size 432x288 with 1 Axes>"
      ]
     },
     "metadata": {},
     "output_type": "display_data"
    }
   ],
   "source": [
    "sns.histplot(data = dftrain, x = 'sqft_lot_log');"
   ]
  },
  {
   "cell_type": "code",
   "execution_count": 116,
   "metadata": {},
   "outputs": [],
   "source": [
    "x_cols.remove('sqft_living')\n",
    "# x_cols.remove('sqft_lot')\n",
    "\n",
    "x_cols.append('sqft_living_log')\n",
    "# x_cols.append('sqft_lot_log')"
   ]
  },
  {
   "cell_type": "markdown",
   "metadata": {},
   "source": [
    "### Train-Test Split"
   ]
  },
  {
   "cell_type": "code",
   "execution_count": 117,
   "metadata": {},
   "outputs": [],
   "source": [
    "y = dftrain[['price']]\n",
    "X = dftrain[x_cols]\n",
    "\n",
    "X_train, X_test, y_train, y_test = train_test_split(X, y, test_size = 0.2, random_state = (123))"
   ]
  },
  {
   "cell_type": "code",
   "execution_count": 118,
   "metadata": {},
   "outputs": [],
   "source": [
    "linreg.fit(X_train, y_train)\n",
    "\n",
    "y_hat_train = linreg.predict(X_train)\n",
    "y_hat_test = linreg.predict(X_test)"
   ]
  },
  {
   "cell_type": "code",
   "execution_count": 119,
   "metadata": {
    "scrolled": true
   },
   "outputs": [],
   "source": [
    "rmse_train = np.sqrt(mean_squared_error(y_train, y_hat_train))\n",
    "rmse_test = np.sqrt(mean_squared_error(y_test, y_hat_test))"
   ]
  },
  {
   "cell_type": "code",
   "execution_count": 120,
   "metadata": {},
   "outputs": [
    {
     "name": "stdout",
     "output_type": "stream",
     "text": [
      "RMSE Train: 86389.28\n",
      "RMSE Test: 86789.63\n"
     ]
    }
   ],
   "source": [
    "print(\"RMSE Train:\", round(rmse_train, 2))\n",
    "print(\"RMSE Test:\", round(rmse_test, 2))"
   ]
  },
  {
   "cell_type": "code",
   "execution_count": 121,
   "metadata": {},
   "outputs": [],
   "source": [
    "#test>train....overfit"
   ]
  },
  {
   "cell_type": "markdown",
   "metadata": {},
   "source": [
    "### model"
   ]
  },
  {
   "cell_type": "code",
   "execution_count": 122,
   "metadata": {
    "scrolled": true
   },
   "outputs": [
    {
     "data": {
      "text/html": [
       "<table class=\"simpletable\">\n",
       "<caption>OLS Regression Results</caption>\n",
       "<tr>\n",
       "  <th>Dep. Variable:</th>          <td>price</td>      <th>  R-squared:         </th>  <td>   0.599</td>  \n",
       "</tr>\n",
       "<tr>\n",
       "  <th>Model:</th>                   <td>OLS</td>       <th>  Adj. R-squared:    </th>  <td>   0.599</td>  \n",
       "</tr>\n",
       "<tr>\n",
       "  <th>Method:</th>             <td>Least Squares</td>  <th>  F-statistic:       </th>  <td>   1472.</td>  \n",
       "</tr>\n",
       "<tr>\n",
       "  <th>Date:</th>             <td>Fri, 20 Nov 2020</td> <th>  Prob (F-statistic):</th>   <td>  0.00</td>   \n",
       "</tr>\n",
       "<tr>\n",
       "  <th>Time:</th>                 <td>16:23:15</td>     <th>  Log-Likelihood:    </th> <td>-1.5127e+05</td>\n",
       "</tr>\n",
       "<tr>\n",
       "  <th>No. Observations:</th>      <td> 11831</td>      <th>  AIC:               </th>  <td>3.026e+05</td> \n",
       "</tr>\n",
       "<tr>\n",
       "  <th>Df Residuals:</th>          <td> 11818</td>      <th>  BIC:               </th>  <td>3.027e+05</td> \n",
       "</tr>\n",
       "<tr>\n",
       "  <th>Df Model:</th>              <td>    12</td>      <th>                     </th>      <td> </td>     \n",
       "</tr>\n",
       "<tr>\n",
       "  <th>Covariance Type:</th>      <td>nonrobust</td>    <th>                     </th>      <td> </td>     \n",
       "</tr>\n",
       "</table>\n",
       "<table class=\"simpletable\">\n",
       "<tr>\n",
       "                   <td></td>                     <th>coef</th>     <th>std err</th>      <th>t</th>      <th>P>|t|</th>  <th>[0.025</th>    <th>0.975]</th>  \n",
       "</tr>\n",
       "<tr>\n",
       "  <th>Intercept</th>                          <td>-3.071e+07</td> <td> 3.42e+06</td> <td>   -8.975</td> <td> 0.000</td> <td>-3.74e+07</td> <td> -2.4e+07</td>\n",
       "</tr>\n",
       "<tr>\n",
       "  <th>bedrooms</th>                           <td>-1.224e+04</td> <td> 1284.930</td> <td>   -9.524</td> <td> 0.000</td> <td>-1.48e+04</td> <td>-9718.947</td>\n",
       "</tr>\n",
       "<tr>\n",
       "  <th>bathrooms</th>                          <td> 1.806e+04</td> <td> 2109.391</td> <td>    8.560</td> <td> 0.000</td> <td> 1.39e+04</td> <td> 2.22e+04</td>\n",
       "</tr>\n",
       "<tr>\n",
       "  <th>sqft_lot</th>                           <td>   -1.0397</td> <td>    0.302</td> <td>   -3.440</td> <td> 0.001</td> <td>   -1.632</td> <td>   -0.447</td>\n",
       "</tr>\n",
       "<tr>\n",
       "  <th>floors</th>                             <td> 1.682e+04</td> <td> 2295.561</td> <td>    7.326</td> <td> 0.000</td> <td> 1.23e+04</td> <td> 2.13e+04</td>\n",
       "</tr>\n",
       "<tr>\n",
       "  <th>waterfront</th>                         <td> 2.433e+05</td> <td> 3.28e+04</td> <td>    7.421</td> <td> 0.000</td> <td> 1.79e+05</td> <td> 3.08e+05</td>\n",
       "</tr>\n",
       "<tr>\n",
       "  <th>yr_built</th>                           <td> -885.7932</td> <td>   38.310</td> <td>  -23.122</td> <td> 0.000</td> <td> -960.887</td> <td> -810.700</td>\n",
       "</tr>\n",
       "<tr>\n",
       "  <th>year_sold</th>                          <td> 1.561e+04</td> <td> 1699.077</td> <td>    9.185</td> <td> 0.000</td> <td> 1.23e+04</td> <td> 1.89e+04</td>\n",
       "</tr>\n",
       "<tr>\n",
       "  <th>has_basement</th>                       <td> 6633.7056</td> <td> 1975.928</td> <td>    3.357</td> <td> 0.001</td> <td> 2760.561</td> <td> 1.05e+04</td>\n",
       "</tr>\n",
       "<tr>\n",
       "  <th>zipcode_type_cheap_low_volume</th>      <td>-3.507e+04</td> <td> 1991.756</td> <td>  -17.606</td> <td> 0.000</td> <td> -3.9e+04</td> <td>-3.12e+04</td>\n",
       "</tr>\n",
       "<tr>\n",
       "  <th>zipcode_type_expensive_high_volume</th> <td> 1.468e+05</td> <td> 2972.748</td> <td>   49.387</td> <td> 0.000</td> <td> 1.41e+05</td> <td> 1.53e+05</td>\n",
       "</tr>\n",
       "<tr>\n",
       "  <th>zipcode_type_expensive_low_volume</th>  <td> 1.453e+05</td> <td> 2210.333</td> <td>   65.741</td> <td> 0.000</td> <td> 1.41e+05</td> <td>  1.5e+05</td>\n",
       "</tr>\n",
       "<tr>\n",
       "  <th>sqft_living_log</th>                    <td> 1.851e+05</td> <td> 3906.334</td> <td>   47.394</td> <td> 0.000</td> <td> 1.77e+05</td> <td> 1.93e+05</td>\n",
       "</tr>\n",
       "</table>\n",
       "<table class=\"simpletable\">\n",
       "<tr>\n",
       "  <th>Omnibus:</th>       <td>230.744</td> <th>  Durbin-Watson:     </th> <td>   1.996</td>\n",
       "</tr>\n",
       "<tr>\n",
       "  <th>Prob(Omnibus):</th> <td> 0.000</td>  <th>  Jarque-Bera (JB):  </th> <td> 245.112</td>\n",
       "</tr>\n",
       "<tr>\n",
       "  <th>Skew:</th>          <td> 0.339</td>  <th>  Prob(JB):          </th> <td>5.95e-54</td>\n",
       "</tr>\n",
       "<tr>\n",
       "  <th>Kurtosis:</th>      <td> 3.191</td>  <th>  Cond. No.          </th> <td>3.52e+07</td>\n",
       "</tr>\n",
       "</table><br/><br/>Notes:<br/>[1] Standard Errors assume that the covariance matrix of the errors is correctly specified.<br/>[2] The condition number is large, 3.52e+07. This might indicate that there are<br/>strong multicollinearity or other numerical problems."
      ],
      "text/plain": [
       "<class 'statsmodels.iolib.summary.Summary'>\n",
       "\"\"\"\n",
       "                            OLS Regression Results                            \n",
       "==============================================================================\n",
       "Dep. Variable:                  price   R-squared:                       0.599\n",
       "Model:                            OLS   Adj. R-squared:                  0.599\n",
       "Method:                 Least Squares   F-statistic:                     1472.\n",
       "Date:                Fri, 20 Nov 2020   Prob (F-statistic):               0.00\n",
       "Time:                        16:23:15   Log-Likelihood:            -1.5127e+05\n",
       "No. Observations:               11831   AIC:                         3.026e+05\n",
       "Df Residuals:                   11818   BIC:                         3.027e+05\n",
       "Df Model:                          12                                         \n",
       "Covariance Type:            nonrobust                                         \n",
       "======================================================================================================\n",
       "                                         coef    std err          t      P>|t|      [0.025      0.975]\n",
       "------------------------------------------------------------------------------------------------------\n",
       "Intercept                          -3.071e+07   3.42e+06     -8.975      0.000   -3.74e+07    -2.4e+07\n",
       "bedrooms                           -1.224e+04   1284.930     -9.524      0.000   -1.48e+04   -9718.947\n",
       "bathrooms                           1.806e+04   2109.391      8.560      0.000    1.39e+04    2.22e+04\n",
       "sqft_lot                              -1.0397      0.302     -3.440      0.001      -1.632      -0.447\n",
       "floors                              1.682e+04   2295.561      7.326      0.000    1.23e+04    2.13e+04\n",
       "waterfront                          2.433e+05   3.28e+04      7.421      0.000    1.79e+05    3.08e+05\n",
       "yr_built                            -885.7932     38.310    -23.122      0.000    -960.887    -810.700\n",
       "year_sold                           1.561e+04   1699.077      9.185      0.000    1.23e+04    1.89e+04\n",
       "has_basement                        6633.7056   1975.928      3.357      0.001    2760.561    1.05e+04\n",
       "zipcode_type_cheap_low_volume      -3.507e+04   1991.756    -17.606      0.000    -3.9e+04   -3.12e+04\n",
       "zipcode_type_expensive_high_volume  1.468e+05   2972.748     49.387      0.000    1.41e+05    1.53e+05\n",
       "zipcode_type_expensive_low_volume   1.453e+05   2210.333     65.741      0.000    1.41e+05     1.5e+05\n",
       "sqft_living_log                     1.851e+05   3906.334     47.394      0.000    1.77e+05    1.93e+05\n",
       "==============================================================================\n",
       "Omnibus:                      230.744   Durbin-Watson:                   1.996\n",
       "Prob(Omnibus):                  0.000   Jarque-Bera (JB):              245.112\n",
       "Skew:                           0.339   Prob(JB):                     5.95e-54\n",
       "Kurtosis:                       3.191   Cond. No.                     3.52e+07\n",
       "==============================================================================\n",
       "\n",
       "Notes:\n",
       "[1] Standard Errors assume that the covariance matrix of the errors is correctly specified.\n",
       "[2] The condition number is large, 3.52e+07. This might indicate that there are\n",
       "strong multicollinearity or other numerical problems.\n",
       "\"\"\""
      ]
     },
     "execution_count": 122,
     "metadata": {},
     "output_type": "execute_result"
    }
   ],
   "source": [
    "predictors = '+'.join(x_cols)\n",
    "formula = outcome + '~' + predictors\n",
    "model = ols(formula=formula, data = dftrain).fit()\n",
    "model.summary()"
   ]
  },
  {
   "cell_type": "markdown",
   "metadata": {},
   "source": [
    "### QQ Plot"
   ]
  },
  {
   "cell_type": "code",
   "execution_count": 123,
   "metadata": {},
   "outputs": [
    {
     "data": {
      "image/png": "[encoded data removed]",
      "text/plain": [
       "<Figure size 432x288 with 1 Axes>"
      ]
     },
     "metadata": {},
     "output_type": "display_data"
    }
   ],
   "source": [
    "fig = sm.graphics.qqplot(model.resid, dist=stats.norm, line='45', fit=True)"
   ]
  },
  {
   "cell_type": "markdown",
   "metadata": {},
   "source": [
    "###  Homoscedasiticity"
   ]
  },
  {
   "cell_type": "code",
   "execution_count": 124,
   "metadata": {},
   "outputs": [
    {
     "data": {
      "image/png": "[encoded data removed]",
      "text/plain": [
       "<Figure size 432x288 with 1 Axes>"
      ]
     },
     "metadata": {},
     "output_type": "display_data"
    }
   ],
   "source": [
    "plt.scatter(model.predict(dftrain[x_cols]), model.resid)\n",
    "plt.plot(model.predict(dftrain[x_cols]), [0 for i in range(len(dftrain))]);"
   ]
  },
  {
   "cell_type": "code",
   "execution_count": null,
   "metadata": {},
   "outputs": [],
   "source": []
  }
 ],
 "metadata": {
  "kernelspec": {
   "display_name": "Python 3",
   "language": "python",
   "name": "python3"
  },
  "language_info": {
   "codemirror_mode": {
    "name": "ipython",
    "version": 3
   },
   "file_extension": ".py",
   "mimetype": "text/x-python",
   "name": "python",
   "nbconvert_exporter": "python",
   "pygments_lexer": "ipython3",
   "version": "3.8.5"
  },
  "toc": {
   "base_numbering": 1,
   "nav_menu": {},
   "number_sections": true,
   "sideBar": true,
   "skip_h1_title": false,
   "title_cell": "Table of Contents",
   "title_sidebar": "Contents",
   "toc_cell": false,
   "toc_position": {
    "height": "calc(100% - 180px)",
    "left": "10px",
    "top": "150px",
    "width": "384px"
   },
   "toc_section_display": true,
   "toc_window_display": true
  }
 },
 "nbformat": 4,
 "nbformat_minor": 4
}
